{
 "cells": [
  {
   "cell_type": "code",
   "execution_count": 18,
   "metadata": {},
   "outputs": [],
   "source": [
    "import pandas as pd\n",
    "import numpy as np\n",
    "%matplotlib inline"
   ]
  },
  {
   "cell_type": "code",
   "execution_count": 2,
   "metadata": {},
   "outputs": [],
   "source": [
    "from plotly import __version__"
   ]
  },
  {
   "cell_type": "code",
   "execution_count": 3,
   "metadata": {},
   "outputs": [
    {
     "name": "stdout",
     "output_type": "stream",
     "text": [
      "4.5.0\n"
     ]
    }
   ],
   "source": [
    "print(__version__)"
   ]
  },
  {
   "cell_type": "code",
   "execution_count": 5,
   "metadata": {},
   "outputs": [],
   "source": [
    "import cufflinks as cf"
   ]
  },
  {
   "cell_type": "code",
   "execution_count": 8,
   "metadata": {},
   "outputs": [],
   "source": [
    "from plotly.offline import download_plotlyjs, init_notebook_mode, plot, iplot"
   ]
  },
  {
   "cell_type": "code",
   "execution_count": 9,
   "metadata": {},
   "outputs": [
    {
     "data": {
      "text/html": [
       "        <script type=\"text/javascript\">\n",
       "        window.PlotlyConfig = {MathJaxConfig: 'local'};\n",
       "        if (window.MathJax) {MathJax.Hub.Config({SVG: {font: \"STIX-Web\"}});}\n",
       "        if (typeof require !== 'undefined') {\n",
       "        require.undef(\"plotly\");\n",
       "        requirejs.config({\n",
       "            paths: {\n",
       "                'plotly': ['https://cdn.plot.ly/plotly-latest.min']\n",
       "            }\n",
       "        });\n",
       "        require(['plotly'], function(Plotly) {\n",
       "            window._Plotly = Plotly;\n",
       "        });\n",
       "        }\n",
       "        </script>\n",
       "        "
      ]
     },
     "metadata": {},
     "output_type": "display_data"
    }
   ],
   "source": [
    "init_notebook_mode(connected=True)"
   ]
  },
  {
   "cell_type": "code",
   "execution_count": 10,
   "metadata": {},
   "outputs": [
    {
     "data": {
      "text/html": [
       "        <script type=\"text/javascript\">\n",
       "        window.PlotlyConfig = {MathJaxConfig: 'local'};\n",
       "        if (window.MathJax) {MathJax.Hub.Config({SVG: {font: \"STIX-Web\"}});}\n",
       "        if (typeof require !== 'undefined') {\n",
       "        require.undef(\"plotly\");\n",
       "        requirejs.config({\n",
       "            paths: {\n",
       "                'plotly': ['https://cdn.plot.ly/plotly-latest.min']\n",
       "            }\n",
       "        });\n",
       "        require(['plotly'], function(Plotly) {\n",
       "            window._Plotly = Plotly;\n",
       "        });\n",
       "        }\n",
       "        </script>\n",
       "        "
      ]
     },
     "metadata": {},
     "output_type": "display_data"
    }
   ],
   "source": [
    "cd.go_offline()"
   ]
  },
  {
   "cell_type": "code",
   "execution_count": 12,
   "metadata": {},
   "outputs": [],
   "source": [
    "# Data\n",
    "df = pd.DataFrame(np.random.randn(100,4),columns=\"A B C D\".split())"
   ]
  },
  {
   "cell_type": "code",
   "execution_count": 13,
   "metadata": {},
   "outputs": [
    {
     "data": {
      "text/html": [
       "<div>\n",
       "<style scoped>\n",
       "    .dataframe tbody tr th:only-of-type {\n",
       "        vertical-align: middle;\n",
       "    }\n",
       "\n",
       "    .dataframe tbody tr th {\n",
       "        vertical-align: top;\n",
       "    }\n",
       "\n",
       "    .dataframe thead th {\n",
       "        text-align: right;\n",
       "    }\n",
       "</style>\n",
       "<table border=\"1\" class=\"dataframe\">\n",
       "  <thead>\n",
       "    <tr style=\"text-align: right;\">\n",
       "      <th></th>\n",
       "      <th>A</th>\n",
       "      <th>B</th>\n",
       "      <th>C</th>\n",
       "      <th>D</th>\n",
       "    </tr>\n",
       "  </thead>\n",
       "  <tbody>\n",
       "    <tr>\n",
       "      <td>0</td>\n",
       "      <td>-0.607023</td>\n",
       "      <td>0.394426</td>\n",
       "      <td>0.578649</td>\n",
       "      <td>-0.771071</td>\n",
       "    </tr>\n",
       "    <tr>\n",
       "      <td>1</td>\n",
       "      <td>-1.863874</td>\n",
       "      <td>1.154538</td>\n",
       "      <td>-1.377948</td>\n",
       "      <td>0.908422</td>\n",
       "    </tr>\n",
       "    <tr>\n",
       "      <td>2</td>\n",
       "      <td>-0.029459</td>\n",
       "      <td>-0.398193</td>\n",
       "      <td>0.123652</td>\n",
       "      <td>0.148672</td>\n",
       "    </tr>\n",
       "    <tr>\n",
       "      <td>3</td>\n",
       "      <td>-1.301291</td>\n",
       "      <td>1.060705</td>\n",
       "      <td>-1.116511</td>\n",
       "      <td>1.091242</td>\n",
       "    </tr>\n",
       "    <tr>\n",
       "      <td>4</td>\n",
       "      <td>0.480848</td>\n",
       "      <td>-1.092798</td>\n",
       "      <td>0.805809</td>\n",
       "      <td>-0.381368</td>\n",
       "    </tr>\n",
       "  </tbody>\n",
       "</table>\n",
       "</div>"
      ],
      "text/plain": [
       "          A         B         C         D\n",
       "0 -0.607023  0.394426  0.578649 -0.771071\n",
       "1 -1.863874  1.154538 -1.377948  0.908422\n",
       "2 -0.029459 -0.398193  0.123652  0.148672\n",
       "3 -1.301291  1.060705 -1.116511  1.091242\n",
       "4  0.480848 -1.092798  0.805809 -0.381368"
      ]
     },
     "execution_count": 13,
     "metadata": {},
     "output_type": "execute_result"
    }
   ],
   "source": [
    "df.head()"
   ]
  },
  {
   "cell_type": "code",
   "execution_count": 15,
   "metadata": {},
   "outputs": [],
   "source": [
    "df2 = pd.DataFrame({\"Category\":[\"A\",\"B\",\"C\"],\"Values\":[32,43,50]})"
   ]
  },
  {
   "cell_type": "code",
   "execution_count": 16,
   "metadata": {},
   "outputs": [
    {
     "data": {
      "text/html": [
       "<div>\n",
       "<style scoped>\n",
       "    .dataframe tbody tr th:only-of-type {\n",
       "        vertical-align: middle;\n",
       "    }\n",
       "\n",
       "    .dataframe tbody tr th {\n",
       "        vertical-align: top;\n",
       "    }\n",
       "\n",
       "    .dataframe thead th {\n",
       "        text-align: right;\n",
       "    }\n",
       "</style>\n",
       "<table border=\"1\" class=\"dataframe\">\n",
       "  <thead>\n",
       "    <tr style=\"text-align: right;\">\n",
       "      <th></th>\n",
       "      <th>Category</th>\n",
       "      <th>Values</th>\n",
       "    </tr>\n",
       "  </thead>\n",
       "  <tbody>\n",
       "    <tr>\n",
       "      <td>0</td>\n",
       "      <td>A</td>\n",
       "      <td>32</td>\n",
       "    </tr>\n",
       "    <tr>\n",
       "      <td>1</td>\n",
       "      <td>B</td>\n",
       "      <td>43</td>\n",
       "    </tr>\n",
       "    <tr>\n",
       "      <td>2</td>\n",
       "      <td>C</td>\n",
       "      <td>50</td>\n",
       "    </tr>\n",
       "  </tbody>\n",
       "</table>\n",
       "</div>"
      ],
      "text/plain": [
       "  Category  Values\n",
       "0        A      32\n",
       "1        B      43\n",
       "2        C      50"
      ]
     },
     "execution_count": 16,
     "metadata": {},
     "output_type": "execute_result"
    }
   ],
   "source": [
    "df2"
   ]
  },
  {
   "cell_type": "code",
   "execution_count": 19,
   "metadata": {},
   "outputs": [
    {
     "data": {
      "text/plain": [
       "<matplotlib.axes._subplots.AxesSubplot at 0x1d71668f108>"
      ]
     },
     "execution_count": 19,
     "metadata": {},
     "output_type": "execute_result"
    },
    {
     "data": {
      "image/png": "[encoded data removed]",
      "text/plain": [
       "<Figure size 432x288 with 1 Axes>"
      ]
     },
     "metadata": {
      "needs_background": "light"
     },
     "output_type": "display_data"
    }
   ],
   "source": [
    "df.plot()"
   ]
  },
  {
   "cell_type": "code",
   "execution_count": 20,
   "metadata": {},
   "outputs": [
    {
     "data": {
      "application/vnd.plotly.v1+json": {
       "config": {
        "linkText": "Export to plot.ly",
        "plotlyServerURL": "https://plot.ly",
        "showLink": true
       },
       "data": [
        {
         "line": {
          "color": "rgba(255, 153, 51, 1.0)",
          "dash": "solid",
          "shape": "linear",
          "width": 1.3
         },
         "mode": "lines",
         "name": "A",
         "text": "",
         "type": "scatter",
         "x": [
          0,
          1,
          2,
          3,
          4,
          5,
          6,
          7,
          8,
          9,
          10,
          11,
          12,
          13,
          14,
          15,
          16,
          17,
          18,
          19,
          20,
          21,
          22,
          23,
          24,
          25,
          26,
          27,
          28,
          29,
          30,
          31,
          32,
          33,
          34,
          35,
          36,
          37,
          38,
          39,
          40,
          41,
          42,
          43,
          44,
          45,
          46,
          47,
          48,
          49,
          50,
          51,
          52,
          53,
          54,
          55,
          56,
          57,
          58,
          59,
          60,
          61,
          62,
          63,
          64,
          65,
          66,
          67,
          68,
          69,
          70,
          71,
          72,
          73,
          74,
          75,
          76,
          77,
          78,
          79,
          80,
          81,
          82,
          83,
          84,
          85,
          86,
          87,
          88,
          89,
          90,
          91,
          92,
          93,
          94,
          95,
          96,
          97,
          98,
          99
         ],
         "y": [
          -0.6070225586537845,
          -1.8638739423338426,
          -0.02945872276840593,
          -1.301291297310065,
          0.48084833474018185,
          0.7628548206270173,
          -0.28843164746247685,
          0.6019043240278631,
          -0.8763709987921026,
          1.702802294665911,
          0.03894666378491089,
          -0.391247915748716,
          -0.3232684791801891,
          0.5555540390983371,
          -0.5833873983870684,
          -0.0844703205455899,
          -0.5139830214610452,
          -0.9874331374104602,
          1.3231224108983104,
          1.3852294994314818,
          0.495802931458785,
          1.5044941738291178,
          2.013539747855578,
          -0.9350456661961715,
          -0.07199477165247954,
          -0.012588234544470622,
          1.0286702624831179,
          -0.30675308423320574,
          -2.0813241088469705,
          0.9113534548782632,
          -1.1821295689927516,
          0.39712861820350376,
          0.32421117523347154,
          -1.388467161393341,
          -1.8196690472248764,
          1.2781438676085672,
          1.1244717635481953,
          2.6878665336118686,
          -1.6109429503383526,
          -0.3309381064713909,
          0.1012450075722931,
          -0.6927193028799976,
          -1.7779565769379178,
          -0.4937356719987772,
          -0.9214348954348198,
          0.04960273216795757,
          -2.6493834985687386,
          -0.3863153542191854,
          -0.5203504684321614,
          0.5977880177234898,
          1.5935857254212724,
          0.30130947631160576,
          -0.24209057064901562,
          2.393932462989073,
          0.48453201427412146,
          1.1471246976281726,
          1.2228406556961817,
          1.0816068853591136,
          -0.7424208071880561,
          0.7861844219733373,
          0.7498272838099621,
          -0.025596103412613782,
          -0.8244905811186303,
          0.6800258715624917,
          0.5426539687452233,
          -0.3376995252397134,
          0.4782136125101678,
          1.61174979268537,
          -0.009447379791987958,
          2.0385534852770575,
          2.017903156882396,
          -0.04108963367107593,
          -0.37405806660701296,
          1.6557536077103534,
          -0.9180687240107729,
          -1.3509762396010478,
          -1.3245247370933935,
          0.1883981543352357,
          -1.007096270807894,
          0.112857625621616,
          -0.03716265055480332,
          -1.3047337291461698,
          -1.8938223768162143,
          -0.05915120037142549,
          -0.022261006449155404,
          -2.2257467886082813,
          0.299708338942967,
          -0.11551816567653965,
          -0.22224470630933316,
          1.8203093144170124,
          -0.9809281853994635,
          0.8258301853601936,
          1.747369363537277,
          0.4451763013778281,
          0.8233981834134183,
          -0.37937479326251894,
          -1.4536121716892259,
          1.1622792298167708,
          0.2870601492366928,
          -1.3293818887641389
         ]
        },
        {
         "line": {
          "color": "rgba(55, 128, 191, 1.0)",
          "dash": "solid",
          "shape": "linear",
          "width": 1.3
         },
         "mode": "lines",
         "name": "B",
         "text": "",
         "type": "scatter",
         "x": [
          0,
          1,
          2,
          3,
          4,
          5,
          6,
          7,
          8,
          9,
          10,
          11,
          12,
          13,
          14,
          15,
          16,
          17,
          18,
          19,
          20,
          21,
          22,
          23,
          24,
          25,
          26,
          27,
          28,
          29,
          30,
          31,
          32,
          33,
          34,
          35,
          36,
          37,
          38,
          39,
          40,
          41,
          42,
          43,
          44,
          45,
          46,
          47,
          48,
          49,
          50,
          51,
          52,
          53,
          54,
          55,
          56,
          57,
          58,
          59,
          60,
          61,
          62,
          63,
          64,
          65,
          66,
          67,
          68,
          69,
          70,
          71,
          72,
          73,
          74,
          75,
          76,
          77,
          78,
          79,
          80,
          81,
          82,
          83,
          84,
          85,
          86,
          87,
          88,
          89,
          90,
          91,
          92,
          93,
          94,
          95,
          96,
          97,
          98,
          99
         ],
         "y": [
          0.39442564922170886,
          1.1545382861670683,
          -0.3981929049509391,
          1.0607053367391788,
          -1.0927982071594042,
          0.8938581864801937,
          0.10953427785913276,
          1.100603769799354,
          -0.037145165173287524,
          0.820385609335391,
          0.1757448574089021,
          -1.4281471214410326,
          1.3192507531473423,
          0.591642670955045,
          0.5229932990718201,
          0.13605660011946183,
          -0.2100106055939634,
          -0.5700547463822505,
          -0.3323261428045018,
          1.4377556274630496,
          0.14413892892924288,
          0.05300178117926253,
          0.15897168480049687,
          -0.4642246356303038,
          -0.062162694238745014,
          -0.404997912384452,
          -0.7201482218638331,
          2.023568952952069,
          -1.6214853359956733,
          0.542085407732597,
          0.5827569941618997,
          0.3776319435990386,
          0.7860509953709055,
          -0.5428417186393626,
          -0.6218017304368952,
          -0.01711816060498298,
          0.8909241978978917,
          -1.1794232525669857,
          -0.23428574473243066,
          0.6223056989779824,
          -0.13862316143162234,
          1.3989648648043242,
          -1.2881252741130682,
          0.7279631578004603,
          -0.048807113398033994,
          1.0394435684890488,
          -3.3911593703715184,
          -0.524115543518746,
          1.9491071278041052,
          0.07942048576898976,
          -0.6641974846295369,
          -1.0352913027794661,
          -0.6683730021861155,
          -2.0801704608528366,
          -0.6236871291314133,
          0.5545284284650903,
          0.09672761646458744,
          -0.957367126309057,
          -1.3015723703851805,
          0.529996087442483,
          0.36037265455029355,
          -0.825360660875962,
          1.6074276743204716,
          -2.125383315024735,
          0.2729482690721516,
          0.2648116479946539,
          -0.6484000338053134,
          -0.8529199767742717,
          -0.46666971985268213,
          -0.6044278288068219,
          0.6411021729993239,
          1.607115690297109,
          0.642969908406056,
          3.4880296066713408,
          1.5160479793033188,
          0.21650854966375002,
          1.1058470153140674,
          0.9089965059567509,
          -0.9594932219442222,
          -0.5825050989047242,
          -0.006558177721396607,
          1.2314458312022174,
          -0.445862995858089,
          0.32692197599067874,
          -0.16732624075897054,
          -0.06631960996464281,
          -0.5567444312996315,
          -1.2697328105510748,
          -0.6461202658830911,
          -1.6486385015803198,
          0.8697462032738772,
          1.071978584989495,
          1.0115715290572223,
          0.688291257034643,
          -0.4446104637134038,
          -1.370232127902445,
          0.711851270271103,
          -1.4409175804017305,
          0.17758469504751084,
          -0.3488266307639724
         ]
        },
        {
         "line": {
          "color": "rgba(50, 171, 96, 1.0)",
          "dash": "solid",
          "shape": "linear",
          "width": 1.3
         },
         "mode": "lines",
         "name": "C",
         "text": "",
         "type": "scatter",
         "x": [
          0,
          1,
          2,
          3,
          4,
          5,
          6,
          7,
          8,
          9,
          10,
          11,
          12,
          13,
          14,
          15,
          16,
          17,
          18,
          19,
          20,
          21,
          22,
          23,
          24,
          25,
          26,
          27,
          28,
          29,
          30,
          31,
          32,
          33,
          34,
          35,
          36,
          37,
          38,
          39,
          40,
          41,
          42,
          43,
          44,
          45,
          46,
          47,
          48,
          49,
          50,
          51,
          52,
          53,
          54,
          55,
          56,
          57,
          58,
          59,
          60,
          61,
          62,
          63,
          64,
          65,
          66,
          67,
          68,
          69,
          70,
          71,
          72,
          73,
          74,
          75,
          76,
          77,
          78,
          79,
          80,
          81,
          82,
          83,
          84,
          85,
          86,
          87,
          88,
          89,
          90,
          91,
          92,
          93,
          94,
          95,
          96,
          97,
          98,
          99
         ],
         "y": [
          0.5786488658973388,
          -1.3779481177244952,
          0.12365177369173536,
          -1.116511132468932,
          0.8058094735407533,
          -0.40434082821277284,
          1.0225385803330087,
          -0.6470938916080935,
          -0.3508677486533792,
          2.5013226025963746,
          -1.5259835252824552,
          -0.9829311652920717,
          0.23493446006915572,
          -0.9037615413233684,
          -1.3141707547165868,
          -1.5199657157915831,
          -0.7626795758174268,
          1.6073113400335521,
          0.3065045812678438,
          0.7670645741240087,
          -0.44191752142816326,
          -1.3298535843393218,
          -1.135700295184527,
          0.9297115141063347,
          0.6865778093810669,
          0.2906984631345525,
          -0.9865642416513182,
          0.7390830087985069,
          0.5873820481676423,
          -1.0539583164959976,
          0.5414419704915575,
          -0.11185761505217436,
          -0.07695780645157449,
          -2.1646462442630616,
          1.1851782283016816,
          -1.8572626824506342,
          0.44751835654226163,
          0.2377385201511963,
          0.0977471498017824,
          -0.346706646408973,
          0.3288034699452686,
          -0.241554375975574,
          0.23406958233434508,
          -1.2932583043575332,
          -0.0753563250462829,
          0.9227704330212433,
          -0.9932007883861261,
          0.8402493065090569,
          -1.7071908207317257,
          0.4353964002156085,
          0.8810442345722524,
          -1.2204230274097805,
          0.9178683103189221,
          -0.5616608195969544,
          -1.4997595699840784,
          -0.6205171225168257,
          1.078060164804285,
          1.0340481232295156,
          -0.7664258411313779,
          0.6926338816275318,
          1.8483024115450608,
          -0.9381821206856582,
          -0.31440988974655065,
          -0.5299400185069904,
          0.5028693025293436,
          -0.697868894664978,
          0.02223697002983274,
          0.77557394882186,
          0.8422756027790126,
          1.0019480005664712,
          -0.7245614241946116,
          -0.20870645294212087,
          -0.11179174927504838,
          -0.25709999871760897,
          -1.202771442521758,
          0.17460517244494234,
          -3.556830917028255,
          1.959280308579902,
          -0.20721381467702987,
          -0.004113041471365491,
          1.0467020240597704,
          -0.6563924493292402,
          -1.2702933876925069,
          -0.44861523437505996,
          0.23141073624629255,
          0.28912448864058354,
          -2.64152539481277,
          -0.37655621404335426,
          -0.9278540083113972,
          0.021633252663627364,
          0.4389105377440285,
          -0.316289308114846,
          -1.1468826225189952,
          -1.157161485137814,
          0.7742523737057712,
          1.0009994401994993,
          0.21047062378348677,
          -0.4760958934500705,
          -0.6458907785383571,
          -0.35137750023636594
         ]
        },
        {
         "line": {
          "color": "rgba(128, 0, 128, 1.0)",
          "dash": "solid",
          "shape": "linear",
          "width": 1.3
         },
         "mode": "lines",
         "name": "D",
         "text": "",
         "type": "scatter",
         "x": [
          0,
          1,
          2,
          3,
          4,
          5,
          6,
          7,
          8,
          9,
          10,
          11,
          12,
          13,
          14,
          15,
          16,
          17,
          18,
          19,
          20,
          21,
          22,
          23,
          24,
          25,
          26,
          27,
          28,
          29,
          30,
          31,
          32,
          33,
          34,
          35,
          36,
          37,
          38,
          39,
          40,
          41,
          42,
          43,
          44,
          45,
          46,
          47,
          48,
          49,
          50,
          51,
          52,
          53,
          54,
          55,
          56,
          57,
          58,
          59,
          60,
          61,
          62,
          63,
          64,
          65,
          66,
          67,
          68,
          69,
          70,
          71,
          72,
          73,
          74,
          75,
          76,
          77,
          78,
          79,
          80,
          81,
          82,
          83,
          84,
          85,
          86,
          87,
          88,
          89,
          90,
          91,
          92,
          93,
          94,
          95,
          96,
          97,
          98,
          99
         ],
         "y": [
          -0.7710707494557274,
          0.9084215962844299,
          0.14867156693112518,
          1.091242440442385,
          -0.38136791739286025,
          2.6551377942985472,
          -0.542106532007221,
          0.0009897898929007354,
          1.025732698451324,
          1.0917364537662415,
          -0.06579851584724807,
          1.8484432768417098,
          -0.3399947465039237,
          -0.6562755405065582,
          0.9859146265234778,
          0.9181428936696494,
          0.560453175862377,
          0.6173219524497757,
          -0.4176234372666162,
          -0.08616974832048305,
          -0.006352829478318503,
          0.5136507964107583,
          0.15464554983258477,
          -0.4030269739726689,
          0.3296061099699754,
          -0.4648081650700848,
          -1.1636454990471916,
          0.8167962531838402,
          1.3782602913496587,
          -0.8339337883855852,
          0.866982803885244,
          0.6456966292631111,
          -1.65519664670503,
          -0.34483808667429844,
          1.1519480185389928,
          -0.42603916535007497,
          -1.3876296020701955,
          0.438502934561104,
          -0.34317189887749944,
          -0.2582968179968848,
          -1.6196419672168794,
          -0.32586548630627404,
          0.490437955843003,
          -0.016853814769800884,
          0.5704102851277636,
          -0.020673325863221778,
          1.4100771515518467,
          0.8309463411013209,
          1.3443492512121447,
          -1.8857520766945424,
          -0.09056980293285732,
          0.09138694227565757,
          1.3636878725062827,
          -0.2660602412255175,
          1.646259910223738,
          1.8005971402578238,
          -1.210293685648795,
          -0.4522423782105368,
          0.4567476600502909,
          1.3930048823179084,
          0.2072223848026172,
          0.6332124968747784,
          -1.3880857965038995,
          1.987635207109135,
          -0.992693168002227,
          -0.5082269973015238,
          0.4403931715663567,
          -1.4866772715183176,
          0.6426683638879613,
          0.6778864417024036,
          0.2211458414525818,
          -0.029785991329424652,
          0.6604793649030712,
          -1.3172685329935305,
          0.061259598483134725,
          -0.40628739096693317,
          -1.0786117555871804,
          -2.459949891065606,
          0.058595706402560455,
          0.5166845977099281,
          0.4436605818850999,
          0.9127365293860776,
          -0.9936011302758352,
          -1.0284535043950807,
          0.7193874352238564,
          0.19833013706556346,
          0.041628183160987306,
          0.4541679834133369,
          -1.5602230041741998,
          -0.772172041615176,
          0.15727133827918466,
          0.780274996711184,
          -1.3290121829172736,
          -0.3476287149663292,
          0.5469591287599925,
          -0.12694867546220384,
          0.24056843026883892,
          -2.7646992768771086,
          1.0658530548801204,
          0.14202684939502938
         ]
        }
       ],
       "layout": {
        "legend": {
         "bgcolor": "#F5F6F9",
         "font": {
          "color": "#4D5663"
         }
        },
        "paper_bgcolor": "#F5F6F9",
        "plot_bgcolor": "#F5F6F9",
        "template": {
         "data": {
          "bar": [
           {
            "error_x": {
             "color": "#2a3f5f"
            },
            "error_y": {
             "color": "#2a3f5f"
            },
            "marker": {
             "line": {
              "color": "#E5ECF6",
              "width": 0.5
             }
            },
            "type": "bar"
           }
          ],
          "barpolar": [
           {
            "marker": {
             "line": {
              "color": "#E5ECF6",
              "width": 0.5
             }
            },
            "type": "barpolar"
           }
          ],
          "carpet": [
           {
            "aaxis": {
             "endlinecolor": "#2a3f5f",
             "gridcolor": "white",
             "linecolor": "white",
             "minorgridcolor": "white",
             "startlinecolor": "#2a3f5f"
            },
            "baxis": {
             "endlinecolor": "#2a3f5f",
             "gridcolor": "white",
             "linecolor": "white",
             "minorgridcolor": "white",
             "startlinecolor": "#2a3f5f"
            },
            "type": "carpet"
           }
          ],
          "choropleth": [
           {
            "colorbar": {
             "outlinewidth": 0,
             "ticks": ""
            },
            "type": "choropleth"
           }
          ],
          "contour": [
           {
            "colorbar": {
             "outlinewidth": 0,
             "ticks": ""
            },
            "colorscale": [
             [
              0,
              "#0d0887"
             ],
             [
              0.1111111111111111,
              "#46039f"
             ],
             [
              0.2222222222222222,
              "#7201a8"
             ],
             [
              0.3333333333333333,
              "#9c179e"
             ],
             [
              0.4444444444444444,
              "#bd3786"
             ],
             [
              0.5555555555555556,
              "#d8576b"
             ],
             [
              0.6666666666666666,
              "#ed7953"
             ],
             [
              0.7777777777777778,
              "#fb9f3a"
             ],
             [
              0.8888888888888888,
              "#fdca26"
             ],
             [
              1,
              "#f0f921"
             ]
            ],
            "type": "contour"
           }
          ],
          "contourcarpet": [
           {
            "colorbar": {
             "outlinewidth": 0,
             "ticks": ""
            },
            "type": "contourcarpet"
           }
          ],
          "heatmap": [
           {
            "colorbar": {
             "outlinewidth": 0,
             "ticks": ""
            },
            "colorscale": [
             [
              0,
              "#0d0887"
             ],
             [
              0.1111111111111111,
              "#46039f"
             ],
             [
              0.2222222222222222,
              "#7201a8"
             ],
             [
              0.3333333333333333,
              "#9c179e"
             ],
             [
              0.4444444444444444,
              "#bd3786"
             ],
             [
              0.5555555555555556,
              "#d8576b"
             ],
             [
              0.6666666666666666,
              "#ed7953"
             ],
             [
              0.7777777777777778,
              "#fb9f3a"
             ],
             [
              0.8888888888888888,
              "#fdca26"
             ],
             [
              1,
              "#f0f921"
             ]
            ],
            "type": "heatmap"
           }
          ],
          "heatmapgl": [
           {
            "colorbar": {
             "outlinewidth": 0,
             "ticks": ""
            },
            "colorscale": [
             [
              0,
              "#0d0887"
             ],
             [
              0.1111111111111111,
              "#46039f"
             ],
             [
              0.2222222222222222,
              "#7201a8"
             ],
             [
              0.3333333333333333,
              "#9c179e"
             ],
             [
              0.4444444444444444,
              "#bd3786"
             ],
             [
              0.5555555555555556,
              "#d8576b"
             ],
             [
              0.6666666666666666,
              "#ed7953"
             ],
             [
              0.7777777777777778,
              "#fb9f3a"
             ],
             [
              0.8888888888888888,
              "#fdca26"
             ],
             [
              1,
              "#f0f921"
             ]
            ],
            "type": "heatmapgl"
           }
          ],
          "histogram": [
           {
            "marker": {
             "colorbar": {
              "outlinewidth": 0,
              "ticks": ""
             }
            },
            "type": "histogram"
           }
          ],
          "histogram2d": [
           {
            "colorbar": {
             "outlinewidth": 0,
             "ticks": ""
            },
            "colorscale": [
             [
              0,
              "#0d0887"
             ],
             [
              0.1111111111111111,
              "#46039f"
             ],
             [
              0.2222222222222222,
              "#7201a8"
             ],
             [
              0.3333333333333333,
              "#9c179e"
             ],
             [
              0.4444444444444444,
              "#bd3786"
             ],
             [
              0.5555555555555556,
              "#d8576b"
             ],
             [
              0.6666666666666666,
              "#ed7953"
             ],
             [
              0.7777777777777778,
              "#fb9f3a"
             ],
             [
              0.8888888888888888,
              "#fdca26"
             ],
             [
              1,
              "#f0f921"
             ]
            ],
            "type": "histogram2d"
           }
          ],
          "histogram2dcontour": [
           {
            "colorbar": {
             "outlinewidth": 0,
             "ticks": ""
            },
            "colorscale": [
             [
              0,
              "#0d0887"
             ],
             [
              0.1111111111111111,
              "#46039f"
             ],
             [
              0.2222222222222222,
              "#7201a8"
             ],
             [
              0.3333333333333333,
              "#9c179e"
             ],
             [
              0.4444444444444444,
              "#bd3786"
             ],
             [
              0.5555555555555556,
              "#d8576b"
             ],
             [
              0.6666666666666666,
              "#ed7953"
             ],
             [
              0.7777777777777778,
              "#fb9f3a"
             ],
             [
              0.8888888888888888,
              "#fdca26"
             ],
             [
              1,
              "#f0f921"
             ]
            ],
            "type": "histogram2dcontour"
           }
          ],
          "mesh3d": [
           {
            "colorbar": {
             "outlinewidth": 0,
             "ticks": ""
            },
            "type": "mesh3d"
           }
          ],
          "parcoords": [
           {
            "line": {
             "colorbar": {
              "outlinewidth": 0,
              "ticks": ""
             }
            },
            "type": "parcoords"
           }
          ],
          "pie": [
           {
            "automargin": true,
            "type": "pie"
           }
          ],
          "scatter": [
           {
            "marker": {
             "colorbar": {
              "outlinewidth": 0,
              "ticks": ""
             }
            },
            "type": "scatter"
           }
          ],
          "scatter3d": [
           {
            "line": {
             "colorbar": {
              "outlinewidth": 0,
              "ticks": ""
             }
            },
            "marker": {
             "colorbar": {
              "outlinewidth": 0,
              "ticks": ""
             }
            },
            "type": "scatter3d"
           }
          ],
          "scattercarpet": [
           {
            "marker": {
             "colorbar": {
              "outlinewidth": 0,
              "ticks": ""
             }
            },
            "type": "scattercarpet"
           }
          ],
          "scattergeo": [
           {
            "marker": {
             "colorbar": {
              "outlinewidth": 0,
              "ticks": ""
             }
            },
            "type": "scattergeo"
           }
          ],
          "scattergl": [
           {
            "marker": {
             "colorbar": {
              "outlinewidth": 0,
              "ticks": ""
             }
            },
            "type": "scattergl"
           }
          ],
          "scattermapbox": [
           {
            "marker": {
             "colorbar": {
              "outlinewidth": 0,
              "ticks": ""
             }
            },
            "type": "scattermapbox"
           }
          ],
          "scatterpolar": [
           {
            "marker": {
             "colorbar": {
              "outlinewidth": 0,
              "ticks": ""
             }
            },
            "type": "scatterpolar"
           }
          ],
          "scatterpolargl": [
           {
            "marker": {
             "colorbar": {
              "outlinewidth": 0,
              "ticks": ""
             }
            },
            "type": "scatterpolargl"
           }
          ],
          "scatterternary": [
           {
            "marker": {
             "colorbar": {
              "outlinewidth": 0,
              "ticks": ""
             }
            },
            "type": "scatterternary"
           }
          ],
          "surface": [
           {
            "colorbar": {
             "outlinewidth": 0,
             "ticks": ""
            },
            "colorscale": [
             [
              0,
              "#0d0887"
             ],
             [
              0.1111111111111111,
              "#46039f"
             ],
             [
              0.2222222222222222,
              "#7201a8"
             ],
             [
              0.3333333333333333,
              "#9c179e"
             ],
             [
              0.4444444444444444,
              "#bd3786"
             ],
             [
              0.5555555555555556,
              "#d8576b"
             ],
             [
              0.6666666666666666,
              "#ed7953"
             ],
             [
              0.7777777777777778,
              "#fb9f3a"
             ],
             [
              0.8888888888888888,
              "#fdca26"
             ],
             [
              1,
              "#f0f921"
             ]
            ],
            "type": "surface"
           }
          ],
          "table": [
           {
            "cells": {
             "fill": {
              "color": "#EBF0F8"
             },
             "line": {
              "color": "white"
             }
            },
            "header": {
             "fill": {
              "color": "#C8D4E3"
             },
             "line": {
              "color": "white"
             }
            },
            "type": "table"
           }
          ]
         },
         "layout": {
          "annotationdefaults": {
           "arrowcolor": "#2a3f5f",
           "arrowhead": 0,
           "arrowwidth": 1
          },
          "coloraxis": {
           "colorbar": {
            "outlinewidth": 0,
            "ticks": ""
           }
          },
          "colorscale": {
           "diverging": [
            [
             0,
             "#8e0152"
            ],
            [
             0.1,
             "#c51b7d"
            ],
            [
             0.2,
             "#de77ae"
            ],
            [
             0.3,
             "#f1b6da"
            ],
            [
             0.4,
             "#fde0ef"
            ],
            [
             0.5,
             "#f7f7f7"
            ],
            [
             0.6,
             "#e6f5d0"
            ],
            [
             0.7,
             "#b8e186"
            ],
            [
             0.8,
             "#7fbc41"
            ],
            [
             0.9,
             "#4d9221"
            ],
            [
             1,
             "#276419"
            ]
           ],
           "sequential": [
            [
             0,
             "#0d0887"
            ],
            [
             0.1111111111111111,
             "#46039f"
            ],
            [
             0.2222222222222222,
             "#7201a8"
            ],
            [
             0.3333333333333333,
             "#9c179e"
            ],
            [
             0.4444444444444444,
             "#bd3786"
            ],
            [
             0.5555555555555556,
             "#d8576b"
            ],
            [
             0.6666666666666666,
             "#ed7953"
            ],
            [
             0.7777777777777778,
             "#fb9f3a"
            ],
            [
             0.8888888888888888,
             "#fdca26"
            ],
            [
             1,
             "#f0f921"
            ]
           ],
           "sequentialminus": [
            [
             0,
             "#0d0887"
            ],
            [
             0.1111111111111111,
             "#46039f"
            ],
            [
             0.2222222222222222,
             "#7201a8"
            ],
            [
             0.3333333333333333,
             "#9c179e"
            ],
            [
             0.4444444444444444,
             "#bd3786"
            ],
            [
             0.5555555555555556,
             "#d8576b"
            ],
            [
             0.6666666666666666,
             "#ed7953"
            ],
            [
             0.7777777777777778,
             "#fb9f3a"
            ],
            [
             0.8888888888888888,
             "#fdca26"
            ],
            [
             1,
             "#f0f921"
            ]
           ]
          },
          "colorway": [
           "#636efa",
           "#EF553B",
           "#00cc96",
           "#ab63fa",
           "#FFA15A",
           "#19d3f3",
           "#FF6692",
           "#B6E880",
           "#FF97FF",
           "#FECB52"
          ],
          "font": {
           "color": "#2a3f5f"
          },
          "geo": {
           "bgcolor": "white",
           "lakecolor": "white",
           "landcolor": "#E5ECF6",
           "showlakes": true,
           "showland": true,
           "subunitcolor": "white"
          },
          "hoverlabel": {
           "align": "left"
          },
          "hovermode": "closest",
          "mapbox": {
           "style": "light"
          },
          "paper_bgcolor": "white",
          "plot_bgcolor": "#E5ECF6",
          "polar": {
           "angularaxis": {
            "gridcolor": "white",
            "linecolor": "white",
            "ticks": ""
           },
           "bgcolor": "#E5ECF6",
           "radialaxis": {
            "gridcolor": "white",
            "linecolor": "white",
            "ticks": ""
           }
          },
          "scene": {
           "xaxis": {
            "backgroundcolor": "#E5ECF6",
            "gridcolor": "white",
            "gridwidth": 2,
            "linecolor": "white",
            "showbackground": true,
            "ticks": "",
            "zerolinecolor": "white"
           },
           "yaxis": {
            "backgroundcolor": "#E5ECF6",
            "gridcolor": "white",
            "gridwidth": 2,
            "linecolor": "white",
            "showbackground": true,
            "ticks": "",
            "zerolinecolor": "white"
           },
           "zaxis": {
            "backgroundcolor": "#E5ECF6",
            "gridcolor": "white",
            "gridwidth": 2,
            "linecolor": "white",
            "showbackground": true,
            "ticks": "",
            "zerolinecolor": "white"
           }
          },
          "shapedefaults": {
           "line": {
            "color": "#2a3f5f"
           }
          },
          "ternary": {
           "aaxis": {
            "gridcolor": "white",
            "linecolor": "white",
            "ticks": ""
           },
           "baxis": {
            "gridcolor": "white",
            "linecolor": "white",
            "ticks": ""
           },
           "bgcolor": "#E5ECF6",
           "caxis": {
            "gridcolor": "white",
            "linecolor": "white",
            "ticks": ""
           }
          },
          "title": {
           "x": 0.05
          },
          "xaxis": {
           "automargin": true,
           "gridcolor": "white",
           "linecolor": "white",
           "ticks": "",
           "title": {
            "standoff": 15
           },
           "zerolinecolor": "white",
           "zerolinewidth": 2
          },
          "yaxis": {
           "automargin": true,
           "gridcolor": "white",
           "linecolor": "white",
           "ticks": "",
           "title": {
            "standoff": 15
           },
           "zerolinecolor": "white",
           "zerolinewidth": 2
          }
         }
        },
        "title": {
         "font": {
          "color": "#4D5663"
         }
        },
        "xaxis": {
         "gridcolor": "#E1E5ED",
         "showgrid": true,
         "tickfont": {
          "color": "#4D5663"
         },
         "title": {
          "font": {
           "color": "#4D5663"
          },
          "text": ""
         },
         "zerolinecolor": "#E1E5ED"
        },
        "yaxis": {
         "gridcolor": "#E1E5ED",
         "showgrid": true,
         "tickfont": {
          "color": "#4D5663"
         },
         "title": {
          "font": {
           "color": "#4D5663"
          },
          "text": ""
         },
         "zerolinecolor": "#E1E5ED"
        }
       }
      },
      "text/html": [
       "<div>\n",
       "        \n",
       "        \n",
       "            <div id=\"4abee72b-2e5a-4696-96eb-8777fff6386d\" class=\"plotly-graph-div\" style=\"height:525px; width:100%;\"></div>\n",
       "            <script type=\"text/javascript\">\n",
       "                require([\"plotly\"], function(Plotly) {\n",
       "                    window.PLOTLYENV=window.PLOTLYENV || {};\n",
       "                    window.PLOTLYENV.BASE_URL='https://plot.ly';\n",
       "                    \n",
       "                if (document.getElementById(\"4abee72b-2e5a-4696-96eb-8777fff6386d\")) {\n",
       "                    Plotly.newPlot(\n",
       "                        '4abee72b-2e5a-4696-96eb-8777fff6386d',\n",
       "                        [{\"line\": {\"color\": \"rgba(255, 153, 51, 1.0)\", \"dash\": \"solid\", \"shape\": \"linear\", \"width\": 1.3}, \"mode\": \"lines\", \"name\": \"A\", \"text\": \"\", \"type\": \"scatter\", \"x\": [0, 1, 2, 3, 4, 5, 6, 7, 8, 9, 10, 11, 12, 13, 14, 15, 16, 17, 18, 19, 20, 21, 22, 23, 24, 25, 26, 27, 28, 29, 30, 31, 32, 33, 34, 35, 36, 37, 38, 39, 40, 41, 42, 43, 44, 45, 46, 47, 48, 49, 50, 51, 52, 53, 54, 55, 56, 57, 58, 59, 60, 61, 62, 63, 64, 65, 66, 67, 68, 69, 70, 71, 72, 73, 74, 75, 76, 77, 78, 79, 80, 81, 82, 83, 84, 85, 86, 87, 88, 89, 90, 91, 92, 93, 94, 95, 96, 97, 98, 99], \"y\": [-0.6070225586537845, -1.8638739423338426, -0.02945872276840593, -1.301291297310065, 0.48084833474018185, 0.7628548206270173, -0.28843164746247685, 0.6019043240278631, -0.8763709987921026, 1.702802294665911, 0.03894666378491089, -0.391247915748716, -0.3232684791801891, 0.5555540390983371, -0.5833873983870684, -0.0844703205455899, -0.5139830214610452, -0.9874331374104602, 1.3231224108983104, 1.3852294994314818, 0.495802931458785, 1.5044941738291178, 2.013539747855578, -0.9350456661961715, -0.07199477165247954, -0.012588234544470622, 1.0286702624831179, -0.30675308423320574, -2.0813241088469705, 0.9113534548782632, -1.1821295689927516, 0.39712861820350376, 0.32421117523347154, -1.388467161393341, -1.8196690472248764, 1.2781438676085672, 1.1244717635481953, 2.6878665336118686, -1.6109429503383526, -0.3309381064713909, 0.1012450075722931, -0.6927193028799976, -1.7779565769379178, -0.4937356719987772, -0.9214348954348198, 0.04960273216795757, -2.6493834985687386, -0.3863153542191854, -0.5203504684321614, 0.5977880177234898, 1.5935857254212724, 0.30130947631160576, -0.24209057064901562, 2.393932462989073, 0.48453201427412146, 1.1471246976281726, 1.2228406556961817, 1.0816068853591136, -0.7424208071880561, 0.7861844219733373, 0.7498272838099621, -0.025596103412613782, -0.8244905811186303, 0.6800258715624917, 0.5426539687452233, -0.3376995252397134, 0.4782136125101678, 1.61174979268537, -0.009447379791987958, 2.0385534852770575, 2.017903156882396, -0.04108963367107593, -0.37405806660701296, 1.6557536077103534, -0.9180687240107729, -1.3509762396010478, -1.3245247370933935, 0.1883981543352357, -1.007096270807894, 0.112857625621616, -0.03716265055480332, -1.3047337291461698, -1.8938223768162143, -0.05915120037142549, -0.022261006449155404, -2.2257467886082813, 0.299708338942967, -0.11551816567653965, -0.22224470630933316, 1.8203093144170124, -0.9809281853994635, 0.8258301853601936, 1.747369363537277, 0.4451763013778281, 0.8233981834134183, -0.37937479326251894, -1.4536121716892259, 1.1622792298167708, 0.2870601492366928, -1.3293818887641389]}, {\"line\": {\"color\": \"rgba(55, 128, 191, 1.0)\", \"dash\": \"solid\", \"shape\": \"linear\", \"width\": 1.3}, \"mode\": \"lines\", \"name\": \"B\", \"text\": \"\", \"type\": \"scatter\", \"x\": [0, 1, 2, 3, 4, 5, 6, 7, 8, 9, 10, 11, 12, 13, 14, 15, 16, 17, 18, 19, 20, 21, 22, 23, 24, 25, 26, 27, 28, 29, 30, 31, 32, 33, 34, 35, 36, 37, 38, 39, 40, 41, 42, 43, 44, 45, 46, 47, 48, 49, 50, 51, 52, 53, 54, 55, 56, 57, 58, 59, 60, 61, 62, 63, 64, 65, 66, 67, 68, 69, 70, 71, 72, 73, 74, 75, 76, 77, 78, 79, 80, 81, 82, 83, 84, 85, 86, 87, 88, 89, 90, 91, 92, 93, 94, 95, 96, 97, 98, 99], \"y\": [0.39442564922170886, 1.1545382861670683, -0.3981929049509391, 1.0607053367391788, -1.0927982071594042, 0.8938581864801937, 0.10953427785913276, 1.100603769799354, -0.037145165173287524, 0.820385609335391, 0.1757448574089021, -1.4281471214410326, 1.3192507531473423, 0.591642670955045, 0.5229932990718201, 0.13605660011946183, -0.2100106055939634, -0.5700547463822505, -0.3323261428045018, 1.4377556274630496, 0.14413892892924288, 0.05300178117926253, 0.15897168480049687, -0.4642246356303038, -0.062162694238745014, -0.404997912384452, -0.7201482218638331, 2.023568952952069, -1.6214853359956733, 0.542085407732597, 0.5827569941618997, 0.3776319435990386, 0.7860509953709055, -0.5428417186393626, -0.6218017304368952, -0.01711816060498298, 0.8909241978978917, -1.1794232525669857, -0.23428574473243066, 0.6223056989779824, -0.13862316143162234, 1.3989648648043242, -1.2881252741130682, 0.7279631578004603, -0.048807113398033994, 1.0394435684890488, -3.3911593703715184, -0.524115543518746, 1.9491071278041052, 0.07942048576898976, -0.6641974846295369, -1.0352913027794661, -0.6683730021861155, -2.0801704608528366, -0.6236871291314133, 0.5545284284650903, 0.09672761646458744, -0.957367126309057, -1.3015723703851805, 0.529996087442483, 0.36037265455029355, -0.825360660875962, 1.6074276743204716, -2.125383315024735, 0.2729482690721516, 0.2648116479946539, -0.6484000338053134, -0.8529199767742717, -0.46666971985268213, -0.6044278288068219, 0.6411021729993239, 1.607115690297109, 0.642969908406056, 3.4880296066713408, 1.5160479793033188, 0.21650854966375002, 1.1058470153140674, 0.9089965059567509, -0.9594932219442222, -0.5825050989047242, -0.006558177721396607, 1.2314458312022174, -0.445862995858089, 0.32692197599067874, -0.16732624075897054, -0.06631960996464281, -0.5567444312996315, -1.2697328105510748, -0.6461202658830911, -1.6486385015803198, 0.8697462032738772, 1.071978584989495, 1.0115715290572223, 0.688291257034643, -0.4446104637134038, -1.370232127902445, 0.711851270271103, -1.4409175804017305, 0.17758469504751084, -0.3488266307639724]}, {\"line\": {\"color\": \"rgba(50, 171, 96, 1.0)\", \"dash\": \"solid\", \"shape\": \"linear\", \"width\": 1.3}, \"mode\": \"lines\", \"name\": \"C\", \"text\": \"\", \"type\": \"scatter\", \"x\": [0, 1, 2, 3, 4, 5, 6, 7, 8, 9, 10, 11, 12, 13, 14, 15, 16, 17, 18, 19, 20, 21, 22, 23, 24, 25, 26, 27, 28, 29, 30, 31, 32, 33, 34, 35, 36, 37, 38, 39, 40, 41, 42, 43, 44, 45, 46, 47, 48, 49, 50, 51, 52, 53, 54, 55, 56, 57, 58, 59, 60, 61, 62, 63, 64, 65, 66, 67, 68, 69, 70, 71, 72, 73, 74, 75, 76, 77, 78, 79, 80, 81, 82, 83, 84, 85, 86, 87, 88, 89, 90, 91, 92, 93, 94, 95, 96, 97, 98, 99], \"y\": [0.5786488658973388, -1.3779481177244952, 0.12365177369173536, -1.116511132468932, 0.8058094735407533, -0.40434082821277284, 1.0225385803330087, -0.6470938916080935, -0.3508677486533792, 2.5013226025963746, -1.5259835252824552, -0.9829311652920717, 0.23493446006915572, -0.9037615413233684, -1.3141707547165868, -1.5199657157915831, -0.7626795758174268, 1.6073113400335521, 0.3065045812678438, 0.7670645741240087, -0.44191752142816326, -1.3298535843393218, -1.135700295184527, 0.9297115141063347, 0.6865778093810669, 0.2906984631345525, -0.9865642416513182, 0.7390830087985069, 0.5873820481676423, -1.0539583164959976, 0.5414419704915575, -0.11185761505217436, -0.07695780645157449, -2.1646462442630616, 1.1851782283016816, -1.8572626824506342, 0.44751835654226163, 0.2377385201511963, 0.0977471498017824, -0.346706646408973, 0.3288034699452686, -0.241554375975574, 0.23406958233434508, -1.2932583043575332, -0.0753563250462829, 0.9227704330212433, -0.9932007883861261, 0.8402493065090569, -1.7071908207317257, 0.4353964002156085, 0.8810442345722524, -1.2204230274097805, 0.9178683103189221, -0.5616608195969544, -1.4997595699840784, -0.6205171225168257, 1.078060164804285, 1.0340481232295156, -0.7664258411313779, 0.6926338816275318, 1.8483024115450608, -0.9381821206856582, -0.31440988974655065, -0.5299400185069904, 0.5028693025293436, -0.697868894664978, 0.02223697002983274, 0.77557394882186, 0.8422756027790126, 1.0019480005664712, -0.7245614241946116, -0.20870645294212087, -0.11179174927504838, -0.25709999871760897, -1.202771442521758, 0.17460517244494234, -3.556830917028255, 1.959280308579902, -0.20721381467702987, -0.004113041471365491, 1.0467020240597704, -0.6563924493292402, -1.2702933876925069, -0.44861523437505996, 0.23141073624629255, 0.28912448864058354, -2.64152539481277, -0.37655621404335426, -0.9278540083113972, 0.021633252663627364, 0.4389105377440285, -0.316289308114846, -1.1468826225189952, -1.157161485137814, 0.7742523737057712, 1.0009994401994993, 0.21047062378348677, -0.4760958934500705, -0.6458907785383571, -0.35137750023636594]}, {\"line\": {\"color\": \"rgba(128, 0, 128, 1.0)\", \"dash\": \"solid\", \"shape\": \"linear\", \"width\": 1.3}, \"mode\": \"lines\", \"name\": \"D\", \"text\": \"\", \"type\": \"scatter\", \"x\": [0, 1, 2, 3, 4, 5, 6, 7, 8, 9, 10, 11, 12, 13, 14, 15, 16, 17, 18, 19, 20, 21, 22, 23, 24, 25, 26, 27, 28, 29, 30, 31, 32, 33, 34, 35, 36, 37, 38, 39, 40, 41, 42, 43, 44, 45, 46, 47, 48, 49, 50, 51, 52, 53, 54, 55, 56, 57, 58, 59, 60, 61, 62, 63, 64, 65, 66, 67, 68, 69, 70, 71, 72, 73, 74, 75, 76, 77, 78, 79, 80, 81, 82, 83, 84, 85, 86, 87, 88, 89, 90, 91, 92, 93, 94, 95, 96, 97, 98, 99], \"y\": [-0.7710707494557274, 0.9084215962844299, 0.14867156693112518, 1.091242440442385, -0.38136791739286025, 2.6551377942985472, -0.542106532007221, 0.0009897898929007354, 1.025732698451324, 1.0917364537662415, -0.06579851584724807, 1.8484432768417098, -0.3399947465039237, -0.6562755405065582, 0.9859146265234778, 0.9181428936696494, 0.560453175862377, 0.6173219524497757, -0.4176234372666162, -0.08616974832048305, -0.006352829478318503, 0.5136507964107583, 0.15464554983258477, -0.4030269739726689, 0.3296061099699754, -0.4648081650700848, -1.1636454990471916, 0.8167962531838402, 1.3782602913496587, -0.8339337883855852, 0.866982803885244, 0.6456966292631111, -1.65519664670503, -0.34483808667429844, 1.1519480185389928, -0.42603916535007497, -1.3876296020701955, 0.438502934561104, -0.34317189887749944, -0.2582968179968848, -1.6196419672168794, -0.32586548630627404, 0.490437955843003, -0.016853814769800884, 0.5704102851277636, -0.020673325863221778, 1.4100771515518467, 0.8309463411013209, 1.3443492512121447, -1.8857520766945424, -0.09056980293285732, 0.09138694227565757, 1.3636878725062827, -0.2660602412255175, 1.646259910223738, 1.8005971402578238, -1.210293685648795, -0.4522423782105368, 0.4567476600502909, 1.3930048823179084, 0.2072223848026172, 0.6332124968747784, -1.3880857965038995, 1.987635207109135, -0.992693168002227, -0.5082269973015238, 0.4403931715663567, -1.4866772715183176, 0.6426683638879613, 0.6778864417024036, 0.2211458414525818, -0.029785991329424652, 0.6604793649030712, -1.3172685329935305, 0.061259598483134725, -0.40628739096693317, -1.0786117555871804, -2.459949891065606, 0.058595706402560455, 0.5166845977099281, 0.4436605818850999, 0.9127365293860776, -0.9936011302758352, -1.0284535043950807, 0.7193874352238564, 0.19833013706556346, 0.041628183160987306, 0.4541679834133369, -1.5602230041741998, -0.772172041615176, 0.15727133827918466, 0.780274996711184, -1.3290121829172736, -0.3476287149663292, 0.5469591287599925, -0.12694867546220384, 0.24056843026883892, -2.7646992768771086, 1.0658530548801204, 0.14202684939502938]}],\n",
       "                        {\"legend\": {\"bgcolor\": \"#F5F6F9\", \"font\": {\"color\": \"#4D5663\"}}, \"paper_bgcolor\": \"#F5F6F9\", \"plot_bgcolor\": \"#F5F6F9\", \"template\": {\"data\": {\"bar\": [{\"error_x\": {\"color\": \"#2a3f5f\"}, \"error_y\": {\"color\": \"#2a3f5f\"}, \"marker\": {\"line\": {\"color\": \"#E5ECF6\", \"width\": 0.5}}, \"type\": \"bar\"}], \"barpolar\": [{\"marker\": {\"line\": {\"color\": \"#E5ECF6\", \"width\": 0.5}}, \"type\": \"barpolar\"}], \"carpet\": [{\"aaxis\": {\"endlinecolor\": \"#2a3f5f\", \"gridcolor\": \"white\", \"linecolor\": \"white\", \"minorgridcolor\": \"white\", \"startlinecolor\": \"#2a3f5f\"}, \"baxis\": {\"endlinecolor\": \"#2a3f5f\", \"gridcolor\": \"white\", \"linecolor\": \"white\", \"minorgridcolor\": \"white\", \"startlinecolor\": \"#2a3f5f\"}, \"type\": \"carpet\"}], \"choropleth\": [{\"colorbar\": {\"outlinewidth\": 0, \"ticks\": \"\"}, \"type\": \"choropleth\"}], \"contour\": [{\"colorbar\": {\"outlinewidth\": 0, \"ticks\": \"\"}, \"colorscale\": [[0.0, \"#0d0887\"], [0.1111111111111111, \"#46039f\"], [0.2222222222222222, \"#7201a8\"], [0.3333333333333333, \"#9c179e\"], [0.4444444444444444, \"#bd3786\"], [0.5555555555555556, \"#d8576b\"], [0.6666666666666666, \"#ed7953\"], [0.7777777777777778, \"#fb9f3a\"], [0.8888888888888888, \"#fdca26\"], [1.0, \"#f0f921\"]], \"type\": \"contour\"}], \"contourcarpet\": [{\"colorbar\": {\"outlinewidth\": 0, \"ticks\": \"\"}, \"type\": \"contourcarpet\"}], \"heatmap\": [{\"colorbar\": {\"outlinewidth\": 0, \"ticks\": \"\"}, \"colorscale\": [[0.0, \"#0d0887\"], [0.1111111111111111, \"#46039f\"], [0.2222222222222222, \"#7201a8\"], [0.3333333333333333, \"#9c179e\"], [0.4444444444444444, \"#bd3786\"], [0.5555555555555556, \"#d8576b\"], [0.6666666666666666, \"#ed7953\"], [0.7777777777777778, \"#fb9f3a\"], [0.8888888888888888, \"#fdca26\"], [1.0, \"#f0f921\"]], \"type\": \"heatmap\"}], \"heatmapgl\": [{\"colorbar\": {\"outlinewidth\": 0, \"ticks\": \"\"}, \"colorscale\": [[0.0, \"#0d0887\"], [0.1111111111111111, \"#46039f\"], [0.2222222222222222, \"#7201a8\"], [0.3333333333333333, \"#9c179e\"], [0.4444444444444444, \"#bd3786\"], [0.5555555555555556, \"#d8576b\"], [0.6666666666666666, \"#ed7953\"], [0.7777777777777778, \"#fb9f3a\"], [0.8888888888888888, \"#fdca26\"], [1.0, \"#f0f921\"]], \"type\": \"heatmapgl\"}], \"histogram\": [{\"marker\": {\"colorbar\": {\"outlinewidth\": 0, \"ticks\": \"\"}}, \"type\": \"histogram\"}], \"histogram2d\": [{\"colorbar\": {\"outlinewidth\": 0, \"ticks\": \"\"}, \"colorscale\": [[0.0, \"#0d0887\"], [0.1111111111111111, \"#46039f\"], [0.2222222222222222, \"#7201a8\"], [0.3333333333333333, \"#9c179e\"], [0.4444444444444444, \"#bd3786\"], [0.5555555555555556, \"#d8576b\"], [0.6666666666666666, \"#ed7953\"], [0.7777777777777778, \"#fb9f3a\"], [0.8888888888888888, \"#fdca26\"], [1.0, \"#f0f921\"]], \"type\": \"histogram2d\"}], \"histogram2dcontour\": [{\"colorbar\": {\"outlinewidth\": 0, \"ticks\": \"\"}, \"colorscale\": [[0.0, \"#0d0887\"], [0.1111111111111111, \"#46039f\"], [0.2222222222222222, \"#7201a8\"], [0.3333333333333333, \"#9c179e\"], [0.4444444444444444, \"#bd3786\"], [0.5555555555555556, \"#d8576b\"], [0.6666666666666666, \"#ed7953\"], [0.7777777777777778, \"#fb9f3a\"], [0.8888888888888888, \"#fdca26\"], [1.0, \"#f0f921\"]], \"type\": \"histogram2dcontour\"}], \"mesh3d\": [{\"colorbar\": {\"outlinewidth\": 0, \"ticks\": \"\"}, \"type\": \"mesh3d\"}], \"parcoords\": [{\"line\": {\"colorbar\": {\"outlinewidth\": 0, \"ticks\": \"\"}}, \"type\": \"parcoords\"}], \"pie\": [{\"automargin\": true, \"type\": \"pie\"}], \"scatter\": [{\"marker\": {\"colorbar\": {\"outlinewidth\": 0, \"ticks\": \"\"}}, \"type\": \"scatter\"}], \"scatter3d\": [{\"line\": {\"colorbar\": {\"outlinewidth\": 0, \"ticks\": \"\"}}, \"marker\": {\"colorbar\": {\"outlinewidth\": 0, \"ticks\": \"\"}}, \"type\": \"scatter3d\"}], \"scattercarpet\": [{\"marker\": {\"colorbar\": {\"outlinewidth\": 0, \"ticks\": \"\"}}, \"type\": \"scattercarpet\"}], \"scattergeo\": [{\"marker\": {\"colorbar\": {\"outlinewidth\": 0, \"ticks\": \"\"}}, \"type\": \"scattergeo\"}], \"scattergl\": [{\"marker\": {\"colorbar\": {\"outlinewidth\": 0, \"ticks\": \"\"}}, \"type\": \"scattergl\"}], \"scattermapbox\": [{\"marker\": {\"colorbar\": {\"outlinewidth\": 0, \"ticks\": \"\"}}, \"type\": \"scattermapbox\"}], \"scatterpolar\": [{\"marker\": {\"colorbar\": {\"outlinewidth\": 0, \"ticks\": \"\"}}, \"type\": \"scatterpolar\"}], \"scatterpolargl\": [{\"marker\": {\"colorbar\": {\"outlinewidth\": 0, \"ticks\": \"\"}}, \"type\": \"scatterpolargl\"}], \"scatterternary\": [{\"marker\": {\"colorbar\": {\"outlinewidth\": 0, \"ticks\": \"\"}}, \"type\": \"scatterternary\"}], \"surface\": [{\"colorbar\": {\"outlinewidth\": 0, \"ticks\": \"\"}, \"colorscale\": [[0.0, \"#0d0887\"], [0.1111111111111111, \"#46039f\"], [0.2222222222222222, \"#7201a8\"], [0.3333333333333333, \"#9c179e\"], [0.4444444444444444, \"#bd3786\"], [0.5555555555555556, \"#d8576b\"], [0.6666666666666666, \"#ed7953\"], [0.7777777777777778, \"#fb9f3a\"], [0.8888888888888888, \"#fdca26\"], [1.0, \"#f0f921\"]], \"type\": \"surface\"}], \"table\": [{\"cells\": {\"fill\": {\"color\": \"#EBF0F8\"}, \"line\": {\"color\": \"white\"}}, \"header\": {\"fill\": {\"color\": \"#C8D4E3\"}, \"line\": {\"color\": \"white\"}}, \"type\": \"table\"}]}, \"layout\": {\"annotationdefaults\": {\"arrowcolor\": \"#2a3f5f\", \"arrowhead\": 0, \"arrowwidth\": 1}, \"coloraxis\": {\"colorbar\": {\"outlinewidth\": 0, \"ticks\": \"\"}}, \"colorscale\": {\"diverging\": [[0, \"#8e0152\"], [0.1, \"#c51b7d\"], [0.2, \"#de77ae\"], [0.3, \"#f1b6da\"], [0.4, \"#fde0ef\"], [0.5, \"#f7f7f7\"], [0.6, \"#e6f5d0\"], [0.7, \"#b8e186\"], [0.8, \"#7fbc41\"], [0.9, \"#4d9221\"], [1, \"#276419\"]], \"sequential\": [[0.0, \"#0d0887\"], [0.1111111111111111, \"#46039f\"], [0.2222222222222222, \"#7201a8\"], [0.3333333333333333, \"#9c179e\"], [0.4444444444444444, \"#bd3786\"], [0.5555555555555556, \"#d8576b\"], [0.6666666666666666, \"#ed7953\"], [0.7777777777777778, \"#fb9f3a\"], [0.8888888888888888, \"#fdca26\"], [1.0, \"#f0f921\"]], \"sequentialminus\": [[0.0, \"#0d0887\"], [0.1111111111111111, \"#46039f\"], [0.2222222222222222, \"#7201a8\"], [0.3333333333333333, \"#9c179e\"], [0.4444444444444444, \"#bd3786\"], [0.5555555555555556, \"#d8576b\"], [0.6666666666666666, \"#ed7953\"], [0.7777777777777778, \"#fb9f3a\"], [0.8888888888888888, \"#fdca26\"], [1.0, \"#f0f921\"]]}, \"colorway\": [\"#636efa\", \"#EF553B\", \"#00cc96\", \"#ab63fa\", \"#FFA15A\", \"#19d3f3\", \"#FF6692\", \"#B6E880\", \"#FF97FF\", \"#FECB52\"], \"font\": {\"color\": \"#2a3f5f\"}, \"geo\": {\"bgcolor\": \"white\", \"lakecolor\": \"white\", \"landcolor\": \"#E5ECF6\", \"showlakes\": true, \"showland\": true, \"subunitcolor\": \"white\"}, \"hoverlabel\": {\"align\": \"left\"}, \"hovermode\": \"closest\", \"mapbox\": {\"style\": \"light\"}, \"paper_bgcolor\": \"white\", \"plot_bgcolor\": \"#E5ECF6\", \"polar\": {\"angularaxis\": {\"gridcolor\": \"white\", \"linecolor\": \"white\", \"ticks\": \"\"}, \"bgcolor\": \"#E5ECF6\", \"radialaxis\": {\"gridcolor\": \"white\", \"linecolor\": \"white\", \"ticks\": \"\"}}, \"scene\": {\"xaxis\": {\"backgroundcolor\": \"#E5ECF6\", \"gridcolor\": \"white\", \"gridwidth\": 2, \"linecolor\": \"white\", \"showbackground\": true, \"ticks\": \"\", \"zerolinecolor\": \"white\"}, \"yaxis\": {\"backgroundcolor\": \"#E5ECF6\", \"gridcolor\": \"white\", \"gridwidth\": 2, \"linecolor\": \"white\", \"showbackground\": true, \"ticks\": \"\", \"zerolinecolor\": \"white\"}, \"zaxis\": {\"backgroundcolor\": \"#E5ECF6\", \"gridcolor\": \"white\", \"gridwidth\": 2, \"linecolor\": \"white\", \"showbackground\": true, \"ticks\": \"\", \"zerolinecolor\": \"white\"}}, \"shapedefaults\": {\"line\": {\"color\": \"#2a3f5f\"}}, \"ternary\": {\"aaxis\": {\"gridcolor\": \"white\", \"linecolor\": \"white\", \"ticks\": \"\"}, \"baxis\": {\"gridcolor\": \"white\", \"linecolor\": \"white\", \"ticks\": \"\"}, \"bgcolor\": \"#E5ECF6\", \"caxis\": {\"gridcolor\": \"white\", \"linecolor\": \"white\", \"ticks\": \"\"}}, \"title\": {\"x\": 0.05}, \"xaxis\": {\"automargin\": true, \"gridcolor\": \"white\", \"linecolor\": \"white\", \"ticks\": \"\", \"title\": {\"standoff\": 15}, \"zerolinecolor\": \"white\", \"zerolinewidth\": 2}, \"yaxis\": {\"automargin\": true, \"gridcolor\": \"white\", \"linecolor\": \"white\", \"ticks\": \"\", \"title\": {\"standoff\": 15}, \"zerolinecolor\": \"white\", \"zerolinewidth\": 2}}}, \"title\": {\"font\": {\"color\": \"#4D5663\"}}, \"xaxis\": {\"gridcolor\": \"#E1E5ED\", \"showgrid\": true, \"tickfont\": {\"color\": \"#4D5663\"}, \"title\": {\"font\": {\"color\": \"#4D5663\"}, \"text\": \"\"}, \"zerolinecolor\": \"#E1E5ED\"}, \"yaxis\": {\"gridcolor\": \"#E1E5ED\", \"showgrid\": true, \"tickfont\": {\"color\": \"#4D5663\"}, \"title\": {\"font\": {\"color\": \"#4D5663\"}, \"text\": \"\"}, \"zerolinecolor\": \"#E1E5ED\"}},\n",
       "                        {\"showLink\": true, \"linkText\": \"Export to plot.ly\", \"plotlyServerURL\": \"https://plot.ly\", \"responsive\": true}\n",
       "                    ).then(function(){\n",
       "                            \n",
       "var gd = document.getElementById('4abee72b-2e5a-4696-96eb-8777fff6386d');\n",
       "var x = new MutationObserver(function (mutations, observer) {{\n",
       "        var display = window.getComputedStyle(gd).display;\n",
       "        if (!display || display === 'none') {{\n",
       "            console.log([gd, 'removed!']);\n",
       "            Plotly.purge(gd);\n",
       "            observer.disconnect();\n",
       "        }}\n",
       "}});\n",
       "\n",
       "// Listen for the removal of the full notebook cells\n",
       "var notebookContainer = gd.closest('#notebook-container');\n",
       "if (notebookContainer) {{\n",
       "    x.observe(notebookContainer, {childList: true});\n",
       "}}\n",
       "\n",
       "// Listen for the clearing of the current output cell\n",
       "var outputEl = gd.closest('.output');\n",
       "if (outputEl) {{\n",
       "    x.observe(outputEl, {childList: true});\n",
       "}}\n",
       "\n",
       "                        })\n",
       "                };\n",
       "                });\n",
       "            </script>\n",
       "        </div>"
      ]
     },
     "metadata": {},
     "output_type": "display_data"
    }
   ],
   "source": [
    "df.iplot()"
   ]
  },
  {
   "cell_type": "code",
   "execution_count": 24,
   "metadata": {},
   "outputs": [
    {
     "data": {
      "application/vnd.plotly.v1+json": {
       "config": {
        "linkText": "Export to plot.ly",
        "plotlyServerURL": "https://plot.ly",
        "showLink": true
       },
       "data": [
        {
         "line": {
          "color": "rgba(255, 153, 51, 1.0)",
          "dash": "solid",
          "shape": "linear",
          "width": 1.3
         },
         "marker": {
          "size": 12,
          "symbol": "circle"
         },
         "mode": "markers",
         "name": "B",
         "text": "",
         "type": "scatter",
         "x": [
          -0.6070225586537845,
          -1.8638739423338426,
          -0.02945872276840593,
          -1.301291297310065,
          0.48084833474018185,
          0.7628548206270173,
          -0.28843164746247685,
          0.6019043240278631,
          -0.8763709987921026,
          1.702802294665911,
          0.03894666378491089,
          -0.391247915748716,
          -0.3232684791801891,
          0.5555540390983371,
          -0.5833873983870684,
          -0.0844703205455899,
          -0.5139830214610452,
          -0.9874331374104602,
          1.3231224108983104,
          1.3852294994314818,
          0.495802931458785,
          1.5044941738291178,
          2.013539747855578,
          -0.9350456661961715,
          -0.07199477165247954,
          -0.012588234544470622,
          1.0286702624831179,
          -0.30675308423320574,
          -2.0813241088469705,
          0.9113534548782632,
          -1.1821295689927516,
          0.39712861820350376,
          0.32421117523347154,
          -1.388467161393341,
          -1.8196690472248764,
          1.2781438676085672,
          1.1244717635481953,
          2.6878665336118686,
          -1.6109429503383526,
          -0.3309381064713909,
          0.1012450075722931,
          -0.6927193028799976,
          -1.7779565769379178,
          -0.4937356719987772,
          -0.9214348954348198,
          0.04960273216795757,
          -2.6493834985687386,
          -0.3863153542191854,
          -0.5203504684321614,
          0.5977880177234898,
          1.5935857254212724,
          0.30130947631160576,
          -0.24209057064901562,
          2.393932462989073,
          0.48453201427412146,
          1.1471246976281726,
          1.2228406556961817,
          1.0816068853591136,
          -0.7424208071880561,
          0.7861844219733373,
          0.7498272838099621,
          -0.025596103412613782,
          -0.8244905811186303,
          0.6800258715624917,
          0.5426539687452233,
          -0.3376995252397134,
          0.4782136125101678,
          1.61174979268537,
          -0.009447379791987958,
          2.0385534852770575,
          2.017903156882396,
          -0.04108963367107593,
          -0.37405806660701296,
          1.6557536077103534,
          -0.9180687240107729,
          -1.3509762396010478,
          -1.3245247370933935,
          0.1883981543352357,
          -1.007096270807894,
          0.112857625621616,
          -0.03716265055480332,
          -1.3047337291461698,
          -1.8938223768162143,
          -0.05915120037142549,
          -0.022261006449155404,
          -2.2257467886082813,
          0.299708338942967,
          -0.11551816567653965,
          -0.22224470630933316,
          1.8203093144170124,
          -0.9809281853994635,
          0.8258301853601936,
          1.747369363537277,
          0.4451763013778281,
          0.8233981834134183,
          -0.37937479326251894,
          -1.4536121716892259,
          1.1622792298167708,
          0.2870601492366928,
          -1.3293818887641389
         ],
         "y": [
          0.39442564922170886,
          1.1545382861670683,
          -0.3981929049509391,
          1.0607053367391788,
          -1.0927982071594042,
          0.8938581864801937,
          0.10953427785913276,
          1.100603769799354,
          -0.037145165173287524,
          0.820385609335391,
          0.1757448574089021,
          -1.4281471214410326,
          1.3192507531473423,
          0.591642670955045,
          0.5229932990718201,
          0.13605660011946183,
          -0.2100106055939634,
          -0.5700547463822505,
          -0.3323261428045018,
          1.4377556274630496,
          0.14413892892924288,
          0.05300178117926253,
          0.15897168480049687,
          -0.4642246356303038,
          -0.062162694238745014,
          -0.404997912384452,
          -0.7201482218638331,
          2.023568952952069,
          -1.6214853359956733,
          0.542085407732597,
          0.5827569941618997,
          0.3776319435990386,
          0.7860509953709055,
          -0.5428417186393626,
          -0.6218017304368952,
          -0.01711816060498298,
          0.8909241978978917,
          -1.1794232525669857,
          -0.23428574473243066,
          0.6223056989779824,
          -0.13862316143162234,
          1.3989648648043242,
          -1.2881252741130682,
          0.7279631578004603,
          -0.048807113398033994,
          1.0394435684890488,
          -3.3911593703715184,
          -0.524115543518746,
          1.9491071278041052,
          0.07942048576898976,
          -0.6641974846295369,
          -1.0352913027794661,
          -0.6683730021861155,
          -2.0801704608528366,
          -0.6236871291314133,
          0.5545284284650903,
          0.09672761646458744,
          -0.957367126309057,
          -1.3015723703851805,
          0.529996087442483,
          0.36037265455029355,
          -0.825360660875962,
          1.6074276743204716,
          -2.125383315024735,
          0.2729482690721516,
          0.2648116479946539,
          -0.6484000338053134,
          -0.8529199767742717,
          -0.46666971985268213,
          -0.6044278288068219,
          0.6411021729993239,
          1.607115690297109,
          0.642969908406056,
          3.4880296066713408,
          1.5160479793033188,
          0.21650854966375002,
          1.1058470153140674,
          0.9089965059567509,
          -0.9594932219442222,
          -0.5825050989047242,
          -0.006558177721396607,
          1.2314458312022174,
          -0.445862995858089,
          0.32692197599067874,
          -0.16732624075897054,
          -0.06631960996464281,
          -0.5567444312996315,
          -1.2697328105510748,
          -0.6461202658830911,
          -1.6486385015803198,
          0.8697462032738772,
          1.071978584989495,
          1.0115715290572223,
          0.688291257034643,
          -0.4446104637134038,
          -1.370232127902445,
          0.711851270271103,
          -1.4409175804017305,
          0.17758469504751084,
          -0.3488266307639724
         ]
        }
       ],
       "layout": {
        "legend": {
         "bgcolor": "#F5F6F9",
         "font": {
          "color": "#4D5663"
         }
        },
        "paper_bgcolor": "#F5F6F9",
        "plot_bgcolor": "#F5F6F9",
        "template": {
         "data": {
          "bar": [
           {
            "error_x": {
             "color": "#2a3f5f"
            },
            "error_y": {
             "color": "#2a3f5f"
            },
            "marker": {
             "line": {
              "color": "#E5ECF6",
              "width": 0.5
             }
            },
            "type": "bar"
           }
          ],
          "barpolar": [
           {
            "marker": {
             "line": {
              "color": "#E5ECF6",
              "width": 0.5
             }
            },
            "type": "barpolar"
           }
          ],
          "carpet": [
           {
            "aaxis": {
             "endlinecolor": "#2a3f5f",
             "gridcolor": "white",
             "linecolor": "white",
             "minorgridcolor": "white",
             "startlinecolor": "#2a3f5f"
            },
            "baxis": {
             "endlinecolor": "#2a3f5f",
             "gridcolor": "white",
             "linecolor": "white",
             "minorgridcolor": "white",
             "startlinecolor": "#2a3f5f"
            },
            "type": "carpet"
           }
          ],
          "choropleth": [
           {
            "colorbar": {
             "outlinewidth": 0,
             "ticks": ""
            },
            "type": "choropleth"
           }
          ],
          "contour": [
           {
            "colorbar": {
             "outlinewidth": 0,
             "ticks": ""
            },
            "colorscale": [
             [
              0,
              "#0d0887"
             ],
             [
              0.1111111111111111,
              "#46039f"
             ],
             [
              0.2222222222222222,
              "#7201a8"
             ],
             [
              0.3333333333333333,
              "#9c179e"
             ],
             [
              0.4444444444444444,
              "#bd3786"
             ],
             [
              0.5555555555555556,
              "#d8576b"
             ],
             [
              0.6666666666666666,
              "#ed7953"
             ],
             [
              0.7777777777777778,
              "#fb9f3a"
             ],
             [
              0.8888888888888888,
              "#fdca26"
             ],
             [
              1,
              "#f0f921"
             ]
            ],
            "type": "contour"
           }
          ],
          "contourcarpet": [
           {
            "colorbar": {
             "outlinewidth": 0,
             "ticks": ""
            },
            "type": "contourcarpet"
           }
          ],
          "heatmap": [
           {
            "colorbar": {
             "outlinewidth": 0,
             "ticks": ""
            },
            "colorscale": [
             [
              0,
              "#0d0887"
             ],
             [
              0.1111111111111111,
              "#46039f"
             ],
             [
              0.2222222222222222,
              "#7201a8"
             ],
             [
              0.3333333333333333,
              "#9c179e"
             ],
             [
              0.4444444444444444,
              "#bd3786"
             ],
             [
              0.5555555555555556,
              "#d8576b"
             ],
             [
              0.6666666666666666,
              "#ed7953"
             ],
             [
              0.7777777777777778,
              "#fb9f3a"
             ],
             [
              0.8888888888888888,
              "#fdca26"
             ],
             [
              1,
              "#f0f921"
             ]
            ],
            "type": "heatmap"
           }
          ],
          "heatmapgl": [
           {
            "colorbar": {
             "outlinewidth": 0,
             "ticks": ""
            },
            "colorscale": [
             [
              0,
              "#0d0887"
             ],
             [
              0.1111111111111111,
              "#46039f"
             ],
             [
              0.2222222222222222,
              "#7201a8"
             ],
             [
              0.3333333333333333,
              "#9c179e"
             ],
             [
              0.4444444444444444,
              "#bd3786"
             ],
             [
              0.5555555555555556,
              "#d8576b"
             ],
             [
              0.6666666666666666,
              "#ed7953"
             ],
             [
              0.7777777777777778,
              "#fb9f3a"
             ],
             [
              0.8888888888888888,
              "#fdca26"
             ],
             [
              1,
              "#f0f921"
             ]
            ],
            "type": "heatmapgl"
           }
          ],
          "histogram": [
           {
            "marker": {
             "colorbar": {
              "outlinewidth": 0,
              "ticks": ""
             }
            },
            "type": "histogram"
           }
          ],
          "histogram2d": [
           {
            "colorbar": {
             "outlinewidth": 0,
             "ticks": ""
            },
            "colorscale": [
             [
              0,
              "#0d0887"
             ],
             [
              0.1111111111111111,
              "#46039f"
             ],
             [
              0.2222222222222222,
              "#7201a8"
             ],
             [
              0.3333333333333333,
              "#9c179e"
             ],
             [
              0.4444444444444444,
              "#bd3786"
             ],
             [
              0.5555555555555556,
              "#d8576b"
             ],
             [
              0.6666666666666666,
              "#ed7953"
             ],
             [
              0.7777777777777778,
              "#fb9f3a"
             ],
             [
              0.8888888888888888,
              "#fdca26"
             ],
             [
              1,
              "#f0f921"
             ]
            ],
            "type": "histogram2d"
           }
          ],
          "histogram2dcontour": [
           {
            "colorbar": {
             "outlinewidth": 0,
             "ticks": ""
            },
            "colorscale": [
             [
              0,
              "#0d0887"
             ],
             [
              0.1111111111111111,
              "#46039f"
             ],
             [
              0.2222222222222222,
              "#7201a8"
             ],
             [
              0.3333333333333333,
              "#9c179e"
             ],
             [
              0.4444444444444444,
              "#bd3786"
             ],
             [
              0.5555555555555556,
              "#d8576b"
             ],
             [
              0.6666666666666666,
              "#ed7953"
             ],
             [
              0.7777777777777778,
              "#fb9f3a"
             ],
             [
              0.8888888888888888,
              "#fdca26"
             ],
             [
              1,
              "#f0f921"
             ]
            ],
            "type": "histogram2dcontour"
           }
          ],
          "mesh3d": [
           {
            "colorbar": {
             "outlinewidth": 0,
             "ticks": ""
            },
            "type": "mesh3d"
           }
          ],
          "parcoords": [
           {
            "line": {
             "colorbar": {
              "outlinewidth": 0,
              "ticks": ""
             }
            },
            "type": "parcoords"
           }
          ],
          "pie": [
           {
            "automargin": true,
            "type": "pie"
           }
          ],
          "scatter": [
           {
            "marker": {
             "colorbar": {
              "outlinewidth": 0,
              "ticks": ""
             }
            },
            "type": "scatter"
           }
          ],
          "scatter3d": [
           {
            "line": {
             "colorbar": {
              "outlinewidth": 0,
              "ticks": ""
             }
            },
            "marker": {
             "colorbar": {
              "outlinewidth": 0,
              "ticks": ""
             }
            },
            "type": "scatter3d"
           }
          ],
          "scattercarpet": [
           {
            "marker": {
             "colorbar": {
              "outlinewidth": 0,
              "ticks": ""
             }
            },
            "type": "scattercarpet"
           }
          ],
          "scattergeo": [
           {
            "marker": {
             "colorbar": {
              "outlinewidth": 0,
              "ticks": ""
             }
            },
            "type": "scattergeo"
           }
          ],
          "scattergl": [
           {
            "marker": {
             "colorbar": {
              "outlinewidth": 0,
              "ticks": ""
             }
            },
            "type": "scattergl"
           }
          ],
          "scattermapbox": [
           {
            "marker": {
             "colorbar": {
              "outlinewidth": 0,
              "ticks": ""
             }
            },
            "type": "scattermapbox"
           }
          ],
          "scatterpolar": [
           {
            "marker": {
             "colorbar": {
              "outlinewidth": 0,
              "ticks": ""
             }
            },
            "type": "scatterpolar"
           }
          ],
          "scatterpolargl": [
           {
            "marker": {
             "colorbar": {
              "outlinewidth": 0,
              "ticks": ""
             }
            },
            "type": "scatterpolargl"
           }
          ],
          "scatterternary": [
           {
            "marker": {
             "colorbar": {
              "outlinewidth": 0,
              "ticks": ""
             }
            },
            "type": "scatterternary"
           }
          ],
          "surface": [
           {
            "colorbar": {
             "outlinewidth": 0,
             "ticks": ""
            },
            "colorscale": [
             [
              0,
              "#0d0887"
             ],
             [
              0.1111111111111111,
              "#46039f"
             ],
             [
              0.2222222222222222,
              "#7201a8"
             ],
             [
              0.3333333333333333,
              "#9c179e"
             ],
             [
              0.4444444444444444,
              "#bd3786"
             ],
             [
              0.5555555555555556,
              "#d8576b"
             ],
             [
              0.6666666666666666,
              "#ed7953"
             ],
             [
              0.7777777777777778,
              "#fb9f3a"
             ],
             [
              0.8888888888888888,
              "#fdca26"
             ],
             [
              1,
              "#f0f921"
             ]
            ],
            "type": "surface"
           }
          ],
          "table": [
           {
            "cells": {
             "fill": {
              "color": "#EBF0F8"
             },
             "line": {
              "color": "white"
             }
            },
            "header": {
             "fill": {
              "color": "#C8D4E3"
             },
             "line": {
              "color": "white"
             }
            },
            "type": "table"
           }
          ]
         },
         "layout": {
          "annotationdefaults": {
           "arrowcolor": "#2a3f5f",
           "arrowhead": 0,
           "arrowwidth": 1
          },
          "coloraxis": {
           "colorbar": {
            "outlinewidth": 0,
            "ticks": ""
           }
          },
          "colorscale": {
           "diverging": [
            [
             0,
             "#8e0152"
            ],
            [
             0.1,
             "#c51b7d"
            ],
            [
             0.2,
             "#de77ae"
            ],
            [
             0.3,
             "#f1b6da"
            ],
            [
             0.4,
             "#fde0ef"
            ],
            [
             0.5,
             "#f7f7f7"
            ],
            [
             0.6,
             "#e6f5d0"
            ],
            [
             0.7,
             "#b8e186"
            ],
            [
             0.8,
             "#7fbc41"
            ],
            [
             0.9,
             "#4d9221"
            ],
            [
             1,
             "#276419"
            ]
           ],
           "sequential": [
            [
             0,
             "#0d0887"
            ],
            [
             0.1111111111111111,
             "#46039f"
            ],
            [
             0.2222222222222222,
             "#7201a8"
            ],
            [
             0.3333333333333333,
             "#9c179e"
            ],
            [
             0.4444444444444444,
             "#bd3786"
            ],
            [
             0.5555555555555556,
             "#d8576b"
            ],
            [
             0.6666666666666666,
             "#ed7953"
            ],
            [
             0.7777777777777778,
             "#fb9f3a"
            ],
            [
             0.8888888888888888,
             "#fdca26"
            ],
            [
             1,
             "#f0f921"
            ]
           ],
           "sequentialminus": [
            [
             0,
             "#0d0887"
            ],
            [
             0.1111111111111111,
             "#46039f"
            ],
            [
             0.2222222222222222,
             "#7201a8"
            ],
            [
             0.3333333333333333,
             "#9c179e"
            ],
            [
             0.4444444444444444,
             "#bd3786"
            ],
            [
             0.5555555555555556,
             "#d8576b"
            ],
            [
             0.6666666666666666,
             "#ed7953"
            ],
            [
             0.7777777777777778,
             "#fb9f3a"
            ],
            [
             0.8888888888888888,
             "#fdca26"
            ],
            [
             1,
             "#f0f921"
            ]
           ]
          },
          "colorway": [
           "#636efa",
           "#EF553B",
           "#00cc96",
           "#ab63fa",
           "#FFA15A",
           "#19d3f3",
           "#FF6692",
           "#B6E880",
           "#FF97FF",
           "#FECB52"
          ],
          "font": {
           "color": "#2a3f5f"
          },
          "geo": {
           "bgcolor": "white",
           "lakecolor": "white",
           "landcolor": "#E5ECF6",
           "showlakes": true,
           "showland": true,
           "subunitcolor": "white"
          },
          "hoverlabel": {
           "align": "left"
          },
          "hovermode": "closest",
          "mapbox": {
           "style": "light"
          },
          "paper_bgcolor": "white",
          "plot_bgcolor": "#E5ECF6",
          "polar": {
           "angularaxis": {
            "gridcolor": "white",
            "linecolor": "white",
            "ticks": ""
           },
           "bgcolor": "#E5ECF6",
           "radialaxis": {
            "gridcolor": "white",
            "linecolor": "white",
            "ticks": ""
           }
          },
          "scene": {
           "xaxis": {
            "backgroundcolor": "#E5ECF6",
            "gridcolor": "white",
            "gridwidth": 2,
            "linecolor": "white",
            "showbackground": true,
            "ticks": "",
            "zerolinecolor": "white"
           },
           "yaxis": {
            "backgroundcolor": "#E5ECF6",
            "gridcolor": "white",
            "gridwidth": 2,
            "linecolor": "white",
            "showbackground": true,
            "ticks": "",
            "zerolinecolor": "white"
           },
           "zaxis": {
            "backgroundcolor": "#E5ECF6",
            "gridcolor": "white",
            "gridwidth": 2,
            "linecolor": "white",
            "showbackground": true,
            "ticks": "",
            "zerolinecolor": "white"
           }
          },
          "shapedefaults": {
           "line": {
            "color": "#2a3f5f"
           }
          },
          "ternary": {
           "aaxis": {
            "gridcolor": "white",
            "linecolor": "white",
            "ticks": ""
           },
           "baxis": {
            "gridcolor": "white",
            "linecolor": "white",
            "ticks": ""
           },
           "bgcolor": "#E5ECF6",
           "caxis": {
            "gridcolor": "white",
            "linecolor": "white",
            "ticks": ""
           }
          },
          "title": {
           "x": 0.05
          },
          "xaxis": {
           "automargin": true,
           "gridcolor": "white",
           "linecolor": "white",
           "ticks": "",
           "title": {
            "standoff": 15
           },
           "zerolinecolor": "white",
           "zerolinewidth": 2
          },
          "yaxis": {
           "automargin": true,
           "gridcolor": "white",
           "linecolor": "white",
           "ticks": "",
           "title": {
            "standoff": 15
           },
           "zerolinecolor": "white",
           "zerolinewidth": 2
          }
         }
        },
        "title": {
         "font": {
          "color": "#4D5663"
         }
        },
        "xaxis": {
         "gridcolor": "#E1E5ED",
         "showgrid": true,
         "tickfont": {
          "color": "#4D5663"
         },
         "title": {
          "font": {
           "color": "#4D5663"
          },
          "text": ""
         },
         "zerolinecolor": "#E1E5ED"
        },
        "yaxis": {
         "gridcolor": "#E1E5ED",
         "showgrid": true,
         "tickfont": {
          "color": "#4D5663"
         },
         "title": {
          "font": {
           "color": "#4D5663"
          },
          "text": ""
         },
         "zerolinecolor": "#E1E5ED"
        }
       }
      },
      "text/html": [
       "<div>\n",
       "        \n",
       "        \n",
       "            <div id=\"0cd72fd2-8786-48ac-a96b-c492f141a62a\" class=\"plotly-graph-div\" style=\"height:525px; width:100%;\"></div>\n",
       "            <script type=\"text/javascript\">\n",
       "                require([\"plotly\"], function(Plotly) {\n",
       "                    window.PLOTLYENV=window.PLOTLYENV || {};\n",
       "                    window.PLOTLYENV.BASE_URL='https://plot.ly';\n",
       "                    \n",
       "                if (document.getElementById(\"0cd72fd2-8786-48ac-a96b-c492f141a62a\")) {\n",
       "                    Plotly.newPlot(\n",
       "                        '0cd72fd2-8786-48ac-a96b-c492f141a62a',\n",
       "                        [{\"line\": {\"color\": \"rgba(255, 153, 51, 1.0)\", \"dash\": \"solid\", \"shape\": \"linear\", \"width\": 1.3}, \"marker\": {\"size\": 12, \"symbol\": \"circle\"}, \"mode\": \"markers\", \"name\": \"B\", \"text\": \"\", \"type\": \"scatter\", \"x\": [-0.6070225586537845, -1.8638739423338426, -0.02945872276840593, -1.301291297310065, 0.48084833474018185, 0.7628548206270173, -0.28843164746247685, 0.6019043240278631, -0.8763709987921026, 1.702802294665911, 0.03894666378491089, -0.391247915748716, -0.3232684791801891, 0.5555540390983371, -0.5833873983870684, -0.0844703205455899, -0.5139830214610452, -0.9874331374104602, 1.3231224108983104, 1.3852294994314818, 0.495802931458785, 1.5044941738291178, 2.013539747855578, -0.9350456661961715, -0.07199477165247954, -0.012588234544470622, 1.0286702624831179, -0.30675308423320574, -2.0813241088469705, 0.9113534548782632, -1.1821295689927516, 0.39712861820350376, 0.32421117523347154, -1.388467161393341, -1.8196690472248764, 1.2781438676085672, 1.1244717635481953, 2.6878665336118686, -1.6109429503383526, -0.3309381064713909, 0.1012450075722931, -0.6927193028799976, -1.7779565769379178, -0.4937356719987772, -0.9214348954348198, 0.04960273216795757, -2.6493834985687386, -0.3863153542191854, -0.5203504684321614, 0.5977880177234898, 1.5935857254212724, 0.30130947631160576, -0.24209057064901562, 2.393932462989073, 0.48453201427412146, 1.1471246976281726, 1.2228406556961817, 1.0816068853591136, -0.7424208071880561, 0.7861844219733373, 0.7498272838099621, -0.025596103412613782, -0.8244905811186303, 0.6800258715624917, 0.5426539687452233, -0.3376995252397134, 0.4782136125101678, 1.61174979268537, -0.009447379791987958, 2.0385534852770575, 2.017903156882396, -0.04108963367107593, -0.37405806660701296, 1.6557536077103534, -0.9180687240107729, -1.3509762396010478, -1.3245247370933935, 0.1883981543352357, -1.007096270807894, 0.112857625621616, -0.03716265055480332, -1.3047337291461698, -1.8938223768162143, -0.05915120037142549, -0.022261006449155404, -2.2257467886082813, 0.299708338942967, -0.11551816567653965, -0.22224470630933316, 1.8203093144170124, -0.9809281853994635, 0.8258301853601936, 1.747369363537277, 0.4451763013778281, 0.8233981834134183, -0.37937479326251894, -1.4536121716892259, 1.1622792298167708, 0.2870601492366928, -1.3293818887641389], \"y\": [0.39442564922170886, 1.1545382861670683, -0.3981929049509391, 1.0607053367391788, -1.0927982071594042, 0.8938581864801937, 0.10953427785913276, 1.100603769799354, -0.037145165173287524, 0.820385609335391, 0.1757448574089021, -1.4281471214410326, 1.3192507531473423, 0.591642670955045, 0.5229932990718201, 0.13605660011946183, -0.2100106055939634, -0.5700547463822505, -0.3323261428045018, 1.4377556274630496, 0.14413892892924288, 0.05300178117926253, 0.15897168480049687, -0.4642246356303038, -0.062162694238745014, -0.404997912384452, -0.7201482218638331, 2.023568952952069, -1.6214853359956733, 0.542085407732597, 0.5827569941618997, 0.3776319435990386, 0.7860509953709055, -0.5428417186393626, -0.6218017304368952, -0.01711816060498298, 0.8909241978978917, -1.1794232525669857, -0.23428574473243066, 0.6223056989779824, -0.13862316143162234, 1.3989648648043242, -1.2881252741130682, 0.7279631578004603, -0.048807113398033994, 1.0394435684890488, -3.3911593703715184, -0.524115543518746, 1.9491071278041052, 0.07942048576898976, -0.6641974846295369, -1.0352913027794661, -0.6683730021861155, -2.0801704608528366, -0.6236871291314133, 0.5545284284650903, 0.09672761646458744, -0.957367126309057, -1.3015723703851805, 0.529996087442483, 0.36037265455029355, -0.825360660875962, 1.6074276743204716, -2.125383315024735, 0.2729482690721516, 0.2648116479946539, -0.6484000338053134, -0.8529199767742717, -0.46666971985268213, -0.6044278288068219, 0.6411021729993239, 1.607115690297109, 0.642969908406056, 3.4880296066713408, 1.5160479793033188, 0.21650854966375002, 1.1058470153140674, 0.9089965059567509, -0.9594932219442222, -0.5825050989047242, -0.006558177721396607, 1.2314458312022174, -0.445862995858089, 0.32692197599067874, -0.16732624075897054, -0.06631960996464281, -0.5567444312996315, -1.2697328105510748, -0.6461202658830911, -1.6486385015803198, 0.8697462032738772, 1.071978584989495, 1.0115715290572223, 0.688291257034643, -0.4446104637134038, -1.370232127902445, 0.711851270271103, -1.4409175804017305, 0.17758469504751084, -0.3488266307639724]}],\n",
       "                        {\"legend\": {\"bgcolor\": \"#F5F6F9\", \"font\": {\"color\": \"#4D5663\"}}, \"paper_bgcolor\": \"#F5F6F9\", \"plot_bgcolor\": \"#F5F6F9\", \"template\": {\"data\": {\"bar\": [{\"error_x\": {\"color\": \"#2a3f5f\"}, \"error_y\": {\"color\": \"#2a3f5f\"}, \"marker\": {\"line\": {\"color\": \"#E5ECF6\", \"width\": 0.5}}, \"type\": \"bar\"}], \"barpolar\": [{\"marker\": {\"line\": {\"color\": \"#E5ECF6\", \"width\": 0.5}}, \"type\": \"barpolar\"}], \"carpet\": [{\"aaxis\": {\"endlinecolor\": \"#2a3f5f\", \"gridcolor\": \"white\", \"linecolor\": \"white\", \"minorgridcolor\": \"white\", \"startlinecolor\": \"#2a3f5f\"}, \"baxis\": {\"endlinecolor\": \"#2a3f5f\", \"gridcolor\": \"white\", \"linecolor\": \"white\", \"minorgridcolor\": \"white\", \"startlinecolor\": \"#2a3f5f\"}, \"type\": \"carpet\"}], \"choropleth\": [{\"colorbar\": {\"outlinewidth\": 0, \"ticks\": \"\"}, \"type\": \"choropleth\"}], \"contour\": [{\"colorbar\": {\"outlinewidth\": 0, \"ticks\": \"\"}, \"colorscale\": [[0.0, \"#0d0887\"], [0.1111111111111111, \"#46039f\"], [0.2222222222222222, \"#7201a8\"], [0.3333333333333333, \"#9c179e\"], [0.4444444444444444, \"#bd3786\"], [0.5555555555555556, \"#d8576b\"], [0.6666666666666666, \"#ed7953\"], [0.7777777777777778, \"#fb9f3a\"], [0.8888888888888888, \"#fdca26\"], [1.0, \"#f0f921\"]], \"type\": \"contour\"}], \"contourcarpet\": [{\"colorbar\": {\"outlinewidth\": 0, \"ticks\": \"\"}, \"type\": \"contourcarpet\"}], \"heatmap\": [{\"colorbar\": {\"outlinewidth\": 0, \"ticks\": \"\"}, \"colorscale\": [[0.0, \"#0d0887\"], [0.1111111111111111, \"#46039f\"], [0.2222222222222222, \"#7201a8\"], [0.3333333333333333, \"#9c179e\"], [0.4444444444444444, \"#bd3786\"], [0.5555555555555556, \"#d8576b\"], [0.6666666666666666, \"#ed7953\"], [0.7777777777777778, \"#fb9f3a\"], [0.8888888888888888, \"#fdca26\"], [1.0, \"#f0f921\"]], \"type\": \"heatmap\"}], \"heatmapgl\": [{\"colorbar\": {\"outlinewidth\": 0, \"ticks\": \"\"}, \"colorscale\": [[0.0, \"#0d0887\"], [0.1111111111111111, \"#46039f\"], [0.2222222222222222, \"#7201a8\"], [0.3333333333333333, \"#9c179e\"], [0.4444444444444444, \"#bd3786\"], [0.5555555555555556, \"#d8576b\"], [0.6666666666666666, \"#ed7953\"], [0.7777777777777778, \"#fb9f3a\"], [0.8888888888888888, \"#fdca26\"], [1.0, \"#f0f921\"]], \"type\": \"heatmapgl\"}], \"histogram\": [{\"marker\": {\"colorbar\": {\"outlinewidth\": 0, \"ticks\": \"\"}}, \"type\": \"histogram\"}], \"histogram2d\": [{\"colorbar\": {\"outlinewidth\": 0, \"ticks\": \"\"}, \"colorscale\": [[0.0, \"#0d0887\"], [0.1111111111111111, \"#46039f\"], [0.2222222222222222, \"#7201a8\"], [0.3333333333333333, \"#9c179e\"], [0.4444444444444444, \"#bd3786\"], [0.5555555555555556, \"#d8576b\"], [0.6666666666666666, \"#ed7953\"], [0.7777777777777778, \"#fb9f3a\"], [0.8888888888888888, \"#fdca26\"], [1.0, \"#f0f921\"]], \"type\": \"histogram2d\"}], \"histogram2dcontour\": [{\"colorbar\": {\"outlinewidth\": 0, \"ticks\": \"\"}, \"colorscale\": [[0.0, \"#0d0887\"], [0.1111111111111111, \"#46039f\"], [0.2222222222222222, \"#7201a8\"], [0.3333333333333333, \"#9c179e\"], [0.4444444444444444, \"#bd3786\"], [0.5555555555555556, \"#d8576b\"], [0.6666666666666666, \"#ed7953\"], [0.7777777777777778, \"#fb9f3a\"], [0.8888888888888888, \"#fdca26\"], [1.0, \"#f0f921\"]], \"type\": \"histogram2dcontour\"}], \"mesh3d\": [{\"colorbar\": {\"outlinewidth\": 0, \"ticks\": \"\"}, \"type\": \"mesh3d\"}], \"parcoords\": [{\"line\": {\"colorbar\": {\"outlinewidth\": 0, \"ticks\": \"\"}}, \"type\": \"parcoords\"}], \"pie\": [{\"automargin\": true, \"type\": \"pie\"}], \"scatter\": [{\"marker\": {\"colorbar\": {\"outlinewidth\": 0, \"ticks\": \"\"}}, \"type\": \"scatter\"}], \"scatter3d\": [{\"line\": {\"colorbar\": {\"outlinewidth\": 0, \"ticks\": \"\"}}, \"marker\": {\"colorbar\": {\"outlinewidth\": 0, \"ticks\": \"\"}}, \"type\": \"scatter3d\"}], \"scattercarpet\": [{\"marker\": {\"colorbar\": {\"outlinewidth\": 0, \"ticks\": \"\"}}, \"type\": \"scattercarpet\"}], \"scattergeo\": [{\"marker\": {\"colorbar\": {\"outlinewidth\": 0, \"ticks\": \"\"}}, \"type\": \"scattergeo\"}], \"scattergl\": [{\"marker\": {\"colorbar\": {\"outlinewidth\": 0, \"ticks\": \"\"}}, \"type\": \"scattergl\"}], \"scattermapbox\": [{\"marker\": {\"colorbar\": {\"outlinewidth\": 0, \"ticks\": \"\"}}, \"type\": \"scattermapbox\"}], \"scatterpolar\": [{\"marker\": {\"colorbar\": {\"outlinewidth\": 0, \"ticks\": \"\"}}, \"type\": \"scatterpolar\"}], \"scatterpolargl\": [{\"marker\": {\"colorbar\": {\"outlinewidth\": 0, \"ticks\": \"\"}}, \"type\": \"scatterpolargl\"}], \"scatterternary\": [{\"marker\": {\"colorbar\": {\"outlinewidth\": 0, \"ticks\": \"\"}}, \"type\": \"scatterternary\"}], \"surface\": [{\"colorbar\": {\"outlinewidth\": 0, \"ticks\": \"\"}, \"colorscale\": [[0.0, \"#0d0887\"], [0.1111111111111111, \"#46039f\"], [0.2222222222222222, \"#7201a8\"], [0.3333333333333333, \"#9c179e\"], [0.4444444444444444, \"#bd3786\"], [0.5555555555555556, \"#d8576b\"], [0.6666666666666666, \"#ed7953\"], [0.7777777777777778, \"#fb9f3a\"], [0.8888888888888888, \"#fdca26\"], [1.0, \"#f0f921\"]], \"type\": \"surface\"}], \"table\": [{\"cells\": {\"fill\": {\"color\": \"#EBF0F8\"}, \"line\": {\"color\": \"white\"}}, \"header\": {\"fill\": {\"color\": \"#C8D4E3\"}, \"line\": {\"color\": \"white\"}}, \"type\": \"table\"}]}, \"layout\": {\"annotationdefaults\": {\"arrowcolor\": \"#2a3f5f\", \"arrowhead\": 0, \"arrowwidth\": 1}, \"coloraxis\": {\"colorbar\": {\"outlinewidth\": 0, \"ticks\": \"\"}}, \"colorscale\": {\"diverging\": [[0, \"#8e0152\"], [0.1, \"#c51b7d\"], [0.2, \"#de77ae\"], [0.3, \"#f1b6da\"], [0.4, \"#fde0ef\"], [0.5, \"#f7f7f7\"], [0.6, \"#e6f5d0\"], [0.7, \"#b8e186\"], [0.8, \"#7fbc41\"], [0.9, \"#4d9221\"], [1, \"#276419\"]], \"sequential\": [[0.0, \"#0d0887\"], [0.1111111111111111, \"#46039f\"], [0.2222222222222222, \"#7201a8\"], [0.3333333333333333, \"#9c179e\"], [0.4444444444444444, \"#bd3786\"], [0.5555555555555556, \"#d8576b\"], [0.6666666666666666, \"#ed7953\"], [0.7777777777777778, \"#fb9f3a\"], [0.8888888888888888, \"#fdca26\"], [1.0, \"#f0f921\"]], \"sequentialminus\": [[0.0, \"#0d0887\"], [0.1111111111111111, \"#46039f\"], [0.2222222222222222, \"#7201a8\"], [0.3333333333333333, \"#9c179e\"], [0.4444444444444444, \"#bd3786\"], [0.5555555555555556, \"#d8576b\"], [0.6666666666666666, \"#ed7953\"], [0.7777777777777778, \"#fb9f3a\"], [0.8888888888888888, \"#fdca26\"], [1.0, \"#f0f921\"]]}, \"colorway\": [\"#636efa\", \"#EF553B\", \"#00cc96\", \"#ab63fa\", \"#FFA15A\", \"#19d3f3\", \"#FF6692\", \"#B6E880\", \"#FF97FF\", \"#FECB52\"], \"font\": {\"color\": \"#2a3f5f\"}, \"geo\": {\"bgcolor\": \"white\", \"lakecolor\": \"white\", \"landcolor\": \"#E5ECF6\", \"showlakes\": true, \"showland\": true, \"subunitcolor\": \"white\"}, \"hoverlabel\": {\"align\": \"left\"}, \"hovermode\": \"closest\", \"mapbox\": {\"style\": \"light\"}, \"paper_bgcolor\": \"white\", \"plot_bgcolor\": \"#E5ECF6\", \"polar\": {\"angularaxis\": {\"gridcolor\": \"white\", \"linecolor\": \"white\", \"ticks\": \"\"}, \"bgcolor\": \"#E5ECF6\", \"radialaxis\": {\"gridcolor\": \"white\", \"linecolor\": \"white\", \"ticks\": \"\"}}, \"scene\": {\"xaxis\": {\"backgroundcolor\": \"#E5ECF6\", \"gridcolor\": \"white\", \"gridwidth\": 2, \"linecolor\": \"white\", \"showbackground\": true, \"ticks\": \"\", \"zerolinecolor\": \"white\"}, \"yaxis\": {\"backgroundcolor\": \"#E5ECF6\", \"gridcolor\": \"white\", \"gridwidth\": 2, \"linecolor\": \"white\", \"showbackground\": true, \"ticks\": \"\", \"zerolinecolor\": \"white\"}, \"zaxis\": {\"backgroundcolor\": \"#E5ECF6\", \"gridcolor\": \"white\", \"gridwidth\": 2, \"linecolor\": \"white\", \"showbackground\": true, \"ticks\": \"\", \"zerolinecolor\": \"white\"}}, \"shapedefaults\": {\"line\": {\"color\": \"#2a3f5f\"}}, \"ternary\": {\"aaxis\": {\"gridcolor\": \"white\", \"linecolor\": \"white\", \"ticks\": \"\"}, \"baxis\": {\"gridcolor\": \"white\", \"linecolor\": \"white\", \"ticks\": \"\"}, \"bgcolor\": \"#E5ECF6\", \"caxis\": {\"gridcolor\": \"white\", \"linecolor\": \"white\", \"ticks\": \"\"}}, \"title\": {\"x\": 0.05}, \"xaxis\": {\"automargin\": true, \"gridcolor\": \"white\", \"linecolor\": \"white\", \"ticks\": \"\", \"title\": {\"standoff\": 15}, \"zerolinecolor\": \"white\", \"zerolinewidth\": 2}, \"yaxis\": {\"automargin\": true, \"gridcolor\": \"white\", \"linecolor\": \"white\", \"ticks\": \"\", \"title\": {\"standoff\": 15}, \"zerolinecolor\": \"white\", \"zerolinewidth\": 2}}}, \"title\": {\"font\": {\"color\": \"#4D5663\"}}, \"xaxis\": {\"gridcolor\": \"#E1E5ED\", \"showgrid\": true, \"tickfont\": {\"color\": \"#4D5663\"}, \"title\": {\"font\": {\"color\": \"#4D5663\"}, \"text\": \"\"}, \"zerolinecolor\": \"#E1E5ED\"}, \"yaxis\": {\"gridcolor\": \"#E1E5ED\", \"showgrid\": true, \"tickfont\": {\"color\": \"#4D5663\"}, \"title\": {\"font\": {\"color\": \"#4D5663\"}, \"text\": \"\"}, \"zerolinecolor\": \"#E1E5ED\"}},\n",
       "                        {\"showLink\": true, \"linkText\": \"Export to plot.ly\", \"plotlyServerURL\": \"https://plot.ly\", \"responsive\": true}\n",
       "                    ).then(function(){\n",
       "                            \n",
       "var gd = document.getElementById('0cd72fd2-8786-48ac-a96b-c492f141a62a');\n",
       "var x = new MutationObserver(function (mutations, observer) {{\n",
       "        var display = window.getComputedStyle(gd).display;\n",
       "        if (!display || display === 'none') {{\n",
       "            console.log([gd, 'removed!']);\n",
       "            Plotly.purge(gd);\n",
       "            observer.disconnect();\n",
       "        }}\n",
       "}});\n",
       "\n",
       "// Listen for the removal of the full notebook cells\n",
       "var notebookContainer = gd.closest('#notebook-container');\n",
       "if (notebookContainer) {{\n",
       "    x.observe(notebookContainer, {childList: true});\n",
       "}}\n",
       "\n",
       "// Listen for the clearing of the current output cell\n",
       "var outputEl = gd.closest('.output');\n",
       "if (outputEl) {{\n",
       "    x.observe(outputEl, {childList: true});\n",
       "}}\n",
       "\n",
       "                        })\n",
       "                };\n",
       "                });\n",
       "            </script>\n",
       "        </div>"
      ]
     },
     "metadata": {},
     "output_type": "display_data"
    }
   ],
   "source": [
    "df.iplot(kind=\"scatter\",x=\"A\",y=\"B\",mode=\"markers\")"
   ]
  },
  {
   "cell_type": "code",
   "execution_count": 25,
   "metadata": {},
   "outputs": [
    {
     "data": {
      "application/vnd.plotly.v1+json": {
       "config": {
        "linkText": "Export to plot.ly",
        "plotlyServerURL": "https://plot.ly",
        "showLink": true
       },
       "data": [
        {
         "line": {
          "color": "rgba(255, 153, 51, 1.0)",
          "dash": "solid",
          "shape": "linear",
          "width": 1.3
         },
         "marker": {
          "size": 20,
          "symbol": "circle"
         },
         "mode": "markers",
         "name": "B",
         "text": "",
         "type": "scatter",
         "x": [
          -0.6070225586537845,
          -1.8638739423338426,
          -0.02945872276840593,
          -1.301291297310065,
          0.48084833474018185,
          0.7628548206270173,
          -0.28843164746247685,
          0.6019043240278631,
          -0.8763709987921026,
          1.702802294665911,
          0.03894666378491089,
          -0.391247915748716,
          -0.3232684791801891,
          0.5555540390983371,
          -0.5833873983870684,
          -0.0844703205455899,
          -0.5139830214610452,
          -0.9874331374104602,
          1.3231224108983104,
          1.3852294994314818,
          0.495802931458785,
          1.5044941738291178,
          2.013539747855578,
          -0.9350456661961715,
          -0.07199477165247954,
          -0.012588234544470622,
          1.0286702624831179,
          -0.30675308423320574,
          -2.0813241088469705,
          0.9113534548782632,
          -1.1821295689927516,
          0.39712861820350376,
          0.32421117523347154,
          -1.388467161393341,
          -1.8196690472248764,
          1.2781438676085672,
          1.1244717635481953,
          2.6878665336118686,
          -1.6109429503383526,
          -0.3309381064713909,
          0.1012450075722931,
          -0.6927193028799976,
          -1.7779565769379178,
          -0.4937356719987772,
          -0.9214348954348198,
          0.04960273216795757,
          -2.6493834985687386,
          -0.3863153542191854,
          -0.5203504684321614,
          0.5977880177234898,
          1.5935857254212724,
          0.30130947631160576,
          -0.24209057064901562,
          2.393932462989073,
          0.48453201427412146,
          1.1471246976281726,
          1.2228406556961817,
          1.0816068853591136,
          -0.7424208071880561,
          0.7861844219733373,
          0.7498272838099621,
          -0.025596103412613782,
          -0.8244905811186303,
          0.6800258715624917,
          0.5426539687452233,
          -0.3376995252397134,
          0.4782136125101678,
          1.61174979268537,
          -0.009447379791987958,
          2.0385534852770575,
          2.017903156882396,
          -0.04108963367107593,
          -0.37405806660701296,
          1.6557536077103534,
          -0.9180687240107729,
          -1.3509762396010478,
          -1.3245247370933935,
          0.1883981543352357,
          -1.007096270807894,
          0.112857625621616,
          -0.03716265055480332,
          -1.3047337291461698,
          -1.8938223768162143,
          -0.05915120037142549,
          -0.022261006449155404,
          -2.2257467886082813,
          0.299708338942967,
          -0.11551816567653965,
          -0.22224470630933316,
          1.8203093144170124,
          -0.9809281853994635,
          0.8258301853601936,
          1.747369363537277,
          0.4451763013778281,
          0.8233981834134183,
          -0.37937479326251894,
          -1.4536121716892259,
          1.1622792298167708,
          0.2870601492366928,
          -1.3293818887641389
         ],
         "y": [
          0.39442564922170886,
          1.1545382861670683,
          -0.3981929049509391,
          1.0607053367391788,
          -1.0927982071594042,
          0.8938581864801937,
          0.10953427785913276,
          1.100603769799354,
          -0.037145165173287524,
          0.820385609335391,
          0.1757448574089021,
          -1.4281471214410326,
          1.3192507531473423,
          0.591642670955045,
          0.5229932990718201,
          0.13605660011946183,
          -0.2100106055939634,
          -0.5700547463822505,
          -0.3323261428045018,
          1.4377556274630496,
          0.14413892892924288,
          0.05300178117926253,
          0.15897168480049687,
          -0.4642246356303038,
          -0.062162694238745014,
          -0.404997912384452,
          -0.7201482218638331,
          2.023568952952069,
          -1.6214853359956733,
          0.542085407732597,
          0.5827569941618997,
          0.3776319435990386,
          0.7860509953709055,
          -0.5428417186393626,
          -0.6218017304368952,
          -0.01711816060498298,
          0.8909241978978917,
          -1.1794232525669857,
          -0.23428574473243066,
          0.6223056989779824,
          -0.13862316143162234,
          1.3989648648043242,
          -1.2881252741130682,
          0.7279631578004603,
          -0.048807113398033994,
          1.0394435684890488,
          -3.3911593703715184,
          -0.524115543518746,
          1.9491071278041052,
          0.07942048576898976,
          -0.6641974846295369,
          -1.0352913027794661,
          -0.6683730021861155,
          -2.0801704608528366,
          -0.6236871291314133,
          0.5545284284650903,
          0.09672761646458744,
          -0.957367126309057,
          -1.3015723703851805,
          0.529996087442483,
          0.36037265455029355,
          -0.825360660875962,
          1.6074276743204716,
          -2.125383315024735,
          0.2729482690721516,
          0.2648116479946539,
          -0.6484000338053134,
          -0.8529199767742717,
          -0.46666971985268213,
          -0.6044278288068219,
          0.6411021729993239,
          1.607115690297109,
          0.642969908406056,
          3.4880296066713408,
          1.5160479793033188,
          0.21650854966375002,
          1.1058470153140674,
          0.9089965059567509,
          -0.9594932219442222,
          -0.5825050989047242,
          -0.006558177721396607,
          1.2314458312022174,
          -0.445862995858089,
          0.32692197599067874,
          -0.16732624075897054,
          -0.06631960996464281,
          -0.5567444312996315,
          -1.2697328105510748,
          -0.6461202658830911,
          -1.6486385015803198,
          0.8697462032738772,
          1.071978584989495,
          1.0115715290572223,
          0.688291257034643,
          -0.4446104637134038,
          -1.370232127902445,
          0.711851270271103,
          -1.4409175804017305,
          0.17758469504751084,
          -0.3488266307639724
         ]
        }
       ],
       "layout": {
        "legend": {
         "bgcolor": "#F5F6F9",
         "font": {
          "color": "#4D5663"
         }
        },
        "paper_bgcolor": "#F5F6F9",
        "plot_bgcolor": "#F5F6F9",
        "template": {
         "data": {
          "bar": [
           {
            "error_x": {
             "color": "#2a3f5f"
            },
            "error_y": {
             "color": "#2a3f5f"
            },
            "marker": {
             "line": {
              "color": "#E5ECF6",
              "width": 0.5
             }
            },
            "type": "bar"
           }
          ],
          "barpolar": [
           {
            "marker": {
             "line": {
              "color": "#E5ECF6",
              "width": 0.5
             }
            },
            "type": "barpolar"
           }
          ],
          "carpet": [
           {
            "aaxis": {
             "endlinecolor": "#2a3f5f",
             "gridcolor": "white",
             "linecolor": "white",
             "minorgridcolor": "white",
             "startlinecolor": "#2a3f5f"
            },
            "baxis": {
             "endlinecolor": "#2a3f5f",
             "gridcolor": "white",
             "linecolor": "white",
             "minorgridcolor": "white",
             "startlinecolor": "#2a3f5f"
            },
            "type": "carpet"
           }
          ],
          "choropleth": [
           {
            "colorbar": {
             "outlinewidth": 0,
             "ticks": ""
            },
            "type": "choropleth"
           }
          ],
          "contour": [
           {
            "colorbar": {
             "outlinewidth": 0,
             "ticks": ""
            },
            "colorscale": [
             [
              0,
              "#0d0887"
             ],
             [
              0.1111111111111111,
              "#46039f"
             ],
             [
              0.2222222222222222,
              "#7201a8"
             ],
             [
              0.3333333333333333,
              "#9c179e"
             ],
             [
              0.4444444444444444,
              "#bd3786"
             ],
             [
              0.5555555555555556,
              "#d8576b"
             ],
             [
              0.6666666666666666,
              "#ed7953"
             ],
             [
              0.7777777777777778,
              "#fb9f3a"
             ],
             [
              0.8888888888888888,
              "#fdca26"
             ],
             [
              1,
              "#f0f921"
             ]
            ],
            "type": "contour"
           }
          ],
          "contourcarpet": [
           {
            "colorbar": {
             "outlinewidth": 0,
             "ticks": ""
            },
            "type": "contourcarpet"
           }
          ],
          "heatmap": [
           {
            "colorbar": {
             "outlinewidth": 0,
             "ticks": ""
            },
            "colorscale": [
             [
              0,
              "#0d0887"
             ],
             [
              0.1111111111111111,
              "#46039f"
             ],
             [
              0.2222222222222222,
              "#7201a8"
             ],
             [
              0.3333333333333333,
              "#9c179e"
             ],
             [
              0.4444444444444444,
              "#bd3786"
             ],
             [
              0.5555555555555556,
              "#d8576b"
             ],
             [
              0.6666666666666666,
              "#ed7953"
             ],
             [
              0.7777777777777778,
              "#fb9f3a"
             ],
             [
              0.8888888888888888,
              "#fdca26"
             ],
             [
              1,
              "#f0f921"
             ]
            ],
            "type": "heatmap"
           }
          ],
          "heatmapgl": [
           {
            "colorbar": {
             "outlinewidth": 0,
             "ticks": ""
            },
            "colorscale": [
             [
              0,
              "#0d0887"
             ],
             [
              0.1111111111111111,
              "#46039f"
             ],
             [
              0.2222222222222222,
              "#7201a8"
             ],
             [
              0.3333333333333333,
              "#9c179e"
             ],
             [
              0.4444444444444444,
              "#bd3786"
             ],
             [
              0.5555555555555556,
              "#d8576b"
             ],
             [
              0.6666666666666666,
              "#ed7953"
             ],
             [
              0.7777777777777778,
              "#fb9f3a"
             ],
             [
              0.8888888888888888,
              "#fdca26"
             ],
             [
              1,
              "#f0f921"
             ]
            ],
            "type": "heatmapgl"
           }
          ],
          "histogram": [
           {
            "marker": {
             "colorbar": {
              "outlinewidth": 0,
              "ticks": ""
             }
            },
            "type": "histogram"
           }
          ],
          "histogram2d": [
           {
            "colorbar": {
             "outlinewidth": 0,
             "ticks": ""
            },
            "colorscale": [
             [
              0,
              "#0d0887"
             ],
             [
              0.1111111111111111,
              "#46039f"
             ],
             [
              0.2222222222222222,
              "#7201a8"
             ],
             [
              0.3333333333333333,
              "#9c179e"
             ],
             [
              0.4444444444444444,
              "#bd3786"
             ],
             [
              0.5555555555555556,
              "#d8576b"
             ],
             [
              0.6666666666666666,
              "#ed7953"
             ],
             [
              0.7777777777777778,
              "#fb9f3a"
             ],
             [
              0.8888888888888888,
              "#fdca26"
             ],
             [
              1,
              "#f0f921"
             ]
            ],
            "type": "histogram2d"
           }
          ],
          "histogram2dcontour": [
           {
            "colorbar": {
             "outlinewidth": 0,
             "ticks": ""
            },
            "colorscale": [
             [
              0,
              "#0d0887"
             ],
             [
              0.1111111111111111,
              "#46039f"
             ],
             [
              0.2222222222222222,
              "#7201a8"
             ],
             [
              0.3333333333333333,
              "#9c179e"
             ],
             [
              0.4444444444444444,
              "#bd3786"
             ],
             [
              0.5555555555555556,
              "#d8576b"
             ],
             [
              0.6666666666666666,
              "#ed7953"
             ],
             [
              0.7777777777777778,
              "#fb9f3a"
             ],
             [
              0.8888888888888888,
              "#fdca26"
             ],
             [
              1,
              "#f0f921"
             ]
            ],
            "type": "histogram2dcontour"
           }
          ],
          "mesh3d": [
           {
            "colorbar": {
             "outlinewidth": 0,
             "ticks": ""
            },
            "type": "mesh3d"
           }
          ],
          "parcoords": [
           {
            "line": {
             "colorbar": {
              "outlinewidth": 0,
              "ticks": ""
             }
            },
            "type": "parcoords"
           }
          ],
          "pie": [
           {
            "automargin": true,
            "type": "pie"
           }
          ],
          "scatter": [
           {
            "marker": {
             "colorbar": {
              "outlinewidth": 0,
              "ticks": ""
             }
            },
            "type": "scatter"
           }
          ],
          "scatter3d": [
           {
            "line": {
             "colorbar": {
              "outlinewidth": 0,
              "ticks": ""
             }
            },
            "marker": {
             "colorbar": {
              "outlinewidth": 0,
              "ticks": ""
             }
            },
            "type": "scatter3d"
           }
          ],
          "scattercarpet": [
           {
            "marker": {
             "colorbar": {
              "outlinewidth": 0,
              "ticks": ""
             }
            },
            "type": "scattercarpet"
           }
          ],
          "scattergeo": [
           {
            "marker": {
             "colorbar": {
              "outlinewidth": 0,
              "ticks": ""
             }
            },
            "type": "scattergeo"
           }
          ],
          "scattergl": [
           {
            "marker": {
             "colorbar": {
              "outlinewidth": 0,
              "ticks": ""
             }
            },
            "type": "scattergl"
           }
          ],
          "scattermapbox": [
           {
            "marker": {
             "colorbar": {
              "outlinewidth": 0,
              "ticks": ""
             }
            },
            "type": "scattermapbox"
           }
          ],
          "scatterpolar": [
           {
            "marker": {
             "colorbar": {
              "outlinewidth": 0,
              "ticks": ""
             }
            },
            "type": "scatterpolar"
           }
          ],
          "scatterpolargl": [
           {
            "marker": {
             "colorbar": {
              "outlinewidth": 0,
              "ticks": ""
             }
            },
            "type": "scatterpolargl"
           }
          ],
          "scatterternary": [
           {
            "marker": {
             "colorbar": {
              "outlinewidth": 0,
              "ticks": ""
             }
            },
            "type": "scatterternary"
           }
          ],
          "surface": [
           {
            "colorbar": {
             "outlinewidth": 0,
             "ticks": ""
            },
            "colorscale": [
             [
              0,
              "#0d0887"
             ],
             [
              0.1111111111111111,
              "#46039f"
             ],
             [
              0.2222222222222222,
              "#7201a8"
             ],
             [
              0.3333333333333333,
              "#9c179e"
             ],
             [
              0.4444444444444444,
              "#bd3786"
             ],
             [
              0.5555555555555556,
              "#d8576b"
             ],
             [
              0.6666666666666666,
              "#ed7953"
             ],
             [
              0.7777777777777778,
              "#fb9f3a"
             ],
             [
              0.8888888888888888,
              "#fdca26"
             ],
             [
              1,
              "#f0f921"
             ]
            ],
            "type": "surface"
           }
          ],
          "table": [
           {
            "cells": {
             "fill": {
              "color": "#EBF0F8"
             },
             "line": {
              "color": "white"
             }
            },
            "header": {
             "fill": {
              "color": "#C8D4E3"
             },
             "line": {
              "color": "white"
             }
            },
            "type": "table"
           }
          ]
         },
         "layout": {
          "annotationdefaults": {
           "arrowcolor": "#2a3f5f",
           "arrowhead": 0,
           "arrowwidth": 1
          },
          "coloraxis": {
           "colorbar": {
            "outlinewidth": 0,
            "ticks": ""
           }
          },
          "colorscale": {
           "diverging": [
            [
             0,
             "#8e0152"
            ],
            [
             0.1,
             "#c51b7d"
            ],
            [
             0.2,
             "#de77ae"
            ],
            [
             0.3,
             "#f1b6da"
            ],
            [
             0.4,
             "#fde0ef"
            ],
            [
             0.5,
             "#f7f7f7"
            ],
            [
             0.6,
             "#e6f5d0"
            ],
            [
             0.7,
             "#b8e186"
            ],
            [
             0.8,
             "#7fbc41"
            ],
            [
             0.9,
             "#4d9221"
            ],
            [
             1,
             "#276419"
            ]
           ],
           "sequential": [
            [
             0,
             "#0d0887"
            ],
            [
             0.1111111111111111,
             "#46039f"
            ],
            [
             0.2222222222222222,
             "#7201a8"
            ],
            [
             0.3333333333333333,
             "#9c179e"
            ],
            [
             0.4444444444444444,
             "#bd3786"
            ],
            [
             0.5555555555555556,
             "#d8576b"
            ],
            [
             0.6666666666666666,
             "#ed7953"
            ],
            [
             0.7777777777777778,
             "#fb9f3a"
            ],
            [
             0.8888888888888888,
             "#fdca26"
            ],
            [
             1,
             "#f0f921"
            ]
           ],
           "sequentialminus": [
            [
             0,
             "#0d0887"
            ],
            [
             0.1111111111111111,
             "#46039f"
            ],
            [
             0.2222222222222222,
             "#7201a8"
            ],
            [
             0.3333333333333333,
             "#9c179e"
            ],
            [
             0.4444444444444444,
             "#bd3786"
            ],
            [
             0.5555555555555556,
             "#d8576b"
            ],
            [
             0.6666666666666666,
             "#ed7953"
            ],
            [
             0.7777777777777778,
             "#fb9f3a"
            ],
            [
             0.8888888888888888,
             "#fdca26"
            ],
            [
             1,
             "#f0f921"
            ]
           ]
          },
          "colorway": [
           "#636efa",
           "#EF553B",
           "#00cc96",
           "#ab63fa",
           "#FFA15A",
           "#19d3f3",
           "#FF6692",
           "#B6E880",
           "#FF97FF",
           "#FECB52"
          ],
          "font": {
           "color": "#2a3f5f"
          },
          "geo": {
           "bgcolor": "white",
           "lakecolor": "white",
           "landcolor": "#E5ECF6",
           "showlakes": true,
           "showland": true,
           "subunitcolor": "white"
          },
          "hoverlabel": {
           "align": "left"
          },
          "hovermode": "closest",
          "mapbox": {
           "style": "light"
          },
          "paper_bgcolor": "white",
          "plot_bgcolor": "#E5ECF6",
          "polar": {
           "angularaxis": {
            "gridcolor": "white",
            "linecolor": "white",
            "ticks": ""
           },
           "bgcolor": "#E5ECF6",
           "radialaxis": {
            "gridcolor": "white",
            "linecolor": "white",
            "ticks": ""
           }
          },
          "scene": {
           "xaxis": {
            "backgroundcolor": "#E5ECF6",
            "gridcolor": "white",
            "gridwidth": 2,
            "linecolor": "white",
            "showbackground": true,
            "ticks": "",
            "zerolinecolor": "white"
           },
           "yaxis": {
            "backgroundcolor": "#E5ECF6",
            "gridcolor": "white",
            "gridwidth": 2,
            "linecolor": "white",
            "showbackground": true,
            "ticks": "",
            "zerolinecolor": "white"
           },
           "zaxis": {
            "backgroundcolor": "#E5ECF6",
            "gridcolor": "white",
            "gridwidth": 2,
            "linecolor": "white",
            "showbackground": true,
            "ticks": "",
            "zerolinecolor": "white"
           }
          },
          "shapedefaults": {
           "line": {
            "color": "#2a3f5f"
           }
          },
          "ternary": {
           "aaxis": {
            "gridcolor": "white",
            "linecolor": "white",
            "ticks": ""
           },
           "baxis": {
            "gridcolor": "white",
            "linecolor": "white",
            "ticks": ""
           },
           "bgcolor": "#E5ECF6",
           "caxis": {
            "gridcolor": "white",
            "linecolor": "white",
            "ticks": ""
           }
          },
          "title": {
           "x": 0.05
          },
          "xaxis": {
           "automargin": true,
           "gridcolor": "white",
           "linecolor": "white",
           "ticks": "",
           "title": {
            "standoff": 15
           },
           "zerolinecolor": "white",
           "zerolinewidth": 2
          },
          "yaxis": {
           "automargin": true,
           "gridcolor": "white",
           "linecolor": "white",
           "ticks": "",
           "title": {
            "standoff": 15
           },
           "zerolinecolor": "white",
           "zerolinewidth": 2
          }
         }
        },
        "title": {
         "font": {
          "color": "#4D5663"
         }
        },
        "xaxis": {
         "gridcolor": "#E1E5ED",
         "showgrid": true,
         "tickfont": {
          "color": "#4D5663"
         },
         "title": {
          "font": {
           "color": "#4D5663"
          },
          "text": ""
         },
         "zerolinecolor": "#E1E5ED"
        },
        "yaxis": {
         "gridcolor": "#E1E5ED",
         "showgrid": true,
         "tickfont": {
          "color": "#4D5663"
         },
         "title": {
          "font": {
           "color": "#4D5663"
          },
          "text": ""
         },
         "zerolinecolor": "#E1E5ED"
        }
       }
      },
      "text/html": [
       "<div>\n",
       "        \n",
       "        \n",
       "            <div id=\"a22ac6d2-f65e-4e87-a345-2d7b2a6e6ea0\" class=\"plotly-graph-div\" style=\"height:525px; width:100%;\"></div>\n",
       "            <script type=\"text/javascript\">\n",
       "                require([\"plotly\"], function(Plotly) {\n",
       "                    window.PLOTLYENV=window.PLOTLYENV || {};\n",
       "                    window.PLOTLYENV.BASE_URL='https://plot.ly';\n",
       "                    \n",
       "                if (document.getElementById(\"a22ac6d2-f65e-4e87-a345-2d7b2a6e6ea0\")) {\n",
       "                    Plotly.newPlot(\n",
       "                        'a22ac6d2-f65e-4e87-a345-2d7b2a6e6ea0',\n",
       "                        [{\"line\": {\"color\": \"rgba(255, 153, 51, 1.0)\", \"dash\": \"solid\", \"shape\": \"linear\", \"width\": 1.3}, \"marker\": {\"size\": 20, \"symbol\": \"circle\"}, \"mode\": \"markers\", \"name\": \"B\", \"text\": \"\", \"type\": \"scatter\", \"x\": [-0.6070225586537845, -1.8638739423338426, -0.02945872276840593, -1.301291297310065, 0.48084833474018185, 0.7628548206270173, -0.28843164746247685, 0.6019043240278631, -0.8763709987921026, 1.702802294665911, 0.03894666378491089, -0.391247915748716, -0.3232684791801891, 0.5555540390983371, -0.5833873983870684, -0.0844703205455899, -0.5139830214610452, -0.9874331374104602, 1.3231224108983104, 1.3852294994314818, 0.495802931458785, 1.5044941738291178, 2.013539747855578, -0.9350456661961715, -0.07199477165247954, -0.012588234544470622, 1.0286702624831179, -0.30675308423320574, -2.0813241088469705, 0.9113534548782632, -1.1821295689927516, 0.39712861820350376, 0.32421117523347154, -1.388467161393341, -1.8196690472248764, 1.2781438676085672, 1.1244717635481953, 2.6878665336118686, -1.6109429503383526, -0.3309381064713909, 0.1012450075722931, -0.6927193028799976, -1.7779565769379178, -0.4937356719987772, -0.9214348954348198, 0.04960273216795757, -2.6493834985687386, -0.3863153542191854, -0.5203504684321614, 0.5977880177234898, 1.5935857254212724, 0.30130947631160576, -0.24209057064901562, 2.393932462989073, 0.48453201427412146, 1.1471246976281726, 1.2228406556961817, 1.0816068853591136, -0.7424208071880561, 0.7861844219733373, 0.7498272838099621, -0.025596103412613782, -0.8244905811186303, 0.6800258715624917, 0.5426539687452233, -0.3376995252397134, 0.4782136125101678, 1.61174979268537, -0.009447379791987958, 2.0385534852770575, 2.017903156882396, -0.04108963367107593, -0.37405806660701296, 1.6557536077103534, -0.9180687240107729, -1.3509762396010478, -1.3245247370933935, 0.1883981543352357, -1.007096270807894, 0.112857625621616, -0.03716265055480332, -1.3047337291461698, -1.8938223768162143, -0.05915120037142549, -0.022261006449155404, -2.2257467886082813, 0.299708338942967, -0.11551816567653965, -0.22224470630933316, 1.8203093144170124, -0.9809281853994635, 0.8258301853601936, 1.747369363537277, 0.4451763013778281, 0.8233981834134183, -0.37937479326251894, -1.4536121716892259, 1.1622792298167708, 0.2870601492366928, -1.3293818887641389], \"y\": [0.39442564922170886, 1.1545382861670683, -0.3981929049509391, 1.0607053367391788, -1.0927982071594042, 0.8938581864801937, 0.10953427785913276, 1.100603769799354, -0.037145165173287524, 0.820385609335391, 0.1757448574089021, -1.4281471214410326, 1.3192507531473423, 0.591642670955045, 0.5229932990718201, 0.13605660011946183, -0.2100106055939634, -0.5700547463822505, -0.3323261428045018, 1.4377556274630496, 0.14413892892924288, 0.05300178117926253, 0.15897168480049687, -0.4642246356303038, -0.062162694238745014, -0.404997912384452, -0.7201482218638331, 2.023568952952069, -1.6214853359956733, 0.542085407732597, 0.5827569941618997, 0.3776319435990386, 0.7860509953709055, -0.5428417186393626, -0.6218017304368952, -0.01711816060498298, 0.8909241978978917, -1.1794232525669857, -0.23428574473243066, 0.6223056989779824, -0.13862316143162234, 1.3989648648043242, -1.2881252741130682, 0.7279631578004603, -0.048807113398033994, 1.0394435684890488, -3.3911593703715184, -0.524115543518746, 1.9491071278041052, 0.07942048576898976, -0.6641974846295369, -1.0352913027794661, -0.6683730021861155, -2.0801704608528366, -0.6236871291314133, 0.5545284284650903, 0.09672761646458744, -0.957367126309057, -1.3015723703851805, 0.529996087442483, 0.36037265455029355, -0.825360660875962, 1.6074276743204716, -2.125383315024735, 0.2729482690721516, 0.2648116479946539, -0.6484000338053134, -0.8529199767742717, -0.46666971985268213, -0.6044278288068219, 0.6411021729993239, 1.607115690297109, 0.642969908406056, 3.4880296066713408, 1.5160479793033188, 0.21650854966375002, 1.1058470153140674, 0.9089965059567509, -0.9594932219442222, -0.5825050989047242, -0.006558177721396607, 1.2314458312022174, -0.445862995858089, 0.32692197599067874, -0.16732624075897054, -0.06631960996464281, -0.5567444312996315, -1.2697328105510748, -0.6461202658830911, -1.6486385015803198, 0.8697462032738772, 1.071978584989495, 1.0115715290572223, 0.688291257034643, -0.4446104637134038, -1.370232127902445, 0.711851270271103, -1.4409175804017305, 0.17758469504751084, -0.3488266307639724]}],\n",
       "                        {\"legend\": {\"bgcolor\": \"#F5F6F9\", \"font\": {\"color\": \"#4D5663\"}}, \"paper_bgcolor\": \"#F5F6F9\", \"plot_bgcolor\": \"#F5F6F9\", \"template\": {\"data\": {\"bar\": [{\"error_x\": {\"color\": \"#2a3f5f\"}, \"error_y\": {\"color\": \"#2a3f5f\"}, \"marker\": {\"line\": {\"color\": \"#E5ECF6\", \"width\": 0.5}}, \"type\": \"bar\"}], \"barpolar\": [{\"marker\": {\"line\": {\"color\": \"#E5ECF6\", \"width\": 0.5}}, \"type\": \"barpolar\"}], \"carpet\": [{\"aaxis\": {\"endlinecolor\": \"#2a3f5f\", \"gridcolor\": \"white\", \"linecolor\": \"white\", \"minorgridcolor\": \"white\", \"startlinecolor\": \"#2a3f5f\"}, \"baxis\": {\"endlinecolor\": \"#2a3f5f\", \"gridcolor\": \"white\", \"linecolor\": \"white\", \"minorgridcolor\": \"white\", \"startlinecolor\": \"#2a3f5f\"}, \"type\": \"carpet\"}], \"choropleth\": [{\"colorbar\": {\"outlinewidth\": 0, \"ticks\": \"\"}, \"type\": \"choropleth\"}], \"contour\": [{\"colorbar\": {\"outlinewidth\": 0, \"ticks\": \"\"}, \"colorscale\": [[0.0, \"#0d0887\"], [0.1111111111111111, \"#46039f\"], [0.2222222222222222, \"#7201a8\"], [0.3333333333333333, \"#9c179e\"], [0.4444444444444444, \"#bd3786\"], [0.5555555555555556, \"#d8576b\"], [0.6666666666666666, \"#ed7953\"], [0.7777777777777778, \"#fb9f3a\"], [0.8888888888888888, \"#fdca26\"], [1.0, \"#f0f921\"]], \"type\": \"contour\"}], \"contourcarpet\": [{\"colorbar\": {\"outlinewidth\": 0, \"ticks\": \"\"}, \"type\": \"contourcarpet\"}], \"heatmap\": [{\"colorbar\": {\"outlinewidth\": 0, \"ticks\": \"\"}, \"colorscale\": [[0.0, \"#0d0887\"], [0.1111111111111111, \"#46039f\"], [0.2222222222222222, \"#7201a8\"], [0.3333333333333333, \"#9c179e\"], [0.4444444444444444, \"#bd3786\"], [0.5555555555555556, \"#d8576b\"], [0.6666666666666666, \"#ed7953\"], [0.7777777777777778, \"#fb9f3a\"], [0.8888888888888888, \"#fdca26\"], [1.0, \"#f0f921\"]], \"type\": \"heatmap\"}], \"heatmapgl\": [{\"colorbar\": {\"outlinewidth\": 0, \"ticks\": \"\"}, \"colorscale\": [[0.0, \"#0d0887\"], [0.1111111111111111, \"#46039f\"], [0.2222222222222222, \"#7201a8\"], [0.3333333333333333, \"#9c179e\"], [0.4444444444444444, \"#bd3786\"], [0.5555555555555556, \"#d8576b\"], [0.6666666666666666, \"#ed7953\"], [0.7777777777777778, \"#fb9f3a\"], [0.8888888888888888, \"#fdca26\"], [1.0, \"#f0f921\"]], \"type\": \"heatmapgl\"}], \"histogram\": [{\"marker\": {\"colorbar\": {\"outlinewidth\": 0, \"ticks\": \"\"}}, \"type\": \"histogram\"}], \"histogram2d\": [{\"colorbar\": {\"outlinewidth\": 0, \"ticks\": \"\"}, \"colorscale\": [[0.0, \"#0d0887\"], [0.1111111111111111, \"#46039f\"], [0.2222222222222222, \"#7201a8\"], [0.3333333333333333, \"#9c179e\"], [0.4444444444444444, \"#bd3786\"], [0.5555555555555556, \"#d8576b\"], [0.6666666666666666, \"#ed7953\"], [0.7777777777777778, \"#fb9f3a\"], [0.8888888888888888, \"#fdca26\"], [1.0, \"#f0f921\"]], \"type\": \"histogram2d\"}], \"histogram2dcontour\": [{\"colorbar\": {\"outlinewidth\": 0, \"ticks\": \"\"}, \"colorscale\": [[0.0, \"#0d0887\"], [0.1111111111111111, \"#46039f\"], [0.2222222222222222, \"#7201a8\"], [0.3333333333333333, \"#9c179e\"], [0.4444444444444444, \"#bd3786\"], [0.5555555555555556, \"#d8576b\"], [0.6666666666666666, \"#ed7953\"], [0.7777777777777778, \"#fb9f3a\"], [0.8888888888888888, \"#fdca26\"], [1.0, \"#f0f921\"]], \"type\": \"histogram2dcontour\"}], \"mesh3d\": [{\"colorbar\": {\"outlinewidth\": 0, \"ticks\": \"\"}, \"type\": \"mesh3d\"}], \"parcoords\": [{\"line\": {\"colorbar\": {\"outlinewidth\": 0, \"ticks\": \"\"}}, \"type\": \"parcoords\"}], \"pie\": [{\"automargin\": true, \"type\": \"pie\"}], \"scatter\": [{\"marker\": {\"colorbar\": {\"outlinewidth\": 0, \"ticks\": \"\"}}, \"type\": \"scatter\"}], \"scatter3d\": [{\"line\": {\"colorbar\": {\"outlinewidth\": 0, \"ticks\": \"\"}}, \"marker\": {\"colorbar\": {\"outlinewidth\": 0, \"ticks\": \"\"}}, \"type\": \"scatter3d\"}], \"scattercarpet\": [{\"marker\": {\"colorbar\": {\"outlinewidth\": 0, \"ticks\": \"\"}}, \"type\": \"scattercarpet\"}], \"scattergeo\": [{\"marker\": {\"colorbar\": {\"outlinewidth\": 0, \"ticks\": \"\"}}, \"type\": \"scattergeo\"}], \"scattergl\": [{\"marker\": {\"colorbar\": {\"outlinewidth\": 0, \"ticks\": \"\"}}, \"type\": \"scattergl\"}], \"scattermapbox\": [{\"marker\": {\"colorbar\": {\"outlinewidth\": 0, \"ticks\": \"\"}}, \"type\": \"scattermapbox\"}], \"scatterpolar\": [{\"marker\": {\"colorbar\": {\"outlinewidth\": 0, \"ticks\": \"\"}}, \"type\": \"scatterpolar\"}], \"scatterpolargl\": [{\"marker\": {\"colorbar\": {\"outlinewidth\": 0, \"ticks\": \"\"}}, \"type\": \"scatterpolargl\"}], \"scatterternary\": [{\"marker\": {\"colorbar\": {\"outlinewidth\": 0, \"ticks\": \"\"}}, \"type\": \"scatterternary\"}], \"surface\": [{\"colorbar\": {\"outlinewidth\": 0, \"ticks\": \"\"}, \"colorscale\": [[0.0, \"#0d0887\"], [0.1111111111111111, \"#46039f\"], [0.2222222222222222, \"#7201a8\"], [0.3333333333333333, \"#9c179e\"], [0.4444444444444444, \"#bd3786\"], [0.5555555555555556, \"#d8576b\"], [0.6666666666666666, \"#ed7953\"], [0.7777777777777778, \"#fb9f3a\"], [0.8888888888888888, \"#fdca26\"], [1.0, \"#f0f921\"]], \"type\": \"surface\"}], \"table\": [{\"cells\": {\"fill\": {\"color\": \"#EBF0F8\"}, \"line\": {\"color\": \"white\"}}, \"header\": {\"fill\": {\"color\": \"#C8D4E3\"}, \"line\": {\"color\": \"white\"}}, \"type\": \"table\"}]}, \"layout\": {\"annotationdefaults\": {\"arrowcolor\": \"#2a3f5f\", \"arrowhead\": 0, \"arrowwidth\": 1}, \"coloraxis\": {\"colorbar\": {\"outlinewidth\": 0, \"ticks\": \"\"}}, \"colorscale\": {\"diverging\": [[0, \"#8e0152\"], [0.1, \"#c51b7d\"], [0.2, \"#de77ae\"], [0.3, \"#f1b6da\"], [0.4, \"#fde0ef\"], [0.5, \"#f7f7f7\"], [0.6, \"#e6f5d0\"], [0.7, \"#b8e186\"], [0.8, \"#7fbc41\"], [0.9, \"#4d9221\"], [1, \"#276419\"]], \"sequential\": [[0.0, \"#0d0887\"], [0.1111111111111111, \"#46039f\"], [0.2222222222222222, \"#7201a8\"], [0.3333333333333333, \"#9c179e\"], [0.4444444444444444, \"#bd3786\"], [0.5555555555555556, \"#d8576b\"], [0.6666666666666666, \"#ed7953\"], [0.7777777777777778, \"#fb9f3a\"], [0.8888888888888888, \"#fdca26\"], [1.0, \"#f0f921\"]], \"sequentialminus\": [[0.0, \"#0d0887\"], [0.1111111111111111, \"#46039f\"], [0.2222222222222222, \"#7201a8\"], [0.3333333333333333, \"#9c179e\"], [0.4444444444444444, \"#bd3786\"], [0.5555555555555556, \"#d8576b\"], [0.6666666666666666, \"#ed7953\"], [0.7777777777777778, \"#fb9f3a\"], [0.8888888888888888, \"#fdca26\"], [1.0, \"#f0f921\"]]}, \"colorway\": [\"#636efa\", \"#EF553B\", \"#00cc96\", \"#ab63fa\", \"#FFA15A\", \"#19d3f3\", \"#FF6692\", \"#B6E880\", \"#FF97FF\", \"#FECB52\"], \"font\": {\"color\": \"#2a3f5f\"}, \"geo\": {\"bgcolor\": \"white\", \"lakecolor\": \"white\", \"landcolor\": \"#E5ECF6\", \"showlakes\": true, \"showland\": true, \"subunitcolor\": \"white\"}, \"hoverlabel\": {\"align\": \"left\"}, \"hovermode\": \"closest\", \"mapbox\": {\"style\": \"light\"}, \"paper_bgcolor\": \"white\", \"plot_bgcolor\": \"#E5ECF6\", \"polar\": {\"angularaxis\": {\"gridcolor\": \"white\", \"linecolor\": \"white\", \"ticks\": \"\"}, \"bgcolor\": \"#E5ECF6\", \"radialaxis\": {\"gridcolor\": \"white\", \"linecolor\": \"white\", \"ticks\": \"\"}}, \"scene\": {\"xaxis\": {\"backgroundcolor\": \"#E5ECF6\", \"gridcolor\": \"white\", \"gridwidth\": 2, \"linecolor\": \"white\", \"showbackground\": true, \"ticks\": \"\", \"zerolinecolor\": \"white\"}, \"yaxis\": {\"backgroundcolor\": \"#E5ECF6\", \"gridcolor\": \"white\", \"gridwidth\": 2, \"linecolor\": \"white\", \"showbackground\": true, \"ticks\": \"\", \"zerolinecolor\": \"white\"}, \"zaxis\": {\"backgroundcolor\": \"#E5ECF6\", \"gridcolor\": \"white\", \"gridwidth\": 2, \"linecolor\": \"white\", \"showbackground\": true, \"ticks\": \"\", \"zerolinecolor\": \"white\"}}, \"shapedefaults\": {\"line\": {\"color\": \"#2a3f5f\"}}, \"ternary\": {\"aaxis\": {\"gridcolor\": \"white\", \"linecolor\": \"white\", \"ticks\": \"\"}, \"baxis\": {\"gridcolor\": \"white\", \"linecolor\": \"white\", \"ticks\": \"\"}, \"bgcolor\": \"#E5ECF6\", \"caxis\": {\"gridcolor\": \"white\", \"linecolor\": \"white\", \"ticks\": \"\"}}, \"title\": {\"x\": 0.05}, \"xaxis\": {\"automargin\": true, \"gridcolor\": \"white\", \"linecolor\": \"white\", \"ticks\": \"\", \"title\": {\"standoff\": 15}, \"zerolinecolor\": \"white\", \"zerolinewidth\": 2}, \"yaxis\": {\"automargin\": true, \"gridcolor\": \"white\", \"linecolor\": \"white\", \"ticks\": \"\", \"title\": {\"standoff\": 15}, \"zerolinecolor\": \"white\", \"zerolinewidth\": 2}}}, \"title\": {\"font\": {\"color\": \"#4D5663\"}}, \"xaxis\": {\"gridcolor\": \"#E1E5ED\", \"showgrid\": true, \"tickfont\": {\"color\": \"#4D5663\"}, \"title\": {\"font\": {\"color\": \"#4D5663\"}, \"text\": \"\"}, \"zerolinecolor\": \"#E1E5ED\"}, \"yaxis\": {\"gridcolor\": \"#E1E5ED\", \"showgrid\": true, \"tickfont\": {\"color\": \"#4D5663\"}, \"title\": {\"font\": {\"color\": \"#4D5663\"}, \"text\": \"\"}, \"zerolinecolor\": \"#E1E5ED\"}},\n",
       "                        {\"showLink\": true, \"linkText\": \"Export to plot.ly\", \"plotlyServerURL\": \"https://plot.ly\", \"responsive\": true}\n",
       "                    ).then(function(){\n",
       "                            \n",
       "var gd = document.getElementById('a22ac6d2-f65e-4e87-a345-2d7b2a6e6ea0');\n",
       "var x = new MutationObserver(function (mutations, observer) {{\n",
       "        var display = window.getComputedStyle(gd).display;\n",
       "        if (!display || display === 'none') {{\n",
       "            console.log([gd, 'removed!']);\n",
       "            Plotly.purge(gd);\n",
       "            observer.disconnect();\n",
       "        }}\n",
       "}});\n",
       "\n",
       "// Listen for the removal of the full notebook cells\n",
       "var notebookContainer = gd.closest('#notebook-container');\n",
       "if (notebookContainer) {{\n",
       "    x.observe(notebookContainer, {childList: true});\n",
       "}}\n",
       "\n",
       "// Listen for the clearing of the current output cell\n",
       "var outputEl = gd.closest('.output');\n",
       "if (outputEl) {{\n",
       "    x.observe(outputEl, {childList: true});\n",
       "}}\n",
       "\n",
       "                        })\n",
       "                };\n",
       "                });\n",
       "            </script>\n",
       "        </div>"
      ]
     },
     "metadata": {},
     "output_type": "display_data"
    }
   ],
   "source": [
    "df.iplot(kind=\"scatter\",x=\"A\",y=\"B\",mode=\"markers\",size=20)"
   ]
  },
  {
   "cell_type": "code",
   "execution_count": 26,
   "metadata": {},
   "outputs": [
    {
     "data": {
      "application/vnd.plotly.v1+json": {
       "config": {
        "linkText": "Export to plot.ly",
        "plotlyServerURL": "https://plot.ly",
        "showLink": true
       },
       "data": [
        {
         "marker": {
          "color": "rgba(255, 153, 51, 0.6)",
          "line": {
           "color": "rgba(255, 153, 51, 1.0)",
           "width": 1
          }
         },
         "name": "Values",
         "orientation": "v",
         "text": "",
         "type": "bar",
         "x": [
          "A",
          "B",
          "C"
         ],
         "y": [
          32,
          43,
          50
         ]
        }
       ],
       "layout": {
        "legend": {
         "bgcolor": "#F5F6F9",
         "font": {
          "color": "#4D5663"
         }
        },
        "paper_bgcolor": "#F5F6F9",
        "plot_bgcolor": "#F5F6F9",
        "template": {
         "data": {
          "bar": [
           {
            "error_x": {
             "color": "#2a3f5f"
            },
            "error_y": {
             "color": "#2a3f5f"
            },
            "marker": {
             "line": {
              "color": "#E5ECF6",
              "width": 0.5
             }
            },
            "type": "bar"
           }
          ],
          "barpolar": [
           {
            "marker": {
             "line": {
              "color": "#E5ECF6",
              "width": 0.5
             }
            },
            "type": "barpolar"
           }
          ],
          "carpet": [
           {
            "aaxis": {
             "endlinecolor": "#2a3f5f",
             "gridcolor": "white",
             "linecolor": "white",
             "minorgridcolor": "white",
             "startlinecolor": "#2a3f5f"
            },
            "baxis": {
             "endlinecolor": "#2a3f5f",
             "gridcolor": "white",
             "linecolor": "white",
             "minorgridcolor": "white",
             "startlinecolor": "#2a3f5f"
            },
            "type": "carpet"
           }
          ],
          "choropleth": [
           {
            "colorbar": {
             "outlinewidth": 0,
             "ticks": ""
            },
            "type": "choropleth"
           }
          ],
          "contour": [
           {
            "colorbar": {
             "outlinewidth": 0,
             "ticks": ""
            },
            "colorscale": [
             [
              0,
              "#0d0887"
             ],
             [
              0.1111111111111111,
              "#46039f"
             ],
             [
              0.2222222222222222,
              "#7201a8"
             ],
             [
              0.3333333333333333,
              "#9c179e"
             ],
             [
              0.4444444444444444,
              "#bd3786"
             ],
             [
              0.5555555555555556,
              "#d8576b"
             ],
             [
              0.6666666666666666,
              "#ed7953"
             ],
             [
              0.7777777777777778,
              "#fb9f3a"
             ],
             [
              0.8888888888888888,
              "#fdca26"
             ],
             [
              1,
              "#f0f921"
             ]
            ],
            "type": "contour"
           }
          ],
          "contourcarpet": [
           {
            "colorbar": {
             "outlinewidth": 0,
             "ticks": ""
            },
            "type": "contourcarpet"
           }
          ],
          "heatmap": [
           {
            "colorbar": {
             "outlinewidth": 0,
             "ticks": ""
            },
            "colorscale": [
             [
              0,
              "#0d0887"
             ],
             [
              0.1111111111111111,
              "#46039f"
             ],
             [
              0.2222222222222222,
              "#7201a8"
             ],
             [
              0.3333333333333333,
              "#9c179e"
             ],
             [
              0.4444444444444444,
              "#bd3786"
             ],
             [
              0.5555555555555556,
              "#d8576b"
             ],
             [
              0.6666666666666666,
              "#ed7953"
             ],
             [
              0.7777777777777778,
              "#fb9f3a"
             ],
             [
              0.8888888888888888,
              "#fdca26"
             ],
             [
              1,
              "#f0f921"
             ]
            ],
            "type": "heatmap"
           }
          ],
          "heatmapgl": [
           {
            "colorbar": {
             "outlinewidth": 0,
             "ticks": ""
            },
            "colorscale": [
             [
              0,
              "#0d0887"
             ],
             [
              0.1111111111111111,
              "#46039f"
             ],
             [
              0.2222222222222222,
              "#7201a8"
             ],
             [
              0.3333333333333333,
              "#9c179e"
             ],
             [
              0.4444444444444444,
              "#bd3786"
             ],
             [
              0.5555555555555556,
              "#d8576b"
             ],
             [
              0.6666666666666666,
              "#ed7953"
             ],
             [
              0.7777777777777778,
              "#fb9f3a"
             ],
             [
              0.8888888888888888,
              "#fdca26"
             ],
             [
              1,
              "#f0f921"
             ]
            ],
            "type": "heatmapgl"
           }
          ],
          "histogram": [
           {
            "marker": {
             "colorbar": {
              "outlinewidth": 0,
              "ticks": ""
             }
            },
            "type": "histogram"
           }
          ],
          "histogram2d": [
           {
            "colorbar": {
             "outlinewidth": 0,
             "ticks": ""
            },
            "colorscale": [
             [
              0,
              "#0d0887"
             ],
             [
              0.1111111111111111,
              "#46039f"
             ],
             [
              0.2222222222222222,
              "#7201a8"
             ],
             [
              0.3333333333333333,
              "#9c179e"
             ],
             [
              0.4444444444444444,
              "#bd3786"
             ],
             [
              0.5555555555555556,
              "#d8576b"
             ],
             [
              0.6666666666666666,
              "#ed7953"
             ],
             [
              0.7777777777777778,
              "#fb9f3a"
             ],
             [
              0.8888888888888888,
              "#fdca26"
             ],
             [
              1,
              "#f0f921"
             ]
            ],
            "type": "histogram2d"
           }
          ],
          "histogram2dcontour": [
           {
            "colorbar": {
             "outlinewidth": 0,
             "ticks": ""
            },
            "colorscale": [
             [
              0,
              "#0d0887"
             ],
             [
              0.1111111111111111,
              "#46039f"
             ],
             [
              0.2222222222222222,
              "#7201a8"
             ],
             [
              0.3333333333333333,
              "#9c179e"
             ],
             [
              0.4444444444444444,
              "#bd3786"
             ],
             [
              0.5555555555555556,
              "#d8576b"
             ],
             [
              0.6666666666666666,
              "#ed7953"
             ],
             [
              0.7777777777777778,
              "#fb9f3a"
             ],
             [
              0.8888888888888888,
              "#fdca26"
             ],
             [
              1,
              "#f0f921"
             ]
            ],
            "type": "histogram2dcontour"
           }
          ],
          "mesh3d": [
           {
            "colorbar": {
             "outlinewidth": 0,
             "ticks": ""
            },
            "type": "mesh3d"
           }
          ],
          "parcoords": [
           {
            "line": {
             "colorbar": {
              "outlinewidth": 0,
              "ticks": ""
             }
            },
            "type": "parcoords"
           }
          ],
          "pie": [
           {
            "automargin": true,
            "type": "pie"
           }
          ],
          "scatter": [
           {
            "marker": {
             "colorbar": {
              "outlinewidth": 0,
              "ticks": ""
             }
            },
            "type": "scatter"
           }
          ],
          "scatter3d": [
           {
            "line": {
             "colorbar": {
              "outlinewidth": 0,
              "ticks": ""
             }
            },
            "marker": {
             "colorbar": {
              "outlinewidth": 0,
              "ticks": ""
             }
            },
            "type": "scatter3d"
           }
          ],
          "scattercarpet": [
           {
            "marker": {
             "colorbar": {
              "outlinewidth": 0,
              "ticks": ""
             }
            },
            "type": "scattercarpet"
           }
          ],
          "scattergeo": [
           {
            "marker": {
             "colorbar": {
              "outlinewidth": 0,
              "ticks": ""
             }
            },
            "type": "scattergeo"
           }
          ],
          "scattergl": [
           {
            "marker": {
             "colorbar": {
              "outlinewidth": 0,
              "ticks": ""
             }
            },
            "type": "scattergl"
           }
          ],
          "scattermapbox": [
           {
            "marker": {
             "colorbar": {
              "outlinewidth": 0,
              "ticks": ""
             }
            },
            "type": "scattermapbox"
           }
          ],
          "scatterpolar": [
           {
            "marker": {
             "colorbar": {
              "outlinewidth": 0,
              "ticks": ""
             }
            },
            "type": "scatterpolar"
           }
          ],
          "scatterpolargl": [
           {
            "marker": {
             "colorbar": {
              "outlinewidth": 0,
              "ticks": ""
             }
            },
            "type": "scatterpolargl"
           }
          ],
          "scatterternary": [
           {
            "marker": {
             "colorbar": {
              "outlinewidth": 0,
              "ticks": ""
             }
            },
            "type": "scatterternary"
           }
          ],
          "surface": [
           {
            "colorbar": {
             "outlinewidth": 0,
             "ticks": ""
            },
            "colorscale": [
             [
              0,
              "#0d0887"
             ],
             [
              0.1111111111111111,
              "#46039f"
             ],
             [
              0.2222222222222222,
              "#7201a8"
             ],
             [
              0.3333333333333333,
              "#9c179e"
             ],
             [
              0.4444444444444444,
              "#bd3786"
             ],
             [
              0.5555555555555556,
              "#d8576b"
             ],
             [
              0.6666666666666666,
              "#ed7953"
             ],
             [
              0.7777777777777778,
              "#fb9f3a"
             ],
             [
              0.8888888888888888,
              "#fdca26"
             ],
             [
              1,
              "#f0f921"
             ]
            ],
            "type": "surface"
           }
          ],
          "table": [
           {
            "cells": {
             "fill": {
              "color": "#EBF0F8"
             },
             "line": {
              "color": "white"
             }
            },
            "header": {
             "fill": {
              "color": "#C8D4E3"
             },
             "line": {
              "color": "white"
             }
            },
            "type": "table"
           }
          ]
         },
         "layout": {
          "annotationdefaults": {
           "arrowcolor": "#2a3f5f",
           "arrowhead": 0,
           "arrowwidth": 1
          },
          "coloraxis": {
           "colorbar": {
            "outlinewidth": 0,
            "ticks": ""
           }
          },
          "colorscale": {
           "diverging": [
            [
             0,
             "#8e0152"
            ],
            [
             0.1,
             "#c51b7d"
            ],
            [
             0.2,
             "#de77ae"
            ],
            [
             0.3,
             "#f1b6da"
            ],
            [
             0.4,
             "#fde0ef"
            ],
            [
             0.5,
             "#f7f7f7"
            ],
            [
             0.6,
             "#e6f5d0"
            ],
            [
             0.7,
             "#b8e186"
            ],
            [
             0.8,
             "#7fbc41"
            ],
            [
             0.9,
             "#4d9221"
            ],
            [
             1,
             "#276419"
            ]
           ],
           "sequential": [
            [
             0,
             "#0d0887"
            ],
            [
             0.1111111111111111,
             "#46039f"
            ],
            [
             0.2222222222222222,
             "#7201a8"
            ],
            [
             0.3333333333333333,
             "#9c179e"
            ],
            [
             0.4444444444444444,
             "#bd3786"
            ],
            [
             0.5555555555555556,
             "#d8576b"
            ],
            [
             0.6666666666666666,
             "#ed7953"
            ],
            [
             0.7777777777777778,
             "#fb9f3a"
            ],
            [
             0.8888888888888888,
             "#fdca26"
            ],
            [
             1,
             "#f0f921"
            ]
           ],
           "sequentialminus": [
            [
             0,
             "#0d0887"
            ],
            [
             0.1111111111111111,
             "#46039f"
            ],
            [
             0.2222222222222222,
             "#7201a8"
            ],
            [
             0.3333333333333333,
             "#9c179e"
            ],
            [
             0.4444444444444444,
             "#bd3786"
            ],
            [
             0.5555555555555556,
             "#d8576b"
            ],
            [
             0.6666666666666666,
             "#ed7953"
            ],
            [
             0.7777777777777778,
             "#fb9f3a"
            ],
            [
             0.8888888888888888,
             "#fdca26"
            ],
            [
             1,
             "#f0f921"
            ]
           ]
          },
          "colorway": [
           "#636efa",
           "#EF553B",
           "#00cc96",
           "#ab63fa",
           "#FFA15A",
           "#19d3f3",
           "#FF6692",
           "#B6E880",
           "#FF97FF",
           "#FECB52"
          ],
          "font": {
           "color": "#2a3f5f"
          },
          "geo": {
           "bgcolor": "white",
           "lakecolor": "white",
           "landcolor": "#E5ECF6",
           "showlakes": true,
           "showland": true,
           "subunitcolor": "white"
          },
          "hoverlabel": {
           "align": "left"
          },
          "hovermode": "closest",
          "mapbox": {
           "style": "light"
          },
          "paper_bgcolor": "white",
          "plot_bgcolor": "#E5ECF6",
          "polar": {
           "angularaxis": {
            "gridcolor": "white",
            "linecolor": "white",
            "ticks": ""
           },
           "bgcolor": "#E5ECF6",
           "radialaxis": {
            "gridcolor": "white",
            "linecolor": "white",
            "ticks": ""
           }
          },
          "scene": {
           "xaxis": {
            "backgroundcolor": "#E5ECF6",
            "gridcolor": "white",
            "gridwidth": 2,
            "linecolor": "white",
            "showbackground": true,
            "ticks": "",
            "zerolinecolor": "white"
           },
           "yaxis": {
            "backgroundcolor": "#E5ECF6",
            "gridcolor": "white",
            "gridwidth": 2,
            "linecolor": "white",
            "showbackground": true,
            "ticks": "",
            "zerolinecolor": "white"
           },
           "zaxis": {
            "backgroundcolor": "#E5ECF6",
            "gridcolor": "white",
            "gridwidth": 2,
            "linecolor": "white",
            "showbackground": true,
            "ticks": "",
            "zerolinecolor": "white"
           }
          },
          "shapedefaults": {
           "line": {
            "color": "#2a3f5f"
           }
          },
          "ternary": {
           "aaxis": {
            "gridcolor": "white",
            "linecolor": "white",
            "ticks": ""
           },
           "baxis": {
            "gridcolor": "white",
            "linecolor": "white",
            "ticks": ""
           },
           "bgcolor": "#E5ECF6",
           "caxis": {
            "gridcolor": "white",
            "linecolor": "white",
            "ticks": ""
           }
          },
          "title": {
           "x": 0.05
          },
          "xaxis": {
           "automargin": true,
           "gridcolor": "white",
           "linecolor": "white",
           "ticks": "",
           "title": {
            "standoff": 15
           },
           "zerolinecolor": "white",
           "zerolinewidth": 2
          },
          "yaxis": {
           "automargin": true,
           "gridcolor": "white",
           "linecolor": "white",
           "ticks": "",
           "title": {
            "standoff": 15
           },
           "zerolinecolor": "white",
           "zerolinewidth": 2
          }
         }
        },
        "title": {
         "font": {
          "color": "#4D5663"
         }
        },
        "xaxis": {
         "gridcolor": "#E1E5ED",
         "showgrid": true,
         "tickfont": {
          "color": "#4D5663"
         },
         "title": {
          "font": {
           "color": "#4D5663"
          },
          "text": ""
         },
         "zerolinecolor": "#E1E5ED"
        },
        "yaxis": {
         "gridcolor": "#E1E5ED",
         "showgrid": true,
         "tickfont": {
          "color": "#4D5663"
         },
         "title": {
          "font": {
           "color": "#4D5663"
          },
          "text": ""
         },
         "zerolinecolor": "#E1E5ED"
        }
       }
      },
      "text/html": [
       "<div>\n",
       "        \n",
       "        \n",
       "            <div id=\"2bb7019e-0869-43cb-99ed-bb25e08d81ef\" class=\"plotly-graph-div\" style=\"height:525px; width:100%;\"></div>\n",
       "            <script type=\"text/javascript\">\n",
       "                require([\"plotly\"], function(Plotly) {\n",
       "                    window.PLOTLYENV=window.PLOTLYENV || {};\n",
       "                    window.PLOTLYENV.BASE_URL='https://plot.ly';\n",
       "                    \n",
       "                if (document.getElementById(\"2bb7019e-0869-43cb-99ed-bb25e08d81ef\")) {\n",
       "                    Plotly.newPlot(\n",
       "                        '2bb7019e-0869-43cb-99ed-bb25e08d81ef',\n",
       "                        [{\"marker\": {\"color\": \"rgba(255, 153, 51, 0.6)\", \"line\": {\"color\": \"rgba(255, 153, 51, 1.0)\", \"width\": 1}}, \"name\": \"Values\", \"orientation\": \"v\", \"text\": \"\", \"type\": \"bar\", \"x\": [\"A\", \"B\", \"C\"], \"y\": [32, 43, 50]}],\n",
       "                        {\"legend\": {\"bgcolor\": \"#F5F6F9\", \"font\": {\"color\": \"#4D5663\"}}, \"paper_bgcolor\": \"#F5F6F9\", \"plot_bgcolor\": \"#F5F6F9\", \"template\": {\"data\": {\"bar\": [{\"error_x\": {\"color\": \"#2a3f5f\"}, \"error_y\": {\"color\": \"#2a3f5f\"}, \"marker\": {\"line\": {\"color\": \"#E5ECF6\", \"width\": 0.5}}, \"type\": \"bar\"}], \"barpolar\": [{\"marker\": {\"line\": {\"color\": \"#E5ECF6\", \"width\": 0.5}}, \"type\": \"barpolar\"}], \"carpet\": [{\"aaxis\": {\"endlinecolor\": \"#2a3f5f\", \"gridcolor\": \"white\", \"linecolor\": \"white\", \"minorgridcolor\": \"white\", \"startlinecolor\": \"#2a3f5f\"}, \"baxis\": {\"endlinecolor\": \"#2a3f5f\", \"gridcolor\": \"white\", \"linecolor\": \"white\", \"minorgridcolor\": \"white\", \"startlinecolor\": \"#2a3f5f\"}, \"type\": \"carpet\"}], \"choropleth\": [{\"colorbar\": {\"outlinewidth\": 0, \"ticks\": \"\"}, \"type\": \"choropleth\"}], \"contour\": [{\"colorbar\": {\"outlinewidth\": 0, \"ticks\": \"\"}, \"colorscale\": [[0.0, \"#0d0887\"], [0.1111111111111111, \"#46039f\"], [0.2222222222222222, \"#7201a8\"], [0.3333333333333333, \"#9c179e\"], [0.4444444444444444, \"#bd3786\"], [0.5555555555555556, \"#d8576b\"], [0.6666666666666666, \"#ed7953\"], [0.7777777777777778, \"#fb9f3a\"], [0.8888888888888888, \"#fdca26\"], [1.0, \"#f0f921\"]], \"type\": \"contour\"}], \"contourcarpet\": [{\"colorbar\": {\"outlinewidth\": 0, \"ticks\": \"\"}, \"type\": \"contourcarpet\"}], \"heatmap\": [{\"colorbar\": {\"outlinewidth\": 0, \"ticks\": \"\"}, \"colorscale\": [[0.0, \"#0d0887\"], [0.1111111111111111, \"#46039f\"], [0.2222222222222222, \"#7201a8\"], [0.3333333333333333, \"#9c179e\"], [0.4444444444444444, \"#bd3786\"], [0.5555555555555556, \"#d8576b\"], [0.6666666666666666, \"#ed7953\"], [0.7777777777777778, \"#fb9f3a\"], [0.8888888888888888, \"#fdca26\"], [1.0, \"#f0f921\"]], \"type\": \"heatmap\"}], \"heatmapgl\": [{\"colorbar\": {\"outlinewidth\": 0, \"ticks\": \"\"}, \"colorscale\": [[0.0, \"#0d0887\"], [0.1111111111111111, \"#46039f\"], [0.2222222222222222, \"#7201a8\"], [0.3333333333333333, \"#9c179e\"], [0.4444444444444444, \"#bd3786\"], [0.5555555555555556, \"#d8576b\"], [0.6666666666666666, \"#ed7953\"], [0.7777777777777778, \"#fb9f3a\"], [0.8888888888888888, \"#fdca26\"], [1.0, \"#f0f921\"]], \"type\": \"heatmapgl\"}], \"histogram\": [{\"marker\": {\"colorbar\": {\"outlinewidth\": 0, \"ticks\": \"\"}}, \"type\": \"histogram\"}], \"histogram2d\": [{\"colorbar\": {\"outlinewidth\": 0, \"ticks\": \"\"}, \"colorscale\": [[0.0, \"#0d0887\"], [0.1111111111111111, \"#46039f\"], [0.2222222222222222, \"#7201a8\"], [0.3333333333333333, \"#9c179e\"], [0.4444444444444444, \"#bd3786\"], [0.5555555555555556, \"#d8576b\"], [0.6666666666666666, \"#ed7953\"], [0.7777777777777778, \"#fb9f3a\"], [0.8888888888888888, \"#fdca26\"], [1.0, \"#f0f921\"]], \"type\": \"histogram2d\"}], \"histogram2dcontour\": [{\"colorbar\": {\"outlinewidth\": 0, \"ticks\": \"\"}, \"colorscale\": [[0.0, \"#0d0887\"], [0.1111111111111111, \"#46039f\"], [0.2222222222222222, \"#7201a8\"], [0.3333333333333333, \"#9c179e\"], [0.4444444444444444, \"#bd3786\"], [0.5555555555555556, \"#d8576b\"], [0.6666666666666666, \"#ed7953\"], [0.7777777777777778, \"#fb9f3a\"], [0.8888888888888888, \"#fdca26\"], [1.0, \"#f0f921\"]], \"type\": \"histogram2dcontour\"}], \"mesh3d\": [{\"colorbar\": {\"outlinewidth\": 0, \"ticks\": \"\"}, \"type\": \"mesh3d\"}], \"parcoords\": [{\"line\": {\"colorbar\": {\"outlinewidth\": 0, \"ticks\": \"\"}}, \"type\": \"parcoords\"}], \"pie\": [{\"automargin\": true, \"type\": \"pie\"}], \"scatter\": [{\"marker\": {\"colorbar\": {\"outlinewidth\": 0, \"ticks\": \"\"}}, \"type\": \"scatter\"}], \"scatter3d\": [{\"line\": {\"colorbar\": {\"outlinewidth\": 0, \"ticks\": \"\"}}, \"marker\": {\"colorbar\": {\"outlinewidth\": 0, \"ticks\": \"\"}}, \"type\": \"scatter3d\"}], \"scattercarpet\": [{\"marker\": {\"colorbar\": {\"outlinewidth\": 0, \"ticks\": \"\"}}, \"type\": \"scattercarpet\"}], \"scattergeo\": [{\"marker\": {\"colorbar\": {\"outlinewidth\": 0, \"ticks\": \"\"}}, \"type\": \"scattergeo\"}], \"scattergl\": [{\"marker\": {\"colorbar\": {\"outlinewidth\": 0, \"ticks\": \"\"}}, \"type\": \"scattergl\"}], \"scattermapbox\": [{\"marker\": {\"colorbar\": {\"outlinewidth\": 0, \"ticks\": \"\"}}, \"type\": \"scattermapbox\"}], \"scatterpolar\": [{\"marker\": {\"colorbar\": {\"outlinewidth\": 0, \"ticks\": \"\"}}, \"type\": \"scatterpolar\"}], \"scatterpolargl\": [{\"marker\": {\"colorbar\": {\"outlinewidth\": 0, \"ticks\": \"\"}}, \"type\": \"scatterpolargl\"}], \"scatterternary\": [{\"marker\": {\"colorbar\": {\"outlinewidth\": 0, \"ticks\": \"\"}}, \"type\": \"scatterternary\"}], \"surface\": [{\"colorbar\": {\"outlinewidth\": 0, \"ticks\": \"\"}, \"colorscale\": [[0.0, \"#0d0887\"], [0.1111111111111111, \"#46039f\"], [0.2222222222222222, \"#7201a8\"], [0.3333333333333333, \"#9c179e\"], [0.4444444444444444, \"#bd3786\"], [0.5555555555555556, \"#d8576b\"], [0.6666666666666666, \"#ed7953\"], [0.7777777777777778, \"#fb9f3a\"], [0.8888888888888888, \"#fdca26\"], [1.0, \"#f0f921\"]], \"type\": \"surface\"}], \"table\": [{\"cells\": {\"fill\": {\"color\": \"#EBF0F8\"}, \"line\": {\"color\": \"white\"}}, \"header\": {\"fill\": {\"color\": \"#C8D4E3\"}, \"line\": {\"color\": \"white\"}}, \"type\": \"table\"}]}, \"layout\": {\"annotationdefaults\": {\"arrowcolor\": \"#2a3f5f\", \"arrowhead\": 0, \"arrowwidth\": 1}, \"coloraxis\": {\"colorbar\": {\"outlinewidth\": 0, \"ticks\": \"\"}}, \"colorscale\": {\"diverging\": [[0, \"#8e0152\"], [0.1, \"#c51b7d\"], [0.2, \"#de77ae\"], [0.3, \"#f1b6da\"], [0.4, \"#fde0ef\"], [0.5, \"#f7f7f7\"], [0.6, \"#e6f5d0\"], [0.7, \"#b8e186\"], [0.8, \"#7fbc41\"], [0.9, \"#4d9221\"], [1, \"#276419\"]], \"sequential\": [[0.0, \"#0d0887\"], [0.1111111111111111, \"#46039f\"], [0.2222222222222222, \"#7201a8\"], [0.3333333333333333, \"#9c179e\"], [0.4444444444444444, \"#bd3786\"], [0.5555555555555556, \"#d8576b\"], [0.6666666666666666, \"#ed7953\"], [0.7777777777777778, \"#fb9f3a\"], [0.8888888888888888, \"#fdca26\"], [1.0, \"#f0f921\"]], \"sequentialminus\": [[0.0, \"#0d0887\"], [0.1111111111111111, \"#46039f\"], [0.2222222222222222, \"#7201a8\"], [0.3333333333333333, \"#9c179e\"], [0.4444444444444444, \"#bd3786\"], [0.5555555555555556, \"#d8576b\"], [0.6666666666666666, \"#ed7953\"], [0.7777777777777778, \"#fb9f3a\"], [0.8888888888888888, \"#fdca26\"], [1.0, \"#f0f921\"]]}, \"colorway\": [\"#636efa\", \"#EF553B\", \"#00cc96\", \"#ab63fa\", \"#FFA15A\", \"#19d3f3\", \"#FF6692\", \"#B6E880\", \"#FF97FF\", \"#FECB52\"], \"font\": {\"color\": \"#2a3f5f\"}, \"geo\": {\"bgcolor\": \"white\", \"lakecolor\": \"white\", \"landcolor\": \"#E5ECF6\", \"showlakes\": true, \"showland\": true, \"subunitcolor\": \"white\"}, \"hoverlabel\": {\"align\": \"left\"}, \"hovermode\": \"closest\", \"mapbox\": {\"style\": \"light\"}, \"paper_bgcolor\": \"white\", \"plot_bgcolor\": \"#E5ECF6\", \"polar\": {\"angularaxis\": {\"gridcolor\": \"white\", \"linecolor\": \"white\", \"ticks\": \"\"}, \"bgcolor\": \"#E5ECF6\", \"radialaxis\": {\"gridcolor\": \"white\", \"linecolor\": \"white\", \"ticks\": \"\"}}, \"scene\": {\"xaxis\": {\"backgroundcolor\": \"#E5ECF6\", \"gridcolor\": \"white\", \"gridwidth\": 2, \"linecolor\": \"white\", \"showbackground\": true, \"ticks\": \"\", \"zerolinecolor\": \"white\"}, \"yaxis\": {\"backgroundcolor\": \"#E5ECF6\", \"gridcolor\": \"white\", \"gridwidth\": 2, \"linecolor\": \"white\", \"showbackground\": true, \"ticks\": \"\", \"zerolinecolor\": \"white\"}, \"zaxis\": {\"backgroundcolor\": \"#E5ECF6\", \"gridcolor\": \"white\", \"gridwidth\": 2, \"linecolor\": \"white\", \"showbackground\": true, \"ticks\": \"\", \"zerolinecolor\": \"white\"}}, \"shapedefaults\": {\"line\": {\"color\": \"#2a3f5f\"}}, \"ternary\": {\"aaxis\": {\"gridcolor\": \"white\", \"linecolor\": \"white\", \"ticks\": \"\"}, \"baxis\": {\"gridcolor\": \"white\", \"linecolor\": \"white\", \"ticks\": \"\"}, \"bgcolor\": \"#E5ECF6\", \"caxis\": {\"gridcolor\": \"white\", \"linecolor\": \"white\", \"ticks\": \"\"}}, \"title\": {\"x\": 0.05}, \"xaxis\": {\"automargin\": true, \"gridcolor\": \"white\", \"linecolor\": \"white\", \"ticks\": \"\", \"title\": {\"standoff\": 15}, \"zerolinecolor\": \"white\", \"zerolinewidth\": 2}, \"yaxis\": {\"automargin\": true, \"gridcolor\": \"white\", \"linecolor\": \"white\", \"ticks\": \"\", \"title\": {\"standoff\": 15}, \"zerolinecolor\": \"white\", \"zerolinewidth\": 2}}}, \"title\": {\"font\": {\"color\": \"#4D5663\"}}, \"xaxis\": {\"gridcolor\": \"#E1E5ED\", \"showgrid\": true, \"tickfont\": {\"color\": \"#4D5663\"}, \"title\": {\"font\": {\"color\": \"#4D5663\"}, \"text\": \"\"}, \"zerolinecolor\": \"#E1E5ED\"}, \"yaxis\": {\"gridcolor\": \"#E1E5ED\", \"showgrid\": true, \"tickfont\": {\"color\": \"#4D5663\"}, \"title\": {\"font\": {\"color\": \"#4D5663\"}, \"text\": \"\"}, \"zerolinecolor\": \"#E1E5ED\"}},\n",
       "                        {\"showLink\": true, \"linkText\": \"Export to plot.ly\", \"plotlyServerURL\": \"https://plot.ly\", \"responsive\": true}\n",
       "                    ).then(function(){\n",
       "                            \n",
       "var gd = document.getElementById('2bb7019e-0869-43cb-99ed-bb25e08d81ef');\n",
       "var x = new MutationObserver(function (mutations, observer) {{\n",
       "        var display = window.getComputedStyle(gd).display;\n",
       "        if (!display || display === 'none') {{\n",
       "            console.log([gd, 'removed!']);\n",
       "            Plotly.purge(gd);\n",
       "            observer.disconnect();\n",
       "        }}\n",
       "}});\n",
       "\n",
       "// Listen for the removal of the full notebook cells\n",
       "var notebookContainer = gd.closest('#notebook-container');\n",
       "if (notebookContainer) {{\n",
       "    x.observe(notebookContainer, {childList: true});\n",
       "}}\n",
       "\n",
       "// Listen for the clearing of the current output cell\n",
       "var outputEl = gd.closest('.output');\n",
       "if (outputEl) {{\n",
       "    x.observe(outputEl, {childList: true});\n",
       "}}\n",
       "\n",
       "                        })\n",
       "                };\n",
       "                });\n",
       "            </script>\n",
       "        </div>"
      ]
     },
     "metadata": {},
     "output_type": "display_data"
    }
   ],
   "source": [
    "df2.iplot(kind=\"bar\",x=\"Category\",y=\"Values\")"
   ]
  },
  {
   "cell_type": "code",
   "execution_count": 27,
   "metadata": {},
   "outputs": [
    {
     "data": {
      "text/html": [
       "<div>\n",
       "<style scoped>\n",
       "    .dataframe tbody tr th:only-of-type {\n",
       "        vertical-align: middle;\n",
       "    }\n",
       "\n",
       "    .dataframe tbody tr th {\n",
       "        vertical-align: top;\n",
       "    }\n",
       "\n",
       "    .dataframe thead th {\n",
       "        text-align: right;\n",
       "    }\n",
       "</style>\n",
       "<table border=\"1\" class=\"dataframe\">\n",
       "  <thead>\n",
       "    <tr style=\"text-align: right;\">\n",
       "      <th></th>\n",
       "      <th>A</th>\n",
       "      <th>B</th>\n",
       "      <th>C</th>\n",
       "      <th>D</th>\n",
       "    </tr>\n",
       "  </thead>\n",
       "  <tbody>\n",
       "    <tr>\n",
       "      <td>0</td>\n",
       "      <td>-0.607023</td>\n",
       "      <td>0.394426</td>\n",
       "      <td>0.578649</td>\n",
       "      <td>-0.771071</td>\n",
       "    </tr>\n",
       "    <tr>\n",
       "      <td>1</td>\n",
       "      <td>-1.863874</td>\n",
       "      <td>1.154538</td>\n",
       "      <td>-1.377948</td>\n",
       "      <td>0.908422</td>\n",
       "    </tr>\n",
       "    <tr>\n",
       "      <td>2</td>\n",
       "      <td>-0.029459</td>\n",
       "      <td>-0.398193</td>\n",
       "      <td>0.123652</td>\n",
       "      <td>0.148672</td>\n",
       "    </tr>\n",
       "    <tr>\n",
       "      <td>3</td>\n",
       "      <td>-1.301291</td>\n",
       "      <td>1.060705</td>\n",
       "      <td>-1.116511</td>\n",
       "      <td>1.091242</td>\n",
       "    </tr>\n",
       "    <tr>\n",
       "      <td>4</td>\n",
       "      <td>0.480848</td>\n",
       "      <td>-1.092798</td>\n",
       "      <td>0.805809</td>\n",
       "      <td>-0.381368</td>\n",
       "    </tr>\n",
       "    <tr>\n",
       "      <td>...</td>\n",
       "      <td>...</td>\n",
       "      <td>...</td>\n",
       "      <td>...</td>\n",
       "      <td>...</td>\n",
       "    </tr>\n",
       "    <tr>\n",
       "      <td>95</td>\n",
       "      <td>-0.379375</td>\n",
       "      <td>-1.370232</td>\n",
       "      <td>1.000999</td>\n",
       "      <td>-0.126949</td>\n",
       "    </tr>\n",
       "    <tr>\n",
       "      <td>96</td>\n",
       "      <td>-1.453612</td>\n",
       "      <td>0.711851</td>\n",
       "      <td>0.210471</td>\n",
       "      <td>0.240568</td>\n",
       "    </tr>\n",
       "    <tr>\n",
       "      <td>97</td>\n",
       "      <td>1.162279</td>\n",
       "      <td>-1.440918</td>\n",
       "      <td>-0.476096</td>\n",
       "      <td>-2.764699</td>\n",
       "    </tr>\n",
       "    <tr>\n",
       "      <td>98</td>\n",
       "      <td>0.287060</td>\n",
       "      <td>0.177585</td>\n",
       "      <td>-0.645891</td>\n",
       "      <td>1.065853</td>\n",
       "    </tr>\n",
       "    <tr>\n",
       "      <td>99</td>\n",
       "      <td>-1.329382</td>\n",
       "      <td>-0.348827</td>\n",
       "      <td>-0.351378</td>\n",
       "      <td>0.142027</td>\n",
       "    </tr>\n",
       "  </tbody>\n",
       "</table>\n",
       "<p>100 rows × 4 columns</p>\n",
       "</div>"
      ],
      "text/plain": [
       "           A         B         C         D\n",
       "0  -0.607023  0.394426  0.578649 -0.771071\n",
       "1  -1.863874  1.154538 -1.377948  0.908422\n",
       "2  -0.029459 -0.398193  0.123652  0.148672\n",
       "3  -1.301291  1.060705 -1.116511  1.091242\n",
       "4   0.480848 -1.092798  0.805809 -0.381368\n",
       "..       ...       ...       ...       ...\n",
       "95 -0.379375 -1.370232  1.000999 -0.126949\n",
       "96 -1.453612  0.711851  0.210471  0.240568\n",
       "97  1.162279 -1.440918 -0.476096 -2.764699\n",
       "98  0.287060  0.177585 -0.645891  1.065853\n",
       "99 -1.329382 -0.348827 -0.351378  0.142027\n",
       "\n",
       "[100 rows x 4 columns]"
      ]
     },
     "execution_count": 27,
     "metadata": {},
     "output_type": "execute_result"
    }
   ],
   "source": [
    "df"
   ]
  },
  {
   "cell_type": "code",
   "execution_count": 31,
   "metadata": {},
   "outputs": [
    {
     "data": {
      "application/vnd.plotly.v1+json": {
       "config": {
        "linkText": "Export to plot.ly",
        "plotlyServerURL": "https://plot.ly",
        "showLink": true
       },
       "data": [
        {
         "marker": {
          "color": "rgba(255, 153, 51, 0.6)",
          "line": {
           "color": "rgba(255, 153, 51, 1.0)",
           "width": 1
          }
         },
         "name": "A",
         "orientation": "v",
         "text": "",
         "type": "bar",
         "x": [
          0,
          1,
          2,
          3,
          4,
          5,
          6,
          7,
          8,
          9,
          10,
          11,
          12,
          13,
          14,
          15,
          16,
          17,
          18,
          19,
          20,
          21,
          22,
          23,
          24,
          25,
          26,
          27,
          28,
          29,
          30,
          31,
          32,
          33,
          34,
          35,
          36,
          37,
          38,
          39,
          40,
          41,
          42,
          43,
          44,
          45,
          46,
          47,
          48,
          49,
          50,
          51,
          52,
          53,
          54,
          55,
          56,
          57,
          58,
          59,
          60,
          61,
          62,
          63,
          64,
          65,
          66,
          67,
          68,
          69,
          70,
          71,
          72,
          73,
          74,
          75,
          76,
          77,
          78,
          79,
          80,
          81,
          82,
          83,
          84,
          85,
          86,
          87,
          88,
          89,
          90,
          91,
          92,
          93,
          94,
          95,
          96,
          97,
          98,
          99
         ],
         "y": [
          -0.6070225586537845,
          -1.8638739423338426,
          -0.02945872276840593,
          -1.301291297310065,
          0.48084833474018185,
          0.7628548206270173,
          -0.28843164746247685,
          0.6019043240278631,
          -0.8763709987921026,
          1.702802294665911,
          0.03894666378491089,
          -0.391247915748716,
          -0.3232684791801891,
          0.5555540390983371,
          -0.5833873983870684,
          -0.0844703205455899,
          -0.5139830214610452,
          -0.9874331374104602,
          1.3231224108983104,
          1.3852294994314818,
          0.495802931458785,
          1.5044941738291178,
          2.013539747855578,
          -0.9350456661961715,
          -0.07199477165247954,
          -0.012588234544470622,
          1.0286702624831179,
          -0.30675308423320574,
          -2.0813241088469705,
          0.9113534548782632,
          -1.1821295689927516,
          0.39712861820350376,
          0.32421117523347154,
          -1.388467161393341,
          -1.8196690472248764,
          1.2781438676085672,
          1.1244717635481953,
          2.6878665336118686,
          -1.6109429503383526,
          -0.3309381064713909,
          0.1012450075722931,
          -0.6927193028799976,
          -1.7779565769379178,
          -0.4937356719987772,
          -0.9214348954348198,
          0.04960273216795757,
          -2.6493834985687386,
          -0.3863153542191854,
          -0.5203504684321614,
          0.5977880177234898,
          1.5935857254212724,
          0.30130947631160576,
          -0.24209057064901562,
          2.393932462989073,
          0.48453201427412146,
          1.1471246976281726,
          1.2228406556961817,
          1.0816068853591136,
          -0.7424208071880561,
          0.7861844219733373,
          0.7498272838099621,
          -0.025596103412613782,
          -0.8244905811186303,
          0.6800258715624917,
          0.5426539687452233,
          -0.3376995252397134,
          0.4782136125101678,
          1.61174979268537,
          -0.009447379791987958,
          2.0385534852770575,
          2.017903156882396,
          -0.04108963367107593,
          -0.37405806660701296,
          1.6557536077103534,
          -0.9180687240107729,
          -1.3509762396010478,
          -1.3245247370933935,
          0.1883981543352357,
          -1.007096270807894,
          0.112857625621616,
          -0.03716265055480332,
          -1.3047337291461698,
          -1.8938223768162143,
          -0.05915120037142549,
          -0.022261006449155404,
          -2.2257467886082813,
          0.299708338942967,
          -0.11551816567653965,
          -0.22224470630933316,
          1.8203093144170124,
          -0.9809281853994635,
          0.8258301853601936,
          1.747369363537277,
          0.4451763013778281,
          0.8233981834134183,
          -0.37937479326251894,
          -1.4536121716892259,
          1.1622792298167708,
          0.2870601492366928,
          -1.3293818887641389
         ]
        },
        {
         "marker": {
          "color": "rgba(55, 128, 191, 0.6)",
          "line": {
           "color": "rgba(55, 128, 191, 1.0)",
           "width": 1
          }
         },
         "name": "B",
         "orientation": "v",
         "text": "",
         "type": "bar",
         "x": [
          0,
          1,
          2,
          3,
          4,
          5,
          6,
          7,
          8,
          9,
          10,
          11,
          12,
          13,
          14,
          15,
          16,
          17,
          18,
          19,
          20,
          21,
          22,
          23,
          24,
          25,
          26,
          27,
          28,
          29,
          30,
          31,
          32,
          33,
          34,
          35,
          36,
          37,
          38,
          39,
          40,
          41,
          42,
          43,
          44,
          45,
          46,
          47,
          48,
          49,
          50,
          51,
          52,
          53,
          54,
          55,
          56,
          57,
          58,
          59,
          60,
          61,
          62,
          63,
          64,
          65,
          66,
          67,
          68,
          69,
          70,
          71,
          72,
          73,
          74,
          75,
          76,
          77,
          78,
          79,
          80,
          81,
          82,
          83,
          84,
          85,
          86,
          87,
          88,
          89,
          90,
          91,
          92,
          93,
          94,
          95,
          96,
          97,
          98,
          99
         ],
         "y": [
          0.39442564922170886,
          1.1545382861670683,
          -0.3981929049509391,
          1.0607053367391788,
          -1.0927982071594042,
          0.8938581864801937,
          0.10953427785913276,
          1.100603769799354,
          -0.037145165173287524,
          0.820385609335391,
          0.1757448574089021,
          -1.4281471214410326,
          1.3192507531473423,
          0.591642670955045,
          0.5229932990718201,
          0.13605660011946183,
          -0.2100106055939634,
          -0.5700547463822505,
          -0.3323261428045018,
          1.4377556274630496,
          0.14413892892924288,
          0.05300178117926253,
          0.15897168480049687,
          -0.4642246356303038,
          -0.062162694238745014,
          -0.404997912384452,
          -0.7201482218638331,
          2.023568952952069,
          -1.6214853359956733,
          0.542085407732597,
          0.5827569941618997,
          0.3776319435990386,
          0.7860509953709055,
          -0.5428417186393626,
          -0.6218017304368952,
          -0.01711816060498298,
          0.8909241978978917,
          -1.1794232525669857,
          -0.23428574473243066,
          0.6223056989779824,
          -0.13862316143162234,
          1.3989648648043242,
          -1.2881252741130682,
          0.7279631578004603,
          -0.048807113398033994,
          1.0394435684890488,
          -3.3911593703715184,
          -0.524115543518746,
          1.9491071278041052,
          0.07942048576898976,
          -0.6641974846295369,
          -1.0352913027794661,
          -0.6683730021861155,
          -2.0801704608528366,
          -0.6236871291314133,
          0.5545284284650903,
          0.09672761646458744,
          -0.957367126309057,
          -1.3015723703851805,
          0.529996087442483,
          0.36037265455029355,
          -0.825360660875962,
          1.6074276743204716,
          -2.125383315024735,
          0.2729482690721516,
          0.2648116479946539,
          -0.6484000338053134,
          -0.8529199767742717,
          -0.46666971985268213,
          -0.6044278288068219,
          0.6411021729993239,
          1.607115690297109,
          0.642969908406056,
          3.4880296066713408,
          1.5160479793033188,
          0.21650854966375002,
          1.1058470153140674,
          0.9089965059567509,
          -0.9594932219442222,
          -0.5825050989047242,
          -0.006558177721396607,
          1.2314458312022174,
          -0.445862995858089,
          0.32692197599067874,
          -0.16732624075897054,
          -0.06631960996464281,
          -0.5567444312996315,
          -1.2697328105510748,
          -0.6461202658830911,
          -1.6486385015803198,
          0.8697462032738772,
          1.071978584989495,
          1.0115715290572223,
          0.688291257034643,
          -0.4446104637134038,
          -1.370232127902445,
          0.711851270271103,
          -1.4409175804017305,
          0.17758469504751084,
          -0.3488266307639724
         ]
        },
        {
         "marker": {
          "color": "rgba(50, 171, 96, 0.6)",
          "line": {
           "color": "rgba(50, 171, 96, 1.0)",
           "width": 1
          }
         },
         "name": "C",
         "orientation": "v",
         "text": "",
         "type": "bar",
         "x": [
          0,
          1,
          2,
          3,
          4,
          5,
          6,
          7,
          8,
          9,
          10,
          11,
          12,
          13,
          14,
          15,
          16,
          17,
          18,
          19,
          20,
          21,
          22,
          23,
          24,
          25,
          26,
          27,
          28,
          29,
          30,
          31,
          32,
          33,
          34,
          35,
          36,
          37,
          38,
          39,
          40,
          41,
          42,
          43,
          44,
          45,
          46,
          47,
          48,
          49,
          50,
          51,
          52,
          53,
          54,
          55,
          56,
          57,
          58,
          59,
          60,
          61,
          62,
          63,
          64,
          65,
          66,
          67,
          68,
          69,
          70,
          71,
          72,
          73,
          74,
          75,
          76,
          77,
          78,
          79,
          80,
          81,
          82,
          83,
          84,
          85,
          86,
          87,
          88,
          89,
          90,
          91,
          92,
          93,
          94,
          95,
          96,
          97,
          98,
          99
         ],
         "y": [
          0.5786488658973388,
          -1.3779481177244952,
          0.12365177369173536,
          -1.116511132468932,
          0.8058094735407533,
          -0.40434082821277284,
          1.0225385803330087,
          -0.6470938916080935,
          -0.3508677486533792,
          2.5013226025963746,
          -1.5259835252824552,
          -0.9829311652920717,
          0.23493446006915572,
          -0.9037615413233684,
          -1.3141707547165868,
          -1.5199657157915831,
          -0.7626795758174268,
          1.6073113400335521,
          0.3065045812678438,
          0.7670645741240087,
          -0.44191752142816326,
          -1.3298535843393218,
          -1.135700295184527,
          0.9297115141063347,
          0.6865778093810669,
          0.2906984631345525,
          -0.9865642416513182,
          0.7390830087985069,
          0.5873820481676423,
          -1.0539583164959976,
          0.5414419704915575,
          -0.11185761505217436,
          -0.07695780645157449,
          -2.1646462442630616,
          1.1851782283016816,
          -1.8572626824506342,
          0.44751835654226163,
          0.2377385201511963,
          0.0977471498017824,
          -0.346706646408973,
          0.3288034699452686,
          -0.241554375975574,
          0.23406958233434508,
          -1.2932583043575332,
          -0.0753563250462829,
          0.9227704330212433,
          -0.9932007883861261,
          0.8402493065090569,
          -1.7071908207317257,
          0.4353964002156085,
          0.8810442345722524,
          -1.2204230274097805,
          0.9178683103189221,
          -0.5616608195969544,
          -1.4997595699840784,
          -0.6205171225168257,
          1.078060164804285,
          1.0340481232295156,
          -0.7664258411313779,
          0.6926338816275318,
          1.8483024115450608,
          -0.9381821206856582,
          -0.31440988974655065,
          -0.5299400185069904,
          0.5028693025293436,
          -0.697868894664978,
          0.02223697002983274,
          0.77557394882186,
          0.8422756027790126,
          1.0019480005664712,
          -0.7245614241946116,
          -0.20870645294212087,
          -0.11179174927504838,
          -0.25709999871760897,
          -1.202771442521758,
          0.17460517244494234,
          -3.556830917028255,
          1.959280308579902,
          -0.20721381467702987,
          -0.004113041471365491,
          1.0467020240597704,
          -0.6563924493292402,
          -1.2702933876925069,
          -0.44861523437505996,
          0.23141073624629255,
          0.28912448864058354,
          -2.64152539481277,
          -0.37655621404335426,
          -0.9278540083113972,
          0.021633252663627364,
          0.4389105377440285,
          -0.316289308114846,
          -1.1468826225189952,
          -1.157161485137814,
          0.7742523737057712,
          1.0009994401994993,
          0.21047062378348677,
          -0.4760958934500705,
          -0.6458907785383571,
          -0.35137750023636594
         ]
        },
        {
         "marker": {
          "color": "rgba(128, 0, 128, 0.6)",
          "line": {
           "color": "rgba(128, 0, 128, 1.0)",
           "width": 1
          }
         },
         "name": "D",
         "orientation": "v",
         "text": "",
         "type": "bar",
         "x": [
          0,
          1,
          2,
          3,
          4,
          5,
          6,
          7,
          8,
          9,
          10,
          11,
          12,
          13,
          14,
          15,
          16,
          17,
          18,
          19,
          20,
          21,
          22,
          23,
          24,
          25,
          26,
          27,
          28,
          29,
          30,
          31,
          32,
          33,
          34,
          35,
          36,
          37,
          38,
          39,
          40,
          41,
          42,
          43,
          44,
          45,
          46,
          47,
          48,
          49,
          50,
          51,
          52,
          53,
          54,
          55,
          56,
          57,
          58,
          59,
          60,
          61,
          62,
          63,
          64,
          65,
          66,
          67,
          68,
          69,
          70,
          71,
          72,
          73,
          74,
          75,
          76,
          77,
          78,
          79,
          80,
          81,
          82,
          83,
          84,
          85,
          86,
          87,
          88,
          89,
          90,
          91,
          92,
          93,
          94,
          95,
          96,
          97,
          98,
          99
         ],
         "y": [
          -0.7710707494557274,
          0.9084215962844299,
          0.14867156693112518,
          1.091242440442385,
          -0.38136791739286025,
          2.6551377942985472,
          -0.542106532007221,
          0.0009897898929007354,
          1.025732698451324,
          1.0917364537662415,
          -0.06579851584724807,
          1.8484432768417098,
          -0.3399947465039237,
          -0.6562755405065582,
          0.9859146265234778,
          0.9181428936696494,
          0.560453175862377,
          0.6173219524497757,
          -0.4176234372666162,
          -0.08616974832048305,
          -0.006352829478318503,
          0.5136507964107583,
          0.15464554983258477,
          -0.4030269739726689,
          0.3296061099699754,
          -0.4648081650700848,
          -1.1636454990471916,
          0.8167962531838402,
          1.3782602913496587,
          -0.8339337883855852,
          0.866982803885244,
          0.6456966292631111,
          -1.65519664670503,
          -0.34483808667429844,
          1.1519480185389928,
          -0.42603916535007497,
          -1.3876296020701955,
          0.438502934561104,
          -0.34317189887749944,
          -0.2582968179968848,
          -1.6196419672168794,
          -0.32586548630627404,
          0.490437955843003,
          -0.016853814769800884,
          0.5704102851277636,
          -0.020673325863221778,
          1.4100771515518467,
          0.8309463411013209,
          1.3443492512121447,
          -1.8857520766945424,
          -0.09056980293285732,
          0.09138694227565757,
          1.3636878725062827,
          -0.2660602412255175,
          1.646259910223738,
          1.8005971402578238,
          -1.210293685648795,
          -0.4522423782105368,
          0.4567476600502909,
          1.3930048823179084,
          0.2072223848026172,
          0.6332124968747784,
          -1.3880857965038995,
          1.987635207109135,
          -0.992693168002227,
          -0.5082269973015238,
          0.4403931715663567,
          -1.4866772715183176,
          0.6426683638879613,
          0.6778864417024036,
          0.2211458414525818,
          -0.029785991329424652,
          0.6604793649030712,
          -1.3172685329935305,
          0.061259598483134725,
          -0.40628739096693317,
          -1.0786117555871804,
          -2.459949891065606,
          0.058595706402560455,
          0.5166845977099281,
          0.4436605818850999,
          0.9127365293860776,
          -0.9936011302758352,
          -1.0284535043950807,
          0.7193874352238564,
          0.19833013706556346,
          0.041628183160987306,
          0.4541679834133369,
          -1.5602230041741998,
          -0.772172041615176,
          0.15727133827918466,
          0.780274996711184,
          -1.3290121829172736,
          -0.3476287149663292,
          0.5469591287599925,
          -0.12694867546220384,
          0.24056843026883892,
          -2.7646992768771086,
          1.0658530548801204,
          0.14202684939502938
         ]
        }
       ],
       "layout": {
        "legend": {
         "bgcolor": "#F5F6F9",
         "font": {
          "color": "#4D5663"
         }
        },
        "paper_bgcolor": "#F5F6F9",
        "plot_bgcolor": "#F5F6F9",
        "template": {
         "data": {
          "bar": [
           {
            "error_x": {
             "color": "#2a3f5f"
            },
            "error_y": {
             "color": "#2a3f5f"
            },
            "marker": {
             "line": {
              "color": "#E5ECF6",
              "width": 0.5
             }
            },
            "type": "bar"
           }
          ],
          "barpolar": [
           {
            "marker": {
             "line": {
              "color": "#E5ECF6",
              "width": 0.5
             }
            },
            "type": "barpolar"
           }
          ],
          "carpet": [
           {
            "aaxis": {
             "endlinecolor": "#2a3f5f",
             "gridcolor": "white",
             "linecolor": "white",
             "minorgridcolor": "white",
             "startlinecolor": "#2a3f5f"
            },
            "baxis": {
             "endlinecolor": "#2a3f5f",
             "gridcolor": "white",
             "linecolor": "white",
             "minorgridcolor": "white",
             "startlinecolor": "#2a3f5f"
            },
            "type": "carpet"
           }
          ],
          "choropleth": [
           {
            "colorbar": {
             "outlinewidth": 0,
             "ticks": ""
            },
            "type": "choropleth"
           }
          ],
          "contour": [
           {
            "colorbar": {
             "outlinewidth": 0,
             "ticks": ""
            },
            "colorscale": [
             [
              0,
              "#0d0887"
             ],
             [
              0.1111111111111111,
              "#46039f"
             ],
             [
              0.2222222222222222,
              "#7201a8"
             ],
             [
              0.3333333333333333,
              "#9c179e"
             ],
             [
              0.4444444444444444,
              "#bd3786"
             ],
             [
              0.5555555555555556,
              "#d8576b"
             ],
             [
              0.6666666666666666,
              "#ed7953"
             ],
             [
              0.7777777777777778,
              "#fb9f3a"
             ],
             [
              0.8888888888888888,
              "#fdca26"
             ],
             [
              1,
              "#f0f921"
             ]
            ],
            "type": "contour"
           }
          ],
          "contourcarpet": [
           {
            "colorbar": {
             "outlinewidth": 0,
             "ticks": ""
            },
            "type": "contourcarpet"
           }
          ],
          "heatmap": [
           {
            "colorbar": {
             "outlinewidth": 0,
             "ticks": ""
            },
            "colorscale": [
             [
              0,
              "#0d0887"
             ],
             [
              0.1111111111111111,
              "#46039f"
             ],
             [
              0.2222222222222222,
              "#7201a8"
             ],
             [
              0.3333333333333333,
              "#9c179e"
             ],
             [
              0.4444444444444444,
              "#bd3786"
             ],
             [
              0.5555555555555556,
              "#d8576b"
             ],
             [
              0.6666666666666666,
              "#ed7953"
             ],
             [
              0.7777777777777778,
              "#fb9f3a"
             ],
             [
              0.8888888888888888,
              "#fdca26"
             ],
             [
              1,
              "#f0f921"
             ]
            ],
            "type": "heatmap"
           }
          ],
          "heatmapgl": [
           {
            "colorbar": {
             "outlinewidth": 0,
             "ticks": ""
            },
            "colorscale": [
             [
              0,
              "#0d0887"
             ],
             [
              0.1111111111111111,
              "#46039f"
             ],
             [
              0.2222222222222222,
              "#7201a8"
             ],
             [
              0.3333333333333333,
              "#9c179e"
             ],
             [
              0.4444444444444444,
              "#bd3786"
             ],
             [
              0.5555555555555556,
              "#d8576b"
             ],
             [
              0.6666666666666666,
              "#ed7953"
             ],
             [
              0.7777777777777778,
              "#fb9f3a"
             ],
             [
              0.8888888888888888,
              "#fdca26"
             ],
             [
              1,
              "#f0f921"
             ]
            ],
            "type": "heatmapgl"
           }
          ],
          "histogram": [
           {
            "marker": {
             "colorbar": {
              "outlinewidth": 0,
              "ticks": ""
             }
            },
            "type": "histogram"
           }
          ],
          "histogram2d": [
           {
            "colorbar": {
             "outlinewidth": 0,
             "ticks": ""
            },
            "colorscale": [
             [
              0,
              "#0d0887"
             ],
             [
              0.1111111111111111,
              "#46039f"
             ],
             [
              0.2222222222222222,
              "#7201a8"
             ],
             [
              0.3333333333333333,
              "#9c179e"
             ],
             [
              0.4444444444444444,
              "#bd3786"
             ],
             [
              0.5555555555555556,
              "#d8576b"
             ],
             [
              0.6666666666666666,
              "#ed7953"
             ],
             [
              0.7777777777777778,
              "#fb9f3a"
             ],
             [
              0.8888888888888888,
              "#fdca26"
             ],
             [
              1,
              "#f0f921"
             ]
            ],
            "type": "histogram2d"
           }
          ],
          "histogram2dcontour": [
           {
            "colorbar": {
             "outlinewidth": 0,
             "ticks": ""
            },
            "colorscale": [
             [
              0,
              "#0d0887"
             ],
             [
              0.1111111111111111,
              "#46039f"
             ],
             [
              0.2222222222222222,
              "#7201a8"
             ],
             [
              0.3333333333333333,
              "#9c179e"
             ],
             [
              0.4444444444444444,
              "#bd3786"
             ],
             [
              0.5555555555555556,
              "#d8576b"
             ],
             [
              0.6666666666666666,
              "#ed7953"
             ],
             [
              0.7777777777777778,
              "#fb9f3a"
             ],
             [
              0.8888888888888888,
              "#fdca26"
             ],
             [
              1,
              "#f0f921"
             ]
            ],
            "type": "histogram2dcontour"
           }
          ],
          "mesh3d": [
           {
            "colorbar": {
             "outlinewidth": 0,
             "ticks": ""
            },
            "type": "mesh3d"
           }
          ],
          "parcoords": [
           {
            "line": {
             "colorbar": {
              "outlinewidth": 0,
              "ticks": ""
             }
            },
            "type": "parcoords"
           }
          ],
          "pie": [
           {
            "automargin": true,
            "type": "pie"
           }
          ],
          "scatter": [
           {
            "marker": {
             "colorbar": {
              "outlinewidth": 0,
              "ticks": ""
             }
            },
            "type": "scatter"
           }
          ],
          "scatter3d": [
           {
            "line": {
             "colorbar": {
              "outlinewidth": 0,
              "ticks": ""
             }
            },
            "marker": {
             "colorbar": {
              "outlinewidth": 0,
              "ticks": ""
             }
            },
            "type": "scatter3d"
           }
          ],
          "scattercarpet": [
           {
            "marker": {
             "colorbar": {
              "outlinewidth": 0,
              "ticks": ""
             }
            },
            "type": "scattercarpet"
           }
          ],
          "scattergeo": [
           {
            "marker": {
             "colorbar": {
              "outlinewidth": 0,
              "ticks": ""
             }
            },
            "type": "scattergeo"
           }
          ],
          "scattergl": [
           {
            "marker": {
             "colorbar": {
              "outlinewidth": 0,
              "ticks": ""
             }
            },
            "type": "scattergl"
           }
          ],
          "scattermapbox": [
           {
            "marker": {
             "colorbar": {
              "outlinewidth": 0,
              "ticks": ""
             }
            },
            "type": "scattermapbox"
           }
          ],
          "scatterpolar": [
           {
            "marker": {
             "colorbar": {
              "outlinewidth": 0,
              "ticks": ""
             }
            },
            "type": "scatterpolar"
           }
          ],
          "scatterpolargl": [
           {
            "marker": {
             "colorbar": {
              "outlinewidth": 0,
              "ticks": ""
             }
            },
            "type": "scatterpolargl"
           }
          ],
          "scatterternary": [
           {
            "marker": {
             "colorbar": {
              "outlinewidth": 0,
              "ticks": ""
             }
            },
            "type": "scatterternary"
           }
          ],
          "surface": [
           {
            "colorbar": {
             "outlinewidth": 0,
             "ticks": ""
            },
            "colorscale": [
             [
              0,
              "#0d0887"
             ],
             [
              0.1111111111111111,
              "#46039f"
             ],
             [
              0.2222222222222222,
              "#7201a8"
             ],
             [
              0.3333333333333333,
              "#9c179e"
             ],
             [
              0.4444444444444444,
              "#bd3786"
             ],
             [
              0.5555555555555556,
              "#d8576b"
             ],
             [
              0.6666666666666666,
              "#ed7953"
             ],
             [
              0.7777777777777778,
              "#fb9f3a"
             ],
             [
              0.8888888888888888,
              "#fdca26"
             ],
             [
              1,
              "#f0f921"
             ]
            ],
            "type": "surface"
           }
          ],
          "table": [
           {
            "cells": {
             "fill": {
              "color": "#EBF0F8"
             },
             "line": {
              "color": "white"
             }
            },
            "header": {
             "fill": {
              "color": "#C8D4E3"
             },
             "line": {
              "color": "white"
             }
            },
            "type": "table"
           }
          ]
         },
         "layout": {
          "annotationdefaults": {
           "arrowcolor": "#2a3f5f",
           "arrowhead": 0,
           "arrowwidth": 1
          },
          "coloraxis": {
           "colorbar": {
            "outlinewidth": 0,
            "ticks": ""
           }
          },
          "colorscale": {
           "diverging": [
            [
             0,
             "#8e0152"
            ],
            [
             0.1,
             "#c51b7d"
            ],
            [
             0.2,
             "#de77ae"
            ],
            [
             0.3,
             "#f1b6da"
            ],
            [
             0.4,
             "#fde0ef"
            ],
            [
             0.5,
             "#f7f7f7"
            ],
            [
             0.6,
             "#e6f5d0"
            ],
            [
             0.7,
             "#b8e186"
            ],
            [
             0.8,
             "#7fbc41"
            ],
            [
             0.9,
             "#4d9221"
            ],
            [
             1,
             "#276419"
            ]
           ],
           "sequential": [
            [
             0,
             "#0d0887"
            ],
            [
             0.1111111111111111,
             "#46039f"
            ],
            [
             0.2222222222222222,
             "#7201a8"
            ],
            [
             0.3333333333333333,
             "#9c179e"
            ],
            [
             0.4444444444444444,
             "#bd3786"
            ],
            [
             0.5555555555555556,
             "#d8576b"
            ],
            [
             0.6666666666666666,
             "#ed7953"
            ],
            [
             0.7777777777777778,
             "#fb9f3a"
            ],
            [
             0.8888888888888888,
             "#fdca26"
            ],
            [
             1,
             "#f0f921"
            ]
           ],
           "sequentialminus": [
            [
             0,
             "#0d0887"
            ],
            [
             0.1111111111111111,
             "#46039f"
            ],
            [
             0.2222222222222222,
             "#7201a8"
            ],
            [
             0.3333333333333333,
             "#9c179e"
            ],
            [
             0.4444444444444444,
             "#bd3786"
            ],
            [
             0.5555555555555556,
             "#d8576b"
            ],
            [
             0.6666666666666666,
             "#ed7953"
            ],
            [
             0.7777777777777778,
             "#fb9f3a"
            ],
            [
             0.8888888888888888,
             "#fdca26"
            ],
            [
             1,
             "#f0f921"
            ]
           ]
          },
          "colorway": [
           "#636efa",
           "#EF553B",
           "#00cc96",
           "#ab63fa",
           "#FFA15A",
           "#19d3f3",
           "#FF6692",
           "#B6E880",
           "#FF97FF",
           "#FECB52"
          ],
          "font": {
           "color": "#2a3f5f"
          },
          "geo": {
           "bgcolor": "white",
           "lakecolor": "white",
           "landcolor": "#E5ECF6",
           "showlakes": true,
           "showland": true,
           "subunitcolor": "white"
          },
          "hoverlabel": {
           "align": "left"
          },
          "hovermode": "closest",
          "mapbox": {
           "style": "light"
          },
          "paper_bgcolor": "white",
          "plot_bgcolor": "#E5ECF6",
          "polar": {
           "angularaxis": {
            "gridcolor": "white",
            "linecolor": "white",
            "ticks": ""
           },
           "bgcolor": "#E5ECF6",
           "radialaxis": {
            "gridcolor": "white",
            "linecolor": "white",
            "ticks": ""
           }
          },
          "scene": {
           "xaxis": {
            "backgroundcolor": "#E5ECF6",
            "gridcolor": "white",
            "gridwidth": 2,
            "linecolor": "white",
            "showbackground": true,
            "ticks": "",
            "zerolinecolor": "white"
           },
           "yaxis": {
            "backgroundcolor": "#E5ECF6",
            "gridcolor": "white",
            "gridwidth": 2,
            "linecolor": "white",
            "showbackground": true,
            "ticks": "",
            "zerolinecolor": "white"
           },
           "zaxis": {
            "backgroundcolor": "#E5ECF6",
            "gridcolor": "white",
            "gridwidth": 2,
            "linecolor": "white",
            "showbackground": true,
            "ticks": "",
            "zerolinecolor": "white"
           }
          },
          "shapedefaults": {
           "line": {
            "color": "#2a3f5f"
           }
          },
          "ternary": {
           "aaxis": {
            "gridcolor": "white",
            "linecolor": "white",
            "ticks": ""
           },
           "baxis": {
            "gridcolor": "white",
            "linecolor": "white",
            "ticks": ""
           },
           "bgcolor": "#E5ECF6",
           "caxis": {
            "gridcolor": "white",
            "linecolor": "white",
            "ticks": ""
           }
          },
          "title": {
           "x": 0.05
          },
          "xaxis": {
           "automargin": true,
           "gridcolor": "white",
           "linecolor": "white",
           "ticks": "",
           "title": {
            "standoff": 15
           },
           "zerolinecolor": "white",
           "zerolinewidth": 2
          },
          "yaxis": {
           "automargin": true,
           "gridcolor": "white",
           "linecolor": "white",
           "ticks": "",
           "title": {
            "standoff": 15
           },
           "zerolinecolor": "white",
           "zerolinewidth": 2
          }
         }
        },
        "title": {
         "font": {
          "color": "#4D5663"
         }
        },
        "xaxis": {
         "gridcolor": "#E1E5ED",
         "showgrid": true,
         "tickfont": {
          "color": "#4D5663"
         },
         "title": {
          "font": {
           "color": "#4D5663"
          },
          "text": ""
         },
         "zerolinecolor": "#E1E5ED"
        },
        "yaxis": {
         "gridcolor": "#E1E5ED",
         "showgrid": true,
         "tickfont": {
          "color": "#4D5663"
         },
         "title": {
          "font": {
           "color": "#4D5663"
          },
          "text": ""
         },
         "zerolinecolor": "#E1E5ED"
        }
       }
      },
      "text/html": [
       "<div>\n",
       "        \n",
       "        \n",
       "            <div id=\"ec10f903-97de-4d2e-a419-0bca28d9a5da\" class=\"plotly-graph-div\" style=\"height:525px; width:100%;\"></div>\n",
       "            <script type=\"text/javascript\">\n",
       "                require([\"plotly\"], function(Plotly) {\n",
       "                    window.PLOTLYENV=window.PLOTLYENV || {};\n",
       "                    window.PLOTLYENV.BASE_URL='https://plot.ly';\n",
       "                    \n",
       "                if (document.getElementById(\"ec10f903-97de-4d2e-a419-0bca28d9a5da\")) {\n",
       "                    Plotly.newPlot(\n",
       "                        'ec10f903-97de-4d2e-a419-0bca28d9a5da',\n",
       "                        [{\"marker\": {\"color\": \"rgba(255, 153, 51, 0.6)\", \"line\": {\"color\": \"rgba(255, 153, 51, 1.0)\", \"width\": 1}}, \"name\": \"A\", \"orientation\": \"v\", \"text\": \"\", \"type\": \"bar\", \"x\": [0, 1, 2, 3, 4, 5, 6, 7, 8, 9, 10, 11, 12, 13, 14, 15, 16, 17, 18, 19, 20, 21, 22, 23, 24, 25, 26, 27, 28, 29, 30, 31, 32, 33, 34, 35, 36, 37, 38, 39, 40, 41, 42, 43, 44, 45, 46, 47, 48, 49, 50, 51, 52, 53, 54, 55, 56, 57, 58, 59, 60, 61, 62, 63, 64, 65, 66, 67, 68, 69, 70, 71, 72, 73, 74, 75, 76, 77, 78, 79, 80, 81, 82, 83, 84, 85, 86, 87, 88, 89, 90, 91, 92, 93, 94, 95, 96, 97, 98, 99], \"y\": [-0.6070225586537845, -1.8638739423338426, -0.02945872276840593, -1.301291297310065, 0.48084833474018185, 0.7628548206270173, -0.28843164746247685, 0.6019043240278631, -0.8763709987921026, 1.702802294665911, 0.03894666378491089, -0.391247915748716, -0.3232684791801891, 0.5555540390983371, -0.5833873983870684, -0.0844703205455899, -0.5139830214610452, -0.9874331374104602, 1.3231224108983104, 1.3852294994314818, 0.495802931458785, 1.5044941738291178, 2.013539747855578, -0.9350456661961715, -0.07199477165247954, -0.012588234544470622, 1.0286702624831179, -0.30675308423320574, -2.0813241088469705, 0.9113534548782632, -1.1821295689927516, 0.39712861820350376, 0.32421117523347154, -1.388467161393341, -1.8196690472248764, 1.2781438676085672, 1.1244717635481953, 2.6878665336118686, -1.6109429503383526, -0.3309381064713909, 0.1012450075722931, -0.6927193028799976, -1.7779565769379178, -0.4937356719987772, -0.9214348954348198, 0.04960273216795757, -2.6493834985687386, -0.3863153542191854, -0.5203504684321614, 0.5977880177234898, 1.5935857254212724, 0.30130947631160576, -0.24209057064901562, 2.393932462989073, 0.48453201427412146, 1.1471246976281726, 1.2228406556961817, 1.0816068853591136, -0.7424208071880561, 0.7861844219733373, 0.7498272838099621, -0.025596103412613782, -0.8244905811186303, 0.6800258715624917, 0.5426539687452233, -0.3376995252397134, 0.4782136125101678, 1.61174979268537, -0.009447379791987958, 2.0385534852770575, 2.017903156882396, -0.04108963367107593, -0.37405806660701296, 1.6557536077103534, -0.9180687240107729, -1.3509762396010478, -1.3245247370933935, 0.1883981543352357, -1.007096270807894, 0.112857625621616, -0.03716265055480332, -1.3047337291461698, -1.8938223768162143, -0.05915120037142549, -0.022261006449155404, -2.2257467886082813, 0.299708338942967, -0.11551816567653965, -0.22224470630933316, 1.8203093144170124, -0.9809281853994635, 0.8258301853601936, 1.747369363537277, 0.4451763013778281, 0.8233981834134183, -0.37937479326251894, -1.4536121716892259, 1.1622792298167708, 0.2870601492366928, -1.3293818887641389]}, {\"marker\": {\"color\": \"rgba(55, 128, 191, 0.6)\", \"line\": {\"color\": \"rgba(55, 128, 191, 1.0)\", \"width\": 1}}, \"name\": \"B\", \"orientation\": \"v\", \"text\": \"\", \"type\": \"bar\", \"x\": [0, 1, 2, 3, 4, 5, 6, 7, 8, 9, 10, 11, 12, 13, 14, 15, 16, 17, 18, 19, 20, 21, 22, 23, 24, 25, 26, 27, 28, 29, 30, 31, 32, 33, 34, 35, 36, 37, 38, 39, 40, 41, 42, 43, 44, 45, 46, 47, 48, 49, 50, 51, 52, 53, 54, 55, 56, 57, 58, 59, 60, 61, 62, 63, 64, 65, 66, 67, 68, 69, 70, 71, 72, 73, 74, 75, 76, 77, 78, 79, 80, 81, 82, 83, 84, 85, 86, 87, 88, 89, 90, 91, 92, 93, 94, 95, 96, 97, 98, 99], \"y\": [0.39442564922170886, 1.1545382861670683, -0.3981929049509391, 1.0607053367391788, -1.0927982071594042, 0.8938581864801937, 0.10953427785913276, 1.100603769799354, -0.037145165173287524, 0.820385609335391, 0.1757448574089021, -1.4281471214410326, 1.3192507531473423, 0.591642670955045, 0.5229932990718201, 0.13605660011946183, -0.2100106055939634, -0.5700547463822505, -0.3323261428045018, 1.4377556274630496, 0.14413892892924288, 0.05300178117926253, 0.15897168480049687, -0.4642246356303038, -0.062162694238745014, -0.404997912384452, -0.7201482218638331, 2.023568952952069, -1.6214853359956733, 0.542085407732597, 0.5827569941618997, 0.3776319435990386, 0.7860509953709055, -0.5428417186393626, -0.6218017304368952, -0.01711816060498298, 0.8909241978978917, -1.1794232525669857, -0.23428574473243066, 0.6223056989779824, -0.13862316143162234, 1.3989648648043242, -1.2881252741130682, 0.7279631578004603, -0.048807113398033994, 1.0394435684890488, -3.3911593703715184, -0.524115543518746, 1.9491071278041052, 0.07942048576898976, -0.6641974846295369, -1.0352913027794661, -0.6683730021861155, -2.0801704608528366, -0.6236871291314133, 0.5545284284650903, 0.09672761646458744, -0.957367126309057, -1.3015723703851805, 0.529996087442483, 0.36037265455029355, -0.825360660875962, 1.6074276743204716, -2.125383315024735, 0.2729482690721516, 0.2648116479946539, -0.6484000338053134, -0.8529199767742717, -0.46666971985268213, -0.6044278288068219, 0.6411021729993239, 1.607115690297109, 0.642969908406056, 3.4880296066713408, 1.5160479793033188, 0.21650854966375002, 1.1058470153140674, 0.9089965059567509, -0.9594932219442222, -0.5825050989047242, -0.006558177721396607, 1.2314458312022174, -0.445862995858089, 0.32692197599067874, -0.16732624075897054, -0.06631960996464281, -0.5567444312996315, -1.2697328105510748, -0.6461202658830911, -1.6486385015803198, 0.8697462032738772, 1.071978584989495, 1.0115715290572223, 0.688291257034643, -0.4446104637134038, -1.370232127902445, 0.711851270271103, -1.4409175804017305, 0.17758469504751084, -0.3488266307639724]}, {\"marker\": {\"color\": \"rgba(50, 171, 96, 0.6)\", \"line\": {\"color\": \"rgba(50, 171, 96, 1.0)\", \"width\": 1}}, \"name\": \"C\", \"orientation\": \"v\", \"text\": \"\", \"type\": \"bar\", \"x\": [0, 1, 2, 3, 4, 5, 6, 7, 8, 9, 10, 11, 12, 13, 14, 15, 16, 17, 18, 19, 20, 21, 22, 23, 24, 25, 26, 27, 28, 29, 30, 31, 32, 33, 34, 35, 36, 37, 38, 39, 40, 41, 42, 43, 44, 45, 46, 47, 48, 49, 50, 51, 52, 53, 54, 55, 56, 57, 58, 59, 60, 61, 62, 63, 64, 65, 66, 67, 68, 69, 70, 71, 72, 73, 74, 75, 76, 77, 78, 79, 80, 81, 82, 83, 84, 85, 86, 87, 88, 89, 90, 91, 92, 93, 94, 95, 96, 97, 98, 99], \"y\": [0.5786488658973388, -1.3779481177244952, 0.12365177369173536, -1.116511132468932, 0.8058094735407533, -0.40434082821277284, 1.0225385803330087, -0.6470938916080935, -0.3508677486533792, 2.5013226025963746, -1.5259835252824552, -0.9829311652920717, 0.23493446006915572, -0.9037615413233684, -1.3141707547165868, -1.5199657157915831, -0.7626795758174268, 1.6073113400335521, 0.3065045812678438, 0.7670645741240087, -0.44191752142816326, -1.3298535843393218, -1.135700295184527, 0.9297115141063347, 0.6865778093810669, 0.2906984631345525, -0.9865642416513182, 0.7390830087985069, 0.5873820481676423, -1.0539583164959976, 0.5414419704915575, -0.11185761505217436, -0.07695780645157449, -2.1646462442630616, 1.1851782283016816, -1.8572626824506342, 0.44751835654226163, 0.2377385201511963, 0.0977471498017824, -0.346706646408973, 0.3288034699452686, -0.241554375975574, 0.23406958233434508, -1.2932583043575332, -0.0753563250462829, 0.9227704330212433, -0.9932007883861261, 0.8402493065090569, -1.7071908207317257, 0.4353964002156085, 0.8810442345722524, -1.2204230274097805, 0.9178683103189221, -0.5616608195969544, -1.4997595699840784, -0.6205171225168257, 1.078060164804285, 1.0340481232295156, -0.7664258411313779, 0.6926338816275318, 1.8483024115450608, -0.9381821206856582, -0.31440988974655065, -0.5299400185069904, 0.5028693025293436, -0.697868894664978, 0.02223697002983274, 0.77557394882186, 0.8422756027790126, 1.0019480005664712, -0.7245614241946116, -0.20870645294212087, -0.11179174927504838, -0.25709999871760897, -1.202771442521758, 0.17460517244494234, -3.556830917028255, 1.959280308579902, -0.20721381467702987, -0.004113041471365491, 1.0467020240597704, -0.6563924493292402, -1.2702933876925069, -0.44861523437505996, 0.23141073624629255, 0.28912448864058354, -2.64152539481277, -0.37655621404335426, -0.9278540083113972, 0.021633252663627364, 0.4389105377440285, -0.316289308114846, -1.1468826225189952, -1.157161485137814, 0.7742523737057712, 1.0009994401994993, 0.21047062378348677, -0.4760958934500705, -0.6458907785383571, -0.35137750023636594]}, {\"marker\": {\"color\": \"rgba(128, 0, 128, 0.6)\", \"line\": {\"color\": \"rgba(128, 0, 128, 1.0)\", \"width\": 1}}, \"name\": \"D\", \"orientation\": \"v\", \"text\": \"\", \"type\": \"bar\", \"x\": [0, 1, 2, 3, 4, 5, 6, 7, 8, 9, 10, 11, 12, 13, 14, 15, 16, 17, 18, 19, 20, 21, 22, 23, 24, 25, 26, 27, 28, 29, 30, 31, 32, 33, 34, 35, 36, 37, 38, 39, 40, 41, 42, 43, 44, 45, 46, 47, 48, 49, 50, 51, 52, 53, 54, 55, 56, 57, 58, 59, 60, 61, 62, 63, 64, 65, 66, 67, 68, 69, 70, 71, 72, 73, 74, 75, 76, 77, 78, 79, 80, 81, 82, 83, 84, 85, 86, 87, 88, 89, 90, 91, 92, 93, 94, 95, 96, 97, 98, 99], \"y\": [-0.7710707494557274, 0.9084215962844299, 0.14867156693112518, 1.091242440442385, -0.38136791739286025, 2.6551377942985472, -0.542106532007221, 0.0009897898929007354, 1.025732698451324, 1.0917364537662415, -0.06579851584724807, 1.8484432768417098, -0.3399947465039237, -0.6562755405065582, 0.9859146265234778, 0.9181428936696494, 0.560453175862377, 0.6173219524497757, -0.4176234372666162, -0.08616974832048305, -0.006352829478318503, 0.5136507964107583, 0.15464554983258477, -0.4030269739726689, 0.3296061099699754, -0.4648081650700848, -1.1636454990471916, 0.8167962531838402, 1.3782602913496587, -0.8339337883855852, 0.866982803885244, 0.6456966292631111, -1.65519664670503, -0.34483808667429844, 1.1519480185389928, -0.42603916535007497, -1.3876296020701955, 0.438502934561104, -0.34317189887749944, -0.2582968179968848, -1.6196419672168794, -0.32586548630627404, 0.490437955843003, -0.016853814769800884, 0.5704102851277636, -0.020673325863221778, 1.4100771515518467, 0.8309463411013209, 1.3443492512121447, -1.8857520766945424, -0.09056980293285732, 0.09138694227565757, 1.3636878725062827, -0.2660602412255175, 1.646259910223738, 1.8005971402578238, -1.210293685648795, -0.4522423782105368, 0.4567476600502909, 1.3930048823179084, 0.2072223848026172, 0.6332124968747784, -1.3880857965038995, 1.987635207109135, -0.992693168002227, -0.5082269973015238, 0.4403931715663567, -1.4866772715183176, 0.6426683638879613, 0.6778864417024036, 0.2211458414525818, -0.029785991329424652, 0.6604793649030712, -1.3172685329935305, 0.061259598483134725, -0.40628739096693317, -1.0786117555871804, -2.459949891065606, 0.058595706402560455, 0.5166845977099281, 0.4436605818850999, 0.9127365293860776, -0.9936011302758352, -1.0284535043950807, 0.7193874352238564, 0.19833013706556346, 0.041628183160987306, 0.4541679834133369, -1.5602230041741998, -0.772172041615176, 0.15727133827918466, 0.780274996711184, -1.3290121829172736, -0.3476287149663292, 0.5469591287599925, -0.12694867546220384, 0.24056843026883892, -2.7646992768771086, 1.0658530548801204, 0.14202684939502938]}],\n",
       "                        {\"legend\": {\"bgcolor\": \"#F5F6F9\", \"font\": {\"color\": \"#4D5663\"}}, \"paper_bgcolor\": \"#F5F6F9\", \"plot_bgcolor\": \"#F5F6F9\", \"template\": {\"data\": {\"bar\": [{\"error_x\": {\"color\": \"#2a3f5f\"}, \"error_y\": {\"color\": \"#2a3f5f\"}, \"marker\": {\"line\": {\"color\": \"#E5ECF6\", \"width\": 0.5}}, \"type\": \"bar\"}], \"barpolar\": [{\"marker\": {\"line\": {\"color\": \"#E5ECF6\", \"width\": 0.5}}, \"type\": \"barpolar\"}], \"carpet\": [{\"aaxis\": {\"endlinecolor\": \"#2a3f5f\", \"gridcolor\": \"white\", \"linecolor\": \"white\", \"minorgridcolor\": \"white\", \"startlinecolor\": \"#2a3f5f\"}, \"baxis\": {\"endlinecolor\": \"#2a3f5f\", \"gridcolor\": \"white\", \"linecolor\": \"white\", \"minorgridcolor\": \"white\", \"startlinecolor\": \"#2a3f5f\"}, \"type\": \"carpet\"}], \"choropleth\": [{\"colorbar\": {\"outlinewidth\": 0, \"ticks\": \"\"}, \"type\": \"choropleth\"}], \"contour\": [{\"colorbar\": {\"outlinewidth\": 0, \"ticks\": \"\"}, \"colorscale\": [[0.0, \"#0d0887\"], [0.1111111111111111, \"#46039f\"], [0.2222222222222222, \"#7201a8\"], [0.3333333333333333, \"#9c179e\"], [0.4444444444444444, \"#bd3786\"], [0.5555555555555556, \"#d8576b\"], [0.6666666666666666, \"#ed7953\"], [0.7777777777777778, \"#fb9f3a\"], [0.8888888888888888, \"#fdca26\"], [1.0, \"#f0f921\"]], \"type\": \"contour\"}], \"contourcarpet\": [{\"colorbar\": {\"outlinewidth\": 0, \"ticks\": \"\"}, \"type\": \"contourcarpet\"}], \"heatmap\": [{\"colorbar\": {\"outlinewidth\": 0, \"ticks\": \"\"}, \"colorscale\": [[0.0, \"#0d0887\"], [0.1111111111111111, \"#46039f\"], [0.2222222222222222, \"#7201a8\"], [0.3333333333333333, \"#9c179e\"], [0.4444444444444444, \"#bd3786\"], [0.5555555555555556, \"#d8576b\"], [0.6666666666666666, \"#ed7953\"], [0.7777777777777778, \"#fb9f3a\"], [0.8888888888888888, \"#fdca26\"], [1.0, \"#f0f921\"]], \"type\": \"heatmap\"}], \"heatmapgl\": [{\"colorbar\": {\"outlinewidth\": 0, \"ticks\": \"\"}, \"colorscale\": [[0.0, \"#0d0887\"], [0.1111111111111111, \"#46039f\"], [0.2222222222222222, \"#7201a8\"], [0.3333333333333333, \"#9c179e\"], [0.4444444444444444, \"#bd3786\"], [0.5555555555555556, \"#d8576b\"], [0.6666666666666666, \"#ed7953\"], [0.7777777777777778, \"#fb9f3a\"], [0.8888888888888888, \"#fdca26\"], [1.0, \"#f0f921\"]], \"type\": \"heatmapgl\"}], \"histogram\": [{\"marker\": {\"colorbar\": {\"outlinewidth\": 0, \"ticks\": \"\"}}, \"type\": \"histogram\"}], \"histogram2d\": [{\"colorbar\": {\"outlinewidth\": 0, \"ticks\": \"\"}, \"colorscale\": [[0.0, \"#0d0887\"], [0.1111111111111111, \"#46039f\"], [0.2222222222222222, \"#7201a8\"], [0.3333333333333333, \"#9c179e\"], [0.4444444444444444, \"#bd3786\"], [0.5555555555555556, \"#d8576b\"], [0.6666666666666666, \"#ed7953\"], [0.7777777777777778, \"#fb9f3a\"], [0.8888888888888888, \"#fdca26\"], [1.0, \"#f0f921\"]], \"type\": \"histogram2d\"}], \"histogram2dcontour\": [{\"colorbar\": {\"outlinewidth\": 0, \"ticks\": \"\"}, \"colorscale\": [[0.0, \"#0d0887\"], [0.1111111111111111, \"#46039f\"], [0.2222222222222222, \"#7201a8\"], [0.3333333333333333, \"#9c179e\"], [0.4444444444444444, \"#bd3786\"], [0.5555555555555556, \"#d8576b\"], [0.6666666666666666, \"#ed7953\"], [0.7777777777777778, \"#fb9f3a\"], [0.8888888888888888, \"#fdca26\"], [1.0, \"#f0f921\"]], \"type\": \"histogram2dcontour\"}], \"mesh3d\": [{\"colorbar\": {\"outlinewidth\": 0, \"ticks\": \"\"}, \"type\": \"mesh3d\"}], \"parcoords\": [{\"line\": {\"colorbar\": {\"outlinewidth\": 0, \"ticks\": \"\"}}, \"type\": \"parcoords\"}], \"pie\": [{\"automargin\": true, \"type\": \"pie\"}], \"scatter\": [{\"marker\": {\"colorbar\": {\"outlinewidth\": 0, \"ticks\": \"\"}}, \"type\": \"scatter\"}], \"scatter3d\": [{\"line\": {\"colorbar\": {\"outlinewidth\": 0, \"ticks\": \"\"}}, \"marker\": {\"colorbar\": {\"outlinewidth\": 0, \"ticks\": \"\"}}, \"type\": \"scatter3d\"}], \"scattercarpet\": [{\"marker\": {\"colorbar\": {\"outlinewidth\": 0, \"ticks\": \"\"}}, \"type\": \"scattercarpet\"}], \"scattergeo\": [{\"marker\": {\"colorbar\": {\"outlinewidth\": 0, \"ticks\": \"\"}}, \"type\": \"scattergeo\"}], \"scattergl\": [{\"marker\": {\"colorbar\": {\"outlinewidth\": 0, \"ticks\": \"\"}}, \"type\": \"scattergl\"}], \"scattermapbox\": [{\"marker\": {\"colorbar\": {\"outlinewidth\": 0, \"ticks\": \"\"}}, \"type\": \"scattermapbox\"}], \"scatterpolar\": [{\"marker\": {\"colorbar\": {\"outlinewidth\": 0, \"ticks\": \"\"}}, \"type\": \"scatterpolar\"}], \"scatterpolargl\": [{\"marker\": {\"colorbar\": {\"outlinewidth\": 0, \"ticks\": \"\"}}, \"type\": \"scatterpolargl\"}], \"scatterternary\": [{\"marker\": {\"colorbar\": {\"outlinewidth\": 0, \"ticks\": \"\"}}, \"type\": \"scatterternary\"}], \"surface\": [{\"colorbar\": {\"outlinewidth\": 0, \"ticks\": \"\"}, \"colorscale\": [[0.0, \"#0d0887\"], [0.1111111111111111, \"#46039f\"], [0.2222222222222222, \"#7201a8\"], [0.3333333333333333, \"#9c179e\"], [0.4444444444444444, \"#bd3786\"], [0.5555555555555556, \"#d8576b\"], [0.6666666666666666, \"#ed7953\"], [0.7777777777777778, \"#fb9f3a\"], [0.8888888888888888, \"#fdca26\"], [1.0, \"#f0f921\"]], \"type\": \"surface\"}], \"table\": [{\"cells\": {\"fill\": {\"color\": \"#EBF0F8\"}, \"line\": {\"color\": \"white\"}}, \"header\": {\"fill\": {\"color\": \"#C8D4E3\"}, \"line\": {\"color\": \"white\"}}, \"type\": \"table\"}]}, \"layout\": {\"annotationdefaults\": {\"arrowcolor\": \"#2a3f5f\", \"arrowhead\": 0, \"arrowwidth\": 1}, \"coloraxis\": {\"colorbar\": {\"outlinewidth\": 0, \"ticks\": \"\"}}, \"colorscale\": {\"diverging\": [[0, \"#8e0152\"], [0.1, \"#c51b7d\"], [0.2, \"#de77ae\"], [0.3, \"#f1b6da\"], [0.4, \"#fde0ef\"], [0.5, \"#f7f7f7\"], [0.6, \"#e6f5d0\"], [0.7, \"#b8e186\"], [0.8, \"#7fbc41\"], [0.9, \"#4d9221\"], [1, \"#276419\"]], \"sequential\": [[0.0, \"#0d0887\"], [0.1111111111111111, \"#46039f\"], [0.2222222222222222, \"#7201a8\"], [0.3333333333333333, \"#9c179e\"], [0.4444444444444444, \"#bd3786\"], [0.5555555555555556, \"#d8576b\"], [0.6666666666666666, \"#ed7953\"], [0.7777777777777778, \"#fb9f3a\"], [0.8888888888888888, \"#fdca26\"], [1.0, \"#f0f921\"]], \"sequentialminus\": [[0.0, \"#0d0887\"], [0.1111111111111111, \"#46039f\"], [0.2222222222222222, \"#7201a8\"], [0.3333333333333333, \"#9c179e\"], [0.4444444444444444, \"#bd3786\"], [0.5555555555555556, \"#d8576b\"], [0.6666666666666666, \"#ed7953\"], [0.7777777777777778, \"#fb9f3a\"], [0.8888888888888888, \"#fdca26\"], [1.0, \"#f0f921\"]]}, \"colorway\": [\"#636efa\", \"#EF553B\", \"#00cc96\", \"#ab63fa\", \"#FFA15A\", \"#19d3f3\", \"#FF6692\", \"#B6E880\", \"#FF97FF\", \"#FECB52\"], \"font\": {\"color\": \"#2a3f5f\"}, \"geo\": {\"bgcolor\": \"white\", \"lakecolor\": \"white\", \"landcolor\": \"#E5ECF6\", \"showlakes\": true, \"showland\": true, \"subunitcolor\": \"white\"}, \"hoverlabel\": {\"align\": \"left\"}, \"hovermode\": \"closest\", \"mapbox\": {\"style\": \"light\"}, \"paper_bgcolor\": \"white\", \"plot_bgcolor\": \"#E5ECF6\", \"polar\": {\"angularaxis\": {\"gridcolor\": \"white\", \"linecolor\": \"white\", \"ticks\": \"\"}, \"bgcolor\": \"#E5ECF6\", \"radialaxis\": {\"gridcolor\": \"white\", \"linecolor\": \"white\", \"ticks\": \"\"}}, \"scene\": {\"xaxis\": {\"backgroundcolor\": \"#E5ECF6\", \"gridcolor\": \"white\", \"gridwidth\": 2, \"linecolor\": \"white\", \"showbackground\": true, \"ticks\": \"\", \"zerolinecolor\": \"white\"}, \"yaxis\": {\"backgroundcolor\": \"#E5ECF6\", \"gridcolor\": \"white\", \"gridwidth\": 2, \"linecolor\": \"white\", \"showbackground\": true, \"ticks\": \"\", \"zerolinecolor\": \"white\"}, \"zaxis\": {\"backgroundcolor\": \"#E5ECF6\", \"gridcolor\": \"white\", \"gridwidth\": 2, \"linecolor\": \"white\", \"showbackground\": true, \"ticks\": \"\", \"zerolinecolor\": \"white\"}}, \"shapedefaults\": {\"line\": {\"color\": \"#2a3f5f\"}}, \"ternary\": {\"aaxis\": {\"gridcolor\": \"white\", \"linecolor\": \"white\", \"ticks\": \"\"}, \"baxis\": {\"gridcolor\": \"white\", \"linecolor\": \"white\", \"ticks\": \"\"}, \"bgcolor\": \"#E5ECF6\", \"caxis\": {\"gridcolor\": \"white\", \"linecolor\": \"white\", \"ticks\": \"\"}}, \"title\": {\"x\": 0.05}, \"xaxis\": {\"automargin\": true, \"gridcolor\": \"white\", \"linecolor\": \"white\", \"ticks\": \"\", \"title\": {\"standoff\": 15}, \"zerolinecolor\": \"white\", \"zerolinewidth\": 2}, \"yaxis\": {\"automargin\": true, \"gridcolor\": \"white\", \"linecolor\": \"white\", \"ticks\": \"\", \"title\": {\"standoff\": 15}, \"zerolinecolor\": \"white\", \"zerolinewidth\": 2}}}, \"title\": {\"font\": {\"color\": \"#4D5663\"}}, \"xaxis\": {\"gridcolor\": \"#E1E5ED\", \"showgrid\": true, \"tickfont\": {\"color\": \"#4D5663\"}, \"title\": {\"font\": {\"color\": \"#4D5663\"}, \"text\": \"\"}, \"zerolinecolor\": \"#E1E5ED\"}, \"yaxis\": {\"gridcolor\": \"#E1E5ED\", \"showgrid\": true, \"tickfont\": {\"color\": \"#4D5663\"}, \"title\": {\"font\": {\"color\": \"#4D5663\"}, \"text\": \"\"}, \"zerolinecolor\": \"#E1E5ED\"}},\n",
       "                        {\"showLink\": true, \"linkText\": \"Export to plot.ly\", \"plotlyServerURL\": \"https://plot.ly\", \"responsive\": true}\n",
       "                    ).then(function(){\n",
       "                            \n",
       "var gd = document.getElementById('ec10f903-97de-4d2e-a419-0bca28d9a5da');\n",
       "var x = new MutationObserver(function (mutations, observer) {{\n",
       "        var display = window.getComputedStyle(gd).display;\n",
       "        if (!display || display === 'none') {{\n",
       "            console.log([gd, 'removed!']);\n",
       "            Plotly.purge(gd);\n",
       "            observer.disconnect();\n",
       "        }}\n",
       "}});\n",
       "\n",
       "// Listen for the removal of the full notebook cells\n",
       "var notebookContainer = gd.closest('#notebook-container');\n",
       "if (notebookContainer) {{\n",
       "    x.observe(notebookContainer, {childList: true});\n",
       "}}\n",
       "\n",
       "// Listen for the clearing of the current output cell\n",
       "var outputEl = gd.closest('.output');\n",
       "if (outputEl) {{\n",
       "    x.observe(outputEl, {childList: true});\n",
       "}}\n",
       "\n",
       "                        })\n",
       "                };\n",
       "                });\n",
       "            </script>\n",
       "        </div>"
      ]
     },
     "metadata": {},
     "output_type": "display_data"
    }
   ],
   "source": [
    "df.iplot(kind=\"bar\")"
   ]
  },
  {
   "cell_type": "code",
   "execution_count": 32,
   "metadata": {},
   "outputs": [
    {
     "data": {
      "application/vnd.plotly.v1+json": {
       "config": {
        "linkText": "Export to plot.ly",
        "plotlyServerURL": "https://plot.ly",
        "showLink": true
       },
       "data": [
        {
         "marker": {
          "color": "rgba(255, 153, 51, 0.6)",
          "line": {
           "color": "rgba(255, 153, 51, 1.0)",
           "width": 1
          }
         },
         "name": "None",
         "orientation": "v",
         "text": "",
         "type": "bar",
         "x": [
          "A",
          "B",
          "C",
          "D"
         ],
         "y": [
          100,
          100,
          100,
          100
         ]
        }
       ],
       "layout": {
        "legend": {
         "bgcolor": "#F5F6F9",
         "font": {
          "color": "#4D5663"
         }
        },
        "paper_bgcolor": "#F5F6F9",
        "plot_bgcolor": "#F5F6F9",
        "template": {
         "data": {
          "bar": [
           {
            "error_x": {
             "color": "#2a3f5f"
            },
            "error_y": {
             "color": "#2a3f5f"
            },
            "marker": {
             "line": {
              "color": "#E5ECF6",
              "width": 0.5
             }
            },
            "type": "bar"
           }
          ],
          "barpolar": [
           {
            "marker": {
             "line": {
              "color": "#E5ECF6",
              "width": 0.5
             }
            },
            "type": "barpolar"
           }
          ],
          "carpet": [
           {
            "aaxis": {
             "endlinecolor": "#2a3f5f",
             "gridcolor": "white",
             "linecolor": "white",
             "minorgridcolor": "white",
             "startlinecolor": "#2a3f5f"
            },
            "baxis": {
             "endlinecolor": "#2a3f5f",
             "gridcolor": "white",
             "linecolor": "white",
             "minorgridcolor": "white",
             "startlinecolor": "#2a3f5f"
            },
            "type": "carpet"
           }
          ],
          "choropleth": [
           {
            "colorbar": {
             "outlinewidth": 0,
             "ticks": ""
            },
            "type": "choropleth"
           }
          ],
          "contour": [
           {
            "colorbar": {
             "outlinewidth": 0,
             "ticks": ""
            },
            "colorscale": [
             [
              0,
              "#0d0887"
             ],
             [
              0.1111111111111111,
              "#46039f"
             ],
             [
              0.2222222222222222,
              "#7201a8"
             ],
             [
              0.3333333333333333,
              "#9c179e"
             ],
             [
              0.4444444444444444,
              "#bd3786"
             ],
             [
              0.5555555555555556,
              "#d8576b"
             ],
             [
              0.6666666666666666,
              "#ed7953"
             ],
             [
              0.7777777777777778,
              "#fb9f3a"
             ],
             [
              0.8888888888888888,
              "#fdca26"
             ],
             [
              1,
              "#f0f921"
             ]
            ],
            "type": "contour"
           }
          ],
          "contourcarpet": [
           {
            "colorbar": {
             "outlinewidth": 0,
             "ticks": ""
            },
            "type": "contourcarpet"
           }
          ],
          "heatmap": [
           {
            "colorbar": {
             "outlinewidth": 0,
             "ticks": ""
            },
            "colorscale": [
             [
              0,
              "#0d0887"
             ],
             [
              0.1111111111111111,
              "#46039f"
             ],
             [
              0.2222222222222222,
              "#7201a8"
             ],
             [
              0.3333333333333333,
              "#9c179e"
             ],
             [
              0.4444444444444444,
              "#bd3786"
             ],
             [
              0.5555555555555556,
              "#d8576b"
             ],
             [
              0.6666666666666666,
              "#ed7953"
             ],
             [
              0.7777777777777778,
              "#fb9f3a"
             ],
             [
              0.8888888888888888,
              "#fdca26"
             ],
             [
              1,
              "#f0f921"
             ]
            ],
            "type": "heatmap"
           }
          ],
          "heatmapgl": [
           {
            "colorbar": {
             "outlinewidth": 0,
             "ticks": ""
            },
            "colorscale": [
             [
              0,
              "#0d0887"
             ],
             [
              0.1111111111111111,
              "#46039f"
             ],
             [
              0.2222222222222222,
              "#7201a8"
             ],
             [
              0.3333333333333333,
              "#9c179e"
             ],
             [
              0.4444444444444444,
              "#bd3786"
             ],
             [
              0.5555555555555556,
              "#d8576b"
             ],
             [
              0.6666666666666666,
              "#ed7953"
             ],
             [
              0.7777777777777778,
              "#fb9f3a"
             ],
             [
              0.8888888888888888,
              "#fdca26"
             ],
             [
              1,
              "#f0f921"
             ]
            ],
            "type": "heatmapgl"
           }
          ],
          "histogram": [
           {
            "marker": {
             "colorbar": {
              "outlinewidth": 0,
              "ticks": ""
             }
            },
            "type": "histogram"
           }
          ],
          "histogram2d": [
           {
            "colorbar": {
             "outlinewidth": 0,
             "ticks": ""
            },
            "colorscale": [
             [
              0,
              "#0d0887"
             ],
             [
              0.1111111111111111,
              "#46039f"
             ],
             [
              0.2222222222222222,
              "#7201a8"
             ],
             [
              0.3333333333333333,
              "#9c179e"
             ],
             [
              0.4444444444444444,
              "#bd3786"
             ],
             [
              0.5555555555555556,
              "#d8576b"
             ],
             [
              0.6666666666666666,
              "#ed7953"
             ],
             [
              0.7777777777777778,
              "#fb9f3a"
             ],
             [
              0.8888888888888888,
              "#fdca26"
             ],
             [
              1,
              "#f0f921"
             ]
            ],
            "type": "histogram2d"
           }
          ],
          "histogram2dcontour": [
           {
            "colorbar": {
             "outlinewidth": 0,
             "ticks": ""
            },
            "colorscale": [
             [
              0,
              "#0d0887"
             ],
             [
              0.1111111111111111,
              "#46039f"
             ],
             [
              0.2222222222222222,
              "#7201a8"
             ],
             [
              0.3333333333333333,
              "#9c179e"
             ],
             [
              0.4444444444444444,
              "#bd3786"
             ],
             [
              0.5555555555555556,
              "#d8576b"
             ],
             [
              0.6666666666666666,
              "#ed7953"
             ],
             [
              0.7777777777777778,
              "#fb9f3a"
             ],
             [
              0.8888888888888888,
              "#fdca26"
             ],
             [
              1,
              "#f0f921"
             ]
            ],
            "type": "histogram2dcontour"
           }
          ],
          "mesh3d": [
           {
            "colorbar": {
             "outlinewidth": 0,
             "ticks": ""
            },
            "type": "mesh3d"
           }
          ],
          "parcoords": [
           {
            "line": {
             "colorbar": {
              "outlinewidth": 0,
              "ticks": ""
             }
            },
            "type": "parcoords"
           }
          ],
          "pie": [
           {
            "automargin": true,
            "type": "pie"
           }
          ],
          "scatter": [
           {
            "marker": {
             "colorbar": {
              "outlinewidth": 0,
              "ticks": ""
             }
            },
            "type": "scatter"
           }
          ],
          "scatter3d": [
           {
            "line": {
             "colorbar": {
              "outlinewidth": 0,
              "ticks": ""
             }
            },
            "marker": {
             "colorbar": {
              "outlinewidth": 0,
              "ticks": ""
             }
            },
            "type": "scatter3d"
           }
          ],
          "scattercarpet": [
           {
            "marker": {
             "colorbar": {
              "outlinewidth": 0,
              "ticks": ""
             }
            },
            "type": "scattercarpet"
           }
          ],
          "scattergeo": [
           {
            "marker": {
             "colorbar": {
              "outlinewidth": 0,
              "ticks": ""
             }
            },
            "type": "scattergeo"
           }
          ],
          "scattergl": [
           {
            "marker": {
             "colorbar": {
              "outlinewidth": 0,
              "ticks": ""
             }
            },
            "type": "scattergl"
           }
          ],
          "scattermapbox": [
           {
            "marker": {
             "colorbar": {
              "outlinewidth": 0,
              "ticks": ""
             }
            },
            "type": "scattermapbox"
           }
          ],
          "scatterpolar": [
           {
            "marker": {
             "colorbar": {
              "outlinewidth": 0,
              "ticks": ""
             }
            },
            "type": "scatterpolar"
           }
          ],
          "scatterpolargl": [
           {
            "marker": {
             "colorbar": {
              "outlinewidth": 0,
              "ticks": ""
             }
            },
            "type": "scatterpolargl"
           }
          ],
          "scatterternary": [
           {
            "marker": {
             "colorbar": {
              "outlinewidth": 0,
              "ticks": ""
             }
            },
            "type": "scatterternary"
           }
          ],
          "surface": [
           {
            "colorbar": {
             "outlinewidth": 0,
             "ticks": ""
            },
            "colorscale": [
             [
              0,
              "#0d0887"
             ],
             [
              0.1111111111111111,
              "#46039f"
             ],
             [
              0.2222222222222222,
              "#7201a8"
             ],
             [
              0.3333333333333333,
              "#9c179e"
             ],
             [
              0.4444444444444444,
              "#bd3786"
             ],
             [
              0.5555555555555556,
              "#d8576b"
             ],
             [
              0.6666666666666666,
              "#ed7953"
             ],
             [
              0.7777777777777778,
              "#fb9f3a"
             ],
             [
              0.8888888888888888,
              "#fdca26"
             ],
             [
              1,
              "#f0f921"
             ]
            ],
            "type": "surface"
           }
          ],
          "table": [
           {
            "cells": {
             "fill": {
              "color": "#EBF0F8"
             },
             "line": {
              "color": "white"
             }
            },
            "header": {
             "fill": {
              "color": "#C8D4E3"
             },
             "line": {
              "color": "white"
             }
            },
            "type": "table"
           }
          ]
         },
         "layout": {
          "annotationdefaults": {
           "arrowcolor": "#2a3f5f",
           "arrowhead": 0,
           "arrowwidth": 1
          },
          "coloraxis": {
           "colorbar": {
            "outlinewidth": 0,
            "ticks": ""
           }
          },
          "colorscale": {
           "diverging": [
            [
             0,
             "#8e0152"
            ],
            [
             0.1,
             "#c51b7d"
            ],
            [
             0.2,
             "#de77ae"
            ],
            [
             0.3,
             "#f1b6da"
            ],
            [
             0.4,
             "#fde0ef"
            ],
            [
             0.5,
             "#f7f7f7"
            ],
            [
             0.6,
             "#e6f5d0"
            ],
            [
             0.7,
             "#b8e186"
            ],
            [
             0.8,
             "#7fbc41"
            ],
            [
             0.9,
             "#4d9221"
            ],
            [
             1,
             "#276419"
            ]
           ],
           "sequential": [
            [
             0,
             "#0d0887"
            ],
            [
             0.1111111111111111,
             "#46039f"
            ],
            [
             0.2222222222222222,
             "#7201a8"
            ],
            [
             0.3333333333333333,
             "#9c179e"
            ],
            [
             0.4444444444444444,
             "#bd3786"
            ],
            [
             0.5555555555555556,
             "#d8576b"
            ],
            [
             0.6666666666666666,
             "#ed7953"
            ],
            [
             0.7777777777777778,
             "#fb9f3a"
            ],
            [
             0.8888888888888888,
             "#fdca26"
            ],
            [
             1,
             "#f0f921"
            ]
           ],
           "sequentialminus": [
            [
             0,
             "#0d0887"
            ],
            [
             0.1111111111111111,
             "#46039f"
            ],
            [
             0.2222222222222222,
             "#7201a8"
            ],
            [
             0.3333333333333333,
             "#9c179e"
            ],
            [
             0.4444444444444444,
             "#bd3786"
            ],
            [
             0.5555555555555556,
             "#d8576b"
            ],
            [
             0.6666666666666666,
             "#ed7953"
            ],
            [
             0.7777777777777778,
             "#fb9f3a"
            ],
            [
             0.8888888888888888,
             "#fdca26"
            ],
            [
             1,
             "#f0f921"
            ]
           ]
          },
          "colorway": [
           "#636efa",
           "#EF553B",
           "#00cc96",
           "#ab63fa",
           "#FFA15A",
           "#19d3f3",
           "#FF6692",
           "#B6E880",
           "#FF97FF",
           "#FECB52"
          ],
          "font": {
           "color": "#2a3f5f"
          },
          "geo": {
           "bgcolor": "white",
           "lakecolor": "white",
           "landcolor": "#E5ECF6",
           "showlakes": true,
           "showland": true,
           "subunitcolor": "white"
          },
          "hoverlabel": {
           "align": "left"
          },
          "hovermode": "closest",
          "mapbox": {
           "style": "light"
          },
          "paper_bgcolor": "white",
          "plot_bgcolor": "#E5ECF6",
          "polar": {
           "angularaxis": {
            "gridcolor": "white",
            "linecolor": "white",
            "ticks": ""
           },
           "bgcolor": "#E5ECF6",
           "radialaxis": {
            "gridcolor": "white",
            "linecolor": "white",
            "ticks": ""
           }
          },
          "scene": {
           "xaxis": {
            "backgroundcolor": "#E5ECF6",
            "gridcolor": "white",
            "gridwidth": 2,
            "linecolor": "white",
            "showbackground": true,
            "ticks": "",
            "zerolinecolor": "white"
           },
           "yaxis": {
            "backgroundcolor": "#E5ECF6",
            "gridcolor": "white",
            "gridwidth": 2,
            "linecolor": "white",
            "showbackground": true,
            "ticks": "",
            "zerolinecolor": "white"
           },
           "zaxis": {
            "backgroundcolor": "#E5ECF6",
            "gridcolor": "white",
            "gridwidth": 2,
            "linecolor": "white",
            "showbackground": true,
            "ticks": "",
            "zerolinecolor": "white"
           }
          },
          "shapedefaults": {
           "line": {
            "color": "#2a3f5f"
           }
          },
          "ternary": {
           "aaxis": {
            "gridcolor": "white",
            "linecolor": "white",
            "ticks": ""
           },
           "baxis": {
            "gridcolor": "white",
            "linecolor": "white",
            "ticks": ""
           },
           "bgcolor": "#E5ECF6",
           "caxis": {
            "gridcolor": "white",
            "linecolor": "white",
            "ticks": ""
           }
          },
          "title": {
           "x": 0.05
          },
          "xaxis": {
           "automargin": true,
           "gridcolor": "white",
           "linecolor": "white",
           "ticks": "",
           "title": {
            "standoff": 15
           },
           "zerolinecolor": "white",
           "zerolinewidth": 2
          },
          "yaxis": {
           "automargin": true,
           "gridcolor": "white",
           "linecolor": "white",
           "ticks": "",
           "title": {
            "standoff": 15
           },
           "zerolinecolor": "white",
           "zerolinewidth": 2
          }
         }
        },
        "title": {
         "font": {
          "color": "#4D5663"
         }
        },
        "xaxis": {
         "gridcolor": "#E1E5ED",
         "showgrid": true,
         "tickfont": {
          "color": "#4D5663"
         },
         "title": {
          "font": {
           "color": "#4D5663"
          },
          "text": ""
         },
         "zerolinecolor": "#E1E5ED"
        },
        "yaxis": {
         "gridcolor": "#E1E5ED",
         "showgrid": true,
         "tickfont": {
          "color": "#4D5663"
         },
         "title": {
          "font": {
           "color": "#4D5663"
          },
          "text": ""
         },
         "zerolinecolor": "#E1E5ED"
        }
       }
      },
      "text/html": [
       "<div>\n",
       "        \n",
       "        \n",
       "            <div id=\"a4ecf110-4240-4f1f-bf84-f7b43691f6b9\" class=\"plotly-graph-div\" style=\"height:525px; width:100%;\"></div>\n",
       "            <script type=\"text/javascript\">\n",
       "                require([\"plotly\"], function(Plotly) {\n",
       "                    window.PLOTLYENV=window.PLOTLYENV || {};\n",
       "                    window.PLOTLYENV.BASE_URL='https://plot.ly';\n",
       "                    \n",
       "                if (document.getElementById(\"a4ecf110-4240-4f1f-bf84-f7b43691f6b9\")) {\n",
       "                    Plotly.newPlot(\n",
       "                        'a4ecf110-4240-4f1f-bf84-f7b43691f6b9',\n",
       "                        [{\"marker\": {\"color\": \"rgba(255, 153, 51, 0.6)\", \"line\": {\"color\": \"rgba(255, 153, 51, 1.0)\", \"width\": 1}}, \"name\": \"None\", \"orientation\": \"v\", \"text\": \"\", \"type\": \"bar\", \"x\": [\"A\", \"B\", \"C\", \"D\"], \"y\": [100, 100, 100, 100]}],\n",
       "                        {\"legend\": {\"bgcolor\": \"#F5F6F9\", \"font\": {\"color\": \"#4D5663\"}}, \"paper_bgcolor\": \"#F5F6F9\", \"plot_bgcolor\": \"#F5F6F9\", \"template\": {\"data\": {\"bar\": [{\"error_x\": {\"color\": \"#2a3f5f\"}, \"error_y\": {\"color\": \"#2a3f5f\"}, \"marker\": {\"line\": {\"color\": \"#E5ECF6\", \"width\": 0.5}}, \"type\": \"bar\"}], \"barpolar\": [{\"marker\": {\"line\": {\"color\": \"#E5ECF6\", \"width\": 0.5}}, \"type\": \"barpolar\"}], \"carpet\": [{\"aaxis\": {\"endlinecolor\": \"#2a3f5f\", \"gridcolor\": \"white\", \"linecolor\": \"white\", \"minorgridcolor\": \"white\", \"startlinecolor\": \"#2a3f5f\"}, \"baxis\": {\"endlinecolor\": \"#2a3f5f\", \"gridcolor\": \"white\", \"linecolor\": \"white\", \"minorgridcolor\": \"white\", \"startlinecolor\": \"#2a3f5f\"}, \"type\": \"carpet\"}], \"choropleth\": [{\"colorbar\": {\"outlinewidth\": 0, \"ticks\": \"\"}, \"type\": \"choropleth\"}], \"contour\": [{\"colorbar\": {\"outlinewidth\": 0, \"ticks\": \"\"}, \"colorscale\": [[0.0, \"#0d0887\"], [0.1111111111111111, \"#46039f\"], [0.2222222222222222, \"#7201a8\"], [0.3333333333333333, \"#9c179e\"], [0.4444444444444444, \"#bd3786\"], [0.5555555555555556, \"#d8576b\"], [0.6666666666666666, \"#ed7953\"], [0.7777777777777778, \"#fb9f3a\"], [0.8888888888888888, \"#fdca26\"], [1.0, \"#f0f921\"]], \"type\": \"contour\"}], \"contourcarpet\": [{\"colorbar\": {\"outlinewidth\": 0, \"ticks\": \"\"}, \"type\": \"contourcarpet\"}], \"heatmap\": [{\"colorbar\": {\"outlinewidth\": 0, \"ticks\": \"\"}, \"colorscale\": [[0.0, \"#0d0887\"], [0.1111111111111111, \"#46039f\"], [0.2222222222222222, \"#7201a8\"], [0.3333333333333333, \"#9c179e\"], [0.4444444444444444, \"#bd3786\"], [0.5555555555555556, \"#d8576b\"], [0.6666666666666666, \"#ed7953\"], [0.7777777777777778, \"#fb9f3a\"], [0.8888888888888888, \"#fdca26\"], [1.0, \"#f0f921\"]], \"type\": \"heatmap\"}], \"heatmapgl\": [{\"colorbar\": {\"outlinewidth\": 0, \"ticks\": \"\"}, \"colorscale\": [[0.0, \"#0d0887\"], [0.1111111111111111, \"#46039f\"], [0.2222222222222222, \"#7201a8\"], [0.3333333333333333, \"#9c179e\"], [0.4444444444444444, \"#bd3786\"], [0.5555555555555556, \"#d8576b\"], [0.6666666666666666, \"#ed7953\"], [0.7777777777777778, \"#fb9f3a\"], [0.8888888888888888, \"#fdca26\"], [1.0, \"#f0f921\"]], \"type\": \"heatmapgl\"}], \"histogram\": [{\"marker\": {\"colorbar\": {\"outlinewidth\": 0, \"ticks\": \"\"}}, \"type\": \"histogram\"}], \"histogram2d\": [{\"colorbar\": {\"outlinewidth\": 0, \"ticks\": \"\"}, \"colorscale\": [[0.0, \"#0d0887\"], [0.1111111111111111, \"#46039f\"], [0.2222222222222222, \"#7201a8\"], [0.3333333333333333, \"#9c179e\"], [0.4444444444444444, \"#bd3786\"], [0.5555555555555556, \"#d8576b\"], [0.6666666666666666, \"#ed7953\"], [0.7777777777777778, \"#fb9f3a\"], [0.8888888888888888, \"#fdca26\"], [1.0, \"#f0f921\"]], \"type\": \"histogram2d\"}], \"histogram2dcontour\": [{\"colorbar\": {\"outlinewidth\": 0, \"ticks\": \"\"}, \"colorscale\": [[0.0, \"#0d0887\"], [0.1111111111111111, \"#46039f\"], [0.2222222222222222, \"#7201a8\"], [0.3333333333333333, \"#9c179e\"], [0.4444444444444444, \"#bd3786\"], [0.5555555555555556, \"#d8576b\"], [0.6666666666666666, \"#ed7953\"], [0.7777777777777778, \"#fb9f3a\"], [0.8888888888888888, \"#fdca26\"], [1.0, \"#f0f921\"]], \"type\": \"histogram2dcontour\"}], \"mesh3d\": [{\"colorbar\": {\"outlinewidth\": 0, \"ticks\": \"\"}, \"type\": \"mesh3d\"}], \"parcoords\": [{\"line\": {\"colorbar\": {\"outlinewidth\": 0, \"ticks\": \"\"}}, \"type\": \"parcoords\"}], \"pie\": [{\"automargin\": true, \"type\": \"pie\"}], \"scatter\": [{\"marker\": {\"colorbar\": {\"outlinewidth\": 0, \"ticks\": \"\"}}, \"type\": \"scatter\"}], \"scatter3d\": [{\"line\": {\"colorbar\": {\"outlinewidth\": 0, \"ticks\": \"\"}}, \"marker\": {\"colorbar\": {\"outlinewidth\": 0, \"ticks\": \"\"}}, \"type\": \"scatter3d\"}], \"scattercarpet\": [{\"marker\": {\"colorbar\": {\"outlinewidth\": 0, \"ticks\": \"\"}}, \"type\": \"scattercarpet\"}], \"scattergeo\": [{\"marker\": {\"colorbar\": {\"outlinewidth\": 0, \"ticks\": \"\"}}, \"type\": \"scattergeo\"}], \"scattergl\": [{\"marker\": {\"colorbar\": {\"outlinewidth\": 0, \"ticks\": \"\"}}, \"type\": \"scattergl\"}], \"scattermapbox\": [{\"marker\": {\"colorbar\": {\"outlinewidth\": 0, \"ticks\": \"\"}}, \"type\": \"scattermapbox\"}], \"scatterpolar\": [{\"marker\": {\"colorbar\": {\"outlinewidth\": 0, \"ticks\": \"\"}}, \"type\": \"scatterpolar\"}], \"scatterpolargl\": [{\"marker\": {\"colorbar\": {\"outlinewidth\": 0, \"ticks\": \"\"}}, \"type\": \"scatterpolargl\"}], \"scatterternary\": [{\"marker\": {\"colorbar\": {\"outlinewidth\": 0, \"ticks\": \"\"}}, \"type\": \"scatterternary\"}], \"surface\": [{\"colorbar\": {\"outlinewidth\": 0, \"ticks\": \"\"}, \"colorscale\": [[0.0, \"#0d0887\"], [0.1111111111111111, \"#46039f\"], [0.2222222222222222, \"#7201a8\"], [0.3333333333333333, \"#9c179e\"], [0.4444444444444444, \"#bd3786\"], [0.5555555555555556, \"#d8576b\"], [0.6666666666666666, \"#ed7953\"], [0.7777777777777778, \"#fb9f3a\"], [0.8888888888888888, \"#fdca26\"], [1.0, \"#f0f921\"]], \"type\": \"surface\"}], \"table\": [{\"cells\": {\"fill\": {\"color\": \"#EBF0F8\"}, \"line\": {\"color\": \"white\"}}, \"header\": {\"fill\": {\"color\": \"#C8D4E3\"}, \"line\": {\"color\": \"white\"}}, \"type\": \"table\"}]}, \"layout\": {\"annotationdefaults\": {\"arrowcolor\": \"#2a3f5f\", \"arrowhead\": 0, \"arrowwidth\": 1}, \"coloraxis\": {\"colorbar\": {\"outlinewidth\": 0, \"ticks\": \"\"}}, \"colorscale\": {\"diverging\": [[0, \"#8e0152\"], [0.1, \"#c51b7d\"], [0.2, \"#de77ae\"], [0.3, \"#f1b6da\"], [0.4, \"#fde0ef\"], [0.5, \"#f7f7f7\"], [0.6, \"#e6f5d0\"], [0.7, \"#b8e186\"], [0.8, \"#7fbc41\"], [0.9, \"#4d9221\"], [1, \"#276419\"]], \"sequential\": [[0.0, \"#0d0887\"], [0.1111111111111111, \"#46039f\"], [0.2222222222222222, \"#7201a8\"], [0.3333333333333333, \"#9c179e\"], [0.4444444444444444, \"#bd3786\"], [0.5555555555555556, \"#d8576b\"], [0.6666666666666666, \"#ed7953\"], [0.7777777777777778, \"#fb9f3a\"], [0.8888888888888888, \"#fdca26\"], [1.0, \"#f0f921\"]], \"sequentialminus\": [[0.0, \"#0d0887\"], [0.1111111111111111, \"#46039f\"], [0.2222222222222222, \"#7201a8\"], [0.3333333333333333, \"#9c179e\"], [0.4444444444444444, \"#bd3786\"], [0.5555555555555556, \"#d8576b\"], [0.6666666666666666, \"#ed7953\"], [0.7777777777777778, \"#fb9f3a\"], [0.8888888888888888, \"#fdca26\"], [1.0, \"#f0f921\"]]}, \"colorway\": [\"#636efa\", \"#EF553B\", \"#00cc96\", \"#ab63fa\", \"#FFA15A\", \"#19d3f3\", \"#FF6692\", \"#B6E880\", \"#FF97FF\", \"#FECB52\"], \"font\": {\"color\": \"#2a3f5f\"}, \"geo\": {\"bgcolor\": \"white\", \"lakecolor\": \"white\", \"landcolor\": \"#E5ECF6\", \"showlakes\": true, \"showland\": true, \"subunitcolor\": \"white\"}, \"hoverlabel\": {\"align\": \"left\"}, \"hovermode\": \"closest\", \"mapbox\": {\"style\": \"light\"}, \"paper_bgcolor\": \"white\", \"plot_bgcolor\": \"#E5ECF6\", \"polar\": {\"angularaxis\": {\"gridcolor\": \"white\", \"linecolor\": \"white\", \"ticks\": \"\"}, \"bgcolor\": \"#E5ECF6\", \"radialaxis\": {\"gridcolor\": \"white\", \"linecolor\": \"white\", \"ticks\": \"\"}}, \"scene\": {\"xaxis\": {\"backgroundcolor\": \"#E5ECF6\", \"gridcolor\": \"white\", \"gridwidth\": 2, \"linecolor\": \"white\", \"showbackground\": true, \"ticks\": \"\", \"zerolinecolor\": \"white\"}, \"yaxis\": {\"backgroundcolor\": \"#E5ECF6\", \"gridcolor\": \"white\", \"gridwidth\": 2, \"linecolor\": \"white\", \"showbackground\": true, \"ticks\": \"\", \"zerolinecolor\": \"white\"}, \"zaxis\": {\"backgroundcolor\": \"#E5ECF6\", \"gridcolor\": \"white\", \"gridwidth\": 2, \"linecolor\": \"white\", \"showbackground\": true, \"ticks\": \"\", \"zerolinecolor\": \"white\"}}, \"shapedefaults\": {\"line\": {\"color\": \"#2a3f5f\"}}, \"ternary\": {\"aaxis\": {\"gridcolor\": \"white\", \"linecolor\": \"white\", \"ticks\": \"\"}, \"baxis\": {\"gridcolor\": \"white\", \"linecolor\": \"white\", \"ticks\": \"\"}, \"bgcolor\": \"#E5ECF6\", \"caxis\": {\"gridcolor\": \"white\", \"linecolor\": \"white\", \"ticks\": \"\"}}, \"title\": {\"x\": 0.05}, \"xaxis\": {\"automargin\": true, \"gridcolor\": \"white\", \"linecolor\": \"white\", \"ticks\": \"\", \"title\": {\"standoff\": 15}, \"zerolinecolor\": \"white\", \"zerolinewidth\": 2}, \"yaxis\": {\"automargin\": true, \"gridcolor\": \"white\", \"linecolor\": \"white\", \"ticks\": \"\", \"title\": {\"standoff\": 15}, \"zerolinecolor\": \"white\", \"zerolinewidth\": 2}}}, \"title\": {\"font\": {\"color\": \"#4D5663\"}}, \"xaxis\": {\"gridcolor\": \"#E1E5ED\", \"showgrid\": true, \"tickfont\": {\"color\": \"#4D5663\"}, \"title\": {\"font\": {\"color\": \"#4D5663\"}, \"text\": \"\"}, \"zerolinecolor\": \"#E1E5ED\"}, \"yaxis\": {\"gridcolor\": \"#E1E5ED\", \"showgrid\": true, \"tickfont\": {\"color\": \"#4D5663\"}, \"title\": {\"font\": {\"color\": \"#4D5663\"}, \"text\": \"\"}, \"zerolinecolor\": \"#E1E5ED\"}},\n",
       "                        {\"showLink\": true, \"linkText\": \"Export to plot.ly\", \"plotlyServerURL\": \"https://plot.ly\", \"responsive\": true}\n",
       "                    ).then(function(){\n",
       "                            \n",
       "var gd = document.getElementById('a4ecf110-4240-4f1f-bf84-f7b43691f6b9');\n",
       "var x = new MutationObserver(function (mutations, observer) {{\n",
       "        var display = window.getComputedStyle(gd).display;\n",
       "        if (!display || display === 'none') {{\n",
       "            console.log([gd, 'removed!']);\n",
       "            Plotly.purge(gd);\n",
       "            observer.disconnect();\n",
       "        }}\n",
       "}});\n",
       "\n",
       "// Listen for the removal of the full notebook cells\n",
       "var notebookContainer = gd.closest('#notebook-container');\n",
       "if (notebookContainer) {{\n",
       "    x.observe(notebookContainer, {childList: true});\n",
       "}}\n",
       "\n",
       "// Listen for the clearing of the current output cell\n",
       "var outputEl = gd.closest('.output');\n",
       "if (outputEl) {{\n",
       "    x.observe(outputEl, {childList: true});\n",
       "}}\n",
       "\n",
       "                        })\n",
       "                };\n",
       "                });\n",
       "            </script>\n",
       "        </div>"
      ]
     },
     "metadata": {},
     "output_type": "display_data"
    }
   ],
   "source": [
    "df.count().iplot(kind=\"bar\")"
   ]
  },
  {
   "cell_type": "code",
   "execution_count": 34,
   "metadata": {},
   "outputs": [
    {
     "data": {
      "application/vnd.plotly.v1+json": {
       "config": {
        "linkText": "Export to plot.ly",
        "plotlyServerURL": "https://plot.ly",
        "showLink": true
       },
       "data": [
        {
         "marker": {
          "color": "rgba(255, 153, 51, 0.6)",
          "line": {
           "color": "rgba(255, 153, 51, 1.0)",
           "width": 1
          }
         },
         "name": "None",
         "orientation": "v",
         "text": "",
         "type": "bar",
         "x": [
          "A",
          "B",
          "C",
          "D"
         ],
         "y": [
          3.6102804276852942,
          2.8609485357310174,
          -16.36304756539806,
          6.3306261024520465
         ]
        }
       ],
       "layout": {
        "legend": {
         "bgcolor": "#F5F6F9",
         "font": {
          "color": "#4D5663"
         }
        },
        "paper_bgcolor": "#F5F6F9",
        "plot_bgcolor": "#F5F6F9",
        "template": {
         "data": {
          "bar": [
           {
            "error_x": {
             "color": "#2a3f5f"
            },
            "error_y": {
             "color": "#2a3f5f"
            },
            "marker": {
             "line": {
              "color": "#E5ECF6",
              "width": 0.5
             }
            },
            "type": "bar"
           }
          ],
          "barpolar": [
           {
            "marker": {
             "line": {
              "color": "#E5ECF6",
              "width": 0.5
             }
            },
            "type": "barpolar"
           }
          ],
          "carpet": [
           {
            "aaxis": {
             "endlinecolor": "#2a3f5f",
             "gridcolor": "white",
             "linecolor": "white",
             "minorgridcolor": "white",
             "startlinecolor": "#2a3f5f"
            },
            "baxis": {
             "endlinecolor": "#2a3f5f",
             "gridcolor": "white",
             "linecolor": "white",
             "minorgridcolor": "white",
             "startlinecolor": "#2a3f5f"
            },
            "type": "carpet"
           }
          ],
          "choropleth": [
           {
            "colorbar": {
             "outlinewidth": 0,
             "ticks": ""
            },
            "type": "choropleth"
           }
          ],
          "contour": [
           {
            "colorbar": {
             "outlinewidth": 0,
             "ticks": ""
            },
            "colorscale": [
             [
              0,
              "#0d0887"
             ],
             [
              0.1111111111111111,
              "#46039f"
             ],
             [
              0.2222222222222222,
              "#7201a8"
             ],
             [
              0.3333333333333333,
              "#9c179e"
             ],
             [
              0.4444444444444444,
              "#bd3786"
             ],
             [
              0.5555555555555556,
              "#d8576b"
             ],
             [
              0.6666666666666666,
              "#ed7953"
             ],
             [
              0.7777777777777778,
              "#fb9f3a"
             ],
             [
              0.8888888888888888,
              "#fdca26"
             ],
             [
              1,
              "#f0f921"
             ]
            ],
            "type": "contour"
           }
          ],
          "contourcarpet": [
           {
            "colorbar": {
             "outlinewidth": 0,
             "ticks": ""
            },
            "type": "contourcarpet"
           }
          ],
          "heatmap": [
           {
            "colorbar": {
             "outlinewidth": 0,
             "ticks": ""
            },
            "colorscale": [
             [
              0,
              "#0d0887"
             ],
             [
              0.1111111111111111,
              "#46039f"
             ],
             [
              0.2222222222222222,
              "#7201a8"
             ],
             [
              0.3333333333333333,
              "#9c179e"
             ],
             [
              0.4444444444444444,
              "#bd3786"
             ],
             [
              0.5555555555555556,
              "#d8576b"
             ],
             [
              0.6666666666666666,
              "#ed7953"
             ],
             [
              0.7777777777777778,
              "#fb9f3a"
             ],
             [
              0.8888888888888888,
              "#fdca26"
             ],
             [
              1,
              "#f0f921"
             ]
            ],
            "type": "heatmap"
           }
          ],
          "heatmapgl": [
           {
            "colorbar": {
             "outlinewidth": 0,
             "ticks": ""
            },
            "colorscale": [
             [
              0,
              "#0d0887"
             ],
             [
              0.1111111111111111,
              "#46039f"
             ],
             [
              0.2222222222222222,
              "#7201a8"
             ],
             [
              0.3333333333333333,
              "#9c179e"
             ],
             [
              0.4444444444444444,
              "#bd3786"
             ],
             [
              0.5555555555555556,
              "#d8576b"
             ],
             [
              0.6666666666666666,
              "#ed7953"
             ],
             [
              0.7777777777777778,
              "#fb9f3a"
             ],
             [
              0.8888888888888888,
              "#fdca26"
             ],
             [
              1,
              "#f0f921"
             ]
            ],
            "type": "heatmapgl"
           }
          ],
          "histogram": [
           {
            "marker": {
             "colorbar": {
              "outlinewidth": 0,
              "ticks": ""
             }
            },
            "type": "histogram"
           }
          ],
          "histogram2d": [
           {
            "colorbar": {
             "outlinewidth": 0,
             "ticks": ""
            },
            "colorscale": [
             [
              0,
              "#0d0887"
             ],
             [
              0.1111111111111111,
              "#46039f"
             ],
             [
              0.2222222222222222,
              "#7201a8"
             ],
             [
              0.3333333333333333,
              "#9c179e"
             ],
             [
              0.4444444444444444,
              "#bd3786"
             ],
             [
              0.5555555555555556,
              "#d8576b"
             ],
             [
              0.6666666666666666,
              "#ed7953"
             ],
             [
              0.7777777777777778,
              "#fb9f3a"
             ],
             [
              0.8888888888888888,
              "#fdca26"
             ],
             [
              1,
              "#f0f921"
             ]
            ],
            "type": "histogram2d"
           }
          ],
          "histogram2dcontour": [
           {
            "colorbar": {
             "outlinewidth": 0,
             "ticks": ""
            },
            "colorscale": [
             [
              0,
              "#0d0887"
             ],
             [
              0.1111111111111111,
              "#46039f"
             ],
             [
              0.2222222222222222,
              "#7201a8"
             ],
             [
              0.3333333333333333,
              "#9c179e"
             ],
             [
              0.4444444444444444,
              "#bd3786"
             ],
             [
              0.5555555555555556,
              "#d8576b"
             ],
             [
              0.6666666666666666,
              "#ed7953"
             ],
             [
              0.7777777777777778,
              "#fb9f3a"
             ],
             [
              0.8888888888888888,
              "#fdca26"
             ],
             [
              1,
              "#f0f921"
             ]
            ],
            "type": "histogram2dcontour"
           }
          ],
          "mesh3d": [
           {
            "colorbar": {
             "outlinewidth": 0,
             "ticks": ""
            },
            "type": "mesh3d"
           }
          ],
          "parcoords": [
           {
            "line": {
             "colorbar": {
              "outlinewidth": 0,
              "ticks": ""
             }
            },
            "type": "parcoords"
           }
          ],
          "pie": [
           {
            "automargin": true,
            "type": "pie"
           }
          ],
          "scatter": [
           {
            "marker": {
             "colorbar": {
              "outlinewidth": 0,
              "ticks": ""
             }
            },
            "type": "scatter"
           }
          ],
          "scatter3d": [
           {
            "line": {
             "colorbar": {
              "outlinewidth": 0,
              "ticks": ""
             }
            },
            "marker": {
             "colorbar": {
              "outlinewidth": 0,
              "ticks": ""
             }
            },
            "type": "scatter3d"
           }
          ],
          "scattercarpet": [
           {
            "marker": {
             "colorbar": {
              "outlinewidth": 0,
              "ticks": ""
             }
            },
            "type": "scattercarpet"
           }
          ],
          "scattergeo": [
           {
            "marker": {
             "colorbar": {
              "outlinewidth": 0,
              "ticks": ""
             }
            },
            "type": "scattergeo"
           }
          ],
          "scattergl": [
           {
            "marker": {
             "colorbar": {
              "outlinewidth": 0,
              "ticks": ""
             }
            },
            "type": "scattergl"
           }
          ],
          "scattermapbox": [
           {
            "marker": {
             "colorbar": {
              "outlinewidth": 0,
              "ticks": ""
             }
            },
            "type": "scattermapbox"
           }
          ],
          "scatterpolar": [
           {
            "marker": {
             "colorbar": {
              "outlinewidth": 0,
              "ticks": ""
             }
            },
            "type": "scatterpolar"
           }
          ],
          "scatterpolargl": [
           {
            "marker": {
             "colorbar": {
              "outlinewidth": 0,
              "ticks": ""
             }
            },
            "type": "scatterpolargl"
           }
          ],
          "scatterternary": [
           {
            "marker": {
             "colorbar": {
              "outlinewidth": 0,
              "ticks": ""
             }
            },
            "type": "scatterternary"
           }
          ],
          "surface": [
           {
            "colorbar": {
             "outlinewidth": 0,
             "ticks": ""
            },
            "colorscale": [
             [
              0,
              "#0d0887"
             ],
             [
              0.1111111111111111,
              "#46039f"
             ],
             [
              0.2222222222222222,
              "#7201a8"
             ],
             [
              0.3333333333333333,
              "#9c179e"
             ],
             [
              0.4444444444444444,
              "#bd3786"
             ],
             [
              0.5555555555555556,
              "#d8576b"
             ],
             [
              0.6666666666666666,
              "#ed7953"
             ],
             [
              0.7777777777777778,
              "#fb9f3a"
             ],
             [
              0.8888888888888888,
              "#fdca26"
             ],
             [
              1,
              "#f0f921"
             ]
            ],
            "type": "surface"
           }
          ],
          "table": [
           {
            "cells": {
             "fill": {
              "color": "#EBF0F8"
             },
             "line": {
              "color": "white"
             }
            },
            "header": {
             "fill": {
              "color": "#C8D4E3"
             },
             "line": {
              "color": "white"
             }
            },
            "type": "table"
           }
          ]
         },
         "layout": {
          "annotationdefaults": {
           "arrowcolor": "#2a3f5f",
           "arrowhead": 0,
           "arrowwidth": 1
          },
          "coloraxis": {
           "colorbar": {
            "outlinewidth": 0,
            "ticks": ""
           }
          },
          "colorscale": {
           "diverging": [
            [
             0,
             "#8e0152"
            ],
            [
             0.1,
             "#c51b7d"
            ],
            [
             0.2,
             "#de77ae"
            ],
            [
             0.3,
             "#f1b6da"
            ],
            [
             0.4,
             "#fde0ef"
            ],
            [
             0.5,
             "#f7f7f7"
            ],
            [
             0.6,
             "#e6f5d0"
            ],
            [
             0.7,
             "#b8e186"
            ],
            [
             0.8,
             "#7fbc41"
            ],
            [
             0.9,
             "#4d9221"
            ],
            [
             1,
             "#276419"
            ]
           ],
           "sequential": [
            [
             0,
             "#0d0887"
            ],
            [
             0.1111111111111111,
             "#46039f"
            ],
            [
             0.2222222222222222,
             "#7201a8"
            ],
            [
             0.3333333333333333,
             "#9c179e"
            ],
            [
             0.4444444444444444,
             "#bd3786"
            ],
            [
             0.5555555555555556,
             "#d8576b"
            ],
            [
             0.6666666666666666,
             "#ed7953"
            ],
            [
             0.7777777777777778,
             "#fb9f3a"
            ],
            [
             0.8888888888888888,
             "#fdca26"
            ],
            [
             1,
             "#f0f921"
            ]
           ],
           "sequentialminus": [
            [
             0,
             "#0d0887"
            ],
            [
             0.1111111111111111,
             "#46039f"
            ],
            [
             0.2222222222222222,
             "#7201a8"
            ],
            [
             0.3333333333333333,
             "#9c179e"
            ],
            [
             0.4444444444444444,
             "#bd3786"
            ],
            [
             0.5555555555555556,
             "#d8576b"
            ],
            [
             0.6666666666666666,
             "#ed7953"
            ],
            [
             0.7777777777777778,
             "#fb9f3a"
            ],
            [
             0.8888888888888888,
             "#fdca26"
            ],
            [
             1,
             "#f0f921"
            ]
           ]
          },
          "colorway": [
           "#636efa",
           "#EF553B",
           "#00cc96",
           "#ab63fa",
           "#FFA15A",
           "#19d3f3",
           "#FF6692",
           "#B6E880",
           "#FF97FF",
           "#FECB52"
          ],
          "font": {
           "color": "#2a3f5f"
          },
          "geo": {
           "bgcolor": "white",
           "lakecolor": "white",
           "landcolor": "#E5ECF6",
           "showlakes": true,
           "showland": true,
           "subunitcolor": "white"
          },
          "hoverlabel": {
           "align": "left"
          },
          "hovermode": "closest",
          "mapbox": {
           "style": "light"
          },
          "paper_bgcolor": "white",
          "plot_bgcolor": "#E5ECF6",
          "polar": {
           "angularaxis": {
            "gridcolor": "white",
            "linecolor": "white",
            "ticks": ""
           },
           "bgcolor": "#E5ECF6",
           "radialaxis": {
            "gridcolor": "white",
            "linecolor": "white",
            "ticks": ""
           }
          },
          "scene": {
           "xaxis": {
            "backgroundcolor": "#E5ECF6",
            "gridcolor": "white",
            "gridwidth": 2,
            "linecolor": "white",
            "showbackground": true,
            "ticks": "",
            "zerolinecolor": "white"
           },
           "yaxis": {
            "backgroundcolor": "#E5ECF6",
            "gridcolor": "white",
            "gridwidth": 2,
            "linecolor": "white",
            "showbackground": true,
            "ticks": "",
            "zerolinecolor": "white"
           },
           "zaxis": {
            "backgroundcolor": "#E5ECF6",
            "gridcolor": "white",
            "gridwidth": 2,
            "linecolor": "white",
            "showbackground": true,
            "ticks": "",
            "zerolinecolor": "white"
           }
          },
          "shapedefaults": {
           "line": {
            "color": "#2a3f5f"
           }
          },
          "ternary": {
           "aaxis": {
            "gridcolor": "white",
            "linecolor": "white",
            "ticks": ""
           },
           "baxis": {
            "gridcolor": "white",
            "linecolor": "white",
            "ticks": ""
           },
           "bgcolor": "#E5ECF6",
           "caxis": {
            "gridcolor": "white",
            "linecolor": "white",
            "ticks": ""
           }
          },
          "title": {
           "x": 0.05
          },
          "xaxis": {
           "automargin": true,
           "gridcolor": "white",
           "linecolor": "white",
           "ticks": "",
           "title": {
            "standoff": 15
           },
           "zerolinecolor": "white",
           "zerolinewidth": 2
          },
          "yaxis": {
           "automargin": true,
           "gridcolor": "white",
           "linecolor": "white",
           "ticks": "",
           "title": {
            "standoff": 15
           },
           "zerolinecolor": "white",
           "zerolinewidth": 2
          }
         }
        },
        "title": {
         "font": {
          "color": "#4D5663"
         }
        },
        "xaxis": {
         "gridcolor": "#E1E5ED",
         "showgrid": true,
         "tickfont": {
          "color": "#4D5663"
         },
         "title": {
          "font": {
           "color": "#4D5663"
          },
          "text": ""
         },
         "zerolinecolor": "#E1E5ED"
        },
        "yaxis": {
         "gridcolor": "#E1E5ED",
         "showgrid": true,
         "tickfont": {
          "color": "#4D5663"
         },
         "title": {
          "font": {
           "color": "#4D5663"
          },
          "text": ""
         },
         "zerolinecolor": "#E1E5ED"
        }
       }
      },
      "text/html": [
       "<div>\n",
       "        \n",
       "        \n",
       "            <div id=\"4e67b926-0149-431e-8124-5e3833ba2be9\" class=\"plotly-graph-div\" style=\"height:525px; width:100%;\"></div>\n",
       "            <script type=\"text/javascript\">\n",
       "                require([\"plotly\"], function(Plotly) {\n",
       "                    window.PLOTLYENV=window.PLOTLYENV || {};\n",
       "                    window.PLOTLYENV.BASE_URL='https://plot.ly';\n",
       "                    \n",
       "                if (document.getElementById(\"4e67b926-0149-431e-8124-5e3833ba2be9\")) {\n",
       "                    Plotly.newPlot(\n",
       "                        '4e67b926-0149-431e-8124-5e3833ba2be9',\n",
       "                        [{\"marker\": {\"color\": \"rgba(255, 153, 51, 0.6)\", \"line\": {\"color\": \"rgba(255, 153, 51, 1.0)\", \"width\": 1}}, \"name\": \"None\", \"orientation\": \"v\", \"text\": \"\", \"type\": \"bar\", \"x\": [\"A\", \"B\", \"C\", \"D\"], \"y\": [3.6102804276852942, 2.8609485357310174, -16.36304756539806, 6.3306261024520465]}],\n",
       "                        {\"legend\": {\"bgcolor\": \"#F5F6F9\", \"font\": {\"color\": \"#4D5663\"}}, \"paper_bgcolor\": \"#F5F6F9\", \"plot_bgcolor\": \"#F5F6F9\", \"template\": {\"data\": {\"bar\": [{\"error_x\": {\"color\": \"#2a3f5f\"}, \"error_y\": {\"color\": \"#2a3f5f\"}, \"marker\": {\"line\": {\"color\": \"#E5ECF6\", \"width\": 0.5}}, \"type\": \"bar\"}], \"barpolar\": [{\"marker\": {\"line\": {\"color\": \"#E5ECF6\", \"width\": 0.5}}, \"type\": \"barpolar\"}], \"carpet\": [{\"aaxis\": {\"endlinecolor\": \"#2a3f5f\", \"gridcolor\": \"white\", \"linecolor\": \"white\", \"minorgridcolor\": \"white\", \"startlinecolor\": \"#2a3f5f\"}, \"baxis\": {\"endlinecolor\": \"#2a3f5f\", \"gridcolor\": \"white\", \"linecolor\": \"white\", \"minorgridcolor\": \"white\", \"startlinecolor\": \"#2a3f5f\"}, \"type\": \"carpet\"}], \"choropleth\": [{\"colorbar\": {\"outlinewidth\": 0, \"ticks\": \"\"}, \"type\": \"choropleth\"}], \"contour\": [{\"colorbar\": {\"outlinewidth\": 0, \"ticks\": \"\"}, \"colorscale\": [[0.0, \"#0d0887\"], [0.1111111111111111, \"#46039f\"], [0.2222222222222222, \"#7201a8\"], [0.3333333333333333, \"#9c179e\"], [0.4444444444444444, \"#bd3786\"], [0.5555555555555556, \"#d8576b\"], [0.6666666666666666, \"#ed7953\"], [0.7777777777777778, \"#fb9f3a\"], [0.8888888888888888, \"#fdca26\"], [1.0, \"#f0f921\"]], \"type\": \"contour\"}], \"contourcarpet\": [{\"colorbar\": {\"outlinewidth\": 0, \"ticks\": \"\"}, \"type\": \"contourcarpet\"}], \"heatmap\": [{\"colorbar\": {\"outlinewidth\": 0, \"ticks\": \"\"}, \"colorscale\": [[0.0, \"#0d0887\"], [0.1111111111111111, \"#46039f\"], [0.2222222222222222, \"#7201a8\"], [0.3333333333333333, \"#9c179e\"], [0.4444444444444444, \"#bd3786\"], [0.5555555555555556, \"#d8576b\"], [0.6666666666666666, \"#ed7953\"], [0.7777777777777778, \"#fb9f3a\"], [0.8888888888888888, \"#fdca26\"], [1.0, \"#f0f921\"]], \"type\": \"heatmap\"}], \"heatmapgl\": [{\"colorbar\": {\"outlinewidth\": 0, \"ticks\": \"\"}, \"colorscale\": [[0.0, \"#0d0887\"], [0.1111111111111111, \"#46039f\"], [0.2222222222222222, \"#7201a8\"], [0.3333333333333333, \"#9c179e\"], [0.4444444444444444, \"#bd3786\"], [0.5555555555555556, \"#d8576b\"], [0.6666666666666666, \"#ed7953\"], [0.7777777777777778, \"#fb9f3a\"], [0.8888888888888888, \"#fdca26\"], [1.0, \"#f0f921\"]], \"type\": \"heatmapgl\"}], \"histogram\": [{\"marker\": {\"colorbar\": {\"outlinewidth\": 0, \"ticks\": \"\"}}, \"type\": \"histogram\"}], \"histogram2d\": [{\"colorbar\": {\"outlinewidth\": 0, \"ticks\": \"\"}, \"colorscale\": [[0.0, \"#0d0887\"], [0.1111111111111111, \"#46039f\"], [0.2222222222222222, \"#7201a8\"], [0.3333333333333333, \"#9c179e\"], [0.4444444444444444, \"#bd3786\"], [0.5555555555555556, \"#d8576b\"], [0.6666666666666666, \"#ed7953\"], [0.7777777777777778, \"#fb9f3a\"], [0.8888888888888888, \"#fdca26\"], [1.0, \"#f0f921\"]], \"type\": \"histogram2d\"}], \"histogram2dcontour\": [{\"colorbar\": {\"outlinewidth\": 0, \"ticks\": \"\"}, \"colorscale\": [[0.0, \"#0d0887\"], [0.1111111111111111, \"#46039f\"], [0.2222222222222222, \"#7201a8\"], [0.3333333333333333, \"#9c179e\"], [0.4444444444444444, \"#bd3786\"], [0.5555555555555556, \"#d8576b\"], [0.6666666666666666, \"#ed7953\"], [0.7777777777777778, \"#fb9f3a\"], [0.8888888888888888, \"#fdca26\"], [1.0, \"#f0f921\"]], \"type\": \"histogram2dcontour\"}], \"mesh3d\": [{\"colorbar\": {\"outlinewidth\": 0, \"ticks\": \"\"}, \"type\": \"mesh3d\"}], \"parcoords\": [{\"line\": {\"colorbar\": {\"outlinewidth\": 0, \"ticks\": \"\"}}, \"type\": \"parcoords\"}], \"pie\": [{\"automargin\": true, \"type\": \"pie\"}], \"scatter\": [{\"marker\": {\"colorbar\": {\"outlinewidth\": 0, \"ticks\": \"\"}}, \"type\": \"scatter\"}], \"scatter3d\": [{\"line\": {\"colorbar\": {\"outlinewidth\": 0, \"ticks\": \"\"}}, \"marker\": {\"colorbar\": {\"outlinewidth\": 0, \"ticks\": \"\"}}, \"type\": \"scatter3d\"}], \"scattercarpet\": [{\"marker\": {\"colorbar\": {\"outlinewidth\": 0, \"ticks\": \"\"}}, \"type\": \"scattercarpet\"}], \"scattergeo\": [{\"marker\": {\"colorbar\": {\"outlinewidth\": 0, \"ticks\": \"\"}}, \"type\": \"scattergeo\"}], \"scattergl\": [{\"marker\": {\"colorbar\": {\"outlinewidth\": 0, \"ticks\": \"\"}}, \"type\": \"scattergl\"}], \"scattermapbox\": [{\"marker\": {\"colorbar\": {\"outlinewidth\": 0, \"ticks\": \"\"}}, \"type\": \"scattermapbox\"}], \"scatterpolar\": [{\"marker\": {\"colorbar\": {\"outlinewidth\": 0, \"ticks\": \"\"}}, \"type\": \"scatterpolar\"}], \"scatterpolargl\": [{\"marker\": {\"colorbar\": {\"outlinewidth\": 0, \"ticks\": \"\"}}, \"type\": \"scatterpolargl\"}], \"scatterternary\": [{\"marker\": {\"colorbar\": {\"outlinewidth\": 0, \"ticks\": \"\"}}, \"type\": \"scatterternary\"}], \"surface\": [{\"colorbar\": {\"outlinewidth\": 0, \"ticks\": \"\"}, \"colorscale\": [[0.0, \"#0d0887\"], [0.1111111111111111, \"#46039f\"], [0.2222222222222222, \"#7201a8\"], [0.3333333333333333, \"#9c179e\"], [0.4444444444444444, \"#bd3786\"], [0.5555555555555556, \"#d8576b\"], [0.6666666666666666, \"#ed7953\"], [0.7777777777777778, \"#fb9f3a\"], [0.8888888888888888, \"#fdca26\"], [1.0, \"#f0f921\"]], \"type\": \"surface\"}], \"table\": [{\"cells\": {\"fill\": {\"color\": \"#EBF0F8\"}, \"line\": {\"color\": \"white\"}}, \"header\": {\"fill\": {\"color\": \"#C8D4E3\"}, \"line\": {\"color\": \"white\"}}, \"type\": \"table\"}]}, \"layout\": {\"annotationdefaults\": {\"arrowcolor\": \"#2a3f5f\", \"arrowhead\": 0, \"arrowwidth\": 1}, \"coloraxis\": {\"colorbar\": {\"outlinewidth\": 0, \"ticks\": \"\"}}, \"colorscale\": {\"diverging\": [[0, \"#8e0152\"], [0.1, \"#c51b7d\"], [0.2, \"#de77ae\"], [0.3, \"#f1b6da\"], [0.4, \"#fde0ef\"], [0.5, \"#f7f7f7\"], [0.6, \"#e6f5d0\"], [0.7, \"#b8e186\"], [0.8, \"#7fbc41\"], [0.9, \"#4d9221\"], [1, \"#276419\"]], \"sequential\": [[0.0, \"#0d0887\"], [0.1111111111111111, \"#46039f\"], [0.2222222222222222, \"#7201a8\"], [0.3333333333333333, \"#9c179e\"], [0.4444444444444444, \"#bd3786\"], [0.5555555555555556, \"#d8576b\"], [0.6666666666666666, \"#ed7953\"], [0.7777777777777778, \"#fb9f3a\"], [0.8888888888888888, \"#fdca26\"], [1.0, \"#f0f921\"]], \"sequentialminus\": [[0.0, \"#0d0887\"], [0.1111111111111111, \"#46039f\"], [0.2222222222222222, \"#7201a8\"], [0.3333333333333333, \"#9c179e\"], [0.4444444444444444, \"#bd3786\"], [0.5555555555555556, \"#d8576b\"], [0.6666666666666666, \"#ed7953\"], [0.7777777777777778, \"#fb9f3a\"], [0.8888888888888888, \"#fdca26\"], [1.0, \"#f0f921\"]]}, \"colorway\": [\"#636efa\", \"#EF553B\", \"#00cc96\", \"#ab63fa\", \"#FFA15A\", \"#19d3f3\", \"#FF6692\", \"#B6E880\", \"#FF97FF\", \"#FECB52\"], \"font\": {\"color\": \"#2a3f5f\"}, \"geo\": {\"bgcolor\": \"white\", \"lakecolor\": \"white\", \"landcolor\": \"#E5ECF6\", \"showlakes\": true, \"showland\": true, \"subunitcolor\": \"white\"}, \"hoverlabel\": {\"align\": \"left\"}, \"hovermode\": \"closest\", \"mapbox\": {\"style\": \"light\"}, \"paper_bgcolor\": \"white\", \"plot_bgcolor\": \"#E5ECF6\", \"polar\": {\"angularaxis\": {\"gridcolor\": \"white\", \"linecolor\": \"white\", \"ticks\": \"\"}, \"bgcolor\": \"#E5ECF6\", \"radialaxis\": {\"gridcolor\": \"white\", \"linecolor\": \"white\", \"ticks\": \"\"}}, \"scene\": {\"xaxis\": {\"backgroundcolor\": \"#E5ECF6\", \"gridcolor\": \"white\", \"gridwidth\": 2, \"linecolor\": \"white\", \"showbackground\": true, \"ticks\": \"\", \"zerolinecolor\": \"white\"}, \"yaxis\": {\"backgroundcolor\": \"#E5ECF6\", \"gridcolor\": \"white\", \"gridwidth\": 2, \"linecolor\": \"white\", \"showbackground\": true, \"ticks\": \"\", \"zerolinecolor\": \"white\"}, \"zaxis\": {\"backgroundcolor\": \"#E5ECF6\", \"gridcolor\": \"white\", \"gridwidth\": 2, \"linecolor\": \"white\", \"showbackground\": true, \"ticks\": \"\", \"zerolinecolor\": \"white\"}}, \"shapedefaults\": {\"line\": {\"color\": \"#2a3f5f\"}}, \"ternary\": {\"aaxis\": {\"gridcolor\": \"white\", \"linecolor\": \"white\", \"ticks\": \"\"}, \"baxis\": {\"gridcolor\": \"white\", \"linecolor\": \"white\", \"ticks\": \"\"}, \"bgcolor\": \"#E5ECF6\", \"caxis\": {\"gridcolor\": \"white\", \"linecolor\": \"white\", \"ticks\": \"\"}}, \"title\": {\"x\": 0.05}, \"xaxis\": {\"automargin\": true, \"gridcolor\": \"white\", \"linecolor\": \"white\", \"ticks\": \"\", \"title\": {\"standoff\": 15}, \"zerolinecolor\": \"white\", \"zerolinewidth\": 2}, \"yaxis\": {\"automargin\": true, \"gridcolor\": \"white\", \"linecolor\": \"white\", \"ticks\": \"\", \"title\": {\"standoff\": 15}, \"zerolinecolor\": \"white\", \"zerolinewidth\": 2}}}, \"title\": {\"font\": {\"color\": \"#4D5663\"}}, \"xaxis\": {\"gridcolor\": \"#E1E5ED\", \"showgrid\": true, \"tickfont\": {\"color\": \"#4D5663\"}, \"title\": {\"font\": {\"color\": \"#4D5663\"}, \"text\": \"\"}, \"zerolinecolor\": \"#E1E5ED\"}, \"yaxis\": {\"gridcolor\": \"#E1E5ED\", \"showgrid\": true, \"tickfont\": {\"color\": \"#4D5663\"}, \"title\": {\"font\": {\"color\": \"#4D5663\"}, \"text\": \"\"}, \"zerolinecolor\": \"#E1E5ED\"}},\n",
       "                        {\"showLink\": true, \"linkText\": \"Export to plot.ly\", \"plotlyServerURL\": \"https://plot.ly\", \"responsive\": true}\n",
       "                    ).then(function(){\n",
       "                            \n",
       "var gd = document.getElementById('4e67b926-0149-431e-8124-5e3833ba2be9');\n",
       "var x = new MutationObserver(function (mutations, observer) {{\n",
       "        var display = window.getComputedStyle(gd).display;\n",
       "        if (!display || display === 'none') {{\n",
       "            console.log([gd, 'removed!']);\n",
       "            Plotly.purge(gd);\n",
       "            observer.disconnect();\n",
       "        }}\n",
       "}});\n",
       "\n",
       "// Listen for the removal of the full notebook cells\n",
       "var notebookContainer = gd.closest('#notebook-container');\n",
       "if (notebookContainer) {{\n",
       "    x.observe(notebookContainer, {childList: true});\n",
       "}}\n",
       "\n",
       "// Listen for the clearing of the current output cell\n",
       "var outputEl = gd.closest('.output');\n",
       "if (outputEl) {{\n",
       "    x.observe(outputEl, {childList: true});\n",
       "}}\n",
       "\n",
       "                        })\n",
       "                };\n",
       "                });\n",
       "            </script>\n",
       "        </div>"
      ]
     },
     "metadata": {},
     "output_type": "display_data"
    }
   ],
   "source": [
    "df.sum().iplot(kind=\"bar\")"
   ]
  },
  {
   "cell_type": "code",
   "execution_count": 36,
   "metadata": {},
   "outputs": [
    {
     "data": {
      "application/vnd.plotly.v1+json": {
       "config": {
        "linkText": "Export to plot.ly",
        "plotlyServerURL": "https://plot.ly",
        "showLink": true
       },
       "data": [
        {
         "boxpoints": false,
         "line": {
          "width": 1.3
         },
         "marker": {
          "color": "rgba(255, 153, 51, 1.0)"
         },
         "name": "A",
         "orientation": "v",
         "type": "box",
         "y": [
          -0.6070225586537845,
          -1.8638739423338426,
          -0.02945872276840593,
          -1.301291297310065,
          0.48084833474018185,
          0.7628548206270173,
          -0.28843164746247685,
          0.6019043240278631,
          -0.8763709987921026,
          1.702802294665911,
          0.03894666378491089,
          -0.391247915748716,
          -0.3232684791801891,
          0.5555540390983371,
          -0.5833873983870684,
          -0.0844703205455899,
          -0.5139830214610452,
          -0.9874331374104602,
          1.3231224108983104,
          1.3852294994314818,
          0.495802931458785,
          1.5044941738291178,
          2.013539747855578,
          -0.9350456661961715,
          -0.07199477165247954,
          -0.012588234544470622,
          1.0286702624831179,
          -0.30675308423320574,
          -2.0813241088469705,
          0.9113534548782632,
          -1.1821295689927516,
          0.39712861820350376,
          0.32421117523347154,
          -1.388467161393341,
          -1.8196690472248764,
          1.2781438676085672,
          1.1244717635481953,
          2.6878665336118686,
          -1.6109429503383526,
          -0.3309381064713909,
          0.1012450075722931,
          -0.6927193028799976,
          -1.7779565769379178,
          -0.4937356719987772,
          -0.9214348954348198,
          0.04960273216795757,
          -2.6493834985687386,
          -0.3863153542191854,
          -0.5203504684321614,
          0.5977880177234898,
          1.5935857254212724,
          0.30130947631160576,
          -0.24209057064901562,
          2.393932462989073,
          0.48453201427412146,
          1.1471246976281726,
          1.2228406556961817,
          1.0816068853591136,
          -0.7424208071880561,
          0.7861844219733373,
          0.7498272838099621,
          -0.025596103412613782,
          -0.8244905811186303,
          0.6800258715624917,
          0.5426539687452233,
          -0.3376995252397134,
          0.4782136125101678,
          1.61174979268537,
          -0.009447379791987958,
          2.0385534852770575,
          2.017903156882396,
          -0.04108963367107593,
          -0.37405806660701296,
          1.6557536077103534,
          -0.9180687240107729,
          -1.3509762396010478,
          -1.3245247370933935,
          0.1883981543352357,
          -1.007096270807894,
          0.112857625621616,
          -0.03716265055480332,
          -1.3047337291461698,
          -1.8938223768162143,
          -0.05915120037142549,
          -0.022261006449155404,
          -2.2257467886082813,
          0.299708338942967,
          -0.11551816567653965,
          -0.22224470630933316,
          1.8203093144170124,
          -0.9809281853994635,
          0.8258301853601936,
          1.747369363537277,
          0.4451763013778281,
          0.8233981834134183,
          -0.37937479326251894,
          -1.4536121716892259,
          1.1622792298167708,
          0.2870601492366928,
          -1.3293818887641389
         ]
        },
        {
         "boxpoints": false,
         "line": {
          "width": 1.3
         },
         "marker": {
          "color": "rgba(55, 128, 191, 1.0)"
         },
         "name": "B",
         "orientation": "v",
         "type": "box",
         "y": [
          0.39442564922170886,
          1.1545382861670683,
          -0.3981929049509391,
          1.0607053367391788,
          -1.0927982071594042,
          0.8938581864801937,
          0.10953427785913276,
          1.100603769799354,
          -0.037145165173287524,
          0.820385609335391,
          0.1757448574089021,
          -1.4281471214410326,
          1.3192507531473423,
          0.591642670955045,
          0.5229932990718201,
          0.13605660011946183,
          -0.2100106055939634,
          -0.5700547463822505,
          -0.3323261428045018,
          1.4377556274630496,
          0.14413892892924288,
          0.05300178117926253,
          0.15897168480049687,
          -0.4642246356303038,
          -0.062162694238745014,
          -0.404997912384452,
          -0.7201482218638331,
          2.023568952952069,
          -1.6214853359956733,
          0.542085407732597,
          0.5827569941618997,
          0.3776319435990386,
          0.7860509953709055,
          -0.5428417186393626,
          -0.6218017304368952,
          -0.01711816060498298,
          0.8909241978978917,
          -1.1794232525669857,
          -0.23428574473243066,
          0.6223056989779824,
          -0.13862316143162234,
          1.3989648648043242,
          -1.2881252741130682,
          0.7279631578004603,
          -0.048807113398033994,
          1.0394435684890488,
          -3.3911593703715184,
          -0.524115543518746,
          1.9491071278041052,
          0.07942048576898976,
          -0.6641974846295369,
          -1.0352913027794661,
          -0.6683730021861155,
          -2.0801704608528366,
          -0.6236871291314133,
          0.5545284284650903,
          0.09672761646458744,
          -0.957367126309057,
          -1.3015723703851805,
          0.529996087442483,
          0.36037265455029355,
          -0.825360660875962,
          1.6074276743204716,
          -2.125383315024735,
          0.2729482690721516,
          0.2648116479946539,
          -0.6484000338053134,
          -0.8529199767742717,
          -0.46666971985268213,
          -0.6044278288068219,
          0.6411021729993239,
          1.607115690297109,
          0.642969908406056,
          3.4880296066713408,
          1.5160479793033188,
          0.21650854966375002,
          1.1058470153140674,
          0.9089965059567509,
          -0.9594932219442222,
          -0.5825050989047242,
          -0.006558177721396607,
          1.2314458312022174,
          -0.445862995858089,
          0.32692197599067874,
          -0.16732624075897054,
          -0.06631960996464281,
          -0.5567444312996315,
          -1.2697328105510748,
          -0.6461202658830911,
          -1.6486385015803198,
          0.8697462032738772,
          1.071978584989495,
          1.0115715290572223,
          0.688291257034643,
          -0.4446104637134038,
          -1.370232127902445,
          0.711851270271103,
          -1.4409175804017305,
          0.17758469504751084,
          -0.3488266307639724
         ]
        },
        {
         "boxpoints": false,
         "line": {
          "width": 1.3
         },
         "marker": {
          "color": "rgba(50, 171, 96, 1.0)"
         },
         "name": "C",
         "orientation": "v",
         "type": "box",
         "y": [
          0.5786488658973388,
          -1.3779481177244952,
          0.12365177369173536,
          -1.116511132468932,
          0.8058094735407533,
          -0.40434082821277284,
          1.0225385803330087,
          -0.6470938916080935,
          -0.3508677486533792,
          2.5013226025963746,
          -1.5259835252824552,
          -0.9829311652920717,
          0.23493446006915572,
          -0.9037615413233684,
          -1.3141707547165868,
          -1.5199657157915831,
          -0.7626795758174268,
          1.6073113400335521,
          0.3065045812678438,
          0.7670645741240087,
          -0.44191752142816326,
          -1.3298535843393218,
          -1.135700295184527,
          0.9297115141063347,
          0.6865778093810669,
          0.2906984631345525,
          -0.9865642416513182,
          0.7390830087985069,
          0.5873820481676423,
          -1.0539583164959976,
          0.5414419704915575,
          -0.11185761505217436,
          -0.07695780645157449,
          -2.1646462442630616,
          1.1851782283016816,
          -1.8572626824506342,
          0.44751835654226163,
          0.2377385201511963,
          0.0977471498017824,
          -0.346706646408973,
          0.3288034699452686,
          -0.241554375975574,
          0.23406958233434508,
          -1.2932583043575332,
          -0.0753563250462829,
          0.9227704330212433,
          -0.9932007883861261,
          0.8402493065090569,
          -1.7071908207317257,
          0.4353964002156085,
          0.8810442345722524,
          -1.2204230274097805,
          0.9178683103189221,
          -0.5616608195969544,
          -1.4997595699840784,
          -0.6205171225168257,
          1.078060164804285,
          1.0340481232295156,
          -0.7664258411313779,
          0.6926338816275318,
          1.8483024115450608,
          -0.9381821206856582,
          -0.31440988974655065,
          -0.5299400185069904,
          0.5028693025293436,
          -0.697868894664978,
          0.02223697002983274,
          0.77557394882186,
          0.8422756027790126,
          1.0019480005664712,
          -0.7245614241946116,
          -0.20870645294212087,
          -0.11179174927504838,
          -0.25709999871760897,
          -1.202771442521758,
          0.17460517244494234,
          -3.556830917028255,
          1.959280308579902,
          -0.20721381467702987,
          -0.004113041471365491,
          1.0467020240597704,
          -0.6563924493292402,
          -1.2702933876925069,
          -0.44861523437505996,
          0.23141073624629255,
          0.28912448864058354,
          -2.64152539481277,
          -0.37655621404335426,
          -0.9278540083113972,
          0.021633252663627364,
          0.4389105377440285,
          -0.316289308114846,
          -1.1468826225189952,
          -1.157161485137814,
          0.7742523737057712,
          1.0009994401994993,
          0.21047062378348677,
          -0.4760958934500705,
          -0.6458907785383571,
          -0.35137750023636594
         ]
        },
        {
         "boxpoints": false,
         "line": {
          "width": 1.3
         },
         "marker": {
          "color": "rgba(128, 0, 128, 1.0)"
         },
         "name": "D",
         "orientation": "v",
         "type": "box",
         "y": [
          -0.7710707494557274,
          0.9084215962844299,
          0.14867156693112518,
          1.091242440442385,
          -0.38136791739286025,
          2.6551377942985472,
          -0.542106532007221,
          0.0009897898929007354,
          1.025732698451324,
          1.0917364537662415,
          -0.06579851584724807,
          1.8484432768417098,
          -0.3399947465039237,
          -0.6562755405065582,
          0.9859146265234778,
          0.9181428936696494,
          0.560453175862377,
          0.6173219524497757,
          -0.4176234372666162,
          -0.08616974832048305,
          -0.006352829478318503,
          0.5136507964107583,
          0.15464554983258477,
          -0.4030269739726689,
          0.3296061099699754,
          -0.4648081650700848,
          -1.1636454990471916,
          0.8167962531838402,
          1.3782602913496587,
          -0.8339337883855852,
          0.866982803885244,
          0.6456966292631111,
          -1.65519664670503,
          -0.34483808667429844,
          1.1519480185389928,
          -0.42603916535007497,
          -1.3876296020701955,
          0.438502934561104,
          -0.34317189887749944,
          -0.2582968179968848,
          -1.6196419672168794,
          -0.32586548630627404,
          0.490437955843003,
          -0.016853814769800884,
          0.5704102851277636,
          -0.020673325863221778,
          1.4100771515518467,
          0.8309463411013209,
          1.3443492512121447,
          -1.8857520766945424,
          -0.09056980293285732,
          0.09138694227565757,
          1.3636878725062827,
          -0.2660602412255175,
          1.646259910223738,
          1.8005971402578238,
          -1.210293685648795,
          -0.4522423782105368,
          0.4567476600502909,
          1.3930048823179084,
          0.2072223848026172,
          0.6332124968747784,
          -1.3880857965038995,
          1.987635207109135,
          -0.992693168002227,
          -0.5082269973015238,
          0.4403931715663567,
          -1.4866772715183176,
          0.6426683638879613,
          0.6778864417024036,
          0.2211458414525818,
          -0.029785991329424652,
          0.6604793649030712,
          -1.3172685329935305,
          0.061259598483134725,
          -0.40628739096693317,
          -1.0786117555871804,
          -2.459949891065606,
          0.058595706402560455,
          0.5166845977099281,
          0.4436605818850999,
          0.9127365293860776,
          -0.9936011302758352,
          -1.0284535043950807,
          0.7193874352238564,
          0.19833013706556346,
          0.041628183160987306,
          0.4541679834133369,
          -1.5602230041741998,
          -0.772172041615176,
          0.15727133827918466,
          0.780274996711184,
          -1.3290121829172736,
          -0.3476287149663292,
          0.5469591287599925,
          -0.12694867546220384,
          0.24056843026883892,
          -2.7646992768771086,
          1.0658530548801204,
          0.14202684939502938
         ]
        }
       ],
       "layout": {
        "legend": {
         "bgcolor": "#F5F6F9",
         "font": {
          "color": "#4D5663"
         }
        },
        "paper_bgcolor": "#F5F6F9",
        "plot_bgcolor": "#F5F6F9",
        "template": {
         "data": {
          "bar": [
           {
            "error_x": {
             "color": "#2a3f5f"
            },
            "error_y": {
             "color": "#2a3f5f"
            },
            "marker": {
             "line": {
              "color": "#E5ECF6",
              "width": 0.5
             }
            },
            "type": "bar"
           }
          ],
          "barpolar": [
           {
            "marker": {
             "line": {
              "color": "#E5ECF6",
              "width": 0.5
             }
            },
            "type": "barpolar"
           }
          ],
          "carpet": [
           {
            "aaxis": {
             "endlinecolor": "#2a3f5f",
             "gridcolor": "white",
             "linecolor": "white",
             "minorgridcolor": "white",
             "startlinecolor": "#2a3f5f"
            },
            "baxis": {
             "endlinecolor": "#2a3f5f",
             "gridcolor": "white",
             "linecolor": "white",
             "minorgridcolor": "white",
             "startlinecolor": "#2a3f5f"
            },
            "type": "carpet"
           }
          ],
          "choropleth": [
           {
            "colorbar": {
             "outlinewidth": 0,
             "ticks": ""
            },
            "type": "choropleth"
           }
          ],
          "contour": [
           {
            "colorbar": {
             "outlinewidth": 0,
             "ticks": ""
            },
            "colorscale": [
             [
              0,
              "#0d0887"
             ],
             [
              0.1111111111111111,
              "#46039f"
             ],
             [
              0.2222222222222222,
              "#7201a8"
             ],
             [
              0.3333333333333333,
              "#9c179e"
             ],
             [
              0.4444444444444444,
              "#bd3786"
             ],
             [
              0.5555555555555556,
              "#d8576b"
             ],
             [
              0.6666666666666666,
              "#ed7953"
             ],
             [
              0.7777777777777778,
              "#fb9f3a"
             ],
             [
              0.8888888888888888,
              "#fdca26"
             ],
             [
              1,
              "#f0f921"
             ]
            ],
            "type": "contour"
           }
          ],
          "contourcarpet": [
           {
            "colorbar": {
             "outlinewidth": 0,
             "ticks": ""
            },
            "type": "contourcarpet"
           }
          ],
          "heatmap": [
           {
            "colorbar": {
             "outlinewidth": 0,
             "ticks": ""
            },
            "colorscale": [
             [
              0,
              "#0d0887"
             ],
             [
              0.1111111111111111,
              "#46039f"
             ],
             [
              0.2222222222222222,
              "#7201a8"
             ],
             [
              0.3333333333333333,
              "#9c179e"
             ],
             [
              0.4444444444444444,
              "#bd3786"
             ],
             [
              0.5555555555555556,
              "#d8576b"
             ],
             [
              0.6666666666666666,
              "#ed7953"
             ],
             [
              0.7777777777777778,
              "#fb9f3a"
             ],
             [
              0.8888888888888888,
              "#fdca26"
             ],
             [
              1,
              "#f0f921"
             ]
            ],
            "type": "heatmap"
           }
          ],
          "heatmapgl": [
           {
            "colorbar": {
             "outlinewidth": 0,
             "ticks": ""
            },
            "colorscale": [
             [
              0,
              "#0d0887"
             ],
             [
              0.1111111111111111,
              "#46039f"
             ],
             [
              0.2222222222222222,
              "#7201a8"
             ],
             [
              0.3333333333333333,
              "#9c179e"
             ],
             [
              0.4444444444444444,
              "#bd3786"
             ],
             [
              0.5555555555555556,
              "#d8576b"
             ],
             [
              0.6666666666666666,
              "#ed7953"
             ],
             [
              0.7777777777777778,
              "#fb9f3a"
             ],
             [
              0.8888888888888888,
              "#fdca26"
             ],
             [
              1,
              "#f0f921"
             ]
            ],
            "type": "heatmapgl"
           }
          ],
          "histogram": [
           {
            "marker": {
             "colorbar": {
              "outlinewidth": 0,
              "ticks": ""
             }
            },
            "type": "histogram"
           }
          ],
          "histogram2d": [
           {
            "colorbar": {
             "outlinewidth": 0,
             "ticks": ""
            },
            "colorscale": [
             [
              0,
              "#0d0887"
             ],
             [
              0.1111111111111111,
              "#46039f"
             ],
             [
              0.2222222222222222,
              "#7201a8"
             ],
             [
              0.3333333333333333,
              "#9c179e"
             ],
             [
              0.4444444444444444,
              "#bd3786"
             ],
             [
              0.5555555555555556,
              "#d8576b"
             ],
             [
              0.6666666666666666,
              "#ed7953"
             ],
             [
              0.7777777777777778,
              "#fb9f3a"
             ],
             [
              0.8888888888888888,
              "#fdca26"
             ],
             [
              1,
              "#f0f921"
             ]
            ],
            "type": "histogram2d"
           }
          ],
          "histogram2dcontour": [
           {
            "colorbar": {
             "outlinewidth": 0,
             "ticks": ""
            },
            "colorscale": [
             [
              0,
              "#0d0887"
             ],
             [
              0.1111111111111111,
              "#46039f"
             ],
             [
              0.2222222222222222,
              "#7201a8"
             ],
             [
              0.3333333333333333,
              "#9c179e"
             ],
             [
              0.4444444444444444,
              "#bd3786"
             ],
             [
              0.5555555555555556,
              "#d8576b"
             ],
             [
              0.6666666666666666,
              "#ed7953"
             ],
             [
              0.7777777777777778,
              "#fb9f3a"
             ],
             [
              0.8888888888888888,
              "#fdca26"
             ],
             [
              1,
              "#f0f921"
             ]
            ],
            "type": "histogram2dcontour"
           }
          ],
          "mesh3d": [
           {
            "colorbar": {
             "outlinewidth": 0,
             "ticks": ""
            },
            "type": "mesh3d"
           }
          ],
          "parcoords": [
           {
            "line": {
             "colorbar": {
              "outlinewidth": 0,
              "ticks": ""
             }
            },
            "type": "parcoords"
           }
          ],
          "pie": [
           {
            "automargin": true,
            "type": "pie"
           }
          ],
          "scatter": [
           {
            "marker": {
             "colorbar": {
              "outlinewidth": 0,
              "ticks": ""
             }
            },
            "type": "scatter"
           }
          ],
          "scatter3d": [
           {
            "line": {
             "colorbar": {
              "outlinewidth": 0,
              "ticks": ""
             }
            },
            "marker": {
             "colorbar": {
              "outlinewidth": 0,
              "ticks": ""
             }
            },
            "type": "scatter3d"
           }
          ],
          "scattercarpet": [
           {
            "marker": {
             "colorbar": {
              "outlinewidth": 0,
              "ticks": ""
             }
            },
            "type": "scattercarpet"
           }
          ],
          "scattergeo": [
           {
            "marker": {
             "colorbar": {
              "outlinewidth": 0,
              "ticks": ""
             }
            },
            "type": "scattergeo"
           }
          ],
          "scattergl": [
           {
            "marker": {
             "colorbar": {
              "outlinewidth": 0,
              "ticks": ""
             }
            },
            "type": "scattergl"
           }
          ],
          "scattermapbox": [
           {
            "marker": {
             "colorbar": {
              "outlinewidth": 0,
              "ticks": ""
             }
            },
            "type": "scattermapbox"
           }
          ],
          "scatterpolar": [
           {
            "marker": {
             "colorbar": {
              "outlinewidth": 0,
              "ticks": ""
             }
            },
            "type": "scatterpolar"
           }
          ],
          "scatterpolargl": [
           {
            "marker": {
             "colorbar": {
              "outlinewidth": 0,
              "ticks": ""
             }
            },
            "type": "scatterpolargl"
           }
          ],
          "scatterternary": [
           {
            "marker": {
             "colorbar": {
              "outlinewidth": 0,
              "ticks": ""
             }
            },
            "type": "scatterternary"
           }
          ],
          "surface": [
           {
            "colorbar": {
             "outlinewidth": 0,
             "ticks": ""
            },
            "colorscale": [
             [
              0,
              "#0d0887"
             ],
             [
              0.1111111111111111,
              "#46039f"
             ],
             [
              0.2222222222222222,
              "#7201a8"
             ],
             [
              0.3333333333333333,
              "#9c179e"
             ],
             [
              0.4444444444444444,
              "#bd3786"
             ],
             [
              0.5555555555555556,
              "#d8576b"
             ],
             [
              0.6666666666666666,
              "#ed7953"
             ],
             [
              0.7777777777777778,
              "#fb9f3a"
             ],
             [
              0.8888888888888888,
              "#fdca26"
             ],
             [
              1,
              "#f0f921"
             ]
            ],
            "type": "surface"
           }
          ],
          "table": [
           {
            "cells": {
             "fill": {
              "color": "#EBF0F8"
             },
             "line": {
              "color": "white"
             }
            },
            "header": {
             "fill": {
              "color": "#C8D4E3"
             },
             "line": {
              "color": "white"
             }
            },
            "type": "table"
           }
          ]
         },
         "layout": {
          "annotationdefaults": {
           "arrowcolor": "#2a3f5f",
           "arrowhead": 0,
           "arrowwidth": 1
          },
          "coloraxis": {
           "colorbar": {
            "outlinewidth": 0,
            "ticks": ""
           }
          },
          "colorscale": {
           "diverging": [
            [
             0,
             "#8e0152"
            ],
            [
             0.1,
             "#c51b7d"
            ],
            [
             0.2,
             "#de77ae"
            ],
            [
             0.3,
             "#f1b6da"
            ],
            [
             0.4,
             "#fde0ef"
            ],
            [
             0.5,
             "#f7f7f7"
            ],
            [
             0.6,
             "#e6f5d0"
            ],
            [
             0.7,
             "#b8e186"
            ],
            [
             0.8,
             "#7fbc41"
            ],
            [
             0.9,
             "#4d9221"
            ],
            [
             1,
             "#276419"
            ]
           ],
           "sequential": [
            [
             0,
             "#0d0887"
            ],
            [
             0.1111111111111111,
             "#46039f"
            ],
            [
             0.2222222222222222,
             "#7201a8"
            ],
            [
             0.3333333333333333,
             "#9c179e"
            ],
            [
             0.4444444444444444,
             "#bd3786"
            ],
            [
             0.5555555555555556,
             "#d8576b"
            ],
            [
             0.6666666666666666,
             "#ed7953"
            ],
            [
             0.7777777777777778,
             "#fb9f3a"
            ],
            [
             0.8888888888888888,
             "#fdca26"
            ],
            [
             1,
             "#f0f921"
            ]
           ],
           "sequentialminus": [
            [
             0,
             "#0d0887"
            ],
            [
             0.1111111111111111,
             "#46039f"
            ],
            [
             0.2222222222222222,
             "#7201a8"
            ],
            [
             0.3333333333333333,
             "#9c179e"
            ],
            [
             0.4444444444444444,
             "#bd3786"
            ],
            [
             0.5555555555555556,
             "#d8576b"
            ],
            [
             0.6666666666666666,
             "#ed7953"
            ],
            [
             0.7777777777777778,
             "#fb9f3a"
            ],
            [
             0.8888888888888888,
             "#fdca26"
            ],
            [
             1,
             "#f0f921"
            ]
           ]
          },
          "colorway": [
           "#636efa",
           "#EF553B",
           "#00cc96",
           "#ab63fa",
           "#FFA15A",
           "#19d3f3",
           "#FF6692",
           "#B6E880",
           "#FF97FF",
           "#FECB52"
          ],
          "font": {
           "color": "#2a3f5f"
          },
          "geo": {
           "bgcolor": "white",
           "lakecolor": "white",
           "landcolor": "#E5ECF6",
           "showlakes": true,
           "showland": true,
           "subunitcolor": "white"
          },
          "hoverlabel": {
           "align": "left"
          },
          "hovermode": "closest",
          "mapbox": {
           "style": "light"
          },
          "paper_bgcolor": "white",
          "plot_bgcolor": "#E5ECF6",
          "polar": {
           "angularaxis": {
            "gridcolor": "white",
            "linecolor": "white",
            "ticks": ""
           },
           "bgcolor": "#E5ECF6",
           "radialaxis": {
            "gridcolor": "white",
            "linecolor": "white",
            "ticks": ""
           }
          },
          "scene": {
           "xaxis": {
            "backgroundcolor": "#E5ECF6",
            "gridcolor": "white",
            "gridwidth": 2,
            "linecolor": "white",
            "showbackground": true,
            "ticks": "",
            "zerolinecolor": "white"
           },
           "yaxis": {
            "backgroundcolor": "#E5ECF6",
            "gridcolor": "white",
            "gridwidth": 2,
            "linecolor": "white",
            "showbackground": true,
            "ticks": "",
            "zerolinecolor": "white"
           },
           "zaxis": {
            "backgroundcolor": "#E5ECF6",
            "gridcolor": "white",
            "gridwidth": 2,
            "linecolor": "white",
            "showbackground": true,
            "ticks": "",
            "zerolinecolor": "white"
           }
          },
          "shapedefaults": {
           "line": {
            "color": "#2a3f5f"
           }
          },
          "ternary": {
           "aaxis": {
            "gridcolor": "white",
            "linecolor": "white",
            "ticks": ""
           },
           "baxis": {
            "gridcolor": "white",
            "linecolor": "white",
            "ticks": ""
           },
           "bgcolor": "#E5ECF6",
           "caxis": {
            "gridcolor": "white",
            "linecolor": "white",
            "ticks": ""
           }
          },
          "title": {
           "x": 0.05
          },
          "xaxis": {
           "automargin": true,
           "gridcolor": "white",
           "linecolor": "white",
           "ticks": "",
           "title": {
            "standoff": 15
           },
           "zerolinecolor": "white",
           "zerolinewidth": 2
          },
          "yaxis": {
           "automargin": true,
           "gridcolor": "white",
           "linecolor": "white",
           "ticks": "",
           "title": {
            "standoff": 15
           },
           "zerolinecolor": "white",
           "zerolinewidth": 2
          }
         }
        },
        "title": {
         "font": {
          "color": "#4D5663"
         }
        },
        "xaxis": {
         "gridcolor": "#E1E5ED",
         "showgrid": true,
         "tickfont": {
          "color": "#4D5663"
         },
         "title": {
          "font": {
           "color": "#4D5663"
          },
          "text": ""
         },
         "zerolinecolor": "#E1E5ED"
        },
        "yaxis": {
         "gridcolor": "#E1E5ED",
         "showgrid": true,
         "tickfont": {
          "color": "#4D5663"
         },
         "title": {
          "font": {
           "color": "#4D5663"
          },
          "text": ""
         },
         "zerolinecolor": "#E1E5ED"
        }
       }
      },
      "text/html": [
       "<div>\n",
       "        \n",
       "        \n",
       "            <div id=\"49d9c5de-5aee-466f-9093-697d94178460\" class=\"plotly-graph-div\" style=\"height:525px; width:100%;\"></div>\n",
       "            <script type=\"text/javascript\">\n",
       "                require([\"plotly\"], function(Plotly) {\n",
       "                    window.PLOTLYENV=window.PLOTLYENV || {};\n",
       "                    window.PLOTLYENV.BASE_URL='https://plot.ly';\n",
       "                    \n",
       "                if (document.getElementById(\"49d9c5de-5aee-466f-9093-697d94178460\")) {\n",
       "                    Plotly.newPlot(\n",
       "                        '49d9c5de-5aee-466f-9093-697d94178460',\n",
       "                        [{\"boxpoints\": false, \"line\": {\"width\": 1.3}, \"marker\": {\"color\": \"rgba(255, 153, 51, 1.0)\"}, \"name\": \"A\", \"orientation\": \"v\", \"type\": \"box\", \"y\": [-0.6070225586537845, -1.8638739423338426, -0.02945872276840593, -1.301291297310065, 0.48084833474018185, 0.7628548206270173, -0.28843164746247685, 0.6019043240278631, -0.8763709987921026, 1.702802294665911, 0.03894666378491089, -0.391247915748716, -0.3232684791801891, 0.5555540390983371, -0.5833873983870684, -0.0844703205455899, -0.5139830214610452, -0.9874331374104602, 1.3231224108983104, 1.3852294994314818, 0.495802931458785, 1.5044941738291178, 2.013539747855578, -0.9350456661961715, -0.07199477165247954, -0.012588234544470622, 1.0286702624831179, -0.30675308423320574, -2.0813241088469705, 0.9113534548782632, -1.1821295689927516, 0.39712861820350376, 0.32421117523347154, -1.388467161393341, -1.8196690472248764, 1.2781438676085672, 1.1244717635481953, 2.6878665336118686, -1.6109429503383526, -0.3309381064713909, 0.1012450075722931, -0.6927193028799976, -1.7779565769379178, -0.4937356719987772, -0.9214348954348198, 0.04960273216795757, -2.6493834985687386, -0.3863153542191854, -0.5203504684321614, 0.5977880177234898, 1.5935857254212724, 0.30130947631160576, -0.24209057064901562, 2.393932462989073, 0.48453201427412146, 1.1471246976281726, 1.2228406556961817, 1.0816068853591136, -0.7424208071880561, 0.7861844219733373, 0.7498272838099621, -0.025596103412613782, -0.8244905811186303, 0.6800258715624917, 0.5426539687452233, -0.3376995252397134, 0.4782136125101678, 1.61174979268537, -0.009447379791987958, 2.0385534852770575, 2.017903156882396, -0.04108963367107593, -0.37405806660701296, 1.6557536077103534, -0.9180687240107729, -1.3509762396010478, -1.3245247370933935, 0.1883981543352357, -1.007096270807894, 0.112857625621616, -0.03716265055480332, -1.3047337291461698, -1.8938223768162143, -0.05915120037142549, -0.022261006449155404, -2.2257467886082813, 0.299708338942967, -0.11551816567653965, -0.22224470630933316, 1.8203093144170124, -0.9809281853994635, 0.8258301853601936, 1.747369363537277, 0.4451763013778281, 0.8233981834134183, -0.37937479326251894, -1.4536121716892259, 1.1622792298167708, 0.2870601492366928, -1.3293818887641389]}, {\"boxpoints\": false, \"line\": {\"width\": 1.3}, \"marker\": {\"color\": \"rgba(55, 128, 191, 1.0)\"}, \"name\": \"B\", \"orientation\": \"v\", \"type\": \"box\", \"y\": [0.39442564922170886, 1.1545382861670683, -0.3981929049509391, 1.0607053367391788, -1.0927982071594042, 0.8938581864801937, 0.10953427785913276, 1.100603769799354, -0.037145165173287524, 0.820385609335391, 0.1757448574089021, -1.4281471214410326, 1.3192507531473423, 0.591642670955045, 0.5229932990718201, 0.13605660011946183, -0.2100106055939634, -0.5700547463822505, -0.3323261428045018, 1.4377556274630496, 0.14413892892924288, 0.05300178117926253, 0.15897168480049687, -0.4642246356303038, -0.062162694238745014, -0.404997912384452, -0.7201482218638331, 2.023568952952069, -1.6214853359956733, 0.542085407732597, 0.5827569941618997, 0.3776319435990386, 0.7860509953709055, -0.5428417186393626, -0.6218017304368952, -0.01711816060498298, 0.8909241978978917, -1.1794232525669857, -0.23428574473243066, 0.6223056989779824, -0.13862316143162234, 1.3989648648043242, -1.2881252741130682, 0.7279631578004603, -0.048807113398033994, 1.0394435684890488, -3.3911593703715184, -0.524115543518746, 1.9491071278041052, 0.07942048576898976, -0.6641974846295369, -1.0352913027794661, -0.6683730021861155, -2.0801704608528366, -0.6236871291314133, 0.5545284284650903, 0.09672761646458744, -0.957367126309057, -1.3015723703851805, 0.529996087442483, 0.36037265455029355, -0.825360660875962, 1.6074276743204716, -2.125383315024735, 0.2729482690721516, 0.2648116479946539, -0.6484000338053134, -0.8529199767742717, -0.46666971985268213, -0.6044278288068219, 0.6411021729993239, 1.607115690297109, 0.642969908406056, 3.4880296066713408, 1.5160479793033188, 0.21650854966375002, 1.1058470153140674, 0.9089965059567509, -0.9594932219442222, -0.5825050989047242, -0.006558177721396607, 1.2314458312022174, -0.445862995858089, 0.32692197599067874, -0.16732624075897054, -0.06631960996464281, -0.5567444312996315, -1.2697328105510748, -0.6461202658830911, -1.6486385015803198, 0.8697462032738772, 1.071978584989495, 1.0115715290572223, 0.688291257034643, -0.4446104637134038, -1.370232127902445, 0.711851270271103, -1.4409175804017305, 0.17758469504751084, -0.3488266307639724]}, {\"boxpoints\": false, \"line\": {\"width\": 1.3}, \"marker\": {\"color\": \"rgba(50, 171, 96, 1.0)\"}, \"name\": \"C\", \"orientation\": \"v\", \"type\": \"box\", \"y\": [0.5786488658973388, -1.3779481177244952, 0.12365177369173536, -1.116511132468932, 0.8058094735407533, -0.40434082821277284, 1.0225385803330087, -0.6470938916080935, -0.3508677486533792, 2.5013226025963746, -1.5259835252824552, -0.9829311652920717, 0.23493446006915572, -0.9037615413233684, -1.3141707547165868, -1.5199657157915831, -0.7626795758174268, 1.6073113400335521, 0.3065045812678438, 0.7670645741240087, -0.44191752142816326, -1.3298535843393218, -1.135700295184527, 0.9297115141063347, 0.6865778093810669, 0.2906984631345525, -0.9865642416513182, 0.7390830087985069, 0.5873820481676423, -1.0539583164959976, 0.5414419704915575, -0.11185761505217436, -0.07695780645157449, -2.1646462442630616, 1.1851782283016816, -1.8572626824506342, 0.44751835654226163, 0.2377385201511963, 0.0977471498017824, -0.346706646408973, 0.3288034699452686, -0.241554375975574, 0.23406958233434508, -1.2932583043575332, -0.0753563250462829, 0.9227704330212433, -0.9932007883861261, 0.8402493065090569, -1.7071908207317257, 0.4353964002156085, 0.8810442345722524, -1.2204230274097805, 0.9178683103189221, -0.5616608195969544, -1.4997595699840784, -0.6205171225168257, 1.078060164804285, 1.0340481232295156, -0.7664258411313779, 0.6926338816275318, 1.8483024115450608, -0.9381821206856582, -0.31440988974655065, -0.5299400185069904, 0.5028693025293436, -0.697868894664978, 0.02223697002983274, 0.77557394882186, 0.8422756027790126, 1.0019480005664712, -0.7245614241946116, -0.20870645294212087, -0.11179174927504838, -0.25709999871760897, -1.202771442521758, 0.17460517244494234, -3.556830917028255, 1.959280308579902, -0.20721381467702987, -0.004113041471365491, 1.0467020240597704, -0.6563924493292402, -1.2702933876925069, -0.44861523437505996, 0.23141073624629255, 0.28912448864058354, -2.64152539481277, -0.37655621404335426, -0.9278540083113972, 0.021633252663627364, 0.4389105377440285, -0.316289308114846, -1.1468826225189952, -1.157161485137814, 0.7742523737057712, 1.0009994401994993, 0.21047062378348677, -0.4760958934500705, -0.6458907785383571, -0.35137750023636594]}, {\"boxpoints\": false, \"line\": {\"width\": 1.3}, \"marker\": {\"color\": \"rgba(128, 0, 128, 1.0)\"}, \"name\": \"D\", \"orientation\": \"v\", \"type\": \"box\", \"y\": [-0.7710707494557274, 0.9084215962844299, 0.14867156693112518, 1.091242440442385, -0.38136791739286025, 2.6551377942985472, -0.542106532007221, 0.0009897898929007354, 1.025732698451324, 1.0917364537662415, -0.06579851584724807, 1.8484432768417098, -0.3399947465039237, -0.6562755405065582, 0.9859146265234778, 0.9181428936696494, 0.560453175862377, 0.6173219524497757, -0.4176234372666162, -0.08616974832048305, -0.006352829478318503, 0.5136507964107583, 0.15464554983258477, -0.4030269739726689, 0.3296061099699754, -0.4648081650700848, -1.1636454990471916, 0.8167962531838402, 1.3782602913496587, -0.8339337883855852, 0.866982803885244, 0.6456966292631111, -1.65519664670503, -0.34483808667429844, 1.1519480185389928, -0.42603916535007497, -1.3876296020701955, 0.438502934561104, -0.34317189887749944, -0.2582968179968848, -1.6196419672168794, -0.32586548630627404, 0.490437955843003, -0.016853814769800884, 0.5704102851277636, -0.020673325863221778, 1.4100771515518467, 0.8309463411013209, 1.3443492512121447, -1.8857520766945424, -0.09056980293285732, 0.09138694227565757, 1.3636878725062827, -0.2660602412255175, 1.646259910223738, 1.8005971402578238, -1.210293685648795, -0.4522423782105368, 0.4567476600502909, 1.3930048823179084, 0.2072223848026172, 0.6332124968747784, -1.3880857965038995, 1.987635207109135, -0.992693168002227, -0.5082269973015238, 0.4403931715663567, -1.4866772715183176, 0.6426683638879613, 0.6778864417024036, 0.2211458414525818, -0.029785991329424652, 0.6604793649030712, -1.3172685329935305, 0.061259598483134725, -0.40628739096693317, -1.0786117555871804, -2.459949891065606, 0.058595706402560455, 0.5166845977099281, 0.4436605818850999, 0.9127365293860776, -0.9936011302758352, -1.0284535043950807, 0.7193874352238564, 0.19833013706556346, 0.041628183160987306, 0.4541679834133369, -1.5602230041741998, -0.772172041615176, 0.15727133827918466, 0.780274996711184, -1.3290121829172736, -0.3476287149663292, 0.5469591287599925, -0.12694867546220384, 0.24056843026883892, -2.7646992768771086, 1.0658530548801204, 0.14202684939502938]}],\n",
       "                        {\"legend\": {\"bgcolor\": \"#F5F6F9\", \"font\": {\"color\": \"#4D5663\"}}, \"paper_bgcolor\": \"#F5F6F9\", \"plot_bgcolor\": \"#F5F6F9\", \"template\": {\"data\": {\"bar\": [{\"error_x\": {\"color\": \"#2a3f5f\"}, \"error_y\": {\"color\": \"#2a3f5f\"}, \"marker\": {\"line\": {\"color\": \"#E5ECF6\", \"width\": 0.5}}, \"type\": \"bar\"}], \"barpolar\": [{\"marker\": {\"line\": {\"color\": \"#E5ECF6\", \"width\": 0.5}}, \"type\": \"barpolar\"}], \"carpet\": [{\"aaxis\": {\"endlinecolor\": \"#2a3f5f\", \"gridcolor\": \"white\", \"linecolor\": \"white\", \"minorgridcolor\": \"white\", \"startlinecolor\": \"#2a3f5f\"}, \"baxis\": {\"endlinecolor\": \"#2a3f5f\", \"gridcolor\": \"white\", \"linecolor\": \"white\", \"minorgridcolor\": \"white\", \"startlinecolor\": \"#2a3f5f\"}, \"type\": \"carpet\"}], \"choropleth\": [{\"colorbar\": {\"outlinewidth\": 0, \"ticks\": \"\"}, \"type\": \"choropleth\"}], \"contour\": [{\"colorbar\": {\"outlinewidth\": 0, \"ticks\": \"\"}, \"colorscale\": [[0.0, \"#0d0887\"], [0.1111111111111111, \"#46039f\"], [0.2222222222222222, \"#7201a8\"], [0.3333333333333333, \"#9c179e\"], [0.4444444444444444, \"#bd3786\"], [0.5555555555555556, \"#d8576b\"], [0.6666666666666666, \"#ed7953\"], [0.7777777777777778, \"#fb9f3a\"], [0.8888888888888888, \"#fdca26\"], [1.0, \"#f0f921\"]], \"type\": \"contour\"}], \"contourcarpet\": [{\"colorbar\": {\"outlinewidth\": 0, \"ticks\": \"\"}, \"type\": \"contourcarpet\"}], \"heatmap\": [{\"colorbar\": {\"outlinewidth\": 0, \"ticks\": \"\"}, \"colorscale\": [[0.0, \"#0d0887\"], [0.1111111111111111, \"#46039f\"], [0.2222222222222222, \"#7201a8\"], [0.3333333333333333, \"#9c179e\"], [0.4444444444444444, \"#bd3786\"], [0.5555555555555556, \"#d8576b\"], [0.6666666666666666, \"#ed7953\"], [0.7777777777777778, \"#fb9f3a\"], [0.8888888888888888, \"#fdca26\"], [1.0, \"#f0f921\"]], \"type\": \"heatmap\"}], \"heatmapgl\": [{\"colorbar\": {\"outlinewidth\": 0, \"ticks\": \"\"}, \"colorscale\": [[0.0, \"#0d0887\"], [0.1111111111111111, \"#46039f\"], [0.2222222222222222, \"#7201a8\"], [0.3333333333333333, \"#9c179e\"], [0.4444444444444444, \"#bd3786\"], [0.5555555555555556, \"#d8576b\"], [0.6666666666666666, \"#ed7953\"], [0.7777777777777778, \"#fb9f3a\"], [0.8888888888888888, \"#fdca26\"], [1.0, \"#f0f921\"]], \"type\": \"heatmapgl\"}], \"histogram\": [{\"marker\": {\"colorbar\": {\"outlinewidth\": 0, \"ticks\": \"\"}}, \"type\": \"histogram\"}], \"histogram2d\": [{\"colorbar\": {\"outlinewidth\": 0, \"ticks\": \"\"}, \"colorscale\": [[0.0, \"#0d0887\"], [0.1111111111111111, \"#46039f\"], [0.2222222222222222, \"#7201a8\"], [0.3333333333333333, \"#9c179e\"], [0.4444444444444444, \"#bd3786\"], [0.5555555555555556, \"#d8576b\"], [0.6666666666666666, \"#ed7953\"], [0.7777777777777778, \"#fb9f3a\"], [0.8888888888888888, \"#fdca26\"], [1.0, \"#f0f921\"]], \"type\": \"histogram2d\"}], \"histogram2dcontour\": [{\"colorbar\": {\"outlinewidth\": 0, \"ticks\": \"\"}, \"colorscale\": [[0.0, \"#0d0887\"], [0.1111111111111111, \"#46039f\"], [0.2222222222222222, \"#7201a8\"], [0.3333333333333333, \"#9c179e\"], [0.4444444444444444, \"#bd3786\"], [0.5555555555555556, \"#d8576b\"], [0.6666666666666666, \"#ed7953\"], [0.7777777777777778, \"#fb9f3a\"], [0.8888888888888888, \"#fdca26\"], [1.0, \"#f0f921\"]], \"type\": \"histogram2dcontour\"}], \"mesh3d\": [{\"colorbar\": {\"outlinewidth\": 0, \"ticks\": \"\"}, \"type\": \"mesh3d\"}], \"parcoords\": [{\"line\": {\"colorbar\": {\"outlinewidth\": 0, \"ticks\": \"\"}}, \"type\": \"parcoords\"}], \"pie\": [{\"automargin\": true, \"type\": \"pie\"}], \"scatter\": [{\"marker\": {\"colorbar\": {\"outlinewidth\": 0, \"ticks\": \"\"}}, \"type\": \"scatter\"}], \"scatter3d\": [{\"line\": {\"colorbar\": {\"outlinewidth\": 0, \"ticks\": \"\"}}, \"marker\": {\"colorbar\": {\"outlinewidth\": 0, \"ticks\": \"\"}}, \"type\": \"scatter3d\"}], \"scattercarpet\": [{\"marker\": {\"colorbar\": {\"outlinewidth\": 0, \"ticks\": \"\"}}, \"type\": \"scattercarpet\"}], \"scattergeo\": [{\"marker\": {\"colorbar\": {\"outlinewidth\": 0, \"ticks\": \"\"}}, \"type\": \"scattergeo\"}], \"scattergl\": [{\"marker\": {\"colorbar\": {\"outlinewidth\": 0, \"ticks\": \"\"}}, \"type\": \"scattergl\"}], \"scattermapbox\": [{\"marker\": {\"colorbar\": {\"outlinewidth\": 0, \"ticks\": \"\"}}, \"type\": \"scattermapbox\"}], \"scatterpolar\": [{\"marker\": {\"colorbar\": {\"outlinewidth\": 0, \"ticks\": \"\"}}, \"type\": \"scatterpolar\"}], \"scatterpolargl\": [{\"marker\": {\"colorbar\": {\"outlinewidth\": 0, \"ticks\": \"\"}}, \"type\": \"scatterpolargl\"}], \"scatterternary\": [{\"marker\": {\"colorbar\": {\"outlinewidth\": 0, \"ticks\": \"\"}}, \"type\": \"scatterternary\"}], \"surface\": [{\"colorbar\": {\"outlinewidth\": 0, \"ticks\": \"\"}, \"colorscale\": [[0.0, \"#0d0887\"], [0.1111111111111111, \"#46039f\"], [0.2222222222222222, \"#7201a8\"], [0.3333333333333333, \"#9c179e\"], [0.4444444444444444, \"#bd3786\"], [0.5555555555555556, \"#d8576b\"], [0.6666666666666666, \"#ed7953\"], [0.7777777777777778, \"#fb9f3a\"], [0.8888888888888888, \"#fdca26\"], [1.0, \"#f0f921\"]], \"type\": \"surface\"}], \"table\": [{\"cells\": {\"fill\": {\"color\": \"#EBF0F8\"}, \"line\": {\"color\": \"white\"}}, \"header\": {\"fill\": {\"color\": \"#C8D4E3\"}, \"line\": {\"color\": \"white\"}}, \"type\": \"table\"}]}, \"layout\": {\"annotationdefaults\": {\"arrowcolor\": \"#2a3f5f\", \"arrowhead\": 0, \"arrowwidth\": 1}, \"coloraxis\": {\"colorbar\": {\"outlinewidth\": 0, \"ticks\": \"\"}}, \"colorscale\": {\"diverging\": [[0, \"#8e0152\"], [0.1, \"#c51b7d\"], [0.2, \"#de77ae\"], [0.3, \"#f1b6da\"], [0.4, \"#fde0ef\"], [0.5, \"#f7f7f7\"], [0.6, \"#e6f5d0\"], [0.7, \"#b8e186\"], [0.8, \"#7fbc41\"], [0.9, \"#4d9221\"], [1, \"#276419\"]], \"sequential\": [[0.0, \"#0d0887\"], [0.1111111111111111, \"#46039f\"], [0.2222222222222222, \"#7201a8\"], [0.3333333333333333, \"#9c179e\"], [0.4444444444444444, \"#bd3786\"], [0.5555555555555556, \"#d8576b\"], [0.6666666666666666, \"#ed7953\"], [0.7777777777777778, \"#fb9f3a\"], [0.8888888888888888, \"#fdca26\"], [1.0, \"#f0f921\"]], \"sequentialminus\": [[0.0, \"#0d0887\"], [0.1111111111111111, \"#46039f\"], [0.2222222222222222, \"#7201a8\"], [0.3333333333333333, \"#9c179e\"], [0.4444444444444444, \"#bd3786\"], [0.5555555555555556, \"#d8576b\"], [0.6666666666666666, \"#ed7953\"], [0.7777777777777778, \"#fb9f3a\"], [0.8888888888888888, \"#fdca26\"], [1.0, \"#f0f921\"]]}, \"colorway\": [\"#636efa\", \"#EF553B\", \"#00cc96\", \"#ab63fa\", \"#FFA15A\", \"#19d3f3\", \"#FF6692\", \"#B6E880\", \"#FF97FF\", \"#FECB52\"], \"font\": {\"color\": \"#2a3f5f\"}, \"geo\": {\"bgcolor\": \"white\", \"lakecolor\": \"white\", \"landcolor\": \"#E5ECF6\", \"showlakes\": true, \"showland\": true, \"subunitcolor\": \"white\"}, \"hoverlabel\": {\"align\": \"left\"}, \"hovermode\": \"closest\", \"mapbox\": {\"style\": \"light\"}, \"paper_bgcolor\": \"white\", \"plot_bgcolor\": \"#E5ECF6\", \"polar\": {\"angularaxis\": {\"gridcolor\": \"white\", \"linecolor\": \"white\", \"ticks\": \"\"}, \"bgcolor\": \"#E5ECF6\", \"radialaxis\": {\"gridcolor\": \"white\", \"linecolor\": \"white\", \"ticks\": \"\"}}, \"scene\": {\"xaxis\": {\"backgroundcolor\": \"#E5ECF6\", \"gridcolor\": \"white\", \"gridwidth\": 2, \"linecolor\": \"white\", \"showbackground\": true, \"ticks\": \"\", \"zerolinecolor\": \"white\"}, \"yaxis\": {\"backgroundcolor\": \"#E5ECF6\", \"gridcolor\": \"white\", \"gridwidth\": 2, \"linecolor\": \"white\", \"showbackground\": true, \"ticks\": \"\", \"zerolinecolor\": \"white\"}, \"zaxis\": {\"backgroundcolor\": \"#E5ECF6\", \"gridcolor\": \"white\", \"gridwidth\": 2, \"linecolor\": \"white\", \"showbackground\": true, \"ticks\": \"\", \"zerolinecolor\": \"white\"}}, \"shapedefaults\": {\"line\": {\"color\": \"#2a3f5f\"}}, \"ternary\": {\"aaxis\": {\"gridcolor\": \"white\", \"linecolor\": \"white\", \"ticks\": \"\"}, \"baxis\": {\"gridcolor\": \"white\", \"linecolor\": \"white\", \"ticks\": \"\"}, \"bgcolor\": \"#E5ECF6\", \"caxis\": {\"gridcolor\": \"white\", \"linecolor\": \"white\", \"ticks\": \"\"}}, \"title\": {\"x\": 0.05}, \"xaxis\": {\"automargin\": true, \"gridcolor\": \"white\", \"linecolor\": \"white\", \"ticks\": \"\", \"title\": {\"standoff\": 15}, \"zerolinecolor\": \"white\", \"zerolinewidth\": 2}, \"yaxis\": {\"automargin\": true, \"gridcolor\": \"white\", \"linecolor\": \"white\", \"ticks\": \"\", \"title\": {\"standoff\": 15}, \"zerolinecolor\": \"white\", \"zerolinewidth\": 2}}}, \"title\": {\"font\": {\"color\": \"#4D5663\"}}, \"xaxis\": {\"gridcolor\": \"#E1E5ED\", \"showgrid\": true, \"tickfont\": {\"color\": \"#4D5663\"}, \"title\": {\"font\": {\"color\": \"#4D5663\"}, \"text\": \"\"}, \"zerolinecolor\": \"#E1E5ED\"}, \"yaxis\": {\"gridcolor\": \"#E1E5ED\", \"showgrid\": true, \"tickfont\": {\"color\": \"#4D5663\"}, \"title\": {\"font\": {\"color\": \"#4D5663\"}, \"text\": \"\"}, \"zerolinecolor\": \"#E1E5ED\"}},\n",
       "                        {\"showLink\": true, \"linkText\": \"Export to plot.ly\", \"plotlyServerURL\": \"https://plot.ly\", \"responsive\": true}\n",
       "                    ).then(function(){\n",
       "                            \n",
       "var gd = document.getElementById('49d9c5de-5aee-466f-9093-697d94178460');\n",
       "var x = new MutationObserver(function (mutations, observer) {{\n",
       "        var display = window.getComputedStyle(gd).display;\n",
       "        if (!display || display === 'none') {{\n",
       "            console.log([gd, 'removed!']);\n",
       "            Plotly.purge(gd);\n",
       "            observer.disconnect();\n",
       "        }}\n",
       "}});\n",
       "\n",
       "// Listen for the removal of the full notebook cells\n",
       "var notebookContainer = gd.closest('#notebook-container');\n",
       "if (notebookContainer) {{\n",
       "    x.observe(notebookContainer, {childList: true});\n",
       "}}\n",
       "\n",
       "// Listen for the clearing of the current output cell\n",
       "var outputEl = gd.closest('.output');\n",
       "if (outputEl) {{\n",
       "    x.observe(outputEl, {childList: true});\n",
       "}}\n",
       "\n",
       "                        })\n",
       "                };\n",
       "                });\n",
       "            </script>\n",
       "        </div>"
      ]
     },
     "metadata": {},
     "output_type": "display_data"
    }
   ],
   "source": [
    "df.iplot(kind=\"box\")"
   ]
  },
  {
   "cell_type": "code",
   "execution_count": 37,
   "metadata": {},
   "outputs": [],
   "source": [
    "df3 = pd.DataFrame({\"x\":[1,2,3,4,5],\"y\":[10,20,30,20,10],\"z\":[500,400,300,200,100]})"
   ]
  },
  {
   "cell_type": "code",
   "execution_count": 40,
   "metadata": {},
   "outputs": [
    {
     "data": {
      "text/html": [
       "<div>\n",
       "<style scoped>\n",
       "    .dataframe tbody tr th:only-of-type {\n",
       "        vertical-align: middle;\n",
       "    }\n",
       "\n",
       "    .dataframe tbody tr th {\n",
       "        vertical-align: top;\n",
       "    }\n",
       "\n",
       "    .dataframe thead th {\n",
       "        text-align: right;\n",
       "    }\n",
       "</style>\n",
       "<table border=\"1\" class=\"dataframe\">\n",
       "  <thead>\n",
       "    <tr style=\"text-align: right;\">\n",
       "      <th></th>\n",
       "      <th>x</th>\n",
       "      <th>y</th>\n",
       "      <th>z</th>\n",
       "    </tr>\n",
       "  </thead>\n",
       "  <tbody>\n",
       "    <tr>\n",
       "      <td>0</td>\n",
       "      <td>1</td>\n",
       "      <td>10</td>\n",
       "      <td>500</td>\n",
       "    </tr>\n",
       "    <tr>\n",
       "      <td>1</td>\n",
       "      <td>2</td>\n",
       "      <td>20</td>\n",
       "      <td>400</td>\n",
       "    </tr>\n",
       "    <tr>\n",
       "      <td>2</td>\n",
       "      <td>3</td>\n",
       "      <td>30</td>\n",
       "      <td>300</td>\n",
       "    </tr>\n",
       "    <tr>\n",
       "      <td>3</td>\n",
       "      <td>4</td>\n",
       "      <td>20</td>\n",
       "      <td>200</td>\n",
       "    </tr>\n",
       "    <tr>\n",
       "      <td>4</td>\n",
       "      <td>5</td>\n",
       "      <td>10</td>\n",
       "      <td>100</td>\n",
       "    </tr>\n",
       "  </tbody>\n",
       "</table>\n",
       "</div>"
      ],
      "text/plain": [
       "   x   y    z\n",
       "0  1  10  500\n",
       "1  2  20  400\n",
       "2  3  30  300\n",
       "3  4  20  200\n",
       "4  5  10  100"
      ]
     },
     "execution_count": 40,
     "metadata": {},
     "output_type": "execute_result"
    }
   ],
   "source": [
    "df3"
   ]
  },
  {
   "cell_type": "code",
   "execution_count": 41,
   "metadata": {},
   "outputs": [
    {
     "data": {
      "application/vnd.plotly.v1+json": {
       "config": {
        "linkText": "Export to plot.ly",
        "plotlyServerURL": "https://plot.ly",
        "showLink": true
       },
       "data": [
        {
         "colorscale": [
          [
           0,
           "rgb(255, 153, 51)"
          ],
          [
           0.1111111111111111,
           "rgb(55, 128, 191)"
          ],
          [
           0.2222222222222222,
           "rgb(50, 171, 96)"
          ],
          [
           0.3333333333333333,
           "rgb(128, 0, 128)"
          ],
          [
           0.4444444444444444,
           "rgb(219, 64, 82)"
          ],
          [
           0.5555555555555556,
           "rgb(0, 128, 128)"
          ],
          [
           0.6666666666666666,
           "rgb(255, 255, 51)"
          ],
          [
           0.7777777777777778,
           "rgb(128, 128, 0)"
          ],
          [
           0.8888888888888888,
           "rgb(251, 128, 114)"
          ],
          [
           1,
           "rgb(128, 177, 211)"
          ]
         ],
         "type": "surface",
         "x": [
          0,
          1,
          2,
          3,
          4
         ],
         "y": [
          "x",
          "y",
          "z"
         ],
         "z": [
          [
           1,
           2,
           3,
           4,
           5
          ],
          [
           10,
           20,
           30,
           20,
           10
          ],
          [
           500,
           400,
           300,
           200,
           100
          ]
         ]
        }
       ],
       "layout": {
        "legend": {
         "bgcolor": "#F5F6F9",
         "font": {
          "color": "#4D5663"
         }
        },
        "paper_bgcolor": "#F5F6F9",
        "plot_bgcolor": "#F5F6F9",
        "template": {
         "data": {
          "bar": [
           {
            "error_x": {
             "color": "#2a3f5f"
            },
            "error_y": {
             "color": "#2a3f5f"
            },
            "marker": {
             "line": {
              "color": "#E5ECF6",
              "width": 0.5
             }
            },
            "type": "bar"
           }
          ],
          "barpolar": [
           {
            "marker": {
             "line": {
              "color": "#E5ECF6",
              "width": 0.5
             }
            },
            "type": "barpolar"
           }
          ],
          "carpet": [
           {
            "aaxis": {
             "endlinecolor": "#2a3f5f",
             "gridcolor": "white",
             "linecolor": "white",
             "minorgridcolor": "white",
             "startlinecolor": "#2a3f5f"
            },
            "baxis": {
             "endlinecolor": "#2a3f5f",
             "gridcolor": "white",
             "linecolor": "white",
             "minorgridcolor": "white",
             "startlinecolor": "#2a3f5f"
            },
            "type": "carpet"
           }
          ],
          "choropleth": [
           {
            "colorbar": {
             "outlinewidth": 0,
             "ticks": ""
            },
            "type": "choropleth"
           }
          ],
          "contour": [
           {
            "colorbar": {
             "outlinewidth": 0,
             "ticks": ""
            },
            "colorscale": [
             [
              0,
              "#0d0887"
             ],
             [
              0.1111111111111111,
              "#46039f"
             ],
             [
              0.2222222222222222,
              "#7201a8"
             ],
             [
              0.3333333333333333,
              "#9c179e"
             ],
             [
              0.4444444444444444,
              "#bd3786"
             ],
             [
              0.5555555555555556,
              "#d8576b"
             ],
             [
              0.6666666666666666,
              "#ed7953"
             ],
             [
              0.7777777777777778,
              "#fb9f3a"
             ],
             [
              0.8888888888888888,
              "#fdca26"
             ],
             [
              1,
              "#f0f921"
             ]
            ],
            "type": "contour"
           }
          ],
          "contourcarpet": [
           {
            "colorbar": {
             "outlinewidth": 0,
             "ticks": ""
            },
            "type": "contourcarpet"
           }
          ],
          "heatmap": [
           {
            "colorbar": {
             "outlinewidth": 0,
             "ticks": ""
            },
            "colorscale": [
             [
              0,
              "#0d0887"
             ],
             [
              0.1111111111111111,
              "#46039f"
             ],
             [
              0.2222222222222222,
              "#7201a8"
             ],
             [
              0.3333333333333333,
              "#9c179e"
             ],
             [
              0.4444444444444444,
              "#bd3786"
             ],
             [
              0.5555555555555556,
              "#d8576b"
             ],
             [
              0.6666666666666666,
              "#ed7953"
             ],
             [
              0.7777777777777778,
              "#fb9f3a"
             ],
             [
              0.8888888888888888,
              "#fdca26"
             ],
             [
              1,
              "#f0f921"
             ]
            ],
            "type": "heatmap"
           }
          ],
          "heatmapgl": [
           {
            "colorbar": {
             "outlinewidth": 0,
             "ticks": ""
            },
            "colorscale": [
             [
              0,
              "#0d0887"
             ],
             [
              0.1111111111111111,
              "#46039f"
             ],
             [
              0.2222222222222222,
              "#7201a8"
             ],
             [
              0.3333333333333333,
              "#9c179e"
             ],
             [
              0.4444444444444444,
              "#bd3786"
             ],
             [
              0.5555555555555556,
              "#d8576b"
             ],
             [
              0.6666666666666666,
              "#ed7953"
             ],
             [
              0.7777777777777778,
              "#fb9f3a"
             ],
             [
              0.8888888888888888,
              "#fdca26"
             ],
             [
              1,
              "#f0f921"
             ]
            ],
            "type": "heatmapgl"
           }
          ],
          "histogram": [
           {
            "marker": {
             "colorbar": {
              "outlinewidth": 0,
              "ticks": ""
             }
            },
            "type": "histogram"
           }
          ],
          "histogram2d": [
           {
            "colorbar": {
             "outlinewidth": 0,
             "ticks": ""
            },
            "colorscale": [
             [
              0,
              "#0d0887"
             ],
             [
              0.1111111111111111,
              "#46039f"
             ],
             [
              0.2222222222222222,
              "#7201a8"
             ],
             [
              0.3333333333333333,
              "#9c179e"
             ],
             [
              0.4444444444444444,
              "#bd3786"
             ],
             [
              0.5555555555555556,
              "#d8576b"
             ],
             [
              0.6666666666666666,
              "#ed7953"
             ],
             [
              0.7777777777777778,
              "#fb9f3a"
             ],
             [
              0.8888888888888888,
              "#fdca26"
             ],
             [
              1,
              "#f0f921"
             ]
            ],
            "type": "histogram2d"
           }
          ],
          "histogram2dcontour": [
           {
            "colorbar": {
             "outlinewidth": 0,
             "ticks": ""
            },
            "colorscale": [
             [
              0,
              "#0d0887"
             ],
             [
              0.1111111111111111,
              "#46039f"
             ],
             [
              0.2222222222222222,
              "#7201a8"
             ],
             [
              0.3333333333333333,
              "#9c179e"
             ],
             [
              0.4444444444444444,
              "#bd3786"
             ],
             [
              0.5555555555555556,
              "#d8576b"
             ],
             [
              0.6666666666666666,
              "#ed7953"
             ],
             [
              0.7777777777777778,
              "#fb9f3a"
             ],
             [
              0.8888888888888888,
              "#fdca26"
             ],
             [
              1,
              "#f0f921"
             ]
            ],
            "type": "histogram2dcontour"
           }
          ],
          "mesh3d": [
           {
            "colorbar": {
             "outlinewidth": 0,
             "ticks": ""
            },
            "type": "mesh3d"
           }
          ],
          "parcoords": [
           {
            "line": {
             "colorbar": {
              "outlinewidth": 0,
              "ticks": ""
             }
            },
            "type": "parcoords"
           }
          ],
          "pie": [
           {
            "automargin": true,
            "type": "pie"
           }
          ],
          "scatter": [
           {
            "marker": {
             "colorbar": {
              "outlinewidth": 0,
              "ticks": ""
             }
            },
            "type": "scatter"
           }
          ],
          "scatter3d": [
           {
            "line": {
             "colorbar": {
              "outlinewidth": 0,
              "ticks": ""
             }
            },
            "marker": {
             "colorbar": {
              "outlinewidth": 0,
              "ticks": ""
             }
            },
            "type": "scatter3d"
           }
          ],
          "scattercarpet": [
           {
            "marker": {
             "colorbar": {
              "outlinewidth": 0,
              "ticks": ""
             }
            },
            "type": "scattercarpet"
           }
          ],
          "scattergeo": [
           {
            "marker": {
             "colorbar": {
              "outlinewidth": 0,
              "ticks": ""
             }
            },
            "type": "scattergeo"
           }
          ],
          "scattergl": [
           {
            "marker": {
             "colorbar": {
              "outlinewidth": 0,
              "ticks": ""
             }
            },
            "type": "scattergl"
           }
          ],
          "scattermapbox": [
           {
            "marker": {
             "colorbar": {
              "outlinewidth": 0,
              "ticks": ""
             }
            },
            "type": "scattermapbox"
           }
          ],
          "scatterpolar": [
           {
            "marker": {
             "colorbar": {
              "outlinewidth": 0,
              "ticks": ""
             }
            },
            "type": "scatterpolar"
           }
          ],
          "scatterpolargl": [
           {
            "marker": {
             "colorbar": {
              "outlinewidth": 0,
              "ticks": ""
             }
            },
            "type": "scatterpolargl"
           }
          ],
          "scatterternary": [
           {
            "marker": {
             "colorbar": {
              "outlinewidth": 0,
              "ticks": ""
             }
            },
            "type": "scatterternary"
           }
          ],
          "surface": [
           {
            "colorbar": {
             "outlinewidth": 0,
             "ticks": ""
            },
            "colorscale": [
             [
              0,
              "#0d0887"
             ],
             [
              0.1111111111111111,
              "#46039f"
             ],
             [
              0.2222222222222222,
              "#7201a8"
             ],
             [
              0.3333333333333333,
              "#9c179e"
             ],
             [
              0.4444444444444444,
              "#bd3786"
             ],
             [
              0.5555555555555556,
              "#d8576b"
             ],
             [
              0.6666666666666666,
              "#ed7953"
             ],
             [
              0.7777777777777778,
              "#fb9f3a"
             ],
             [
              0.8888888888888888,
              "#fdca26"
             ],
             [
              1,
              "#f0f921"
             ]
            ],
            "type": "surface"
           }
          ],
          "table": [
           {
            "cells": {
             "fill": {
              "color": "#EBF0F8"
             },
             "line": {
              "color": "white"
             }
            },
            "header": {
             "fill": {
              "color": "#C8D4E3"
             },
             "line": {
              "color": "white"
             }
            },
            "type": "table"
           }
          ]
         },
         "layout": {
          "annotationdefaults": {
           "arrowcolor": "#2a3f5f",
           "arrowhead": 0,
           "arrowwidth": 1
          },
          "coloraxis": {
           "colorbar": {
            "outlinewidth": 0,
            "ticks": ""
           }
          },
          "colorscale": {
           "diverging": [
            [
             0,
             "#8e0152"
            ],
            [
             0.1,
             "#c51b7d"
            ],
            [
             0.2,
             "#de77ae"
            ],
            [
             0.3,
             "#f1b6da"
            ],
            [
             0.4,
             "#fde0ef"
            ],
            [
             0.5,
             "#f7f7f7"
            ],
            [
             0.6,
             "#e6f5d0"
            ],
            [
             0.7,
             "#b8e186"
            ],
            [
             0.8,
             "#7fbc41"
            ],
            [
             0.9,
             "#4d9221"
            ],
            [
             1,
             "#276419"
            ]
           ],
           "sequential": [
            [
             0,
             "#0d0887"
            ],
            [
             0.1111111111111111,
             "#46039f"
            ],
            [
             0.2222222222222222,
             "#7201a8"
            ],
            [
             0.3333333333333333,
             "#9c179e"
            ],
            [
             0.4444444444444444,
             "#bd3786"
            ],
            [
             0.5555555555555556,
             "#d8576b"
            ],
            [
             0.6666666666666666,
             "#ed7953"
            ],
            [
             0.7777777777777778,
             "#fb9f3a"
            ],
            [
             0.8888888888888888,
             "#fdca26"
            ],
            [
             1,
             "#f0f921"
            ]
           ],
           "sequentialminus": [
            [
             0,
             "#0d0887"
            ],
            [
             0.1111111111111111,
             "#46039f"
            ],
            [
             0.2222222222222222,
             "#7201a8"
            ],
            [
             0.3333333333333333,
             "#9c179e"
            ],
            [
             0.4444444444444444,
             "#bd3786"
            ],
            [
             0.5555555555555556,
             "#d8576b"
            ],
            [
             0.6666666666666666,
             "#ed7953"
            ],
            [
             0.7777777777777778,
             "#fb9f3a"
            ],
            [
             0.8888888888888888,
             "#fdca26"
            ],
            [
             1,
             "#f0f921"
            ]
           ]
          },
          "colorway": [
           "#636efa",
           "#EF553B",
           "#00cc96",
           "#ab63fa",
           "#FFA15A",
           "#19d3f3",
           "#FF6692",
           "#B6E880",
           "#FF97FF",
           "#FECB52"
          ],
          "font": {
           "color": "#2a3f5f"
          },
          "geo": {
           "bgcolor": "white",
           "lakecolor": "white",
           "landcolor": "#E5ECF6",
           "showlakes": true,
           "showland": true,
           "subunitcolor": "white"
          },
          "hoverlabel": {
           "align": "left"
          },
          "hovermode": "closest",
          "mapbox": {
           "style": "light"
          },
          "paper_bgcolor": "white",
          "plot_bgcolor": "#E5ECF6",
          "polar": {
           "angularaxis": {
            "gridcolor": "white",
            "linecolor": "white",
            "ticks": ""
           },
           "bgcolor": "#E5ECF6",
           "radialaxis": {
            "gridcolor": "white",
            "linecolor": "white",
            "ticks": ""
           }
          },
          "scene": {
           "xaxis": {
            "backgroundcolor": "#E5ECF6",
            "gridcolor": "white",
            "gridwidth": 2,
            "linecolor": "white",
            "showbackground": true,
            "ticks": "",
            "zerolinecolor": "white"
           },
           "yaxis": {
            "backgroundcolor": "#E5ECF6",
            "gridcolor": "white",
            "gridwidth": 2,
            "linecolor": "white",
            "showbackground": true,
            "ticks": "",
            "zerolinecolor": "white"
           },
           "zaxis": {
            "backgroundcolor": "#E5ECF6",
            "gridcolor": "white",
            "gridwidth": 2,
            "linecolor": "white",
            "showbackground": true,
            "ticks": "",
            "zerolinecolor": "white"
           }
          },
          "shapedefaults": {
           "line": {
            "color": "#2a3f5f"
           }
          },
          "ternary": {
           "aaxis": {
            "gridcolor": "white",
            "linecolor": "white",
            "ticks": ""
           },
           "baxis": {
            "gridcolor": "white",
            "linecolor": "white",
            "ticks": ""
           },
           "bgcolor": "#E5ECF6",
           "caxis": {
            "gridcolor": "white",
            "linecolor": "white",
            "ticks": ""
           }
          },
          "title": {
           "x": 0.05
          },
          "xaxis": {
           "automargin": true,
           "gridcolor": "white",
           "linecolor": "white",
           "ticks": "",
           "title": {
            "standoff": 15
           },
           "zerolinecolor": "white",
           "zerolinewidth": 2
          },
          "yaxis": {
           "automargin": true,
           "gridcolor": "white",
           "linecolor": "white",
           "ticks": "",
           "title": {
            "standoff": 15
           },
           "zerolinecolor": "white",
           "zerolinewidth": 2
          }
         }
        },
        "title": {
         "font": {
          "color": "#4D5663"
         }
        },
        "xaxis": {
         "gridcolor": "#E1E5ED",
         "showgrid": true,
         "tickfont": {
          "color": "#4D5663"
         },
         "title": {
          "font": {
           "color": "#4D5663"
          },
          "text": ""
         },
         "zerolinecolor": "#E1E5ED"
        },
        "yaxis": {
         "gridcolor": "#E1E5ED",
         "showgrid": true,
         "tickfont": {
          "color": "#4D5663"
         },
         "title": {
          "font": {
           "color": "#4D5663"
          },
          "text": ""
         },
         "zerolinecolor": "#E1E5ED"
        }
       }
      },
      "text/html": [
       "<div>\n",
       "        \n",
       "        \n",
       "            <div id=\"0cd20e51-4dfc-49eb-b4b3-7b57d027b327\" class=\"plotly-graph-div\" style=\"height:525px; width:100%;\"></div>\n",
       "            <script type=\"text/javascript\">\n",
       "                require([\"plotly\"], function(Plotly) {\n",
       "                    window.PLOTLYENV=window.PLOTLYENV || {};\n",
       "                    window.PLOTLYENV.BASE_URL='https://plot.ly';\n",
       "                    \n",
       "                if (document.getElementById(\"0cd20e51-4dfc-49eb-b4b3-7b57d027b327\")) {\n",
       "                    Plotly.newPlot(\n",
       "                        '0cd20e51-4dfc-49eb-b4b3-7b57d027b327',\n",
       "                        [{\"colorscale\": [[0.0, \"rgb(255, 153, 51)\"], [0.1111111111111111, \"rgb(55, 128, 191)\"], [0.2222222222222222, \"rgb(50, 171, 96)\"], [0.3333333333333333, \"rgb(128, 0, 128)\"], [0.4444444444444444, \"rgb(219, 64, 82)\"], [0.5555555555555556, \"rgb(0, 128, 128)\"], [0.6666666666666666, \"rgb(255, 255, 51)\"], [0.7777777777777778, \"rgb(128, 128, 0)\"], [0.8888888888888888, \"rgb(251, 128, 114)\"], [1.0, \"rgb(128, 177, 211)\"]], \"type\": \"surface\", \"x\": [0, 1, 2, 3, 4], \"y\": [\"x\", \"y\", \"z\"], \"z\": [[1, 2, 3, 4, 5], [10, 20, 30, 20, 10], [500, 400, 300, 200, 100]]}],\n",
       "                        {\"legend\": {\"bgcolor\": \"#F5F6F9\", \"font\": {\"color\": \"#4D5663\"}}, \"paper_bgcolor\": \"#F5F6F9\", \"plot_bgcolor\": \"#F5F6F9\", \"template\": {\"data\": {\"bar\": [{\"error_x\": {\"color\": \"#2a3f5f\"}, \"error_y\": {\"color\": \"#2a3f5f\"}, \"marker\": {\"line\": {\"color\": \"#E5ECF6\", \"width\": 0.5}}, \"type\": \"bar\"}], \"barpolar\": [{\"marker\": {\"line\": {\"color\": \"#E5ECF6\", \"width\": 0.5}}, \"type\": \"barpolar\"}], \"carpet\": [{\"aaxis\": {\"endlinecolor\": \"#2a3f5f\", \"gridcolor\": \"white\", \"linecolor\": \"white\", \"minorgridcolor\": \"white\", \"startlinecolor\": \"#2a3f5f\"}, \"baxis\": {\"endlinecolor\": \"#2a3f5f\", \"gridcolor\": \"white\", \"linecolor\": \"white\", \"minorgridcolor\": \"white\", \"startlinecolor\": \"#2a3f5f\"}, \"type\": \"carpet\"}], \"choropleth\": [{\"colorbar\": {\"outlinewidth\": 0, \"ticks\": \"\"}, \"type\": \"choropleth\"}], \"contour\": [{\"colorbar\": {\"outlinewidth\": 0, \"ticks\": \"\"}, \"colorscale\": [[0.0, \"#0d0887\"], [0.1111111111111111, \"#46039f\"], [0.2222222222222222, \"#7201a8\"], [0.3333333333333333, \"#9c179e\"], [0.4444444444444444, \"#bd3786\"], [0.5555555555555556, \"#d8576b\"], [0.6666666666666666, \"#ed7953\"], [0.7777777777777778, \"#fb9f3a\"], [0.8888888888888888, \"#fdca26\"], [1.0, \"#f0f921\"]], \"type\": \"contour\"}], \"contourcarpet\": [{\"colorbar\": {\"outlinewidth\": 0, \"ticks\": \"\"}, \"type\": \"contourcarpet\"}], \"heatmap\": [{\"colorbar\": {\"outlinewidth\": 0, \"ticks\": \"\"}, \"colorscale\": [[0.0, \"#0d0887\"], [0.1111111111111111, \"#46039f\"], [0.2222222222222222, \"#7201a8\"], [0.3333333333333333, \"#9c179e\"], [0.4444444444444444, \"#bd3786\"], [0.5555555555555556, \"#d8576b\"], [0.6666666666666666, \"#ed7953\"], [0.7777777777777778, \"#fb9f3a\"], [0.8888888888888888, \"#fdca26\"], [1.0, \"#f0f921\"]], \"type\": \"heatmap\"}], \"heatmapgl\": [{\"colorbar\": {\"outlinewidth\": 0, \"ticks\": \"\"}, \"colorscale\": [[0.0, \"#0d0887\"], [0.1111111111111111, \"#46039f\"], [0.2222222222222222, \"#7201a8\"], [0.3333333333333333, \"#9c179e\"], [0.4444444444444444, \"#bd3786\"], [0.5555555555555556, \"#d8576b\"], [0.6666666666666666, \"#ed7953\"], [0.7777777777777778, \"#fb9f3a\"], [0.8888888888888888, \"#fdca26\"], [1.0, \"#f0f921\"]], \"type\": \"heatmapgl\"}], \"histogram\": [{\"marker\": {\"colorbar\": {\"outlinewidth\": 0, \"ticks\": \"\"}}, \"type\": \"histogram\"}], \"histogram2d\": [{\"colorbar\": {\"outlinewidth\": 0, \"ticks\": \"\"}, \"colorscale\": [[0.0, \"#0d0887\"], [0.1111111111111111, \"#46039f\"], [0.2222222222222222, \"#7201a8\"], [0.3333333333333333, \"#9c179e\"], [0.4444444444444444, \"#bd3786\"], [0.5555555555555556, \"#d8576b\"], [0.6666666666666666, \"#ed7953\"], [0.7777777777777778, \"#fb9f3a\"], [0.8888888888888888, \"#fdca26\"], [1.0, \"#f0f921\"]], \"type\": \"histogram2d\"}], \"histogram2dcontour\": [{\"colorbar\": {\"outlinewidth\": 0, \"ticks\": \"\"}, \"colorscale\": [[0.0, \"#0d0887\"], [0.1111111111111111, \"#46039f\"], [0.2222222222222222, \"#7201a8\"], [0.3333333333333333, \"#9c179e\"], [0.4444444444444444, \"#bd3786\"], [0.5555555555555556, \"#d8576b\"], [0.6666666666666666, \"#ed7953\"], [0.7777777777777778, \"#fb9f3a\"], [0.8888888888888888, \"#fdca26\"], [1.0, \"#f0f921\"]], \"type\": \"histogram2dcontour\"}], \"mesh3d\": [{\"colorbar\": {\"outlinewidth\": 0, \"ticks\": \"\"}, \"type\": \"mesh3d\"}], \"parcoords\": [{\"line\": {\"colorbar\": {\"outlinewidth\": 0, \"ticks\": \"\"}}, \"type\": \"parcoords\"}], \"pie\": [{\"automargin\": true, \"type\": \"pie\"}], \"scatter\": [{\"marker\": {\"colorbar\": {\"outlinewidth\": 0, \"ticks\": \"\"}}, \"type\": \"scatter\"}], \"scatter3d\": [{\"line\": {\"colorbar\": {\"outlinewidth\": 0, \"ticks\": \"\"}}, \"marker\": {\"colorbar\": {\"outlinewidth\": 0, \"ticks\": \"\"}}, \"type\": \"scatter3d\"}], \"scattercarpet\": [{\"marker\": {\"colorbar\": {\"outlinewidth\": 0, \"ticks\": \"\"}}, \"type\": \"scattercarpet\"}], \"scattergeo\": [{\"marker\": {\"colorbar\": {\"outlinewidth\": 0, \"ticks\": \"\"}}, \"type\": \"scattergeo\"}], \"scattergl\": [{\"marker\": {\"colorbar\": {\"outlinewidth\": 0, \"ticks\": \"\"}}, \"type\": \"scattergl\"}], \"scattermapbox\": [{\"marker\": {\"colorbar\": {\"outlinewidth\": 0, \"ticks\": \"\"}}, \"type\": \"scattermapbox\"}], \"scatterpolar\": [{\"marker\": {\"colorbar\": {\"outlinewidth\": 0, \"ticks\": \"\"}}, \"type\": \"scatterpolar\"}], \"scatterpolargl\": [{\"marker\": {\"colorbar\": {\"outlinewidth\": 0, \"ticks\": \"\"}}, \"type\": \"scatterpolargl\"}], \"scatterternary\": [{\"marker\": {\"colorbar\": {\"outlinewidth\": 0, \"ticks\": \"\"}}, \"type\": \"scatterternary\"}], \"surface\": [{\"colorbar\": {\"outlinewidth\": 0, \"ticks\": \"\"}, \"colorscale\": [[0.0, \"#0d0887\"], [0.1111111111111111, \"#46039f\"], [0.2222222222222222, \"#7201a8\"], [0.3333333333333333, \"#9c179e\"], [0.4444444444444444, \"#bd3786\"], [0.5555555555555556, \"#d8576b\"], [0.6666666666666666, \"#ed7953\"], [0.7777777777777778, \"#fb9f3a\"], [0.8888888888888888, \"#fdca26\"], [1.0, \"#f0f921\"]], \"type\": \"surface\"}], \"table\": [{\"cells\": {\"fill\": {\"color\": \"#EBF0F8\"}, \"line\": {\"color\": \"white\"}}, \"header\": {\"fill\": {\"color\": \"#C8D4E3\"}, \"line\": {\"color\": \"white\"}}, \"type\": \"table\"}]}, \"layout\": {\"annotationdefaults\": {\"arrowcolor\": \"#2a3f5f\", \"arrowhead\": 0, \"arrowwidth\": 1}, \"coloraxis\": {\"colorbar\": {\"outlinewidth\": 0, \"ticks\": \"\"}}, \"colorscale\": {\"diverging\": [[0, \"#8e0152\"], [0.1, \"#c51b7d\"], [0.2, \"#de77ae\"], [0.3, \"#f1b6da\"], [0.4, \"#fde0ef\"], [0.5, \"#f7f7f7\"], [0.6, \"#e6f5d0\"], [0.7, \"#b8e186\"], [0.8, \"#7fbc41\"], [0.9, \"#4d9221\"], [1, \"#276419\"]], \"sequential\": [[0.0, \"#0d0887\"], [0.1111111111111111, \"#46039f\"], [0.2222222222222222, \"#7201a8\"], [0.3333333333333333, \"#9c179e\"], [0.4444444444444444, \"#bd3786\"], [0.5555555555555556, \"#d8576b\"], [0.6666666666666666, \"#ed7953\"], [0.7777777777777778, \"#fb9f3a\"], [0.8888888888888888, \"#fdca26\"], [1.0, \"#f0f921\"]], \"sequentialminus\": [[0.0, \"#0d0887\"], [0.1111111111111111, \"#46039f\"], [0.2222222222222222, \"#7201a8\"], [0.3333333333333333, \"#9c179e\"], [0.4444444444444444, \"#bd3786\"], [0.5555555555555556, \"#d8576b\"], [0.6666666666666666, \"#ed7953\"], [0.7777777777777778, \"#fb9f3a\"], [0.8888888888888888, \"#fdca26\"], [1.0, \"#f0f921\"]]}, \"colorway\": [\"#636efa\", \"#EF553B\", \"#00cc96\", \"#ab63fa\", \"#FFA15A\", \"#19d3f3\", \"#FF6692\", \"#B6E880\", \"#FF97FF\", \"#FECB52\"], \"font\": {\"color\": \"#2a3f5f\"}, \"geo\": {\"bgcolor\": \"white\", \"lakecolor\": \"white\", \"landcolor\": \"#E5ECF6\", \"showlakes\": true, \"showland\": true, \"subunitcolor\": \"white\"}, \"hoverlabel\": {\"align\": \"left\"}, \"hovermode\": \"closest\", \"mapbox\": {\"style\": \"light\"}, \"paper_bgcolor\": \"white\", \"plot_bgcolor\": \"#E5ECF6\", \"polar\": {\"angularaxis\": {\"gridcolor\": \"white\", \"linecolor\": \"white\", \"ticks\": \"\"}, \"bgcolor\": \"#E5ECF6\", \"radialaxis\": {\"gridcolor\": \"white\", \"linecolor\": \"white\", \"ticks\": \"\"}}, \"scene\": {\"xaxis\": {\"backgroundcolor\": \"#E5ECF6\", \"gridcolor\": \"white\", \"gridwidth\": 2, \"linecolor\": \"white\", \"showbackground\": true, \"ticks\": \"\", \"zerolinecolor\": \"white\"}, \"yaxis\": {\"backgroundcolor\": \"#E5ECF6\", \"gridcolor\": \"white\", \"gridwidth\": 2, \"linecolor\": \"white\", \"showbackground\": true, \"ticks\": \"\", \"zerolinecolor\": \"white\"}, \"zaxis\": {\"backgroundcolor\": \"#E5ECF6\", \"gridcolor\": \"white\", \"gridwidth\": 2, \"linecolor\": \"white\", \"showbackground\": true, \"ticks\": \"\", \"zerolinecolor\": \"white\"}}, \"shapedefaults\": {\"line\": {\"color\": \"#2a3f5f\"}}, \"ternary\": {\"aaxis\": {\"gridcolor\": \"white\", \"linecolor\": \"white\", \"ticks\": \"\"}, \"baxis\": {\"gridcolor\": \"white\", \"linecolor\": \"white\", \"ticks\": \"\"}, \"bgcolor\": \"#E5ECF6\", \"caxis\": {\"gridcolor\": \"white\", \"linecolor\": \"white\", \"ticks\": \"\"}}, \"title\": {\"x\": 0.05}, \"xaxis\": {\"automargin\": true, \"gridcolor\": \"white\", \"linecolor\": \"white\", \"ticks\": \"\", \"title\": {\"standoff\": 15}, \"zerolinecolor\": \"white\", \"zerolinewidth\": 2}, \"yaxis\": {\"automargin\": true, \"gridcolor\": \"white\", \"linecolor\": \"white\", \"ticks\": \"\", \"title\": {\"standoff\": 15}, \"zerolinecolor\": \"white\", \"zerolinewidth\": 2}}}, \"title\": {\"font\": {\"color\": \"#4D5663\"}}, \"xaxis\": {\"gridcolor\": \"#E1E5ED\", \"showgrid\": true, \"tickfont\": {\"color\": \"#4D5663\"}, \"title\": {\"font\": {\"color\": \"#4D5663\"}, \"text\": \"\"}, \"zerolinecolor\": \"#E1E5ED\"}, \"yaxis\": {\"gridcolor\": \"#E1E5ED\", \"showgrid\": true, \"tickfont\": {\"color\": \"#4D5663\"}, \"title\": {\"font\": {\"color\": \"#4D5663\"}, \"text\": \"\"}, \"zerolinecolor\": \"#E1E5ED\"}},\n",
       "                        {\"showLink\": true, \"linkText\": \"Export to plot.ly\", \"plotlyServerURL\": \"https://plot.ly\", \"responsive\": true}\n",
       "                    ).then(function(){\n",
       "                            \n",
       "var gd = document.getElementById('0cd20e51-4dfc-49eb-b4b3-7b57d027b327');\n",
       "var x = new MutationObserver(function (mutations, observer) {{\n",
       "        var display = window.getComputedStyle(gd).display;\n",
       "        if (!display || display === 'none') {{\n",
       "            console.log([gd, 'removed!']);\n",
       "            Plotly.purge(gd);\n",
       "            observer.disconnect();\n",
       "        }}\n",
       "}});\n",
       "\n",
       "// Listen for the removal of the full notebook cells\n",
       "var notebookContainer = gd.closest('#notebook-container');\n",
       "if (notebookContainer) {{\n",
       "    x.observe(notebookContainer, {childList: true});\n",
       "}}\n",
       "\n",
       "// Listen for the clearing of the current output cell\n",
       "var outputEl = gd.closest('.output');\n",
       "if (outputEl) {{\n",
       "    x.observe(outputEl, {childList: true});\n",
       "}}\n",
       "\n",
       "                        })\n",
       "                };\n",
       "                });\n",
       "            </script>\n",
       "        </div>"
      ]
     },
     "metadata": {},
     "output_type": "display_data"
    }
   ],
   "source": [
    "df3.iplot(kind=\"surface\")"
   ]
  },
  {
   "cell_type": "code",
   "execution_count": 42,
   "metadata": {},
   "outputs": [],
   "source": [
    "df3 = pd.DataFrame({\"x\":[1,2,3,4,5],\"y\":[10,20,30,20,10],\"z\":[5,4,3,2,1]})"
   ]
  },
  {
   "cell_type": "code",
   "execution_count": 43,
   "metadata": {},
   "outputs": [
    {
     "data": {
      "application/vnd.plotly.v1+json": {
       "config": {
        "linkText": "Export to plot.ly",
        "plotlyServerURL": "https://plot.ly",
        "showLink": true
       },
       "data": [
        {
         "colorscale": [
          [
           0,
           "rgb(255, 153, 51)"
          ],
          [
           0.1111111111111111,
           "rgb(55, 128, 191)"
          ],
          [
           0.2222222222222222,
           "rgb(50, 171, 96)"
          ],
          [
           0.3333333333333333,
           "rgb(128, 0, 128)"
          ],
          [
           0.4444444444444444,
           "rgb(219, 64, 82)"
          ],
          [
           0.5555555555555556,
           "rgb(0, 128, 128)"
          ],
          [
           0.6666666666666666,
           "rgb(255, 255, 51)"
          ],
          [
           0.7777777777777778,
           "rgb(128, 128, 0)"
          ],
          [
           0.8888888888888888,
           "rgb(251, 128, 114)"
          ],
          [
           1,
           "rgb(128, 177, 211)"
          ]
         ],
         "type": "surface",
         "x": [
          0,
          1,
          2,
          3,
          4
         ],
         "y": [
          "x",
          "y",
          "z"
         ],
         "z": [
          [
           1,
           2,
           3,
           4,
           5
          ],
          [
           10,
           20,
           30,
           20,
           10
          ],
          [
           5,
           4,
           3,
           2,
           1
          ]
         ]
        }
       ],
       "layout": {
        "legend": {
         "bgcolor": "#F5F6F9",
         "font": {
          "color": "#4D5663"
         }
        },
        "paper_bgcolor": "#F5F6F9",
        "plot_bgcolor": "#F5F6F9",
        "template": {
         "data": {
          "bar": [
           {
            "error_x": {
             "color": "#2a3f5f"
            },
            "error_y": {
             "color": "#2a3f5f"
            },
            "marker": {
             "line": {
              "color": "#E5ECF6",
              "width": 0.5
             }
            },
            "type": "bar"
           }
          ],
          "barpolar": [
           {
            "marker": {
             "line": {
              "color": "#E5ECF6",
              "width": 0.5
             }
            },
            "type": "barpolar"
           }
          ],
          "carpet": [
           {
            "aaxis": {
             "endlinecolor": "#2a3f5f",
             "gridcolor": "white",
             "linecolor": "white",
             "minorgridcolor": "white",
             "startlinecolor": "#2a3f5f"
            },
            "baxis": {
             "endlinecolor": "#2a3f5f",
             "gridcolor": "white",
             "linecolor": "white",
             "minorgridcolor": "white",
             "startlinecolor": "#2a3f5f"
            },
            "type": "carpet"
           }
          ],
          "choropleth": [
           {
            "colorbar": {
             "outlinewidth": 0,
             "ticks": ""
            },
            "type": "choropleth"
           }
          ],
          "contour": [
           {
            "colorbar": {
             "outlinewidth": 0,
             "ticks": ""
            },
            "colorscale": [
             [
              0,
              "#0d0887"
             ],
             [
              0.1111111111111111,
              "#46039f"
             ],
             [
              0.2222222222222222,
              "#7201a8"
             ],
             [
              0.3333333333333333,
              "#9c179e"
             ],
             [
              0.4444444444444444,
              "#bd3786"
             ],
             [
              0.5555555555555556,
              "#d8576b"
             ],
             [
              0.6666666666666666,
              "#ed7953"
             ],
             [
              0.7777777777777778,
              "#fb9f3a"
             ],
             [
              0.8888888888888888,
              "#fdca26"
             ],
             [
              1,
              "#f0f921"
             ]
            ],
            "type": "contour"
           }
          ],
          "contourcarpet": [
           {
            "colorbar": {
             "outlinewidth": 0,
             "ticks": ""
            },
            "type": "contourcarpet"
           }
          ],
          "heatmap": [
           {
            "colorbar": {
             "outlinewidth": 0,
             "ticks": ""
            },
            "colorscale": [
             [
              0,
              "#0d0887"
             ],
             [
              0.1111111111111111,
              "#46039f"
             ],
             [
              0.2222222222222222,
              "#7201a8"
             ],
             [
              0.3333333333333333,
              "#9c179e"
             ],
             [
              0.4444444444444444,
              "#bd3786"
             ],
             [
              0.5555555555555556,
              "#d8576b"
             ],
             [
              0.6666666666666666,
              "#ed7953"
             ],
             [
              0.7777777777777778,
              "#fb9f3a"
             ],
             [
              0.8888888888888888,
              "#fdca26"
             ],
             [
              1,
              "#f0f921"
             ]
            ],
            "type": "heatmap"
           }
          ],
          "heatmapgl": [
           {
            "colorbar": {
             "outlinewidth": 0,
             "ticks": ""
            },
            "colorscale": [
             [
              0,
              "#0d0887"
             ],
             [
              0.1111111111111111,
              "#46039f"
             ],
             [
              0.2222222222222222,
              "#7201a8"
             ],
             [
              0.3333333333333333,
              "#9c179e"
             ],
             [
              0.4444444444444444,
              "#bd3786"
             ],
             [
              0.5555555555555556,
              "#d8576b"
             ],
             [
              0.6666666666666666,
              "#ed7953"
             ],
             [
              0.7777777777777778,
              "#fb9f3a"
             ],
             [
              0.8888888888888888,
              "#fdca26"
             ],
             [
              1,
              "#f0f921"
             ]
            ],
            "type": "heatmapgl"
           }
          ],
          "histogram": [
           {
            "marker": {
             "colorbar": {
              "outlinewidth": 0,
              "ticks": ""
             }
            },
            "type": "histogram"
           }
          ],
          "histogram2d": [
           {
            "colorbar": {
             "outlinewidth": 0,
             "ticks": ""
            },
            "colorscale": [
             [
              0,
              "#0d0887"
             ],
             [
              0.1111111111111111,
              "#46039f"
             ],
             [
              0.2222222222222222,
              "#7201a8"
             ],
             [
              0.3333333333333333,
              "#9c179e"
             ],
             [
              0.4444444444444444,
              "#bd3786"
             ],
             [
              0.5555555555555556,
              "#d8576b"
             ],
             [
              0.6666666666666666,
              "#ed7953"
             ],
             [
              0.7777777777777778,
              "#fb9f3a"
             ],
             [
              0.8888888888888888,
              "#fdca26"
             ],
             [
              1,
              "#f0f921"
             ]
            ],
            "type": "histogram2d"
           }
          ],
          "histogram2dcontour": [
           {
            "colorbar": {
             "outlinewidth": 0,
             "ticks": ""
            },
            "colorscale": [
             [
              0,
              "#0d0887"
             ],
             [
              0.1111111111111111,
              "#46039f"
             ],
             [
              0.2222222222222222,
              "#7201a8"
             ],
             [
              0.3333333333333333,
              "#9c179e"
             ],
             [
              0.4444444444444444,
              "#bd3786"
             ],
             [
              0.5555555555555556,
              "#d8576b"
             ],
             [
              0.6666666666666666,
              "#ed7953"
             ],
             [
              0.7777777777777778,
              "#fb9f3a"
             ],
             [
              0.8888888888888888,
              "#fdca26"
             ],
             [
              1,
              "#f0f921"
             ]
            ],
            "type": "histogram2dcontour"
           }
          ],
          "mesh3d": [
           {
            "colorbar": {
             "outlinewidth": 0,
             "ticks": ""
            },
            "type": "mesh3d"
           }
          ],
          "parcoords": [
           {
            "line": {
             "colorbar": {
              "outlinewidth": 0,
              "ticks": ""
             }
            },
            "type": "parcoords"
           }
          ],
          "pie": [
           {
            "automargin": true,
            "type": "pie"
           }
          ],
          "scatter": [
           {
            "marker": {
             "colorbar": {
              "outlinewidth": 0,
              "ticks": ""
             }
            },
            "type": "scatter"
           }
          ],
          "scatter3d": [
           {
            "line": {
             "colorbar": {
              "outlinewidth": 0,
              "ticks": ""
             }
            },
            "marker": {
             "colorbar": {
              "outlinewidth": 0,
              "ticks": ""
             }
            },
            "type": "scatter3d"
           }
          ],
          "scattercarpet": [
           {
            "marker": {
             "colorbar": {
              "outlinewidth": 0,
              "ticks": ""
             }
            },
            "type": "scattercarpet"
           }
          ],
          "scattergeo": [
           {
            "marker": {
             "colorbar": {
              "outlinewidth": 0,
              "ticks": ""
             }
            },
            "type": "scattergeo"
           }
          ],
          "scattergl": [
           {
            "marker": {
             "colorbar": {
              "outlinewidth": 0,
              "ticks": ""
             }
            },
            "type": "scattergl"
           }
          ],
          "scattermapbox": [
           {
            "marker": {
             "colorbar": {
              "outlinewidth": 0,
              "ticks": ""
             }
            },
            "type": "scattermapbox"
           }
          ],
          "scatterpolar": [
           {
            "marker": {
             "colorbar": {
              "outlinewidth": 0,
              "ticks": ""
             }
            },
            "type": "scatterpolar"
           }
          ],
          "scatterpolargl": [
           {
            "marker": {
             "colorbar": {
              "outlinewidth": 0,
              "ticks": ""
             }
            },
            "type": "scatterpolargl"
           }
          ],
          "scatterternary": [
           {
            "marker": {
             "colorbar": {
              "outlinewidth": 0,
              "ticks": ""
             }
            },
            "type": "scatterternary"
           }
          ],
          "surface": [
           {
            "colorbar": {
             "outlinewidth": 0,
             "ticks": ""
            },
            "colorscale": [
             [
              0,
              "#0d0887"
             ],
             [
              0.1111111111111111,
              "#46039f"
             ],
             [
              0.2222222222222222,
              "#7201a8"
             ],
             [
              0.3333333333333333,
              "#9c179e"
             ],
             [
              0.4444444444444444,
              "#bd3786"
             ],
             [
              0.5555555555555556,
              "#d8576b"
             ],
             [
              0.6666666666666666,
              "#ed7953"
             ],
             [
              0.7777777777777778,
              "#fb9f3a"
             ],
             [
              0.8888888888888888,
              "#fdca26"
             ],
             [
              1,
              "#f0f921"
             ]
            ],
            "type": "surface"
           }
          ],
          "table": [
           {
            "cells": {
             "fill": {
              "color": "#EBF0F8"
             },
             "line": {
              "color": "white"
             }
            },
            "header": {
             "fill": {
              "color": "#C8D4E3"
             },
             "line": {
              "color": "white"
             }
            },
            "type": "table"
           }
          ]
         },
         "layout": {
          "annotationdefaults": {
           "arrowcolor": "#2a3f5f",
           "arrowhead": 0,
           "arrowwidth": 1
          },
          "coloraxis": {
           "colorbar": {
            "outlinewidth": 0,
            "ticks": ""
           }
          },
          "colorscale": {
           "diverging": [
            [
             0,
             "#8e0152"
            ],
            [
             0.1,
             "#c51b7d"
            ],
            [
             0.2,
             "#de77ae"
            ],
            [
             0.3,
             "#f1b6da"
            ],
            [
             0.4,
             "#fde0ef"
            ],
            [
             0.5,
             "#f7f7f7"
            ],
            [
             0.6,
             "#e6f5d0"
            ],
            [
             0.7,
             "#b8e186"
            ],
            [
             0.8,
             "#7fbc41"
            ],
            [
             0.9,
             "#4d9221"
            ],
            [
             1,
             "#276419"
            ]
           ],
           "sequential": [
            [
             0,
             "#0d0887"
            ],
            [
             0.1111111111111111,
             "#46039f"
            ],
            [
             0.2222222222222222,
             "#7201a8"
            ],
            [
             0.3333333333333333,
             "#9c179e"
            ],
            [
             0.4444444444444444,
             "#bd3786"
            ],
            [
             0.5555555555555556,
             "#d8576b"
            ],
            [
             0.6666666666666666,
             "#ed7953"
            ],
            [
             0.7777777777777778,
             "#fb9f3a"
            ],
            [
             0.8888888888888888,
             "#fdca26"
            ],
            [
             1,
             "#f0f921"
            ]
           ],
           "sequentialminus": [
            [
             0,
             "#0d0887"
            ],
            [
             0.1111111111111111,
             "#46039f"
            ],
            [
             0.2222222222222222,
             "#7201a8"
            ],
            [
             0.3333333333333333,
             "#9c179e"
            ],
            [
             0.4444444444444444,
             "#bd3786"
            ],
            [
             0.5555555555555556,
             "#d8576b"
            ],
            [
             0.6666666666666666,
             "#ed7953"
            ],
            [
             0.7777777777777778,
             "#fb9f3a"
            ],
            [
             0.8888888888888888,
             "#fdca26"
            ],
            [
             1,
             "#f0f921"
            ]
           ]
          },
          "colorway": [
           "#636efa",
           "#EF553B",
           "#00cc96",
           "#ab63fa",
           "#FFA15A",
           "#19d3f3",
           "#FF6692",
           "#B6E880",
           "#FF97FF",
           "#FECB52"
          ],
          "font": {
           "color": "#2a3f5f"
          },
          "geo": {
           "bgcolor": "white",
           "lakecolor": "white",
           "landcolor": "#E5ECF6",
           "showlakes": true,
           "showland": true,
           "subunitcolor": "white"
          },
          "hoverlabel": {
           "align": "left"
          },
          "hovermode": "closest",
          "mapbox": {
           "style": "light"
          },
          "paper_bgcolor": "white",
          "plot_bgcolor": "#E5ECF6",
          "polar": {
           "angularaxis": {
            "gridcolor": "white",
            "linecolor": "white",
            "ticks": ""
           },
           "bgcolor": "#E5ECF6",
           "radialaxis": {
            "gridcolor": "white",
            "linecolor": "white",
            "ticks": ""
           }
          },
          "scene": {
           "xaxis": {
            "backgroundcolor": "#E5ECF6",
            "gridcolor": "white",
            "gridwidth": 2,
            "linecolor": "white",
            "showbackground": true,
            "ticks": "",
            "zerolinecolor": "white"
           },
           "yaxis": {
            "backgroundcolor": "#E5ECF6",
            "gridcolor": "white",
            "gridwidth": 2,
            "linecolor": "white",
            "showbackground": true,
            "ticks": "",
            "zerolinecolor": "white"
           },
           "zaxis": {
            "backgroundcolor": "#E5ECF6",
            "gridcolor": "white",
            "gridwidth": 2,
            "linecolor": "white",
            "showbackground": true,
            "ticks": "",
            "zerolinecolor": "white"
           }
          },
          "shapedefaults": {
           "line": {
            "color": "#2a3f5f"
           }
          },
          "ternary": {
           "aaxis": {
            "gridcolor": "white",
            "linecolor": "white",
            "ticks": ""
           },
           "baxis": {
            "gridcolor": "white",
            "linecolor": "white",
            "ticks": ""
           },
           "bgcolor": "#E5ECF6",
           "caxis": {
            "gridcolor": "white",
            "linecolor": "white",
            "ticks": ""
           }
          },
          "title": {
           "x": 0.05
          },
          "xaxis": {
           "automargin": true,
           "gridcolor": "white",
           "linecolor": "white",
           "ticks": "",
           "title": {
            "standoff": 15
           },
           "zerolinecolor": "white",
           "zerolinewidth": 2
          },
          "yaxis": {
           "automargin": true,
           "gridcolor": "white",
           "linecolor": "white",
           "ticks": "",
           "title": {
            "standoff": 15
           },
           "zerolinecolor": "white",
           "zerolinewidth": 2
          }
         }
        },
        "title": {
         "font": {
          "color": "#4D5663"
         }
        },
        "xaxis": {
         "gridcolor": "#E1E5ED",
         "showgrid": true,
         "tickfont": {
          "color": "#4D5663"
         },
         "title": {
          "font": {
           "color": "#4D5663"
          },
          "text": ""
         },
         "zerolinecolor": "#E1E5ED"
        },
        "yaxis": {
         "gridcolor": "#E1E5ED",
         "showgrid": true,
         "tickfont": {
          "color": "#4D5663"
         },
         "title": {
          "font": {
           "color": "#4D5663"
          },
          "text": ""
         },
         "zerolinecolor": "#E1E5ED"
        }
       }
      },
      "text/html": [
       "<div>\n",
       "        \n",
       "        \n",
       "            <div id=\"bdad0d08-3b1f-45a5-949b-4fb16fde570a\" class=\"plotly-graph-div\" style=\"height:525px; width:100%;\"></div>\n",
       "            <script type=\"text/javascript\">\n",
       "                require([\"plotly\"], function(Plotly) {\n",
       "                    window.PLOTLYENV=window.PLOTLYENV || {};\n",
       "                    window.PLOTLYENV.BASE_URL='https://plot.ly';\n",
       "                    \n",
       "                if (document.getElementById(\"bdad0d08-3b1f-45a5-949b-4fb16fde570a\")) {\n",
       "                    Plotly.newPlot(\n",
       "                        'bdad0d08-3b1f-45a5-949b-4fb16fde570a',\n",
       "                        [{\"colorscale\": [[0.0, \"rgb(255, 153, 51)\"], [0.1111111111111111, \"rgb(55, 128, 191)\"], [0.2222222222222222, \"rgb(50, 171, 96)\"], [0.3333333333333333, \"rgb(128, 0, 128)\"], [0.4444444444444444, \"rgb(219, 64, 82)\"], [0.5555555555555556, \"rgb(0, 128, 128)\"], [0.6666666666666666, \"rgb(255, 255, 51)\"], [0.7777777777777778, \"rgb(128, 128, 0)\"], [0.8888888888888888, \"rgb(251, 128, 114)\"], [1.0, \"rgb(128, 177, 211)\"]], \"type\": \"surface\", \"x\": [0, 1, 2, 3, 4], \"y\": [\"x\", \"y\", \"z\"], \"z\": [[1, 2, 3, 4, 5], [10, 20, 30, 20, 10], [5, 4, 3, 2, 1]]}],\n",
       "                        {\"legend\": {\"bgcolor\": \"#F5F6F9\", \"font\": {\"color\": \"#4D5663\"}}, \"paper_bgcolor\": \"#F5F6F9\", \"plot_bgcolor\": \"#F5F6F9\", \"template\": {\"data\": {\"bar\": [{\"error_x\": {\"color\": \"#2a3f5f\"}, \"error_y\": {\"color\": \"#2a3f5f\"}, \"marker\": {\"line\": {\"color\": \"#E5ECF6\", \"width\": 0.5}}, \"type\": \"bar\"}], \"barpolar\": [{\"marker\": {\"line\": {\"color\": \"#E5ECF6\", \"width\": 0.5}}, \"type\": \"barpolar\"}], \"carpet\": [{\"aaxis\": {\"endlinecolor\": \"#2a3f5f\", \"gridcolor\": \"white\", \"linecolor\": \"white\", \"minorgridcolor\": \"white\", \"startlinecolor\": \"#2a3f5f\"}, \"baxis\": {\"endlinecolor\": \"#2a3f5f\", \"gridcolor\": \"white\", \"linecolor\": \"white\", \"minorgridcolor\": \"white\", \"startlinecolor\": \"#2a3f5f\"}, \"type\": \"carpet\"}], \"choropleth\": [{\"colorbar\": {\"outlinewidth\": 0, \"ticks\": \"\"}, \"type\": \"choropleth\"}], \"contour\": [{\"colorbar\": {\"outlinewidth\": 0, \"ticks\": \"\"}, \"colorscale\": [[0.0, \"#0d0887\"], [0.1111111111111111, \"#46039f\"], [0.2222222222222222, \"#7201a8\"], [0.3333333333333333, \"#9c179e\"], [0.4444444444444444, \"#bd3786\"], [0.5555555555555556, \"#d8576b\"], [0.6666666666666666, \"#ed7953\"], [0.7777777777777778, \"#fb9f3a\"], [0.8888888888888888, \"#fdca26\"], [1.0, \"#f0f921\"]], \"type\": \"contour\"}], \"contourcarpet\": [{\"colorbar\": {\"outlinewidth\": 0, \"ticks\": \"\"}, \"type\": \"contourcarpet\"}], \"heatmap\": [{\"colorbar\": {\"outlinewidth\": 0, \"ticks\": \"\"}, \"colorscale\": [[0.0, \"#0d0887\"], [0.1111111111111111, \"#46039f\"], [0.2222222222222222, \"#7201a8\"], [0.3333333333333333, \"#9c179e\"], [0.4444444444444444, \"#bd3786\"], [0.5555555555555556, \"#d8576b\"], [0.6666666666666666, \"#ed7953\"], [0.7777777777777778, \"#fb9f3a\"], [0.8888888888888888, \"#fdca26\"], [1.0, \"#f0f921\"]], \"type\": \"heatmap\"}], \"heatmapgl\": [{\"colorbar\": {\"outlinewidth\": 0, \"ticks\": \"\"}, \"colorscale\": [[0.0, \"#0d0887\"], [0.1111111111111111, \"#46039f\"], [0.2222222222222222, \"#7201a8\"], [0.3333333333333333, \"#9c179e\"], [0.4444444444444444, \"#bd3786\"], [0.5555555555555556, \"#d8576b\"], [0.6666666666666666, \"#ed7953\"], [0.7777777777777778, \"#fb9f3a\"], [0.8888888888888888, \"#fdca26\"], [1.0, \"#f0f921\"]], \"type\": \"heatmapgl\"}], \"histogram\": [{\"marker\": {\"colorbar\": {\"outlinewidth\": 0, \"ticks\": \"\"}}, \"type\": \"histogram\"}], \"histogram2d\": [{\"colorbar\": {\"outlinewidth\": 0, \"ticks\": \"\"}, \"colorscale\": [[0.0, \"#0d0887\"], [0.1111111111111111, \"#46039f\"], [0.2222222222222222, \"#7201a8\"], [0.3333333333333333, \"#9c179e\"], [0.4444444444444444, \"#bd3786\"], [0.5555555555555556, \"#d8576b\"], [0.6666666666666666, \"#ed7953\"], [0.7777777777777778, \"#fb9f3a\"], [0.8888888888888888, \"#fdca26\"], [1.0, \"#f0f921\"]], \"type\": \"histogram2d\"}], \"histogram2dcontour\": [{\"colorbar\": {\"outlinewidth\": 0, \"ticks\": \"\"}, \"colorscale\": [[0.0, \"#0d0887\"], [0.1111111111111111, \"#46039f\"], [0.2222222222222222, \"#7201a8\"], [0.3333333333333333, \"#9c179e\"], [0.4444444444444444, \"#bd3786\"], [0.5555555555555556, \"#d8576b\"], [0.6666666666666666, \"#ed7953\"], [0.7777777777777778, \"#fb9f3a\"], [0.8888888888888888, \"#fdca26\"], [1.0, \"#f0f921\"]], \"type\": \"histogram2dcontour\"}], \"mesh3d\": [{\"colorbar\": {\"outlinewidth\": 0, \"ticks\": \"\"}, \"type\": \"mesh3d\"}], \"parcoords\": [{\"line\": {\"colorbar\": {\"outlinewidth\": 0, \"ticks\": \"\"}}, \"type\": \"parcoords\"}], \"pie\": [{\"automargin\": true, \"type\": \"pie\"}], \"scatter\": [{\"marker\": {\"colorbar\": {\"outlinewidth\": 0, \"ticks\": \"\"}}, \"type\": \"scatter\"}], \"scatter3d\": [{\"line\": {\"colorbar\": {\"outlinewidth\": 0, \"ticks\": \"\"}}, \"marker\": {\"colorbar\": {\"outlinewidth\": 0, \"ticks\": \"\"}}, \"type\": \"scatter3d\"}], \"scattercarpet\": [{\"marker\": {\"colorbar\": {\"outlinewidth\": 0, \"ticks\": \"\"}}, \"type\": \"scattercarpet\"}], \"scattergeo\": [{\"marker\": {\"colorbar\": {\"outlinewidth\": 0, \"ticks\": \"\"}}, \"type\": \"scattergeo\"}], \"scattergl\": [{\"marker\": {\"colorbar\": {\"outlinewidth\": 0, \"ticks\": \"\"}}, \"type\": \"scattergl\"}], \"scattermapbox\": [{\"marker\": {\"colorbar\": {\"outlinewidth\": 0, \"ticks\": \"\"}}, \"type\": \"scattermapbox\"}], \"scatterpolar\": [{\"marker\": {\"colorbar\": {\"outlinewidth\": 0, \"ticks\": \"\"}}, \"type\": \"scatterpolar\"}], \"scatterpolargl\": [{\"marker\": {\"colorbar\": {\"outlinewidth\": 0, \"ticks\": \"\"}}, \"type\": \"scatterpolargl\"}], \"scatterternary\": [{\"marker\": {\"colorbar\": {\"outlinewidth\": 0, \"ticks\": \"\"}}, \"type\": \"scatterternary\"}], \"surface\": [{\"colorbar\": {\"outlinewidth\": 0, \"ticks\": \"\"}, \"colorscale\": [[0.0, \"#0d0887\"], [0.1111111111111111, \"#46039f\"], [0.2222222222222222, \"#7201a8\"], [0.3333333333333333, \"#9c179e\"], [0.4444444444444444, \"#bd3786\"], [0.5555555555555556, \"#d8576b\"], [0.6666666666666666, \"#ed7953\"], [0.7777777777777778, \"#fb9f3a\"], [0.8888888888888888, \"#fdca26\"], [1.0, \"#f0f921\"]], \"type\": \"surface\"}], \"table\": [{\"cells\": {\"fill\": {\"color\": \"#EBF0F8\"}, \"line\": {\"color\": \"white\"}}, \"header\": {\"fill\": {\"color\": \"#C8D4E3\"}, \"line\": {\"color\": \"white\"}}, \"type\": \"table\"}]}, \"layout\": {\"annotationdefaults\": {\"arrowcolor\": \"#2a3f5f\", \"arrowhead\": 0, \"arrowwidth\": 1}, \"coloraxis\": {\"colorbar\": {\"outlinewidth\": 0, \"ticks\": \"\"}}, \"colorscale\": {\"diverging\": [[0, \"#8e0152\"], [0.1, \"#c51b7d\"], [0.2, \"#de77ae\"], [0.3, \"#f1b6da\"], [0.4, \"#fde0ef\"], [0.5, \"#f7f7f7\"], [0.6, \"#e6f5d0\"], [0.7, \"#b8e186\"], [0.8, \"#7fbc41\"], [0.9, \"#4d9221\"], [1, \"#276419\"]], \"sequential\": [[0.0, \"#0d0887\"], [0.1111111111111111, \"#46039f\"], [0.2222222222222222, \"#7201a8\"], [0.3333333333333333, \"#9c179e\"], [0.4444444444444444, \"#bd3786\"], [0.5555555555555556, \"#d8576b\"], [0.6666666666666666, \"#ed7953\"], [0.7777777777777778, \"#fb9f3a\"], [0.8888888888888888, \"#fdca26\"], [1.0, \"#f0f921\"]], \"sequentialminus\": [[0.0, \"#0d0887\"], [0.1111111111111111, \"#46039f\"], [0.2222222222222222, \"#7201a8\"], [0.3333333333333333, \"#9c179e\"], [0.4444444444444444, \"#bd3786\"], [0.5555555555555556, \"#d8576b\"], [0.6666666666666666, \"#ed7953\"], [0.7777777777777778, \"#fb9f3a\"], [0.8888888888888888, \"#fdca26\"], [1.0, \"#f0f921\"]]}, \"colorway\": [\"#636efa\", \"#EF553B\", \"#00cc96\", \"#ab63fa\", \"#FFA15A\", \"#19d3f3\", \"#FF6692\", \"#B6E880\", \"#FF97FF\", \"#FECB52\"], \"font\": {\"color\": \"#2a3f5f\"}, \"geo\": {\"bgcolor\": \"white\", \"lakecolor\": \"white\", \"landcolor\": \"#E5ECF6\", \"showlakes\": true, \"showland\": true, \"subunitcolor\": \"white\"}, \"hoverlabel\": {\"align\": \"left\"}, \"hovermode\": \"closest\", \"mapbox\": {\"style\": \"light\"}, \"paper_bgcolor\": \"white\", \"plot_bgcolor\": \"#E5ECF6\", \"polar\": {\"angularaxis\": {\"gridcolor\": \"white\", \"linecolor\": \"white\", \"ticks\": \"\"}, \"bgcolor\": \"#E5ECF6\", \"radialaxis\": {\"gridcolor\": \"white\", \"linecolor\": \"white\", \"ticks\": \"\"}}, \"scene\": {\"xaxis\": {\"backgroundcolor\": \"#E5ECF6\", \"gridcolor\": \"white\", \"gridwidth\": 2, \"linecolor\": \"white\", \"showbackground\": true, \"ticks\": \"\", \"zerolinecolor\": \"white\"}, \"yaxis\": {\"backgroundcolor\": \"#E5ECF6\", \"gridcolor\": \"white\", \"gridwidth\": 2, \"linecolor\": \"white\", \"showbackground\": true, \"ticks\": \"\", \"zerolinecolor\": \"white\"}, \"zaxis\": {\"backgroundcolor\": \"#E5ECF6\", \"gridcolor\": \"white\", \"gridwidth\": 2, \"linecolor\": \"white\", \"showbackground\": true, \"ticks\": \"\", \"zerolinecolor\": \"white\"}}, \"shapedefaults\": {\"line\": {\"color\": \"#2a3f5f\"}}, \"ternary\": {\"aaxis\": {\"gridcolor\": \"white\", \"linecolor\": \"white\", \"ticks\": \"\"}, \"baxis\": {\"gridcolor\": \"white\", \"linecolor\": \"white\", \"ticks\": \"\"}, \"bgcolor\": \"#E5ECF6\", \"caxis\": {\"gridcolor\": \"white\", \"linecolor\": \"white\", \"ticks\": \"\"}}, \"title\": {\"x\": 0.05}, \"xaxis\": {\"automargin\": true, \"gridcolor\": \"white\", \"linecolor\": \"white\", \"ticks\": \"\", \"title\": {\"standoff\": 15}, \"zerolinecolor\": \"white\", \"zerolinewidth\": 2}, \"yaxis\": {\"automargin\": true, \"gridcolor\": \"white\", \"linecolor\": \"white\", \"ticks\": \"\", \"title\": {\"standoff\": 15}, \"zerolinecolor\": \"white\", \"zerolinewidth\": 2}}}, \"title\": {\"font\": {\"color\": \"#4D5663\"}}, \"xaxis\": {\"gridcolor\": \"#E1E5ED\", \"showgrid\": true, \"tickfont\": {\"color\": \"#4D5663\"}, \"title\": {\"font\": {\"color\": \"#4D5663\"}, \"text\": \"\"}, \"zerolinecolor\": \"#E1E5ED\"}, \"yaxis\": {\"gridcolor\": \"#E1E5ED\", \"showgrid\": true, \"tickfont\": {\"color\": \"#4D5663\"}, \"title\": {\"font\": {\"color\": \"#4D5663\"}, \"text\": \"\"}, \"zerolinecolor\": \"#E1E5ED\"}},\n",
       "                        {\"showLink\": true, \"linkText\": \"Export to plot.ly\", \"plotlyServerURL\": \"https://plot.ly\", \"responsive\": true}\n",
       "                    ).then(function(){\n",
       "                            \n",
       "var gd = document.getElementById('bdad0d08-3b1f-45a5-949b-4fb16fde570a');\n",
       "var x = new MutationObserver(function (mutations, observer) {{\n",
       "        var display = window.getComputedStyle(gd).display;\n",
       "        if (!display || display === 'none') {{\n",
       "            console.log([gd, 'removed!']);\n",
       "            Plotly.purge(gd);\n",
       "            observer.disconnect();\n",
       "        }}\n",
       "}});\n",
       "\n",
       "// Listen for the removal of the full notebook cells\n",
       "var notebookContainer = gd.closest('#notebook-container');\n",
       "if (notebookContainer) {{\n",
       "    x.observe(notebookContainer, {childList: true});\n",
       "}}\n",
       "\n",
       "// Listen for the clearing of the current output cell\n",
       "var outputEl = gd.closest('.output');\n",
       "if (outputEl) {{\n",
       "    x.observe(outputEl, {childList: true});\n",
       "}}\n",
       "\n",
       "                        })\n",
       "                };\n",
       "                });\n",
       "            </script>\n",
       "        </div>"
      ]
     },
     "metadata": {},
     "output_type": "display_data"
    }
   ],
   "source": [
    "df3.iplot(kind=\"surface\")"
   ]
  },
  {
   "cell_type": "code",
   "execution_count": 44,
   "metadata": {},
   "outputs": [
    {
     "data": {
      "application/vnd.plotly.v1+json": {
       "config": {
        "linkText": "Export to plot.ly",
        "plotlyServerURL": "https://plot.ly",
        "showLink": true
       },
       "data": [
        {
         "colorscale": [
          [
           0,
           "rgb(165,0,38)"
          ],
          [
           0.1,
           "rgb(215,48,39)"
          ],
          [
           0.2,
           "rgb(244,109,67)"
          ],
          [
           0.3,
           "rgb(253,174,97)"
          ],
          [
           0.4,
           "rgb(254,224,144)"
          ],
          [
           0.5,
           "rgb(255,255,191)"
          ],
          [
           0.6,
           "rgb(224,243,248)"
          ],
          [
           0.7,
           "rgb(171,217,233)"
          ],
          [
           0.8,
           "rgb(116,173,209)"
          ],
          [
           0.9,
           "rgb(69,117,180)"
          ],
          [
           1,
           "rgb(49,54,149)"
          ]
         ],
         "type": "surface",
         "x": [
          0,
          1,
          2,
          3,
          4
         ],
         "y": [
          "x",
          "y",
          "z"
         ],
         "z": [
          [
           1,
           2,
           3,
           4,
           5
          ],
          [
           10,
           20,
           30,
           20,
           10
          ],
          [
           5,
           4,
           3,
           2,
           1
          ]
         ]
        }
       ],
       "layout": {
        "legend": {
         "bgcolor": "#F5F6F9",
         "font": {
          "color": "#4D5663"
         }
        },
        "paper_bgcolor": "#F5F6F9",
        "plot_bgcolor": "#F5F6F9",
        "template": {
         "data": {
          "bar": [
           {
            "error_x": {
             "color": "#2a3f5f"
            },
            "error_y": {
             "color": "#2a3f5f"
            },
            "marker": {
             "line": {
              "color": "#E5ECF6",
              "width": 0.5
             }
            },
            "type": "bar"
           }
          ],
          "barpolar": [
           {
            "marker": {
             "line": {
              "color": "#E5ECF6",
              "width": 0.5
             }
            },
            "type": "barpolar"
           }
          ],
          "carpet": [
           {
            "aaxis": {
             "endlinecolor": "#2a3f5f",
             "gridcolor": "white",
             "linecolor": "white",
             "minorgridcolor": "white",
             "startlinecolor": "#2a3f5f"
            },
            "baxis": {
             "endlinecolor": "#2a3f5f",
             "gridcolor": "white",
             "linecolor": "white",
             "minorgridcolor": "white",
             "startlinecolor": "#2a3f5f"
            },
            "type": "carpet"
           }
          ],
          "choropleth": [
           {
            "colorbar": {
             "outlinewidth": 0,
             "ticks": ""
            },
            "type": "choropleth"
           }
          ],
          "contour": [
           {
            "colorbar": {
             "outlinewidth": 0,
             "ticks": ""
            },
            "colorscale": [
             [
              0,
              "#0d0887"
             ],
             [
              0.1111111111111111,
              "#46039f"
             ],
             [
              0.2222222222222222,
              "#7201a8"
             ],
             [
              0.3333333333333333,
              "#9c179e"
             ],
             [
              0.4444444444444444,
              "#bd3786"
             ],
             [
              0.5555555555555556,
              "#d8576b"
             ],
             [
              0.6666666666666666,
              "#ed7953"
             ],
             [
              0.7777777777777778,
              "#fb9f3a"
             ],
             [
              0.8888888888888888,
              "#fdca26"
             ],
             [
              1,
              "#f0f921"
             ]
            ],
            "type": "contour"
           }
          ],
          "contourcarpet": [
           {
            "colorbar": {
             "outlinewidth": 0,
             "ticks": ""
            },
            "type": "contourcarpet"
           }
          ],
          "heatmap": [
           {
            "colorbar": {
             "outlinewidth": 0,
             "ticks": ""
            },
            "colorscale": [
             [
              0,
              "#0d0887"
             ],
             [
              0.1111111111111111,
              "#46039f"
             ],
             [
              0.2222222222222222,
              "#7201a8"
             ],
             [
              0.3333333333333333,
              "#9c179e"
             ],
             [
              0.4444444444444444,
              "#bd3786"
             ],
             [
              0.5555555555555556,
              "#d8576b"
             ],
             [
              0.6666666666666666,
              "#ed7953"
             ],
             [
              0.7777777777777778,
              "#fb9f3a"
             ],
             [
              0.8888888888888888,
              "#fdca26"
             ],
             [
              1,
              "#f0f921"
             ]
            ],
            "type": "heatmap"
           }
          ],
          "heatmapgl": [
           {
            "colorbar": {
             "outlinewidth": 0,
             "ticks": ""
            },
            "colorscale": [
             [
              0,
              "#0d0887"
             ],
             [
              0.1111111111111111,
              "#46039f"
             ],
             [
              0.2222222222222222,
              "#7201a8"
             ],
             [
              0.3333333333333333,
              "#9c179e"
             ],
             [
              0.4444444444444444,
              "#bd3786"
             ],
             [
              0.5555555555555556,
              "#d8576b"
             ],
             [
              0.6666666666666666,
              "#ed7953"
             ],
             [
              0.7777777777777778,
              "#fb9f3a"
             ],
             [
              0.8888888888888888,
              "#fdca26"
             ],
             [
              1,
              "#f0f921"
             ]
            ],
            "type": "heatmapgl"
           }
          ],
          "histogram": [
           {
            "marker": {
             "colorbar": {
              "outlinewidth": 0,
              "ticks": ""
             }
            },
            "type": "histogram"
           }
          ],
          "histogram2d": [
           {
            "colorbar": {
             "outlinewidth": 0,
             "ticks": ""
            },
            "colorscale": [
             [
              0,
              "#0d0887"
             ],
             [
              0.1111111111111111,
              "#46039f"
             ],
             [
              0.2222222222222222,
              "#7201a8"
             ],
             [
              0.3333333333333333,
              "#9c179e"
             ],
             [
              0.4444444444444444,
              "#bd3786"
             ],
             [
              0.5555555555555556,
              "#d8576b"
             ],
             [
              0.6666666666666666,
              "#ed7953"
             ],
             [
              0.7777777777777778,
              "#fb9f3a"
             ],
             [
              0.8888888888888888,
              "#fdca26"
             ],
             [
              1,
              "#f0f921"
             ]
            ],
            "type": "histogram2d"
           }
          ],
          "histogram2dcontour": [
           {
            "colorbar": {
             "outlinewidth": 0,
             "ticks": ""
            },
            "colorscale": [
             [
              0,
              "#0d0887"
             ],
             [
              0.1111111111111111,
              "#46039f"
             ],
             [
              0.2222222222222222,
              "#7201a8"
             ],
             [
              0.3333333333333333,
              "#9c179e"
             ],
             [
              0.4444444444444444,
              "#bd3786"
             ],
             [
              0.5555555555555556,
              "#d8576b"
             ],
             [
              0.6666666666666666,
              "#ed7953"
             ],
             [
              0.7777777777777778,
              "#fb9f3a"
             ],
             [
              0.8888888888888888,
              "#fdca26"
             ],
             [
              1,
              "#f0f921"
             ]
            ],
            "type": "histogram2dcontour"
           }
          ],
          "mesh3d": [
           {
            "colorbar": {
             "outlinewidth": 0,
             "ticks": ""
            },
            "type": "mesh3d"
           }
          ],
          "parcoords": [
           {
            "line": {
             "colorbar": {
              "outlinewidth": 0,
              "ticks": ""
             }
            },
            "type": "parcoords"
           }
          ],
          "pie": [
           {
            "automargin": true,
            "type": "pie"
           }
          ],
          "scatter": [
           {
            "marker": {
             "colorbar": {
              "outlinewidth": 0,
              "ticks": ""
             }
            },
            "type": "scatter"
           }
          ],
          "scatter3d": [
           {
            "line": {
             "colorbar": {
              "outlinewidth": 0,
              "ticks": ""
             }
            },
            "marker": {
             "colorbar": {
              "outlinewidth": 0,
              "ticks": ""
             }
            },
            "type": "scatter3d"
           }
          ],
          "scattercarpet": [
           {
            "marker": {
             "colorbar": {
              "outlinewidth": 0,
              "ticks": ""
             }
            },
            "type": "scattercarpet"
           }
          ],
          "scattergeo": [
           {
            "marker": {
             "colorbar": {
              "outlinewidth": 0,
              "ticks": ""
             }
            },
            "type": "scattergeo"
           }
          ],
          "scattergl": [
           {
            "marker": {
             "colorbar": {
              "outlinewidth": 0,
              "ticks": ""
             }
            },
            "type": "scattergl"
           }
          ],
          "scattermapbox": [
           {
            "marker": {
             "colorbar": {
              "outlinewidth": 0,
              "ticks": ""
             }
            },
            "type": "scattermapbox"
           }
          ],
          "scatterpolar": [
           {
            "marker": {
             "colorbar": {
              "outlinewidth": 0,
              "ticks": ""
             }
            },
            "type": "scatterpolar"
           }
          ],
          "scatterpolargl": [
           {
            "marker": {
             "colorbar": {
              "outlinewidth": 0,
              "ticks": ""
             }
            },
            "type": "scatterpolargl"
           }
          ],
          "scatterternary": [
           {
            "marker": {
             "colorbar": {
              "outlinewidth": 0,
              "ticks": ""
             }
            },
            "type": "scatterternary"
           }
          ],
          "surface": [
           {
            "colorbar": {
             "outlinewidth": 0,
             "ticks": ""
            },
            "colorscale": [
             [
              0,
              "#0d0887"
             ],
             [
              0.1111111111111111,
              "#46039f"
             ],
             [
              0.2222222222222222,
              "#7201a8"
             ],
             [
              0.3333333333333333,
              "#9c179e"
             ],
             [
              0.4444444444444444,
              "#bd3786"
             ],
             [
              0.5555555555555556,
              "#d8576b"
             ],
             [
              0.6666666666666666,
              "#ed7953"
             ],
             [
              0.7777777777777778,
              "#fb9f3a"
             ],
             [
              0.8888888888888888,
              "#fdca26"
             ],
             [
              1,
              "#f0f921"
             ]
            ],
            "type": "surface"
           }
          ],
          "table": [
           {
            "cells": {
             "fill": {
              "color": "#EBF0F8"
             },
             "line": {
              "color": "white"
             }
            },
            "header": {
             "fill": {
              "color": "#C8D4E3"
             },
             "line": {
              "color": "white"
             }
            },
            "type": "table"
           }
          ]
         },
         "layout": {
          "annotationdefaults": {
           "arrowcolor": "#2a3f5f",
           "arrowhead": 0,
           "arrowwidth": 1
          },
          "coloraxis": {
           "colorbar": {
            "outlinewidth": 0,
            "ticks": ""
           }
          },
          "colorscale": {
           "diverging": [
            [
             0,
             "#8e0152"
            ],
            [
             0.1,
             "#c51b7d"
            ],
            [
             0.2,
             "#de77ae"
            ],
            [
             0.3,
             "#f1b6da"
            ],
            [
             0.4,
             "#fde0ef"
            ],
            [
             0.5,
             "#f7f7f7"
            ],
            [
             0.6,
             "#e6f5d0"
            ],
            [
             0.7,
             "#b8e186"
            ],
            [
             0.8,
             "#7fbc41"
            ],
            [
             0.9,
             "#4d9221"
            ],
            [
             1,
             "#276419"
            ]
           ],
           "sequential": [
            [
             0,
             "#0d0887"
            ],
            [
             0.1111111111111111,
             "#46039f"
            ],
            [
             0.2222222222222222,
             "#7201a8"
            ],
            [
             0.3333333333333333,
             "#9c179e"
            ],
            [
             0.4444444444444444,
             "#bd3786"
            ],
            [
             0.5555555555555556,
             "#d8576b"
            ],
            [
             0.6666666666666666,
             "#ed7953"
            ],
            [
             0.7777777777777778,
             "#fb9f3a"
            ],
            [
             0.8888888888888888,
             "#fdca26"
            ],
            [
             1,
             "#f0f921"
            ]
           ],
           "sequentialminus": [
            [
             0,
             "#0d0887"
            ],
            [
             0.1111111111111111,
             "#46039f"
            ],
            [
             0.2222222222222222,
             "#7201a8"
            ],
            [
             0.3333333333333333,
             "#9c179e"
            ],
            [
             0.4444444444444444,
             "#bd3786"
            ],
            [
             0.5555555555555556,
             "#d8576b"
            ],
            [
             0.6666666666666666,
             "#ed7953"
            ],
            [
             0.7777777777777778,
             "#fb9f3a"
            ],
            [
             0.8888888888888888,
             "#fdca26"
            ],
            [
             1,
             "#f0f921"
            ]
           ]
          },
          "colorway": [
           "#636efa",
           "#EF553B",
           "#00cc96",
           "#ab63fa",
           "#FFA15A",
           "#19d3f3",
           "#FF6692",
           "#B6E880",
           "#FF97FF",
           "#FECB52"
          ],
          "font": {
           "color": "#2a3f5f"
          },
          "geo": {
           "bgcolor": "white",
           "lakecolor": "white",
           "landcolor": "#E5ECF6",
           "showlakes": true,
           "showland": true,
           "subunitcolor": "white"
          },
          "hoverlabel": {
           "align": "left"
          },
          "hovermode": "closest",
          "mapbox": {
           "style": "light"
          },
          "paper_bgcolor": "white",
          "plot_bgcolor": "#E5ECF6",
          "polar": {
           "angularaxis": {
            "gridcolor": "white",
            "linecolor": "white",
            "ticks": ""
           },
           "bgcolor": "#E5ECF6",
           "radialaxis": {
            "gridcolor": "white",
            "linecolor": "white",
            "ticks": ""
           }
          },
          "scene": {
           "xaxis": {
            "backgroundcolor": "#E5ECF6",
            "gridcolor": "white",
            "gridwidth": 2,
            "linecolor": "white",
            "showbackground": true,
            "ticks": "",
            "zerolinecolor": "white"
           },
           "yaxis": {
            "backgroundcolor": "#E5ECF6",
            "gridcolor": "white",
            "gridwidth": 2,
            "linecolor": "white",
            "showbackground": true,
            "ticks": "",
            "zerolinecolor": "white"
           },
           "zaxis": {
            "backgroundcolor": "#E5ECF6",
            "gridcolor": "white",
            "gridwidth": 2,
            "linecolor": "white",
            "showbackground": true,
            "ticks": "",
            "zerolinecolor": "white"
           }
          },
          "shapedefaults": {
           "line": {
            "color": "#2a3f5f"
           }
          },
          "ternary": {
           "aaxis": {
            "gridcolor": "white",
            "linecolor": "white",
            "ticks": ""
           },
           "baxis": {
            "gridcolor": "white",
            "linecolor": "white",
            "ticks": ""
           },
           "bgcolor": "#E5ECF6",
           "caxis": {
            "gridcolor": "white",
            "linecolor": "white",
            "ticks": ""
           }
          },
          "title": {
           "x": 0.05
          },
          "xaxis": {
           "automargin": true,
           "gridcolor": "white",
           "linecolor": "white",
           "ticks": "",
           "title": {
            "standoff": 15
           },
           "zerolinecolor": "white",
           "zerolinewidth": 2
          },
          "yaxis": {
           "automargin": true,
           "gridcolor": "white",
           "linecolor": "white",
           "ticks": "",
           "title": {
            "standoff": 15
           },
           "zerolinecolor": "white",
           "zerolinewidth": 2
          }
         }
        },
        "title": {
         "font": {
          "color": "#4D5663"
         }
        },
        "xaxis": {
         "gridcolor": "#E1E5ED",
         "showgrid": true,
         "tickfont": {
          "color": "#4D5663"
         },
         "title": {
          "font": {
           "color": "#4D5663"
          },
          "text": ""
         },
         "zerolinecolor": "#E1E5ED"
        },
        "yaxis": {
         "gridcolor": "#E1E5ED",
         "showgrid": true,
         "tickfont": {
          "color": "#4D5663"
         },
         "title": {
          "font": {
           "color": "#4D5663"
          },
          "text": ""
         },
         "zerolinecolor": "#E1E5ED"
        }
       }
      },
      "text/html": [
       "<div>\n",
       "        \n",
       "        \n",
       "            <div id=\"c706faec-3691-42fb-bd3f-5fc474f1366c\" class=\"plotly-graph-div\" style=\"height:525px; width:100%;\"></div>\n",
       "            <script type=\"text/javascript\">\n",
       "                require([\"plotly\"], function(Plotly) {\n",
       "                    window.PLOTLYENV=window.PLOTLYENV || {};\n",
       "                    window.PLOTLYENV.BASE_URL='https://plot.ly';\n",
       "                    \n",
       "                if (document.getElementById(\"c706faec-3691-42fb-bd3f-5fc474f1366c\")) {\n",
       "                    Plotly.newPlot(\n",
       "                        'c706faec-3691-42fb-bd3f-5fc474f1366c',\n",
       "                        [{\"colorscale\": [[0.0, \"rgb(165,0,38)\"], [0.1, \"rgb(215,48,39)\"], [0.2, \"rgb(244,109,67)\"], [0.3, \"rgb(253,174,97)\"], [0.4, \"rgb(254,224,144)\"], [0.5, \"rgb(255,255,191)\"], [0.6, \"rgb(224,243,248)\"], [0.7, \"rgb(171,217,233)\"], [0.8, \"rgb(116,173,209)\"], [0.9, \"rgb(69,117,180)\"], [1.0, \"rgb(49,54,149)\"]], \"type\": \"surface\", \"x\": [0, 1, 2, 3, 4], \"y\": [\"x\", \"y\", \"z\"], \"z\": [[1, 2, 3, 4, 5], [10, 20, 30, 20, 10], [5, 4, 3, 2, 1]]}],\n",
       "                        {\"legend\": {\"bgcolor\": \"#F5F6F9\", \"font\": {\"color\": \"#4D5663\"}}, \"paper_bgcolor\": \"#F5F6F9\", \"plot_bgcolor\": \"#F5F6F9\", \"template\": {\"data\": {\"bar\": [{\"error_x\": {\"color\": \"#2a3f5f\"}, \"error_y\": {\"color\": \"#2a3f5f\"}, \"marker\": {\"line\": {\"color\": \"#E5ECF6\", \"width\": 0.5}}, \"type\": \"bar\"}], \"barpolar\": [{\"marker\": {\"line\": {\"color\": \"#E5ECF6\", \"width\": 0.5}}, \"type\": \"barpolar\"}], \"carpet\": [{\"aaxis\": {\"endlinecolor\": \"#2a3f5f\", \"gridcolor\": \"white\", \"linecolor\": \"white\", \"minorgridcolor\": \"white\", \"startlinecolor\": \"#2a3f5f\"}, \"baxis\": {\"endlinecolor\": \"#2a3f5f\", \"gridcolor\": \"white\", \"linecolor\": \"white\", \"minorgridcolor\": \"white\", \"startlinecolor\": \"#2a3f5f\"}, \"type\": \"carpet\"}], \"choropleth\": [{\"colorbar\": {\"outlinewidth\": 0, \"ticks\": \"\"}, \"type\": \"choropleth\"}], \"contour\": [{\"colorbar\": {\"outlinewidth\": 0, \"ticks\": \"\"}, \"colorscale\": [[0.0, \"#0d0887\"], [0.1111111111111111, \"#46039f\"], [0.2222222222222222, \"#7201a8\"], [0.3333333333333333, \"#9c179e\"], [0.4444444444444444, \"#bd3786\"], [0.5555555555555556, \"#d8576b\"], [0.6666666666666666, \"#ed7953\"], [0.7777777777777778, \"#fb9f3a\"], [0.8888888888888888, \"#fdca26\"], [1.0, \"#f0f921\"]], \"type\": \"contour\"}], \"contourcarpet\": [{\"colorbar\": {\"outlinewidth\": 0, \"ticks\": \"\"}, \"type\": \"contourcarpet\"}], \"heatmap\": [{\"colorbar\": {\"outlinewidth\": 0, \"ticks\": \"\"}, \"colorscale\": [[0.0, \"#0d0887\"], [0.1111111111111111, \"#46039f\"], [0.2222222222222222, \"#7201a8\"], [0.3333333333333333, \"#9c179e\"], [0.4444444444444444, \"#bd3786\"], [0.5555555555555556, \"#d8576b\"], [0.6666666666666666, \"#ed7953\"], [0.7777777777777778, \"#fb9f3a\"], [0.8888888888888888, \"#fdca26\"], [1.0, \"#f0f921\"]], \"type\": \"heatmap\"}], \"heatmapgl\": [{\"colorbar\": {\"outlinewidth\": 0, \"ticks\": \"\"}, \"colorscale\": [[0.0, \"#0d0887\"], [0.1111111111111111, \"#46039f\"], [0.2222222222222222, \"#7201a8\"], [0.3333333333333333, \"#9c179e\"], [0.4444444444444444, \"#bd3786\"], [0.5555555555555556, \"#d8576b\"], [0.6666666666666666, \"#ed7953\"], [0.7777777777777778, \"#fb9f3a\"], [0.8888888888888888, \"#fdca26\"], [1.0, \"#f0f921\"]], \"type\": \"heatmapgl\"}], \"histogram\": [{\"marker\": {\"colorbar\": {\"outlinewidth\": 0, \"ticks\": \"\"}}, \"type\": \"histogram\"}], \"histogram2d\": [{\"colorbar\": {\"outlinewidth\": 0, \"ticks\": \"\"}, \"colorscale\": [[0.0, \"#0d0887\"], [0.1111111111111111, \"#46039f\"], [0.2222222222222222, \"#7201a8\"], [0.3333333333333333, \"#9c179e\"], [0.4444444444444444, \"#bd3786\"], [0.5555555555555556, \"#d8576b\"], [0.6666666666666666, \"#ed7953\"], [0.7777777777777778, \"#fb9f3a\"], [0.8888888888888888, \"#fdca26\"], [1.0, \"#f0f921\"]], \"type\": \"histogram2d\"}], \"histogram2dcontour\": [{\"colorbar\": {\"outlinewidth\": 0, \"ticks\": \"\"}, \"colorscale\": [[0.0, \"#0d0887\"], [0.1111111111111111, \"#46039f\"], [0.2222222222222222, \"#7201a8\"], [0.3333333333333333, \"#9c179e\"], [0.4444444444444444, \"#bd3786\"], [0.5555555555555556, \"#d8576b\"], [0.6666666666666666, \"#ed7953\"], [0.7777777777777778, \"#fb9f3a\"], [0.8888888888888888, \"#fdca26\"], [1.0, \"#f0f921\"]], \"type\": \"histogram2dcontour\"}], \"mesh3d\": [{\"colorbar\": {\"outlinewidth\": 0, \"ticks\": \"\"}, \"type\": \"mesh3d\"}], \"parcoords\": [{\"line\": {\"colorbar\": {\"outlinewidth\": 0, \"ticks\": \"\"}}, \"type\": \"parcoords\"}], \"pie\": [{\"automargin\": true, \"type\": \"pie\"}], \"scatter\": [{\"marker\": {\"colorbar\": {\"outlinewidth\": 0, \"ticks\": \"\"}}, \"type\": \"scatter\"}], \"scatter3d\": [{\"line\": {\"colorbar\": {\"outlinewidth\": 0, \"ticks\": \"\"}}, \"marker\": {\"colorbar\": {\"outlinewidth\": 0, \"ticks\": \"\"}}, \"type\": \"scatter3d\"}], \"scattercarpet\": [{\"marker\": {\"colorbar\": {\"outlinewidth\": 0, \"ticks\": \"\"}}, \"type\": \"scattercarpet\"}], \"scattergeo\": [{\"marker\": {\"colorbar\": {\"outlinewidth\": 0, \"ticks\": \"\"}}, \"type\": \"scattergeo\"}], \"scattergl\": [{\"marker\": {\"colorbar\": {\"outlinewidth\": 0, \"ticks\": \"\"}}, \"type\": \"scattergl\"}], \"scattermapbox\": [{\"marker\": {\"colorbar\": {\"outlinewidth\": 0, \"ticks\": \"\"}}, \"type\": \"scattermapbox\"}], \"scatterpolar\": [{\"marker\": {\"colorbar\": {\"outlinewidth\": 0, \"ticks\": \"\"}}, \"type\": \"scatterpolar\"}], \"scatterpolargl\": [{\"marker\": {\"colorbar\": {\"outlinewidth\": 0, \"ticks\": \"\"}}, \"type\": \"scatterpolargl\"}], \"scatterternary\": [{\"marker\": {\"colorbar\": {\"outlinewidth\": 0, \"ticks\": \"\"}}, \"type\": \"scatterternary\"}], \"surface\": [{\"colorbar\": {\"outlinewidth\": 0, \"ticks\": \"\"}, \"colorscale\": [[0.0, \"#0d0887\"], [0.1111111111111111, \"#46039f\"], [0.2222222222222222, \"#7201a8\"], [0.3333333333333333, \"#9c179e\"], [0.4444444444444444, \"#bd3786\"], [0.5555555555555556, \"#d8576b\"], [0.6666666666666666, \"#ed7953\"], [0.7777777777777778, \"#fb9f3a\"], [0.8888888888888888, \"#fdca26\"], [1.0, \"#f0f921\"]], \"type\": \"surface\"}], \"table\": [{\"cells\": {\"fill\": {\"color\": \"#EBF0F8\"}, \"line\": {\"color\": \"white\"}}, \"header\": {\"fill\": {\"color\": \"#C8D4E3\"}, \"line\": {\"color\": \"white\"}}, \"type\": \"table\"}]}, \"layout\": {\"annotationdefaults\": {\"arrowcolor\": \"#2a3f5f\", \"arrowhead\": 0, \"arrowwidth\": 1}, \"coloraxis\": {\"colorbar\": {\"outlinewidth\": 0, \"ticks\": \"\"}}, \"colorscale\": {\"diverging\": [[0, \"#8e0152\"], [0.1, \"#c51b7d\"], [0.2, \"#de77ae\"], [0.3, \"#f1b6da\"], [0.4, \"#fde0ef\"], [0.5, \"#f7f7f7\"], [0.6, \"#e6f5d0\"], [0.7, \"#b8e186\"], [0.8, \"#7fbc41\"], [0.9, \"#4d9221\"], [1, \"#276419\"]], \"sequential\": [[0.0, \"#0d0887\"], [0.1111111111111111, \"#46039f\"], [0.2222222222222222, \"#7201a8\"], [0.3333333333333333, \"#9c179e\"], [0.4444444444444444, \"#bd3786\"], [0.5555555555555556, \"#d8576b\"], [0.6666666666666666, \"#ed7953\"], [0.7777777777777778, \"#fb9f3a\"], [0.8888888888888888, \"#fdca26\"], [1.0, \"#f0f921\"]], \"sequentialminus\": [[0.0, \"#0d0887\"], [0.1111111111111111, \"#46039f\"], [0.2222222222222222, \"#7201a8\"], [0.3333333333333333, \"#9c179e\"], [0.4444444444444444, \"#bd3786\"], [0.5555555555555556, \"#d8576b\"], [0.6666666666666666, \"#ed7953\"], [0.7777777777777778, \"#fb9f3a\"], [0.8888888888888888, \"#fdca26\"], [1.0, \"#f0f921\"]]}, \"colorway\": [\"#636efa\", \"#EF553B\", \"#00cc96\", \"#ab63fa\", \"#FFA15A\", \"#19d3f3\", \"#FF6692\", \"#B6E880\", \"#FF97FF\", \"#FECB52\"], \"font\": {\"color\": \"#2a3f5f\"}, \"geo\": {\"bgcolor\": \"white\", \"lakecolor\": \"white\", \"landcolor\": \"#E5ECF6\", \"showlakes\": true, \"showland\": true, \"subunitcolor\": \"white\"}, \"hoverlabel\": {\"align\": \"left\"}, \"hovermode\": \"closest\", \"mapbox\": {\"style\": \"light\"}, \"paper_bgcolor\": \"white\", \"plot_bgcolor\": \"#E5ECF6\", \"polar\": {\"angularaxis\": {\"gridcolor\": \"white\", \"linecolor\": \"white\", \"ticks\": \"\"}, \"bgcolor\": \"#E5ECF6\", \"radialaxis\": {\"gridcolor\": \"white\", \"linecolor\": \"white\", \"ticks\": \"\"}}, \"scene\": {\"xaxis\": {\"backgroundcolor\": \"#E5ECF6\", \"gridcolor\": \"white\", \"gridwidth\": 2, \"linecolor\": \"white\", \"showbackground\": true, \"ticks\": \"\", \"zerolinecolor\": \"white\"}, \"yaxis\": {\"backgroundcolor\": \"#E5ECF6\", \"gridcolor\": \"white\", \"gridwidth\": 2, \"linecolor\": \"white\", \"showbackground\": true, \"ticks\": \"\", \"zerolinecolor\": \"white\"}, \"zaxis\": {\"backgroundcolor\": \"#E5ECF6\", \"gridcolor\": \"white\", \"gridwidth\": 2, \"linecolor\": \"white\", \"showbackground\": true, \"ticks\": \"\", \"zerolinecolor\": \"white\"}}, \"shapedefaults\": {\"line\": {\"color\": \"#2a3f5f\"}}, \"ternary\": {\"aaxis\": {\"gridcolor\": \"white\", \"linecolor\": \"white\", \"ticks\": \"\"}, \"baxis\": {\"gridcolor\": \"white\", \"linecolor\": \"white\", \"ticks\": \"\"}, \"bgcolor\": \"#E5ECF6\", \"caxis\": {\"gridcolor\": \"white\", \"linecolor\": \"white\", \"ticks\": \"\"}}, \"title\": {\"x\": 0.05}, \"xaxis\": {\"automargin\": true, \"gridcolor\": \"white\", \"linecolor\": \"white\", \"ticks\": \"\", \"title\": {\"standoff\": 15}, \"zerolinecolor\": \"white\", \"zerolinewidth\": 2}, \"yaxis\": {\"automargin\": true, \"gridcolor\": \"white\", \"linecolor\": \"white\", \"ticks\": \"\", \"title\": {\"standoff\": 15}, \"zerolinecolor\": \"white\", \"zerolinewidth\": 2}}}, \"title\": {\"font\": {\"color\": \"#4D5663\"}}, \"xaxis\": {\"gridcolor\": \"#E1E5ED\", \"showgrid\": true, \"tickfont\": {\"color\": \"#4D5663\"}, \"title\": {\"font\": {\"color\": \"#4D5663\"}, \"text\": \"\"}, \"zerolinecolor\": \"#E1E5ED\"}, \"yaxis\": {\"gridcolor\": \"#E1E5ED\", \"showgrid\": true, \"tickfont\": {\"color\": \"#4D5663\"}, \"title\": {\"font\": {\"color\": \"#4D5663\"}, \"text\": \"\"}, \"zerolinecolor\": \"#E1E5ED\"}},\n",
       "                        {\"showLink\": true, \"linkText\": \"Export to plot.ly\", \"plotlyServerURL\": \"https://plot.ly\", \"responsive\": true}\n",
       "                    ).then(function(){\n",
       "                            \n",
       "var gd = document.getElementById('c706faec-3691-42fb-bd3f-5fc474f1366c');\n",
       "var x = new MutationObserver(function (mutations, observer) {{\n",
       "        var display = window.getComputedStyle(gd).display;\n",
       "        if (!display || display === 'none') {{\n",
       "            console.log([gd, 'removed!']);\n",
       "            Plotly.purge(gd);\n",
       "            observer.disconnect();\n",
       "        }}\n",
       "}});\n",
       "\n",
       "// Listen for the removal of the full notebook cells\n",
       "var notebookContainer = gd.closest('#notebook-container');\n",
       "if (notebookContainer) {{\n",
       "    x.observe(notebookContainer, {childList: true});\n",
       "}}\n",
       "\n",
       "// Listen for the clearing of the current output cell\n",
       "var outputEl = gd.closest('.output');\n",
       "if (outputEl) {{\n",
       "    x.observe(outputEl, {childList: true});\n",
       "}}\n",
       "\n",
       "                        })\n",
       "                };\n",
       "                });\n",
       "            </script>\n",
       "        </div>"
      ]
     },
     "metadata": {},
     "output_type": "display_data"
    }
   ],
   "source": [
    "df3.iplot(kind=\"surface\",colorscale=\"rdylbu\")"
   ]
  },
  {
   "cell_type": "code",
   "execution_count": 45,
   "metadata": {},
   "outputs": [
    {
     "data": {
      "application/vnd.plotly.v1+json": {
       "config": {
        "linkText": "Export to plot.ly",
        "plotlyServerURL": "https://plot.ly",
        "showLink": true
       },
       "data": [
        {
         "histfunc": "count",
         "histnorm": "",
         "marker": {
          "color": "rgba(255, 153, 51, 1.0)",
          "line": {
           "color": "#4D5663",
           "width": 1.3
          }
         },
         "name": "A",
         "opacity": 0.8,
         "orientation": "v",
         "type": "histogram",
         "x": [
          -0.6070225586537845,
          -1.8638739423338426,
          -0.02945872276840593,
          -1.301291297310065,
          0.48084833474018185,
          0.7628548206270173,
          -0.28843164746247685,
          0.6019043240278631,
          -0.8763709987921026,
          1.702802294665911,
          0.03894666378491089,
          -0.391247915748716,
          -0.3232684791801891,
          0.5555540390983371,
          -0.5833873983870684,
          -0.0844703205455899,
          -0.5139830214610452,
          -0.9874331374104602,
          1.3231224108983104,
          1.3852294994314818,
          0.495802931458785,
          1.5044941738291178,
          2.013539747855578,
          -0.9350456661961715,
          -0.07199477165247954,
          -0.012588234544470622,
          1.0286702624831179,
          -0.30675308423320574,
          -2.0813241088469705,
          0.9113534548782632,
          -1.1821295689927516,
          0.39712861820350376,
          0.32421117523347154,
          -1.388467161393341,
          -1.8196690472248764,
          1.2781438676085672,
          1.1244717635481953,
          2.6878665336118686,
          -1.6109429503383526,
          -0.3309381064713909,
          0.1012450075722931,
          -0.6927193028799976,
          -1.7779565769379178,
          -0.4937356719987772,
          -0.9214348954348198,
          0.04960273216795757,
          -2.6493834985687386,
          -0.3863153542191854,
          -0.5203504684321614,
          0.5977880177234898,
          1.5935857254212724,
          0.30130947631160576,
          -0.24209057064901562,
          2.393932462989073,
          0.48453201427412146,
          1.1471246976281726,
          1.2228406556961817,
          1.0816068853591136,
          -0.7424208071880561,
          0.7861844219733373,
          0.7498272838099621,
          -0.025596103412613782,
          -0.8244905811186303,
          0.6800258715624917,
          0.5426539687452233,
          -0.3376995252397134,
          0.4782136125101678,
          1.61174979268537,
          -0.009447379791987958,
          2.0385534852770575,
          2.017903156882396,
          -0.04108963367107593,
          -0.37405806660701296,
          1.6557536077103534,
          -0.9180687240107729,
          -1.3509762396010478,
          -1.3245247370933935,
          0.1883981543352357,
          -1.007096270807894,
          0.112857625621616,
          -0.03716265055480332,
          -1.3047337291461698,
          -1.8938223768162143,
          -0.05915120037142549,
          -0.022261006449155404,
          -2.2257467886082813,
          0.299708338942967,
          -0.11551816567653965,
          -0.22224470630933316,
          1.8203093144170124,
          -0.9809281853994635,
          0.8258301853601936,
          1.747369363537277,
          0.4451763013778281,
          0.8233981834134183,
          -0.37937479326251894,
          -1.4536121716892259,
          1.1622792298167708,
          0.2870601492366928,
          -1.3293818887641389
         ]
        }
       ],
       "layout": {
        "barmode": "overlay",
        "legend": {
         "bgcolor": "#F5F6F9",
         "font": {
          "color": "#4D5663"
         }
        },
        "paper_bgcolor": "#F5F6F9",
        "plot_bgcolor": "#F5F6F9",
        "template": {
         "data": {
          "bar": [
           {
            "error_x": {
             "color": "#2a3f5f"
            },
            "error_y": {
             "color": "#2a3f5f"
            },
            "marker": {
             "line": {
              "color": "#E5ECF6",
              "width": 0.5
             }
            },
            "type": "bar"
           }
          ],
          "barpolar": [
           {
            "marker": {
             "line": {
              "color": "#E5ECF6",
              "width": 0.5
             }
            },
            "type": "barpolar"
           }
          ],
          "carpet": [
           {
            "aaxis": {
             "endlinecolor": "#2a3f5f",
             "gridcolor": "white",
             "linecolor": "white",
             "minorgridcolor": "white",
             "startlinecolor": "#2a3f5f"
            },
            "baxis": {
             "endlinecolor": "#2a3f5f",
             "gridcolor": "white",
             "linecolor": "white",
             "minorgridcolor": "white",
             "startlinecolor": "#2a3f5f"
            },
            "type": "carpet"
           }
          ],
          "choropleth": [
           {
            "colorbar": {
             "outlinewidth": 0,
             "ticks": ""
            },
            "type": "choropleth"
           }
          ],
          "contour": [
           {
            "colorbar": {
             "outlinewidth": 0,
             "ticks": ""
            },
            "colorscale": [
             [
              0,
              "#0d0887"
             ],
             [
              0.1111111111111111,
              "#46039f"
             ],
             [
              0.2222222222222222,
              "#7201a8"
             ],
             [
              0.3333333333333333,
              "#9c179e"
             ],
             [
              0.4444444444444444,
              "#bd3786"
             ],
             [
              0.5555555555555556,
              "#d8576b"
             ],
             [
              0.6666666666666666,
              "#ed7953"
             ],
             [
              0.7777777777777778,
              "#fb9f3a"
             ],
             [
              0.8888888888888888,
              "#fdca26"
             ],
             [
              1,
              "#f0f921"
             ]
            ],
            "type": "contour"
           }
          ],
          "contourcarpet": [
           {
            "colorbar": {
             "outlinewidth": 0,
             "ticks": ""
            },
            "type": "contourcarpet"
           }
          ],
          "heatmap": [
           {
            "colorbar": {
             "outlinewidth": 0,
             "ticks": ""
            },
            "colorscale": [
             [
              0,
              "#0d0887"
             ],
             [
              0.1111111111111111,
              "#46039f"
             ],
             [
              0.2222222222222222,
              "#7201a8"
             ],
             [
              0.3333333333333333,
              "#9c179e"
             ],
             [
              0.4444444444444444,
              "#bd3786"
             ],
             [
              0.5555555555555556,
              "#d8576b"
             ],
             [
              0.6666666666666666,
              "#ed7953"
             ],
             [
              0.7777777777777778,
              "#fb9f3a"
             ],
             [
              0.8888888888888888,
              "#fdca26"
             ],
             [
              1,
              "#f0f921"
             ]
            ],
            "type": "heatmap"
           }
          ],
          "heatmapgl": [
           {
            "colorbar": {
             "outlinewidth": 0,
             "ticks": ""
            },
            "colorscale": [
             [
              0,
              "#0d0887"
             ],
             [
              0.1111111111111111,
              "#46039f"
             ],
             [
              0.2222222222222222,
              "#7201a8"
             ],
             [
              0.3333333333333333,
              "#9c179e"
             ],
             [
              0.4444444444444444,
              "#bd3786"
             ],
             [
              0.5555555555555556,
              "#d8576b"
             ],
             [
              0.6666666666666666,
              "#ed7953"
             ],
             [
              0.7777777777777778,
              "#fb9f3a"
             ],
             [
              0.8888888888888888,
              "#fdca26"
             ],
             [
              1,
              "#f0f921"
             ]
            ],
            "type": "heatmapgl"
           }
          ],
          "histogram": [
           {
            "marker": {
             "colorbar": {
              "outlinewidth": 0,
              "ticks": ""
             }
            },
            "type": "histogram"
           }
          ],
          "histogram2d": [
           {
            "colorbar": {
             "outlinewidth": 0,
             "ticks": ""
            },
            "colorscale": [
             [
              0,
              "#0d0887"
             ],
             [
              0.1111111111111111,
              "#46039f"
             ],
             [
              0.2222222222222222,
              "#7201a8"
             ],
             [
              0.3333333333333333,
              "#9c179e"
             ],
             [
              0.4444444444444444,
              "#bd3786"
             ],
             [
              0.5555555555555556,
              "#d8576b"
             ],
             [
              0.6666666666666666,
              "#ed7953"
             ],
             [
              0.7777777777777778,
              "#fb9f3a"
             ],
             [
              0.8888888888888888,
              "#fdca26"
             ],
             [
              1,
              "#f0f921"
             ]
            ],
            "type": "histogram2d"
           }
          ],
          "histogram2dcontour": [
           {
            "colorbar": {
             "outlinewidth": 0,
             "ticks": ""
            },
            "colorscale": [
             [
              0,
              "#0d0887"
             ],
             [
              0.1111111111111111,
              "#46039f"
             ],
             [
              0.2222222222222222,
              "#7201a8"
             ],
             [
              0.3333333333333333,
              "#9c179e"
             ],
             [
              0.4444444444444444,
              "#bd3786"
             ],
             [
              0.5555555555555556,
              "#d8576b"
             ],
             [
              0.6666666666666666,
              "#ed7953"
             ],
             [
              0.7777777777777778,
              "#fb9f3a"
             ],
             [
              0.8888888888888888,
              "#fdca26"
             ],
             [
              1,
              "#f0f921"
             ]
            ],
            "type": "histogram2dcontour"
           }
          ],
          "mesh3d": [
           {
            "colorbar": {
             "outlinewidth": 0,
             "ticks": ""
            },
            "type": "mesh3d"
           }
          ],
          "parcoords": [
           {
            "line": {
             "colorbar": {
              "outlinewidth": 0,
              "ticks": ""
             }
            },
            "type": "parcoords"
           }
          ],
          "pie": [
           {
            "automargin": true,
            "type": "pie"
           }
          ],
          "scatter": [
           {
            "marker": {
             "colorbar": {
              "outlinewidth": 0,
              "ticks": ""
             }
            },
            "type": "scatter"
           }
          ],
          "scatter3d": [
           {
            "line": {
             "colorbar": {
              "outlinewidth": 0,
              "ticks": ""
             }
            },
            "marker": {
             "colorbar": {
              "outlinewidth": 0,
              "ticks": ""
             }
            },
            "type": "scatter3d"
           }
          ],
          "scattercarpet": [
           {
            "marker": {
             "colorbar": {
              "outlinewidth": 0,
              "ticks": ""
             }
            },
            "type": "scattercarpet"
           }
          ],
          "scattergeo": [
           {
            "marker": {
             "colorbar": {
              "outlinewidth": 0,
              "ticks": ""
             }
            },
            "type": "scattergeo"
           }
          ],
          "scattergl": [
           {
            "marker": {
             "colorbar": {
              "outlinewidth": 0,
              "ticks": ""
             }
            },
            "type": "scattergl"
           }
          ],
          "scattermapbox": [
           {
            "marker": {
             "colorbar": {
              "outlinewidth": 0,
              "ticks": ""
             }
            },
            "type": "scattermapbox"
           }
          ],
          "scatterpolar": [
           {
            "marker": {
             "colorbar": {
              "outlinewidth": 0,
              "ticks": ""
             }
            },
            "type": "scatterpolar"
           }
          ],
          "scatterpolargl": [
           {
            "marker": {
             "colorbar": {
              "outlinewidth": 0,
              "ticks": ""
             }
            },
            "type": "scatterpolargl"
           }
          ],
          "scatterternary": [
           {
            "marker": {
             "colorbar": {
              "outlinewidth": 0,
              "ticks": ""
             }
            },
            "type": "scatterternary"
           }
          ],
          "surface": [
           {
            "colorbar": {
             "outlinewidth": 0,
             "ticks": ""
            },
            "colorscale": [
             [
              0,
              "#0d0887"
             ],
             [
              0.1111111111111111,
              "#46039f"
             ],
             [
              0.2222222222222222,
              "#7201a8"
             ],
             [
              0.3333333333333333,
              "#9c179e"
             ],
             [
              0.4444444444444444,
              "#bd3786"
             ],
             [
              0.5555555555555556,
              "#d8576b"
             ],
             [
              0.6666666666666666,
              "#ed7953"
             ],
             [
              0.7777777777777778,
              "#fb9f3a"
             ],
             [
              0.8888888888888888,
              "#fdca26"
             ],
             [
              1,
              "#f0f921"
             ]
            ],
            "type": "surface"
           }
          ],
          "table": [
           {
            "cells": {
             "fill": {
              "color": "#EBF0F8"
             },
             "line": {
              "color": "white"
             }
            },
            "header": {
             "fill": {
              "color": "#C8D4E3"
             },
             "line": {
              "color": "white"
             }
            },
            "type": "table"
           }
          ]
         },
         "layout": {
          "annotationdefaults": {
           "arrowcolor": "#2a3f5f",
           "arrowhead": 0,
           "arrowwidth": 1
          },
          "coloraxis": {
           "colorbar": {
            "outlinewidth": 0,
            "ticks": ""
           }
          },
          "colorscale": {
           "diverging": [
            [
             0,
             "#8e0152"
            ],
            [
             0.1,
             "#c51b7d"
            ],
            [
             0.2,
             "#de77ae"
            ],
            [
             0.3,
             "#f1b6da"
            ],
            [
             0.4,
             "#fde0ef"
            ],
            [
             0.5,
             "#f7f7f7"
            ],
            [
             0.6,
             "#e6f5d0"
            ],
            [
             0.7,
             "#b8e186"
            ],
            [
             0.8,
             "#7fbc41"
            ],
            [
             0.9,
             "#4d9221"
            ],
            [
             1,
             "#276419"
            ]
           ],
           "sequential": [
            [
             0,
             "#0d0887"
            ],
            [
             0.1111111111111111,
             "#46039f"
            ],
            [
             0.2222222222222222,
             "#7201a8"
            ],
            [
             0.3333333333333333,
             "#9c179e"
            ],
            [
             0.4444444444444444,
             "#bd3786"
            ],
            [
             0.5555555555555556,
             "#d8576b"
            ],
            [
             0.6666666666666666,
             "#ed7953"
            ],
            [
             0.7777777777777778,
             "#fb9f3a"
            ],
            [
             0.8888888888888888,
             "#fdca26"
            ],
            [
             1,
             "#f0f921"
            ]
           ],
           "sequentialminus": [
            [
             0,
             "#0d0887"
            ],
            [
             0.1111111111111111,
             "#46039f"
            ],
            [
             0.2222222222222222,
             "#7201a8"
            ],
            [
             0.3333333333333333,
             "#9c179e"
            ],
            [
             0.4444444444444444,
             "#bd3786"
            ],
            [
             0.5555555555555556,
             "#d8576b"
            ],
            [
             0.6666666666666666,
             "#ed7953"
            ],
            [
             0.7777777777777778,
             "#fb9f3a"
            ],
            [
             0.8888888888888888,
             "#fdca26"
            ],
            [
             1,
             "#f0f921"
            ]
           ]
          },
          "colorway": [
           "#636efa",
           "#EF553B",
           "#00cc96",
           "#ab63fa",
           "#FFA15A",
           "#19d3f3",
           "#FF6692",
           "#B6E880",
           "#FF97FF",
           "#FECB52"
          ],
          "font": {
           "color": "#2a3f5f"
          },
          "geo": {
           "bgcolor": "white",
           "lakecolor": "white",
           "landcolor": "#E5ECF6",
           "showlakes": true,
           "showland": true,
           "subunitcolor": "white"
          },
          "hoverlabel": {
           "align": "left"
          },
          "hovermode": "closest",
          "mapbox": {
           "style": "light"
          },
          "paper_bgcolor": "white",
          "plot_bgcolor": "#E5ECF6",
          "polar": {
           "angularaxis": {
            "gridcolor": "white",
            "linecolor": "white",
            "ticks": ""
           },
           "bgcolor": "#E5ECF6",
           "radialaxis": {
            "gridcolor": "white",
            "linecolor": "white",
            "ticks": ""
           }
          },
          "scene": {
           "xaxis": {
            "backgroundcolor": "#E5ECF6",
            "gridcolor": "white",
            "gridwidth": 2,
            "linecolor": "white",
            "showbackground": true,
            "ticks": "",
            "zerolinecolor": "white"
           },
           "yaxis": {
            "backgroundcolor": "#E5ECF6",
            "gridcolor": "white",
            "gridwidth": 2,
            "linecolor": "white",
            "showbackground": true,
            "ticks": "",
            "zerolinecolor": "white"
           },
           "zaxis": {
            "backgroundcolor": "#E5ECF6",
            "gridcolor": "white",
            "gridwidth": 2,
            "linecolor": "white",
            "showbackground": true,
            "ticks": "",
            "zerolinecolor": "white"
           }
          },
          "shapedefaults": {
           "line": {
            "color": "#2a3f5f"
           }
          },
          "ternary": {
           "aaxis": {
            "gridcolor": "white",
            "linecolor": "white",
            "ticks": ""
           },
           "baxis": {
            "gridcolor": "white",
            "linecolor": "white",
            "ticks": ""
           },
           "bgcolor": "#E5ECF6",
           "caxis": {
            "gridcolor": "white",
            "linecolor": "white",
            "ticks": ""
           }
          },
          "title": {
           "x": 0.05
          },
          "xaxis": {
           "automargin": true,
           "gridcolor": "white",
           "linecolor": "white",
           "ticks": "",
           "title": {
            "standoff": 15
           },
           "zerolinecolor": "white",
           "zerolinewidth": 2
          },
          "yaxis": {
           "automargin": true,
           "gridcolor": "white",
           "linecolor": "white",
           "ticks": "",
           "title": {
            "standoff": 15
           },
           "zerolinecolor": "white",
           "zerolinewidth": 2
          }
         }
        },
        "title": {
         "font": {
          "color": "#4D5663"
         }
        },
        "xaxis": {
         "gridcolor": "#E1E5ED",
         "showgrid": true,
         "tickfont": {
          "color": "#4D5663"
         },
         "title": {
          "font": {
           "color": "#4D5663"
          },
          "text": ""
         },
         "zerolinecolor": "#E1E5ED"
        },
        "yaxis": {
         "gridcolor": "#E1E5ED",
         "showgrid": true,
         "tickfont": {
          "color": "#4D5663"
         },
         "title": {
          "font": {
           "color": "#4D5663"
          },
          "text": ""
         },
         "zerolinecolor": "#E1E5ED"
        }
       }
      },
      "text/html": [
       "<div>\n",
       "        \n",
       "        \n",
       "            <div id=\"fb964f0e-bdd5-4965-af22-f6493dc4b41c\" class=\"plotly-graph-div\" style=\"height:525px; width:100%;\"></div>\n",
       "            <script type=\"text/javascript\">\n",
       "                require([\"plotly\"], function(Plotly) {\n",
       "                    window.PLOTLYENV=window.PLOTLYENV || {};\n",
       "                    window.PLOTLYENV.BASE_URL='https://plot.ly';\n",
       "                    \n",
       "                if (document.getElementById(\"fb964f0e-bdd5-4965-af22-f6493dc4b41c\")) {\n",
       "                    Plotly.newPlot(\n",
       "                        'fb964f0e-bdd5-4965-af22-f6493dc4b41c',\n",
       "                        [{\"histfunc\": \"count\", \"histnorm\": \"\", \"marker\": {\"color\": \"rgba(255, 153, 51, 1.0)\", \"line\": {\"color\": \"#4D5663\", \"width\": 1.3}}, \"name\": \"A\", \"opacity\": 0.8, \"orientation\": \"v\", \"type\": \"histogram\", \"x\": [-0.6070225586537845, -1.8638739423338426, -0.02945872276840593, -1.301291297310065, 0.48084833474018185, 0.7628548206270173, -0.28843164746247685, 0.6019043240278631, -0.8763709987921026, 1.702802294665911, 0.03894666378491089, -0.391247915748716, -0.3232684791801891, 0.5555540390983371, -0.5833873983870684, -0.0844703205455899, -0.5139830214610452, -0.9874331374104602, 1.3231224108983104, 1.3852294994314818, 0.495802931458785, 1.5044941738291178, 2.013539747855578, -0.9350456661961715, -0.07199477165247954, -0.012588234544470622, 1.0286702624831179, -0.30675308423320574, -2.0813241088469705, 0.9113534548782632, -1.1821295689927516, 0.39712861820350376, 0.32421117523347154, -1.388467161393341, -1.8196690472248764, 1.2781438676085672, 1.1244717635481953, 2.6878665336118686, -1.6109429503383526, -0.3309381064713909, 0.1012450075722931, -0.6927193028799976, -1.7779565769379178, -0.4937356719987772, -0.9214348954348198, 0.04960273216795757, -2.6493834985687386, -0.3863153542191854, -0.5203504684321614, 0.5977880177234898, 1.5935857254212724, 0.30130947631160576, -0.24209057064901562, 2.393932462989073, 0.48453201427412146, 1.1471246976281726, 1.2228406556961817, 1.0816068853591136, -0.7424208071880561, 0.7861844219733373, 0.7498272838099621, -0.025596103412613782, -0.8244905811186303, 0.6800258715624917, 0.5426539687452233, -0.3376995252397134, 0.4782136125101678, 1.61174979268537, -0.009447379791987958, 2.0385534852770575, 2.017903156882396, -0.04108963367107593, -0.37405806660701296, 1.6557536077103534, -0.9180687240107729, -1.3509762396010478, -1.3245247370933935, 0.1883981543352357, -1.007096270807894, 0.112857625621616, -0.03716265055480332, -1.3047337291461698, -1.8938223768162143, -0.05915120037142549, -0.022261006449155404, -2.2257467886082813, 0.299708338942967, -0.11551816567653965, -0.22224470630933316, 1.8203093144170124, -0.9809281853994635, 0.8258301853601936, 1.747369363537277, 0.4451763013778281, 0.8233981834134183, -0.37937479326251894, -1.4536121716892259, 1.1622792298167708, 0.2870601492366928, -1.3293818887641389]}],\n",
       "                        {\"barmode\": \"overlay\", \"legend\": {\"bgcolor\": \"#F5F6F9\", \"font\": {\"color\": \"#4D5663\"}}, \"paper_bgcolor\": \"#F5F6F9\", \"plot_bgcolor\": \"#F5F6F9\", \"template\": {\"data\": {\"bar\": [{\"error_x\": {\"color\": \"#2a3f5f\"}, \"error_y\": {\"color\": \"#2a3f5f\"}, \"marker\": {\"line\": {\"color\": \"#E5ECF6\", \"width\": 0.5}}, \"type\": \"bar\"}], \"barpolar\": [{\"marker\": {\"line\": {\"color\": \"#E5ECF6\", \"width\": 0.5}}, \"type\": \"barpolar\"}], \"carpet\": [{\"aaxis\": {\"endlinecolor\": \"#2a3f5f\", \"gridcolor\": \"white\", \"linecolor\": \"white\", \"minorgridcolor\": \"white\", \"startlinecolor\": \"#2a3f5f\"}, \"baxis\": {\"endlinecolor\": \"#2a3f5f\", \"gridcolor\": \"white\", \"linecolor\": \"white\", \"minorgridcolor\": \"white\", \"startlinecolor\": \"#2a3f5f\"}, \"type\": \"carpet\"}], \"choropleth\": [{\"colorbar\": {\"outlinewidth\": 0, \"ticks\": \"\"}, \"type\": \"choropleth\"}], \"contour\": [{\"colorbar\": {\"outlinewidth\": 0, \"ticks\": \"\"}, \"colorscale\": [[0.0, \"#0d0887\"], [0.1111111111111111, \"#46039f\"], [0.2222222222222222, \"#7201a8\"], [0.3333333333333333, \"#9c179e\"], [0.4444444444444444, \"#bd3786\"], [0.5555555555555556, \"#d8576b\"], [0.6666666666666666, \"#ed7953\"], [0.7777777777777778, \"#fb9f3a\"], [0.8888888888888888, \"#fdca26\"], [1.0, \"#f0f921\"]], \"type\": \"contour\"}], \"contourcarpet\": [{\"colorbar\": {\"outlinewidth\": 0, \"ticks\": \"\"}, \"type\": \"contourcarpet\"}], \"heatmap\": [{\"colorbar\": {\"outlinewidth\": 0, \"ticks\": \"\"}, \"colorscale\": [[0.0, \"#0d0887\"], [0.1111111111111111, \"#46039f\"], [0.2222222222222222, \"#7201a8\"], [0.3333333333333333, \"#9c179e\"], [0.4444444444444444, \"#bd3786\"], [0.5555555555555556, \"#d8576b\"], [0.6666666666666666, \"#ed7953\"], [0.7777777777777778, \"#fb9f3a\"], [0.8888888888888888, \"#fdca26\"], [1.0, \"#f0f921\"]], \"type\": \"heatmap\"}], \"heatmapgl\": [{\"colorbar\": {\"outlinewidth\": 0, \"ticks\": \"\"}, \"colorscale\": [[0.0, \"#0d0887\"], [0.1111111111111111, \"#46039f\"], [0.2222222222222222, \"#7201a8\"], [0.3333333333333333, \"#9c179e\"], [0.4444444444444444, \"#bd3786\"], [0.5555555555555556, \"#d8576b\"], [0.6666666666666666, \"#ed7953\"], [0.7777777777777778, \"#fb9f3a\"], [0.8888888888888888, \"#fdca26\"], [1.0, \"#f0f921\"]], \"type\": \"heatmapgl\"}], \"histogram\": [{\"marker\": {\"colorbar\": {\"outlinewidth\": 0, \"ticks\": \"\"}}, \"type\": \"histogram\"}], \"histogram2d\": [{\"colorbar\": {\"outlinewidth\": 0, \"ticks\": \"\"}, \"colorscale\": [[0.0, \"#0d0887\"], [0.1111111111111111, \"#46039f\"], [0.2222222222222222, \"#7201a8\"], [0.3333333333333333, \"#9c179e\"], [0.4444444444444444, \"#bd3786\"], [0.5555555555555556, \"#d8576b\"], [0.6666666666666666, \"#ed7953\"], [0.7777777777777778, \"#fb9f3a\"], [0.8888888888888888, \"#fdca26\"], [1.0, \"#f0f921\"]], \"type\": \"histogram2d\"}], \"histogram2dcontour\": [{\"colorbar\": {\"outlinewidth\": 0, \"ticks\": \"\"}, \"colorscale\": [[0.0, \"#0d0887\"], [0.1111111111111111, \"#46039f\"], [0.2222222222222222, \"#7201a8\"], [0.3333333333333333, \"#9c179e\"], [0.4444444444444444, \"#bd3786\"], [0.5555555555555556, \"#d8576b\"], [0.6666666666666666, \"#ed7953\"], [0.7777777777777778, \"#fb9f3a\"], [0.8888888888888888, \"#fdca26\"], [1.0, \"#f0f921\"]], \"type\": \"histogram2dcontour\"}], \"mesh3d\": [{\"colorbar\": {\"outlinewidth\": 0, \"ticks\": \"\"}, \"type\": \"mesh3d\"}], \"parcoords\": [{\"line\": {\"colorbar\": {\"outlinewidth\": 0, \"ticks\": \"\"}}, \"type\": \"parcoords\"}], \"pie\": [{\"automargin\": true, \"type\": \"pie\"}], \"scatter\": [{\"marker\": {\"colorbar\": {\"outlinewidth\": 0, \"ticks\": \"\"}}, \"type\": \"scatter\"}], \"scatter3d\": [{\"line\": {\"colorbar\": {\"outlinewidth\": 0, \"ticks\": \"\"}}, \"marker\": {\"colorbar\": {\"outlinewidth\": 0, \"ticks\": \"\"}}, \"type\": \"scatter3d\"}], \"scattercarpet\": [{\"marker\": {\"colorbar\": {\"outlinewidth\": 0, \"ticks\": \"\"}}, \"type\": \"scattercarpet\"}], \"scattergeo\": [{\"marker\": {\"colorbar\": {\"outlinewidth\": 0, \"ticks\": \"\"}}, \"type\": \"scattergeo\"}], \"scattergl\": [{\"marker\": {\"colorbar\": {\"outlinewidth\": 0, \"ticks\": \"\"}}, \"type\": \"scattergl\"}], \"scattermapbox\": [{\"marker\": {\"colorbar\": {\"outlinewidth\": 0, \"ticks\": \"\"}}, \"type\": \"scattermapbox\"}], \"scatterpolar\": [{\"marker\": {\"colorbar\": {\"outlinewidth\": 0, \"ticks\": \"\"}}, \"type\": \"scatterpolar\"}], \"scatterpolargl\": [{\"marker\": {\"colorbar\": {\"outlinewidth\": 0, \"ticks\": \"\"}}, \"type\": \"scatterpolargl\"}], \"scatterternary\": [{\"marker\": {\"colorbar\": {\"outlinewidth\": 0, \"ticks\": \"\"}}, \"type\": \"scatterternary\"}], \"surface\": [{\"colorbar\": {\"outlinewidth\": 0, \"ticks\": \"\"}, \"colorscale\": [[0.0, \"#0d0887\"], [0.1111111111111111, \"#46039f\"], [0.2222222222222222, \"#7201a8\"], [0.3333333333333333, \"#9c179e\"], [0.4444444444444444, \"#bd3786\"], [0.5555555555555556, \"#d8576b\"], [0.6666666666666666, \"#ed7953\"], [0.7777777777777778, \"#fb9f3a\"], [0.8888888888888888, \"#fdca26\"], [1.0, \"#f0f921\"]], \"type\": \"surface\"}], \"table\": [{\"cells\": {\"fill\": {\"color\": \"#EBF0F8\"}, \"line\": {\"color\": \"white\"}}, \"header\": {\"fill\": {\"color\": \"#C8D4E3\"}, \"line\": {\"color\": \"white\"}}, \"type\": \"table\"}]}, \"layout\": {\"annotationdefaults\": {\"arrowcolor\": \"#2a3f5f\", \"arrowhead\": 0, \"arrowwidth\": 1}, \"coloraxis\": {\"colorbar\": {\"outlinewidth\": 0, \"ticks\": \"\"}}, \"colorscale\": {\"diverging\": [[0, \"#8e0152\"], [0.1, \"#c51b7d\"], [0.2, \"#de77ae\"], [0.3, \"#f1b6da\"], [0.4, \"#fde0ef\"], [0.5, \"#f7f7f7\"], [0.6, \"#e6f5d0\"], [0.7, \"#b8e186\"], [0.8, \"#7fbc41\"], [0.9, \"#4d9221\"], [1, \"#276419\"]], \"sequential\": [[0.0, \"#0d0887\"], [0.1111111111111111, \"#46039f\"], [0.2222222222222222, \"#7201a8\"], [0.3333333333333333, \"#9c179e\"], [0.4444444444444444, \"#bd3786\"], [0.5555555555555556, \"#d8576b\"], [0.6666666666666666, \"#ed7953\"], [0.7777777777777778, \"#fb9f3a\"], [0.8888888888888888, \"#fdca26\"], [1.0, \"#f0f921\"]], \"sequentialminus\": [[0.0, \"#0d0887\"], [0.1111111111111111, \"#46039f\"], [0.2222222222222222, \"#7201a8\"], [0.3333333333333333, \"#9c179e\"], [0.4444444444444444, \"#bd3786\"], [0.5555555555555556, \"#d8576b\"], [0.6666666666666666, \"#ed7953\"], [0.7777777777777778, \"#fb9f3a\"], [0.8888888888888888, \"#fdca26\"], [1.0, \"#f0f921\"]]}, \"colorway\": [\"#636efa\", \"#EF553B\", \"#00cc96\", \"#ab63fa\", \"#FFA15A\", \"#19d3f3\", \"#FF6692\", \"#B6E880\", \"#FF97FF\", \"#FECB52\"], \"font\": {\"color\": \"#2a3f5f\"}, \"geo\": {\"bgcolor\": \"white\", \"lakecolor\": \"white\", \"landcolor\": \"#E5ECF6\", \"showlakes\": true, \"showland\": true, \"subunitcolor\": \"white\"}, \"hoverlabel\": {\"align\": \"left\"}, \"hovermode\": \"closest\", \"mapbox\": {\"style\": \"light\"}, \"paper_bgcolor\": \"white\", \"plot_bgcolor\": \"#E5ECF6\", \"polar\": {\"angularaxis\": {\"gridcolor\": \"white\", \"linecolor\": \"white\", \"ticks\": \"\"}, \"bgcolor\": \"#E5ECF6\", \"radialaxis\": {\"gridcolor\": \"white\", \"linecolor\": \"white\", \"ticks\": \"\"}}, \"scene\": {\"xaxis\": {\"backgroundcolor\": \"#E5ECF6\", \"gridcolor\": \"white\", \"gridwidth\": 2, \"linecolor\": \"white\", \"showbackground\": true, \"ticks\": \"\", \"zerolinecolor\": \"white\"}, \"yaxis\": {\"backgroundcolor\": \"#E5ECF6\", \"gridcolor\": \"white\", \"gridwidth\": 2, \"linecolor\": \"white\", \"showbackground\": true, \"ticks\": \"\", \"zerolinecolor\": \"white\"}, \"zaxis\": {\"backgroundcolor\": \"#E5ECF6\", \"gridcolor\": \"white\", \"gridwidth\": 2, \"linecolor\": \"white\", \"showbackground\": true, \"ticks\": \"\", \"zerolinecolor\": \"white\"}}, \"shapedefaults\": {\"line\": {\"color\": \"#2a3f5f\"}}, \"ternary\": {\"aaxis\": {\"gridcolor\": \"white\", \"linecolor\": \"white\", \"ticks\": \"\"}, \"baxis\": {\"gridcolor\": \"white\", \"linecolor\": \"white\", \"ticks\": \"\"}, \"bgcolor\": \"#E5ECF6\", \"caxis\": {\"gridcolor\": \"white\", \"linecolor\": \"white\", \"ticks\": \"\"}}, \"title\": {\"x\": 0.05}, \"xaxis\": {\"automargin\": true, \"gridcolor\": \"white\", \"linecolor\": \"white\", \"ticks\": \"\", \"title\": {\"standoff\": 15}, \"zerolinecolor\": \"white\", \"zerolinewidth\": 2}, \"yaxis\": {\"automargin\": true, \"gridcolor\": \"white\", \"linecolor\": \"white\", \"ticks\": \"\", \"title\": {\"standoff\": 15}, \"zerolinecolor\": \"white\", \"zerolinewidth\": 2}}}, \"title\": {\"font\": {\"color\": \"#4D5663\"}}, \"xaxis\": {\"gridcolor\": \"#E1E5ED\", \"showgrid\": true, \"tickfont\": {\"color\": \"#4D5663\"}, \"title\": {\"font\": {\"color\": \"#4D5663\"}, \"text\": \"\"}, \"zerolinecolor\": \"#E1E5ED\"}, \"yaxis\": {\"gridcolor\": \"#E1E5ED\", \"showgrid\": true, \"tickfont\": {\"color\": \"#4D5663\"}, \"title\": {\"font\": {\"color\": \"#4D5663\"}, \"text\": \"\"}, \"zerolinecolor\": \"#E1E5ED\"}},\n",
       "                        {\"showLink\": true, \"linkText\": \"Export to plot.ly\", \"plotlyServerURL\": \"https://plot.ly\", \"responsive\": true}\n",
       "                    ).then(function(){\n",
       "                            \n",
       "var gd = document.getElementById('fb964f0e-bdd5-4965-af22-f6493dc4b41c');\n",
       "var x = new MutationObserver(function (mutations, observer) {{\n",
       "        var display = window.getComputedStyle(gd).display;\n",
       "        if (!display || display === 'none') {{\n",
       "            console.log([gd, 'removed!']);\n",
       "            Plotly.purge(gd);\n",
       "            observer.disconnect();\n",
       "        }}\n",
       "}});\n",
       "\n",
       "// Listen for the removal of the full notebook cells\n",
       "var notebookContainer = gd.closest('#notebook-container');\n",
       "if (notebookContainer) {{\n",
       "    x.observe(notebookContainer, {childList: true});\n",
       "}}\n",
       "\n",
       "// Listen for the clearing of the current output cell\n",
       "var outputEl = gd.closest('.output');\n",
       "if (outputEl) {{\n",
       "    x.observe(outputEl, {childList: true});\n",
       "}}\n",
       "\n",
       "                        })\n",
       "                };\n",
       "                });\n",
       "            </script>\n",
       "        </div>"
      ]
     },
     "metadata": {},
     "output_type": "display_data"
    }
   ],
   "source": [
    "df[\"A\"].iplot(kind=\"hist\")"
   ]
  },
  {
   "cell_type": "code",
   "execution_count": 47,
   "metadata": {},
   "outputs": [
    {
     "data": {
      "application/vnd.plotly.v1+json": {
       "config": {
        "linkText": "Export to plot.ly",
        "plotlyServerURL": "https://plot.ly",
        "showLink": true
       },
       "data": [
        {
         "histfunc": "count",
         "histnorm": "",
         "marker": {
          "color": "rgba(255, 153, 51, 1.0)",
          "line": {
           "color": "#4D5663",
           "width": 1.3
          }
         },
         "name": "A",
         "nbinsx": 50,
         "opacity": 0.8,
         "orientation": "v",
         "type": "histogram",
         "x": [
          -0.6070225586537845,
          -1.8638739423338426,
          -0.02945872276840593,
          -1.301291297310065,
          0.48084833474018185,
          0.7628548206270173,
          -0.28843164746247685,
          0.6019043240278631,
          -0.8763709987921026,
          1.702802294665911,
          0.03894666378491089,
          -0.391247915748716,
          -0.3232684791801891,
          0.5555540390983371,
          -0.5833873983870684,
          -0.0844703205455899,
          -0.5139830214610452,
          -0.9874331374104602,
          1.3231224108983104,
          1.3852294994314818,
          0.495802931458785,
          1.5044941738291178,
          2.013539747855578,
          -0.9350456661961715,
          -0.07199477165247954,
          -0.012588234544470622,
          1.0286702624831179,
          -0.30675308423320574,
          -2.0813241088469705,
          0.9113534548782632,
          -1.1821295689927516,
          0.39712861820350376,
          0.32421117523347154,
          -1.388467161393341,
          -1.8196690472248764,
          1.2781438676085672,
          1.1244717635481953,
          2.6878665336118686,
          -1.6109429503383526,
          -0.3309381064713909,
          0.1012450075722931,
          -0.6927193028799976,
          -1.7779565769379178,
          -0.4937356719987772,
          -0.9214348954348198,
          0.04960273216795757,
          -2.6493834985687386,
          -0.3863153542191854,
          -0.5203504684321614,
          0.5977880177234898,
          1.5935857254212724,
          0.30130947631160576,
          -0.24209057064901562,
          2.393932462989073,
          0.48453201427412146,
          1.1471246976281726,
          1.2228406556961817,
          1.0816068853591136,
          -0.7424208071880561,
          0.7861844219733373,
          0.7498272838099621,
          -0.025596103412613782,
          -0.8244905811186303,
          0.6800258715624917,
          0.5426539687452233,
          -0.3376995252397134,
          0.4782136125101678,
          1.61174979268537,
          -0.009447379791987958,
          2.0385534852770575,
          2.017903156882396,
          -0.04108963367107593,
          -0.37405806660701296,
          1.6557536077103534,
          -0.9180687240107729,
          -1.3509762396010478,
          -1.3245247370933935,
          0.1883981543352357,
          -1.007096270807894,
          0.112857625621616,
          -0.03716265055480332,
          -1.3047337291461698,
          -1.8938223768162143,
          -0.05915120037142549,
          -0.022261006449155404,
          -2.2257467886082813,
          0.299708338942967,
          -0.11551816567653965,
          -0.22224470630933316,
          1.8203093144170124,
          -0.9809281853994635,
          0.8258301853601936,
          1.747369363537277,
          0.4451763013778281,
          0.8233981834134183,
          -0.37937479326251894,
          -1.4536121716892259,
          1.1622792298167708,
          0.2870601492366928,
          -1.3293818887641389
         ]
        }
       ],
       "layout": {
        "barmode": "overlay",
        "legend": {
         "bgcolor": "#F5F6F9",
         "font": {
          "color": "#4D5663"
         }
        },
        "paper_bgcolor": "#F5F6F9",
        "plot_bgcolor": "#F5F6F9",
        "template": {
         "data": {
          "bar": [
           {
            "error_x": {
             "color": "#2a3f5f"
            },
            "error_y": {
             "color": "#2a3f5f"
            },
            "marker": {
             "line": {
              "color": "#E5ECF6",
              "width": 0.5
             }
            },
            "type": "bar"
           }
          ],
          "barpolar": [
           {
            "marker": {
             "line": {
              "color": "#E5ECF6",
              "width": 0.5
             }
            },
            "type": "barpolar"
           }
          ],
          "carpet": [
           {
            "aaxis": {
             "endlinecolor": "#2a3f5f",
             "gridcolor": "white",
             "linecolor": "white",
             "minorgridcolor": "white",
             "startlinecolor": "#2a3f5f"
            },
            "baxis": {
             "endlinecolor": "#2a3f5f",
             "gridcolor": "white",
             "linecolor": "white",
             "minorgridcolor": "white",
             "startlinecolor": "#2a3f5f"
            },
            "type": "carpet"
           }
          ],
          "choropleth": [
           {
            "colorbar": {
             "outlinewidth": 0,
             "ticks": ""
            },
            "type": "choropleth"
           }
          ],
          "contour": [
           {
            "colorbar": {
             "outlinewidth": 0,
             "ticks": ""
            },
            "colorscale": [
             [
              0,
              "#0d0887"
             ],
             [
              0.1111111111111111,
              "#46039f"
             ],
             [
              0.2222222222222222,
              "#7201a8"
             ],
             [
              0.3333333333333333,
              "#9c179e"
             ],
             [
              0.4444444444444444,
              "#bd3786"
             ],
             [
              0.5555555555555556,
              "#d8576b"
             ],
             [
              0.6666666666666666,
              "#ed7953"
             ],
             [
              0.7777777777777778,
              "#fb9f3a"
             ],
             [
              0.8888888888888888,
              "#fdca26"
             ],
             [
              1,
              "#f0f921"
             ]
            ],
            "type": "contour"
           }
          ],
          "contourcarpet": [
           {
            "colorbar": {
             "outlinewidth": 0,
             "ticks": ""
            },
            "type": "contourcarpet"
           }
          ],
          "heatmap": [
           {
            "colorbar": {
             "outlinewidth": 0,
             "ticks": ""
            },
            "colorscale": [
             [
              0,
              "#0d0887"
             ],
             [
              0.1111111111111111,
              "#46039f"
             ],
             [
              0.2222222222222222,
              "#7201a8"
             ],
             [
              0.3333333333333333,
              "#9c179e"
             ],
             [
              0.4444444444444444,
              "#bd3786"
             ],
             [
              0.5555555555555556,
              "#d8576b"
             ],
             [
              0.6666666666666666,
              "#ed7953"
             ],
             [
              0.7777777777777778,
              "#fb9f3a"
             ],
             [
              0.8888888888888888,
              "#fdca26"
             ],
             [
              1,
              "#f0f921"
             ]
            ],
            "type": "heatmap"
           }
          ],
          "heatmapgl": [
           {
            "colorbar": {
             "outlinewidth": 0,
             "ticks": ""
            },
            "colorscale": [
             [
              0,
              "#0d0887"
             ],
             [
              0.1111111111111111,
              "#46039f"
             ],
             [
              0.2222222222222222,
              "#7201a8"
             ],
             [
              0.3333333333333333,
              "#9c179e"
             ],
             [
              0.4444444444444444,
              "#bd3786"
             ],
             [
              0.5555555555555556,
              "#d8576b"
             ],
             [
              0.6666666666666666,
              "#ed7953"
             ],
             [
              0.7777777777777778,
              "#fb9f3a"
             ],
             [
              0.8888888888888888,
              "#fdca26"
             ],
             [
              1,
              "#f0f921"
             ]
            ],
            "type": "heatmapgl"
           }
          ],
          "histogram": [
           {
            "marker": {
             "colorbar": {
              "outlinewidth": 0,
              "ticks": ""
             }
            },
            "type": "histogram"
           }
          ],
          "histogram2d": [
           {
            "colorbar": {
             "outlinewidth": 0,
             "ticks": ""
            },
            "colorscale": [
             [
              0,
              "#0d0887"
             ],
             [
              0.1111111111111111,
              "#46039f"
             ],
             [
              0.2222222222222222,
              "#7201a8"
             ],
             [
              0.3333333333333333,
              "#9c179e"
             ],
             [
              0.4444444444444444,
              "#bd3786"
             ],
             [
              0.5555555555555556,
              "#d8576b"
             ],
             [
              0.6666666666666666,
              "#ed7953"
             ],
             [
              0.7777777777777778,
              "#fb9f3a"
             ],
             [
              0.8888888888888888,
              "#fdca26"
             ],
             [
              1,
              "#f0f921"
             ]
            ],
            "type": "histogram2d"
           }
          ],
          "histogram2dcontour": [
           {
            "colorbar": {
             "outlinewidth": 0,
             "ticks": ""
            },
            "colorscale": [
             [
              0,
              "#0d0887"
             ],
             [
              0.1111111111111111,
              "#46039f"
             ],
             [
              0.2222222222222222,
              "#7201a8"
             ],
             [
              0.3333333333333333,
              "#9c179e"
             ],
             [
              0.4444444444444444,
              "#bd3786"
             ],
             [
              0.5555555555555556,
              "#d8576b"
             ],
             [
              0.6666666666666666,
              "#ed7953"
             ],
             [
              0.7777777777777778,
              "#fb9f3a"
             ],
             [
              0.8888888888888888,
              "#fdca26"
             ],
             [
              1,
              "#f0f921"
             ]
            ],
            "type": "histogram2dcontour"
           }
          ],
          "mesh3d": [
           {
            "colorbar": {
             "outlinewidth": 0,
             "ticks": ""
            },
            "type": "mesh3d"
           }
          ],
          "parcoords": [
           {
            "line": {
             "colorbar": {
              "outlinewidth": 0,
              "ticks": ""
             }
            },
            "type": "parcoords"
           }
          ],
          "pie": [
           {
            "automargin": true,
            "type": "pie"
           }
          ],
          "scatter": [
           {
            "marker": {
             "colorbar": {
              "outlinewidth": 0,
              "ticks": ""
             }
            },
            "type": "scatter"
           }
          ],
          "scatter3d": [
           {
            "line": {
             "colorbar": {
              "outlinewidth": 0,
              "ticks": ""
             }
            },
            "marker": {
             "colorbar": {
              "outlinewidth": 0,
              "ticks": ""
             }
            },
            "type": "scatter3d"
           }
          ],
          "scattercarpet": [
           {
            "marker": {
             "colorbar": {
              "outlinewidth": 0,
              "ticks": ""
             }
            },
            "type": "scattercarpet"
           }
          ],
          "scattergeo": [
           {
            "marker": {
             "colorbar": {
              "outlinewidth": 0,
              "ticks": ""
             }
            },
            "type": "scattergeo"
           }
          ],
          "scattergl": [
           {
            "marker": {
             "colorbar": {
              "outlinewidth": 0,
              "ticks": ""
             }
            },
            "type": "scattergl"
           }
          ],
          "scattermapbox": [
           {
            "marker": {
             "colorbar": {
              "outlinewidth": 0,
              "ticks": ""
             }
            },
            "type": "scattermapbox"
           }
          ],
          "scatterpolar": [
           {
            "marker": {
             "colorbar": {
              "outlinewidth": 0,
              "ticks": ""
             }
            },
            "type": "scatterpolar"
           }
          ],
          "scatterpolargl": [
           {
            "marker": {
             "colorbar": {
              "outlinewidth": 0,
              "ticks": ""
             }
            },
            "type": "scatterpolargl"
           }
          ],
          "scatterternary": [
           {
            "marker": {
             "colorbar": {
              "outlinewidth": 0,
              "ticks": ""
             }
            },
            "type": "scatterternary"
           }
          ],
          "surface": [
           {
            "colorbar": {
             "outlinewidth": 0,
             "ticks": ""
            },
            "colorscale": [
             [
              0,
              "#0d0887"
             ],
             [
              0.1111111111111111,
              "#46039f"
             ],
             [
              0.2222222222222222,
              "#7201a8"
             ],
             [
              0.3333333333333333,
              "#9c179e"
             ],
             [
              0.4444444444444444,
              "#bd3786"
             ],
             [
              0.5555555555555556,
              "#d8576b"
             ],
             [
              0.6666666666666666,
              "#ed7953"
             ],
             [
              0.7777777777777778,
              "#fb9f3a"
             ],
             [
              0.8888888888888888,
              "#fdca26"
             ],
             [
              1,
              "#f0f921"
             ]
            ],
            "type": "surface"
           }
          ],
          "table": [
           {
            "cells": {
             "fill": {
              "color": "#EBF0F8"
             },
             "line": {
              "color": "white"
             }
            },
            "header": {
             "fill": {
              "color": "#C8D4E3"
             },
             "line": {
              "color": "white"
             }
            },
            "type": "table"
           }
          ]
         },
         "layout": {
          "annotationdefaults": {
           "arrowcolor": "#2a3f5f",
           "arrowhead": 0,
           "arrowwidth": 1
          },
          "coloraxis": {
           "colorbar": {
            "outlinewidth": 0,
            "ticks": ""
           }
          },
          "colorscale": {
           "diverging": [
            [
             0,
             "#8e0152"
            ],
            [
             0.1,
             "#c51b7d"
            ],
            [
             0.2,
             "#de77ae"
            ],
            [
             0.3,
             "#f1b6da"
            ],
            [
             0.4,
             "#fde0ef"
            ],
            [
             0.5,
             "#f7f7f7"
            ],
            [
             0.6,
             "#e6f5d0"
            ],
            [
             0.7,
             "#b8e186"
            ],
            [
             0.8,
             "#7fbc41"
            ],
            [
             0.9,
             "#4d9221"
            ],
            [
             1,
             "#276419"
            ]
           ],
           "sequential": [
            [
             0,
             "#0d0887"
            ],
            [
             0.1111111111111111,
             "#46039f"
            ],
            [
             0.2222222222222222,
             "#7201a8"
            ],
            [
             0.3333333333333333,
             "#9c179e"
            ],
            [
             0.4444444444444444,
             "#bd3786"
            ],
            [
             0.5555555555555556,
             "#d8576b"
            ],
            [
             0.6666666666666666,
             "#ed7953"
            ],
            [
             0.7777777777777778,
             "#fb9f3a"
            ],
            [
             0.8888888888888888,
             "#fdca26"
            ],
            [
             1,
             "#f0f921"
            ]
           ],
           "sequentialminus": [
            [
             0,
             "#0d0887"
            ],
            [
             0.1111111111111111,
             "#46039f"
            ],
            [
             0.2222222222222222,
             "#7201a8"
            ],
            [
             0.3333333333333333,
             "#9c179e"
            ],
            [
             0.4444444444444444,
             "#bd3786"
            ],
            [
             0.5555555555555556,
             "#d8576b"
            ],
            [
             0.6666666666666666,
             "#ed7953"
            ],
            [
             0.7777777777777778,
             "#fb9f3a"
            ],
            [
             0.8888888888888888,
             "#fdca26"
            ],
            [
             1,
             "#f0f921"
            ]
           ]
          },
          "colorway": [
           "#636efa",
           "#EF553B",
           "#00cc96",
           "#ab63fa",
           "#FFA15A",
           "#19d3f3",
           "#FF6692",
           "#B6E880",
           "#FF97FF",
           "#FECB52"
          ],
          "font": {
           "color": "#2a3f5f"
          },
          "geo": {
           "bgcolor": "white",
           "lakecolor": "white",
           "landcolor": "#E5ECF6",
           "showlakes": true,
           "showland": true,
           "subunitcolor": "white"
          },
          "hoverlabel": {
           "align": "left"
          },
          "hovermode": "closest",
          "mapbox": {
           "style": "light"
          },
          "paper_bgcolor": "white",
          "plot_bgcolor": "#E5ECF6",
          "polar": {
           "angularaxis": {
            "gridcolor": "white",
            "linecolor": "white",
            "ticks": ""
           },
           "bgcolor": "#E5ECF6",
           "radialaxis": {
            "gridcolor": "white",
            "linecolor": "white",
            "ticks": ""
           }
          },
          "scene": {
           "xaxis": {
            "backgroundcolor": "#E5ECF6",
            "gridcolor": "white",
            "gridwidth": 2,
            "linecolor": "white",
            "showbackground": true,
            "ticks": "",
            "zerolinecolor": "white"
           },
           "yaxis": {
            "backgroundcolor": "#E5ECF6",
            "gridcolor": "white",
            "gridwidth": 2,
            "linecolor": "white",
            "showbackground": true,
            "ticks": "",
            "zerolinecolor": "white"
           },
           "zaxis": {
            "backgroundcolor": "#E5ECF6",
            "gridcolor": "white",
            "gridwidth": 2,
            "linecolor": "white",
            "showbackground": true,
            "ticks": "",
            "zerolinecolor": "white"
           }
          },
          "shapedefaults": {
           "line": {
            "color": "#2a3f5f"
           }
          },
          "ternary": {
           "aaxis": {
            "gridcolor": "white",
            "linecolor": "white",
            "ticks": ""
           },
           "baxis": {
            "gridcolor": "white",
            "linecolor": "white",
            "ticks": ""
           },
           "bgcolor": "#E5ECF6",
           "caxis": {
            "gridcolor": "white",
            "linecolor": "white",
            "ticks": ""
           }
          },
          "title": {
           "x": 0.05
          },
          "xaxis": {
           "automargin": true,
           "gridcolor": "white",
           "linecolor": "white",
           "ticks": "",
           "title": {
            "standoff": 15
           },
           "zerolinecolor": "white",
           "zerolinewidth": 2
          },
          "yaxis": {
           "automargin": true,
           "gridcolor": "white",
           "linecolor": "white",
           "ticks": "",
           "title": {
            "standoff": 15
           },
           "zerolinecolor": "white",
           "zerolinewidth": 2
          }
         }
        },
        "title": {
         "font": {
          "color": "#4D5663"
         }
        },
        "xaxis": {
         "gridcolor": "#E1E5ED",
         "showgrid": true,
         "tickfont": {
          "color": "#4D5663"
         },
         "title": {
          "font": {
           "color": "#4D5663"
          },
          "text": ""
         },
         "zerolinecolor": "#E1E5ED"
        },
        "yaxis": {
         "gridcolor": "#E1E5ED",
         "showgrid": true,
         "tickfont": {
          "color": "#4D5663"
         },
         "title": {
          "font": {
           "color": "#4D5663"
          },
          "text": ""
         },
         "zerolinecolor": "#E1E5ED"
        }
       }
      },
      "text/html": [
       "<div>\n",
       "        \n",
       "        \n",
       "            <div id=\"60f2f58c-9f49-4e30-bfcf-7b69a3bd8c0f\" class=\"plotly-graph-div\" style=\"height:525px; width:100%;\"></div>\n",
       "            <script type=\"text/javascript\">\n",
       "                require([\"plotly\"], function(Plotly) {\n",
       "                    window.PLOTLYENV=window.PLOTLYENV || {};\n",
       "                    window.PLOTLYENV.BASE_URL='https://plot.ly';\n",
       "                    \n",
       "                if (document.getElementById(\"60f2f58c-9f49-4e30-bfcf-7b69a3bd8c0f\")) {\n",
       "                    Plotly.newPlot(\n",
       "                        '60f2f58c-9f49-4e30-bfcf-7b69a3bd8c0f',\n",
       "                        [{\"histfunc\": \"count\", \"histnorm\": \"\", \"marker\": {\"color\": \"rgba(255, 153, 51, 1.0)\", \"line\": {\"color\": \"#4D5663\", \"width\": 1.3}}, \"name\": \"A\", \"nbinsx\": 50, \"opacity\": 0.8, \"orientation\": \"v\", \"type\": \"histogram\", \"x\": [-0.6070225586537845, -1.8638739423338426, -0.02945872276840593, -1.301291297310065, 0.48084833474018185, 0.7628548206270173, -0.28843164746247685, 0.6019043240278631, -0.8763709987921026, 1.702802294665911, 0.03894666378491089, -0.391247915748716, -0.3232684791801891, 0.5555540390983371, -0.5833873983870684, -0.0844703205455899, -0.5139830214610452, -0.9874331374104602, 1.3231224108983104, 1.3852294994314818, 0.495802931458785, 1.5044941738291178, 2.013539747855578, -0.9350456661961715, -0.07199477165247954, -0.012588234544470622, 1.0286702624831179, -0.30675308423320574, -2.0813241088469705, 0.9113534548782632, -1.1821295689927516, 0.39712861820350376, 0.32421117523347154, -1.388467161393341, -1.8196690472248764, 1.2781438676085672, 1.1244717635481953, 2.6878665336118686, -1.6109429503383526, -0.3309381064713909, 0.1012450075722931, -0.6927193028799976, -1.7779565769379178, -0.4937356719987772, -0.9214348954348198, 0.04960273216795757, -2.6493834985687386, -0.3863153542191854, -0.5203504684321614, 0.5977880177234898, 1.5935857254212724, 0.30130947631160576, -0.24209057064901562, 2.393932462989073, 0.48453201427412146, 1.1471246976281726, 1.2228406556961817, 1.0816068853591136, -0.7424208071880561, 0.7861844219733373, 0.7498272838099621, -0.025596103412613782, -0.8244905811186303, 0.6800258715624917, 0.5426539687452233, -0.3376995252397134, 0.4782136125101678, 1.61174979268537, -0.009447379791987958, 2.0385534852770575, 2.017903156882396, -0.04108963367107593, -0.37405806660701296, 1.6557536077103534, -0.9180687240107729, -1.3509762396010478, -1.3245247370933935, 0.1883981543352357, -1.007096270807894, 0.112857625621616, -0.03716265055480332, -1.3047337291461698, -1.8938223768162143, -0.05915120037142549, -0.022261006449155404, -2.2257467886082813, 0.299708338942967, -0.11551816567653965, -0.22224470630933316, 1.8203093144170124, -0.9809281853994635, 0.8258301853601936, 1.747369363537277, 0.4451763013778281, 0.8233981834134183, -0.37937479326251894, -1.4536121716892259, 1.1622792298167708, 0.2870601492366928, -1.3293818887641389]}],\n",
       "                        {\"barmode\": \"overlay\", \"legend\": {\"bgcolor\": \"#F5F6F9\", \"font\": {\"color\": \"#4D5663\"}}, \"paper_bgcolor\": \"#F5F6F9\", \"plot_bgcolor\": \"#F5F6F9\", \"template\": {\"data\": {\"bar\": [{\"error_x\": {\"color\": \"#2a3f5f\"}, \"error_y\": {\"color\": \"#2a3f5f\"}, \"marker\": {\"line\": {\"color\": \"#E5ECF6\", \"width\": 0.5}}, \"type\": \"bar\"}], \"barpolar\": [{\"marker\": {\"line\": {\"color\": \"#E5ECF6\", \"width\": 0.5}}, \"type\": \"barpolar\"}], \"carpet\": [{\"aaxis\": {\"endlinecolor\": \"#2a3f5f\", \"gridcolor\": \"white\", \"linecolor\": \"white\", \"minorgridcolor\": \"white\", \"startlinecolor\": \"#2a3f5f\"}, \"baxis\": {\"endlinecolor\": \"#2a3f5f\", \"gridcolor\": \"white\", \"linecolor\": \"white\", \"minorgridcolor\": \"white\", \"startlinecolor\": \"#2a3f5f\"}, \"type\": \"carpet\"}], \"choropleth\": [{\"colorbar\": {\"outlinewidth\": 0, \"ticks\": \"\"}, \"type\": \"choropleth\"}], \"contour\": [{\"colorbar\": {\"outlinewidth\": 0, \"ticks\": \"\"}, \"colorscale\": [[0.0, \"#0d0887\"], [0.1111111111111111, \"#46039f\"], [0.2222222222222222, \"#7201a8\"], [0.3333333333333333, \"#9c179e\"], [0.4444444444444444, \"#bd3786\"], [0.5555555555555556, \"#d8576b\"], [0.6666666666666666, \"#ed7953\"], [0.7777777777777778, \"#fb9f3a\"], [0.8888888888888888, \"#fdca26\"], [1.0, \"#f0f921\"]], \"type\": \"contour\"}], \"contourcarpet\": [{\"colorbar\": {\"outlinewidth\": 0, \"ticks\": \"\"}, \"type\": \"contourcarpet\"}], \"heatmap\": [{\"colorbar\": {\"outlinewidth\": 0, \"ticks\": \"\"}, \"colorscale\": [[0.0, \"#0d0887\"], [0.1111111111111111, \"#46039f\"], [0.2222222222222222, \"#7201a8\"], [0.3333333333333333, \"#9c179e\"], [0.4444444444444444, \"#bd3786\"], [0.5555555555555556, \"#d8576b\"], [0.6666666666666666, \"#ed7953\"], [0.7777777777777778, \"#fb9f3a\"], [0.8888888888888888, \"#fdca26\"], [1.0, \"#f0f921\"]], \"type\": \"heatmap\"}], \"heatmapgl\": [{\"colorbar\": {\"outlinewidth\": 0, \"ticks\": \"\"}, \"colorscale\": [[0.0, \"#0d0887\"], [0.1111111111111111, \"#46039f\"], [0.2222222222222222, \"#7201a8\"], [0.3333333333333333, \"#9c179e\"], [0.4444444444444444, \"#bd3786\"], [0.5555555555555556, \"#d8576b\"], [0.6666666666666666, \"#ed7953\"], [0.7777777777777778, \"#fb9f3a\"], [0.8888888888888888, \"#fdca26\"], [1.0, \"#f0f921\"]], \"type\": \"heatmapgl\"}], \"histogram\": [{\"marker\": {\"colorbar\": {\"outlinewidth\": 0, \"ticks\": \"\"}}, \"type\": \"histogram\"}], \"histogram2d\": [{\"colorbar\": {\"outlinewidth\": 0, \"ticks\": \"\"}, \"colorscale\": [[0.0, \"#0d0887\"], [0.1111111111111111, \"#46039f\"], [0.2222222222222222, \"#7201a8\"], [0.3333333333333333, \"#9c179e\"], [0.4444444444444444, \"#bd3786\"], [0.5555555555555556, \"#d8576b\"], [0.6666666666666666, \"#ed7953\"], [0.7777777777777778, \"#fb9f3a\"], [0.8888888888888888, \"#fdca26\"], [1.0, \"#f0f921\"]], \"type\": \"histogram2d\"}], \"histogram2dcontour\": [{\"colorbar\": {\"outlinewidth\": 0, \"ticks\": \"\"}, \"colorscale\": [[0.0, \"#0d0887\"], [0.1111111111111111, \"#46039f\"], [0.2222222222222222, \"#7201a8\"], [0.3333333333333333, \"#9c179e\"], [0.4444444444444444, \"#bd3786\"], [0.5555555555555556, \"#d8576b\"], [0.6666666666666666, \"#ed7953\"], [0.7777777777777778, \"#fb9f3a\"], [0.8888888888888888, \"#fdca26\"], [1.0, \"#f0f921\"]], \"type\": \"histogram2dcontour\"}], \"mesh3d\": [{\"colorbar\": {\"outlinewidth\": 0, \"ticks\": \"\"}, \"type\": \"mesh3d\"}], \"parcoords\": [{\"line\": {\"colorbar\": {\"outlinewidth\": 0, \"ticks\": \"\"}}, \"type\": \"parcoords\"}], \"pie\": [{\"automargin\": true, \"type\": \"pie\"}], \"scatter\": [{\"marker\": {\"colorbar\": {\"outlinewidth\": 0, \"ticks\": \"\"}}, \"type\": \"scatter\"}], \"scatter3d\": [{\"line\": {\"colorbar\": {\"outlinewidth\": 0, \"ticks\": \"\"}}, \"marker\": {\"colorbar\": {\"outlinewidth\": 0, \"ticks\": \"\"}}, \"type\": \"scatter3d\"}], \"scattercarpet\": [{\"marker\": {\"colorbar\": {\"outlinewidth\": 0, \"ticks\": \"\"}}, \"type\": \"scattercarpet\"}], \"scattergeo\": [{\"marker\": {\"colorbar\": {\"outlinewidth\": 0, \"ticks\": \"\"}}, \"type\": \"scattergeo\"}], \"scattergl\": [{\"marker\": {\"colorbar\": {\"outlinewidth\": 0, \"ticks\": \"\"}}, \"type\": \"scattergl\"}], \"scattermapbox\": [{\"marker\": {\"colorbar\": {\"outlinewidth\": 0, \"ticks\": \"\"}}, \"type\": \"scattermapbox\"}], \"scatterpolar\": [{\"marker\": {\"colorbar\": {\"outlinewidth\": 0, \"ticks\": \"\"}}, \"type\": \"scatterpolar\"}], \"scatterpolargl\": [{\"marker\": {\"colorbar\": {\"outlinewidth\": 0, \"ticks\": \"\"}}, \"type\": \"scatterpolargl\"}], \"scatterternary\": [{\"marker\": {\"colorbar\": {\"outlinewidth\": 0, \"ticks\": \"\"}}, \"type\": \"scatterternary\"}], \"surface\": [{\"colorbar\": {\"outlinewidth\": 0, \"ticks\": \"\"}, \"colorscale\": [[0.0, \"#0d0887\"], [0.1111111111111111, \"#46039f\"], [0.2222222222222222, \"#7201a8\"], [0.3333333333333333, \"#9c179e\"], [0.4444444444444444, \"#bd3786\"], [0.5555555555555556, \"#d8576b\"], [0.6666666666666666, \"#ed7953\"], [0.7777777777777778, \"#fb9f3a\"], [0.8888888888888888, \"#fdca26\"], [1.0, \"#f0f921\"]], \"type\": \"surface\"}], \"table\": [{\"cells\": {\"fill\": {\"color\": \"#EBF0F8\"}, \"line\": {\"color\": \"white\"}}, \"header\": {\"fill\": {\"color\": \"#C8D4E3\"}, \"line\": {\"color\": \"white\"}}, \"type\": \"table\"}]}, \"layout\": {\"annotationdefaults\": {\"arrowcolor\": \"#2a3f5f\", \"arrowhead\": 0, \"arrowwidth\": 1}, \"coloraxis\": {\"colorbar\": {\"outlinewidth\": 0, \"ticks\": \"\"}}, \"colorscale\": {\"diverging\": [[0, \"#8e0152\"], [0.1, \"#c51b7d\"], [0.2, \"#de77ae\"], [0.3, \"#f1b6da\"], [0.4, \"#fde0ef\"], [0.5, \"#f7f7f7\"], [0.6, \"#e6f5d0\"], [0.7, \"#b8e186\"], [0.8, \"#7fbc41\"], [0.9, \"#4d9221\"], [1, \"#276419\"]], \"sequential\": [[0.0, \"#0d0887\"], [0.1111111111111111, \"#46039f\"], [0.2222222222222222, \"#7201a8\"], [0.3333333333333333, \"#9c179e\"], [0.4444444444444444, \"#bd3786\"], [0.5555555555555556, \"#d8576b\"], [0.6666666666666666, \"#ed7953\"], [0.7777777777777778, \"#fb9f3a\"], [0.8888888888888888, \"#fdca26\"], [1.0, \"#f0f921\"]], \"sequentialminus\": [[0.0, \"#0d0887\"], [0.1111111111111111, \"#46039f\"], [0.2222222222222222, \"#7201a8\"], [0.3333333333333333, \"#9c179e\"], [0.4444444444444444, \"#bd3786\"], [0.5555555555555556, \"#d8576b\"], [0.6666666666666666, \"#ed7953\"], [0.7777777777777778, \"#fb9f3a\"], [0.8888888888888888, \"#fdca26\"], [1.0, \"#f0f921\"]]}, \"colorway\": [\"#636efa\", \"#EF553B\", \"#00cc96\", \"#ab63fa\", \"#FFA15A\", \"#19d3f3\", \"#FF6692\", \"#B6E880\", \"#FF97FF\", \"#FECB52\"], \"font\": {\"color\": \"#2a3f5f\"}, \"geo\": {\"bgcolor\": \"white\", \"lakecolor\": \"white\", \"landcolor\": \"#E5ECF6\", \"showlakes\": true, \"showland\": true, \"subunitcolor\": \"white\"}, \"hoverlabel\": {\"align\": \"left\"}, \"hovermode\": \"closest\", \"mapbox\": {\"style\": \"light\"}, \"paper_bgcolor\": \"white\", \"plot_bgcolor\": \"#E5ECF6\", \"polar\": {\"angularaxis\": {\"gridcolor\": \"white\", \"linecolor\": \"white\", \"ticks\": \"\"}, \"bgcolor\": \"#E5ECF6\", \"radialaxis\": {\"gridcolor\": \"white\", \"linecolor\": \"white\", \"ticks\": \"\"}}, \"scene\": {\"xaxis\": {\"backgroundcolor\": \"#E5ECF6\", \"gridcolor\": \"white\", \"gridwidth\": 2, \"linecolor\": \"white\", \"showbackground\": true, \"ticks\": \"\", \"zerolinecolor\": \"white\"}, \"yaxis\": {\"backgroundcolor\": \"#E5ECF6\", \"gridcolor\": \"white\", \"gridwidth\": 2, \"linecolor\": \"white\", \"showbackground\": true, \"ticks\": \"\", \"zerolinecolor\": \"white\"}, \"zaxis\": {\"backgroundcolor\": \"#E5ECF6\", \"gridcolor\": \"white\", \"gridwidth\": 2, \"linecolor\": \"white\", \"showbackground\": true, \"ticks\": \"\", \"zerolinecolor\": \"white\"}}, \"shapedefaults\": {\"line\": {\"color\": \"#2a3f5f\"}}, \"ternary\": {\"aaxis\": {\"gridcolor\": \"white\", \"linecolor\": \"white\", \"ticks\": \"\"}, \"baxis\": {\"gridcolor\": \"white\", \"linecolor\": \"white\", \"ticks\": \"\"}, \"bgcolor\": \"#E5ECF6\", \"caxis\": {\"gridcolor\": \"white\", \"linecolor\": \"white\", \"ticks\": \"\"}}, \"title\": {\"x\": 0.05}, \"xaxis\": {\"automargin\": true, \"gridcolor\": \"white\", \"linecolor\": \"white\", \"ticks\": \"\", \"title\": {\"standoff\": 15}, \"zerolinecolor\": \"white\", \"zerolinewidth\": 2}, \"yaxis\": {\"automargin\": true, \"gridcolor\": \"white\", \"linecolor\": \"white\", \"ticks\": \"\", \"title\": {\"standoff\": 15}, \"zerolinecolor\": \"white\", \"zerolinewidth\": 2}}}, \"title\": {\"font\": {\"color\": \"#4D5663\"}}, \"xaxis\": {\"gridcolor\": \"#E1E5ED\", \"showgrid\": true, \"tickfont\": {\"color\": \"#4D5663\"}, \"title\": {\"font\": {\"color\": \"#4D5663\"}, \"text\": \"\"}, \"zerolinecolor\": \"#E1E5ED\"}, \"yaxis\": {\"gridcolor\": \"#E1E5ED\", \"showgrid\": true, \"tickfont\": {\"color\": \"#4D5663\"}, \"title\": {\"font\": {\"color\": \"#4D5663\"}, \"text\": \"\"}, \"zerolinecolor\": \"#E1E5ED\"}},\n",
       "                        {\"showLink\": true, \"linkText\": \"Export to plot.ly\", \"plotlyServerURL\": \"https://plot.ly\", \"responsive\": true}\n",
       "                    ).then(function(){\n",
       "                            \n",
       "var gd = document.getElementById('60f2f58c-9f49-4e30-bfcf-7b69a3bd8c0f');\n",
       "var x = new MutationObserver(function (mutations, observer) {{\n",
       "        var display = window.getComputedStyle(gd).display;\n",
       "        if (!display || display === 'none') {{\n",
       "            console.log([gd, 'removed!']);\n",
       "            Plotly.purge(gd);\n",
       "            observer.disconnect();\n",
       "        }}\n",
       "}});\n",
       "\n",
       "// Listen for the removal of the full notebook cells\n",
       "var notebookContainer = gd.closest('#notebook-container');\n",
       "if (notebookContainer) {{\n",
       "    x.observe(notebookContainer, {childList: true});\n",
       "}}\n",
       "\n",
       "// Listen for the clearing of the current output cell\n",
       "var outputEl = gd.closest('.output');\n",
       "if (outputEl) {{\n",
       "    x.observe(outputEl, {childList: true});\n",
       "}}\n",
       "\n",
       "                        })\n",
       "                };\n",
       "                });\n",
       "            </script>\n",
       "        </div>"
      ]
     },
     "metadata": {},
     "output_type": "display_data"
    }
   ],
   "source": [
    "df[\"A\"].iplot(kind=\"hist\",bins=50)"
   ]
  },
  {
   "cell_type": "code",
   "execution_count": 48,
   "metadata": {},
   "outputs": [
    {
     "data": {
      "application/vnd.plotly.v1+json": {
       "config": {
        "linkText": "Export to plot.ly",
        "plotlyServerURL": "https://plot.ly",
        "showLink": true
       },
       "data": [
        {
         "histfunc": "count",
         "histnorm": "",
         "marker": {
          "color": "rgba(255, 153, 51, 1.0)",
          "line": {
           "color": "#4D5663",
           "width": 1.3
          }
         },
         "name": "A",
         "opacity": 0.8,
         "orientation": "v",
         "type": "histogram",
         "x": [
          -0.6070225586537845,
          -1.8638739423338426,
          -0.02945872276840593,
          -1.301291297310065,
          0.48084833474018185,
          0.7628548206270173,
          -0.28843164746247685,
          0.6019043240278631,
          -0.8763709987921026,
          1.702802294665911,
          0.03894666378491089,
          -0.391247915748716,
          -0.3232684791801891,
          0.5555540390983371,
          -0.5833873983870684,
          -0.0844703205455899,
          -0.5139830214610452,
          -0.9874331374104602,
          1.3231224108983104,
          1.3852294994314818,
          0.495802931458785,
          1.5044941738291178,
          2.013539747855578,
          -0.9350456661961715,
          -0.07199477165247954,
          -0.012588234544470622,
          1.0286702624831179,
          -0.30675308423320574,
          -2.0813241088469705,
          0.9113534548782632,
          -1.1821295689927516,
          0.39712861820350376,
          0.32421117523347154,
          -1.388467161393341,
          -1.8196690472248764,
          1.2781438676085672,
          1.1244717635481953,
          2.6878665336118686,
          -1.6109429503383526,
          -0.3309381064713909,
          0.1012450075722931,
          -0.6927193028799976,
          -1.7779565769379178,
          -0.4937356719987772,
          -0.9214348954348198,
          0.04960273216795757,
          -2.6493834985687386,
          -0.3863153542191854,
          -0.5203504684321614,
          0.5977880177234898,
          1.5935857254212724,
          0.30130947631160576,
          -0.24209057064901562,
          2.393932462989073,
          0.48453201427412146,
          1.1471246976281726,
          1.2228406556961817,
          1.0816068853591136,
          -0.7424208071880561,
          0.7861844219733373,
          0.7498272838099621,
          -0.025596103412613782,
          -0.8244905811186303,
          0.6800258715624917,
          0.5426539687452233,
          -0.3376995252397134,
          0.4782136125101678,
          1.61174979268537,
          -0.009447379791987958,
          2.0385534852770575,
          2.017903156882396,
          -0.04108963367107593,
          -0.37405806660701296,
          1.6557536077103534,
          -0.9180687240107729,
          -1.3509762396010478,
          -1.3245247370933935,
          0.1883981543352357,
          -1.007096270807894,
          0.112857625621616,
          -0.03716265055480332,
          -1.3047337291461698,
          -1.8938223768162143,
          -0.05915120037142549,
          -0.022261006449155404,
          -2.2257467886082813,
          0.299708338942967,
          -0.11551816567653965,
          -0.22224470630933316,
          1.8203093144170124,
          -0.9809281853994635,
          0.8258301853601936,
          1.747369363537277,
          0.4451763013778281,
          0.8233981834134183,
          -0.37937479326251894,
          -1.4536121716892259,
          1.1622792298167708,
          0.2870601492366928,
          -1.3293818887641389
         ]
        },
        {
         "histfunc": "count",
         "histnorm": "",
         "marker": {
          "color": "rgba(55, 128, 191, 1.0)",
          "line": {
           "color": "#4D5663",
           "width": 1.3
          }
         },
         "name": "B",
         "opacity": 0.8,
         "orientation": "v",
         "type": "histogram",
         "x": [
          0.39442564922170886,
          1.1545382861670683,
          -0.3981929049509391,
          1.0607053367391788,
          -1.0927982071594042,
          0.8938581864801937,
          0.10953427785913276,
          1.100603769799354,
          -0.037145165173287524,
          0.820385609335391,
          0.1757448574089021,
          -1.4281471214410326,
          1.3192507531473423,
          0.591642670955045,
          0.5229932990718201,
          0.13605660011946183,
          -0.2100106055939634,
          -0.5700547463822505,
          -0.3323261428045018,
          1.4377556274630496,
          0.14413892892924288,
          0.05300178117926253,
          0.15897168480049687,
          -0.4642246356303038,
          -0.062162694238745014,
          -0.404997912384452,
          -0.7201482218638331,
          2.023568952952069,
          -1.6214853359956733,
          0.542085407732597,
          0.5827569941618997,
          0.3776319435990386,
          0.7860509953709055,
          -0.5428417186393626,
          -0.6218017304368952,
          -0.01711816060498298,
          0.8909241978978917,
          -1.1794232525669857,
          -0.23428574473243066,
          0.6223056989779824,
          -0.13862316143162234,
          1.3989648648043242,
          -1.2881252741130682,
          0.7279631578004603,
          -0.048807113398033994,
          1.0394435684890488,
          -3.3911593703715184,
          -0.524115543518746,
          1.9491071278041052,
          0.07942048576898976,
          -0.6641974846295369,
          -1.0352913027794661,
          -0.6683730021861155,
          -2.0801704608528366,
          -0.6236871291314133,
          0.5545284284650903,
          0.09672761646458744,
          -0.957367126309057,
          -1.3015723703851805,
          0.529996087442483,
          0.36037265455029355,
          -0.825360660875962,
          1.6074276743204716,
          -2.125383315024735,
          0.2729482690721516,
          0.2648116479946539,
          -0.6484000338053134,
          -0.8529199767742717,
          -0.46666971985268213,
          -0.6044278288068219,
          0.6411021729993239,
          1.607115690297109,
          0.642969908406056,
          3.4880296066713408,
          1.5160479793033188,
          0.21650854966375002,
          1.1058470153140674,
          0.9089965059567509,
          -0.9594932219442222,
          -0.5825050989047242,
          -0.006558177721396607,
          1.2314458312022174,
          -0.445862995858089,
          0.32692197599067874,
          -0.16732624075897054,
          -0.06631960996464281,
          -0.5567444312996315,
          -1.2697328105510748,
          -0.6461202658830911,
          -1.6486385015803198,
          0.8697462032738772,
          1.071978584989495,
          1.0115715290572223,
          0.688291257034643,
          -0.4446104637134038,
          -1.370232127902445,
          0.711851270271103,
          -1.4409175804017305,
          0.17758469504751084,
          -0.3488266307639724
         ]
        },
        {
         "histfunc": "count",
         "histnorm": "",
         "marker": {
          "color": "rgba(50, 171, 96, 1.0)",
          "line": {
           "color": "#4D5663",
           "width": 1.3
          }
         },
         "name": "C",
         "opacity": 0.8,
         "orientation": "v",
         "type": "histogram",
         "x": [
          0.5786488658973388,
          -1.3779481177244952,
          0.12365177369173536,
          -1.116511132468932,
          0.8058094735407533,
          -0.40434082821277284,
          1.0225385803330087,
          -0.6470938916080935,
          -0.3508677486533792,
          2.5013226025963746,
          -1.5259835252824552,
          -0.9829311652920717,
          0.23493446006915572,
          -0.9037615413233684,
          -1.3141707547165868,
          -1.5199657157915831,
          -0.7626795758174268,
          1.6073113400335521,
          0.3065045812678438,
          0.7670645741240087,
          -0.44191752142816326,
          -1.3298535843393218,
          -1.135700295184527,
          0.9297115141063347,
          0.6865778093810669,
          0.2906984631345525,
          -0.9865642416513182,
          0.7390830087985069,
          0.5873820481676423,
          -1.0539583164959976,
          0.5414419704915575,
          -0.11185761505217436,
          -0.07695780645157449,
          -2.1646462442630616,
          1.1851782283016816,
          -1.8572626824506342,
          0.44751835654226163,
          0.2377385201511963,
          0.0977471498017824,
          -0.346706646408973,
          0.3288034699452686,
          -0.241554375975574,
          0.23406958233434508,
          -1.2932583043575332,
          -0.0753563250462829,
          0.9227704330212433,
          -0.9932007883861261,
          0.8402493065090569,
          -1.7071908207317257,
          0.4353964002156085,
          0.8810442345722524,
          -1.2204230274097805,
          0.9178683103189221,
          -0.5616608195969544,
          -1.4997595699840784,
          -0.6205171225168257,
          1.078060164804285,
          1.0340481232295156,
          -0.7664258411313779,
          0.6926338816275318,
          1.8483024115450608,
          -0.9381821206856582,
          -0.31440988974655065,
          -0.5299400185069904,
          0.5028693025293436,
          -0.697868894664978,
          0.02223697002983274,
          0.77557394882186,
          0.8422756027790126,
          1.0019480005664712,
          -0.7245614241946116,
          -0.20870645294212087,
          -0.11179174927504838,
          -0.25709999871760897,
          -1.202771442521758,
          0.17460517244494234,
          -3.556830917028255,
          1.959280308579902,
          -0.20721381467702987,
          -0.004113041471365491,
          1.0467020240597704,
          -0.6563924493292402,
          -1.2702933876925069,
          -0.44861523437505996,
          0.23141073624629255,
          0.28912448864058354,
          -2.64152539481277,
          -0.37655621404335426,
          -0.9278540083113972,
          0.021633252663627364,
          0.4389105377440285,
          -0.316289308114846,
          -1.1468826225189952,
          -1.157161485137814,
          0.7742523737057712,
          1.0009994401994993,
          0.21047062378348677,
          -0.4760958934500705,
          -0.6458907785383571,
          -0.35137750023636594
         ]
        },
        {
         "histfunc": "count",
         "histnorm": "",
         "marker": {
          "color": "rgba(128, 0, 128, 1.0)",
          "line": {
           "color": "#4D5663",
           "width": 1.3
          }
         },
         "name": "D",
         "opacity": 0.8,
         "orientation": "v",
         "type": "histogram",
         "x": [
          -0.7710707494557274,
          0.9084215962844299,
          0.14867156693112518,
          1.091242440442385,
          -0.38136791739286025,
          2.6551377942985472,
          -0.542106532007221,
          0.0009897898929007354,
          1.025732698451324,
          1.0917364537662415,
          -0.06579851584724807,
          1.8484432768417098,
          -0.3399947465039237,
          -0.6562755405065582,
          0.9859146265234778,
          0.9181428936696494,
          0.560453175862377,
          0.6173219524497757,
          -0.4176234372666162,
          -0.08616974832048305,
          -0.006352829478318503,
          0.5136507964107583,
          0.15464554983258477,
          -0.4030269739726689,
          0.3296061099699754,
          -0.4648081650700848,
          -1.1636454990471916,
          0.8167962531838402,
          1.3782602913496587,
          -0.8339337883855852,
          0.866982803885244,
          0.6456966292631111,
          -1.65519664670503,
          -0.34483808667429844,
          1.1519480185389928,
          -0.42603916535007497,
          -1.3876296020701955,
          0.438502934561104,
          -0.34317189887749944,
          -0.2582968179968848,
          -1.6196419672168794,
          -0.32586548630627404,
          0.490437955843003,
          -0.016853814769800884,
          0.5704102851277636,
          -0.020673325863221778,
          1.4100771515518467,
          0.8309463411013209,
          1.3443492512121447,
          -1.8857520766945424,
          -0.09056980293285732,
          0.09138694227565757,
          1.3636878725062827,
          -0.2660602412255175,
          1.646259910223738,
          1.8005971402578238,
          -1.210293685648795,
          -0.4522423782105368,
          0.4567476600502909,
          1.3930048823179084,
          0.2072223848026172,
          0.6332124968747784,
          -1.3880857965038995,
          1.987635207109135,
          -0.992693168002227,
          -0.5082269973015238,
          0.4403931715663567,
          -1.4866772715183176,
          0.6426683638879613,
          0.6778864417024036,
          0.2211458414525818,
          -0.029785991329424652,
          0.6604793649030712,
          -1.3172685329935305,
          0.061259598483134725,
          -0.40628739096693317,
          -1.0786117555871804,
          -2.459949891065606,
          0.058595706402560455,
          0.5166845977099281,
          0.4436605818850999,
          0.9127365293860776,
          -0.9936011302758352,
          -1.0284535043950807,
          0.7193874352238564,
          0.19833013706556346,
          0.041628183160987306,
          0.4541679834133369,
          -1.5602230041741998,
          -0.772172041615176,
          0.15727133827918466,
          0.780274996711184,
          -1.3290121829172736,
          -0.3476287149663292,
          0.5469591287599925,
          -0.12694867546220384,
          0.24056843026883892,
          -2.7646992768771086,
          1.0658530548801204,
          0.14202684939502938
         ]
        }
       ],
       "layout": {
        "barmode": "overlay",
        "legend": {
         "bgcolor": "#F5F6F9",
         "font": {
          "color": "#4D5663"
         }
        },
        "paper_bgcolor": "#F5F6F9",
        "plot_bgcolor": "#F5F6F9",
        "template": {
         "data": {
          "bar": [
           {
            "error_x": {
             "color": "#2a3f5f"
            },
            "error_y": {
             "color": "#2a3f5f"
            },
            "marker": {
             "line": {
              "color": "#E5ECF6",
              "width": 0.5
             }
            },
            "type": "bar"
           }
          ],
          "barpolar": [
           {
            "marker": {
             "line": {
              "color": "#E5ECF6",
              "width": 0.5
             }
            },
            "type": "barpolar"
           }
          ],
          "carpet": [
           {
            "aaxis": {
             "endlinecolor": "#2a3f5f",
             "gridcolor": "white",
             "linecolor": "white",
             "minorgridcolor": "white",
             "startlinecolor": "#2a3f5f"
            },
            "baxis": {
             "endlinecolor": "#2a3f5f",
             "gridcolor": "white",
             "linecolor": "white",
             "minorgridcolor": "white",
             "startlinecolor": "#2a3f5f"
            },
            "type": "carpet"
           }
          ],
          "choropleth": [
           {
            "colorbar": {
             "outlinewidth": 0,
             "ticks": ""
            },
            "type": "choropleth"
           }
          ],
          "contour": [
           {
            "colorbar": {
             "outlinewidth": 0,
             "ticks": ""
            },
            "colorscale": [
             [
              0,
              "#0d0887"
             ],
             [
              0.1111111111111111,
              "#46039f"
             ],
             [
              0.2222222222222222,
              "#7201a8"
             ],
             [
              0.3333333333333333,
              "#9c179e"
             ],
             [
              0.4444444444444444,
              "#bd3786"
             ],
             [
              0.5555555555555556,
              "#d8576b"
             ],
             [
              0.6666666666666666,
              "#ed7953"
             ],
             [
              0.7777777777777778,
              "#fb9f3a"
             ],
             [
              0.8888888888888888,
              "#fdca26"
             ],
             [
              1,
              "#f0f921"
             ]
            ],
            "type": "contour"
           }
          ],
          "contourcarpet": [
           {
            "colorbar": {
             "outlinewidth": 0,
             "ticks": ""
            },
            "type": "contourcarpet"
           }
          ],
          "heatmap": [
           {
            "colorbar": {
             "outlinewidth": 0,
             "ticks": ""
            },
            "colorscale": [
             [
              0,
              "#0d0887"
             ],
             [
              0.1111111111111111,
              "#46039f"
             ],
             [
              0.2222222222222222,
              "#7201a8"
             ],
             [
              0.3333333333333333,
              "#9c179e"
             ],
             [
              0.4444444444444444,
              "#bd3786"
             ],
             [
              0.5555555555555556,
              "#d8576b"
             ],
             [
              0.6666666666666666,
              "#ed7953"
             ],
             [
              0.7777777777777778,
              "#fb9f3a"
             ],
             [
              0.8888888888888888,
              "#fdca26"
             ],
             [
              1,
              "#f0f921"
             ]
            ],
            "type": "heatmap"
           }
          ],
          "heatmapgl": [
           {
            "colorbar": {
             "outlinewidth": 0,
             "ticks": ""
            },
            "colorscale": [
             [
              0,
              "#0d0887"
             ],
             [
              0.1111111111111111,
              "#46039f"
             ],
             [
              0.2222222222222222,
              "#7201a8"
             ],
             [
              0.3333333333333333,
              "#9c179e"
             ],
             [
              0.4444444444444444,
              "#bd3786"
             ],
             [
              0.5555555555555556,
              "#d8576b"
             ],
             [
              0.6666666666666666,
              "#ed7953"
             ],
             [
              0.7777777777777778,
              "#fb9f3a"
             ],
             [
              0.8888888888888888,
              "#fdca26"
             ],
             [
              1,
              "#f0f921"
             ]
            ],
            "type": "heatmapgl"
           }
          ],
          "histogram": [
           {
            "marker": {
             "colorbar": {
              "outlinewidth": 0,
              "ticks": ""
             }
            },
            "type": "histogram"
           }
          ],
          "histogram2d": [
           {
            "colorbar": {
             "outlinewidth": 0,
             "ticks": ""
            },
            "colorscale": [
             [
              0,
              "#0d0887"
             ],
             [
              0.1111111111111111,
              "#46039f"
             ],
             [
              0.2222222222222222,
              "#7201a8"
             ],
             [
              0.3333333333333333,
              "#9c179e"
             ],
             [
              0.4444444444444444,
              "#bd3786"
             ],
             [
              0.5555555555555556,
              "#d8576b"
             ],
             [
              0.6666666666666666,
              "#ed7953"
             ],
             [
              0.7777777777777778,
              "#fb9f3a"
             ],
             [
              0.8888888888888888,
              "#fdca26"
             ],
             [
              1,
              "#f0f921"
             ]
            ],
            "type": "histogram2d"
           }
          ],
          "histogram2dcontour": [
           {
            "colorbar": {
             "outlinewidth": 0,
             "ticks": ""
            },
            "colorscale": [
             [
              0,
              "#0d0887"
             ],
             [
              0.1111111111111111,
              "#46039f"
             ],
             [
              0.2222222222222222,
              "#7201a8"
             ],
             [
              0.3333333333333333,
              "#9c179e"
             ],
             [
              0.4444444444444444,
              "#bd3786"
             ],
             [
              0.5555555555555556,
              "#d8576b"
             ],
             [
              0.6666666666666666,
              "#ed7953"
             ],
             [
              0.7777777777777778,
              "#fb9f3a"
             ],
             [
              0.8888888888888888,
              "#fdca26"
             ],
             [
              1,
              "#f0f921"
             ]
            ],
            "type": "histogram2dcontour"
           }
          ],
          "mesh3d": [
           {
            "colorbar": {
             "outlinewidth": 0,
             "ticks": ""
            },
            "type": "mesh3d"
           }
          ],
          "parcoords": [
           {
            "line": {
             "colorbar": {
              "outlinewidth": 0,
              "ticks": ""
             }
            },
            "type": "parcoords"
           }
          ],
          "pie": [
           {
            "automargin": true,
            "type": "pie"
           }
          ],
          "scatter": [
           {
            "marker": {
             "colorbar": {
              "outlinewidth": 0,
              "ticks": ""
             }
            },
            "type": "scatter"
           }
          ],
          "scatter3d": [
           {
            "line": {
             "colorbar": {
              "outlinewidth": 0,
              "ticks": ""
             }
            },
            "marker": {
             "colorbar": {
              "outlinewidth": 0,
              "ticks": ""
             }
            },
            "type": "scatter3d"
           }
          ],
          "scattercarpet": [
           {
            "marker": {
             "colorbar": {
              "outlinewidth": 0,
              "ticks": ""
             }
            },
            "type": "scattercarpet"
           }
          ],
          "scattergeo": [
           {
            "marker": {
             "colorbar": {
              "outlinewidth": 0,
              "ticks": ""
             }
            },
            "type": "scattergeo"
           }
          ],
          "scattergl": [
           {
            "marker": {
             "colorbar": {
              "outlinewidth": 0,
              "ticks": ""
             }
            },
            "type": "scattergl"
           }
          ],
          "scattermapbox": [
           {
            "marker": {
             "colorbar": {
              "outlinewidth": 0,
              "ticks": ""
             }
            },
            "type": "scattermapbox"
           }
          ],
          "scatterpolar": [
           {
            "marker": {
             "colorbar": {
              "outlinewidth": 0,
              "ticks": ""
             }
            },
            "type": "scatterpolar"
           }
          ],
          "scatterpolargl": [
           {
            "marker": {
             "colorbar": {
              "outlinewidth": 0,
              "ticks": ""
             }
            },
            "type": "scatterpolargl"
           }
          ],
          "scatterternary": [
           {
            "marker": {
             "colorbar": {
              "outlinewidth": 0,
              "ticks": ""
             }
            },
            "type": "scatterternary"
           }
          ],
          "surface": [
           {
            "colorbar": {
             "outlinewidth": 0,
             "ticks": ""
            },
            "colorscale": [
             [
              0,
              "#0d0887"
             ],
             [
              0.1111111111111111,
              "#46039f"
             ],
             [
              0.2222222222222222,
              "#7201a8"
             ],
             [
              0.3333333333333333,
              "#9c179e"
             ],
             [
              0.4444444444444444,
              "#bd3786"
             ],
             [
              0.5555555555555556,
              "#d8576b"
             ],
             [
              0.6666666666666666,
              "#ed7953"
             ],
             [
              0.7777777777777778,
              "#fb9f3a"
             ],
             [
              0.8888888888888888,
              "#fdca26"
             ],
             [
              1,
              "#f0f921"
             ]
            ],
            "type": "surface"
           }
          ],
          "table": [
           {
            "cells": {
             "fill": {
              "color": "#EBF0F8"
             },
             "line": {
              "color": "white"
             }
            },
            "header": {
             "fill": {
              "color": "#C8D4E3"
             },
             "line": {
              "color": "white"
             }
            },
            "type": "table"
           }
          ]
         },
         "layout": {
          "annotationdefaults": {
           "arrowcolor": "#2a3f5f",
           "arrowhead": 0,
           "arrowwidth": 1
          },
          "coloraxis": {
           "colorbar": {
            "outlinewidth": 0,
            "ticks": ""
           }
          },
          "colorscale": {
           "diverging": [
            [
             0,
             "#8e0152"
            ],
            [
             0.1,
             "#c51b7d"
            ],
            [
             0.2,
             "#de77ae"
            ],
            [
             0.3,
             "#f1b6da"
            ],
            [
             0.4,
             "#fde0ef"
            ],
            [
             0.5,
             "#f7f7f7"
            ],
            [
             0.6,
             "#e6f5d0"
            ],
            [
             0.7,
             "#b8e186"
            ],
            [
             0.8,
             "#7fbc41"
            ],
            [
             0.9,
             "#4d9221"
            ],
            [
             1,
             "#276419"
            ]
           ],
           "sequential": [
            [
             0,
             "#0d0887"
            ],
            [
             0.1111111111111111,
             "#46039f"
            ],
            [
             0.2222222222222222,
             "#7201a8"
            ],
            [
             0.3333333333333333,
             "#9c179e"
            ],
            [
             0.4444444444444444,
             "#bd3786"
            ],
            [
             0.5555555555555556,
             "#d8576b"
            ],
            [
             0.6666666666666666,
             "#ed7953"
            ],
            [
             0.7777777777777778,
             "#fb9f3a"
            ],
            [
             0.8888888888888888,
             "#fdca26"
            ],
            [
             1,
             "#f0f921"
            ]
           ],
           "sequentialminus": [
            [
             0,
             "#0d0887"
            ],
            [
             0.1111111111111111,
             "#46039f"
            ],
            [
             0.2222222222222222,
             "#7201a8"
            ],
            [
             0.3333333333333333,
             "#9c179e"
            ],
            [
             0.4444444444444444,
             "#bd3786"
            ],
            [
             0.5555555555555556,
             "#d8576b"
            ],
            [
             0.6666666666666666,
             "#ed7953"
            ],
            [
             0.7777777777777778,
             "#fb9f3a"
            ],
            [
             0.8888888888888888,
             "#fdca26"
            ],
            [
             1,
             "#f0f921"
            ]
           ]
          },
          "colorway": [
           "#636efa",
           "#EF553B",
           "#00cc96",
           "#ab63fa",
           "#FFA15A",
           "#19d3f3",
           "#FF6692",
           "#B6E880",
           "#FF97FF",
           "#FECB52"
          ],
          "font": {
           "color": "#2a3f5f"
          },
          "geo": {
           "bgcolor": "white",
           "lakecolor": "white",
           "landcolor": "#E5ECF6",
           "showlakes": true,
           "showland": true,
           "subunitcolor": "white"
          },
          "hoverlabel": {
           "align": "left"
          },
          "hovermode": "closest",
          "mapbox": {
           "style": "light"
          },
          "paper_bgcolor": "white",
          "plot_bgcolor": "#E5ECF6",
          "polar": {
           "angularaxis": {
            "gridcolor": "white",
            "linecolor": "white",
            "ticks": ""
           },
           "bgcolor": "#E5ECF6",
           "radialaxis": {
            "gridcolor": "white",
            "linecolor": "white",
            "ticks": ""
           }
          },
          "scene": {
           "xaxis": {
            "backgroundcolor": "#E5ECF6",
            "gridcolor": "white",
            "gridwidth": 2,
            "linecolor": "white",
            "showbackground": true,
            "ticks": "",
            "zerolinecolor": "white"
           },
           "yaxis": {
            "backgroundcolor": "#E5ECF6",
            "gridcolor": "white",
            "gridwidth": 2,
            "linecolor": "white",
            "showbackground": true,
            "ticks": "",
            "zerolinecolor": "white"
           },
           "zaxis": {
            "backgroundcolor": "#E5ECF6",
            "gridcolor": "white",
            "gridwidth": 2,
            "linecolor": "white",
            "showbackground": true,
            "ticks": "",
            "zerolinecolor": "white"
           }
          },
          "shapedefaults": {
           "line": {
            "color": "#2a3f5f"
           }
          },
          "ternary": {
           "aaxis": {
            "gridcolor": "white",
            "linecolor": "white",
            "ticks": ""
           },
           "baxis": {
            "gridcolor": "white",
            "linecolor": "white",
            "ticks": ""
           },
           "bgcolor": "#E5ECF6",
           "caxis": {
            "gridcolor": "white",
            "linecolor": "white",
            "ticks": ""
           }
          },
          "title": {
           "x": 0.05
          },
          "xaxis": {
           "automargin": true,
           "gridcolor": "white",
           "linecolor": "white",
           "ticks": "",
           "title": {
            "standoff": 15
           },
           "zerolinecolor": "white",
           "zerolinewidth": 2
          },
          "yaxis": {
           "automargin": true,
           "gridcolor": "white",
           "linecolor": "white",
           "ticks": "",
           "title": {
            "standoff": 15
           },
           "zerolinecolor": "white",
           "zerolinewidth": 2
          }
         }
        },
        "title": {
         "font": {
          "color": "#4D5663"
         }
        },
        "xaxis": {
         "gridcolor": "#E1E5ED",
         "showgrid": true,
         "tickfont": {
          "color": "#4D5663"
         },
         "title": {
          "font": {
           "color": "#4D5663"
          },
          "text": ""
         },
         "zerolinecolor": "#E1E5ED"
        },
        "yaxis": {
         "gridcolor": "#E1E5ED",
         "showgrid": true,
         "tickfont": {
          "color": "#4D5663"
         },
         "title": {
          "font": {
           "color": "#4D5663"
          },
          "text": ""
         },
         "zerolinecolor": "#E1E5ED"
        }
       }
      },
      "text/html": [
       "<div>\n",
       "        \n",
       "        \n",
       "            <div id=\"da80055c-da8c-40cf-8b2a-f89704674f20\" class=\"plotly-graph-div\" style=\"height:525px; width:100%;\"></div>\n",
       "            <script type=\"text/javascript\">\n",
       "                require([\"plotly\"], function(Plotly) {\n",
       "                    window.PLOTLYENV=window.PLOTLYENV || {};\n",
       "                    window.PLOTLYENV.BASE_URL='https://plot.ly';\n",
       "                    \n",
       "                if (document.getElementById(\"da80055c-da8c-40cf-8b2a-f89704674f20\")) {\n",
       "                    Plotly.newPlot(\n",
       "                        'da80055c-da8c-40cf-8b2a-f89704674f20',\n",
       "                        [{\"histfunc\": \"count\", \"histnorm\": \"\", \"marker\": {\"color\": \"rgba(255, 153, 51, 1.0)\", \"line\": {\"color\": \"#4D5663\", \"width\": 1.3}}, \"name\": \"A\", \"opacity\": 0.8, \"orientation\": \"v\", \"type\": \"histogram\", \"x\": [-0.6070225586537845, -1.8638739423338426, -0.02945872276840593, -1.301291297310065, 0.48084833474018185, 0.7628548206270173, -0.28843164746247685, 0.6019043240278631, -0.8763709987921026, 1.702802294665911, 0.03894666378491089, -0.391247915748716, -0.3232684791801891, 0.5555540390983371, -0.5833873983870684, -0.0844703205455899, -0.5139830214610452, -0.9874331374104602, 1.3231224108983104, 1.3852294994314818, 0.495802931458785, 1.5044941738291178, 2.013539747855578, -0.9350456661961715, -0.07199477165247954, -0.012588234544470622, 1.0286702624831179, -0.30675308423320574, -2.0813241088469705, 0.9113534548782632, -1.1821295689927516, 0.39712861820350376, 0.32421117523347154, -1.388467161393341, -1.8196690472248764, 1.2781438676085672, 1.1244717635481953, 2.6878665336118686, -1.6109429503383526, -0.3309381064713909, 0.1012450075722931, -0.6927193028799976, -1.7779565769379178, -0.4937356719987772, -0.9214348954348198, 0.04960273216795757, -2.6493834985687386, -0.3863153542191854, -0.5203504684321614, 0.5977880177234898, 1.5935857254212724, 0.30130947631160576, -0.24209057064901562, 2.393932462989073, 0.48453201427412146, 1.1471246976281726, 1.2228406556961817, 1.0816068853591136, -0.7424208071880561, 0.7861844219733373, 0.7498272838099621, -0.025596103412613782, -0.8244905811186303, 0.6800258715624917, 0.5426539687452233, -0.3376995252397134, 0.4782136125101678, 1.61174979268537, -0.009447379791987958, 2.0385534852770575, 2.017903156882396, -0.04108963367107593, -0.37405806660701296, 1.6557536077103534, -0.9180687240107729, -1.3509762396010478, -1.3245247370933935, 0.1883981543352357, -1.007096270807894, 0.112857625621616, -0.03716265055480332, -1.3047337291461698, -1.8938223768162143, -0.05915120037142549, -0.022261006449155404, -2.2257467886082813, 0.299708338942967, -0.11551816567653965, -0.22224470630933316, 1.8203093144170124, -0.9809281853994635, 0.8258301853601936, 1.747369363537277, 0.4451763013778281, 0.8233981834134183, -0.37937479326251894, -1.4536121716892259, 1.1622792298167708, 0.2870601492366928, -1.3293818887641389]}, {\"histfunc\": \"count\", \"histnorm\": \"\", \"marker\": {\"color\": \"rgba(55, 128, 191, 1.0)\", \"line\": {\"color\": \"#4D5663\", \"width\": 1.3}}, \"name\": \"B\", \"opacity\": 0.8, \"orientation\": \"v\", \"type\": \"histogram\", \"x\": [0.39442564922170886, 1.1545382861670683, -0.3981929049509391, 1.0607053367391788, -1.0927982071594042, 0.8938581864801937, 0.10953427785913276, 1.100603769799354, -0.037145165173287524, 0.820385609335391, 0.1757448574089021, -1.4281471214410326, 1.3192507531473423, 0.591642670955045, 0.5229932990718201, 0.13605660011946183, -0.2100106055939634, -0.5700547463822505, -0.3323261428045018, 1.4377556274630496, 0.14413892892924288, 0.05300178117926253, 0.15897168480049687, -0.4642246356303038, -0.062162694238745014, -0.404997912384452, -0.7201482218638331, 2.023568952952069, -1.6214853359956733, 0.542085407732597, 0.5827569941618997, 0.3776319435990386, 0.7860509953709055, -0.5428417186393626, -0.6218017304368952, -0.01711816060498298, 0.8909241978978917, -1.1794232525669857, -0.23428574473243066, 0.6223056989779824, -0.13862316143162234, 1.3989648648043242, -1.2881252741130682, 0.7279631578004603, -0.048807113398033994, 1.0394435684890488, -3.3911593703715184, -0.524115543518746, 1.9491071278041052, 0.07942048576898976, -0.6641974846295369, -1.0352913027794661, -0.6683730021861155, -2.0801704608528366, -0.6236871291314133, 0.5545284284650903, 0.09672761646458744, -0.957367126309057, -1.3015723703851805, 0.529996087442483, 0.36037265455029355, -0.825360660875962, 1.6074276743204716, -2.125383315024735, 0.2729482690721516, 0.2648116479946539, -0.6484000338053134, -0.8529199767742717, -0.46666971985268213, -0.6044278288068219, 0.6411021729993239, 1.607115690297109, 0.642969908406056, 3.4880296066713408, 1.5160479793033188, 0.21650854966375002, 1.1058470153140674, 0.9089965059567509, -0.9594932219442222, -0.5825050989047242, -0.006558177721396607, 1.2314458312022174, -0.445862995858089, 0.32692197599067874, -0.16732624075897054, -0.06631960996464281, -0.5567444312996315, -1.2697328105510748, -0.6461202658830911, -1.6486385015803198, 0.8697462032738772, 1.071978584989495, 1.0115715290572223, 0.688291257034643, -0.4446104637134038, -1.370232127902445, 0.711851270271103, -1.4409175804017305, 0.17758469504751084, -0.3488266307639724]}, {\"histfunc\": \"count\", \"histnorm\": \"\", \"marker\": {\"color\": \"rgba(50, 171, 96, 1.0)\", \"line\": {\"color\": \"#4D5663\", \"width\": 1.3}}, \"name\": \"C\", \"opacity\": 0.8, \"orientation\": \"v\", \"type\": \"histogram\", \"x\": [0.5786488658973388, -1.3779481177244952, 0.12365177369173536, -1.116511132468932, 0.8058094735407533, -0.40434082821277284, 1.0225385803330087, -0.6470938916080935, -0.3508677486533792, 2.5013226025963746, -1.5259835252824552, -0.9829311652920717, 0.23493446006915572, -0.9037615413233684, -1.3141707547165868, -1.5199657157915831, -0.7626795758174268, 1.6073113400335521, 0.3065045812678438, 0.7670645741240087, -0.44191752142816326, -1.3298535843393218, -1.135700295184527, 0.9297115141063347, 0.6865778093810669, 0.2906984631345525, -0.9865642416513182, 0.7390830087985069, 0.5873820481676423, -1.0539583164959976, 0.5414419704915575, -0.11185761505217436, -0.07695780645157449, -2.1646462442630616, 1.1851782283016816, -1.8572626824506342, 0.44751835654226163, 0.2377385201511963, 0.0977471498017824, -0.346706646408973, 0.3288034699452686, -0.241554375975574, 0.23406958233434508, -1.2932583043575332, -0.0753563250462829, 0.9227704330212433, -0.9932007883861261, 0.8402493065090569, -1.7071908207317257, 0.4353964002156085, 0.8810442345722524, -1.2204230274097805, 0.9178683103189221, -0.5616608195969544, -1.4997595699840784, -0.6205171225168257, 1.078060164804285, 1.0340481232295156, -0.7664258411313779, 0.6926338816275318, 1.8483024115450608, -0.9381821206856582, -0.31440988974655065, -0.5299400185069904, 0.5028693025293436, -0.697868894664978, 0.02223697002983274, 0.77557394882186, 0.8422756027790126, 1.0019480005664712, -0.7245614241946116, -0.20870645294212087, -0.11179174927504838, -0.25709999871760897, -1.202771442521758, 0.17460517244494234, -3.556830917028255, 1.959280308579902, -0.20721381467702987, -0.004113041471365491, 1.0467020240597704, -0.6563924493292402, -1.2702933876925069, -0.44861523437505996, 0.23141073624629255, 0.28912448864058354, -2.64152539481277, -0.37655621404335426, -0.9278540083113972, 0.021633252663627364, 0.4389105377440285, -0.316289308114846, -1.1468826225189952, -1.157161485137814, 0.7742523737057712, 1.0009994401994993, 0.21047062378348677, -0.4760958934500705, -0.6458907785383571, -0.35137750023636594]}, {\"histfunc\": \"count\", \"histnorm\": \"\", \"marker\": {\"color\": \"rgba(128, 0, 128, 1.0)\", \"line\": {\"color\": \"#4D5663\", \"width\": 1.3}}, \"name\": \"D\", \"opacity\": 0.8, \"orientation\": \"v\", \"type\": \"histogram\", \"x\": [-0.7710707494557274, 0.9084215962844299, 0.14867156693112518, 1.091242440442385, -0.38136791739286025, 2.6551377942985472, -0.542106532007221, 0.0009897898929007354, 1.025732698451324, 1.0917364537662415, -0.06579851584724807, 1.8484432768417098, -0.3399947465039237, -0.6562755405065582, 0.9859146265234778, 0.9181428936696494, 0.560453175862377, 0.6173219524497757, -0.4176234372666162, -0.08616974832048305, -0.006352829478318503, 0.5136507964107583, 0.15464554983258477, -0.4030269739726689, 0.3296061099699754, -0.4648081650700848, -1.1636454990471916, 0.8167962531838402, 1.3782602913496587, -0.8339337883855852, 0.866982803885244, 0.6456966292631111, -1.65519664670503, -0.34483808667429844, 1.1519480185389928, -0.42603916535007497, -1.3876296020701955, 0.438502934561104, -0.34317189887749944, -0.2582968179968848, -1.6196419672168794, -0.32586548630627404, 0.490437955843003, -0.016853814769800884, 0.5704102851277636, -0.020673325863221778, 1.4100771515518467, 0.8309463411013209, 1.3443492512121447, -1.8857520766945424, -0.09056980293285732, 0.09138694227565757, 1.3636878725062827, -0.2660602412255175, 1.646259910223738, 1.8005971402578238, -1.210293685648795, -0.4522423782105368, 0.4567476600502909, 1.3930048823179084, 0.2072223848026172, 0.6332124968747784, -1.3880857965038995, 1.987635207109135, -0.992693168002227, -0.5082269973015238, 0.4403931715663567, -1.4866772715183176, 0.6426683638879613, 0.6778864417024036, 0.2211458414525818, -0.029785991329424652, 0.6604793649030712, -1.3172685329935305, 0.061259598483134725, -0.40628739096693317, -1.0786117555871804, -2.459949891065606, 0.058595706402560455, 0.5166845977099281, 0.4436605818850999, 0.9127365293860776, -0.9936011302758352, -1.0284535043950807, 0.7193874352238564, 0.19833013706556346, 0.041628183160987306, 0.4541679834133369, -1.5602230041741998, -0.772172041615176, 0.15727133827918466, 0.780274996711184, -1.3290121829172736, -0.3476287149663292, 0.5469591287599925, -0.12694867546220384, 0.24056843026883892, -2.7646992768771086, 1.0658530548801204, 0.14202684939502938]}],\n",
       "                        {\"barmode\": \"overlay\", \"legend\": {\"bgcolor\": \"#F5F6F9\", \"font\": {\"color\": \"#4D5663\"}}, \"paper_bgcolor\": \"#F5F6F9\", \"plot_bgcolor\": \"#F5F6F9\", \"template\": {\"data\": {\"bar\": [{\"error_x\": {\"color\": \"#2a3f5f\"}, \"error_y\": {\"color\": \"#2a3f5f\"}, \"marker\": {\"line\": {\"color\": \"#E5ECF6\", \"width\": 0.5}}, \"type\": \"bar\"}], \"barpolar\": [{\"marker\": {\"line\": {\"color\": \"#E5ECF6\", \"width\": 0.5}}, \"type\": \"barpolar\"}], \"carpet\": [{\"aaxis\": {\"endlinecolor\": \"#2a3f5f\", \"gridcolor\": \"white\", \"linecolor\": \"white\", \"minorgridcolor\": \"white\", \"startlinecolor\": \"#2a3f5f\"}, \"baxis\": {\"endlinecolor\": \"#2a3f5f\", \"gridcolor\": \"white\", \"linecolor\": \"white\", \"minorgridcolor\": \"white\", \"startlinecolor\": \"#2a3f5f\"}, \"type\": \"carpet\"}], \"choropleth\": [{\"colorbar\": {\"outlinewidth\": 0, \"ticks\": \"\"}, \"type\": \"choropleth\"}], \"contour\": [{\"colorbar\": {\"outlinewidth\": 0, \"ticks\": \"\"}, \"colorscale\": [[0.0, \"#0d0887\"], [0.1111111111111111, \"#46039f\"], [0.2222222222222222, \"#7201a8\"], [0.3333333333333333, \"#9c179e\"], [0.4444444444444444, \"#bd3786\"], [0.5555555555555556, \"#d8576b\"], [0.6666666666666666, \"#ed7953\"], [0.7777777777777778, \"#fb9f3a\"], [0.8888888888888888, \"#fdca26\"], [1.0, \"#f0f921\"]], \"type\": \"contour\"}], \"contourcarpet\": [{\"colorbar\": {\"outlinewidth\": 0, \"ticks\": \"\"}, \"type\": \"contourcarpet\"}], \"heatmap\": [{\"colorbar\": {\"outlinewidth\": 0, \"ticks\": \"\"}, \"colorscale\": [[0.0, \"#0d0887\"], [0.1111111111111111, \"#46039f\"], [0.2222222222222222, \"#7201a8\"], [0.3333333333333333, \"#9c179e\"], [0.4444444444444444, \"#bd3786\"], [0.5555555555555556, \"#d8576b\"], [0.6666666666666666, \"#ed7953\"], [0.7777777777777778, \"#fb9f3a\"], [0.8888888888888888, \"#fdca26\"], [1.0, \"#f0f921\"]], \"type\": \"heatmap\"}], \"heatmapgl\": [{\"colorbar\": {\"outlinewidth\": 0, \"ticks\": \"\"}, \"colorscale\": [[0.0, \"#0d0887\"], [0.1111111111111111, \"#46039f\"], [0.2222222222222222, \"#7201a8\"], [0.3333333333333333, \"#9c179e\"], [0.4444444444444444, \"#bd3786\"], [0.5555555555555556, \"#d8576b\"], [0.6666666666666666, \"#ed7953\"], [0.7777777777777778, \"#fb9f3a\"], [0.8888888888888888, \"#fdca26\"], [1.0, \"#f0f921\"]], \"type\": \"heatmapgl\"}], \"histogram\": [{\"marker\": {\"colorbar\": {\"outlinewidth\": 0, \"ticks\": \"\"}}, \"type\": \"histogram\"}], \"histogram2d\": [{\"colorbar\": {\"outlinewidth\": 0, \"ticks\": \"\"}, \"colorscale\": [[0.0, \"#0d0887\"], [0.1111111111111111, \"#46039f\"], [0.2222222222222222, \"#7201a8\"], [0.3333333333333333, \"#9c179e\"], [0.4444444444444444, \"#bd3786\"], [0.5555555555555556, \"#d8576b\"], [0.6666666666666666, \"#ed7953\"], [0.7777777777777778, \"#fb9f3a\"], [0.8888888888888888, \"#fdca26\"], [1.0, \"#f0f921\"]], \"type\": \"histogram2d\"}], \"histogram2dcontour\": [{\"colorbar\": {\"outlinewidth\": 0, \"ticks\": \"\"}, \"colorscale\": [[0.0, \"#0d0887\"], [0.1111111111111111, \"#46039f\"], [0.2222222222222222, \"#7201a8\"], [0.3333333333333333, \"#9c179e\"], [0.4444444444444444, \"#bd3786\"], [0.5555555555555556, \"#d8576b\"], [0.6666666666666666, \"#ed7953\"], [0.7777777777777778, \"#fb9f3a\"], [0.8888888888888888, \"#fdca26\"], [1.0, \"#f0f921\"]], \"type\": \"histogram2dcontour\"}], \"mesh3d\": [{\"colorbar\": {\"outlinewidth\": 0, \"ticks\": \"\"}, \"type\": \"mesh3d\"}], \"parcoords\": [{\"line\": {\"colorbar\": {\"outlinewidth\": 0, \"ticks\": \"\"}}, \"type\": \"parcoords\"}], \"pie\": [{\"automargin\": true, \"type\": \"pie\"}], \"scatter\": [{\"marker\": {\"colorbar\": {\"outlinewidth\": 0, \"ticks\": \"\"}}, \"type\": \"scatter\"}], \"scatter3d\": [{\"line\": {\"colorbar\": {\"outlinewidth\": 0, \"ticks\": \"\"}}, \"marker\": {\"colorbar\": {\"outlinewidth\": 0, \"ticks\": \"\"}}, \"type\": \"scatter3d\"}], \"scattercarpet\": [{\"marker\": {\"colorbar\": {\"outlinewidth\": 0, \"ticks\": \"\"}}, \"type\": \"scattercarpet\"}], \"scattergeo\": [{\"marker\": {\"colorbar\": {\"outlinewidth\": 0, \"ticks\": \"\"}}, \"type\": \"scattergeo\"}], \"scattergl\": [{\"marker\": {\"colorbar\": {\"outlinewidth\": 0, \"ticks\": \"\"}}, \"type\": \"scattergl\"}], \"scattermapbox\": [{\"marker\": {\"colorbar\": {\"outlinewidth\": 0, \"ticks\": \"\"}}, \"type\": \"scattermapbox\"}], \"scatterpolar\": [{\"marker\": {\"colorbar\": {\"outlinewidth\": 0, \"ticks\": \"\"}}, \"type\": \"scatterpolar\"}], \"scatterpolargl\": [{\"marker\": {\"colorbar\": {\"outlinewidth\": 0, \"ticks\": \"\"}}, \"type\": \"scatterpolargl\"}], \"scatterternary\": [{\"marker\": {\"colorbar\": {\"outlinewidth\": 0, \"ticks\": \"\"}}, \"type\": \"scatterternary\"}], \"surface\": [{\"colorbar\": {\"outlinewidth\": 0, \"ticks\": \"\"}, \"colorscale\": [[0.0, \"#0d0887\"], [0.1111111111111111, \"#46039f\"], [0.2222222222222222, \"#7201a8\"], [0.3333333333333333, \"#9c179e\"], [0.4444444444444444, \"#bd3786\"], [0.5555555555555556, \"#d8576b\"], [0.6666666666666666, \"#ed7953\"], [0.7777777777777778, \"#fb9f3a\"], [0.8888888888888888, \"#fdca26\"], [1.0, \"#f0f921\"]], \"type\": \"surface\"}], \"table\": [{\"cells\": {\"fill\": {\"color\": \"#EBF0F8\"}, \"line\": {\"color\": \"white\"}}, \"header\": {\"fill\": {\"color\": \"#C8D4E3\"}, \"line\": {\"color\": \"white\"}}, \"type\": \"table\"}]}, \"layout\": {\"annotationdefaults\": {\"arrowcolor\": \"#2a3f5f\", \"arrowhead\": 0, \"arrowwidth\": 1}, \"coloraxis\": {\"colorbar\": {\"outlinewidth\": 0, \"ticks\": \"\"}}, \"colorscale\": {\"diverging\": [[0, \"#8e0152\"], [0.1, \"#c51b7d\"], [0.2, \"#de77ae\"], [0.3, \"#f1b6da\"], [0.4, \"#fde0ef\"], [0.5, \"#f7f7f7\"], [0.6, \"#e6f5d0\"], [0.7, \"#b8e186\"], [0.8, \"#7fbc41\"], [0.9, \"#4d9221\"], [1, \"#276419\"]], \"sequential\": [[0.0, \"#0d0887\"], [0.1111111111111111, \"#46039f\"], [0.2222222222222222, \"#7201a8\"], [0.3333333333333333, \"#9c179e\"], [0.4444444444444444, \"#bd3786\"], [0.5555555555555556, \"#d8576b\"], [0.6666666666666666, \"#ed7953\"], [0.7777777777777778, \"#fb9f3a\"], [0.8888888888888888, \"#fdca26\"], [1.0, \"#f0f921\"]], \"sequentialminus\": [[0.0, \"#0d0887\"], [0.1111111111111111, \"#46039f\"], [0.2222222222222222, \"#7201a8\"], [0.3333333333333333, \"#9c179e\"], [0.4444444444444444, \"#bd3786\"], [0.5555555555555556, \"#d8576b\"], [0.6666666666666666, \"#ed7953\"], [0.7777777777777778, \"#fb9f3a\"], [0.8888888888888888, \"#fdca26\"], [1.0, \"#f0f921\"]]}, \"colorway\": [\"#636efa\", \"#EF553B\", \"#00cc96\", \"#ab63fa\", \"#FFA15A\", \"#19d3f3\", \"#FF6692\", \"#B6E880\", \"#FF97FF\", \"#FECB52\"], \"font\": {\"color\": \"#2a3f5f\"}, \"geo\": {\"bgcolor\": \"white\", \"lakecolor\": \"white\", \"landcolor\": \"#E5ECF6\", \"showlakes\": true, \"showland\": true, \"subunitcolor\": \"white\"}, \"hoverlabel\": {\"align\": \"left\"}, \"hovermode\": \"closest\", \"mapbox\": {\"style\": \"light\"}, \"paper_bgcolor\": \"white\", \"plot_bgcolor\": \"#E5ECF6\", \"polar\": {\"angularaxis\": {\"gridcolor\": \"white\", \"linecolor\": \"white\", \"ticks\": \"\"}, \"bgcolor\": \"#E5ECF6\", \"radialaxis\": {\"gridcolor\": \"white\", \"linecolor\": \"white\", \"ticks\": \"\"}}, \"scene\": {\"xaxis\": {\"backgroundcolor\": \"#E5ECF6\", \"gridcolor\": \"white\", \"gridwidth\": 2, \"linecolor\": \"white\", \"showbackground\": true, \"ticks\": \"\", \"zerolinecolor\": \"white\"}, \"yaxis\": {\"backgroundcolor\": \"#E5ECF6\", \"gridcolor\": \"white\", \"gridwidth\": 2, \"linecolor\": \"white\", \"showbackground\": true, \"ticks\": \"\", \"zerolinecolor\": \"white\"}, \"zaxis\": {\"backgroundcolor\": \"#E5ECF6\", \"gridcolor\": \"white\", \"gridwidth\": 2, \"linecolor\": \"white\", \"showbackground\": true, \"ticks\": \"\", \"zerolinecolor\": \"white\"}}, \"shapedefaults\": {\"line\": {\"color\": \"#2a3f5f\"}}, \"ternary\": {\"aaxis\": {\"gridcolor\": \"white\", \"linecolor\": \"white\", \"ticks\": \"\"}, \"baxis\": {\"gridcolor\": \"white\", \"linecolor\": \"white\", \"ticks\": \"\"}, \"bgcolor\": \"#E5ECF6\", \"caxis\": {\"gridcolor\": \"white\", \"linecolor\": \"white\", \"ticks\": \"\"}}, \"title\": {\"x\": 0.05}, \"xaxis\": {\"automargin\": true, \"gridcolor\": \"white\", \"linecolor\": \"white\", \"ticks\": \"\", \"title\": {\"standoff\": 15}, \"zerolinecolor\": \"white\", \"zerolinewidth\": 2}, \"yaxis\": {\"automargin\": true, \"gridcolor\": \"white\", \"linecolor\": \"white\", \"ticks\": \"\", \"title\": {\"standoff\": 15}, \"zerolinecolor\": \"white\", \"zerolinewidth\": 2}}}, \"title\": {\"font\": {\"color\": \"#4D5663\"}}, \"xaxis\": {\"gridcolor\": \"#E1E5ED\", \"showgrid\": true, \"tickfont\": {\"color\": \"#4D5663\"}, \"title\": {\"font\": {\"color\": \"#4D5663\"}, \"text\": \"\"}, \"zerolinecolor\": \"#E1E5ED\"}, \"yaxis\": {\"gridcolor\": \"#E1E5ED\", \"showgrid\": true, \"tickfont\": {\"color\": \"#4D5663\"}, \"title\": {\"font\": {\"color\": \"#4D5663\"}, \"text\": \"\"}, \"zerolinecolor\": \"#E1E5ED\"}},\n",
       "                        {\"showLink\": true, \"linkText\": \"Export to plot.ly\", \"plotlyServerURL\": \"https://plot.ly\", \"responsive\": true}\n",
       "                    ).then(function(){\n",
       "                            \n",
       "var gd = document.getElementById('da80055c-da8c-40cf-8b2a-f89704674f20');\n",
       "var x = new MutationObserver(function (mutations, observer) {{\n",
       "        var display = window.getComputedStyle(gd).display;\n",
       "        if (!display || display === 'none') {{\n",
       "            console.log([gd, 'removed!']);\n",
       "            Plotly.purge(gd);\n",
       "            observer.disconnect();\n",
       "        }}\n",
       "}});\n",
       "\n",
       "// Listen for the removal of the full notebook cells\n",
       "var notebookContainer = gd.closest('#notebook-container');\n",
       "if (notebookContainer) {{\n",
       "    x.observe(notebookContainer, {childList: true});\n",
       "}}\n",
       "\n",
       "// Listen for the clearing of the current output cell\n",
       "var outputEl = gd.closest('.output');\n",
       "if (outputEl) {{\n",
       "    x.observe(outputEl, {childList: true});\n",
       "}}\n",
       "\n",
       "                        })\n",
       "                };\n",
       "                });\n",
       "            </script>\n",
       "        </div>"
      ]
     },
     "metadata": {},
     "output_type": "display_data"
    }
   ],
   "source": [
    "df.iplot(kind=\"hist\")"
   ]
  },
  {
   "cell_type": "code",
   "execution_count": 50,
   "metadata": {},
   "outputs": [
    {
     "data": {
      "application/vnd.plotly.v1+json": {
       "config": {
        "linkText": "Export to plot.ly",
        "plotlyServerURL": "https://plot.ly",
        "showLink": true
       },
       "data": [
        {
         "line": {
          "color": "rgba(255, 153, 51, 1.0)",
          "dash": "solid",
          "shape": "linear",
          "width": 1.3
         },
         "mode": "lines",
         "name": "A",
         "text": "",
         "type": "scatter",
         "x": [
          0,
          1,
          2,
          3,
          4,
          5,
          6,
          7,
          8,
          9,
          10,
          11,
          12,
          13,
          14,
          15,
          16,
          17,
          18,
          19,
          20,
          21,
          22,
          23,
          24,
          25,
          26,
          27,
          28,
          29,
          30,
          31,
          32,
          33,
          34,
          35,
          36,
          37,
          38,
          39,
          40,
          41,
          42,
          43,
          44,
          45,
          46,
          47,
          48,
          49,
          50,
          51,
          52,
          53,
          54,
          55,
          56,
          57,
          58,
          59,
          60,
          61,
          62,
          63,
          64,
          65,
          66,
          67,
          68,
          69,
          70,
          71,
          72,
          73,
          74,
          75,
          76,
          77,
          78,
          79,
          80,
          81,
          82,
          83,
          84,
          85,
          86,
          87,
          88,
          89,
          90,
          91,
          92,
          93,
          94,
          95,
          96,
          97,
          98,
          99
         ],
         "y": [
          -0.6070225586537845,
          -1.8638739423338426,
          -0.02945872276840593,
          -1.301291297310065,
          0.48084833474018185,
          0.7628548206270173,
          -0.28843164746247685,
          0.6019043240278631,
          -0.8763709987921026,
          1.702802294665911,
          0.03894666378491089,
          -0.391247915748716,
          -0.3232684791801891,
          0.5555540390983371,
          -0.5833873983870684,
          -0.0844703205455899,
          -0.5139830214610452,
          -0.9874331374104602,
          1.3231224108983104,
          1.3852294994314818,
          0.495802931458785,
          1.5044941738291178,
          2.013539747855578,
          -0.9350456661961715,
          -0.07199477165247954,
          -0.012588234544470622,
          1.0286702624831179,
          -0.30675308423320574,
          -2.0813241088469705,
          0.9113534548782632,
          -1.1821295689927516,
          0.39712861820350376,
          0.32421117523347154,
          -1.388467161393341,
          -1.8196690472248764,
          1.2781438676085672,
          1.1244717635481953,
          2.6878665336118686,
          -1.6109429503383526,
          -0.3309381064713909,
          0.1012450075722931,
          -0.6927193028799976,
          -1.7779565769379178,
          -0.4937356719987772,
          -0.9214348954348198,
          0.04960273216795757,
          -2.6493834985687386,
          -0.3863153542191854,
          -0.5203504684321614,
          0.5977880177234898,
          1.5935857254212724,
          0.30130947631160576,
          -0.24209057064901562,
          2.393932462989073,
          0.48453201427412146,
          1.1471246976281726,
          1.2228406556961817,
          1.0816068853591136,
          -0.7424208071880561,
          0.7861844219733373,
          0.7498272838099621,
          -0.025596103412613782,
          -0.8244905811186303,
          0.6800258715624917,
          0.5426539687452233,
          -0.3376995252397134,
          0.4782136125101678,
          1.61174979268537,
          -0.009447379791987958,
          2.0385534852770575,
          2.017903156882396,
          -0.04108963367107593,
          -0.37405806660701296,
          1.6557536077103534,
          -0.9180687240107729,
          -1.3509762396010478,
          -1.3245247370933935,
          0.1883981543352357,
          -1.007096270807894,
          0.112857625621616,
          -0.03716265055480332,
          -1.3047337291461698,
          -1.8938223768162143,
          -0.05915120037142549,
          -0.022261006449155404,
          -2.2257467886082813,
          0.299708338942967,
          -0.11551816567653965,
          -0.22224470630933316,
          1.8203093144170124,
          -0.9809281853994635,
          0.8258301853601936,
          1.747369363537277,
          0.4451763013778281,
          0.8233981834134183,
          -0.37937479326251894,
          -1.4536121716892259,
          1.1622792298167708,
          0.2870601492366928,
          -1.3293818887641389
         ]
        },
        {
         "line": {
          "color": "rgba(55, 128, 191, 1.0)",
          "dash": "solid",
          "shape": "linear",
          "width": 1.3
         },
         "mode": "lines",
         "name": "B",
         "text": "",
         "type": "scatter",
         "x": [
          0,
          1,
          2,
          3,
          4,
          5,
          6,
          7,
          8,
          9,
          10,
          11,
          12,
          13,
          14,
          15,
          16,
          17,
          18,
          19,
          20,
          21,
          22,
          23,
          24,
          25,
          26,
          27,
          28,
          29,
          30,
          31,
          32,
          33,
          34,
          35,
          36,
          37,
          38,
          39,
          40,
          41,
          42,
          43,
          44,
          45,
          46,
          47,
          48,
          49,
          50,
          51,
          52,
          53,
          54,
          55,
          56,
          57,
          58,
          59,
          60,
          61,
          62,
          63,
          64,
          65,
          66,
          67,
          68,
          69,
          70,
          71,
          72,
          73,
          74,
          75,
          76,
          77,
          78,
          79,
          80,
          81,
          82,
          83,
          84,
          85,
          86,
          87,
          88,
          89,
          90,
          91,
          92,
          93,
          94,
          95,
          96,
          97,
          98,
          99
         ],
         "y": [
          0.39442564922170886,
          1.1545382861670683,
          -0.3981929049509391,
          1.0607053367391788,
          -1.0927982071594042,
          0.8938581864801937,
          0.10953427785913276,
          1.100603769799354,
          -0.037145165173287524,
          0.820385609335391,
          0.1757448574089021,
          -1.4281471214410326,
          1.3192507531473423,
          0.591642670955045,
          0.5229932990718201,
          0.13605660011946183,
          -0.2100106055939634,
          -0.5700547463822505,
          -0.3323261428045018,
          1.4377556274630496,
          0.14413892892924288,
          0.05300178117926253,
          0.15897168480049687,
          -0.4642246356303038,
          -0.062162694238745014,
          -0.404997912384452,
          -0.7201482218638331,
          2.023568952952069,
          -1.6214853359956733,
          0.542085407732597,
          0.5827569941618997,
          0.3776319435990386,
          0.7860509953709055,
          -0.5428417186393626,
          -0.6218017304368952,
          -0.01711816060498298,
          0.8909241978978917,
          -1.1794232525669857,
          -0.23428574473243066,
          0.6223056989779824,
          -0.13862316143162234,
          1.3989648648043242,
          -1.2881252741130682,
          0.7279631578004603,
          -0.048807113398033994,
          1.0394435684890488,
          -3.3911593703715184,
          -0.524115543518746,
          1.9491071278041052,
          0.07942048576898976,
          -0.6641974846295369,
          -1.0352913027794661,
          -0.6683730021861155,
          -2.0801704608528366,
          -0.6236871291314133,
          0.5545284284650903,
          0.09672761646458744,
          -0.957367126309057,
          -1.3015723703851805,
          0.529996087442483,
          0.36037265455029355,
          -0.825360660875962,
          1.6074276743204716,
          -2.125383315024735,
          0.2729482690721516,
          0.2648116479946539,
          -0.6484000338053134,
          -0.8529199767742717,
          -0.46666971985268213,
          -0.6044278288068219,
          0.6411021729993239,
          1.607115690297109,
          0.642969908406056,
          3.4880296066713408,
          1.5160479793033188,
          0.21650854966375002,
          1.1058470153140674,
          0.9089965059567509,
          -0.9594932219442222,
          -0.5825050989047242,
          -0.006558177721396607,
          1.2314458312022174,
          -0.445862995858089,
          0.32692197599067874,
          -0.16732624075897054,
          -0.06631960996464281,
          -0.5567444312996315,
          -1.2697328105510748,
          -0.6461202658830911,
          -1.6486385015803198,
          0.8697462032738772,
          1.071978584989495,
          1.0115715290572223,
          0.688291257034643,
          -0.4446104637134038,
          -1.370232127902445,
          0.711851270271103,
          -1.4409175804017305,
          0.17758469504751084,
          -0.3488266307639724
         ]
        },
        {
         "connectgaps": false,
         "fill": "tozeroy",
         "line": {
          "color": "green",
          "dash": "solid",
          "shape": "linear",
          "width": 0.5
         },
         "mode": "lines",
         "name": "Spread",
         "showlegend": false,
         "type": "scatter",
         "x": [
          0,
          1,
          2,
          3,
          4,
          5,
          6,
          7,
          8,
          9,
          10,
          11,
          12,
          13,
          14,
          15,
          16,
          17,
          18,
          19,
          20,
          21,
          22,
          23,
          24,
          25,
          26,
          27,
          28,
          29,
          30,
          31,
          32,
          33,
          34,
          35,
          36,
          37,
          38,
          39,
          40,
          41,
          42,
          43,
          44,
          45,
          46,
          47,
          48,
          49,
          50,
          51,
          52,
          53,
          54,
          55,
          56,
          57,
          58,
          59,
          60,
          61,
          62,
          63,
          64,
          65,
          66,
          67,
          68,
          69,
          70,
          71,
          72,
          73,
          74,
          75,
          76,
          77,
          78,
          79,
          80,
          81,
          82,
          83,
          84,
          85,
          86,
          87,
          88,
          89,
          90,
          91,
          92,
          93,
          94,
          95,
          96,
          97,
          98,
          99
         ],
         "xaxis": "x2",
         "y": [
          "",
          "",
          0.3687341821825332,
          "",
          1.5736465418995862,
          "",
          "",
          "",
          "",
          0.88241668533052,
          "",
          1.0368992056923165,
          "",
          "",
          "",
          "",
          "",
          "",
          1.6554485537028123,
          "",
          0.3516640025295421,
          1.4514923926498553,
          1.8545680630550812,
          "",
          "",
          0.3924096778399814,
          1.748818484346951,
          "",
          "",
          0.3692680471456663,
          "",
          0.019496674604465136,
          "",
          "",
          "",
          1.2952620282135503,
          0.23354756565030366,
          3.867289786178854,
          "",
          "",
          0.23986816900391544,
          "",
          "",
          "",
          "",
          "",
          0.7417758718027798,
          0.13780018929956062,
          "",
          0.5183675319545,
          2.2577832100508095,
          1.3366007790910719,
          0.4262824315370999,
          4.47410292384191,
          1.1082191434055348,
          0.5925962691630823,
          1.1261130392315943,
          2.0389740116681705,
          0.5591515631971243,
          0.2561883345308542,
          0.38945462925966856,
          0.7997645574633483,
          "",
          2.8054091865872266,
          0.26970569967307173,
          "",
          1.1266136463154812,
          2.4646697694596416,
          0.4572223400606942,
          2.6429813140838796,
          1.3768009838830721,
          "",
          "",
          "",
          "",
          "",
          "",
          "",
          "",
          0.6953627245263403,
          "",
          "",
          "",
          "",
          0.14506523430981513,
          "",
          0.8564527702425985,
          1.1542146448745352,
          0.423875559573758,
          3.468947815997332,
          "",
          "",
          0.7357978344800546,
          "",
          1.2680086471268222,
          0.9908573346399261,
          "",
          2.6031968102185012,
          0.10947545418918198,
          ""
         ],
         "yaxis": "y2"
        },
        {
         "connectgaps": false,
         "fill": "tozeroy",
         "line": {
          "color": "red",
          "dash": "solid",
          "shape": "linear",
          "width": 0.5
         },
         "mode": "lines",
         "name": "Spread",
         "showlegend": false,
         "type": "scatter",
         "x": [
          0,
          1,
          2,
          3,
          4,
          5,
          6,
          7,
          8,
          9,
          10,
          11,
          12,
          13,
          14,
          15,
          16,
          17,
          18,
          19,
          20,
          21,
          22,
          23,
          24,
          25,
          26,
          27,
          28,
          29,
          30,
          31,
          32,
          33,
          34,
          35,
          36,
          37,
          38,
          39,
          40,
          41,
          42,
          43,
          44,
          45,
          46,
          47,
          48,
          49,
          50,
          51,
          52,
          53,
          54,
          55,
          56,
          57,
          58,
          59,
          60,
          61,
          62,
          63,
          64,
          65,
          66,
          67,
          68,
          69,
          70,
          71,
          72,
          73,
          74,
          75,
          76,
          77,
          78,
          79,
          80,
          81,
          82,
          83,
          84,
          85,
          86,
          87,
          88,
          89,
          90,
          91,
          92,
          93,
          94,
          95,
          96,
          97,
          98,
          99
         ],
         "xaxis": "x2",
         "y": [
          -1.0014482078754934,
          -3.018412228500911,
          "",
          -2.3619966340492438,
          "",
          -0.1310033658531764,
          -0.3979659253216096,
          -0.49869944577149095,
          -0.8392258336188151,
          "",
          -0.1367981936239912,
          "",
          -1.6425192323275315,
          -0.03608863185670785,
          -1.1063806974588886,
          -0.22052692066505172,
          -0.30397241586708185,
          -0.4173783910282097,
          "",
          -0.052526128031567865,
          "",
          "",
          "",
          -0.47082103056586766,
          -0.009832077413734527,
          "",
          "",
          -2.3303220371852746,
          -0.45983877285129715,
          "",
          -1.7648865631546513,
          "",
          -0.46183982013743397,
          -0.8456254427539784,
          -1.1978673167879812,
          "",
          "",
          "",
          -1.3766572056059219,
          -0.9532438054493733,
          "",
          -2.091684167684322,
          -0.48983130282484955,
          -1.2216988297992375,
          -0.8726277820367858,
          -0.9898408363210913,
          "",
          "",
          -2.469457596236267,
          "",
          "",
          "",
          "",
          "",
          "",
          "",
          "",
          "",
          "",
          "",
          "",
          "",
          -2.431918255439102,
          "",
          "",
          -0.6025111732343673,
          "",
          "",
          "",
          "",
          "",
          -1.648205323968185,
          -1.0170279750130689,
          -1.8322759989609874,
          -2.434116703314092,
          -1.5674847892647978,
          -2.430371752407461,
          -0.7205983516215151,
          -0.04760304886367195,
          "",
          -0.030604472833406712,
          -2.536179560348387,
          -1.4479593809581255,
          -0.38607317636210425,
          "",
          -2.1594271786436385,
          "",
          "",
          "",
          "",
          -1.8506743886733408,
          -0.24614839962930135,
          "",
          -0.2431149556568149,
          "",
          "",
          -2.1654634419603287,
          "",
          "",
          -0.9805552580001664
         ],
         "yaxis": "y2"
        }
       ],
       "layout": {
        "hovermode": "x",
        "legend": {
         "bgcolor": "#F5F6F9",
         "font": {
          "color": "#4D5663"
         }
        },
        "paper_bgcolor": "#F5F6F9",
        "plot_bgcolor": "#F5F6F9",
        "template": {
         "data": {
          "bar": [
           {
            "error_x": {
             "color": "#2a3f5f"
            },
            "error_y": {
             "color": "#2a3f5f"
            },
            "marker": {
             "line": {
              "color": "#E5ECF6",
              "width": 0.5
             }
            },
            "type": "bar"
           }
          ],
          "barpolar": [
           {
            "marker": {
             "line": {
              "color": "#E5ECF6",
              "width": 0.5
             }
            },
            "type": "barpolar"
           }
          ],
          "carpet": [
           {
            "aaxis": {
             "endlinecolor": "#2a3f5f",
             "gridcolor": "white",
             "linecolor": "white",
             "minorgridcolor": "white",
             "startlinecolor": "#2a3f5f"
            },
            "baxis": {
             "endlinecolor": "#2a3f5f",
             "gridcolor": "white",
             "linecolor": "white",
             "minorgridcolor": "white",
             "startlinecolor": "#2a3f5f"
            },
            "type": "carpet"
           }
          ],
          "choropleth": [
           {
            "colorbar": {
             "outlinewidth": 0,
             "ticks": ""
            },
            "type": "choropleth"
           }
          ],
          "contour": [
           {
            "colorbar": {
             "outlinewidth": 0,
             "ticks": ""
            },
            "colorscale": [
             [
              0,
              "#0d0887"
             ],
             [
              0.1111111111111111,
              "#46039f"
             ],
             [
              0.2222222222222222,
              "#7201a8"
             ],
             [
              0.3333333333333333,
              "#9c179e"
             ],
             [
              0.4444444444444444,
              "#bd3786"
             ],
             [
              0.5555555555555556,
              "#d8576b"
             ],
             [
              0.6666666666666666,
              "#ed7953"
             ],
             [
              0.7777777777777778,
              "#fb9f3a"
             ],
             [
              0.8888888888888888,
              "#fdca26"
             ],
             [
              1,
              "#f0f921"
             ]
            ],
            "type": "contour"
           }
          ],
          "contourcarpet": [
           {
            "colorbar": {
             "outlinewidth": 0,
             "ticks": ""
            },
            "type": "contourcarpet"
           }
          ],
          "heatmap": [
           {
            "colorbar": {
             "outlinewidth": 0,
             "ticks": ""
            },
            "colorscale": [
             [
              0,
              "#0d0887"
             ],
             [
              0.1111111111111111,
              "#46039f"
             ],
             [
              0.2222222222222222,
              "#7201a8"
             ],
             [
              0.3333333333333333,
              "#9c179e"
             ],
             [
              0.4444444444444444,
              "#bd3786"
             ],
             [
              0.5555555555555556,
              "#d8576b"
             ],
             [
              0.6666666666666666,
              "#ed7953"
             ],
             [
              0.7777777777777778,
              "#fb9f3a"
             ],
             [
              0.8888888888888888,
              "#fdca26"
             ],
             [
              1,
              "#f0f921"
             ]
            ],
            "type": "heatmap"
           }
          ],
          "heatmapgl": [
           {
            "colorbar": {
             "outlinewidth": 0,
             "ticks": ""
            },
            "colorscale": [
             [
              0,
              "#0d0887"
             ],
             [
              0.1111111111111111,
              "#46039f"
             ],
             [
              0.2222222222222222,
              "#7201a8"
             ],
             [
              0.3333333333333333,
              "#9c179e"
             ],
             [
              0.4444444444444444,
              "#bd3786"
             ],
             [
              0.5555555555555556,
              "#d8576b"
             ],
             [
              0.6666666666666666,
              "#ed7953"
             ],
             [
              0.7777777777777778,
              "#fb9f3a"
             ],
             [
              0.8888888888888888,
              "#fdca26"
             ],
             [
              1,
              "#f0f921"
             ]
            ],
            "type": "heatmapgl"
           }
          ],
          "histogram": [
           {
            "marker": {
             "colorbar": {
              "outlinewidth": 0,
              "ticks": ""
             }
            },
            "type": "histogram"
           }
          ],
          "histogram2d": [
           {
            "colorbar": {
             "outlinewidth": 0,
             "ticks": ""
            },
            "colorscale": [
             [
              0,
              "#0d0887"
             ],
             [
              0.1111111111111111,
              "#46039f"
             ],
             [
              0.2222222222222222,
              "#7201a8"
             ],
             [
              0.3333333333333333,
              "#9c179e"
             ],
             [
              0.4444444444444444,
              "#bd3786"
             ],
             [
              0.5555555555555556,
              "#d8576b"
             ],
             [
              0.6666666666666666,
              "#ed7953"
             ],
             [
              0.7777777777777778,
              "#fb9f3a"
             ],
             [
              0.8888888888888888,
              "#fdca26"
             ],
             [
              1,
              "#f0f921"
             ]
            ],
            "type": "histogram2d"
           }
          ],
          "histogram2dcontour": [
           {
            "colorbar": {
             "outlinewidth": 0,
             "ticks": ""
            },
            "colorscale": [
             [
              0,
              "#0d0887"
             ],
             [
              0.1111111111111111,
              "#46039f"
             ],
             [
              0.2222222222222222,
              "#7201a8"
             ],
             [
              0.3333333333333333,
              "#9c179e"
             ],
             [
              0.4444444444444444,
              "#bd3786"
             ],
             [
              0.5555555555555556,
              "#d8576b"
             ],
             [
              0.6666666666666666,
              "#ed7953"
             ],
             [
              0.7777777777777778,
              "#fb9f3a"
             ],
             [
              0.8888888888888888,
              "#fdca26"
             ],
             [
              1,
              "#f0f921"
             ]
            ],
            "type": "histogram2dcontour"
           }
          ],
          "mesh3d": [
           {
            "colorbar": {
             "outlinewidth": 0,
             "ticks": ""
            },
            "type": "mesh3d"
           }
          ],
          "parcoords": [
           {
            "line": {
             "colorbar": {
              "outlinewidth": 0,
              "ticks": ""
             }
            },
            "type": "parcoords"
           }
          ],
          "pie": [
           {
            "automargin": true,
            "type": "pie"
           }
          ],
          "scatter": [
           {
            "marker": {
             "colorbar": {
              "outlinewidth": 0,
              "ticks": ""
             }
            },
            "type": "scatter"
           }
          ],
          "scatter3d": [
           {
            "line": {
             "colorbar": {
              "outlinewidth": 0,
              "ticks": ""
             }
            },
            "marker": {
             "colorbar": {
              "outlinewidth": 0,
              "ticks": ""
             }
            },
            "type": "scatter3d"
           }
          ],
          "scattercarpet": [
           {
            "marker": {
             "colorbar": {
              "outlinewidth": 0,
              "ticks": ""
             }
            },
            "type": "scattercarpet"
           }
          ],
          "scattergeo": [
           {
            "marker": {
             "colorbar": {
              "outlinewidth": 0,
              "ticks": ""
             }
            },
            "type": "scattergeo"
           }
          ],
          "scattergl": [
           {
            "marker": {
             "colorbar": {
              "outlinewidth": 0,
              "ticks": ""
             }
            },
            "type": "scattergl"
           }
          ],
          "scattermapbox": [
           {
            "marker": {
             "colorbar": {
              "outlinewidth": 0,
              "ticks": ""
             }
            },
            "type": "scattermapbox"
           }
          ],
          "scatterpolar": [
           {
            "marker": {
             "colorbar": {
              "outlinewidth": 0,
              "ticks": ""
             }
            },
            "type": "scatterpolar"
           }
          ],
          "scatterpolargl": [
           {
            "marker": {
             "colorbar": {
              "outlinewidth": 0,
              "ticks": ""
             }
            },
            "type": "scatterpolargl"
           }
          ],
          "scatterternary": [
           {
            "marker": {
             "colorbar": {
              "outlinewidth": 0,
              "ticks": ""
             }
            },
            "type": "scatterternary"
           }
          ],
          "surface": [
           {
            "colorbar": {
             "outlinewidth": 0,
             "ticks": ""
            },
            "colorscale": [
             [
              0,
              "#0d0887"
             ],
             [
              0.1111111111111111,
              "#46039f"
             ],
             [
              0.2222222222222222,
              "#7201a8"
             ],
             [
              0.3333333333333333,
              "#9c179e"
             ],
             [
              0.4444444444444444,
              "#bd3786"
             ],
             [
              0.5555555555555556,
              "#d8576b"
             ],
             [
              0.6666666666666666,
              "#ed7953"
             ],
             [
              0.7777777777777778,
              "#fb9f3a"
             ],
             [
              0.8888888888888888,
              "#fdca26"
             ],
             [
              1,
              "#f0f921"
             ]
            ],
            "type": "surface"
           }
          ],
          "table": [
           {
            "cells": {
             "fill": {
              "color": "#EBF0F8"
             },
             "line": {
              "color": "white"
             }
            },
            "header": {
             "fill": {
              "color": "#C8D4E3"
             },
             "line": {
              "color": "white"
             }
            },
            "type": "table"
           }
          ]
         },
         "layout": {
          "annotationdefaults": {
           "arrowcolor": "#2a3f5f",
           "arrowhead": 0,
           "arrowwidth": 1
          },
          "coloraxis": {
           "colorbar": {
            "outlinewidth": 0,
            "ticks": ""
           }
          },
          "colorscale": {
           "diverging": [
            [
             0,
             "#8e0152"
            ],
            [
             0.1,
             "#c51b7d"
            ],
            [
             0.2,
             "#de77ae"
            ],
            [
             0.3,
             "#f1b6da"
            ],
            [
             0.4,
             "#fde0ef"
            ],
            [
             0.5,
             "#f7f7f7"
            ],
            [
             0.6,
             "#e6f5d0"
            ],
            [
             0.7,
             "#b8e186"
            ],
            [
             0.8,
             "#7fbc41"
            ],
            [
             0.9,
             "#4d9221"
            ],
            [
             1,
             "#276419"
            ]
           ],
           "sequential": [
            [
             0,
             "#0d0887"
            ],
            [
             0.1111111111111111,
             "#46039f"
            ],
            [
             0.2222222222222222,
             "#7201a8"
            ],
            [
             0.3333333333333333,
             "#9c179e"
            ],
            [
             0.4444444444444444,
             "#bd3786"
            ],
            [
             0.5555555555555556,
             "#d8576b"
            ],
            [
             0.6666666666666666,
             "#ed7953"
            ],
            [
             0.7777777777777778,
             "#fb9f3a"
            ],
            [
             0.8888888888888888,
             "#fdca26"
            ],
            [
             1,
             "#f0f921"
            ]
           ],
           "sequentialminus": [
            [
             0,
             "#0d0887"
            ],
            [
             0.1111111111111111,
             "#46039f"
            ],
            [
             0.2222222222222222,
             "#7201a8"
            ],
            [
             0.3333333333333333,
             "#9c179e"
            ],
            [
             0.4444444444444444,
             "#bd3786"
            ],
            [
             0.5555555555555556,
             "#d8576b"
            ],
            [
             0.6666666666666666,
             "#ed7953"
            ],
            [
             0.7777777777777778,
             "#fb9f3a"
            ],
            [
             0.8888888888888888,
             "#fdca26"
            ],
            [
             1,
             "#f0f921"
            ]
           ]
          },
          "colorway": [
           "#636efa",
           "#EF553B",
           "#00cc96",
           "#ab63fa",
           "#FFA15A",
           "#19d3f3",
           "#FF6692",
           "#B6E880",
           "#FF97FF",
           "#FECB52"
          ],
          "font": {
           "color": "#2a3f5f"
          },
          "geo": {
           "bgcolor": "white",
           "lakecolor": "white",
           "landcolor": "#E5ECF6",
           "showlakes": true,
           "showland": true,
           "subunitcolor": "white"
          },
          "hoverlabel": {
           "align": "left"
          },
          "hovermode": "closest",
          "mapbox": {
           "style": "light"
          },
          "paper_bgcolor": "white",
          "plot_bgcolor": "#E5ECF6",
          "polar": {
           "angularaxis": {
            "gridcolor": "white",
            "linecolor": "white",
            "ticks": ""
           },
           "bgcolor": "#E5ECF6",
           "radialaxis": {
            "gridcolor": "white",
            "linecolor": "white",
            "ticks": ""
           }
          },
          "scene": {
           "xaxis": {
            "backgroundcolor": "#E5ECF6",
            "gridcolor": "white",
            "gridwidth": 2,
            "linecolor": "white",
            "showbackground": true,
            "ticks": "",
            "zerolinecolor": "white"
           },
           "yaxis": {
            "backgroundcolor": "#E5ECF6",
            "gridcolor": "white",
            "gridwidth": 2,
            "linecolor": "white",
            "showbackground": true,
            "ticks": "",
            "zerolinecolor": "white"
           },
           "zaxis": {
            "backgroundcolor": "#E5ECF6",
            "gridcolor": "white",
            "gridwidth": 2,
            "linecolor": "white",
            "showbackground": true,
            "ticks": "",
            "zerolinecolor": "white"
           }
          },
          "shapedefaults": {
           "line": {
            "color": "#2a3f5f"
           }
          },
          "ternary": {
           "aaxis": {
            "gridcolor": "white",
            "linecolor": "white",
            "ticks": ""
           },
           "baxis": {
            "gridcolor": "white",
            "linecolor": "white",
            "ticks": ""
           },
           "bgcolor": "#E5ECF6",
           "caxis": {
            "gridcolor": "white",
            "linecolor": "white",
            "ticks": ""
           }
          },
          "title": {
           "x": 0.05
          },
          "xaxis": {
           "automargin": true,
           "gridcolor": "white",
           "linecolor": "white",
           "ticks": "",
           "title": {
            "standoff": 15
           },
           "zerolinecolor": "white",
           "zerolinewidth": 2
          },
          "yaxis": {
           "automargin": true,
           "gridcolor": "white",
           "linecolor": "white",
           "ticks": "",
           "title": {
            "standoff": 15
           },
           "zerolinecolor": "white",
           "zerolinewidth": 2
          }
         }
        },
        "title": {
         "font": {
          "color": "#4D5663"
         }
        },
        "xaxis": {
         "gridcolor": "#E1E5ED",
         "showgrid": true,
         "tickfont": {
          "color": "#4D5663"
         },
         "title": {
          "font": {
           "color": "#4D5663"
          },
          "text": ""
         },
         "zerolinecolor": "#E1E5ED"
        },
        "xaxis2": {
         "anchor": "y2",
         "gridcolor": "#E1E5ED",
         "showgrid": true,
         "showticklabels": false,
         "tickfont": {
          "color": "#4D5663"
         },
         "title": {
          "font": {
           "color": "#4D5663"
          },
          "text": ""
         },
         "zerolinecolor": "#E1E5ED"
        },
        "yaxis": {
         "domain": [
          0.3,
          1
         ],
         "gridcolor": "#E1E5ED",
         "showgrid": true,
         "tickfont": {
          "color": "#4D5663"
         },
         "title": {
          "font": {
           "color": "#4D5663"
          },
          "text": ""
         },
         "zerolinecolor": "#E1E5ED"
        },
        "yaxis2": {
         "domain": [
          0,
          0.25
         ],
         "gridcolor": "#E1E5ED",
         "showgrid": true,
         "tickfont": {
          "color": "#4D5663"
         },
         "title": {
          "font": {
           "color": "#4D5663"
          },
          "text": "Spread"
         },
         "zerolinecolor": "#E1E5ED"
        }
       }
      },
      "text/html": [
       "<div>\n",
       "        \n",
       "        \n",
       "            <div id=\"7e1157ee-86f3-4e68-9fbf-204a32b3c4a8\" class=\"plotly-graph-div\" style=\"height:525px; width:100%;\"></div>\n",
       "            <script type=\"text/javascript\">\n",
       "                require([\"plotly\"], function(Plotly) {\n",
       "                    window.PLOTLYENV=window.PLOTLYENV || {};\n",
       "                    window.PLOTLYENV.BASE_URL='https://plot.ly';\n",
       "                    \n",
       "                if (document.getElementById(\"7e1157ee-86f3-4e68-9fbf-204a32b3c4a8\")) {\n",
       "                    Plotly.newPlot(\n",
       "                        '7e1157ee-86f3-4e68-9fbf-204a32b3c4a8',\n",
       "                        [{\"line\": {\"color\": \"rgba(255, 153, 51, 1.0)\", \"dash\": \"solid\", \"shape\": \"linear\", \"width\": 1.3}, \"mode\": \"lines\", \"name\": \"A\", \"text\": \"\", \"type\": \"scatter\", \"x\": [0, 1, 2, 3, 4, 5, 6, 7, 8, 9, 10, 11, 12, 13, 14, 15, 16, 17, 18, 19, 20, 21, 22, 23, 24, 25, 26, 27, 28, 29, 30, 31, 32, 33, 34, 35, 36, 37, 38, 39, 40, 41, 42, 43, 44, 45, 46, 47, 48, 49, 50, 51, 52, 53, 54, 55, 56, 57, 58, 59, 60, 61, 62, 63, 64, 65, 66, 67, 68, 69, 70, 71, 72, 73, 74, 75, 76, 77, 78, 79, 80, 81, 82, 83, 84, 85, 86, 87, 88, 89, 90, 91, 92, 93, 94, 95, 96, 97, 98, 99], \"y\": [-0.6070225586537845, -1.8638739423338426, -0.02945872276840593, -1.301291297310065, 0.48084833474018185, 0.7628548206270173, -0.28843164746247685, 0.6019043240278631, -0.8763709987921026, 1.702802294665911, 0.03894666378491089, -0.391247915748716, -0.3232684791801891, 0.5555540390983371, -0.5833873983870684, -0.0844703205455899, -0.5139830214610452, -0.9874331374104602, 1.3231224108983104, 1.3852294994314818, 0.495802931458785, 1.5044941738291178, 2.013539747855578, -0.9350456661961715, -0.07199477165247954, -0.012588234544470622, 1.0286702624831179, -0.30675308423320574, -2.0813241088469705, 0.9113534548782632, -1.1821295689927516, 0.39712861820350376, 0.32421117523347154, -1.388467161393341, -1.8196690472248764, 1.2781438676085672, 1.1244717635481953, 2.6878665336118686, -1.6109429503383526, -0.3309381064713909, 0.1012450075722931, -0.6927193028799976, -1.7779565769379178, -0.4937356719987772, -0.9214348954348198, 0.04960273216795757, -2.6493834985687386, -0.3863153542191854, -0.5203504684321614, 0.5977880177234898, 1.5935857254212724, 0.30130947631160576, -0.24209057064901562, 2.393932462989073, 0.48453201427412146, 1.1471246976281726, 1.2228406556961817, 1.0816068853591136, -0.7424208071880561, 0.7861844219733373, 0.7498272838099621, -0.025596103412613782, -0.8244905811186303, 0.6800258715624917, 0.5426539687452233, -0.3376995252397134, 0.4782136125101678, 1.61174979268537, -0.009447379791987958, 2.0385534852770575, 2.017903156882396, -0.04108963367107593, -0.37405806660701296, 1.6557536077103534, -0.9180687240107729, -1.3509762396010478, -1.3245247370933935, 0.1883981543352357, -1.007096270807894, 0.112857625621616, -0.03716265055480332, -1.3047337291461698, -1.8938223768162143, -0.05915120037142549, -0.022261006449155404, -2.2257467886082813, 0.299708338942967, -0.11551816567653965, -0.22224470630933316, 1.8203093144170124, -0.9809281853994635, 0.8258301853601936, 1.747369363537277, 0.4451763013778281, 0.8233981834134183, -0.37937479326251894, -1.4536121716892259, 1.1622792298167708, 0.2870601492366928, -1.3293818887641389]}, {\"line\": {\"color\": \"rgba(55, 128, 191, 1.0)\", \"dash\": \"solid\", \"shape\": \"linear\", \"width\": 1.3}, \"mode\": \"lines\", \"name\": \"B\", \"text\": \"\", \"type\": \"scatter\", \"x\": [0, 1, 2, 3, 4, 5, 6, 7, 8, 9, 10, 11, 12, 13, 14, 15, 16, 17, 18, 19, 20, 21, 22, 23, 24, 25, 26, 27, 28, 29, 30, 31, 32, 33, 34, 35, 36, 37, 38, 39, 40, 41, 42, 43, 44, 45, 46, 47, 48, 49, 50, 51, 52, 53, 54, 55, 56, 57, 58, 59, 60, 61, 62, 63, 64, 65, 66, 67, 68, 69, 70, 71, 72, 73, 74, 75, 76, 77, 78, 79, 80, 81, 82, 83, 84, 85, 86, 87, 88, 89, 90, 91, 92, 93, 94, 95, 96, 97, 98, 99], \"y\": [0.39442564922170886, 1.1545382861670683, -0.3981929049509391, 1.0607053367391788, -1.0927982071594042, 0.8938581864801937, 0.10953427785913276, 1.100603769799354, -0.037145165173287524, 0.820385609335391, 0.1757448574089021, -1.4281471214410326, 1.3192507531473423, 0.591642670955045, 0.5229932990718201, 0.13605660011946183, -0.2100106055939634, -0.5700547463822505, -0.3323261428045018, 1.4377556274630496, 0.14413892892924288, 0.05300178117926253, 0.15897168480049687, -0.4642246356303038, -0.062162694238745014, -0.404997912384452, -0.7201482218638331, 2.023568952952069, -1.6214853359956733, 0.542085407732597, 0.5827569941618997, 0.3776319435990386, 0.7860509953709055, -0.5428417186393626, -0.6218017304368952, -0.01711816060498298, 0.8909241978978917, -1.1794232525669857, -0.23428574473243066, 0.6223056989779824, -0.13862316143162234, 1.3989648648043242, -1.2881252741130682, 0.7279631578004603, -0.048807113398033994, 1.0394435684890488, -3.3911593703715184, -0.524115543518746, 1.9491071278041052, 0.07942048576898976, -0.6641974846295369, -1.0352913027794661, -0.6683730021861155, -2.0801704608528366, -0.6236871291314133, 0.5545284284650903, 0.09672761646458744, -0.957367126309057, -1.3015723703851805, 0.529996087442483, 0.36037265455029355, -0.825360660875962, 1.6074276743204716, -2.125383315024735, 0.2729482690721516, 0.2648116479946539, -0.6484000338053134, -0.8529199767742717, -0.46666971985268213, -0.6044278288068219, 0.6411021729993239, 1.607115690297109, 0.642969908406056, 3.4880296066713408, 1.5160479793033188, 0.21650854966375002, 1.1058470153140674, 0.9089965059567509, -0.9594932219442222, -0.5825050989047242, -0.006558177721396607, 1.2314458312022174, -0.445862995858089, 0.32692197599067874, -0.16732624075897054, -0.06631960996464281, -0.5567444312996315, -1.2697328105510748, -0.6461202658830911, -1.6486385015803198, 0.8697462032738772, 1.071978584989495, 1.0115715290572223, 0.688291257034643, -0.4446104637134038, -1.370232127902445, 0.711851270271103, -1.4409175804017305, 0.17758469504751084, -0.3488266307639724]}, {\"connectgaps\": false, \"fill\": \"tozeroy\", \"line\": {\"color\": \"green\", \"dash\": \"solid\", \"shape\": \"linear\", \"width\": 0.5}, \"mode\": \"lines\", \"name\": \"Spread\", \"showlegend\": false, \"type\": \"scatter\", \"x\": [0, 1, 2, 3, 4, 5, 6, 7, 8, 9, 10, 11, 12, 13, 14, 15, 16, 17, 18, 19, 20, 21, 22, 23, 24, 25, 26, 27, 28, 29, 30, 31, 32, 33, 34, 35, 36, 37, 38, 39, 40, 41, 42, 43, 44, 45, 46, 47, 48, 49, 50, 51, 52, 53, 54, 55, 56, 57, 58, 59, 60, 61, 62, 63, 64, 65, 66, 67, 68, 69, 70, 71, 72, 73, 74, 75, 76, 77, 78, 79, 80, 81, 82, 83, 84, 85, 86, 87, 88, 89, 90, 91, 92, 93, 94, 95, 96, 97, 98, 99], \"xaxis\": \"x2\", \"y\": [\"\", \"\", 0.3687341821825332, \"\", 1.5736465418995862, \"\", \"\", \"\", \"\", 0.88241668533052, \"\", 1.0368992056923165, \"\", \"\", \"\", \"\", \"\", \"\", 1.6554485537028123, \"\", 0.3516640025295421, 1.4514923926498553, 1.8545680630550812, \"\", \"\", 0.3924096778399814, 1.748818484346951, \"\", \"\", 0.3692680471456663, \"\", 0.019496674604465136, \"\", \"\", \"\", 1.2952620282135503, 0.23354756565030366, 3.867289786178854, \"\", \"\", 0.23986816900391544, \"\", \"\", \"\", \"\", \"\", 0.7417758718027798, 0.13780018929956062, \"\", 0.5183675319545, 2.2577832100508095, 1.3366007790910719, 0.4262824315370999, 4.47410292384191, 1.1082191434055348, 0.5925962691630823, 1.1261130392315943, 2.0389740116681705, 0.5591515631971243, 0.2561883345308542, 0.38945462925966856, 0.7997645574633483, \"\", 2.8054091865872266, 0.26970569967307173, \"\", 1.1266136463154812, 2.4646697694596416, 0.4572223400606942, 2.6429813140838796, 1.3768009838830721, \"\", \"\", \"\", \"\", \"\", \"\", \"\", \"\", 0.6953627245263403, \"\", \"\", \"\", \"\", 0.14506523430981513, \"\", 0.8564527702425985, 1.1542146448745352, 0.423875559573758, 3.468947815997332, \"\", \"\", 0.7357978344800546, \"\", 1.2680086471268222, 0.9908573346399261, \"\", 2.6031968102185012, 0.10947545418918198, \"\"], \"yaxis\": \"y2\"}, {\"connectgaps\": false, \"fill\": \"tozeroy\", \"line\": {\"color\": \"red\", \"dash\": \"solid\", \"shape\": \"linear\", \"width\": 0.5}, \"mode\": \"lines\", \"name\": \"Spread\", \"showlegend\": false, \"type\": \"scatter\", \"x\": [0, 1, 2, 3, 4, 5, 6, 7, 8, 9, 10, 11, 12, 13, 14, 15, 16, 17, 18, 19, 20, 21, 22, 23, 24, 25, 26, 27, 28, 29, 30, 31, 32, 33, 34, 35, 36, 37, 38, 39, 40, 41, 42, 43, 44, 45, 46, 47, 48, 49, 50, 51, 52, 53, 54, 55, 56, 57, 58, 59, 60, 61, 62, 63, 64, 65, 66, 67, 68, 69, 70, 71, 72, 73, 74, 75, 76, 77, 78, 79, 80, 81, 82, 83, 84, 85, 86, 87, 88, 89, 90, 91, 92, 93, 94, 95, 96, 97, 98, 99], \"xaxis\": \"x2\", \"y\": [-1.0014482078754934, -3.018412228500911, \"\", -2.3619966340492438, \"\", -0.1310033658531764, -0.3979659253216096, -0.49869944577149095, -0.8392258336188151, \"\", -0.1367981936239912, \"\", -1.6425192323275315, -0.03608863185670785, -1.1063806974588886, -0.22052692066505172, -0.30397241586708185, -0.4173783910282097, \"\", -0.052526128031567865, \"\", \"\", \"\", -0.47082103056586766, -0.009832077413734527, \"\", \"\", -2.3303220371852746, -0.45983877285129715, \"\", -1.7648865631546513, \"\", -0.46183982013743397, -0.8456254427539784, -1.1978673167879812, \"\", \"\", \"\", -1.3766572056059219, -0.9532438054493733, \"\", -2.091684167684322, -0.48983130282484955, -1.2216988297992375, -0.8726277820367858, -0.9898408363210913, \"\", \"\", -2.469457596236267, \"\", \"\", \"\", \"\", \"\", \"\", \"\", \"\", \"\", \"\", \"\", \"\", \"\", -2.431918255439102, \"\", \"\", -0.6025111732343673, \"\", \"\", \"\", \"\", \"\", -1.648205323968185, -1.0170279750130689, -1.8322759989609874, -2.434116703314092, -1.5674847892647978, -2.430371752407461, -0.7205983516215151, -0.04760304886367195, \"\", -0.030604472833406712, -2.536179560348387, -1.4479593809581255, -0.38607317636210425, \"\", -2.1594271786436385, \"\", \"\", \"\", \"\", -1.8506743886733408, -0.24614839962930135, \"\", -0.2431149556568149, \"\", \"\", -2.1654634419603287, \"\", \"\", -0.9805552580001664], \"yaxis\": \"y2\"}],\n",
       "                        {\"hovermode\": \"x\", \"legend\": {\"bgcolor\": \"#F5F6F9\", \"font\": {\"color\": \"#4D5663\"}}, \"paper_bgcolor\": \"#F5F6F9\", \"plot_bgcolor\": \"#F5F6F9\", \"template\": {\"data\": {\"bar\": [{\"error_x\": {\"color\": \"#2a3f5f\"}, \"error_y\": {\"color\": \"#2a3f5f\"}, \"marker\": {\"line\": {\"color\": \"#E5ECF6\", \"width\": 0.5}}, \"type\": \"bar\"}], \"barpolar\": [{\"marker\": {\"line\": {\"color\": \"#E5ECF6\", \"width\": 0.5}}, \"type\": \"barpolar\"}], \"carpet\": [{\"aaxis\": {\"endlinecolor\": \"#2a3f5f\", \"gridcolor\": \"white\", \"linecolor\": \"white\", \"minorgridcolor\": \"white\", \"startlinecolor\": \"#2a3f5f\"}, \"baxis\": {\"endlinecolor\": \"#2a3f5f\", \"gridcolor\": \"white\", \"linecolor\": \"white\", \"minorgridcolor\": \"white\", \"startlinecolor\": \"#2a3f5f\"}, \"type\": \"carpet\"}], \"choropleth\": [{\"colorbar\": {\"outlinewidth\": 0, \"ticks\": \"\"}, \"type\": \"choropleth\"}], \"contour\": [{\"colorbar\": {\"outlinewidth\": 0, \"ticks\": \"\"}, \"colorscale\": [[0.0, \"#0d0887\"], [0.1111111111111111, \"#46039f\"], [0.2222222222222222, \"#7201a8\"], [0.3333333333333333, \"#9c179e\"], [0.4444444444444444, \"#bd3786\"], [0.5555555555555556, \"#d8576b\"], [0.6666666666666666, \"#ed7953\"], [0.7777777777777778, \"#fb9f3a\"], [0.8888888888888888, \"#fdca26\"], [1.0, \"#f0f921\"]], \"type\": \"contour\"}], \"contourcarpet\": [{\"colorbar\": {\"outlinewidth\": 0, \"ticks\": \"\"}, \"type\": \"contourcarpet\"}], \"heatmap\": [{\"colorbar\": {\"outlinewidth\": 0, \"ticks\": \"\"}, \"colorscale\": [[0.0, \"#0d0887\"], [0.1111111111111111, \"#46039f\"], [0.2222222222222222, \"#7201a8\"], [0.3333333333333333, \"#9c179e\"], [0.4444444444444444, \"#bd3786\"], [0.5555555555555556, \"#d8576b\"], [0.6666666666666666, \"#ed7953\"], [0.7777777777777778, \"#fb9f3a\"], [0.8888888888888888, \"#fdca26\"], [1.0, \"#f0f921\"]], \"type\": \"heatmap\"}], \"heatmapgl\": [{\"colorbar\": {\"outlinewidth\": 0, \"ticks\": \"\"}, \"colorscale\": [[0.0, \"#0d0887\"], [0.1111111111111111, \"#46039f\"], [0.2222222222222222, \"#7201a8\"], [0.3333333333333333, \"#9c179e\"], [0.4444444444444444, \"#bd3786\"], [0.5555555555555556, \"#d8576b\"], [0.6666666666666666, \"#ed7953\"], [0.7777777777777778, \"#fb9f3a\"], [0.8888888888888888, \"#fdca26\"], [1.0, \"#f0f921\"]], \"type\": \"heatmapgl\"}], \"histogram\": [{\"marker\": {\"colorbar\": {\"outlinewidth\": 0, \"ticks\": \"\"}}, \"type\": \"histogram\"}], \"histogram2d\": [{\"colorbar\": {\"outlinewidth\": 0, \"ticks\": \"\"}, \"colorscale\": [[0.0, \"#0d0887\"], [0.1111111111111111, \"#46039f\"], [0.2222222222222222, \"#7201a8\"], [0.3333333333333333, \"#9c179e\"], [0.4444444444444444, \"#bd3786\"], [0.5555555555555556, \"#d8576b\"], [0.6666666666666666, \"#ed7953\"], [0.7777777777777778, \"#fb9f3a\"], [0.8888888888888888, \"#fdca26\"], [1.0, \"#f0f921\"]], \"type\": \"histogram2d\"}], \"histogram2dcontour\": [{\"colorbar\": {\"outlinewidth\": 0, \"ticks\": \"\"}, \"colorscale\": [[0.0, \"#0d0887\"], [0.1111111111111111, \"#46039f\"], [0.2222222222222222, \"#7201a8\"], [0.3333333333333333, \"#9c179e\"], [0.4444444444444444, \"#bd3786\"], [0.5555555555555556, \"#d8576b\"], [0.6666666666666666, \"#ed7953\"], [0.7777777777777778, \"#fb9f3a\"], [0.8888888888888888, \"#fdca26\"], [1.0, \"#f0f921\"]], \"type\": \"histogram2dcontour\"}], \"mesh3d\": [{\"colorbar\": {\"outlinewidth\": 0, \"ticks\": \"\"}, \"type\": \"mesh3d\"}], \"parcoords\": [{\"line\": {\"colorbar\": {\"outlinewidth\": 0, \"ticks\": \"\"}}, \"type\": \"parcoords\"}], \"pie\": [{\"automargin\": true, \"type\": \"pie\"}], \"scatter\": [{\"marker\": {\"colorbar\": {\"outlinewidth\": 0, \"ticks\": \"\"}}, \"type\": \"scatter\"}], \"scatter3d\": [{\"line\": {\"colorbar\": {\"outlinewidth\": 0, \"ticks\": \"\"}}, \"marker\": {\"colorbar\": {\"outlinewidth\": 0, \"ticks\": \"\"}}, \"type\": \"scatter3d\"}], \"scattercarpet\": [{\"marker\": {\"colorbar\": {\"outlinewidth\": 0, \"ticks\": \"\"}}, \"type\": \"scattercarpet\"}], \"scattergeo\": [{\"marker\": {\"colorbar\": {\"outlinewidth\": 0, \"ticks\": \"\"}}, \"type\": \"scattergeo\"}], \"scattergl\": [{\"marker\": {\"colorbar\": {\"outlinewidth\": 0, \"ticks\": \"\"}}, \"type\": \"scattergl\"}], \"scattermapbox\": [{\"marker\": {\"colorbar\": {\"outlinewidth\": 0, \"ticks\": \"\"}}, \"type\": \"scattermapbox\"}], \"scatterpolar\": [{\"marker\": {\"colorbar\": {\"outlinewidth\": 0, \"ticks\": \"\"}}, \"type\": \"scatterpolar\"}], \"scatterpolargl\": [{\"marker\": {\"colorbar\": {\"outlinewidth\": 0, \"ticks\": \"\"}}, \"type\": \"scatterpolargl\"}], \"scatterternary\": [{\"marker\": {\"colorbar\": {\"outlinewidth\": 0, \"ticks\": \"\"}}, \"type\": \"scatterternary\"}], \"surface\": [{\"colorbar\": {\"outlinewidth\": 0, \"ticks\": \"\"}, \"colorscale\": [[0.0, \"#0d0887\"], [0.1111111111111111, \"#46039f\"], [0.2222222222222222, \"#7201a8\"], [0.3333333333333333, \"#9c179e\"], [0.4444444444444444, \"#bd3786\"], [0.5555555555555556, \"#d8576b\"], [0.6666666666666666, \"#ed7953\"], [0.7777777777777778, \"#fb9f3a\"], [0.8888888888888888, \"#fdca26\"], [1.0, \"#f0f921\"]], \"type\": \"surface\"}], \"table\": [{\"cells\": {\"fill\": {\"color\": \"#EBF0F8\"}, \"line\": {\"color\": \"white\"}}, \"header\": {\"fill\": {\"color\": \"#C8D4E3\"}, \"line\": {\"color\": \"white\"}}, \"type\": \"table\"}]}, \"layout\": {\"annotationdefaults\": {\"arrowcolor\": \"#2a3f5f\", \"arrowhead\": 0, \"arrowwidth\": 1}, \"coloraxis\": {\"colorbar\": {\"outlinewidth\": 0, \"ticks\": \"\"}}, \"colorscale\": {\"diverging\": [[0, \"#8e0152\"], [0.1, \"#c51b7d\"], [0.2, \"#de77ae\"], [0.3, \"#f1b6da\"], [0.4, \"#fde0ef\"], [0.5, \"#f7f7f7\"], [0.6, \"#e6f5d0\"], [0.7, \"#b8e186\"], [0.8, \"#7fbc41\"], [0.9, \"#4d9221\"], [1, \"#276419\"]], \"sequential\": [[0.0, \"#0d0887\"], [0.1111111111111111, \"#46039f\"], [0.2222222222222222, \"#7201a8\"], [0.3333333333333333, \"#9c179e\"], [0.4444444444444444, \"#bd3786\"], [0.5555555555555556, \"#d8576b\"], [0.6666666666666666, \"#ed7953\"], [0.7777777777777778, \"#fb9f3a\"], [0.8888888888888888, \"#fdca26\"], [1.0, \"#f0f921\"]], \"sequentialminus\": [[0.0, \"#0d0887\"], [0.1111111111111111, \"#46039f\"], [0.2222222222222222, \"#7201a8\"], [0.3333333333333333, \"#9c179e\"], [0.4444444444444444, \"#bd3786\"], [0.5555555555555556, \"#d8576b\"], [0.6666666666666666, \"#ed7953\"], [0.7777777777777778, \"#fb9f3a\"], [0.8888888888888888, \"#fdca26\"], [1.0, \"#f0f921\"]]}, \"colorway\": [\"#636efa\", \"#EF553B\", \"#00cc96\", \"#ab63fa\", \"#FFA15A\", \"#19d3f3\", \"#FF6692\", \"#B6E880\", \"#FF97FF\", \"#FECB52\"], \"font\": {\"color\": \"#2a3f5f\"}, \"geo\": {\"bgcolor\": \"white\", \"lakecolor\": \"white\", \"landcolor\": \"#E5ECF6\", \"showlakes\": true, \"showland\": true, \"subunitcolor\": \"white\"}, \"hoverlabel\": {\"align\": \"left\"}, \"hovermode\": \"closest\", \"mapbox\": {\"style\": \"light\"}, \"paper_bgcolor\": \"white\", \"plot_bgcolor\": \"#E5ECF6\", \"polar\": {\"angularaxis\": {\"gridcolor\": \"white\", \"linecolor\": \"white\", \"ticks\": \"\"}, \"bgcolor\": \"#E5ECF6\", \"radialaxis\": {\"gridcolor\": \"white\", \"linecolor\": \"white\", \"ticks\": \"\"}}, \"scene\": {\"xaxis\": {\"backgroundcolor\": \"#E5ECF6\", \"gridcolor\": \"white\", \"gridwidth\": 2, \"linecolor\": \"white\", \"showbackground\": true, \"ticks\": \"\", \"zerolinecolor\": \"white\"}, \"yaxis\": {\"backgroundcolor\": \"#E5ECF6\", \"gridcolor\": \"white\", \"gridwidth\": 2, \"linecolor\": \"white\", \"showbackground\": true, \"ticks\": \"\", \"zerolinecolor\": \"white\"}, \"zaxis\": {\"backgroundcolor\": \"#E5ECF6\", \"gridcolor\": \"white\", \"gridwidth\": 2, \"linecolor\": \"white\", \"showbackground\": true, \"ticks\": \"\", \"zerolinecolor\": \"white\"}}, \"shapedefaults\": {\"line\": {\"color\": \"#2a3f5f\"}}, \"ternary\": {\"aaxis\": {\"gridcolor\": \"white\", \"linecolor\": \"white\", \"ticks\": \"\"}, \"baxis\": {\"gridcolor\": \"white\", \"linecolor\": \"white\", \"ticks\": \"\"}, \"bgcolor\": \"#E5ECF6\", \"caxis\": {\"gridcolor\": \"white\", \"linecolor\": \"white\", \"ticks\": \"\"}}, \"title\": {\"x\": 0.05}, \"xaxis\": {\"automargin\": true, \"gridcolor\": \"white\", \"linecolor\": \"white\", \"ticks\": \"\", \"title\": {\"standoff\": 15}, \"zerolinecolor\": \"white\", \"zerolinewidth\": 2}, \"yaxis\": {\"automargin\": true, \"gridcolor\": \"white\", \"linecolor\": \"white\", \"ticks\": \"\", \"title\": {\"standoff\": 15}, \"zerolinecolor\": \"white\", \"zerolinewidth\": 2}}}, \"title\": {\"font\": {\"color\": \"#4D5663\"}}, \"xaxis\": {\"gridcolor\": \"#E1E5ED\", \"showgrid\": true, \"tickfont\": {\"color\": \"#4D5663\"}, \"title\": {\"font\": {\"color\": \"#4D5663\"}, \"text\": \"\"}, \"zerolinecolor\": \"#E1E5ED\"}, \"xaxis2\": {\"anchor\": \"y2\", \"gridcolor\": \"#E1E5ED\", \"showgrid\": true, \"showticklabels\": false, \"tickfont\": {\"color\": \"#4D5663\"}, \"title\": {\"font\": {\"color\": \"#4D5663\"}, \"text\": \"\"}, \"zerolinecolor\": \"#E1E5ED\"}, \"yaxis\": {\"domain\": [0.3, 1], \"gridcolor\": \"#E1E5ED\", \"showgrid\": true, \"tickfont\": {\"color\": \"#4D5663\"}, \"title\": {\"font\": {\"color\": \"#4D5663\"}, \"text\": \"\"}, \"zerolinecolor\": \"#E1E5ED\"}, \"yaxis2\": {\"domain\": [0, 0.25], \"gridcolor\": \"#E1E5ED\", \"showgrid\": true, \"tickfont\": {\"color\": \"#4D5663\"}, \"title\": {\"font\": {\"color\": \"#4D5663\"}, \"text\": \"Spread\"}, \"zerolinecolor\": \"#E1E5ED\"}},\n",
       "                        {\"showLink\": true, \"linkText\": \"Export to plot.ly\", \"plotlyServerURL\": \"https://plot.ly\", \"responsive\": true}\n",
       "                    ).then(function(){\n",
       "                            \n",
       "var gd = document.getElementById('7e1157ee-86f3-4e68-9fbf-204a32b3c4a8');\n",
       "var x = new MutationObserver(function (mutations, observer) {{\n",
       "        var display = window.getComputedStyle(gd).display;\n",
       "        if (!display || display === 'none') {{\n",
       "            console.log([gd, 'removed!']);\n",
       "            Plotly.purge(gd);\n",
       "            observer.disconnect();\n",
       "        }}\n",
       "}});\n",
       "\n",
       "// Listen for the removal of the full notebook cells\n",
       "var notebookContainer = gd.closest('#notebook-container');\n",
       "if (notebookContainer) {{\n",
       "    x.observe(notebookContainer, {childList: true});\n",
       "}}\n",
       "\n",
       "// Listen for the clearing of the current output cell\n",
       "var outputEl = gd.closest('.output');\n",
       "if (outputEl) {{\n",
       "    x.observe(outputEl, {childList: true});\n",
       "}}\n",
       "\n",
       "                        })\n",
       "                };\n",
       "                });\n",
       "            </script>\n",
       "        </div>"
      ]
     },
     "metadata": {},
     "output_type": "display_data"
    }
   ],
   "source": [
    "df[[\"A\",\"B\"]].iplot(kind=\"spread\")"
   ]
  },
  {
   "cell_type": "code",
   "execution_count": 52,
   "metadata": {},
   "outputs": [
    {
     "data": {
      "application/vnd.plotly.v1+json": {
       "config": {
        "linkText": "Export to plot.ly",
        "plotlyServerURL": "https://plot.ly",
        "showLink": true
       },
       "data": [
        {
         "marker": {
          "color": [
           "green",
           "green",
           "green",
           "green",
           "green",
           "green",
           "green",
           "green",
           "green",
           "green",
           "green",
           "green",
           "green",
           "green",
           "green",
           "green",
           "green",
           "green",
           "green",
           "green",
           "green",
           "green",
           "green",
           "green",
           "green",
           "green",
           "green",
           "green",
           "green",
           "green",
           "green",
           "green",
           "green",
           "green",
           "green",
           "green",
           "green",
           "green",
           "green",
           "green",
           "green",
           "green",
           "green",
           "green",
           "green",
           "green",
           "green",
           "green",
           "green",
           "green",
           "green",
           "green",
           "green",
           "green",
           "green",
           "green",
           "green",
           "green",
           "green",
           "green",
           "green",
           "green",
           "green",
           "green",
           "green",
           "green",
           "green",
           "green",
           "green",
           "green",
           "green",
           "green",
           "green",
           "green",
           "green",
           "green",
           "green",
           "green",
           "green",
           "green",
           "green",
           "green",
           "green",
           "green",
           "green",
           "green",
           "green",
           "green",
           "green",
           "green",
           "green",
           "green",
           "green",
           "green",
           "green",
           "green",
           "green",
           "green",
           "green",
           "green"
          ],
          "line": {
           "width": 1.3
          },
          "size": [
           80,
           47,
           72,
           52,
           84,
           64,
           87,
           60,
           64,
           112,
           45,
           54,
           74,
           55,
           49,
           45,
           58,
           97,
           75,
           83,
           63,
           48,
           51,
           86,
           82,
           75,
           54,
           82,
           80,
           53,
           79,
           68,
           69,
           34,
           90,
           40,
           78,
           74,
           72,
           64,
           76,
           66,
           74,
           49,
           69,
           85,
           54,
           84,
           42,
           77,
           85,
           50,
           85,
           61,
           45,
           60,
           88,
           87,
           58,
           82,
           101,
           55,
           65,
           61,
           79,
           59,
           71,
           83,
           84,
           87,
           58,
           67,
           68,
           66,
           50,
           73,
           12,
           103,
           67,
           70,
           87,
           59,
           49,
           63,
           74,
           75,
           27,
           64,
           55,
           71,
           77,
           65,
           51,
           51,
           83,
           87,
           74,
           62,
           60,
           64
          ],
          "symbol": "circle"
         },
         "mode": "markers",
         "text": "",
         "type": "scatter",
         "x": [
          -0.6070225586537845,
          -1.8638739423338426,
          -0.02945872276840593,
          -1.301291297310065,
          0.48084833474018185,
          0.7628548206270173,
          -0.28843164746247685,
          0.6019043240278631,
          -0.8763709987921026,
          1.702802294665911,
          0.03894666378491089,
          -0.391247915748716,
          -0.3232684791801891,
          0.5555540390983371,
          -0.5833873983870684,
          -0.0844703205455899,
          -0.5139830214610452,
          -0.9874331374104602,
          1.3231224108983104,
          1.3852294994314818,
          0.495802931458785,
          1.5044941738291178,
          2.013539747855578,
          -0.9350456661961715,
          -0.07199477165247954,
          -0.012588234544470622,
          1.0286702624831179,
          -0.30675308423320574,
          -2.0813241088469705,
          0.9113534548782632,
          -1.1821295689927516,
          0.39712861820350376,
          0.32421117523347154,
          -1.388467161393341,
          -1.8196690472248764,
          1.2781438676085672,
          1.1244717635481953,
          2.6878665336118686,
          -1.6109429503383526,
          -0.3309381064713909,
          0.1012450075722931,
          -0.6927193028799976,
          -1.7779565769379178,
          -0.4937356719987772,
          -0.9214348954348198,
          0.04960273216795757,
          -2.6493834985687386,
          -0.3863153542191854,
          -0.5203504684321614,
          0.5977880177234898,
          1.5935857254212724,
          0.30130947631160576,
          -0.24209057064901562,
          2.393932462989073,
          0.48453201427412146,
          1.1471246976281726,
          1.2228406556961817,
          1.0816068853591136,
          -0.7424208071880561,
          0.7861844219733373,
          0.7498272838099621,
          -0.025596103412613782,
          -0.8244905811186303,
          0.6800258715624917,
          0.5426539687452233,
          -0.3376995252397134,
          0.4782136125101678,
          1.61174979268537,
          -0.009447379791987958,
          2.0385534852770575,
          2.017903156882396,
          -0.04108963367107593,
          -0.37405806660701296,
          1.6557536077103534,
          -0.9180687240107729,
          -1.3509762396010478,
          -1.3245247370933935,
          0.1883981543352357,
          -1.007096270807894,
          0.112857625621616,
          -0.03716265055480332,
          -1.3047337291461698,
          -1.8938223768162143,
          -0.05915120037142549,
          -0.022261006449155404,
          -2.2257467886082813,
          0.299708338942967,
          -0.11551816567653965,
          -0.22224470630933316,
          1.8203093144170124,
          -0.9809281853994635,
          0.8258301853601936,
          1.747369363537277,
          0.4451763013778281,
          0.8233981834134183,
          -0.37937479326251894,
          -1.4536121716892259,
          1.1622792298167708,
          0.2870601492366928,
          -1.3293818887641389
         ],
         "y": [
          0.39442564922170886,
          1.1545382861670683,
          -0.3981929049509391,
          1.0607053367391788,
          -1.0927982071594042,
          0.8938581864801937,
          0.10953427785913276,
          1.100603769799354,
          -0.037145165173287524,
          0.820385609335391,
          0.1757448574089021,
          -1.4281471214410326,
          1.3192507531473423,
          0.591642670955045,
          0.5229932990718201,
          0.13605660011946183,
          -0.2100106055939634,
          -0.5700547463822505,
          -0.3323261428045018,
          1.4377556274630496,
          0.14413892892924288,
          0.05300178117926253,
          0.15897168480049687,
          -0.4642246356303038,
          -0.062162694238745014,
          -0.404997912384452,
          -0.7201482218638331,
          2.023568952952069,
          -1.6214853359956733,
          0.542085407732597,
          0.5827569941618997,
          0.3776319435990386,
          0.7860509953709055,
          -0.5428417186393626,
          -0.6218017304368952,
          -0.01711816060498298,
          0.8909241978978917,
          -1.1794232525669857,
          -0.23428574473243066,
          0.6223056989779824,
          -0.13862316143162234,
          1.3989648648043242,
          -1.2881252741130682,
          0.7279631578004603,
          -0.048807113398033994,
          1.0394435684890488,
          -3.3911593703715184,
          -0.524115543518746,
          1.9491071278041052,
          0.07942048576898976,
          -0.6641974846295369,
          -1.0352913027794661,
          -0.6683730021861155,
          -2.0801704608528366,
          -0.6236871291314133,
          0.5545284284650903,
          0.09672761646458744,
          -0.957367126309057,
          -1.3015723703851805,
          0.529996087442483,
          0.36037265455029355,
          -0.825360660875962,
          1.6074276743204716,
          -2.125383315024735,
          0.2729482690721516,
          0.2648116479946539,
          -0.6484000338053134,
          -0.8529199767742717,
          -0.46666971985268213,
          -0.6044278288068219,
          0.6411021729993239,
          1.607115690297109,
          0.642969908406056,
          3.4880296066713408,
          1.5160479793033188,
          0.21650854966375002,
          1.1058470153140674,
          0.9089965059567509,
          -0.9594932219442222,
          -0.5825050989047242,
          -0.006558177721396607,
          1.2314458312022174,
          -0.445862995858089,
          0.32692197599067874,
          -0.16732624075897054,
          -0.06631960996464281,
          -0.5567444312996315,
          -1.2697328105510748,
          -0.6461202658830911,
          -1.6486385015803198,
          0.8697462032738772,
          1.071978584989495,
          1.0115715290572223,
          0.688291257034643,
          -0.4446104637134038,
          -1.370232127902445,
          0.711851270271103,
          -1.4409175804017305,
          0.17758469504751084,
          -0.3488266307639724
         ]
        }
       ],
       "layout": {
        "legend": {
         "bgcolor": "#F5F6F9",
         "font": {
          "color": "#4D5663"
         }
        },
        "paper_bgcolor": "#F5F6F9",
        "plot_bgcolor": "#F5F6F9",
        "template": {
         "data": {
          "bar": [
           {
            "error_x": {
             "color": "#2a3f5f"
            },
            "error_y": {
             "color": "#2a3f5f"
            },
            "marker": {
             "line": {
              "color": "#E5ECF6",
              "width": 0.5
             }
            },
            "type": "bar"
           }
          ],
          "barpolar": [
           {
            "marker": {
             "line": {
              "color": "#E5ECF6",
              "width": 0.5
             }
            },
            "type": "barpolar"
           }
          ],
          "carpet": [
           {
            "aaxis": {
             "endlinecolor": "#2a3f5f",
             "gridcolor": "white",
             "linecolor": "white",
             "minorgridcolor": "white",
             "startlinecolor": "#2a3f5f"
            },
            "baxis": {
             "endlinecolor": "#2a3f5f",
             "gridcolor": "white",
             "linecolor": "white",
             "minorgridcolor": "white",
             "startlinecolor": "#2a3f5f"
            },
            "type": "carpet"
           }
          ],
          "choropleth": [
           {
            "colorbar": {
             "outlinewidth": 0,
             "ticks": ""
            },
            "type": "choropleth"
           }
          ],
          "contour": [
           {
            "colorbar": {
             "outlinewidth": 0,
             "ticks": ""
            },
            "colorscale": [
             [
              0,
              "#0d0887"
             ],
             [
              0.1111111111111111,
              "#46039f"
             ],
             [
              0.2222222222222222,
              "#7201a8"
             ],
             [
              0.3333333333333333,
              "#9c179e"
             ],
             [
              0.4444444444444444,
              "#bd3786"
             ],
             [
              0.5555555555555556,
              "#d8576b"
             ],
             [
              0.6666666666666666,
              "#ed7953"
             ],
             [
              0.7777777777777778,
              "#fb9f3a"
             ],
             [
              0.8888888888888888,
              "#fdca26"
             ],
             [
              1,
              "#f0f921"
             ]
            ],
            "type": "contour"
           }
          ],
          "contourcarpet": [
           {
            "colorbar": {
             "outlinewidth": 0,
             "ticks": ""
            },
            "type": "contourcarpet"
           }
          ],
          "heatmap": [
           {
            "colorbar": {
             "outlinewidth": 0,
             "ticks": ""
            },
            "colorscale": [
             [
              0,
              "#0d0887"
             ],
             [
              0.1111111111111111,
              "#46039f"
             ],
             [
              0.2222222222222222,
              "#7201a8"
             ],
             [
              0.3333333333333333,
              "#9c179e"
             ],
             [
              0.4444444444444444,
              "#bd3786"
             ],
             [
              0.5555555555555556,
              "#d8576b"
             ],
             [
              0.6666666666666666,
              "#ed7953"
             ],
             [
              0.7777777777777778,
              "#fb9f3a"
             ],
             [
              0.8888888888888888,
              "#fdca26"
             ],
             [
              1,
              "#f0f921"
             ]
            ],
            "type": "heatmap"
           }
          ],
          "heatmapgl": [
           {
            "colorbar": {
             "outlinewidth": 0,
             "ticks": ""
            },
            "colorscale": [
             [
              0,
              "#0d0887"
             ],
             [
              0.1111111111111111,
              "#46039f"
             ],
             [
              0.2222222222222222,
              "#7201a8"
             ],
             [
              0.3333333333333333,
              "#9c179e"
             ],
             [
              0.4444444444444444,
              "#bd3786"
             ],
             [
              0.5555555555555556,
              "#d8576b"
             ],
             [
              0.6666666666666666,
              "#ed7953"
             ],
             [
              0.7777777777777778,
              "#fb9f3a"
             ],
             [
              0.8888888888888888,
              "#fdca26"
             ],
             [
              1,
              "#f0f921"
             ]
            ],
            "type": "heatmapgl"
           }
          ],
          "histogram": [
           {
            "marker": {
             "colorbar": {
              "outlinewidth": 0,
              "ticks": ""
             }
            },
            "type": "histogram"
           }
          ],
          "histogram2d": [
           {
            "colorbar": {
             "outlinewidth": 0,
             "ticks": ""
            },
            "colorscale": [
             [
              0,
              "#0d0887"
             ],
             [
              0.1111111111111111,
              "#46039f"
             ],
             [
              0.2222222222222222,
              "#7201a8"
             ],
             [
              0.3333333333333333,
              "#9c179e"
             ],
             [
              0.4444444444444444,
              "#bd3786"
             ],
             [
              0.5555555555555556,
              "#d8576b"
             ],
             [
              0.6666666666666666,
              "#ed7953"
             ],
             [
              0.7777777777777778,
              "#fb9f3a"
             ],
             [
              0.8888888888888888,
              "#fdca26"
             ],
             [
              1,
              "#f0f921"
             ]
            ],
            "type": "histogram2d"
           }
          ],
          "histogram2dcontour": [
           {
            "colorbar": {
             "outlinewidth": 0,
             "ticks": ""
            },
            "colorscale": [
             [
              0,
              "#0d0887"
             ],
             [
              0.1111111111111111,
              "#46039f"
             ],
             [
              0.2222222222222222,
              "#7201a8"
             ],
             [
              0.3333333333333333,
              "#9c179e"
             ],
             [
              0.4444444444444444,
              "#bd3786"
             ],
             [
              0.5555555555555556,
              "#d8576b"
             ],
             [
              0.6666666666666666,
              "#ed7953"
             ],
             [
              0.7777777777777778,
              "#fb9f3a"
             ],
             [
              0.8888888888888888,
              "#fdca26"
             ],
             [
              1,
              "#f0f921"
             ]
            ],
            "type": "histogram2dcontour"
           }
          ],
          "mesh3d": [
           {
            "colorbar": {
             "outlinewidth": 0,
             "ticks": ""
            },
            "type": "mesh3d"
           }
          ],
          "parcoords": [
           {
            "line": {
             "colorbar": {
              "outlinewidth": 0,
              "ticks": ""
             }
            },
            "type": "parcoords"
           }
          ],
          "pie": [
           {
            "automargin": true,
            "type": "pie"
           }
          ],
          "scatter": [
           {
            "marker": {
             "colorbar": {
              "outlinewidth": 0,
              "ticks": ""
             }
            },
            "type": "scatter"
           }
          ],
          "scatter3d": [
           {
            "line": {
             "colorbar": {
              "outlinewidth": 0,
              "ticks": ""
             }
            },
            "marker": {
             "colorbar": {
              "outlinewidth": 0,
              "ticks": ""
             }
            },
            "type": "scatter3d"
           }
          ],
          "scattercarpet": [
           {
            "marker": {
             "colorbar": {
              "outlinewidth": 0,
              "ticks": ""
             }
            },
            "type": "scattercarpet"
           }
          ],
          "scattergeo": [
           {
            "marker": {
             "colorbar": {
              "outlinewidth": 0,
              "ticks": ""
             }
            },
            "type": "scattergeo"
           }
          ],
          "scattergl": [
           {
            "marker": {
             "colorbar": {
              "outlinewidth": 0,
              "ticks": ""
             }
            },
            "type": "scattergl"
           }
          ],
          "scattermapbox": [
           {
            "marker": {
             "colorbar": {
              "outlinewidth": 0,
              "ticks": ""
             }
            },
            "type": "scattermapbox"
           }
          ],
          "scatterpolar": [
           {
            "marker": {
             "colorbar": {
              "outlinewidth": 0,
              "ticks": ""
             }
            },
            "type": "scatterpolar"
           }
          ],
          "scatterpolargl": [
           {
            "marker": {
             "colorbar": {
              "outlinewidth": 0,
              "ticks": ""
             }
            },
            "type": "scatterpolargl"
           }
          ],
          "scatterternary": [
           {
            "marker": {
             "colorbar": {
              "outlinewidth": 0,
              "ticks": ""
             }
            },
            "type": "scatterternary"
           }
          ],
          "surface": [
           {
            "colorbar": {
             "outlinewidth": 0,
             "ticks": ""
            },
            "colorscale": [
             [
              0,
              "#0d0887"
             ],
             [
              0.1111111111111111,
              "#46039f"
             ],
             [
              0.2222222222222222,
              "#7201a8"
             ],
             [
              0.3333333333333333,
              "#9c179e"
             ],
             [
              0.4444444444444444,
              "#bd3786"
             ],
             [
              0.5555555555555556,
              "#d8576b"
             ],
             [
              0.6666666666666666,
              "#ed7953"
             ],
             [
              0.7777777777777778,
              "#fb9f3a"
             ],
             [
              0.8888888888888888,
              "#fdca26"
             ],
             [
              1,
              "#f0f921"
             ]
            ],
            "type": "surface"
           }
          ],
          "table": [
           {
            "cells": {
             "fill": {
              "color": "#EBF0F8"
             },
             "line": {
              "color": "white"
             }
            },
            "header": {
             "fill": {
              "color": "#C8D4E3"
             },
             "line": {
              "color": "white"
             }
            },
            "type": "table"
           }
          ]
         },
         "layout": {
          "annotationdefaults": {
           "arrowcolor": "#2a3f5f",
           "arrowhead": 0,
           "arrowwidth": 1
          },
          "coloraxis": {
           "colorbar": {
            "outlinewidth": 0,
            "ticks": ""
           }
          },
          "colorscale": {
           "diverging": [
            [
             0,
             "#8e0152"
            ],
            [
             0.1,
             "#c51b7d"
            ],
            [
             0.2,
             "#de77ae"
            ],
            [
             0.3,
             "#f1b6da"
            ],
            [
             0.4,
             "#fde0ef"
            ],
            [
             0.5,
             "#f7f7f7"
            ],
            [
             0.6,
             "#e6f5d0"
            ],
            [
             0.7,
             "#b8e186"
            ],
            [
             0.8,
             "#7fbc41"
            ],
            [
             0.9,
             "#4d9221"
            ],
            [
             1,
             "#276419"
            ]
           ],
           "sequential": [
            [
             0,
             "#0d0887"
            ],
            [
             0.1111111111111111,
             "#46039f"
            ],
            [
             0.2222222222222222,
             "#7201a8"
            ],
            [
             0.3333333333333333,
             "#9c179e"
            ],
            [
             0.4444444444444444,
             "#bd3786"
            ],
            [
             0.5555555555555556,
             "#d8576b"
            ],
            [
             0.6666666666666666,
             "#ed7953"
            ],
            [
             0.7777777777777778,
             "#fb9f3a"
            ],
            [
             0.8888888888888888,
             "#fdca26"
            ],
            [
             1,
             "#f0f921"
            ]
           ],
           "sequentialminus": [
            [
             0,
             "#0d0887"
            ],
            [
             0.1111111111111111,
             "#46039f"
            ],
            [
             0.2222222222222222,
             "#7201a8"
            ],
            [
             0.3333333333333333,
             "#9c179e"
            ],
            [
             0.4444444444444444,
             "#bd3786"
            ],
            [
             0.5555555555555556,
             "#d8576b"
            ],
            [
             0.6666666666666666,
             "#ed7953"
            ],
            [
             0.7777777777777778,
             "#fb9f3a"
            ],
            [
             0.8888888888888888,
             "#fdca26"
            ],
            [
             1,
             "#f0f921"
            ]
           ]
          },
          "colorway": [
           "#636efa",
           "#EF553B",
           "#00cc96",
           "#ab63fa",
           "#FFA15A",
           "#19d3f3",
           "#FF6692",
           "#B6E880",
           "#FF97FF",
           "#FECB52"
          ],
          "font": {
           "color": "#2a3f5f"
          },
          "geo": {
           "bgcolor": "white",
           "lakecolor": "white",
           "landcolor": "#E5ECF6",
           "showlakes": true,
           "showland": true,
           "subunitcolor": "white"
          },
          "hoverlabel": {
           "align": "left"
          },
          "hovermode": "closest",
          "mapbox": {
           "style": "light"
          },
          "paper_bgcolor": "white",
          "plot_bgcolor": "#E5ECF6",
          "polar": {
           "angularaxis": {
            "gridcolor": "white",
            "linecolor": "white",
            "ticks": ""
           },
           "bgcolor": "#E5ECF6",
           "radialaxis": {
            "gridcolor": "white",
            "linecolor": "white",
            "ticks": ""
           }
          },
          "scene": {
           "xaxis": {
            "backgroundcolor": "#E5ECF6",
            "gridcolor": "white",
            "gridwidth": 2,
            "linecolor": "white",
            "showbackground": true,
            "ticks": "",
            "zerolinecolor": "white"
           },
           "yaxis": {
            "backgroundcolor": "#E5ECF6",
            "gridcolor": "white",
            "gridwidth": 2,
            "linecolor": "white",
            "showbackground": true,
            "ticks": "",
            "zerolinecolor": "white"
           },
           "zaxis": {
            "backgroundcolor": "#E5ECF6",
            "gridcolor": "white",
            "gridwidth": 2,
            "linecolor": "white",
            "showbackground": true,
            "ticks": "",
            "zerolinecolor": "white"
           }
          },
          "shapedefaults": {
           "line": {
            "color": "#2a3f5f"
           }
          },
          "ternary": {
           "aaxis": {
            "gridcolor": "white",
            "linecolor": "white",
            "ticks": ""
           },
           "baxis": {
            "gridcolor": "white",
            "linecolor": "white",
            "ticks": ""
           },
           "bgcolor": "#E5ECF6",
           "caxis": {
            "gridcolor": "white",
            "linecolor": "white",
            "ticks": ""
           }
          },
          "title": {
           "x": 0.05
          },
          "xaxis": {
           "automargin": true,
           "gridcolor": "white",
           "linecolor": "white",
           "ticks": "",
           "title": {
            "standoff": 15
           },
           "zerolinecolor": "white",
           "zerolinewidth": 2
          },
          "yaxis": {
           "automargin": true,
           "gridcolor": "white",
           "linecolor": "white",
           "ticks": "",
           "title": {
            "standoff": 15
           },
           "zerolinecolor": "white",
           "zerolinewidth": 2
          }
         }
        },
        "title": {
         "font": {
          "color": "#4D5663"
         }
        },
        "xaxis": {
         "gridcolor": "#E1E5ED",
         "showgrid": true,
         "tickfont": {
          "color": "#4D5663"
         },
         "title": {
          "font": {
           "color": "#4D5663"
          },
          "text": ""
         },
         "zerolinecolor": "#E1E5ED"
        },
        "yaxis": {
         "gridcolor": "#E1E5ED",
         "showgrid": true,
         "tickfont": {
          "color": "#4D5663"
         },
         "title": {
          "font": {
           "color": "#4D5663"
          },
          "text": ""
         },
         "zerolinecolor": "#E1E5ED"
        }
       }
      },
      "text/html": [
       "<div>\n",
       "        \n",
       "        \n",
       "            <div id=\"508b2c90-d7e7-4eb2-8c53-15b29e615999\" class=\"plotly-graph-div\" style=\"height:525px; width:100%;\"></div>\n",
       "            <script type=\"text/javascript\">\n",
       "                require([\"plotly\"], function(Plotly) {\n",
       "                    window.PLOTLYENV=window.PLOTLYENV || {};\n",
       "                    window.PLOTLYENV.BASE_URL='https://plot.ly';\n",
       "                    \n",
       "                if (document.getElementById(\"508b2c90-d7e7-4eb2-8c53-15b29e615999\")) {\n",
       "                    Plotly.newPlot(\n",
       "                        '508b2c90-d7e7-4eb2-8c53-15b29e615999',\n",
       "                        [{\"marker\": {\"color\": [\"green\", \"green\", \"green\", \"green\", \"green\", \"green\", \"green\", \"green\", \"green\", \"green\", \"green\", \"green\", \"green\", \"green\", \"green\", \"green\", \"green\", \"green\", \"green\", \"green\", \"green\", \"green\", \"green\", \"green\", \"green\", \"green\", \"green\", \"green\", \"green\", \"green\", \"green\", \"green\", \"green\", \"green\", \"green\", \"green\", \"green\", \"green\", \"green\", \"green\", \"green\", \"green\", \"green\", \"green\", \"green\", \"green\", \"green\", \"green\", \"green\", \"green\", \"green\", \"green\", \"green\", \"green\", \"green\", \"green\", \"green\", \"green\", \"green\", \"green\", \"green\", \"green\", \"green\", \"green\", \"green\", \"green\", \"green\", \"green\", \"green\", \"green\", \"green\", \"green\", \"green\", \"green\", \"green\", \"green\", \"green\", \"green\", \"green\", \"green\", \"green\", \"green\", \"green\", \"green\", \"green\", \"green\", \"green\", \"green\", \"green\", \"green\", \"green\", \"green\", \"green\", \"green\", \"green\", \"green\", \"green\", \"green\", \"green\", \"green\"], \"line\": {\"width\": 1.3}, \"size\": [80, 47, 72, 52, 84, 64, 87, 60, 64, 112, 45, 54, 74, 55, 49, 45, 58, 97, 75, 83, 63, 48, 51, 86, 82, 75, 54, 82, 80, 53, 79, 68, 69, 34, 90, 40, 78, 74, 72, 64, 76, 66, 74, 49, 69, 85, 54, 84, 42, 77, 85, 50, 85, 61, 45, 60, 88, 87, 58, 82, 101, 55, 65, 61, 79, 59, 71, 83, 84, 87, 58, 67, 68, 66, 50, 73, 12, 103, 67, 70, 87, 59, 49, 63, 74, 75, 27, 64, 55, 71, 77, 65, 51, 51, 83, 87, 74, 62, 60, 64], \"symbol\": \"circle\"}, \"mode\": \"markers\", \"text\": \"\", \"type\": \"scatter\", \"x\": [-0.6070225586537845, -1.8638739423338426, -0.02945872276840593, -1.301291297310065, 0.48084833474018185, 0.7628548206270173, -0.28843164746247685, 0.6019043240278631, -0.8763709987921026, 1.702802294665911, 0.03894666378491089, -0.391247915748716, -0.3232684791801891, 0.5555540390983371, -0.5833873983870684, -0.0844703205455899, -0.5139830214610452, -0.9874331374104602, 1.3231224108983104, 1.3852294994314818, 0.495802931458785, 1.5044941738291178, 2.013539747855578, -0.9350456661961715, -0.07199477165247954, -0.012588234544470622, 1.0286702624831179, -0.30675308423320574, -2.0813241088469705, 0.9113534548782632, -1.1821295689927516, 0.39712861820350376, 0.32421117523347154, -1.388467161393341, -1.8196690472248764, 1.2781438676085672, 1.1244717635481953, 2.6878665336118686, -1.6109429503383526, -0.3309381064713909, 0.1012450075722931, -0.6927193028799976, -1.7779565769379178, -0.4937356719987772, -0.9214348954348198, 0.04960273216795757, -2.6493834985687386, -0.3863153542191854, -0.5203504684321614, 0.5977880177234898, 1.5935857254212724, 0.30130947631160576, -0.24209057064901562, 2.393932462989073, 0.48453201427412146, 1.1471246976281726, 1.2228406556961817, 1.0816068853591136, -0.7424208071880561, 0.7861844219733373, 0.7498272838099621, -0.025596103412613782, -0.8244905811186303, 0.6800258715624917, 0.5426539687452233, -0.3376995252397134, 0.4782136125101678, 1.61174979268537, -0.009447379791987958, 2.0385534852770575, 2.017903156882396, -0.04108963367107593, -0.37405806660701296, 1.6557536077103534, -0.9180687240107729, -1.3509762396010478, -1.3245247370933935, 0.1883981543352357, -1.007096270807894, 0.112857625621616, -0.03716265055480332, -1.3047337291461698, -1.8938223768162143, -0.05915120037142549, -0.022261006449155404, -2.2257467886082813, 0.299708338942967, -0.11551816567653965, -0.22224470630933316, 1.8203093144170124, -0.9809281853994635, 0.8258301853601936, 1.747369363537277, 0.4451763013778281, 0.8233981834134183, -0.37937479326251894, -1.4536121716892259, 1.1622792298167708, 0.2870601492366928, -1.3293818887641389], \"y\": [0.39442564922170886, 1.1545382861670683, -0.3981929049509391, 1.0607053367391788, -1.0927982071594042, 0.8938581864801937, 0.10953427785913276, 1.100603769799354, -0.037145165173287524, 0.820385609335391, 0.1757448574089021, -1.4281471214410326, 1.3192507531473423, 0.591642670955045, 0.5229932990718201, 0.13605660011946183, -0.2100106055939634, -0.5700547463822505, -0.3323261428045018, 1.4377556274630496, 0.14413892892924288, 0.05300178117926253, 0.15897168480049687, -0.4642246356303038, -0.062162694238745014, -0.404997912384452, -0.7201482218638331, 2.023568952952069, -1.6214853359956733, 0.542085407732597, 0.5827569941618997, 0.3776319435990386, 0.7860509953709055, -0.5428417186393626, -0.6218017304368952, -0.01711816060498298, 0.8909241978978917, -1.1794232525669857, -0.23428574473243066, 0.6223056989779824, -0.13862316143162234, 1.3989648648043242, -1.2881252741130682, 0.7279631578004603, -0.048807113398033994, 1.0394435684890488, -3.3911593703715184, -0.524115543518746, 1.9491071278041052, 0.07942048576898976, -0.6641974846295369, -1.0352913027794661, -0.6683730021861155, -2.0801704608528366, -0.6236871291314133, 0.5545284284650903, 0.09672761646458744, -0.957367126309057, -1.3015723703851805, 0.529996087442483, 0.36037265455029355, -0.825360660875962, 1.6074276743204716, -2.125383315024735, 0.2729482690721516, 0.2648116479946539, -0.6484000338053134, -0.8529199767742717, -0.46666971985268213, -0.6044278288068219, 0.6411021729993239, 1.607115690297109, 0.642969908406056, 3.4880296066713408, 1.5160479793033188, 0.21650854966375002, 1.1058470153140674, 0.9089965059567509, -0.9594932219442222, -0.5825050989047242, -0.006558177721396607, 1.2314458312022174, -0.445862995858089, 0.32692197599067874, -0.16732624075897054, -0.06631960996464281, -0.5567444312996315, -1.2697328105510748, -0.6461202658830911, -1.6486385015803198, 0.8697462032738772, 1.071978584989495, 1.0115715290572223, 0.688291257034643, -0.4446104637134038, -1.370232127902445, 0.711851270271103, -1.4409175804017305, 0.17758469504751084, -0.3488266307639724]}],\n",
       "                        {\"legend\": {\"bgcolor\": \"#F5F6F9\", \"font\": {\"color\": \"#4D5663\"}}, \"paper_bgcolor\": \"#F5F6F9\", \"plot_bgcolor\": \"#F5F6F9\", \"template\": {\"data\": {\"bar\": [{\"error_x\": {\"color\": \"#2a3f5f\"}, \"error_y\": {\"color\": \"#2a3f5f\"}, \"marker\": {\"line\": {\"color\": \"#E5ECF6\", \"width\": 0.5}}, \"type\": \"bar\"}], \"barpolar\": [{\"marker\": {\"line\": {\"color\": \"#E5ECF6\", \"width\": 0.5}}, \"type\": \"barpolar\"}], \"carpet\": [{\"aaxis\": {\"endlinecolor\": \"#2a3f5f\", \"gridcolor\": \"white\", \"linecolor\": \"white\", \"minorgridcolor\": \"white\", \"startlinecolor\": \"#2a3f5f\"}, \"baxis\": {\"endlinecolor\": \"#2a3f5f\", \"gridcolor\": \"white\", \"linecolor\": \"white\", \"minorgridcolor\": \"white\", \"startlinecolor\": \"#2a3f5f\"}, \"type\": \"carpet\"}], \"choropleth\": [{\"colorbar\": {\"outlinewidth\": 0, \"ticks\": \"\"}, \"type\": \"choropleth\"}], \"contour\": [{\"colorbar\": {\"outlinewidth\": 0, \"ticks\": \"\"}, \"colorscale\": [[0.0, \"#0d0887\"], [0.1111111111111111, \"#46039f\"], [0.2222222222222222, \"#7201a8\"], [0.3333333333333333, \"#9c179e\"], [0.4444444444444444, \"#bd3786\"], [0.5555555555555556, \"#d8576b\"], [0.6666666666666666, \"#ed7953\"], [0.7777777777777778, \"#fb9f3a\"], [0.8888888888888888, \"#fdca26\"], [1.0, \"#f0f921\"]], \"type\": \"contour\"}], \"contourcarpet\": [{\"colorbar\": {\"outlinewidth\": 0, \"ticks\": \"\"}, \"type\": \"contourcarpet\"}], \"heatmap\": [{\"colorbar\": {\"outlinewidth\": 0, \"ticks\": \"\"}, \"colorscale\": [[0.0, \"#0d0887\"], [0.1111111111111111, \"#46039f\"], [0.2222222222222222, \"#7201a8\"], [0.3333333333333333, \"#9c179e\"], [0.4444444444444444, \"#bd3786\"], [0.5555555555555556, \"#d8576b\"], [0.6666666666666666, \"#ed7953\"], [0.7777777777777778, \"#fb9f3a\"], [0.8888888888888888, \"#fdca26\"], [1.0, \"#f0f921\"]], \"type\": \"heatmap\"}], \"heatmapgl\": [{\"colorbar\": {\"outlinewidth\": 0, \"ticks\": \"\"}, \"colorscale\": [[0.0, \"#0d0887\"], [0.1111111111111111, \"#46039f\"], [0.2222222222222222, \"#7201a8\"], [0.3333333333333333, \"#9c179e\"], [0.4444444444444444, \"#bd3786\"], [0.5555555555555556, \"#d8576b\"], [0.6666666666666666, \"#ed7953\"], [0.7777777777777778, \"#fb9f3a\"], [0.8888888888888888, \"#fdca26\"], [1.0, \"#f0f921\"]], \"type\": \"heatmapgl\"}], \"histogram\": [{\"marker\": {\"colorbar\": {\"outlinewidth\": 0, \"ticks\": \"\"}}, \"type\": \"histogram\"}], \"histogram2d\": [{\"colorbar\": {\"outlinewidth\": 0, \"ticks\": \"\"}, \"colorscale\": [[0.0, \"#0d0887\"], [0.1111111111111111, \"#46039f\"], [0.2222222222222222, \"#7201a8\"], [0.3333333333333333, \"#9c179e\"], [0.4444444444444444, \"#bd3786\"], [0.5555555555555556, \"#d8576b\"], [0.6666666666666666, \"#ed7953\"], [0.7777777777777778, \"#fb9f3a\"], [0.8888888888888888, \"#fdca26\"], [1.0, \"#f0f921\"]], \"type\": \"histogram2d\"}], \"histogram2dcontour\": [{\"colorbar\": {\"outlinewidth\": 0, \"ticks\": \"\"}, \"colorscale\": [[0.0, \"#0d0887\"], [0.1111111111111111, \"#46039f\"], [0.2222222222222222, \"#7201a8\"], [0.3333333333333333, \"#9c179e\"], [0.4444444444444444, \"#bd3786\"], [0.5555555555555556, \"#d8576b\"], [0.6666666666666666, \"#ed7953\"], [0.7777777777777778, \"#fb9f3a\"], [0.8888888888888888, \"#fdca26\"], [1.0, \"#f0f921\"]], \"type\": \"histogram2dcontour\"}], \"mesh3d\": [{\"colorbar\": {\"outlinewidth\": 0, \"ticks\": \"\"}, \"type\": \"mesh3d\"}], \"parcoords\": [{\"line\": {\"colorbar\": {\"outlinewidth\": 0, \"ticks\": \"\"}}, \"type\": \"parcoords\"}], \"pie\": [{\"automargin\": true, \"type\": \"pie\"}], \"scatter\": [{\"marker\": {\"colorbar\": {\"outlinewidth\": 0, \"ticks\": \"\"}}, \"type\": \"scatter\"}], \"scatter3d\": [{\"line\": {\"colorbar\": {\"outlinewidth\": 0, \"ticks\": \"\"}}, \"marker\": {\"colorbar\": {\"outlinewidth\": 0, \"ticks\": \"\"}}, \"type\": \"scatter3d\"}], \"scattercarpet\": [{\"marker\": {\"colorbar\": {\"outlinewidth\": 0, \"ticks\": \"\"}}, \"type\": \"scattercarpet\"}], \"scattergeo\": [{\"marker\": {\"colorbar\": {\"outlinewidth\": 0, \"ticks\": \"\"}}, \"type\": \"scattergeo\"}], \"scattergl\": [{\"marker\": {\"colorbar\": {\"outlinewidth\": 0, \"ticks\": \"\"}}, \"type\": \"scattergl\"}], \"scattermapbox\": [{\"marker\": {\"colorbar\": {\"outlinewidth\": 0, \"ticks\": \"\"}}, \"type\": \"scattermapbox\"}], \"scatterpolar\": [{\"marker\": {\"colorbar\": {\"outlinewidth\": 0, \"ticks\": \"\"}}, \"type\": \"scatterpolar\"}], \"scatterpolargl\": [{\"marker\": {\"colorbar\": {\"outlinewidth\": 0, \"ticks\": \"\"}}, \"type\": \"scatterpolargl\"}], \"scatterternary\": [{\"marker\": {\"colorbar\": {\"outlinewidth\": 0, \"ticks\": \"\"}}, \"type\": \"scatterternary\"}], \"surface\": [{\"colorbar\": {\"outlinewidth\": 0, \"ticks\": \"\"}, \"colorscale\": [[0.0, \"#0d0887\"], [0.1111111111111111, \"#46039f\"], [0.2222222222222222, \"#7201a8\"], [0.3333333333333333, \"#9c179e\"], [0.4444444444444444, \"#bd3786\"], [0.5555555555555556, \"#d8576b\"], [0.6666666666666666, \"#ed7953\"], [0.7777777777777778, \"#fb9f3a\"], [0.8888888888888888, \"#fdca26\"], [1.0, \"#f0f921\"]], \"type\": \"surface\"}], \"table\": [{\"cells\": {\"fill\": {\"color\": \"#EBF0F8\"}, \"line\": {\"color\": \"white\"}}, \"header\": {\"fill\": {\"color\": \"#C8D4E3\"}, \"line\": {\"color\": \"white\"}}, \"type\": \"table\"}]}, \"layout\": {\"annotationdefaults\": {\"arrowcolor\": \"#2a3f5f\", \"arrowhead\": 0, \"arrowwidth\": 1}, \"coloraxis\": {\"colorbar\": {\"outlinewidth\": 0, \"ticks\": \"\"}}, \"colorscale\": {\"diverging\": [[0, \"#8e0152\"], [0.1, \"#c51b7d\"], [0.2, \"#de77ae\"], [0.3, \"#f1b6da\"], [0.4, \"#fde0ef\"], [0.5, \"#f7f7f7\"], [0.6, \"#e6f5d0\"], [0.7, \"#b8e186\"], [0.8, \"#7fbc41\"], [0.9, \"#4d9221\"], [1, \"#276419\"]], \"sequential\": [[0.0, \"#0d0887\"], [0.1111111111111111, \"#46039f\"], [0.2222222222222222, \"#7201a8\"], [0.3333333333333333, \"#9c179e\"], [0.4444444444444444, \"#bd3786\"], [0.5555555555555556, \"#d8576b\"], [0.6666666666666666, \"#ed7953\"], [0.7777777777777778, \"#fb9f3a\"], [0.8888888888888888, \"#fdca26\"], [1.0, \"#f0f921\"]], \"sequentialminus\": [[0.0, \"#0d0887\"], [0.1111111111111111, \"#46039f\"], [0.2222222222222222, \"#7201a8\"], [0.3333333333333333, \"#9c179e\"], [0.4444444444444444, \"#bd3786\"], [0.5555555555555556, \"#d8576b\"], [0.6666666666666666, \"#ed7953\"], [0.7777777777777778, \"#fb9f3a\"], [0.8888888888888888, \"#fdca26\"], [1.0, \"#f0f921\"]]}, \"colorway\": [\"#636efa\", \"#EF553B\", \"#00cc96\", \"#ab63fa\", \"#FFA15A\", \"#19d3f3\", \"#FF6692\", \"#B6E880\", \"#FF97FF\", \"#FECB52\"], \"font\": {\"color\": \"#2a3f5f\"}, \"geo\": {\"bgcolor\": \"white\", \"lakecolor\": \"white\", \"landcolor\": \"#E5ECF6\", \"showlakes\": true, \"showland\": true, \"subunitcolor\": \"white\"}, \"hoverlabel\": {\"align\": \"left\"}, \"hovermode\": \"closest\", \"mapbox\": {\"style\": \"light\"}, \"paper_bgcolor\": \"white\", \"plot_bgcolor\": \"#E5ECF6\", \"polar\": {\"angularaxis\": {\"gridcolor\": \"white\", \"linecolor\": \"white\", \"ticks\": \"\"}, \"bgcolor\": \"#E5ECF6\", \"radialaxis\": {\"gridcolor\": \"white\", \"linecolor\": \"white\", \"ticks\": \"\"}}, \"scene\": {\"xaxis\": {\"backgroundcolor\": \"#E5ECF6\", \"gridcolor\": \"white\", \"gridwidth\": 2, \"linecolor\": \"white\", \"showbackground\": true, \"ticks\": \"\", \"zerolinecolor\": \"white\"}, \"yaxis\": {\"backgroundcolor\": \"#E5ECF6\", \"gridcolor\": \"white\", \"gridwidth\": 2, \"linecolor\": \"white\", \"showbackground\": true, \"ticks\": \"\", \"zerolinecolor\": \"white\"}, \"zaxis\": {\"backgroundcolor\": \"#E5ECF6\", \"gridcolor\": \"white\", \"gridwidth\": 2, \"linecolor\": \"white\", \"showbackground\": true, \"ticks\": \"\", \"zerolinecolor\": \"white\"}}, \"shapedefaults\": {\"line\": {\"color\": \"#2a3f5f\"}}, \"ternary\": {\"aaxis\": {\"gridcolor\": \"white\", \"linecolor\": \"white\", \"ticks\": \"\"}, \"baxis\": {\"gridcolor\": \"white\", \"linecolor\": \"white\", \"ticks\": \"\"}, \"bgcolor\": \"#E5ECF6\", \"caxis\": {\"gridcolor\": \"white\", \"linecolor\": \"white\", \"ticks\": \"\"}}, \"title\": {\"x\": 0.05}, \"xaxis\": {\"automargin\": true, \"gridcolor\": \"white\", \"linecolor\": \"white\", \"ticks\": \"\", \"title\": {\"standoff\": 15}, \"zerolinecolor\": \"white\", \"zerolinewidth\": 2}, \"yaxis\": {\"automargin\": true, \"gridcolor\": \"white\", \"linecolor\": \"white\", \"ticks\": \"\", \"title\": {\"standoff\": 15}, \"zerolinecolor\": \"white\", \"zerolinewidth\": 2}}}, \"title\": {\"font\": {\"color\": \"#4D5663\"}}, \"xaxis\": {\"gridcolor\": \"#E1E5ED\", \"showgrid\": true, \"tickfont\": {\"color\": \"#4D5663\"}, \"title\": {\"font\": {\"color\": \"#4D5663\"}, \"text\": \"\"}, \"zerolinecolor\": \"#E1E5ED\"}, \"yaxis\": {\"gridcolor\": \"#E1E5ED\", \"showgrid\": true, \"tickfont\": {\"color\": \"#4D5663\"}, \"title\": {\"font\": {\"color\": \"#4D5663\"}, \"text\": \"\"}, \"zerolinecolor\": \"#E1E5ED\"}},\n",
       "                        {\"showLink\": true, \"linkText\": \"Export to plot.ly\", \"plotlyServerURL\": \"https://plot.ly\", \"responsive\": true}\n",
       "                    ).then(function(){\n",
       "                            \n",
       "var gd = document.getElementById('508b2c90-d7e7-4eb2-8c53-15b29e615999');\n",
       "var x = new MutationObserver(function (mutations, observer) {{\n",
       "        var display = window.getComputedStyle(gd).display;\n",
       "        if (!display || display === 'none') {{\n",
       "            console.log([gd, 'removed!']);\n",
       "            Plotly.purge(gd);\n",
       "            observer.disconnect();\n",
       "        }}\n",
       "}});\n",
       "\n",
       "// Listen for the removal of the full notebook cells\n",
       "var notebookContainer = gd.closest('#notebook-container');\n",
       "if (notebookContainer) {{\n",
       "    x.observe(notebookContainer, {childList: true});\n",
       "}}\n",
       "\n",
       "// Listen for the clearing of the current output cell\n",
       "var outputEl = gd.closest('.output');\n",
       "if (outputEl) {{\n",
       "    x.observe(outputEl, {childList: true});\n",
       "}}\n",
       "\n",
       "                        })\n",
       "                };\n",
       "                });\n",
       "            </script>\n",
       "        </div>"
      ]
     },
     "metadata": {},
     "output_type": "display_data"
    }
   ],
   "source": [
    "df.iplot(kind=\"bubble\",x=\"A\",y=\"B\",size=\"C\",colors=\"green\")"
   ]
  },
  {
   "cell_type": "code",
   "execution_count": 53,
   "metadata": {},
   "outputs": [
    {
     "data": {
      "application/vnd.plotly.v1+json": {
       "config": {
        "linkText": "Export to plot.ly",
        "plotlyServerURL": "https://plot.ly",
        "showLink": true
       },
       "data": [
        {
         "histfunc": "count",
         "histnorm": "",
         "marker": {
          "color": "rgba(255, 153, 51, 1.0)",
          "line": {
           "color": "#4D5663",
           "width": 1.3
          }
         },
         "name": "A",
         "nbinsx": 10,
         "opacity": 0.8,
         "orientation": "v",
         "type": "histogram",
         "x": [
          -0.6070225586537845,
          -1.8638739423338426,
          -0.02945872276840593,
          -1.301291297310065,
          0.48084833474018185,
          0.7628548206270173,
          -0.28843164746247685,
          0.6019043240278631,
          -0.8763709987921026,
          1.702802294665911,
          0.03894666378491089,
          -0.391247915748716,
          -0.3232684791801891,
          0.5555540390983371,
          -0.5833873983870684,
          -0.0844703205455899,
          -0.5139830214610452,
          -0.9874331374104602,
          1.3231224108983104,
          1.3852294994314818,
          0.495802931458785,
          1.5044941738291178,
          2.013539747855578,
          -0.9350456661961715,
          -0.07199477165247954,
          -0.012588234544470622,
          1.0286702624831179,
          -0.30675308423320574,
          -2.0813241088469705,
          0.9113534548782632,
          -1.1821295689927516,
          0.39712861820350376,
          0.32421117523347154,
          -1.388467161393341,
          -1.8196690472248764,
          1.2781438676085672,
          1.1244717635481953,
          2.6878665336118686,
          -1.6109429503383526,
          -0.3309381064713909,
          0.1012450075722931,
          -0.6927193028799976,
          -1.7779565769379178,
          -0.4937356719987772,
          -0.9214348954348198,
          0.04960273216795757,
          -2.6493834985687386,
          -0.3863153542191854,
          -0.5203504684321614,
          0.5977880177234898,
          1.5935857254212724,
          0.30130947631160576,
          -0.24209057064901562,
          2.393932462989073,
          0.48453201427412146,
          1.1471246976281726,
          1.2228406556961817,
          1.0816068853591136,
          -0.7424208071880561,
          0.7861844219733373,
          0.7498272838099621,
          -0.025596103412613782,
          -0.8244905811186303,
          0.6800258715624917,
          0.5426539687452233,
          -0.3376995252397134,
          0.4782136125101678,
          1.61174979268537,
          -0.009447379791987958,
          2.0385534852770575,
          2.017903156882396,
          -0.04108963367107593,
          -0.37405806660701296,
          1.6557536077103534,
          -0.9180687240107729,
          -1.3509762396010478,
          -1.3245247370933935,
          0.1883981543352357,
          -1.007096270807894,
          0.112857625621616,
          -0.03716265055480332,
          -1.3047337291461698,
          -1.8938223768162143,
          -0.05915120037142549,
          -0.022261006449155404,
          -2.2257467886082813,
          0.299708338942967,
          -0.11551816567653965,
          -0.22224470630933316,
          1.8203093144170124,
          -0.9809281853994635,
          0.8258301853601936,
          1.747369363537277,
          0.4451763013778281,
          0.8233981834134183,
          -0.37937479326251894,
          -1.4536121716892259,
          1.1622792298167708,
          0.2870601492366928,
          -1.3293818887641389
         ],
         "xaxis": "x",
         "yaxis": "y"
        },
        {
         "line": {
          "color": "rgba(128, 128, 128, 1.0)",
          "dash": "solid",
          "shape": "linear",
          "width": 1.3
         },
         "marker": {
          "size": 2,
          "symbol": "circle"
         },
         "mode": "markers",
         "name": "A",
         "text": "",
         "type": "scatter",
         "x": [
          0.39442564922170886,
          1.1545382861670683,
          -0.3981929049509391,
          1.0607053367391788,
          -1.0927982071594042,
          0.8938581864801937,
          0.10953427785913276,
          1.100603769799354,
          -0.037145165173287524,
          0.820385609335391,
          0.1757448574089021,
          -1.4281471214410326,
          1.3192507531473423,
          0.591642670955045,
          0.5229932990718201,
          0.13605660011946183,
          -0.2100106055939634,
          -0.5700547463822505,
          -0.3323261428045018,
          1.4377556274630496,
          0.14413892892924288,
          0.05300178117926253,
          0.15897168480049687,
          -0.4642246356303038,
          -0.062162694238745014,
          -0.404997912384452,
          -0.7201482218638331,
          2.023568952952069,
          -1.6214853359956733,
          0.542085407732597,
          0.5827569941618997,
          0.3776319435990386,
          0.7860509953709055,
          -0.5428417186393626,
          -0.6218017304368952,
          -0.01711816060498298,
          0.8909241978978917,
          -1.1794232525669857,
          -0.23428574473243066,
          0.6223056989779824,
          -0.13862316143162234,
          1.3989648648043242,
          -1.2881252741130682,
          0.7279631578004603,
          -0.048807113398033994,
          1.0394435684890488,
          -3.3911593703715184,
          -0.524115543518746,
          1.9491071278041052,
          0.07942048576898976,
          -0.6641974846295369,
          -1.0352913027794661,
          -0.6683730021861155,
          -2.0801704608528366,
          -0.6236871291314133,
          0.5545284284650903,
          0.09672761646458744,
          -0.957367126309057,
          -1.3015723703851805,
          0.529996087442483,
          0.36037265455029355,
          -0.825360660875962,
          1.6074276743204716,
          -2.125383315024735,
          0.2729482690721516,
          0.2648116479946539,
          -0.6484000338053134,
          -0.8529199767742717,
          -0.46666971985268213,
          -0.6044278288068219,
          0.6411021729993239,
          1.607115690297109,
          0.642969908406056,
          3.4880296066713408,
          1.5160479793033188,
          0.21650854966375002,
          1.1058470153140674,
          0.9089965059567509,
          -0.9594932219442222,
          -0.5825050989047242,
          -0.006558177721396607,
          1.2314458312022174,
          -0.445862995858089,
          0.32692197599067874,
          -0.16732624075897054,
          -0.06631960996464281,
          -0.5567444312996315,
          -1.2697328105510748,
          -0.6461202658830911,
          -1.6486385015803198,
          0.8697462032738772,
          1.071978584989495,
          1.0115715290572223,
          0.688291257034643,
          -0.4446104637134038,
          -1.370232127902445,
          0.711851270271103,
          -1.4409175804017305,
          0.17758469504751084,
          -0.3488266307639724
         ],
         "xaxis": "x2",
         "y": [
          -0.6070225586537845,
          -1.8638739423338426,
          -0.02945872276840593,
          -1.301291297310065,
          0.48084833474018185,
          0.7628548206270173,
          -0.28843164746247685,
          0.6019043240278631,
          -0.8763709987921026,
          1.702802294665911,
          0.03894666378491089,
          -0.391247915748716,
          -0.3232684791801891,
          0.5555540390983371,
          -0.5833873983870684,
          -0.0844703205455899,
          -0.5139830214610452,
          -0.9874331374104602,
          1.3231224108983104,
          1.3852294994314818,
          0.495802931458785,
          1.5044941738291178,
          2.013539747855578,
          -0.9350456661961715,
          -0.07199477165247954,
          -0.012588234544470622,
          1.0286702624831179,
          -0.30675308423320574,
          -2.0813241088469705,
          0.9113534548782632,
          -1.1821295689927516,
          0.39712861820350376,
          0.32421117523347154,
          -1.388467161393341,
          -1.8196690472248764,
          1.2781438676085672,
          1.1244717635481953,
          2.6878665336118686,
          -1.6109429503383526,
          -0.3309381064713909,
          0.1012450075722931,
          -0.6927193028799976,
          -1.7779565769379178,
          -0.4937356719987772,
          -0.9214348954348198,
          0.04960273216795757,
          -2.6493834985687386,
          -0.3863153542191854,
          -0.5203504684321614,
          0.5977880177234898,
          1.5935857254212724,
          0.30130947631160576,
          -0.24209057064901562,
          2.393932462989073,
          0.48453201427412146,
          1.1471246976281726,
          1.2228406556961817,
          1.0816068853591136,
          -0.7424208071880561,
          0.7861844219733373,
          0.7498272838099621,
          -0.025596103412613782,
          -0.8244905811186303,
          0.6800258715624917,
          0.5426539687452233,
          -0.3376995252397134,
          0.4782136125101678,
          1.61174979268537,
          -0.009447379791987958,
          2.0385534852770575,
          2.017903156882396,
          -0.04108963367107593,
          -0.37405806660701296,
          1.6557536077103534,
          -0.9180687240107729,
          -1.3509762396010478,
          -1.3245247370933935,
          0.1883981543352357,
          -1.007096270807894,
          0.112857625621616,
          -0.03716265055480332,
          -1.3047337291461698,
          -1.8938223768162143,
          -0.05915120037142549,
          -0.022261006449155404,
          -2.2257467886082813,
          0.299708338942967,
          -0.11551816567653965,
          -0.22224470630933316,
          1.8203093144170124,
          -0.9809281853994635,
          0.8258301853601936,
          1.747369363537277,
          0.4451763013778281,
          0.8233981834134183,
          -0.37937479326251894,
          -1.4536121716892259,
          1.1622792298167708,
          0.2870601492366928,
          -1.3293818887641389
         ],
         "yaxis": "y2"
        },
        {
         "line": {
          "color": "rgba(128, 128, 128, 1.0)",
          "dash": "solid",
          "shape": "linear",
          "width": 1.3
         },
         "marker": {
          "size": 2,
          "symbol": "circle"
         },
         "mode": "markers",
         "name": "A",
         "text": "",
         "type": "scatter",
         "x": [
          0.5786488658973388,
          -1.3779481177244952,
          0.12365177369173536,
          -1.116511132468932,
          0.8058094735407533,
          -0.40434082821277284,
          1.0225385803330087,
          -0.6470938916080935,
          -0.3508677486533792,
          2.5013226025963746,
          -1.5259835252824552,
          -0.9829311652920717,
          0.23493446006915572,
          -0.9037615413233684,
          -1.3141707547165868,
          -1.5199657157915831,
          -0.7626795758174268,
          1.6073113400335521,
          0.3065045812678438,
          0.7670645741240087,
          -0.44191752142816326,
          -1.3298535843393218,
          -1.135700295184527,
          0.9297115141063347,
          0.6865778093810669,
          0.2906984631345525,
          -0.9865642416513182,
          0.7390830087985069,
          0.5873820481676423,
          -1.0539583164959976,
          0.5414419704915575,
          -0.11185761505217436,
          -0.07695780645157449,
          -2.1646462442630616,
          1.1851782283016816,
          -1.8572626824506342,
          0.44751835654226163,
          0.2377385201511963,
          0.0977471498017824,
          -0.346706646408973,
          0.3288034699452686,
          -0.241554375975574,
          0.23406958233434508,
          -1.2932583043575332,
          -0.0753563250462829,
          0.9227704330212433,
          -0.9932007883861261,
          0.8402493065090569,
          -1.7071908207317257,
          0.4353964002156085,
          0.8810442345722524,
          -1.2204230274097805,
          0.9178683103189221,
          -0.5616608195969544,
          -1.4997595699840784,
          -0.6205171225168257,
          1.078060164804285,
          1.0340481232295156,
          -0.7664258411313779,
          0.6926338816275318,
          1.8483024115450608,
          -0.9381821206856582,
          -0.31440988974655065,
          -0.5299400185069904,
          0.5028693025293436,
          -0.697868894664978,
          0.02223697002983274,
          0.77557394882186,
          0.8422756027790126,
          1.0019480005664712,
          -0.7245614241946116,
          -0.20870645294212087,
          -0.11179174927504838,
          -0.25709999871760897,
          -1.202771442521758,
          0.17460517244494234,
          -3.556830917028255,
          1.959280308579902,
          -0.20721381467702987,
          -0.004113041471365491,
          1.0467020240597704,
          -0.6563924493292402,
          -1.2702933876925069,
          -0.44861523437505996,
          0.23141073624629255,
          0.28912448864058354,
          -2.64152539481277,
          -0.37655621404335426,
          -0.9278540083113972,
          0.021633252663627364,
          0.4389105377440285,
          -0.316289308114846,
          -1.1468826225189952,
          -1.157161485137814,
          0.7742523737057712,
          1.0009994401994993,
          0.21047062378348677,
          -0.4760958934500705,
          -0.6458907785383571,
          -0.35137750023636594
         ],
         "xaxis": "x3",
         "y": [
          -0.6070225586537845,
          -1.8638739423338426,
          -0.02945872276840593,
          -1.301291297310065,
          0.48084833474018185,
          0.7628548206270173,
          -0.28843164746247685,
          0.6019043240278631,
          -0.8763709987921026,
          1.702802294665911,
          0.03894666378491089,
          -0.391247915748716,
          -0.3232684791801891,
          0.5555540390983371,
          -0.5833873983870684,
          -0.0844703205455899,
          -0.5139830214610452,
          -0.9874331374104602,
          1.3231224108983104,
          1.3852294994314818,
          0.495802931458785,
          1.5044941738291178,
          2.013539747855578,
          -0.9350456661961715,
          -0.07199477165247954,
          -0.012588234544470622,
          1.0286702624831179,
          -0.30675308423320574,
          -2.0813241088469705,
          0.9113534548782632,
          -1.1821295689927516,
          0.39712861820350376,
          0.32421117523347154,
          -1.388467161393341,
          -1.8196690472248764,
          1.2781438676085672,
          1.1244717635481953,
          2.6878665336118686,
          -1.6109429503383526,
          -0.3309381064713909,
          0.1012450075722931,
          -0.6927193028799976,
          -1.7779565769379178,
          -0.4937356719987772,
          -0.9214348954348198,
          0.04960273216795757,
          -2.6493834985687386,
          -0.3863153542191854,
          -0.5203504684321614,
          0.5977880177234898,
          1.5935857254212724,
          0.30130947631160576,
          -0.24209057064901562,
          2.393932462989073,
          0.48453201427412146,
          1.1471246976281726,
          1.2228406556961817,
          1.0816068853591136,
          -0.7424208071880561,
          0.7861844219733373,
          0.7498272838099621,
          -0.025596103412613782,
          -0.8244905811186303,
          0.6800258715624917,
          0.5426539687452233,
          -0.3376995252397134,
          0.4782136125101678,
          1.61174979268537,
          -0.009447379791987958,
          2.0385534852770575,
          2.017903156882396,
          -0.04108963367107593,
          -0.37405806660701296,
          1.6557536077103534,
          -0.9180687240107729,
          -1.3509762396010478,
          -1.3245247370933935,
          0.1883981543352357,
          -1.007096270807894,
          0.112857625621616,
          -0.03716265055480332,
          -1.3047337291461698,
          -1.8938223768162143,
          -0.05915120037142549,
          -0.022261006449155404,
          -2.2257467886082813,
          0.299708338942967,
          -0.11551816567653965,
          -0.22224470630933316,
          1.8203093144170124,
          -0.9809281853994635,
          0.8258301853601936,
          1.747369363537277,
          0.4451763013778281,
          0.8233981834134183,
          -0.37937479326251894,
          -1.4536121716892259,
          1.1622792298167708,
          0.2870601492366928,
          -1.3293818887641389
         ],
         "yaxis": "y3"
        },
        {
         "line": {
          "color": "rgba(128, 128, 128, 1.0)",
          "dash": "solid",
          "shape": "linear",
          "width": 1.3
         },
         "marker": {
          "size": 2,
          "symbol": "circle"
         },
         "mode": "markers",
         "name": "A",
         "text": "",
         "type": "scatter",
         "x": [
          -0.7710707494557274,
          0.9084215962844299,
          0.14867156693112518,
          1.091242440442385,
          -0.38136791739286025,
          2.6551377942985472,
          -0.542106532007221,
          0.0009897898929007354,
          1.025732698451324,
          1.0917364537662415,
          -0.06579851584724807,
          1.8484432768417098,
          -0.3399947465039237,
          -0.6562755405065582,
          0.9859146265234778,
          0.9181428936696494,
          0.560453175862377,
          0.6173219524497757,
          -0.4176234372666162,
          -0.08616974832048305,
          -0.006352829478318503,
          0.5136507964107583,
          0.15464554983258477,
          -0.4030269739726689,
          0.3296061099699754,
          -0.4648081650700848,
          -1.1636454990471916,
          0.8167962531838402,
          1.3782602913496587,
          -0.8339337883855852,
          0.866982803885244,
          0.6456966292631111,
          -1.65519664670503,
          -0.34483808667429844,
          1.1519480185389928,
          -0.42603916535007497,
          -1.3876296020701955,
          0.438502934561104,
          -0.34317189887749944,
          -0.2582968179968848,
          -1.6196419672168794,
          -0.32586548630627404,
          0.490437955843003,
          -0.016853814769800884,
          0.5704102851277636,
          -0.020673325863221778,
          1.4100771515518467,
          0.8309463411013209,
          1.3443492512121447,
          -1.8857520766945424,
          -0.09056980293285732,
          0.09138694227565757,
          1.3636878725062827,
          -0.2660602412255175,
          1.646259910223738,
          1.8005971402578238,
          -1.210293685648795,
          -0.4522423782105368,
          0.4567476600502909,
          1.3930048823179084,
          0.2072223848026172,
          0.6332124968747784,
          -1.3880857965038995,
          1.987635207109135,
          -0.992693168002227,
          -0.5082269973015238,
          0.4403931715663567,
          -1.4866772715183176,
          0.6426683638879613,
          0.6778864417024036,
          0.2211458414525818,
          -0.029785991329424652,
          0.6604793649030712,
          -1.3172685329935305,
          0.061259598483134725,
          -0.40628739096693317,
          -1.0786117555871804,
          -2.459949891065606,
          0.058595706402560455,
          0.5166845977099281,
          0.4436605818850999,
          0.9127365293860776,
          -0.9936011302758352,
          -1.0284535043950807,
          0.7193874352238564,
          0.19833013706556346,
          0.041628183160987306,
          0.4541679834133369,
          -1.5602230041741998,
          -0.772172041615176,
          0.15727133827918466,
          0.780274996711184,
          -1.3290121829172736,
          -0.3476287149663292,
          0.5469591287599925,
          -0.12694867546220384,
          0.24056843026883892,
          -2.7646992768771086,
          1.0658530548801204,
          0.14202684939502938
         ],
         "xaxis": "x4",
         "y": [
          -0.6070225586537845,
          -1.8638739423338426,
          -0.02945872276840593,
          -1.301291297310065,
          0.48084833474018185,
          0.7628548206270173,
          -0.28843164746247685,
          0.6019043240278631,
          -0.8763709987921026,
          1.702802294665911,
          0.03894666378491089,
          -0.391247915748716,
          -0.3232684791801891,
          0.5555540390983371,
          -0.5833873983870684,
          -0.0844703205455899,
          -0.5139830214610452,
          -0.9874331374104602,
          1.3231224108983104,
          1.3852294994314818,
          0.495802931458785,
          1.5044941738291178,
          2.013539747855578,
          -0.9350456661961715,
          -0.07199477165247954,
          -0.012588234544470622,
          1.0286702624831179,
          -0.30675308423320574,
          -2.0813241088469705,
          0.9113534548782632,
          -1.1821295689927516,
          0.39712861820350376,
          0.32421117523347154,
          -1.388467161393341,
          -1.8196690472248764,
          1.2781438676085672,
          1.1244717635481953,
          2.6878665336118686,
          -1.6109429503383526,
          -0.3309381064713909,
          0.1012450075722931,
          -0.6927193028799976,
          -1.7779565769379178,
          -0.4937356719987772,
          -0.9214348954348198,
          0.04960273216795757,
          -2.6493834985687386,
          -0.3863153542191854,
          -0.5203504684321614,
          0.5977880177234898,
          1.5935857254212724,
          0.30130947631160576,
          -0.24209057064901562,
          2.393932462989073,
          0.48453201427412146,
          1.1471246976281726,
          1.2228406556961817,
          1.0816068853591136,
          -0.7424208071880561,
          0.7861844219733373,
          0.7498272838099621,
          -0.025596103412613782,
          -0.8244905811186303,
          0.6800258715624917,
          0.5426539687452233,
          -0.3376995252397134,
          0.4782136125101678,
          1.61174979268537,
          -0.009447379791987958,
          2.0385534852770575,
          2.017903156882396,
          -0.04108963367107593,
          -0.37405806660701296,
          1.6557536077103534,
          -0.9180687240107729,
          -1.3509762396010478,
          -1.3245247370933935,
          0.1883981543352357,
          -1.007096270807894,
          0.112857625621616,
          -0.03716265055480332,
          -1.3047337291461698,
          -1.8938223768162143,
          -0.05915120037142549,
          -0.022261006449155404,
          -2.2257467886082813,
          0.299708338942967,
          -0.11551816567653965,
          -0.22224470630933316,
          1.8203093144170124,
          -0.9809281853994635,
          0.8258301853601936,
          1.747369363537277,
          0.4451763013778281,
          0.8233981834134183,
          -0.37937479326251894,
          -1.4536121716892259,
          1.1622792298167708,
          0.2870601492366928,
          -1.3293818887641389
         ],
         "yaxis": "y4"
        },
        {
         "line": {
          "color": "rgba(128, 128, 128, 1.0)",
          "dash": "solid",
          "shape": "linear",
          "width": 1.3
         },
         "marker": {
          "size": 2,
          "symbol": "circle"
         },
         "mode": "markers",
         "name": "B",
         "text": "",
         "type": "scatter",
         "x": [
          -0.6070225586537845,
          -1.8638739423338426,
          -0.02945872276840593,
          -1.301291297310065,
          0.48084833474018185,
          0.7628548206270173,
          -0.28843164746247685,
          0.6019043240278631,
          -0.8763709987921026,
          1.702802294665911,
          0.03894666378491089,
          -0.391247915748716,
          -0.3232684791801891,
          0.5555540390983371,
          -0.5833873983870684,
          -0.0844703205455899,
          -0.5139830214610452,
          -0.9874331374104602,
          1.3231224108983104,
          1.3852294994314818,
          0.495802931458785,
          1.5044941738291178,
          2.013539747855578,
          -0.9350456661961715,
          -0.07199477165247954,
          -0.012588234544470622,
          1.0286702624831179,
          -0.30675308423320574,
          -2.0813241088469705,
          0.9113534548782632,
          -1.1821295689927516,
          0.39712861820350376,
          0.32421117523347154,
          -1.388467161393341,
          -1.8196690472248764,
          1.2781438676085672,
          1.1244717635481953,
          2.6878665336118686,
          -1.6109429503383526,
          -0.3309381064713909,
          0.1012450075722931,
          -0.6927193028799976,
          -1.7779565769379178,
          -0.4937356719987772,
          -0.9214348954348198,
          0.04960273216795757,
          -2.6493834985687386,
          -0.3863153542191854,
          -0.5203504684321614,
          0.5977880177234898,
          1.5935857254212724,
          0.30130947631160576,
          -0.24209057064901562,
          2.393932462989073,
          0.48453201427412146,
          1.1471246976281726,
          1.2228406556961817,
          1.0816068853591136,
          -0.7424208071880561,
          0.7861844219733373,
          0.7498272838099621,
          -0.025596103412613782,
          -0.8244905811186303,
          0.6800258715624917,
          0.5426539687452233,
          -0.3376995252397134,
          0.4782136125101678,
          1.61174979268537,
          -0.009447379791987958,
          2.0385534852770575,
          2.017903156882396,
          -0.04108963367107593,
          -0.37405806660701296,
          1.6557536077103534,
          -0.9180687240107729,
          -1.3509762396010478,
          -1.3245247370933935,
          0.1883981543352357,
          -1.007096270807894,
          0.112857625621616,
          -0.03716265055480332,
          -1.3047337291461698,
          -1.8938223768162143,
          -0.05915120037142549,
          -0.022261006449155404,
          -2.2257467886082813,
          0.299708338942967,
          -0.11551816567653965,
          -0.22224470630933316,
          1.8203093144170124,
          -0.9809281853994635,
          0.8258301853601936,
          1.747369363537277,
          0.4451763013778281,
          0.8233981834134183,
          -0.37937479326251894,
          -1.4536121716892259,
          1.1622792298167708,
          0.2870601492366928,
          -1.3293818887641389
         ],
         "xaxis": "x5",
         "y": [
          0.39442564922170886,
          1.1545382861670683,
          -0.3981929049509391,
          1.0607053367391788,
          -1.0927982071594042,
          0.8938581864801937,
          0.10953427785913276,
          1.100603769799354,
          -0.037145165173287524,
          0.820385609335391,
          0.1757448574089021,
          -1.4281471214410326,
          1.3192507531473423,
          0.591642670955045,
          0.5229932990718201,
          0.13605660011946183,
          -0.2100106055939634,
          -0.5700547463822505,
          -0.3323261428045018,
          1.4377556274630496,
          0.14413892892924288,
          0.05300178117926253,
          0.15897168480049687,
          -0.4642246356303038,
          -0.062162694238745014,
          -0.404997912384452,
          -0.7201482218638331,
          2.023568952952069,
          -1.6214853359956733,
          0.542085407732597,
          0.5827569941618997,
          0.3776319435990386,
          0.7860509953709055,
          -0.5428417186393626,
          -0.6218017304368952,
          -0.01711816060498298,
          0.8909241978978917,
          -1.1794232525669857,
          -0.23428574473243066,
          0.6223056989779824,
          -0.13862316143162234,
          1.3989648648043242,
          -1.2881252741130682,
          0.7279631578004603,
          -0.048807113398033994,
          1.0394435684890488,
          -3.3911593703715184,
          -0.524115543518746,
          1.9491071278041052,
          0.07942048576898976,
          -0.6641974846295369,
          -1.0352913027794661,
          -0.6683730021861155,
          -2.0801704608528366,
          -0.6236871291314133,
          0.5545284284650903,
          0.09672761646458744,
          -0.957367126309057,
          -1.3015723703851805,
          0.529996087442483,
          0.36037265455029355,
          -0.825360660875962,
          1.6074276743204716,
          -2.125383315024735,
          0.2729482690721516,
          0.2648116479946539,
          -0.6484000338053134,
          -0.8529199767742717,
          -0.46666971985268213,
          -0.6044278288068219,
          0.6411021729993239,
          1.607115690297109,
          0.642969908406056,
          3.4880296066713408,
          1.5160479793033188,
          0.21650854966375002,
          1.1058470153140674,
          0.9089965059567509,
          -0.9594932219442222,
          -0.5825050989047242,
          -0.006558177721396607,
          1.2314458312022174,
          -0.445862995858089,
          0.32692197599067874,
          -0.16732624075897054,
          -0.06631960996464281,
          -0.5567444312996315,
          -1.2697328105510748,
          -0.6461202658830911,
          -1.6486385015803198,
          0.8697462032738772,
          1.071978584989495,
          1.0115715290572223,
          0.688291257034643,
          -0.4446104637134038,
          -1.370232127902445,
          0.711851270271103,
          -1.4409175804017305,
          0.17758469504751084,
          -0.3488266307639724
         ],
         "yaxis": "y5"
        },
        {
         "histfunc": "count",
         "histnorm": "",
         "marker": {
          "color": "rgba(55, 128, 191, 1.0)",
          "line": {
           "color": "#4D5663",
           "width": 1.3
          }
         },
         "name": "B",
         "nbinsx": 10,
         "opacity": 0.8,
         "orientation": "v",
         "type": "histogram",
         "x": [
          0.39442564922170886,
          1.1545382861670683,
          -0.3981929049509391,
          1.0607053367391788,
          -1.0927982071594042,
          0.8938581864801937,
          0.10953427785913276,
          1.100603769799354,
          -0.037145165173287524,
          0.820385609335391,
          0.1757448574089021,
          -1.4281471214410326,
          1.3192507531473423,
          0.591642670955045,
          0.5229932990718201,
          0.13605660011946183,
          -0.2100106055939634,
          -0.5700547463822505,
          -0.3323261428045018,
          1.4377556274630496,
          0.14413892892924288,
          0.05300178117926253,
          0.15897168480049687,
          -0.4642246356303038,
          -0.062162694238745014,
          -0.404997912384452,
          -0.7201482218638331,
          2.023568952952069,
          -1.6214853359956733,
          0.542085407732597,
          0.5827569941618997,
          0.3776319435990386,
          0.7860509953709055,
          -0.5428417186393626,
          -0.6218017304368952,
          -0.01711816060498298,
          0.8909241978978917,
          -1.1794232525669857,
          -0.23428574473243066,
          0.6223056989779824,
          -0.13862316143162234,
          1.3989648648043242,
          -1.2881252741130682,
          0.7279631578004603,
          -0.048807113398033994,
          1.0394435684890488,
          -3.3911593703715184,
          -0.524115543518746,
          1.9491071278041052,
          0.07942048576898976,
          -0.6641974846295369,
          -1.0352913027794661,
          -0.6683730021861155,
          -2.0801704608528366,
          -0.6236871291314133,
          0.5545284284650903,
          0.09672761646458744,
          -0.957367126309057,
          -1.3015723703851805,
          0.529996087442483,
          0.36037265455029355,
          -0.825360660875962,
          1.6074276743204716,
          -2.125383315024735,
          0.2729482690721516,
          0.2648116479946539,
          -0.6484000338053134,
          -0.8529199767742717,
          -0.46666971985268213,
          -0.6044278288068219,
          0.6411021729993239,
          1.607115690297109,
          0.642969908406056,
          3.4880296066713408,
          1.5160479793033188,
          0.21650854966375002,
          1.1058470153140674,
          0.9089965059567509,
          -0.9594932219442222,
          -0.5825050989047242,
          -0.006558177721396607,
          1.2314458312022174,
          -0.445862995858089,
          0.32692197599067874,
          -0.16732624075897054,
          -0.06631960996464281,
          -0.5567444312996315,
          -1.2697328105510748,
          -0.6461202658830911,
          -1.6486385015803198,
          0.8697462032738772,
          1.071978584989495,
          1.0115715290572223,
          0.688291257034643,
          -0.4446104637134038,
          -1.370232127902445,
          0.711851270271103,
          -1.4409175804017305,
          0.17758469504751084,
          -0.3488266307639724
         ],
         "xaxis": "x6",
         "yaxis": "y6"
        },
        {
         "line": {
          "color": "rgba(128, 128, 128, 1.0)",
          "dash": "solid",
          "shape": "linear",
          "width": 1.3
         },
         "marker": {
          "size": 2,
          "symbol": "circle"
         },
         "mode": "markers",
         "name": "B",
         "text": "",
         "type": "scatter",
         "x": [
          0.5786488658973388,
          -1.3779481177244952,
          0.12365177369173536,
          -1.116511132468932,
          0.8058094735407533,
          -0.40434082821277284,
          1.0225385803330087,
          -0.6470938916080935,
          -0.3508677486533792,
          2.5013226025963746,
          -1.5259835252824552,
          -0.9829311652920717,
          0.23493446006915572,
          -0.9037615413233684,
          -1.3141707547165868,
          -1.5199657157915831,
          -0.7626795758174268,
          1.6073113400335521,
          0.3065045812678438,
          0.7670645741240087,
          -0.44191752142816326,
          -1.3298535843393218,
          -1.135700295184527,
          0.9297115141063347,
          0.6865778093810669,
          0.2906984631345525,
          -0.9865642416513182,
          0.7390830087985069,
          0.5873820481676423,
          -1.0539583164959976,
          0.5414419704915575,
          -0.11185761505217436,
          -0.07695780645157449,
          -2.1646462442630616,
          1.1851782283016816,
          -1.8572626824506342,
          0.44751835654226163,
          0.2377385201511963,
          0.0977471498017824,
          -0.346706646408973,
          0.3288034699452686,
          -0.241554375975574,
          0.23406958233434508,
          -1.2932583043575332,
          -0.0753563250462829,
          0.9227704330212433,
          -0.9932007883861261,
          0.8402493065090569,
          -1.7071908207317257,
          0.4353964002156085,
          0.8810442345722524,
          -1.2204230274097805,
          0.9178683103189221,
          -0.5616608195969544,
          -1.4997595699840784,
          -0.6205171225168257,
          1.078060164804285,
          1.0340481232295156,
          -0.7664258411313779,
          0.6926338816275318,
          1.8483024115450608,
          -0.9381821206856582,
          -0.31440988974655065,
          -0.5299400185069904,
          0.5028693025293436,
          -0.697868894664978,
          0.02223697002983274,
          0.77557394882186,
          0.8422756027790126,
          1.0019480005664712,
          -0.7245614241946116,
          -0.20870645294212087,
          -0.11179174927504838,
          -0.25709999871760897,
          -1.202771442521758,
          0.17460517244494234,
          -3.556830917028255,
          1.959280308579902,
          -0.20721381467702987,
          -0.004113041471365491,
          1.0467020240597704,
          -0.6563924493292402,
          -1.2702933876925069,
          -0.44861523437505996,
          0.23141073624629255,
          0.28912448864058354,
          -2.64152539481277,
          -0.37655621404335426,
          -0.9278540083113972,
          0.021633252663627364,
          0.4389105377440285,
          -0.316289308114846,
          -1.1468826225189952,
          -1.157161485137814,
          0.7742523737057712,
          1.0009994401994993,
          0.21047062378348677,
          -0.4760958934500705,
          -0.6458907785383571,
          -0.35137750023636594
         ],
         "xaxis": "x7",
         "y": [
          0.39442564922170886,
          1.1545382861670683,
          -0.3981929049509391,
          1.0607053367391788,
          -1.0927982071594042,
          0.8938581864801937,
          0.10953427785913276,
          1.100603769799354,
          -0.037145165173287524,
          0.820385609335391,
          0.1757448574089021,
          -1.4281471214410326,
          1.3192507531473423,
          0.591642670955045,
          0.5229932990718201,
          0.13605660011946183,
          -0.2100106055939634,
          -0.5700547463822505,
          -0.3323261428045018,
          1.4377556274630496,
          0.14413892892924288,
          0.05300178117926253,
          0.15897168480049687,
          -0.4642246356303038,
          -0.062162694238745014,
          -0.404997912384452,
          -0.7201482218638331,
          2.023568952952069,
          -1.6214853359956733,
          0.542085407732597,
          0.5827569941618997,
          0.3776319435990386,
          0.7860509953709055,
          -0.5428417186393626,
          -0.6218017304368952,
          -0.01711816060498298,
          0.8909241978978917,
          -1.1794232525669857,
          -0.23428574473243066,
          0.6223056989779824,
          -0.13862316143162234,
          1.3989648648043242,
          -1.2881252741130682,
          0.7279631578004603,
          -0.048807113398033994,
          1.0394435684890488,
          -3.3911593703715184,
          -0.524115543518746,
          1.9491071278041052,
          0.07942048576898976,
          -0.6641974846295369,
          -1.0352913027794661,
          -0.6683730021861155,
          -2.0801704608528366,
          -0.6236871291314133,
          0.5545284284650903,
          0.09672761646458744,
          -0.957367126309057,
          -1.3015723703851805,
          0.529996087442483,
          0.36037265455029355,
          -0.825360660875962,
          1.6074276743204716,
          -2.125383315024735,
          0.2729482690721516,
          0.2648116479946539,
          -0.6484000338053134,
          -0.8529199767742717,
          -0.46666971985268213,
          -0.6044278288068219,
          0.6411021729993239,
          1.607115690297109,
          0.642969908406056,
          3.4880296066713408,
          1.5160479793033188,
          0.21650854966375002,
          1.1058470153140674,
          0.9089965059567509,
          -0.9594932219442222,
          -0.5825050989047242,
          -0.006558177721396607,
          1.2314458312022174,
          -0.445862995858089,
          0.32692197599067874,
          -0.16732624075897054,
          -0.06631960996464281,
          -0.5567444312996315,
          -1.2697328105510748,
          -0.6461202658830911,
          -1.6486385015803198,
          0.8697462032738772,
          1.071978584989495,
          1.0115715290572223,
          0.688291257034643,
          -0.4446104637134038,
          -1.370232127902445,
          0.711851270271103,
          -1.4409175804017305,
          0.17758469504751084,
          -0.3488266307639724
         ],
         "yaxis": "y7"
        },
        {
         "line": {
          "color": "rgba(128, 128, 128, 1.0)",
          "dash": "solid",
          "shape": "linear",
          "width": 1.3
         },
         "marker": {
          "size": 2,
          "symbol": "circle"
         },
         "mode": "markers",
         "name": "B",
         "text": "",
         "type": "scatter",
         "x": [
          -0.7710707494557274,
          0.9084215962844299,
          0.14867156693112518,
          1.091242440442385,
          -0.38136791739286025,
          2.6551377942985472,
          -0.542106532007221,
          0.0009897898929007354,
          1.025732698451324,
          1.0917364537662415,
          -0.06579851584724807,
          1.8484432768417098,
          -0.3399947465039237,
          -0.6562755405065582,
          0.9859146265234778,
          0.9181428936696494,
          0.560453175862377,
          0.6173219524497757,
          -0.4176234372666162,
          -0.08616974832048305,
          -0.006352829478318503,
          0.5136507964107583,
          0.15464554983258477,
          -0.4030269739726689,
          0.3296061099699754,
          -0.4648081650700848,
          -1.1636454990471916,
          0.8167962531838402,
          1.3782602913496587,
          -0.8339337883855852,
          0.866982803885244,
          0.6456966292631111,
          -1.65519664670503,
          -0.34483808667429844,
          1.1519480185389928,
          -0.42603916535007497,
          -1.3876296020701955,
          0.438502934561104,
          -0.34317189887749944,
          -0.2582968179968848,
          -1.6196419672168794,
          -0.32586548630627404,
          0.490437955843003,
          -0.016853814769800884,
          0.5704102851277636,
          -0.020673325863221778,
          1.4100771515518467,
          0.8309463411013209,
          1.3443492512121447,
          -1.8857520766945424,
          -0.09056980293285732,
          0.09138694227565757,
          1.3636878725062827,
          -0.2660602412255175,
          1.646259910223738,
          1.8005971402578238,
          -1.210293685648795,
          -0.4522423782105368,
          0.4567476600502909,
          1.3930048823179084,
          0.2072223848026172,
          0.6332124968747784,
          -1.3880857965038995,
          1.987635207109135,
          -0.992693168002227,
          -0.5082269973015238,
          0.4403931715663567,
          -1.4866772715183176,
          0.6426683638879613,
          0.6778864417024036,
          0.2211458414525818,
          -0.029785991329424652,
          0.6604793649030712,
          -1.3172685329935305,
          0.061259598483134725,
          -0.40628739096693317,
          -1.0786117555871804,
          -2.459949891065606,
          0.058595706402560455,
          0.5166845977099281,
          0.4436605818850999,
          0.9127365293860776,
          -0.9936011302758352,
          -1.0284535043950807,
          0.7193874352238564,
          0.19833013706556346,
          0.041628183160987306,
          0.4541679834133369,
          -1.5602230041741998,
          -0.772172041615176,
          0.15727133827918466,
          0.780274996711184,
          -1.3290121829172736,
          -0.3476287149663292,
          0.5469591287599925,
          -0.12694867546220384,
          0.24056843026883892,
          -2.7646992768771086,
          1.0658530548801204,
          0.14202684939502938
         ],
         "xaxis": "x8",
         "y": [
          0.39442564922170886,
          1.1545382861670683,
          -0.3981929049509391,
          1.0607053367391788,
          -1.0927982071594042,
          0.8938581864801937,
          0.10953427785913276,
          1.100603769799354,
          -0.037145165173287524,
          0.820385609335391,
          0.1757448574089021,
          -1.4281471214410326,
          1.3192507531473423,
          0.591642670955045,
          0.5229932990718201,
          0.13605660011946183,
          -0.2100106055939634,
          -0.5700547463822505,
          -0.3323261428045018,
          1.4377556274630496,
          0.14413892892924288,
          0.05300178117926253,
          0.15897168480049687,
          -0.4642246356303038,
          -0.062162694238745014,
          -0.404997912384452,
          -0.7201482218638331,
          2.023568952952069,
          -1.6214853359956733,
          0.542085407732597,
          0.5827569941618997,
          0.3776319435990386,
          0.7860509953709055,
          -0.5428417186393626,
          -0.6218017304368952,
          -0.01711816060498298,
          0.8909241978978917,
          -1.1794232525669857,
          -0.23428574473243066,
          0.6223056989779824,
          -0.13862316143162234,
          1.3989648648043242,
          -1.2881252741130682,
          0.7279631578004603,
          -0.048807113398033994,
          1.0394435684890488,
          -3.3911593703715184,
          -0.524115543518746,
          1.9491071278041052,
          0.07942048576898976,
          -0.6641974846295369,
          -1.0352913027794661,
          -0.6683730021861155,
          -2.0801704608528366,
          -0.6236871291314133,
          0.5545284284650903,
          0.09672761646458744,
          -0.957367126309057,
          -1.3015723703851805,
          0.529996087442483,
          0.36037265455029355,
          -0.825360660875962,
          1.6074276743204716,
          -2.125383315024735,
          0.2729482690721516,
          0.2648116479946539,
          -0.6484000338053134,
          -0.8529199767742717,
          -0.46666971985268213,
          -0.6044278288068219,
          0.6411021729993239,
          1.607115690297109,
          0.642969908406056,
          3.4880296066713408,
          1.5160479793033188,
          0.21650854966375002,
          1.1058470153140674,
          0.9089965059567509,
          -0.9594932219442222,
          -0.5825050989047242,
          -0.006558177721396607,
          1.2314458312022174,
          -0.445862995858089,
          0.32692197599067874,
          -0.16732624075897054,
          -0.06631960996464281,
          -0.5567444312996315,
          -1.2697328105510748,
          -0.6461202658830911,
          -1.6486385015803198,
          0.8697462032738772,
          1.071978584989495,
          1.0115715290572223,
          0.688291257034643,
          -0.4446104637134038,
          -1.370232127902445,
          0.711851270271103,
          -1.4409175804017305,
          0.17758469504751084,
          -0.3488266307639724
         ],
         "yaxis": "y8"
        },
        {
         "line": {
          "color": "rgba(128, 128, 128, 1.0)",
          "dash": "solid",
          "shape": "linear",
          "width": 1.3
         },
         "marker": {
          "size": 2,
          "symbol": "circle"
         },
         "mode": "markers",
         "name": "C",
         "text": "",
         "type": "scatter",
         "x": [
          -0.6070225586537845,
          -1.8638739423338426,
          -0.02945872276840593,
          -1.301291297310065,
          0.48084833474018185,
          0.7628548206270173,
          -0.28843164746247685,
          0.6019043240278631,
          -0.8763709987921026,
          1.702802294665911,
          0.03894666378491089,
          -0.391247915748716,
          -0.3232684791801891,
          0.5555540390983371,
          -0.5833873983870684,
          -0.0844703205455899,
          -0.5139830214610452,
          -0.9874331374104602,
          1.3231224108983104,
          1.3852294994314818,
          0.495802931458785,
          1.5044941738291178,
          2.013539747855578,
          -0.9350456661961715,
          -0.07199477165247954,
          -0.012588234544470622,
          1.0286702624831179,
          -0.30675308423320574,
          -2.0813241088469705,
          0.9113534548782632,
          -1.1821295689927516,
          0.39712861820350376,
          0.32421117523347154,
          -1.388467161393341,
          -1.8196690472248764,
          1.2781438676085672,
          1.1244717635481953,
          2.6878665336118686,
          -1.6109429503383526,
          -0.3309381064713909,
          0.1012450075722931,
          -0.6927193028799976,
          -1.7779565769379178,
          -0.4937356719987772,
          -0.9214348954348198,
          0.04960273216795757,
          -2.6493834985687386,
          -0.3863153542191854,
          -0.5203504684321614,
          0.5977880177234898,
          1.5935857254212724,
          0.30130947631160576,
          -0.24209057064901562,
          2.393932462989073,
          0.48453201427412146,
          1.1471246976281726,
          1.2228406556961817,
          1.0816068853591136,
          -0.7424208071880561,
          0.7861844219733373,
          0.7498272838099621,
          -0.025596103412613782,
          -0.8244905811186303,
          0.6800258715624917,
          0.5426539687452233,
          -0.3376995252397134,
          0.4782136125101678,
          1.61174979268537,
          -0.009447379791987958,
          2.0385534852770575,
          2.017903156882396,
          -0.04108963367107593,
          -0.37405806660701296,
          1.6557536077103534,
          -0.9180687240107729,
          -1.3509762396010478,
          -1.3245247370933935,
          0.1883981543352357,
          -1.007096270807894,
          0.112857625621616,
          -0.03716265055480332,
          -1.3047337291461698,
          -1.8938223768162143,
          -0.05915120037142549,
          -0.022261006449155404,
          -2.2257467886082813,
          0.299708338942967,
          -0.11551816567653965,
          -0.22224470630933316,
          1.8203093144170124,
          -0.9809281853994635,
          0.8258301853601936,
          1.747369363537277,
          0.4451763013778281,
          0.8233981834134183,
          -0.37937479326251894,
          -1.4536121716892259,
          1.1622792298167708,
          0.2870601492366928,
          -1.3293818887641389
         ],
         "xaxis": "x9",
         "y": [
          0.5786488658973388,
          -1.3779481177244952,
          0.12365177369173536,
          -1.116511132468932,
          0.8058094735407533,
          -0.40434082821277284,
          1.0225385803330087,
          -0.6470938916080935,
          -0.3508677486533792,
          2.5013226025963746,
          -1.5259835252824552,
          -0.9829311652920717,
          0.23493446006915572,
          -0.9037615413233684,
          -1.3141707547165868,
          -1.5199657157915831,
          -0.7626795758174268,
          1.6073113400335521,
          0.3065045812678438,
          0.7670645741240087,
          -0.44191752142816326,
          -1.3298535843393218,
          -1.135700295184527,
          0.9297115141063347,
          0.6865778093810669,
          0.2906984631345525,
          -0.9865642416513182,
          0.7390830087985069,
          0.5873820481676423,
          -1.0539583164959976,
          0.5414419704915575,
          -0.11185761505217436,
          -0.07695780645157449,
          -2.1646462442630616,
          1.1851782283016816,
          -1.8572626824506342,
          0.44751835654226163,
          0.2377385201511963,
          0.0977471498017824,
          -0.346706646408973,
          0.3288034699452686,
          -0.241554375975574,
          0.23406958233434508,
          -1.2932583043575332,
          -0.0753563250462829,
          0.9227704330212433,
          -0.9932007883861261,
          0.8402493065090569,
          -1.7071908207317257,
          0.4353964002156085,
          0.8810442345722524,
          -1.2204230274097805,
          0.9178683103189221,
          -0.5616608195969544,
          -1.4997595699840784,
          -0.6205171225168257,
          1.078060164804285,
          1.0340481232295156,
          -0.7664258411313779,
          0.6926338816275318,
          1.8483024115450608,
          -0.9381821206856582,
          -0.31440988974655065,
          -0.5299400185069904,
          0.5028693025293436,
          -0.697868894664978,
          0.02223697002983274,
          0.77557394882186,
          0.8422756027790126,
          1.0019480005664712,
          -0.7245614241946116,
          -0.20870645294212087,
          -0.11179174927504838,
          -0.25709999871760897,
          -1.202771442521758,
          0.17460517244494234,
          -3.556830917028255,
          1.959280308579902,
          -0.20721381467702987,
          -0.004113041471365491,
          1.0467020240597704,
          -0.6563924493292402,
          -1.2702933876925069,
          -0.44861523437505996,
          0.23141073624629255,
          0.28912448864058354,
          -2.64152539481277,
          -0.37655621404335426,
          -0.9278540083113972,
          0.021633252663627364,
          0.4389105377440285,
          -0.316289308114846,
          -1.1468826225189952,
          -1.157161485137814,
          0.7742523737057712,
          1.0009994401994993,
          0.21047062378348677,
          -0.4760958934500705,
          -0.6458907785383571,
          -0.35137750023636594
         ],
         "yaxis": "y9"
        },
        {
         "line": {
          "color": "rgba(128, 128, 128, 1.0)",
          "dash": "solid",
          "shape": "linear",
          "width": 1.3
         },
         "marker": {
          "size": 2,
          "symbol": "circle"
         },
         "mode": "markers",
         "name": "C",
         "text": "",
         "type": "scatter",
         "x": [
          0.39442564922170886,
          1.1545382861670683,
          -0.3981929049509391,
          1.0607053367391788,
          -1.0927982071594042,
          0.8938581864801937,
          0.10953427785913276,
          1.100603769799354,
          -0.037145165173287524,
          0.820385609335391,
          0.1757448574089021,
          -1.4281471214410326,
          1.3192507531473423,
          0.591642670955045,
          0.5229932990718201,
          0.13605660011946183,
          -0.2100106055939634,
          -0.5700547463822505,
          -0.3323261428045018,
          1.4377556274630496,
          0.14413892892924288,
          0.05300178117926253,
          0.15897168480049687,
          -0.4642246356303038,
          -0.062162694238745014,
          -0.404997912384452,
          -0.7201482218638331,
          2.023568952952069,
          -1.6214853359956733,
          0.542085407732597,
          0.5827569941618997,
          0.3776319435990386,
          0.7860509953709055,
          -0.5428417186393626,
          -0.6218017304368952,
          -0.01711816060498298,
          0.8909241978978917,
          -1.1794232525669857,
          -0.23428574473243066,
          0.6223056989779824,
          -0.13862316143162234,
          1.3989648648043242,
          -1.2881252741130682,
          0.7279631578004603,
          -0.048807113398033994,
          1.0394435684890488,
          -3.3911593703715184,
          -0.524115543518746,
          1.9491071278041052,
          0.07942048576898976,
          -0.6641974846295369,
          -1.0352913027794661,
          -0.6683730021861155,
          -2.0801704608528366,
          -0.6236871291314133,
          0.5545284284650903,
          0.09672761646458744,
          -0.957367126309057,
          -1.3015723703851805,
          0.529996087442483,
          0.36037265455029355,
          -0.825360660875962,
          1.6074276743204716,
          -2.125383315024735,
          0.2729482690721516,
          0.2648116479946539,
          -0.6484000338053134,
          -0.8529199767742717,
          -0.46666971985268213,
          -0.6044278288068219,
          0.6411021729993239,
          1.607115690297109,
          0.642969908406056,
          3.4880296066713408,
          1.5160479793033188,
          0.21650854966375002,
          1.1058470153140674,
          0.9089965059567509,
          -0.9594932219442222,
          -0.5825050989047242,
          -0.006558177721396607,
          1.2314458312022174,
          -0.445862995858089,
          0.32692197599067874,
          -0.16732624075897054,
          -0.06631960996464281,
          -0.5567444312996315,
          -1.2697328105510748,
          -0.6461202658830911,
          -1.6486385015803198,
          0.8697462032738772,
          1.071978584989495,
          1.0115715290572223,
          0.688291257034643,
          -0.4446104637134038,
          -1.370232127902445,
          0.711851270271103,
          -1.4409175804017305,
          0.17758469504751084,
          -0.3488266307639724
         ],
         "xaxis": "x10",
         "y": [
          0.5786488658973388,
          -1.3779481177244952,
          0.12365177369173536,
          -1.116511132468932,
          0.8058094735407533,
          -0.40434082821277284,
          1.0225385803330087,
          -0.6470938916080935,
          -0.3508677486533792,
          2.5013226025963746,
          -1.5259835252824552,
          -0.9829311652920717,
          0.23493446006915572,
          -0.9037615413233684,
          -1.3141707547165868,
          -1.5199657157915831,
          -0.7626795758174268,
          1.6073113400335521,
          0.3065045812678438,
          0.7670645741240087,
          -0.44191752142816326,
          -1.3298535843393218,
          -1.135700295184527,
          0.9297115141063347,
          0.6865778093810669,
          0.2906984631345525,
          -0.9865642416513182,
          0.7390830087985069,
          0.5873820481676423,
          -1.0539583164959976,
          0.5414419704915575,
          -0.11185761505217436,
          -0.07695780645157449,
          -2.1646462442630616,
          1.1851782283016816,
          -1.8572626824506342,
          0.44751835654226163,
          0.2377385201511963,
          0.0977471498017824,
          -0.346706646408973,
          0.3288034699452686,
          -0.241554375975574,
          0.23406958233434508,
          -1.2932583043575332,
          -0.0753563250462829,
          0.9227704330212433,
          -0.9932007883861261,
          0.8402493065090569,
          -1.7071908207317257,
          0.4353964002156085,
          0.8810442345722524,
          -1.2204230274097805,
          0.9178683103189221,
          -0.5616608195969544,
          -1.4997595699840784,
          -0.6205171225168257,
          1.078060164804285,
          1.0340481232295156,
          -0.7664258411313779,
          0.6926338816275318,
          1.8483024115450608,
          -0.9381821206856582,
          -0.31440988974655065,
          -0.5299400185069904,
          0.5028693025293436,
          -0.697868894664978,
          0.02223697002983274,
          0.77557394882186,
          0.8422756027790126,
          1.0019480005664712,
          -0.7245614241946116,
          -0.20870645294212087,
          -0.11179174927504838,
          -0.25709999871760897,
          -1.202771442521758,
          0.17460517244494234,
          -3.556830917028255,
          1.959280308579902,
          -0.20721381467702987,
          -0.004113041471365491,
          1.0467020240597704,
          -0.6563924493292402,
          -1.2702933876925069,
          -0.44861523437505996,
          0.23141073624629255,
          0.28912448864058354,
          -2.64152539481277,
          -0.37655621404335426,
          -0.9278540083113972,
          0.021633252663627364,
          0.4389105377440285,
          -0.316289308114846,
          -1.1468826225189952,
          -1.157161485137814,
          0.7742523737057712,
          1.0009994401994993,
          0.21047062378348677,
          -0.4760958934500705,
          -0.6458907785383571,
          -0.35137750023636594
         ],
         "yaxis": "y10"
        },
        {
         "histfunc": "count",
         "histnorm": "",
         "marker": {
          "color": "rgba(50, 171, 96, 1.0)",
          "line": {
           "color": "#4D5663",
           "width": 1.3
          }
         },
         "name": "C",
         "nbinsx": 10,
         "opacity": 0.8,
         "orientation": "v",
         "type": "histogram",
         "x": [
          0.5786488658973388,
          -1.3779481177244952,
          0.12365177369173536,
          -1.116511132468932,
          0.8058094735407533,
          -0.40434082821277284,
          1.0225385803330087,
          -0.6470938916080935,
          -0.3508677486533792,
          2.5013226025963746,
          -1.5259835252824552,
          -0.9829311652920717,
          0.23493446006915572,
          -0.9037615413233684,
          -1.3141707547165868,
          -1.5199657157915831,
          -0.7626795758174268,
          1.6073113400335521,
          0.3065045812678438,
          0.7670645741240087,
          -0.44191752142816326,
          -1.3298535843393218,
          -1.135700295184527,
          0.9297115141063347,
          0.6865778093810669,
          0.2906984631345525,
          -0.9865642416513182,
          0.7390830087985069,
          0.5873820481676423,
          -1.0539583164959976,
          0.5414419704915575,
          -0.11185761505217436,
          -0.07695780645157449,
          -2.1646462442630616,
          1.1851782283016816,
          -1.8572626824506342,
          0.44751835654226163,
          0.2377385201511963,
          0.0977471498017824,
          -0.346706646408973,
          0.3288034699452686,
          -0.241554375975574,
          0.23406958233434508,
          -1.2932583043575332,
          -0.0753563250462829,
          0.9227704330212433,
          -0.9932007883861261,
          0.8402493065090569,
          -1.7071908207317257,
          0.4353964002156085,
          0.8810442345722524,
          -1.2204230274097805,
          0.9178683103189221,
          -0.5616608195969544,
          -1.4997595699840784,
          -0.6205171225168257,
          1.078060164804285,
          1.0340481232295156,
          -0.7664258411313779,
          0.6926338816275318,
          1.8483024115450608,
          -0.9381821206856582,
          -0.31440988974655065,
          -0.5299400185069904,
          0.5028693025293436,
          -0.697868894664978,
          0.02223697002983274,
          0.77557394882186,
          0.8422756027790126,
          1.0019480005664712,
          -0.7245614241946116,
          -0.20870645294212087,
          -0.11179174927504838,
          -0.25709999871760897,
          -1.202771442521758,
          0.17460517244494234,
          -3.556830917028255,
          1.959280308579902,
          -0.20721381467702987,
          -0.004113041471365491,
          1.0467020240597704,
          -0.6563924493292402,
          -1.2702933876925069,
          -0.44861523437505996,
          0.23141073624629255,
          0.28912448864058354,
          -2.64152539481277,
          -0.37655621404335426,
          -0.9278540083113972,
          0.021633252663627364,
          0.4389105377440285,
          -0.316289308114846,
          -1.1468826225189952,
          -1.157161485137814,
          0.7742523737057712,
          1.0009994401994993,
          0.21047062378348677,
          -0.4760958934500705,
          -0.6458907785383571,
          -0.35137750023636594
         ],
         "xaxis": "x11",
         "yaxis": "y11"
        },
        {
         "line": {
          "color": "rgba(128, 128, 128, 1.0)",
          "dash": "solid",
          "shape": "linear",
          "width": 1.3
         },
         "marker": {
          "size": 2,
          "symbol": "circle"
         },
         "mode": "markers",
         "name": "C",
         "text": "",
         "type": "scatter",
         "x": [
          -0.7710707494557274,
          0.9084215962844299,
          0.14867156693112518,
          1.091242440442385,
          -0.38136791739286025,
          2.6551377942985472,
          -0.542106532007221,
          0.0009897898929007354,
          1.025732698451324,
          1.0917364537662415,
          -0.06579851584724807,
          1.8484432768417098,
          -0.3399947465039237,
          -0.6562755405065582,
          0.9859146265234778,
          0.9181428936696494,
          0.560453175862377,
          0.6173219524497757,
          -0.4176234372666162,
          -0.08616974832048305,
          -0.006352829478318503,
          0.5136507964107583,
          0.15464554983258477,
          -0.4030269739726689,
          0.3296061099699754,
          -0.4648081650700848,
          -1.1636454990471916,
          0.8167962531838402,
          1.3782602913496587,
          -0.8339337883855852,
          0.866982803885244,
          0.6456966292631111,
          -1.65519664670503,
          -0.34483808667429844,
          1.1519480185389928,
          -0.42603916535007497,
          -1.3876296020701955,
          0.438502934561104,
          -0.34317189887749944,
          -0.2582968179968848,
          -1.6196419672168794,
          -0.32586548630627404,
          0.490437955843003,
          -0.016853814769800884,
          0.5704102851277636,
          -0.020673325863221778,
          1.4100771515518467,
          0.8309463411013209,
          1.3443492512121447,
          -1.8857520766945424,
          -0.09056980293285732,
          0.09138694227565757,
          1.3636878725062827,
          -0.2660602412255175,
          1.646259910223738,
          1.8005971402578238,
          -1.210293685648795,
          -0.4522423782105368,
          0.4567476600502909,
          1.3930048823179084,
          0.2072223848026172,
          0.6332124968747784,
          -1.3880857965038995,
          1.987635207109135,
          -0.992693168002227,
          -0.5082269973015238,
          0.4403931715663567,
          -1.4866772715183176,
          0.6426683638879613,
          0.6778864417024036,
          0.2211458414525818,
          -0.029785991329424652,
          0.6604793649030712,
          -1.3172685329935305,
          0.061259598483134725,
          -0.40628739096693317,
          -1.0786117555871804,
          -2.459949891065606,
          0.058595706402560455,
          0.5166845977099281,
          0.4436605818850999,
          0.9127365293860776,
          -0.9936011302758352,
          -1.0284535043950807,
          0.7193874352238564,
          0.19833013706556346,
          0.041628183160987306,
          0.4541679834133369,
          -1.5602230041741998,
          -0.772172041615176,
          0.15727133827918466,
          0.780274996711184,
          -1.3290121829172736,
          -0.3476287149663292,
          0.5469591287599925,
          -0.12694867546220384,
          0.24056843026883892,
          -2.7646992768771086,
          1.0658530548801204,
          0.14202684939502938
         ],
         "xaxis": "x12",
         "y": [
          0.5786488658973388,
          -1.3779481177244952,
          0.12365177369173536,
          -1.116511132468932,
          0.8058094735407533,
          -0.40434082821277284,
          1.0225385803330087,
          -0.6470938916080935,
          -0.3508677486533792,
          2.5013226025963746,
          -1.5259835252824552,
          -0.9829311652920717,
          0.23493446006915572,
          -0.9037615413233684,
          -1.3141707547165868,
          -1.5199657157915831,
          -0.7626795758174268,
          1.6073113400335521,
          0.3065045812678438,
          0.7670645741240087,
          -0.44191752142816326,
          -1.3298535843393218,
          -1.135700295184527,
          0.9297115141063347,
          0.6865778093810669,
          0.2906984631345525,
          -0.9865642416513182,
          0.7390830087985069,
          0.5873820481676423,
          -1.0539583164959976,
          0.5414419704915575,
          -0.11185761505217436,
          -0.07695780645157449,
          -2.1646462442630616,
          1.1851782283016816,
          -1.8572626824506342,
          0.44751835654226163,
          0.2377385201511963,
          0.0977471498017824,
          -0.346706646408973,
          0.3288034699452686,
          -0.241554375975574,
          0.23406958233434508,
          -1.2932583043575332,
          -0.0753563250462829,
          0.9227704330212433,
          -0.9932007883861261,
          0.8402493065090569,
          -1.7071908207317257,
          0.4353964002156085,
          0.8810442345722524,
          -1.2204230274097805,
          0.9178683103189221,
          -0.5616608195969544,
          -1.4997595699840784,
          -0.6205171225168257,
          1.078060164804285,
          1.0340481232295156,
          -0.7664258411313779,
          0.6926338816275318,
          1.8483024115450608,
          -0.9381821206856582,
          -0.31440988974655065,
          -0.5299400185069904,
          0.5028693025293436,
          -0.697868894664978,
          0.02223697002983274,
          0.77557394882186,
          0.8422756027790126,
          1.0019480005664712,
          -0.7245614241946116,
          -0.20870645294212087,
          -0.11179174927504838,
          -0.25709999871760897,
          -1.202771442521758,
          0.17460517244494234,
          -3.556830917028255,
          1.959280308579902,
          -0.20721381467702987,
          -0.004113041471365491,
          1.0467020240597704,
          -0.6563924493292402,
          -1.2702933876925069,
          -0.44861523437505996,
          0.23141073624629255,
          0.28912448864058354,
          -2.64152539481277,
          -0.37655621404335426,
          -0.9278540083113972,
          0.021633252663627364,
          0.4389105377440285,
          -0.316289308114846,
          -1.1468826225189952,
          -1.157161485137814,
          0.7742523737057712,
          1.0009994401994993,
          0.21047062378348677,
          -0.4760958934500705,
          -0.6458907785383571,
          -0.35137750023636594
         ],
         "yaxis": "y12"
        },
        {
         "line": {
          "color": "rgba(128, 128, 128, 1.0)",
          "dash": "solid",
          "shape": "linear",
          "width": 1.3
         },
         "marker": {
          "size": 2,
          "symbol": "circle"
         },
         "mode": "markers",
         "name": "D",
         "text": "",
         "type": "scatter",
         "x": [
          -0.6070225586537845,
          -1.8638739423338426,
          -0.02945872276840593,
          -1.301291297310065,
          0.48084833474018185,
          0.7628548206270173,
          -0.28843164746247685,
          0.6019043240278631,
          -0.8763709987921026,
          1.702802294665911,
          0.03894666378491089,
          -0.391247915748716,
          -0.3232684791801891,
          0.5555540390983371,
          -0.5833873983870684,
          -0.0844703205455899,
          -0.5139830214610452,
          -0.9874331374104602,
          1.3231224108983104,
          1.3852294994314818,
          0.495802931458785,
          1.5044941738291178,
          2.013539747855578,
          -0.9350456661961715,
          -0.07199477165247954,
          -0.012588234544470622,
          1.0286702624831179,
          -0.30675308423320574,
          -2.0813241088469705,
          0.9113534548782632,
          -1.1821295689927516,
          0.39712861820350376,
          0.32421117523347154,
          -1.388467161393341,
          -1.8196690472248764,
          1.2781438676085672,
          1.1244717635481953,
          2.6878665336118686,
          -1.6109429503383526,
          -0.3309381064713909,
          0.1012450075722931,
          -0.6927193028799976,
          -1.7779565769379178,
          -0.4937356719987772,
          -0.9214348954348198,
          0.04960273216795757,
          -2.6493834985687386,
          -0.3863153542191854,
          -0.5203504684321614,
          0.5977880177234898,
          1.5935857254212724,
          0.30130947631160576,
          -0.24209057064901562,
          2.393932462989073,
          0.48453201427412146,
          1.1471246976281726,
          1.2228406556961817,
          1.0816068853591136,
          -0.7424208071880561,
          0.7861844219733373,
          0.7498272838099621,
          -0.025596103412613782,
          -0.8244905811186303,
          0.6800258715624917,
          0.5426539687452233,
          -0.3376995252397134,
          0.4782136125101678,
          1.61174979268537,
          -0.009447379791987958,
          2.0385534852770575,
          2.017903156882396,
          -0.04108963367107593,
          -0.37405806660701296,
          1.6557536077103534,
          -0.9180687240107729,
          -1.3509762396010478,
          -1.3245247370933935,
          0.1883981543352357,
          -1.007096270807894,
          0.112857625621616,
          -0.03716265055480332,
          -1.3047337291461698,
          -1.8938223768162143,
          -0.05915120037142549,
          -0.022261006449155404,
          -2.2257467886082813,
          0.299708338942967,
          -0.11551816567653965,
          -0.22224470630933316,
          1.8203093144170124,
          -0.9809281853994635,
          0.8258301853601936,
          1.747369363537277,
          0.4451763013778281,
          0.8233981834134183,
          -0.37937479326251894,
          -1.4536121716892259,
          1.1622792298167708,
          0.2870601492366928,
          -1.3293818887641389
         ],
         "xaxis": "x13",
         "y": [
          -0.7710707494557274,
          0.9084215962844299,
          0.14867156693112518,
          1.091242440442385,
          -0.38136791739286025,
          2.6551377942985472,
          -0.542106532007221,
          0.0009897898929007354,
          1.025732698451324,
          1.0917364537662415,
          -0.06579851584724807,
          1.8484432768417098,
          -0.3399947465039237,
          -0.6562755405065582,
          0.9859146265234778,
          0.9181428936696494,
          0.560453175862377,
          0.6173219524497757,
          -0.4176234372666162,
          -0.08616974832048305,
          -0.006352829478318503,
          0.5136507964107583,
          0.15464554983258477,
          -0.4030269739726689,
          0.3296061099699754,
          -0.4648081650700848,
          -1.1636454990471916,
          0.8167962531838402,
          1.3782602913496587,
          -0.8339337883855852,
          0.866982803885244,
          0.6456966292631111,
          -1.65519664670503,
          -0.34483808667429844,
          1.1519480185389928,
          -0.42603916535007497,
          -1.3876296020701955,
          0.438502934561104,
          -0.34317189887749944,
          -0.2582968179968848,
          -1.6196419672168794,
          -0.32586548630627404,
          0.490437955843003,
          -0.016853814769800884,
          0.5704102851277636,
          -0.020673325863221778,
          1.4100771515518467,
          0.8309463411013209,
          1.3443492512121447,
          -1.8857520766945424,
          -0.09056980293285732,
          0.09138694227565757,
          1.3636878725062827,
          -0.2660602412255175,
          1.646259910223738,
          1.8005971402578238,
          -1.210293685648795,
          -0.4522423782105368,
          0.4567476600502909,
          1.3930048823179084,
          0.2072223848026172,
          0.6332124968747784,
          -1.3880857965038995,
          1.987635207109135,
          -0.992693168002227,
          -0.5082269973015238,
          0.4403931715663567,
          -1.4866772715183176,
          0.6426683638879613,
          0.6778864417024036,
          0.2211458414525818,
          -0.029785991329424652,
          0.6604793649030712,
          -1.3172685329935305,
          0.061259598483134725,
          -0.40628739096693317,
          -1.0786117555871804,
          -2.459949891065606,
          0.058595706402560455,
          0.5166845977099281,
          0.4436605818850999,
          0.9127365293860776,
          -0.9936011302758352,
          -1.0284535043950807,
          0.7193874352238564,
          0.19833013706556346,
          0.041628183160987306,
          0.4541679834133369,
          -1.5602230041741998,
          -0.772172041615176,
          0.15727133827918466,
          0.780274996711184,
          -1.3290121829172736,
          -0.3476287149663292,
          0.5469591287599925,
          -0.12694867546220384,
          0.24056843026883892,
          -2.7646992768771086,
          1.0658530548801204,
          0.14202684939502938
         ],
         "yaxis": "y13"
        },
        {
         "line": {
          "color": "rgba(128, 128, 128, 1.0)",
          "dash": "solid",
          "shape": "linear",
          "width": 1.3
         },
         "marker": {
          "size": 2,
          "symbol": "circle"
         },
         "mode": "markers",
         "name": "D",
         "text": "",
         "type": "scatter",
         "x": [
          0.39442564922170886,
          1.1545382861670683,
          -0.3981929049509391,
          1.0607053367391788,
          -1.0927982071594042,
          0.8938581864801937,
          0.10953427785913276,
          1.100603769799354,
          -0.037145165173287524,
          0.820385609335391,
          0.1757448574089021,
          -1.4281471214410326,
          1.3192507531473423,
          0.591642670955045,
          0.5229932990718201,
          0.13605660011946183,
          -0.2100106055939634,
          -0.5700547463822505,
          -0.3323261428045018,
          1.4377556274630496,
          0.14413892892924288,
          0.05300178117926253,
          0.15897168480049687,
          -0.4642246356303038,
          -0.062162694238745014,
          -0.404997912384452,
          -0.7201482218638331,
          2.023568952952069,
          -1.6214853359956733,
          0.542085407732597,
          0.5827569941618997,
          0.3776319435990386,
          0.7860509953709055,
          -0.5428417186393626,
          -0.6218017304368952,
          -0.01711816060498298,
          0.8909241978978917,
          -1.1794232525669857,
          -0.23428574473243066,
          0.6223056989779824,
          -0.13862316143162234,
          1.3989648648043242,
          -1.2881252741130682,
          0.7279631578004603,
          -0.048807113398033994,
          1.0394435684890488,
          -3.3911593703715184,
          -0.524115543518746,
          1.9491071278041052,
          0.07942048576898976,
          -0.6641974846295369,
          -1.0352913027794661,
          -0.6683730021861155,
          -2.0801704608528366,
          -0.6236871291314133,
          0.5545284284650903,
          0.09672761646458744,
          -0.957367126309057,
          -1.3015723703851805,
          0.529996087442483,
          0.36037265455029355,
          -0.825360660875962,
          1.6074276743204716,
          -2.125383315024735,
          0.2729482690721516,
          0.2648116479946539,
          -0.6484000338053134,
          -0.8529199767742717,
          -0.46666971985268213,
          -0.6044278288068219,
          0.6411021729993239,
          1.607115690297109,
          0.642969908406056,
          3.4880296066713408,
          1.5160479793033188,
          0.21650854966375002,
          1.1058470153140674,
          0.9089965059567509,
          -0.9594932219442222,
          -0.5825050989047242,
          -0.006558177721396607,
          1.2314458312022174,
          -0.445862995858089,
          0.32692197599067874,
          -0.16732624075897054,
          -0.06631960996464281,
          -0.5567444312996315,
          -1.2697328105510748,
          -0.6461202658830911,
          -1.6486385015803198,
          0.8697462032738772,
          1.071978584989495,
          1.0115715290572223,
          0.688291257034643,
          -0.4446104637134038,
          -1.370232127902445,
          0.711851270271103,
          -1.4409175804017305,
          0.17758469504751084,
          -0.3488266307639724
         ],
         "xaxis": "x14",
         "y": [
          -0.7710707494557274,
          0.9084215962844299,
          0.14867156693112518,
          1.091242440442385,
          -0.38136791739286025,
          2.6551377942985472,
          -0.542106532007221,
          0.0009897898929007354,
          1.025732698451324,
          1.0917364537662415,
          -0.06579851584724807,
          1.8484432768417098,
          -0.3399947465039237,
          -0.6562755405065582,
          0.9859146265234778,
          0.9181428936696494,
          0.560453175862377,
          0.6173219524497757,
          -0.4176234372666162,
          -0.08616974832048305,
          -0.006352829478318503,
          0.5136507964107583,
          0.15464554983258477,
          -0.4030269739726689,
          0.3296061099699754,
          -0.4648081650700848,
          -1.1636454990471916,
          0.8167962531838402,
          1.3782602913496587,
          -0.8339337883855852,
          0.866982803885244,
          0.6456966292631111,
          -1.65519664670503,
          -0.34483808667429844,
          1.1519480185389928,
          -0.42603916535007497,
          -1.3876296020701955,
          0.438502934561104,
          -0.34317189887749944,
          -0.2582968179968848,
          -1.6196419672168794,
          -0.32586548630627404,
          0.490437955843003,
          -0.016853814769800884,
          0.5704102851277636,
          -0.020673325863221778,
          1.4100771515518467,
          0.8309463411013209,
          1.3443492512121447,
          -1.8857520766945424,
          -0.09056980293285732,
          0.09138694227565757,
          1.3636878725062827,
          -0.2660602412255175,
          1.646259910223738,
          1.8005971402578238,
          -1.210293685648795,
          -0.4522423782105368,
          0.4567476600502909,
          1.3930048823179084,
          0.2072223848026172,
          0.6332124968747784,
          -1.3880857965038995,
          1.987635207109135,
          -0.992693168002227,
          -0.5082269973015238,
          0.4403931715663567,
          -1.4866772715183176,
          0.6426683638879613,
          0.6778864417024036,
          0.2211458414525818,
          -0.029785991329424652,
          0.6604793649030712,
          -1.3172685329935305,
          0.061259598483134725,
          -0.40628739096693317,
          -1.0786117555871804,
          -2.459949891065606,
          0.058595706402560455,
          0.5166845977099281,
          0.4436605818850999,
          0.9127365293860776,
          -0.9936011302758352,
          -1.0284535043950807,
          0.7193874352238564,
          0.19833013706556346,
          0.041628183160987306,
          0.4541679834133369,
          -1.5602230041741998,
          -0.772172041615176,
          0.15727133827918466,
          0.780274996711184,
          -1.3290121829172736,
          -0.3476287149663292,
          0.5469591287599925,
          -0.12694867546220384,
          0.24056843026883892,
          -2.7646992768771086,
          1.0658530548801204,
          0.14202684939502938
         ],
         "yaxis": "y14"
        },
        {
         "line": {
          "color": "rgba(128, 128, 128, 1.0)",
          "dash": "solid",
          "shape": "linear",
          "width": 1.3
         },
         "marker": {
          "size": 2,
          "symbol": "circle"
         },
         "mode": "markers",
         "name": "D",
         "text": "",
         "type": "scatter",
         "x": [
          0.5786488658973388,
          -1.3779481177244952,
          0.12365177369173536,
          -1.116511132468932,
          0.8058094735407533,
          -0.40434082821277284,
          1.0225385803330087,
          -0.6470938916080935,
          -0.3508677486533792,
          2.5013226025963746,
          -1.5259835252824552,
          -0.9829311652920717,
          0.23493446006915572,
          -0.9037615413233684,
          -1.3141707547165868,
          -1.5199657157915831,
          -0.7626795758174268,
          1.6073113400335521,
          0.3065045812678438,
          0.7670645741240087,
          -0.44191752142816326,
          -1.3298535843393218,
          -1.135700295184527,
          0.9297115141063347,
          0.6865778093810669,
          0.2906984631345525,
          -0.9865642416513182,
          0.7390830087985069,
          0.5873820481676423,
          -1.0539583164959976,
          0.5414419704915575,
          -0.11185761505217436,
          -0.07695780645157449,
          -2.1646462442630616,
          1.1851782283016816,
          -1.8572626824506342,
          0.44751835654226163,
          0.2377385201511963,
          0.0977471498017824,
          -0.346706646408973,
          0.3288034699452686,
          -0.241554375975574,
          0.23406958233434508,
          -1.2932583043575332,
          -0.0753563250462829,
          0.9227704330212433,
          -0.9932007883861261,
          0.8402493065090569,
          -1.7071908207317257,
          0.4353964002156085,
          0.8810442345722524,
          -1.2204230274097805,
          0.9178683103189221,
          -0.5616608195969544,
          -1.4997595699840784,
          -0.6205171225168257,
          1.078060164804285,
          1.0340481232295156,
          -0.7664258411313779,
          0.6926338816275318,
          1.8483024115450608,
          -0.9381821206856582,
          -0.31440988974655065,
          -0.5299400185069904,
          0.5028693025293436,
          -0.697868894664978,
          0.02223697002983274,
          0.77557394882186,
          0.8422756027790126,
          1.0019480005664712,
          -0.7245614241946116,
          -0.20870645294212087,
          -0.11179174927504838,
          -0.25709999871760897,
          -1.202771442521758,
          0.17460517244494234,
          -3.556830917028255,
          1.959280308579902,
          -0.20721381467702987,
          -0.004113041471365491,
          1.0467020240597704,
          -0.6563924493292402,
          -1.2702933876925069,
          -0.44861523437505996,
          0.23141073624629255,
          0.28912448864058354,
          -2.64152539481277,
          -0.37655621404335426,
          -0.9278540083113972,
          0.021633252663627364,
          0.4389105377440285,
          -0.316289308114846,
          -1.1468826225189952,
          -1.157161485137814,
          0.7742523737057712,
          1.0009994401994993,
          0.21047062378348677,
          -0.4760958934500705,
          -0.6458907785383571,
          -0.35137750023636594
         ],
         "xaxis": "x15",
         "y": [
          -0.7710707494557274,
          0.9084215962844299,
          0.14867156693112518,
          1.091242440442385,
          -0.38136791739286025,
          2.6551377942985472,
          -0.542106532007221,
          0.0009897898929007354,
          1.025732698451324,
          1.0917364537662415,
          -0.06579851584724807,
          1.8484432768417098,
          -0.3399947465039237,
          -0.6562755405065582,
          0.9859146265234778,
          0.9181428936696494,
          0.560453175862377,
          0.6173219524497757,
          -0.4176234372666162,
          -0.08616974832048305,
          -0.006352829478318503,
          0.5136507964107583,
          0.15464554983258477,
          -0.4030269739726689,
          0.3296061099699754,
          -0.4648081650700848,
          -1.1636454990471916,
          0.8167962531838402,
          1.3782602913496587,
          -0.8339337883855852,
          0.866982803885244,
          0.6456966292631111,
          -1.65519664670503,
          -0.34483808667429844,
          1.1519480185389928,
          -0.42603916535007497,
          -1.3876296020701955,
          0.438502934561104,
          -0.34317189887749944,
          -0.2582968179968848,
          -1.6196419672168794,
          -0.32586548630627404,
          0.490437955843003,
          -0.016853814769800884,
          0.5704102851277636,
          -0.020673325863221778,
          1.4100771515518467,
          0.8309463411013209,
          1.3443492512121447,
          -1.8857520766945424,
          -0.09056980293285732,
          0.09138694227565757,
          1.3636878725062827,
          -0.2660602412255175,
          1.646259910223738,
          1.8005971402578238,
          -1.210293685648795,
          -0.4522423782105368,
          0.4567476600502909,
          1.3930048823179084,
          0.2072223848026172,
          0.6332124968747784,
          -1.3880857965038995,
          1.987635207109135,
          -0.992693168002227,
          -0.5082269973015238,
          0.4403931715663567,
          -1.4866772715183176,
          0.6426683638879613,
          0.6778864417024036,
          0.2211458414525818,
          -0.029785991329424652,
          0.6604793649030712,
          -1.3172685329935305,
          0.061259598483134725,
          -0.40628739096693317,
          -1.0786117555871804,
          -2.459949891065606,
          0.058595706402560455,
          0.5166845977099281,
          0.4436605818850999,
          0.9127365293860776,
          -0.9936011302758352,
          -1.0284535043950807,
          0.7193874352238564,
          0.19833013706556346,
          0.041628183160987306,
          0.4541679834133369,
          -1.5602230041741998,
          -0.772172041615176,
          0.15727133827918466,
          0.780274996711184,
          -1.3290121829172736,
          -0.3476287149663292,
          0.5469591287599925,
          -0.12694867546220384,
          0.24056843026883892,
          -2.7646992768771086,
          1.0658530548801204,
          0.14202684939502938
         ],
         "yaxis": "y15"
        },
        {
         "histfunc": "count",
         "histnorm": "",
         "marker": {
          "color": "rgba(128, 0, 128, 1.0)",
          "line": {
           "color": "#4D5663",
           "width": 1.3
          }
         },
         "name": "D",
         "nbinsx": 10,
         "opacity": 0.8,
         "orientation": "v",
         "type": "histogram",
         "x": [
          -0.7710707494557274,
          0.9084215962844299,
          0.14867156693112518,
          1.091242440442385,
          -0.38136791739286025,
          2.6551377942985472,
          -0.542106532007221,
          0.0009897898929007354,
          1.025732698451324,
          1.0917364537662415,
          -0.06579851584724807,
          1.8484432768417098,
          -0.3399947465039237,
          -0.6562755405065582,
          0.9859146265234778,
          0.9181428936696494,
          0.560453175862377,
          0.6173219524497757,
          -0.4176234372666162,
          -0.08616974832048305,
          -0.006352829478318503,
          0.5136507964107583,
          0.15464554983258477,
          -0.4030269739726689,
          0.3296061099699754,
          -0.4648081650700848,
          -1.1636454990471916,
          0.8167962531838402,
          1.3782602913496587,
          -0.8339337883855852,
          0.866982803885244,
          0.6456966292631111,
          -1.65519664670503,
          -0.34483808667429844,
          1.1519480185389928,
          -0.42603916535007497,
          -1.3876296020701955,
          0.438502934561104,
          -0.34317189887749944,
          -0.2582968179968848,
          -1.6196419672168794,
          -0.32586548630627404,
          0.490437955843003,
          -0.016853814769800884,
          0.5704102851277636,
          -0.020673325863221778,
          1.4100771515518467,
          0.8309463411013209,
          1.3443492512121447,
          -1.8857520766945424,
          -0.09056980293285732,
          0.09138694227565757,
          1.3636878725062827,
          -0.2660602412255175,
          1.646259910223738,
          1.8005971402578238,
          -1.210293685648795,
          -0.4522423782105368,
          0.4567476600502909,
          1.3930048823179084,
          0.2072223848026172,
          0.6332124968747784,
          -1.3880857965038995,
          1.987635207109135,
          -0.992693168002227,
          -0.5082269973015238,
          0.4403931715663567,
          -1.4866772715183176,
          0.6426683638879613,
          0.6778864417024036,
          0.2211458414525818,
          -0.029785991329424652,
          0.6604793649030712,
          -1.3172685329935305,
          0.061259598483134725,
          -0.40628739096693317,
          -1.0786117555871804,
          -2.459949891065606,
          0.058595706402560455,
          0.5166845977099281,
          0.4436605818850999,
          0.9127365293860776,
          -0.9936011302758352,
          -1.0284535043950807,
          0.7193874352238564,
          0.19833013706556346,
          0.041628183160987306,
          0.4541679834133369,
          -1.5602230041741998,
          -0.772172041615176,
          0.15727133827918466,
          0.780274996711184,
          -1.3290121829172736,
          -0.3476287149663292,
          0.5469591287599925,
          -0.12694867546220384,
          0.24056843026883892,
          -2.7646992768771086,
          1.0658530548801204,
          0.14202684939502938
         ],
         "xaxis": "x16",
         "yaxis": "y16"
        }
       ],
       "layout": {
        "bargap": 0.02,
        "legend": {
         "bgcolor": "#F5F6F9",
         "font": {
          "color": "#4D5663"
         }
        },
        "paper_bgcolor": "#F5F6F9",
        "plot_bgcolor": "#F5F6F9",
        "showlegend": false,
        "template": {
         "data": {
          "bar": [
           {
            "error_x": {
             "color": "#2a3f5f"
            },
            "error_y": {
             "color": "#2a3f5f"
            },
            "marker": {
             "line": {
              "color": "#E5ECF6",
              "width": 0.5
             }
            },
            "type": "bar"
           }
          ],
          "barpolar": [
           {
            "marker": {
             "line": {
              "color": "#E5ECF6",
              "width": 0.5
             }
            },
            "type": "barpolar"
           }
          ],
          "carpet": [
           {
            "aaxis": {
             "endlinecolor": "#2a3f5f",
             "gridcolor": "white",
             "linecolor": "white",
             "minorgridcolor": "white",
             "startlinecolor": "#2a3f5f"
            },
            "baxis": {
             "endlinecolor": "#2a3f5f",
             "gridcolor": "white",
             "linecolor": "white",
             "minorgridcolor": "white",
             "startlinecolor": "#2a3f5f"
            },
            "type": "carpet"
           }
          ],
          "choropleth": [
           {
            "colorbar": {
             "outlinewidth": 0,
             "ticks": ""
            },
            "type": "choropleth"
           }
          ],
          "contour": [
           {
            "colorbar": {
             "outlinewidth": 0,
             "ticks": ""
            },
            "colorscale": [
             [
              0,
              "#0d0887"
             ],
             [
              0.1111111111111111,
              "#46039f"
             ],
             [
              0.2222222222222222,
              "#7201a8"
             ],
             [
              0.3333333333333333,
              "#9c179e"
             ],
             [
              0.4444444444444444,
              "#bd3786"
             ],
             [
              0.5555555555555556,
              "#d8576b"
             ],
             [
              0.6666666666666666,
              "#ed7953"
             ],
             [
              0.7777777777777778,
              "#fb9f3a"
             ],
             [
              0.8888888888888888,
              "#fdca26"
             ],
             [
              1,
              "#f0f921"
             ]
            ],
            "type": "contour"
           }
          ],
          "contourcarpet": [
           {
            "colorbar": {
             "outlinewidth": 0,
             "ticks": ""
            },
            "type": "contourcarpet"
           }
          ],
          "heatmap": [
           {
            "colorbar": {
             "outlinewidth": 0,
             "ticks": ""
            },
            "colorscale": [
             [
              0,
              "#0d0887"
             ],
             [
              0.1111111111111111,
              "#46039f"
             ],
             [
              0.2222222222222222,
              "#7201a8"
             ],
             [
              0.3333333333333333,
              "#9c179e"
             ],
             [
              0.4444444444444444,
              "#bd3786"
             ],
             [
              0.5555555555555556,
              "#d8576b"
             ],
             [
              0.6666666666666666,
              "#ed7953"
             ],
             [
              0.7777777777777778,
              "#fb9f3a"
             ],
             [
              0.8888888888888888,
              "#fdca26"
             ],
             [
              1,
              "#f0f921"
             ]
            ],
            "type": "heatmap"
           }
          ],
          "heatmapgl": [
           {
            "colorbar": {
             "outlinewidth": 0,
             "ticks": ""
            },
            "colorscale": [
             [
              0,
              "#0d0887"
             ],
             [
              0.1111111111111111,
              "#46039f"
             ],
             [
              0.2222222222222222,
              "#7201a8"
             ],
             [
              0.3333333333333333,
              "#9c179e"
             ],
             [
              0.4444444444444444,
              "#bd3786"
             ],
             [
              0.5555555555555556,
              "#d8576b"
             ],
             [
              0.6666666666666666,
              "#ed7953"
             ],
             [
              0.7777777777777778,
              "#fb9f3a"
             ],
             [
              0.8888888888888888,
              "#fdca26"
             ],
             [
              1,
              "#f0f921"
             ]
            ],
            "type": "heatmapgl"
           }
          ],
          "histogram": [
           {
            "marker": {
             "colorbar": {
              "outlinewidth": 0,
              "ticks": ""
             }
            },
            "type": "histogram"
           }
          ],
          "histogram2d": [
           {
            "colorbar": {
             "outlinewidth": 0,
             "ticks": ""
            },
            "colorscale": [
             [
              0,
              "#0d0887"
             ],
             [
              0.1111111111111111,
              "#46039f"
             ],
             [
              0.2222222222222222,
              "#7201a8"
             ],
             [
              0.3333333333333333,
              "#9c179e"
             ],
             [
              0.4444444444444444,
              "#bd3786"
             ],
             [
              0.5555555555555556,
              "#d8576b"
             ],
             [
              0.6666666666666666,
              "#ed7953"
             ],
             [
              0.7777777777777778,
              "#fb9f3a"
             ],
             [
              0.8888888888888888,
              "#fdca26"
             ],
             [
              1,
              "#f0f921"
             ]
            ],
            "type": "histogram2d"
           }
          ],
          "histogram2dcontour": [
           {
            "colorbar": {
             "outlinewidth": 0,
             "ticks": ""
            },
            "colorscale": [
             [
              0,
              "#0d0887"
             ],
             [
              0.1111111111111111,
              "#46039f"
             ],
             [
              0.2222222222222222,
              "#7201a8"
             ],
             [
              0.3333333333333333,
              "#9c179e"
             ],
             [
              0.4444444444444444,
              "#bd3786"
             ],
             [
              0.5555555555555556,
              "#d8576b"
             ],
             [
              0.6666666666666666,
              "#ed7953"
             ],
             [
              0.7777777777777778,
              "#fb9f3a"
             ],
             [
              0.8888888888888888,
              "#fdca26"
             ],
             [
              1,
              "#f0f921"
             ]
            ],
            "type": "histogram2dcontour"
           }
          ],
          "mesh3d": [
           {
            "colorbar": {
             "outlinewidth": 0,
             "ticks": ""
            },
            "type": "mesh3d"
           }
          ],
          "parcoords": [
           {
            "line": {
             "colorbar": {
              "outlinewidth": 0,
              "ticks": ""
             }
            },
            "type": "parcoords"
           }
          ],
          "pie": [
           {
            "automargin": true,
            "type": "pie"
           }
          ],
          "scatter": [
           {
            "marker": {
             "colorbar": {
              "outlinewidth": 0,
              "ticks": ""
             }
            },
            "type": "scatter"
           }
          ],
          "scatter3d": [
           {
            "line": {
             "colorbar": {
              "outlinewidth": 0,
              "ticks": ""
             }
            },
            "marker": {
             "colorbar": {
              "outlinewidth": 0,
              "ticks": ""
             }
            },
            "type": "scatter3d"
           }
          ],
          "scattercarpet": [
           {
            "marker": {
             "colorbar": {
              "outlinewidth": 0,
              "ticks": ""
             }
            },
            "type": "scattercarpet"
           }
          ],
          "scattergeo": [
           {
            "marker": {
             "colorbar": {
              "outlinewidth": 0,
              "ticks": ""
             }
            },
            "type": "scattergeo"
           }
          ],
          "scattergl": [
           {
            "marker": {
             "colorbar": {
              "outlinewidth": 0,
              "ticks": ""
             }
            },
            "type": "scattergl"
           }
          ],
          "scattermapbox": [
           {
            "marker": {
             "colorbar": {
              "outlinewidth": 0,
              "ticks": ""
             }
            },
            "type": "scattermapbox"
           }
          ],
          "scatterpolar": [
           {
            "marker": {
             "colorbar": {
              "outlinewidth": 0,
              "ticks": ""
             }
            },
            "type": "scatterpolar"
           }
          ],
          "scatterpolargl": [
           {
            "marker": {
             "colorbar": {
              "outlinewidth": 0,
              "ticks": ""
             }
            },
            "type": "scatterpolargl"
           }
          ],
          "scatterternary": [
           {
            "marker": {
             "colorbar": {
              "outlinewidth": 0,
              "ticks": ""
             }
            },
            "type": "scatterternary"
           }
          ],
          "surface": [
           {
            "colorbar": {
             "outlinewidth": 0,
             "ticks": ""
            },
            "colorscale": [
             [
              0,
              "#0d0887"
             ],
             [
              0.1111111111111111,
              "#46039f"
             ],
             [
              0.2222222222222222,
              "#7201a8"
             ],
             [
              0.3333333333333333,
              "#9c179e"
             ],
             [
              0.4444444444444444,
              "#bd3786"
             ],
             [
              0.5555555555555556,
              "#d8576b"
             ],
             [
              0.6666666666666666,
              "#ed7953"
             ],
             [
              0.7777777777777778,
              "#fb9f3a"
             ],
             [
              0.8888888888888888,
              "#fdca26"
             ],
             [
              1,
              "#f0f921"
             ]
            ],
            "type": "surface"
           }
          ],
          "table": [
           {
            "cells": {
             "fill": {
              "color": "#EBF0F8"
             },
             "line": {
              "color": "white"
             }
            },
            "header": {
             "fill": {
              "color": "#C8D4E3"
             },
             "line": {
              "color": "white"
             }
            },
            "type": "table"
           }
          ]
         },
         "layout": {
          "annotationdefaults": {
           "arrowcolor": "#2a3f5f",
           "arrowhead": 0,
           "arrowwidth": 1
          },
          "coloraxis": {
           "colorbar": {
            "outlinewidth": 0,
            "ticks": ""
           }
          },
          "colorscale": {
           "diverging": [
            [
             0,
             "#8e0152"
            ],
            [
             0.1,
             "#c51b7d"
            ],
            [
             0.2,
             "#de77ae"
            ],
            [
             0.3,
             "#f1b6da"
            ],
            [
             0.4,
             "#fde0ef"
            ],
            [
             0.5,
             "#f7f7f7"
            ],
            [
             0.6,
             "#e6f5d0"
            ],
            [
             0.7,
             "#b8e186"
            ],
            [
             0.8,
             "#7fbc41"
            ],
            [
             0.9,
             "#4d9221"
            ],
            [
             1,
             "#276419"
            ]
           ],
           "sequential": [
            [
             0,
             "#0d0887"
            ],
            [
             0.1111111111111111,
             "#46039f"
            ],
            [
             0.2222222222222222,
             "#7201a8"
            ],
            [
             0.3333333333333333,
             "#9c179e"
            ],
            [
             0.4444444444444444,
             "#bd3786"
            ],
            [
             0.5555555555555556,
             "#d8576b"
            ],
            [
             0.6666666666666666,
             "#ed7953"
            ],
            [
             0.7777777777777778,
             "#fb9f3a"
            ],
            [
             0.8888888888888888,
             "#fdca26"
            ],
            [
             1,
             "#f0f921"
            ]
           ],
           "sequentialminus": [
            [
             0,
             "#0d0887"
            ],
            [
             0.1111111111111111,
             "#46039f"
            ],
            [
             0.2222222222222222,
             "#7201a8"
            ],
            [
             0.3333333333333333,
             "#9c179e"
            ],
            [
             0.4444444444444444,
             "#bd3786"
            ],
            [
             0.5555555555555556,
             "#d8576b"
            ],
            [
             0.6666666666666666,
             "#ed7953"
            ],
            [
             0.7777777777777778,
             "#fb9f3a"
            ],
            [
             0.8888888888888888,
             "#fdca26"
            ],
            [
             1,
             "#f0f921"
            ]
           ]
          },
          "colorway": [
           "#636efa",
           "#EF553B",
           "#00cc96",
           "#ab63fa",
           "#FFA15A",
           "#19d3f3",
           "#FF6692",
           "#B6E880",
           "#FF97FF",
           "#FECB52"
          ],
          "font": {
           "color": "#2a3f5f"
          },
          "geo": {
           "bgcolor": "white",
           "lakecolor": "white",
           "landcolor": "#E5ECF6",
           "showlakes": true,
           "showland": true,
           "subunitcolor": "white"
          },
          "hoverlabel": {
           "align": "left"
          },
          "hovermode": "closest",
          "mapbox": {
           "style": "light"
          },
          "paper_bgcolor": "white",
          "plot_bgcolor": "#E5ECF6",
          "polar": {
           "angularaxis": {
            "gridcolor": "white",
            "linecolor": "white",
            "ticks": ""
           },
           "bgcolor": "#E5ECF6",
           "radialaxis": {
            "gridcolor": "white",
            "linecolor": "white",
            "ticks": ""
           }
          },
          "scene": {
           "xaxis": {
            "backgroundcolor": "#E5ECF6",
            "gridcolor": "white",
            "gridwidth": 2,
            "linecolor": "white",
            "showbackground": true,
            "ticks": "",
            "zerolinecolor": "white"
           },
           "yaxis": {
            "backgroundcolor": "#E5ECF6",
            "gridcolor": "white",
            "gridwidth": 2,
            "linecolor": "white",
            "showbackground": true,
            "ticks": "",
            "zerolinecolor": "white"
           },
           "zaxis": {
            "backgroundcolor": "#E5ECF6",
            "gridcolor": "white",
            "gridwidth": 2,
            "linecolor": "white",
            "showbackground": true,
            "ticks": "",
            "zerolinecolor": "white"
           }
          },
          "shapedefaults": {
           "line": {
            "color": "#2a3f5f"
           }
          },
          "ternary": {
           "aaxis": {
            "gridcolor": "white",
            "linecolor": "white",
            "ticks": ""
           },
           "baxis": {
            "gridcolor": "white",
            "linecolor": "white",
            "ticks": ""
           },
           "bgcolor": "#E5ECF6",
           "caxis": {
            "gridcolor": "white",
            "linecolor": "white",
            "ticks": ""
           }
          },
          "title": {
           "x": 0.05
          },
          "xaxis": {
           "automargin": true,
           "gridcolor": "white",
           "linecolor": "white",
           "ticks": "",
           "title": {
            "standoff": 15
           },
           "zerolinecolor": "white",
           "zerolinewidth": 2
          },
          "yaxis": {
           "automargin": true,
           "gridcolor": "white",
           "linecolor": "white",
           "ticks": "",
           "title": {
            "standoff": 15
           },
           "zerolinecolor": "white",
           "zerolinewidth": 2
          }
         }
        },
        "title": {
         "font": {
          "color": "#4D5663"
         }
        },
        "xaxis": {
         "anchor": "y",
         "domain": [
          0,
          0.2125
         ],
         "gridcolor": "#E1E5ED",
         "showgrid": false,
         "tickfont": {
          "color": "#4D5663"
         },
         "title": {
          "font": {
           "color": "#4D5663"
          },
          "text": ""
         },
         "zerolinecolor": "#E1E5ED"
        },
        "xaxis10": {
         "anchor": "y10",
         "domain": [
          0.2625,
          0.475
         ],
         "gridcolor": "#E1E5ED",
         "showgrid": false,
         "tickfont": {
          "color": "#4D5663"
         },
         "title": {
          "font": {
           "color": "#4D5663"
          },
          "text": ""
         },
         "zerolinecolor": "#E1E5ED"
        },
        "xaxis11": {
         "anchor": "y11",
         "domain": [
          0.525,
          0.7375
         ],
         "gridcolor": "#E1E5ED",
         "showgrid": false,
         "tickfont": {
          "color": "#4D5663"
         },
         "title": {
          "font": {
           "color": "#4D5663"
          },
          "text": ""
         },
         "zerolinecolor": "#E1E5ED"
        },
        "xaxis12": {
         "anchor": "y12",
         "domain": [
          0.7875,
          1
         ],
         "gridcolor": "#E1E5ED",
         "showgrid": false,
         "tickfont": {
          "color": "#4D5663"
         },
         "title": {
          "font": {
           "color": "#4D5663"
          },
          "text": ""
         },
         "zerolinecolor": "#E1E5ED"
        },
        "xaxis13": {
         "anchor": "y13",
         "domain": [
          0,
          0.2125
         ],
         "gridcolor": "#E1E5ED",
         "showgrid": false,
         "tickfont": {
          "color": "#4D5663"
         },
         "title": {
          "font": {
           "color": "#4D5663"
          },
          "text": ""
         },
         "zerolinecolor": "#E1E5ED"
        },
        "xaxis14": {
         "anchor": "y14",
         "domain": [
          0.2625,
          0.475
         ],
         "gridcolor": "#E1E5ED",
         "showgrid": false,
         "tickfont": {
          "color": "#4D5663"
         },
         "title": {
          "font": {
           "color": "#4D5663"
          },
          "text": ""
         },
         "zerolinecolor": "#E1E5ED"
        },
        "xaxis15": {
         "anchor": "y15",
         "domain": [
          0.525,
          0.7375
         ],
         "gridcolor": "#E1E5ED",
         "showgrid": false,
         "tickfont": {
          "color": "#4D5663"
         },
         "title": {
          "font": {
           "color": "#4D5663"
          },
          "text": ""
         },
         "zerolinecolor": "#E1E5ED"
        },
        "xaxis16": {
         "anchor": "y16",
         "domain": [
          0.7875,
          1
         ],
         "gridcolor": "#E1E5ED",
         "showgrid": false,
         "tickfont": {
          "color": "#4D5663"
         },
         "title": {
          "font": {
           "color": "#4D5663"
          },
          "text": ""
         },
         "zerolinecolor": "#E1E5ED"
        },
        "xaxis2": {
         "anchor": "y2",
         "domain": [
          0.2625,
          0.475
         ],
         "gridcolor": "#E1E5ED",
         "showgrid": false,
         "tickfont": {
          "color": "#4D5663"
         },
         "title": {
          "font": {
           "color": "#4D5663"
          },
          "text": ""
         },
         "zerolinecolor": "#E1E5ED"
        },
        "xaxis3": {
         "anchor": "y3",
         "domain": [
          0.525,
          0.7375
         ],
         "gridcolor": "#E1E5ED",
         "showgrid": false,
         "tickfont": {
          "color": "#4D5663"
         },
         "title": {
          "font": {
           "color": "#4D5663"
          },
          "text": ""
         },
         "zerolinecolor": "#E1E5ED"
        },
        "xaxis4": {
         "anchor": "y4",
         "domain": [
          0.7875,
          1
         ],
         "gridcolor": "#E1E5ED",
         "showgrid": false,
         "tickfont": {
          "color": "#4D5663"
         },
         "title": {
          "font": {
           "color": "#4D5663"
          },
          "text": ""
         },
         "zerolinecolor": "#E1E5ED"
        },
        "xaxis5": {
         "anchor": "y5",
         "domain": [
          0,
          0.2125
         ],
         "gridcolor": "#E1E5ED",
         "showgrid": false,
         "tickfont": {
          "color": "#4D5663"
         },
         "title": {
          "font": {
           "color": "#4D5663"
          },
          "text": ""
         },
         "zerolinecolor": "#E1E5ED"
        },
        "xaxis6": {
         "anchor": "y6",
         "domain": [
          0.2625,
          0.475
         ],
         "gridcolor": "#E1E5ED",
         "showgrid": false,
         "tickfont": {
          "color": "#4D5663"
         },
         "title": {
          "font": {
           "color": "#4D5663"
          },
          "text": ""
         },
         "zerolinecolor": "#E1E5ED"
        },
        "xaxis7": {
         "anchor": "y7",
         "domain": [
          0.525,
          0.7375
         ],
         "gridcolor": "#E1E5ED",
         "showgrid": false,
         "tickfont": {
          "color": "#4D5663"
         },
         "title": {
          "font": {
           "color": "#4D5663"
          },
          "text": ""
         },
         "zerolinecolor": "#E1E5ED"
        },
        "xaxis8": {
         "anchor": "y8",
         "domain": [
          0.7875,
          1
         ],
         "gridcolor": "#E1E5ED",
         "showgrid": false,
         "tickfont": {
          "color": "#4D5663"
         },
         "title": {
          "font": {
           "color": "#4D5663"
          },
          "text": ""
         },
         "zerolinecolor": "#E1E5ED"
        },
        "xaxis9": {
         "anchor": "y9",
         "domain": [
          0,
          0.2125
         ],
         "gridcolor": "#E1E5ED",
         "showgrid": false,
         "tickfont": {
          "color": "#4D5663"
         },
         "title": {
          "font": {
           "color": "#4D5663"
          },
          "text": ""
         },
         "zerolinecolor": "#E1E5ED"
        },
        "yaxis": {
         "anchor": "x",
         "domain": [
          0.8025,
          1
         ],
         "gridcolor": "#E1E5ED",
         "showgrid": false,
         "tickfont": {
          "color": "#4D5663"
         },
         "title": {
          "font": {
           "color": "#4D5663"
          },
          "text": ""
         },
         "zerolinecolor": "#E1E5ED"
        },
        "yaxis10": {
         "anchor": "x10",
         "domain": [
          0.2675,
          0.465
         ],
         "gridcolor": "#E1E5ED",
         "showgrid": false,
         "tickfont": {
          "color": "#4D5663"
         },
         "title": {
          "font": {
           "color": "#4D5663"
          },
          "text": ""
         },
         "zerolinecolor": "#E1E5ED"
        },
        "yaxis11": {
         "anchor": "x11",
         "domain": [
          0.2675,
          0.465
         ],
         "gridcolor": "#E1E5ED",
         "showgrid": false,
         "tickfont": {
          "color": "#4D5663"
         },
         "title": {
          "font": {
           "color": "#4D5663"
          },
          "text": ""
         },
         "zerolinecolor": "#E1E5ED"
        },
        "yaxis12": {
         "anchor": "x12",
         "domain": [
          0.2675,
          0.465
         ],
         "gridcolor": "#E1E5ED",
         "showgrid": false,
         "tickfont": {
          "color": "#4D5663"
         },
         "title": {
          "font": {
           "color": "#4D5663"
          },
          "text": ""
         },
         "zerolinecolor": "#E1E5ED"
        },
        "yaxis13": {
         "anchor": "x13",
         "domain": [
          0,
          0.1975
         ],
         "gridcolor": "#E1E5ED",
         "showgrid": false,
         "tickfont": {
          "color": "#4D5663"
         },
         "title": {
          "font": {
           "color": "#4D5663"
          },
          "text": ""
         },
         "zerolinecolor": "#E1E5ED"
        },
        "yaxis14": {
         "anchor": "x14",
         "domain": [
          0,
          0.1975
         ],
         "gridcolor": "#E1E5ED",
         "showgrid": false,
         "tickfont": {
          "color": "#4D5663"
         },
         "title": {
          "font": {
           "color": "#4D5663"
          },
          "text": ""
         },
         "zerolinecolor": "#E1E5ED"
        },
        "yaxis15": {
         "anchor": "x15",
         "domain": [
          0,
          0.1975
         ],
         "gridcolor": "#E1E5ED",
         "showgrid": false,
         "tickfont": {
          "color": "#4D5663"
         },
         "title": {
          "font": {
           "color": "#4D5663"
          },
          "text": ""
         },
         "zerolinecolor": "#E1E5ED"
        },
        "yaxis16": {
         "anchor": "x16",
         "domain": [
          0,
          0.1975
         ],
         "gridcolor": "#E1E5ED",
         "showgrid": false,
         "tickfont": {
          "color": "#4D5663"
         },
         "title": {
          "font": {
           "color": "#4D5663"
          },
          "text": ""
         },
         "zerolinecolor": "#E1E5ED"
        },
        "yaxis2": {
         "anchor": "x2",
         "domain": [
          0.8025,
          1
         ],
         "gridcolor": "#E1E5ED",
         "showgrid": false,
         "tickfont": {
          "color": "#4D5663"
         },
         "title": {
          "font": {
           "color": "#4D5663"
          },
          "text": ""
         },
         "zerolinecolor": "#E1E5ED"
        },
        "yaxis3": {
         "anchor": "x3",
         "domain": [
          0.8025,
          1
         ],
         "gridcolor": "#E1E5ED",
         "showgrid": false,
         "tickfont": {
          "color": "#4D5663"
         },
         "title": {
          "font": {
           "color": "#4D5663"
          },
          "text": ""
         },
         "zerolinecolor": "#E1E5ED"
        },
        "yaxis4": {
         "anchor": "x4",
         "domain": [
          0.8025,
          1
         ],
         "gridcolor": "#E1E5ED",
         "showgrid": false,
         "tickfont": {
          "color": "#4D5663"
         },
         "title": {
          "font": {
           "color": "#4D5663"
          },
          "text": ""
         },
         "zerolinecolor": "#E1E5ED"
        },
        "yaxis5": {
         "anchor": "x5",
         "domain": [
          0.535,
          0.7325
         ],
         "gridcolor": "#E1E5ED",
         "showgrid": false,
         "tickfont": {
          "color": "#4D5663"
         },
         "title": {
          "font": {
           "color": "#4D5663"
          },
          "text": ""
         },
         "zerolinecolor": "#E1E5ED"
        },
        "yaxis6": {
         "anchor": "x6",
         "domain": [
          0.535,
          0.7325
         ],
         "gridcolor": "#E1E5ED",
         "showgrid": false,
         "tickfont": {
          "color": "#4D5663"
         },
         "title": {
          "font": {
           "color": "#4D5663"
          },
          "text": ""
         },
         "zerolinecolor": "#E1E5ED"
        },
        "yaxis7": {
         "anchor": "x7",
         "domain": [
          0.535,
          0.7325
         ],
         "gridcolor": "#E1E5ED",
         "showgrid": false,
         "tickfont": {
          "color": "#4D5663"
         },
         "title": {
          "font": {
           "color": "#4D5663"
          },
          "text": ""
         },
         "zerolinecolor": "#E1E5ED"
        },
        "yaxis8": {
         "anchor": "x8",
         "domain": [
          0.535,
          0.7325
         ],
         "gridcolor": "#E1E5ED",
         "showgrid": false,
         "tickfont": {
          "color": "#4D5663"
         },
         "title": {
          "font": {
           "color": "#4D5663"
          },
          "text": ""
         },
         "zerolinecolor": "#E1E5ED"
        },
        "yaxis9": {
         "anchor": "x9",
         "domain": [
          0.2675,
          0.465
         ],
         "gridcolor": "#E1E5ED",
         "showgrid": false,
         "tickfont": {
          "color": "#4D5663"
         },
         "title": {
          "font": {
           "color": "#4D5663"
          },
          "text": ""
         },
         "zerolinecolor": "#E1E5ED"
        }
       }
      },
      "text/html": [
       "<div>\n",
       "        \n",
       "        \n",
       "            <div id=\"b449f026-cd19-4fd0-9fa6-a2178c0549fd\" class=\"plotly-graph-div\" style=\"height:525px; width:100%;\"></div>\n",
       "            <script type=\"text/javascript\">\n",
       "                require([\"plotly\"], function(Plotly) {\n",
       "                    window.PLOTLYENV=window.PLOTLYENV || {};\n",
       "                    window.PLOTLYENV.BASE_URL='https://plot.ly';\n",
       "                    \n",
       "                if (document.getElementById(\"b449f026-cd19-4fd0-9fa6-a2178c0549fd\")) {\n",
       "                    Plotly.newPlot(\n",
       "                        'b449f026-cd19-4fd0-9fa6-a2178c0549fd',\n",
       "                        [{\"histfunc\": \"count\", \"histnorm\": \"\", \"marker\": {\"color\": \"rgba(255, 153, 51, 1.0)\", \"line\": {\"color\": \"#4D5663\", \"width\": 1.3}}, \"name\": \"A\", \"nbinsx\": 10, \"opacity\": 0.8, \"orientation\": \"v\", \"type\": \"histogram\", \"x\": [-0.6070225586537845, -1.8638739423338426, -0.02945872276840593, -1.301291297310065, 0.48084833474018185, 0.7628548206270173, -0.28843164746247685, 0.6019043240278631, -0.8763709987921026, 1.702802294665911, 0.03894666378491089, -0.391247915748716, -0.3232684791801891, 0.5555540390983371, -0.5833873983870684, -0.0844703205455899, -0.5139830214610452, -0.9874331374104602, 1.3231224108983104, 1.3852294994314818, 0.495802931458785, 1.5044941738291178, 2.013539747855578, -0.9350456661961715, -0.07199477165247954, -0.012588234544470622, 1.0286702624831179, -0.30675308423320574, -2.0813241088469705, 0.9113534548782632, -1.1821295689927516, 0.39712861820350376, 0.32421117523347154, -1.388467161393341, -1.8196690472248764, 1.2781438676085672, 1.1244717635481953, 2.6878665336118686, -1.6109429503383526, -0.3309381064713909, 0.1012450075722931, -0.6927193028799976, -1.7779565769379178, -0.4937356719987772, -0.9214348954348198, 0.04960273216795757, -2.6493834985687386, -0.3863153542191854, -0.5203504684321614, 0.5977880177234898, 1.5935857254212724, 0.30130947631160576, -0.24209057064901562, 2.393932462989073, 0.48453201427412146, 1.1471246976281726, 1.2228406556961817, 1.0816068853591136, -0.7424208071880561, 0.7861844219733373, 0.7498272838099621, -0.025596103412613782, -0.8244905811186303, 0.6800258715624917, 0.5426539687452233, -0.3376995252397134, 0.4782136125101678, 1.61174979268537, -0.009447379791987958, 2.0385534852770575, 2.017903156882396, -0.04108963367107593, -0.37405806660701296, 1.6557536077103534, -0.9180687240107729, -1.3509762396010478, -1.3245247370933935, 0.1883981543352357, -1.007096270807894, 0.112857625621616, -0.03716265055480332, -1.3047337291461698, -1.8938223768162143, -0.05915120037142549, -0.022261006449155404, -2.2257467886082813, 0.299708338942967, -0.11551816567653965, -0.22224470630933316, 1.8203093144170124, -0.9809281853994635, 0.8258301853601936, 1.747369363537277, 0.4451763013778281, 0.8233981834134183, -0.37937479326251894, -1.4536121716892259, 1.1622792298167708, 0.2870601492366928, -1.3293818887641389], \"xaxis\": \"x\", \"yaxis\": \"y\"}, {\"line\": {\"color\": \"rgba(128, 128, 128, 1.0)\", \"dash\": \"solid\", \"shape\": \"linear\", \"width\": 1.3}, \"marker\": {\"size\": 2, \"symbol\": \"circle\"}, \"mode\": \"markers\", \"name\": \"A\", \"text\": \"\", \"type\": \"scatter\", \"x\": [0.39442564922170886, 1.1545382861670683, -0.3981929049509391, 1.0607053367391788, -1.0927982071594042, 0.8938581864801937, 0.10953427785913276, 1.100603769799354, -0.037145165173287524, 0.820385609335391, 0.1757448574089021, -1.4281471214410326, 1.3192507531473423, 0.591642670955045, 0.5229932990718201, 0.13605660011946183, -0.2100106055939634, -0.5700547463822505, -0.3323261428045018, 1.4377556274630496, 0.14413892892924288, 0.05300178117926253, 0.15897168480049687, -0.4642246356303038, -0.062162694238745014, -0.404997912384452, -0.7201482218638331, 2.023568952952069, -1.6214853359956733, 0.542085407732597, 0.5827569941618997, 0.3776319435990386, 0.7860509953709055, -0.5428417186393626, -0.6218017304368952, -0.01711816060498298, 0.8909241978978917, -1.1794232525669857, -0.23428574473243066, 0.6223056989779824, -0.13862316143162234, 1.3989648648043242, -1.2881252741130682, 0.7279631578004603, -0.048807113398033994, 1.0394435684890488, -3.3911593703715184, -0.524115543518746, 1.9491071278041052, 0.07942048576898976, -0.6641974846295369, -1.0352913027794661, -0.6683730021861155, -2.0801704608528366, -0.6236871291314133, 0.5545284284650903, 0.09672761646458744, -0.957367126309057, -1.3015723703851805, 0.529996087442483, 0.36037265455029355, -0.825360660875962, 1.6074276743204716, -2.125383315024735, 0.2729482690721516, 0.2648116479946539, -0.6484000338053134, -0.8529199767742717, -0.46666971985268213, -0.6044278288068219, 0.6411021729993239, 1.607115690297109, 0.642969908406056, 3.4880296066713408, 1.5160479793033188, 0.21650854966375002, 1.1058470153140674, 0.9089965059567509, -0.9594932219442222, -0.5825050989047242, -0.006558177721396607, 1.2314458312022174, -0.445862995858089, 0.32692197599067874, -0.16732624075897054, -0.06631960996464281, -0.5567444312996315, -1.2697328105510748, -0.6461202658830911, -1.6486385015803198, 0.8697462032738772, 1.071978584989495, 1.0115715290572223, 0.688291257034643, -0.4446104637134038, -1.370232127902445, 0.711851270271103, -1.4409175804017305, 0.17758469504751084, -0.3488266307639724], \"xaxis\": \"x2\", \"y\": [-0.6070225586537845, -1.8638739423338426, -0.02945872276840593, -1.301291297310065, 0.48084833474018185, 0.7628548206270173, -0.28843164746247685, 0.6019043240278631, -0.8763709987921026, 1.702802294665911, 0.03894666378491089, -0.391247915748716, -0.3232684791801891, 0.5555540390983371, -0.5833873983870684, -0.0844703205455899, -0.5139830214610452, -0.9874331374104602, 1.3231224108983104, 1.3852294994314818, 0.495802931458785, 1.5044941738291178, 2.013539747855578, -0.9350456661961715, -0.07199477165247954, -0.012588234544470622, 1.0286702624831179, -0.30675308423320574, -2.0813241088469705, 0.9113534548782632, -1.1821295689927516, 0.39712861820350376, 0.32421117523347154, -1.388467161393341, -1.8196690472248764, 1.2781438676085672, 1.1244717635481953, 2.6878665336118686, -1.6109429503383526, -0.3309381064713909, 0.1012450075722931, -0.6927193028799976, -1.7779565769379178, -0.4937356719987772, -0.9214348954348198, 0.04960273216795757, -2.6493834985687386, -0.3863153542191854, -0.5203504684321614, 0.5977880177234898, 1.5935857254212724, 0.30130947631160576, -0.24209057064901562, 2.393932462989073, 0.48453201427412146, 1.1471246976281726, 1.2228406556961817, 1.0816068853591136, -0.7424208071880561, 0.7861844219733373, 0.7498272838099621, -0.025596103412613782, -0.8244905811186303, 0.6800258715624917, 0.5426539687452233, -0.3376995252397134, 0.4782136125101678, 1.61174979268537, -0.009447379791987958, 2.0385534852770575, 2.017903156882396, -0.04108963367107593, -0.37405806660701296, 1.6557536077103534, -0.9180687240107729, -1.3509762396010478, -1.3245247370933935, 0.1883981543352357, -1.007096270807894, 0.112857625621616, -0.03716265055480332, -1.3047337291461698, -1.8938223768162143, -0.05915120037142549, -0.022261006449155404, -2.2257467886082813, 0.299708338942967, -0.11551816567653965, -0.22224470630933316, 1.8203093144170124, -0.9809281853994635, 0.8258301853601936, 1.747369363537277, 0.4451763013778281, 0.8233981834134183, -0.37937479326251894, -1.4536121716892259, 1.1622792298167708, 0.2870601492366928, -1.3293818887641389], \"yaxis\": \"y2\"}, {\"line\": {\"color\": \"rgba(128, 128, 128, 1.0)\", \"dash\": \"solid\", \"shape\": \"linear\", \"width\": 1.3}, \"marker\": {\"size\": 2, \"symbol\": \"circle\"}, \"mode\": \"markers\", \"name\": \"A\", \"text\": \"\", \"type\": \"scatter\", \"x\": [0.5786488658973388, -1.3779481177244952, 0.12365177369173536, -1.116511132468932, 0.8058094735407533, -0.40434082821277284, 1.0225385803330087, -0.6470938916080935, -0.3508677486533792, 2.5013226025963746, -1.5259835252824552, -0.9829311652920717, 0.23493446006915572, -0.9037615413233684, -1.3141707547165868, -1.5199657157915831, -0.7626795758174268, 1.6073113400335521, 0.3065045812678438, 0.7670645741240087, -0.44191752142816326, -1.3298535843393218, -1.135700295184527, 0.9297115141063347, 0.6865778093810669, 0.2906984631345525, -0.9865642416513182, 0.7390830087985069, 0.5873820481676423, -1.0539583164959976, 0.5414419704915575, -0.11185761505217436, -0.07695780645157449, -2.1646462442630616, 1.1851782283016816, -1.8572626824506342, 0.44751835654226163, 0.2377385201511963, 0.0977471498017824, -0.346706646408973, 0.3288034699452686, -0.241554375975574, 0.23406958233434508, -1.2932583043575332, -0.0753563250462829, 0.9227704330212433, -0.9932007883861261, 0.8402493065090569, -1.7071908207317257, 0.4353964002156085, 0.8810442345722524, -1.2204230274097805, 0.9178683103189221, -0.5616608195969544, -1.4997595699840784, -0.6205171225168257, 1.078060164804285, 1.0340481232295156, -0.7664258411313779, 0.6926338816275318, 1.8483024115450608, -0.9381821206856582, -0.31440988974655065, -0.5299400185069904, 0.5028693025293436, -0.697868894664978, 0.02223697002983274, 0.77557394882186, 0.8422756027790126, 1.0019480005664712, -0.7245614241946116, -0.20870645294212087, -0.11179174927504838, -0.25709999871760897, -1.202771442521758, 0.17460517244494234, -3.556830917028255, 1.959280308579902, -0.20721381467702987, -0.004113041471365491, 1.0467020240597704, -0.6563924493292402, -1.2702933876925069, -0.44861523437505996, 0.23141073624629255, 0.28912448864058354, -2.64152539481277, -0.37655621404335426, -0.9278540083113972, 0.021633252663627364, 0.4389105377440285, -0.316289308114846, -1.1468826225189952, -1.157161485137814, 0.7742523737057712, 1.0009994401994993, 0.21047062378348677, -0.4760958934500705, -0.6458907785383571, -0.35137750023636594], \"xaxis\": \"x3\", \"y\": [-0.6070225586537845, -1.8638739423338426, -0.02945872276840593, -1.301291297310065, 0.48084833474018185, 0.7628548206270173, -0.28843164746247685, 0.6019043240278631, -0.8763709987921026, 1.702802294665911, 0.03894666378491089, -0.391247915748716, -0.3232684791801891, 0.5555540390983371, -0.5833873983870684, -0.0844703205455899, -0.5139830214610452, -0.9874331374104602, 1.3231224108983104, 1.3852294994314818, 0.495802931458785, 1.5044941738291178, 2.013539747855578, -0.9350456661961715, -0.07199477165247954, -0.012588234544470622, 1.0286702624831179, -0.30675308423320574, -2.0813241088469705, 0.9113534548782632, -1.1821295689927516, 0.39712861820350376, 0.32421117523347154, -1.388467161393341, -1.8196690472248764, 1.2781438676085672, 1.1244717635481953, 2.6878665336118686, -1.6109429503383526, -0.3309381064713909, 0.1012450075722931, -0.6927193028799976, -1.7779565769379178, -0.4937356719987772, -0.9214348954348198, 0.04960273216795757, -2.6493834985687386, -0.3863153542191854, -0.5203504684321614, 0.5977880177234898, 1.5935857254212724, 0.30130947631160576, -0.24209057064901562, 2.393932462989073, 0.48453201427412146, 1.1471246976281726, 1.2228406556961817, 1.0816068853591136, -0.7424208071880561, 0.7861844219733373, 0.7498272838099621, -0.025596103412613782, -0.8244905811186303, 0.6800258715624917, 0.5426539687452233, -0.3376995252397134, 0.4782136125101678, 1.61174979268537, -0.009447379791987958, 2.0385534852770575, 2.017903156882396, -0.04108963367107593, -0.37405806660701296, 1.6557536077103534, -0.9180687240107729, -1.3509762396010478, -1.3245247370933935, 0.1883981543352357, -1.007096270807894, 0.112857625621616, -0.03716265055480332, -1.3047337291461698, -1.8938223768162143, -0.05915120037142549, -0.022261006449155404, -2.2257467886082813, 0.299708338942967, -0.11551816567653965, -0.22224470630933316, 1.8203093144170124, -0.9809281853994635, 0.8258301853601936, 1.747369363537277, 0.4451763013778281, 0.8233981834134183, -0.37937479326251894, -1.4536121716892259, 1.1622792298167708, 0.2870601492366928, -1.3293818887641389], \"yaxis\": \"y3\"}, {\"line\": {\"color\": \"rgba(128, 128, 128, 1.0)\", \"dash\": \"solid\", \"shape\": \"linear\", \"width\": 1.3}, \"marker\": {\"size\": 2, \"symbol\": \"circle\"}, \"mode\": \"markers\", \"name\": \"A\", \"text\": \"\", \"type\": \"scatter\", \"x\": [-0.7710707494557274, 0.9084215962844299, 0.14867156693112518, 1.091242440442385, -0.38136791739286025, 2.6551377942985472, -0.542106532007221, 0.0009897898929007354, 1.025732698451324, 1.0917364537662415, -0.06579851584724807, 1.8484432768417098, -0.3399947465039237, -0.6562755405065582, 0.9859146265234778, 0.9181428936696494, 0.560453175862377, 0.6173219524497757, -0.4176234372666162, -0.08616974832048305, -0.006352829478318503, 0.5136507964107583, 0.15464554983258477, -0.4030269739726689, 0.3296061099699754, -0.4648081650700848, -1.1636454990471916, 0.8167962531838402, 1.3782602913496587, -0.8339337883855852, 0.866982803885244, 0.6456966292631111, -1.65519664670503, -0.34483808667429844, 1.1519480185389928, -0.42603916535007497, -1.3876296020701955, 0.438502934561104, -0.34317189887749944, -0.2582968179968848, -1.6196419672168794, -0.32586548630627404, 0.490437955843003, -0.016853814769800884, 0.5704102851277636, -0.020673325863221778, 1.4100771515518467, 0.8309463411013209, 1.3443492512121447, -1.8857520766945424, -0.09056980293285732, 0.09138694227565757, 1.3636878725062827, -0.2660602412255175, 1.646259910223738, 1.8005971402578238, -1.210293685648795, -0.4522423782105368, 0.4567476600502909, 1.3930048823179084, 0.2072223848026172, 0.6332124968747784, -1.3880857965038995, 1.987635207109135, -0.992693168002227, -0.5082269973015238, 0.4403931715663567, -1.4866772715183176, 0.6426683638879613, 0.6778864417024036, 0.2211458414525818, -0.029785991329424652, 0.6604793649030712, -1.3172685329935305, 0.061259598483134725, -0.40628739096693317, -1.0786117555871804, -2.459949891065606, 0.058595706402560455, 0.5166845977099281, 0.4436605818850999, 0.9127365293860776, -0.9936011302758352, -1.0284535043950807, 0.7193874352238564, 0.19833013706556346, 0.041628183160987306, 0.4541679834133369, -1.5602230041741998, -0.772172041615176, 0.15727133827918466, 0.780274996711184, -1.3290121829172736, -0.3476287149663292, 0.5469591287599925, -0.12694867546220384, 0.24056843026883892, -2.7646992768771086, 1.0658530548801204, 0.14202684939502938], \"xaxis\": \"x4\", \"y\": [-0.6070225586537845, -1.8638739423338426, -0.02945872276840593, -1.301291297310065, 0.48084833474018185, 0.7628548206270173, -0.28843164746247685, 0.6019043240278631, -0.8763709987921026, 1.702802294665911, 0.03894666378491089, -0.391247915748716, -0.3232684791801891, 0.5555540390983371, -0.5833873983870684, -0.0844703205455899, -0.5139830214610452, -0.9874331374104602, 1.3231224108983104, 1.3852294994314818, 0.495802931458785, 1.5044941738291178, 2.013539747855578, -0.9350456661961715, -0.07199477165247954, -0.012588234544470622, 1.0286702624831179, -0.30675308423320574, -2.0813241088469705, 0.9113534548782632, -1.1821295689927516, 0.39712861820350376, 0.32421117523347154, -1.388467161393341, -1.8196690472248764, 1.2781438676085672, 1.1244717635481953, 2.6878665336118686, -1.6109429503383526, -0.3309381064713909, 0.1012450075722931, -0.6927193028799976, -1.7779565769379178, -0.4937356719987772, -0.9214348954348198, 0.04960273216795757, -2.6493834985687386, -0.3863153542191854, -0.5203504684321614, 0.5977880177234898, 1.5935857254212724, 0.30130947631160576, -0.24209057064901562, 2.393932462989073, 0.48453201427412146, 1.1471246976281726, 1.2228406556961817, 1.0816068853591136, -0.7424208071880561, 0.7861844219733373, 0.7498272838099621, -0.025596103412613782, -0.8244905811186303, 0.6800258715624917, 0.5426539687452233, -0.3376995252397134, 0.4782136125101678, 1.61174979268537, -0.009447379791987958, 2.0385534852770575, 2.017903156882396, -0.04108963367107593, -0.37405806660701296, 1.6557536077103534, -0.9180687240107729, -1.3509762396010478, -1.3245247370933935, 0.1883981543352357, -1.007096270807894, 0.112857625621616, -0.03716265055480332, -1.3047337291461698, -1.8938223768162143, -0.05915120037142549, -0.022261006449155404, -2.2257467886082813, 0.299708338942967, -0.11551816567653965, -0.22224470630933316, 1.8203093144170124, -0.9809281853994635, 0.8258301853601936, 1.747369363537277, 0.4451763013778281, 0.8233981834134183, -0.37937479326251894, -1.4536121716892259, 1.1622792298167708, 0.2870601492366928, -1.3293818887641389], \"yaxis\": \"y4\"}, {\"line\": {\"color\": \"rgba(128, 128, 128, 1.0)\", \"dash\": \"solid\", \"shape\": \"linear\", \"width\": 1.3}, \"marker\": {\"size\": 2, \"symbol\": \"circle\"}, \"mode\": \"markers\", \"name\": \"B\", \"text\": \"\", \"type\": \"scatter\", \"x\": [-0.6070225586537845, -1.8638739423338426, -0.02945872276840593, -1.301291297310065, 0.48084833474018185, 0.7628548206270173, -0.28843164746247685, 0.6019043240278631, -0.8763709987921026, 1.702802294665911, 0.03894666378491089, -0.391247915748716, -0.3232684791801891, 0.5555540390983371, -0.5833873983870684, -0.0844703205455899, -0.5139830214610452, -0.9874331374104602, 1.3231224108983104, 1.3852294994314818, 0.495802931458785, 1.5044941738291178, 2.013539747855578, -0.9350456661961715, -0.07199477165247954, -0.012588234544470622, 1.0286702624831179, -0.30675308423320574, -2.0813241088469705, 0.9113534548782632, -1.1821295689927516, 0.39712861820350376, 0.32421117523347154, -1.388467161393341, -1.8196690472248764, 1.2781438676085672, 1.1244717635481953, 2.6878665336118686, -1.6109429503383526, -0.3309381064713909, 0.1012450075722931, -0.6927193028799976, -1.7779565769379178, -0.4937356719987772, -0.9214348954348198, 0.04960273216795757, -2.6493834985687386, -0.3863153542191854, -0.5203504684321614, 0.5977880177234898, 1.5935857254212724, 0.30130947631160576, -0.24209057064901562, 2.393932462989073, 0.48453201427412146, 1.1471246976281726, 1.2228406556961817, 1.0816068853591136, -0.7424208071880561, 0.7861844219733373, 0.7498272838099621, -0.025596103412613782, -0.8244905811186303, 0.6800258715624917, 0.5426539687452233, -0.3376995252397134, 0.4782136125101678, 1.61174979268537, -0.009447379791987958, 2.0385534852770575, 2.017903156882396, -0.04108963367107593, -0.37405806660701296, 1.6557536077103534, -0.9180687240107729, -1.3509762396010478, -1.3245247370933935, 0.1883981543352357, -1.007096270807894, 0.112857625621616, -0.03716265055480332, -1.3047337291461698, -1.8938223768162143, -0.05915120037142549, -0.022261006449155404, -2.2257467886082813, 0.299708338942967, -0.11551816567653965, -0.22224470630933316, 1.8203093144170124, -0.9809281853994635, 0.8258301853601936, 1.747369363537277, 0.4451763013778281, 0.8233981834134183, -0.37937479326251894, -1.4536121716892259, 1.1622792298167708, 0.2870601492366928, -1.3293818887641389], \"xaxis\": \"x5\", \"y\": [0.39442564922170886, 1.1545382861670683, -0.3981929049509391, 1.0607053367391788, -1.0927982071594042, 0.8938581864801937, 0.10953427785913276, 1.100603769799354, -0.037145165173287524, 0.820385609335391, 0.1757448574089021, -1.4281471214410326, 1.3192507531473423, 0.591642670955045, 0.5229932990718201, 0.13605660011946183, -0.2100106055939634, -0.5700547463822505, -0.3323261428045018, 1.4377556274630496, 0.14413892892924288, 0.05300178117926253, 0.15897168480049687, -0.4642246356303038, -0.062162694238745014, -0.404997912384452, -0.7201482218638331, 2.023568952952069, -1.6214853359956733, 0.542085407732597, 0.5827569941618997, 0.3776319435990386, 0.7860509953709055, -0.5428417186393626, -0.6218017304368952, -0.01711816060498298, 0.8909241978978917, -1.1794232525669857, -0.23428574473243066, 0.6223056989779824, -0.13862316143162234, 1.3989648648043242, -1.2881252741130682, 0.7279631578004603, -0.048807113398033994, 1.0394435684890488, -3.3911593703715184, -0.524115543518746, 1.9491071278041052, 0.07942048576898976, -0.6641974846295369, -1.0352913027794661, -0.6683730021861155, -2.0801704608528366, -0.6236871291314133, 0.5545284284650903, 0.09672761646458744, -0.957367126309057, -1.3015723703851805, 0.529996087442483, 0.36037265455029355, -0.825360660875962, 1.6074276743204716, -2.125383315024735, 0.2729482690721516, 0.2648116479946539, -0.6484000338053134, -0.8529199767742717, -0.46666971985268213, -0.6044278288068219, 0.6411021729993239, 1.607115690297109, 0.642969908406056, 3.4880296066713408, 1.5160479793033188, 0.21650854966375002, 1.1058470153140674, 0.9089965059567509, -0.9594932219442222, -0.5825050989047242, -0.006558177721396607, 1.2314458312022174, -0.445862995858089, 0.32692197599067874, -0.16732624075897054, -0.06631960996464281, -0.5567444312996315, -1.2697328105510748, -0.6461202658830911, -1.6486385015803198, 0.8697462032738772, 1.071978584989495, 1.0115715290572223, 0.688291257034643, -0.4446104637134038, -1.370232127902445, 0.711851270271103, -1.4409175804017305, 0.17758469504751084, -0.3488266307639724], \"yaxis\": \"y5\"}, {\"histfunc\": \"count\", \"histnorm\": \"\", \"marker\": {\"color\": \"rgba(55, 128, 191, 1.0)\", \"line\": {\"color\": \"#4D5663\", \"width\": 1.3}}, \"name\": \"B\", \"nbinsx\": 10, \"opacity\": 0.8, \"orientation\": \"v\", \"type\": \"histogram\", \"x\": [0.39442564922170886, 1.1545382861670683, -0.3981929049509391, 1.0607053367391788, -1.0927982071594042, 0.8938581864801937, 0.10953427785913276, 1.100603769799354, -0.037145165173287524, 0.820385609335391, 0.1757448574089021, -1.4281471214410326, 1.3192507531473423, 0.591642670955045, 0.5229932990718201, 0.13605660011946183, -0.2100106055939634, -0.5700547463822505, -0.3323261428045018, 1.4377556274630496, 0.14413892892924288, 0.05300178117926253, 0.15897168480049687, -0.4642246356303038, -0.062162694238745014, -0.404997912384452, -0.7201482218638331, 2.023568952952069, -1.6214853359956733, 0.542085407732597, 0.5827569941618997, 0.3776319435990386, 0.7860509953709055, -0.5428417186393626, -0.6218017304368952, -0.01711816060498298, 0.8909241978978917, -1.1794232525669857, -0.23428574473243066, 0.6223056989779824, -0.13862316143162234, 1.3989648648043242, -1.2881252741130682, 0.7279631578004603, -0.048807113398033994, 1.0394435684890488, -3.3911593703715184, -0.524115543518746, 1.9491071278041052, 0.07942048576898976, -0.6641974846295369, -1.0352913027794661, -0.6683730021861155, -2.0801704608528366, -0.6236871291314133, 0.5545284284650903, 0.09672761646458744, -0.957367126309057, -1.3015723703851805, 0.529996087442483, 0.36037265455029355, -0.825360660875962, 1.6074276743204716, -2.125383315024735, 0.2729482690721516, 0.2648116479946539, -0.6484000338053134, -0.8529199767742717, -0.46666971985268213, -0.6044278288068219, 0.6411021729993239, 1.607115690297109, 0.642969908406056, 3.4880296066713408, 1.5160479793033188, 0.21650854966375002, 1.1058470153140674, 0.9089965059567509, -0.9594932219442222, -0.5825050989047242, -0.006558177721396607, 1.2314458312022174, -0.445862995858089, 0.32692197599067874, -0.16732624075897054, -0.06631960996464281, -0.5567444312996315, -1.2697328105510748, -0.6461202658830911, -1.6486385015803198, 0.8697462032738772, 1.071978584989495, 1.0115715290572223, 0.688291257034643, -0.4446104637134038, -1.370232127902445, 0.711851270271103, -1.4409175804017305, 0.17758469504751084, -0.3488266307639724], \"xaxis\": \"x6\", \"yaxis\": \"y6\"}, {\"line\": {\"color\": \"rgba(128, 128, 128, 1.0)\", \"dash\": \"solid\", \"shape\": \"linear\", \"width\": 1.3}, \"marker\": {\"size\": 2, \"symbol\": \"circle\"}, \"mode\": \"markers\", \"name\": \"B\", \"text\": \"\", \"type\": \"scatter\", \"x\": [0.5786488658973388, -1.3779481177244952, 0.12365177369173536, -1.116511132468932, 0.8058094735407533, -0.40434082821277284, 1.0225385803330087, -0.6470938916080935, -0.3508677486533792, 2.5013226025963746, -1.5259835252824552, -0.9829311652920717, 0.23493446006915572, -0.9037615413233684, -1.3141707547165868, -1.5199657157915831, -0.7626795758174268, 1.6073113400335521, 0.3065045812678438, 0.7670645741240087, -0.44191752142816326, -1.3298535843393218, -1.135700295184527, 0.9297115141063347, 0.6865778093810669, 0.2906984631345525, -0.9865642416513182, 0.7390830087985069, 0.5873820481676423, -1.0539583164959976, 0.5414419704915575, -0.11185761505217436, -0.07695780645157449, -2.1646462442630616, 1.1851782283016816, -1.8572626824506342, 0.44751835654226163, 0.2377385201511963, 0.0977471498017824, -0.346706646408973, 0.3288034699452686, -0.241554375975574, 0.23406958233434508, -1.2932583043575332, -0.0753563250462829, 0.9227704330212433, -0.9932007883861261, 0.8402493065090569, -1.7071908207317257, 0.4353964002156085, 0.8810442345722524, -1.2204230274097805, 0.9178683103189221, -0.5616608195969544, -1.4997595699840784, -0.6205171225168257, 1.078060164804285, 1.0340481232295156, -0.7664258411313779, 0.6926338816275318, 1.8483024115450608, -0.9381821206856582, -0.31440988974655065, -0.5299400185069904, 0.5028693025293436, -0.697868894664978, 0.02223697002983274, 0.77557394882186, 0.8422756027790126, 1.0019480005664712, -0.7245614241946116, -0.20870645294212087, -0.11179174927504838, -0.25709999871760897, -1.202771442521758, 0.17460517244494234, -3.556830917028255, 1.959280308579902, -0.20721381467702987, -0.004113041471365491, 1.0467020240597704, -0.6563924493292402, -1.2702933876925069, -0.44861523437505996, 0.23141073624629255, 0.28912448864058354, -2.64152539481277, -0.37655621404335426, -0.9278540083113972, 0.021633252663627364, 0.4389105377440285, -0.316289308114846, -1.1468826225189952, -1.157161485137814, 0.7742523737057712, 1.0009994401994993, 0.21047062378348677, -0.4760958934500705, -0.6458907785383571, -0.35137750023636594], \"xaxis\": \"x7\", \"y\": [0.39442564922170886, 1.1545382861670683, -0.3981929049509391, 1.0607053367391788, -1.0927982071594042, 0.8938581864801937, 0.10953427785913276, 1.100603769799354, -0.037145165173287524, 0.820385609335391, 0.1757448574089021, -1.4281471214410326, 1.3192507531473423, 0.591642670955045, 0.5229932990718201, 0.13605660011946183, -0.2100106055939634, -0.5700547463822505, -0.3323261428045018, 1.4377556274630496, 0.14413892892924288, 0.05300178117926253, 0.15897168480049687, -0.4642246356303038, -0.062162694238745014, -0.404997912384452, -0.7201482218638331, 2.023568952952069, -1.6214853359956733, 0.542085407732597, 0.5827569941618997, 0.3776319435990386, 0.7860509953709055, -0.5428417186393626, -0.6218017304368952, -0.01711816060498298, 0.8909241978978917, -1.1794232525669857, -0.23428574473243066, 0.6223056989779824, -0.13862316143162234, 1.3989648648043242, -1.2881252741130682, 0.7279631578004603, -0.048807113398033994, 1.0394435684890488, -3.3911593703715184, -0.524115543518746, 1.9491071278041052, 0.07942048576898976, -0.6641974846295369, -1.0352913027794661, -0.6683730021861155, -2.0801704608528366, -0.6236871291314133, 0.5545284284650903, 0.09672761646458744, -0.957367126309057, -1.3015723703851805, 0.529996087442483, 0.36037265455029355, -0.825360660875962, 1.6074276743204716, -2.125383315024735, 0.2729482690721516, 0.2648116479946539, -0.6484000338053134, -0.8529199767742717, -0.46666971985268213, -0.6044278288068219, 0.6411021729993239, 1.607115690297109, 0.642969908406056, 3.4880296066713408, 1.5160479793033188, 0.21650854966375002, 1.1058470153140674, 0.9089965059567509, -0.9594932219442222, -0.5825050989047242, -0.006558177721396607, 1.2314458312022174, -0.445862995858089, 0.32692197599067874, -0.16732624075897054, -0.06631960996464281, -0.5567444312996315, -1.2697328105510748, -0.6461202658830911, -1.6486385015803198, 0.8697462032738772, 1.071978584989495, 1.0115715290572223, 0.688291257034643, -0.4446104637134038, -1.370232127902445, 0.711851270271103, -1.4409175804017305, 0.17758469504751084, -0.3488266307639724], \"yaxis\": \"y7\"}, {\"line\": {\"color\": \"rgba(128, 128, 128, 1.0)\", \"dash\": \"solid\", \"shape\": \"linear\", \"width\": 1.3}, \"marker\": {\"size\": 2, \"symbol\": \"circle\"}, \"mode\": \"markers\", \"name\": \"B\", \"text\": \"\", \"type\": \"scatter\", \"x\": [-0.7710707494557274, 0.9084215962844299, 0.14867156693112518, 1.091242440442385, -0.38136791739286025, 2.6551377942985472, -0.542106532007221, 0.0009897898929007354, 1.025732698451324, 1.0917364537662415, -0.06579851584724807, 1.8484432768417098, -0.3399947465039237, -0.6562755405065582, 0.9859146265234778, 0.9181428936696494, 0.560453175862377, 0.6173219524497757, -0.4176234372666162, -0.08616974832048305, -0.006352829478318503, 0.5136507964107583, 0.15464554983258477, -0.4030269739726689, 0.3296061099699754, -0.4648081650700848, -1.1636454990471916, 0.8167962531838402, 1.3782602913496587, -0.8339337883855852, 0.866982803885244, 0.6456966292631111, -1.65519664670503, -0.34483808667429844, 1.1519480185389928, -0.42603916535007497, -1.3876296020701955, 0.438502934561104, -0.34317189887749944, -0.2582968179968848, -1.6196419672168794, -0.32586548630627404, 0.490437955843003, -0.016853814769800884, 0.5704102851277636, -0.020673325863221778, 1.4100771515518467, 0.8309463411013209, 1.3443492512121447, -1.8857520766945424, -0.09056980293285732, 0.09138694227565757, 1.3636878725062827, -0.2660602412255175, 1.646259910223738, 1.8005971402578238, -1.210293685648795, -0.4522423782105368, 0.4567476600502909, 1.3930048823179084, 0.2072223848026172, 0.6332124968747784, -1.3880857965038995, 1.987635207109135, -0.992693168002227, -0.5082269973015238, 0.4403931715663567, -1.4866772715183176, 0.6426683638879613, 0.6778864417024036, 0.2211458414525818, -0.029785991329424652, 0.6604793649030712, -1.3172685329935305, 0.061259598483134725, -0.40628739096693317, -1.0786117555871804, -2.459949891065606, 0.058595706402560455, 0.5166845977099281, 0.4436605818850999, 0.9127365293860776, -0.9936011302758352, -1.0284535043950807, 0.7193874352238564, 0.19833013706556346, 0.041628183160987306, 0.4541679834133369, -1.5602230041741998, -0.772172041615176, 0.15727133827918466, 0.780274996711184, -1.3290121829172736, -0.3476287149663292, 0.5469591287599925, -0.12694867546220384, 0.24056843026883892, -2.7646992768771086, 1.0658530548801204, 0.14202684939502938], \"xaxis\": \"x8\", \"y\": [0.39442564922170886, 1.1545382861670683, -0.3981929049509391, 1.0607053367391788, -1.0927982071594042, 0.8938581864801937, 0.10953427785913276, 1.100603769799354, -0.037145165173287524, 0.820385609335391, 0.1757448574089021, -1.4281471214410326, 1.3192507531473423, 0.591642670955045, 0.5229932990718201, 0.13605660011946183, -0.2100106055939634, -0.5700547463822505, -0.3323261428045018, 1.4377556274630496, 0.14413892892924288, 0.05300178117926253, 0.15897168480049687, -0.4642246356303038, -0.062162694238745014, -0.404997912384452, -0.7201482218638331, 2.023568952952069, -1.6214853359956733, 0.542085407732597, 0.5827569941618997, 0.3776319435990386, 0.7860509953709055, -0.5428417186393626, -0.6218017304368952, -0.01711816060498298, 0.8909241978978917, -1.1794232525669857, -0.23428574473243066, 0.6223056989779824, -0.13862316143162234, 1.3989648648043242, -1.2881252741130682, 0.7279631578004603, -0.048807113398033994, 1.0394435684890488, -3.3911593703715184, -0.524115543518746, 1.9491071278041052, 0.07942048576898976, -0.6641974846295369, -1.0352913027794661, -0.6683730021861155, -2.0801704608528366, -0.6236871291314133, 0.5545284284650903, 0.09672761646458744, -0.957367126309057, -1.3015723703851805, 0.529996087442483, 0.36037265455029355, -0.825360660875962, 1.6074276743204716, -2.125383315024735, 0.2729482690721516, 0.2648116479946539, -0.6484000338053134, -0.8529199767742717, -0.46666971985268213, -0.6044278288068219, 0.6411021729993239, 1.607115690297109, 0.642969908406056, 3.4880296066713408, 1.5160479793033188, 0.21650854966375002, 1.1058470153140674, 0.9089965059567509, -0.9594932219442222, -0.5825050989047242, -0.006558177721396607, 1.2314458312022174, -0.445862995858089, 0.32692197599067874, -0.16732624075897054, -0.06631960996464281, -0.5567444312996315, -1.2697328105510748, -0.6461202658830911, -1.6486385015803198, 0.8697462032738772, 1.071978584989495, 1.0115715290572223, 0.688291257034643, -0.4446104637134038, -1.370232127902445, 0.711851270271103, -1.4409175804017305, 0.17758469504751084, -0.3488266307639724], \"yaxis\": \"y8\"}, {\"line\": {\"color\": \"rgba(128, 128, 128, 1.0)\", \"dash\": \"solid\", \"shape\": \"linear\", \"width\": 1.3}, \"marker\": {\"size\": 2, \"symbol\": \"circle\"}, \"mode\": \"markers\", \"name\": \"C\", \"text\": \"\", \"type\": \"scatter\", \"x\": [-0.6070225586537845, -1.8638739423338426, -0.02945872276840593, -1.301291297310065, 0.48084833474018185, 0.7628548206270173, -0.28843164746247685, 0.6019043240278631, -0.8763709987921026, 1.702802294665911, 0.03894666378491089, -0.391247915748716, -0.3232684791801891, 0.5555540390983371, -0.5833873983870684, -0.0844703205455899, -0.5139830214610452, -0.9874331374104602, 1.3231224108983104, 1.3852294994314818, 0.495802931458785, 1.5044941738291178, 2.013539747855578, -0.9350456661961715, -0.07199477165247954, -0.012588234544470622, 1.0286702624831179, -0.30675308423320574, -2.0813241088469705, 0.9113534548782632, -1.1821295689927516, 0.39712861820350376, 0.32421117523347154, -1.388467161393341, -1.8196690472248764, 1.2781438676085672, 1.1244717635481953, 2.6878665336118686, -1.6109429503383526, -0.3309381064713909, 0.1012450075722931, -0.6927193028799976, -1.7779565769379178, -0.4937356719987772, -0.9214348954348198, 0.04960273216795757, -2.6493834985687386, -0.3863153542191854, -0.5203504684321614, 0.5977880177234898, 1.5935857254212724, 0.30130947631160576, -0.24209057064901562, 2.393932462989073, 0.48453201427412146, 1.1471246976281726, 1.2228406556961817, 1.0816068853591136, -0.7424208071880561, 0.7861844219733373, 0.7498272838099621, -0.025596103412613782, -0.8244905811186303, 0.6800258715624917, 0.5426539687452233, -0.3376995252397134, 0.4782136125101678, 1.61174979268537, -0.009447379791987958, 2.0385534852770575, 2.017903156882396, -0.04108963367107593, -0.37405806660701296, 1.6557536077103534, -0.9180687240107729, -1.3509762396010478, -1.3245247370933935, 0.1883981543352357, -1.007096270807894, 0.112857625621616, -0.03716265055480332, -1.3047337291461698, -1.8938223768162143, -0.05915120037142549, -0.022261006449155404, -2.2257467886082813, 0.299708338942967, -0.11551816567653965, -0.22224470630933316, 1.8203093144170124, -0.9809281853994635, 0.8258301853601936, 1.747369363537277, 0.4451763013778281, 0.8233981834134183, -0.37937479326251894, -1.4536121716892259, 1.1622792298167708, 0.2870601492366928, -1.3293818887641389], \"xaxis\": \"x9\", \"y\": [0.5786488658973388, -1.3779481177244952, 0.12365177369173536, -1.116511132468932, 0.8058094735407533, -0.40434082821277284, 1.0225385803330087, -0.6470938916080935, -0.3508677486533792, 2.5013226025963746, -1.5259835252824552, -0.9829311652920717, 0.23493446006915572, -0.9037615413233684, -1.3141707547165868, -1.5199657157915831, -0.7626795758174268, 1.6073113400335521, 0.3065045812678438, 0.7670645741240087, -0.44191752142816326, -1.3298535843393218, -1.135700295184527, 0.9297115141063347, 0.6865778093810669, 0.2906984631345525, -0.9865642416513182, 0.7390830087985069, 0.5873820481676423, -1.0539583164959976, 0.5414419704915575, -0.11185761505217436, -0.07695780645157449, -2.1646462442630616, 1.1851782283016816, -1.8572626824506342, 0.44751835654226163, 0.2377385201511963, 0.0977471498017824, -0.346706646408973, 0.3288034699452686, -0.241554375975574, 0.23406958233434508, -1.2932583043575332, -0.0753563250462829, 0.9227704330212433, -0.9932007883861261, 0.8402493065090569, -1.7071908207317257, 0.4353964002156085, 0.8810442345722524, -1.2204230274097805, 0.9178683103189221, -0.5616608195969544, -1.4997595699840784, -0.6205171225168257, 1.078060164804285, 1.0340481232295156, -0.7664258411313779, 0.6926338816275318, 1.8483024115450608, -0.9381821206856582, -0.31440988974655065, -0.5299400185069904, 0.5028693025293436, -0.697868894664978, 0.02223697002983274, 0.77557394882186, 0.8422756027790126, 1.0019480005664712, -0.7245614241946116, -0.20870645294212087, -0.11179174927504838, -0.25709999871760897, -1.202771442521758, 0.17460517244494234, -3.556830917028255, 1.959280308579902, -0.20721381467702987, -0.004113041471365491, 1.0467020240597704, -0.6563924493292402, -1.2702933876925069, -0.44861523437505996, 0.23141073624629255, 0.28912448864058354, -2.64152539481277, -0.37655621404335426, -0.9278540083113972, 0.021633252663627364, 0.4389105377440285, -0.316289308114846, -1.1468826225189952, -1.157161485137814, 0.7742523737057712, 1.0009994401994993, 0.21047062378348677, -0.4760958934500705, -0.6458907785383571, -0.35137750023636594], \"yaxis\": \"y9\"}, {\"line\": {\"color\": \"rgba(128, 128, 128, 1.0)\", \"dash\": \"solid\", \"shape\": \"linear\", \"width\": 1.3}, \"marker\": {\"size\": 2, \"symbol\": \"circle\"}, \"mode\": \"markers\", \"name\": \"C\", \"text\": \"\", \"type\": \"scatter\", \"x\": [0.39442564922170886, 1.1545382861670683, -0.3981929049509391, 1.0607053367391788, -1.0927982071594042, 0.8938581864801937, 0.10953427785913276, 1.100603769799354, -0.037145165173287524, 0.820385609335391, 0.1757448574089021, -1.4281471214410326, 1.3192507531473423, 0.591642670955045, 0.5229932990718201, 0.13605660011946183, -0.2100106055939634, -0.5700547463822505, -0.3323261428045018, 1.4377556274630496, 0.14413892892924288, 0.05300178117926253, 0.15897168480049687, -0.4642246356303038, -0.062162694238745014, -0.404997912384452, -0.7201482218638331, 2.023568952952069, -1.6214853359956733, 0.542085407732597, 0.5827569941618997, 0.3776319435990386, 0.7860509953709055, -0.5428417186393626, -0.6218017304368952, -0.01711816060498298, 0.8909241978978917, -1.1794232525669857, -0.23428574473243066, 0.6223056989779824, -0.13862316143162234, 1.3989648648043242, -1.2881252741130682, 0.7279631578004603, -0.048807113398033994, 1.0394435684890488, -3.3911593703715184, -0.524115543518746, 1.9491071278041052, 0.07942048576898976, -0.6641974846295369, -1.0352913027794661, -0.6683730021861155, -2.0801704608528366, -0.6236871291314133, 0.5545284284650903, 0.09672761646458744, -0.957367126309057, -1.3015723703851805, 0.529996087442483, 0.36037265455029355, -0.825360660875962, 1.6074276743204716, -2.125383315024735, 0.2729482690721516, 0.2648116479946539, -0.6484000338053134, -0.8529199767742717, -0.46666971985268213, -0.6044278288068219, 0.6411021729993239, 1.607115690297109, 0.642969908406056, 3.4880296066713408, 1.5160479793033188, 0.21650854966375002, 1.1058470153140674, 0.9089965059567509, -0.9594932219442222, -0.5825050989047242, -0.006558177721396607, 1.2314458312022174, -0.445862995858089, 0.32692197599067874, -0.16732624075897054, -0.06631960996464281, -0.5567444312996315, -1.2697328105510748, -0.6461202658830911, -1.6486385015803198, 0.8697462032738772, 1.071978584989495, 1.0115715290572223, 0.688291257034643, -0.4446104637134038, -1.370232127902445, 0.711851270271103, -1.4409175804017305, 0.17758469504751084, -0.3488266307639724], \"xaxis\": \"x10\", \"y\": [0.5786488658973388, -1.3779481177244952, 0.12365177369173536, -1.116511132468932, 0.8058094735407533, -0.40434082821277284, 1.0225385803330087, -0.6470938916080935, -0.3508677486533792, 2.5013226025963746, -1.5259835252824552, -0.9829311652920717, 0.23493446006915572, -0.9037615413233684, -1.3141707547165868, -1.5199657157915831, -0.7626795758174268, 1.6073113400335521, 0.3065045812678438, 0.7670645741240087, -0.44191752142816326, -1.3298535843393218, -1.135700295184527, 0.9297115141063347, 0.6865778093810669, 0.2906984631345525, -0.9865642416513182, 0.7390830087985069, 0.5873820481676423, -1.0539583164959976, 0.5414419704915575, -0.11185761505217436, -0.07695780645157449, -2.1646462442630616, 1.1851782283016816, -1.8572626824506342, 0.44751835654226163, 0.2377385201511963, 0.0977471498017824, -0.346706646408973, 0.3288034699452686, -0.241554375975574, 0.23406958233434508, -1.2932583043575332, -0.0753563250462829, 0.9227704330212433, -0.9932007883861261, 0.8402493065090569, -1.7071908207317257, 0.4353964002156085, 0.8810442345722524, -1.2204230274097805, 0.9178683103189221, -0.5616608195969544, -1.4997595699840784, -0.6205171225168257, 1.078060164804285, 1.0340481232295156, -0.7664258411313779, 0.6926338816275318, 1.8483024115450608, -0.9381821206856582, -0.31440988974655065, -0.5299400185069904, 0.5028693025293436, -0.697868894664978, 0.02223697002983274, 0.77557394882186, 0.8422756027790126, 1.0019480005664712, -0.7245614241946116, -0.20870645294212087, -0.11179174927504838, -0.25709999871760897, -1.202771442521758, 0.17460517244494234, -3.556830917028255, 1.959280308579902, -0.20721381467702987, -0.004113041471365491, 1.0467020240597704, -0.6563924493292402, -1.2702933876925069, -0.44861523437505996, 0.23141073624629255, 0.28912448864058354, -2.64152539481277, -0.37655621404335426, -0.9278540083113972, 0.021633252663627364, 0.4389105377440285, -0.316289308114846, -1.1468826225189952, -1.157161485137814, 0.7742523737057712, 1.0009994401994993, 0.21047062378348677, -0.4760958934500705, -0.6458907785383571, -0.35137750023636594], \"yaxis\": \"y10\"}, {\"histfunc\": \"count\", \"histnorm\": \"\", \"marker\": {\"color\": \"rgba(50, 171, 96, 1.0)\", \"line\": {\"color\": \"#4D5663\", \"width\": 1.3}}, \"name\": \"C\", \"nbinsx\": 10, \"opacity\": 0.8, \"orientation\": \"v\", \"type\": \"histogram\", \"x\": [0.5786488658973388, -1.3779481177244952, 0.12365177369173536, -1.116511132468932, 0.8058094735407533, -0.40434082821277284, 1.0225385803330087, -0.6470938916080935, -0.3508677486533792, 2.5013226025963746, -1.5259835252824552, -0.9829311652920717, 0.23493446006915572, -0.9037615413233684, -1.3141707547165868, -1.5199657157915831, -0.7626795758174268, 1.6073113400335521, 0.3065045812678438, 0.7670645741240087, -0.44191752142816326, -1.3298535843393218, -1.135700295184527, 0.9297115141063347, 0.6865778093810669, 0.2906984631345525, -0.9865642416513182, 0.7390830087985069, 0.5873820481676423, -1.0539583164959976, 0.5414419704915575, -0.11185761505217436, -0.07695780645157449, -2.1646462442630616, 1.1851782283016816, -1.8572626824506342, 0.44751835654226163, 0.2377385201511963, 0.0977471498017824, -0.346706646408973, 0.3288034699452686, -0.241554375975574, 0.23406958233434508, -1.2932583043575332, -0.0753563250462829, 0.9227704330212433, -0.9932007883861261, 0.8402493065090569, -1.7071908207317257, 0.4353964002156085, 0.8810442345722524, -1.2204230274097805, 0.9178683103189221, -0.5616608195969544, -1.4997595699840784, -0.6205171225168257, 1.078060164804285, 1.0340481232295156, -0.7664258411313779, 0.6926338816275318, 1.8483024115450608, -0.9381821206856582, -0.31440988974655065, -0.5299400185069904, 0.5028693025293436, -0.697868894664978, 0.02223697002983274, 0.77557394882186, 0.8422756027790126, 1.0019480005664712, -0.7245614241946116, -0.20870645294212087, -0.11179174927504838, -0.25709999871760897, -1.202771442521758, 0.17460517244494234, -3.556830917028255, 1.959280308579902, -0.20721381467702987, -0.004113041471365491, 1.0467020240597704, -0.6563924493292402, -1.2702933876925069, -0.44861523437505996, 0.23141073624629255, 0.28912448864058354, -2.64152539481277, -0.37655621404335426, -0.9278540083113972, 0.021633252663627364, 0.4389105377440285, -0.316289308114846, -1.1468826225189952, -1.157161485137814, 0.7742523737057712, 1.0009994401994993, 0.21047062378348677, -0.4760958934500705, -0.6458907785383571, -0.35137750023636594], \"xaxis\": \"x11\", \"yaxis\": \"y11\"}, {\"line\": {\"color\": \"rgba(128, 128, 128, 1.0)\", \"dash\": \"solid\", \"shape\": \"linear\", \"width\": 1.3}, \"marker\": {\"size\": 2, \"symbol\": \"circle\"}, \"mode\": \"markers\", \"name\": \"C\", \"text\": \"\", \"type\": \"scatter\", \"x\": [-0.7710707494557274, 0.9084215962844299, 0.14867156693112518, 1.091242440442385, -0.38136791739286025, 2.6551377942985472, -0.542106532007221, 0.0009897898929007354, 1.025732698451324, 1.0917364537662415, -0.06579851584724807, 1.8484432768417098, -0.3399947465039237, -0.6562755405065582, 0.9859146265234778, 0.9181428936696494, 0.560453175862377, 0.6173219524497757, -0.4176234372666162, -0.08616974832048305, -0.006352829478318503, 0.5136507964107583, 0.15464554983258477, -0.4030269739726689, 0.3296061099699754, -0.4648081650700848, -1.1636454990471916, 0.8167962531838402, 1.3782602913496587, -0.8339337883855852, 0.866982803885244, 0.6456966292631111, -1.65519664670503, -0.34483808667429844, 1.1519480185389928, -0.42603916535007497, -1.3876296020701955, 0.438502934561104, -0.34317189887749944, -0.2582968179968848, -1.6196419672168794, -0.32586548630627404, 0.490437955843003, -0.016853814769800884, 0.5704102851277636, -0.020673325863221778, 1.4100771515518467, 0.8309463411013209, 1.3443492512121447, -1.8857520766945424, -0.09056980293285732, 0.09138694227565757, 1.3636878725062827, -0.2660602412255175, 1.646259910223738, 1.8005971402578238, -1.210293685648795, -0.4522423782105368, 0.4567476600502909, 1.3930048823179084, 0.2072223848026172, 0.6332124968747784, -1.3880857965038995, 1.987635207109135, -0.992693168002227, -0.5082269973015238, 0.4403931715663567, -1.4866772715183176, 0.6426683638879613, 0.6778864417024036, 0.2211458414525818, -0.029785991329424652, 0.6604793649030712, -1.3172685329935305, 0.061259598483134725, -0.40628739096693317, -1.0786117555871804, -2.459949891065606, 0.058595706402560455, 0.5166845977099281, 0.4436605818850999, 0.9127365293860776, -0.9936011302758352, -1.0284535043950807, 0.7193874352238564, 0.19833013706556346, 0.041628183160987306, 0.4541679834133369, -1.5602230041741998, -0.772172041615176, 0.15727133827918466, 0.780274996711184, -1.3290121829172736, -0.3476287149663292, 0.5469591287599925, -0.12694867546220384, 0.24056843026883892, -2.7646992768771086, 1.0658530548801204, 0.14202684939502938], \"xaxis\": \"x12\", \"y\": [0.5786488658973388, -1.3779481177244952, 0.12365177369173536, -1.116511132468932, 0.8058094735407533, -0.40434082821277284, 1.0225385803330087, -0.6470938916080935, -0.3508677486533792, 2.5013226025963746, -1.5259835252824552, -0.9829311652920717, 0.23493446006915572, -0.9037615413233684, -1.3141707547165868, -1.5199657157915831, -0.7626795758174268, 1.6073113400335521, 0.3065045812678438, 0.7670645741240087, -0.44191752142816326, -1.3298535843393218, -1.135700295184527, 0.9297115141063347, 0.6865778093810669, 0.2906984631345525, -0.9865642416513182, 0.7390830087985069, 0.5873820481676423, -1.0539583164959976, 0.5414419704915575, -0.11185761505217436, -0.07695780645157449, -2.1646462442630616, 1.1851782283016816, -1.8572626824506342, 0.44751835654226163, 0.2377385201511963, 0.0977471498017824, -0.346706646408973, 0.3288034699452686, -0.241554375975574, 0.23406958233434508, -1.2932583043575332, -0.0753563250462829, 0.9227704330212433, -0.9932007883861261, 0.8402493065090569, -1.7071908207317257, 0.4353964002156085, 0.8810442345722524, -1.2204230274097805, 0.9178683103189221, -0.5616608195969544, -1.4997595699840784, -0.6205171225168257, 1.078060164804285, 1.0340481232295156, -0.7664258411313779, 0.6926338816275318, 1.8483024115450608, -0.9381821206856582, -0.31440988974655065, -0.5299400185069904, 0.5028693025293436, -0.697868894664978, 0.02223697002983274, 0.77557394882186, 0.8422756027790126, 1.0019480005664712, -0.7245614241946116, -0.20870645294212087, -0.11179174927504838, -0.25709999871760897, -1.202771442521758, 0.17460517244494234, -3.556830917028255, 1.959280308579902, -0.20721381467702987, -0.004113041471365491, 1.0467020240597704, -0.6563924493292402, -1.2702933876925069, -0.44861523437505996, 0.23141073624629255, 0.28912448864058354, -2.64152539481277, -0.37655621404335426, -0.9278540083113972, 0.021633252663627364, 0.4389105377440285, -0.316289308114846, -1.1468826225189952, -1.157161485137814, 0.7742523737057712, 1.0009994401994993, 0.21047062378348677, -0.4760958934500705, -0.6458907785383571, -0.35137750023636594], \"yaxis\": \"y12\"}, {\"line\": {\"color\": \"rgba(128, 128, 128, 1.0)\", \"dash\": \"solid\", \"shape\": \"linear\", \"width\": 1.3}, \"marker\": {\"size\": 2, \"symbol\": \"circle\"}, \"mode\": \"markers\", \"name\": \"D\", \"text\": \"\", \"type\": \"scatter\", \"x\": [-0.6070225586537845, -1.8638739423338426, -0.02945872276840593, -1.301291297310065, 0.48084833474018185, 0.7628548206270173, -0.28843164746247685, 0.6019043240278631, -0.8763709987921026, 1.702802294665911, 0.03894666378491089, -0.391247915748716, -0.3232684791801891, 0.5555540390983371, -0.5833873983870684, -0.0844703205455899, -0.5139830214610452, -0.9874331374104602, 1.3231224108983104, 1.3852294994314818, 0.495802931458785, 1.5044941738291178, 2.013539747855578, -0.9350456661961715, -0.07199477165247954, -0.012588234544470622, 1.0286702624831179, -0.30675308423320574, -2.0813241088469705, 0.9113534548782632, -1.1821295689927516, 0.39712861820350376, 0.32421117523347154, -1.388467161393341, -1.8196690472248764, 1.2781438676085672, 1.1244717635481953, 2.6878665336118686, -1.6109429503383526, -0.3309381064713909, 0.1012450075722931, -0.6927193028799976, -1.7779565769379178, -0.4937356719987772, -0.9214348954348198, 0.04960273216795757, -2.6493834985687386, -0.3863153542191854, -0.5203504684321614, 0.5977880177234898, 1.5935857254212724, 0.30130947631160576, -0.24209057064901562, 2.393932462989073, 0.48453201427412146, 1.1471246976281726, 1.2228406556961817, 1.0816068853591136, -0.7424208071880561, 0.7861844219733373, 0.7498272838099621, -0.025596103412613782, -0.8244905811186303, 0.6800258715624917, 0.5426539687452233, -0.3376995252397134, 0.4782136125101678, 1.61174979268537, -0.009447379791987958, 2.0385534852770575, 2.017903156882396, -0.04108963367107593, -0.37405806660701296, 1.6557536077103534, -0.9180687240107729, -1.3509762396010478, -1.3245247370933935, 0.1883981543352357, -1.007096270807894, 0.112857625621616, -0.03716265055480332, -1.3047337291461698, -1.8938223768162143, -0.05915120037142549, -0.022261006449155404, -2.2257467886082813, 0.299708338942967, -0.11551816567653965, -0.22224470630933316, 1.8203093144170124, -0.9809281853994635, 0.8258301853601936, 1.747369363537277, 0.4451763013778281, 0.8233981834134183, -0.37937479326251894, -1.4536121716892259, 1.1622792298167708, 0.2870601492366928, -1.3293818887641389], \"xaxis\": \"x13\", \"y\": [-0.7710707494557274, 0.9084215962844299, 0.14867156693112518, 1.091242440442385, -0.38136791739286025, 2.6551377942985472, -0.542106532007221, 0.0009897898929007354, 1.025732698451324, 1.0917364537662415, -0.06579851584724807, 1.8484432768417098, -0.3399947465039237, -0.6562755405065582, 0.9859146265234778, 0.9181428936696494, 0.560453175862377, 0.6173219524497757, -0.4176234372666162, -0.08616974832048305, -0.006352829478318503, 0.5136507964107583, 0.15464554983258477, -0.4030269739726689, 0.3296061099699754, -0.4648081650700848, -1.1636454990471916, 0.8167962531838402, 1.3782602913496587, -0.8339337883855852, 0.866982803885244, 0.6456966292631111, -1.65519664670503, -0.34483808667429844, 1.1519480185389928, -0.42603916535007497, -1.3876296020701955, 0.438502934561104, -0.34317189887749944, -0.2582968179968848, -1.6196419672168794, -0.32586548630627404, 0.490437955843003, -0.016853814769800884, 0.5704102851277636, -0.020673325863221778, 1.4100771515518467, 0.8309463411013209, 1.3443492512121447, -1.8857520766945424, -0.09056980293285732, 0.09138694227565757, 1.3636878725062827, -0.2660602412255175, 1.646259910223738, 1.8005971402578238, -1.210293685648795, -0.4522423782105368, 0.4567476600502909, 1.3930048823179084, 0.2072223848026172, 0.6332124968747784, -1.3880857965038995, 1.987635207109135, -0.992693168002227, -0.5082269973015238, 0.4403931715663567, -1.4866772715183176, 0.6426683638879613, 0.6778864417024036, 0.2211458414525818, -0.029785991329424652, 0.6604793649030712, -1.3172685329935305, 0.061259598483134725, -0.40628739096693317, -1.0786117555871804, -2.459949891065606, 0.058595706402560455, 0.5166845977099281, 0.4436605818850999, 0.9127365293860776, -0.9936011302758352, -1.0284535043950807, 0.7193874352238564, 0.19833013706556346, 0.041628183160987306, 0.4541679834133369, -1.5602230041741998, -0.772172041615176, 0.15727133827918466, 0.780274996711184, -1.3290121829172736, -0.3476287149663292, 0.5469591287599925, -0.12694867546220384, 0.24056843026883892, -2.7646992768771086, 1.0658530548801204, 0.14202684939502938], \"yaxis\": \"y13\"}, {\"line\": {\"color\": \"rgba(128, 128, 128, 1.0)\", \"dash\": \"solid\", \"shape\": \"linear\", \"width\": 1.3}, \"marker\": {\"size\": 2, \"symbol\": \"circle\"}, \"mode\": \"markers\", \"name\": \"D\", \"text\": \"\", \"type\": \"scatter\", \"x\": [0.39442564922170886, 1.1545382861670683, -0.3981929049509391, 1.0607053367391788, -1.0927982071594042, 0.8938581864801937, 0.10953427785913276, 1.100603769799354, -0.037145165173287524, 0.820385609335391, 0.1757448574089021, -1.4281471214410326, 1.3192507531473423, 0.591642670955045, 0.5229932990718201, 0.13605660011946183, -0.2100106055939634, -0.5700547463822505, -0.3323261428045018, 1.4377556274630496, 0.14413892892924288, 0.05300178117926253, 0.15897168480049687, -0.4642246356303038, -0.062162694238745014, -0.404997912384452, -0.7201482218638331, 2.023568952952069, -1.6214853359956733, 0.542085407732597, 0.5827569941618997, 0.3776319435990386, 0.7860509953709055, -0.5428417186393626, -0.6218017304368952, -0.01711816060498298, 0.8909241978978917, -1.1794232525669857, -0.23428574473243066, 0.6223056989779824, -0.13862316143162234, 1.3989648648043242, -1.2881252741130682, 0.7279631578004603, -0.048807113398033994, 1.0394435684890488, -3.3911593703715184, -0.524115543518746, 1.9491071278041052, 0.07942048576898976, -0.6641974846295369, -1.0352913027794661, -0.6683730021861155, -2.0801704608528366, -0.6236871291314133, 0.5545284284650903, 0.09672761646458744, -0.957367126309057, -1.3015723703851805, 0.529996087442483, 0.36037265455029355, -0.825360660875962, 1.6074276743204716, -2.125383315024735, 0.2729482690721516, 0.2648116479946539, -0.6484000338053134, -0.8529199767742717, -0.46666971985268213, -0.6044278288068219, 0.6411021729993239, 1.607115690297109, 0.642969908406056, 3.4880296066713408, 1.5160479793033188, 0.21650854966375002, 1.1058470153140674, 0.9089965059567509, -0.9594932219442222, -0.5825050989047242, -0.006558177721396607, 1.2314458312022174, -0.445862995858089, 0.32692197599067874, -0.16732624075897054, -0.06631960996464281, -0.5567444312996315, -1.2697328105510748, -0.6461202658830911, -1.6486385015803198, 0.8697462032738772, 1.071978584989495, 1.0115715290572223, 0.688291257034643, -0.4446104637134038, -1.370232127902445, 0.711851270271103, -1.4409175804017305, 0.17758469504751084, -0.3488266307639724], \"xaxis\": \"x14\", \"y\": [-0.7710707494557274, 0.9084215962844299, 0.14867156693112518, 1.091242440442385, -0.38136791739286025, 2.6551377942985472, -0.542106532007221, 0.0009897898929007354, 1.025732698451324, 1.0917364537662415, -0.06579851584724807, 1.8484432768417098, -0.3399947465039237, -0.6562755405065582, 0.9859146265234778, 0.9181428936696494, 0.560453175862377, 0.6173219524497757, -0.4176234372666162, -0.08616974832048305, -0.006352829478318503, 0.5136507964107583, 0.15464554983258477, -0.4030269739726689, 0.3296061099699754, -0.4648081650700848, -1.1636454990471916, 0.8167962531838402, 1.3782602913496587, -0.8339337883855852, 0.866982803885244, 0.6456966292631111, -1.65519664670503, -0.34483808667429844, 1.1519480185389928, -0.42603916535007497, -1.3876296020701955, 0.438502934561104, -0.34317189887749944, -0.2582968179968848, -1.6196419672168794, -0.32586548630627404, 0.490437955843003, -0.016853814769800884, 0.5704102851277636, -0.020673325863221778, 1.4100771515518467, 0.8309463411013209, 1.3443492512121447, -1.8857520766945424, -0.09056980293285732, 0.09138694227565757, 1.3636878725062827, -0.2660602412255175, 1.646259910223738, 1.8005971402578238, -1.210293685648795, -0.4522423782105368, 0.4567476600502909, 1.3930048823179084, 0.2072223848026172, 0.6332124968747784, -1.3880857965038995, 1.987635207109135, -0.992693168002227, -0.5082269973015238, 0.4403931715663567, -1.4866772715183176, 0.6426683638879613, 0.6778864417024036, 0.2211458414525818, -0.029785991329424652, 0.6604793649030712, -1.3172685329935305, 0.061259598483134725, -0.40628739096693317, -1.0786117555871804, -2.459949891065606, 0.058595706402560455, 0.5166845977099281, 0.4436605818850999, 0.9127365293860776, -0.9936011302758352, -1.0284535043950807, 0.7193874352238564, 0.19833013706556346, 0.041628183160987306, 0.4541679834133369, -1.5602230041741998, -0.772172041615176, 0.15727133827918466, 0.780274996711184, -1.3290121829172736, -0.3476287149663292, 0.5469591287599925, -0.12694867546220384, 0.24056843026883892, -2.7646992768771086, 1.0658530548801204, 0.14202684939502938], \"yaxis\": \"y14\"}, {\"line\": {\"color\": \"rgba(128, 128, 128, 1.0)\", \"dash\": \"solid\", \"shape\": \"linear\", \"width\": 1.3}, \"marker\": {\"size\": 2, \"symbol\": \"circle\"}, \"mode\": \"markers\", \"name\": \"D\", \"text\": \"\", \"type\": \"scatter\", \"x\": [0.5786488658973388, -1.3779481177244952, 0.12365177369173536, -1.116511132468932, 0.8058094735407533, -0.40434082821277284, 1.0225385803330087, -0.6470938916080935, -0.3508677486533792, 2.5013226025963746, -1.5259835252824552, -0.9829311652920717, 0.23493446006915572, -0.9037615413233684, -1.3141707547165868, -1.5199657157915831, -0.7626795758174268, 1.6073113400335521, 0.3065045812678438, 0.7670645741240087, -0.44191752142816326, -1.3298535843393218, -1.135700295184527, 0.9297115141063347, 0.6865778093810669, 0.2906984631345525, -0.9865642416513182, 0.7390830087985069, 0.5873820481676423, -1.0539583164959976, 0.5414419704915575, -0.11185761505217436, -0.07695780645157449, -2.1646462442630616, 1.1851782283016816, -1.8572626824506342, 0.44751835654226163, 0.2377385201511963, 0.0977471498017824, -0.346706646408973, 0.3288034699452686, -0.241554375975574, 0.23406958233434508, -1.2932583043575332, -0.0753563250462829, 0.9227704330212433, -0.9932007883861261, 0.8402493065090569, -1.7071908207317257, 0.4353964002156085, 0.8810442345722524, -1.2204230274097805, 0.9178683103189221, -0.5616608195969544, -1.4997595699840784, -0.6205171225168257, 1.078060164804285, 1.0340481232295156, -0.7664258411313779, 0.6926338816275318, 1.8483024115450608, -0.9381821206856582, -0.31440988974655065, -0.5299400185069904, 0.5028693025293436, -0.697868894664978, 0.02223697002983274, 0.77557394882186, 0.8422756027790126, 1.0019480005664712, -0.7245614241946116, -0.20870645294212087, -0.11179174927504838, -0.25709999871760897, -1.202771442521758, 0.17460517244494234, -3.556830917028255, 1.959280308579902, -0.20721381467702987, -0.004113041471365491, 1.0467020240597704, -0.6563924493292402, -1.2702933876925069, -0.44861523437505996, 0.23141073624629255, 0.28912448864058354, -2.64152539481277, -0.37655621404335426, -0.9278540083113972, 0.021633252663627364, 0.4389105377440285, -0.316289308114846, -1.1468826225189952, -1.157161485137814, 0.7742523737057712, 1.0009994401994993, 0.21047062378348677, -0.4760958934500705, -0.6458907785383571, -0.35137750023636594], \"xaxis\": \"x15\", \"y\": [-0.7710707494557274, 0.9084215962844299, 0.14867156693112518, 1.091242440442385, -0.38136791739286025, 2.6551377942985472, -0.542106532007221, 0.0009897898929007354, 1.025732698451324, 1.0917364537662415, -0.06579851584724807, 1.8484432768417098, -0.3399947465039237, -0.6562755405065582, 0.9859146265234778, 0.9181428936696494, 0.560453175862377, 0.6173219524497757, -0.4176234372666162, -0.08616974832048305, -0.006352829478318503, 0.5136507964107583, 0.15464554983258477, -0.4030269739726689, 0.3296061099699754, -0.4648081650700848, -1.1636454990471916, 0.8167962531838402, 1.3782602913496587, -0.8339337883855852, 0.866982803885244, 0.6456966292631111, -1.65519664670503, -0.34483808667429844, 1.1519480185389928, -0.42603916535007497, -1.3876296020701955, 0.438502934561104, -0.34317189887749944, -0.2582968179968848, -1.6196419672168794, -0.32586548630627404, 0.490437955843003, -0.016853814769800884, 0.5704102851277636, -0.020673325863221778, 1.4100771515518467, 0.8309463411013209, 1.3443492512121447, -1.8857520766945424, -0.09056980293285732, 0.09138694227565757, 1.3636878725062827, -0.2660602412255175, 1.646259910223738, 1.8005971402578238, -1.210293685648795, -0.4522423782105368, 0.4567476600502909, 1.3930048823179084, 0.2072223848026172, 0.6332124968747784, -1.3880857965038995, 1.987635207109135, -0.992693168002227, -0.5082269973015238, 0.4403931715663567, -1.4866772715183176, 0.6426683638879613, 0.6778864417024036, 0.2211458414525818, -0.029785991329424652, 0.6604793649030712, -1.3172685329935305, 0.061259598483134725, -0.40628739096693317, -1.0786117555871804, -2.459949891065606, 0.058595706402560455, 0.5166845977099281, 0.4436605818850999, 0.9127365293860776, -0.9936011302758352, -1.0284535043950807, 0.7193874352238564, 0.19833013706556346, 0.041628183160987306, 0.4541679834133369, -1.5602230041741998, -0.772172041615176, 0.15727133827918466, 0.780274996711184, -1.3290121829172736, -0.3476287149663292, 0.5469591287599925, -0.12694867546220384, 0.24056843026883892, -2.7646992768771086, 1.0658530548801204, 0.14202684939502938], \"yaxis\": \"y15\"}, {\"histfunc\": \"count\", \"histnorm\": \"\", \"marker\": {\"color\": \"rgba(128, 0, 128, 1.0)\", \"line\": {\"color\": \"#4D5663\", \"width\": 1.3}}, \"name\": \"D\", \"nbinsx\": 10, \"opacity\": 0.8, \"orientation\": \"v\", \"type\": \"histogram\", \"x\": [-0.7710707494557274, 0.9084215962844299, 0.14867156693112518, 1.091242440442385, -0.38136791739286025, 2.6551377942985472, -0.542106532007221, 0.0009897898929007354, 1.025732698451324, 1.0917364537662415, -0.06579851584724807, 1.8484432768417098, -0.3399947465039237, -0.6562755405065582, 0.9859146265234778, 0.9181428936696494, 0.560453175862377, 0.6173219524497757, -0.4176234372666162, -0.08616974832048305, -0.006352829478318503, 0.5136507964107583, 0.15464554983258477, -0.4030269739726689, 0.3296061099699754, -0.4648081650700848, -1.1636454990471916, 0.8167962531838402, 1.3782602913496587, -0.8339337883855852, 0.866982803885244, 0.6456966292631111, -1.65519664670503, -0.34483808667429844, 1.1519480185389928, -0.42603916535007497, -1.3876296020701955, 0.438502934561104, -0.34317189887749944, -0.2582968179968848, -1.6196419672168794, -0.32586548630627404, 0.490437955843003, -0.016853814769800884, 0.5704102851277636, -0.020673325863221778, 1.4100771515518467, 0.8309463411013209, 1.3443492512121447, -1.8857520766945424, -0.09056980293285732, 0.09138694227565757, 1.3636878725062827, -0.2660602412255175, 1.646259910223738, 1.8005971402578238, -1.210293685648795, -0.4522423782105368, 0.4567476600502909, 1.3930048823179084, 0.2072223848026172, 0.6332124968747784, -1.3880857965038995, 1.987635207109135, -0.992693168002227, -0.5082269973015238, 0.4403931715663567, -1.4866772715183176, 0.6426683638879613, 0.6778864417024036, 0.2211458414525818, -0.029785991329424652, 0.6604793649030712, -1.3172685329935305, 0.061259598483134725, -0.40628739096693317, -1.0786117555871804, -2.459949891065606, 0.058595706402560455, 0.5166845977099281, 0.4436605818850999, 0.9127365293860776, -0.9936011302758352, -1.0284535043950807, 0.7193874352238564, 0.19833013706556346, 0.041628183160987306, 0.4541679834133369, -1.5602230041741998, -0.772172041615176, 0.15727133827918466, 0.780274996711184, -1.3290121829172736, -0.3476287149663292, 0.5469591287599925, -0.12694867546220384, 0.24056843026883892, -2.7646992768771086, 1.0658530548801204, 0.14202684939502938], \"xaxis\": \"x16\", \"yaxis\": \"y16\"}],\n",
       "                        {\"bargap\": 0.02, \"legend\": {\"bgcolor\": \"#F5F6F9\", \"font\": {\"color\": \"#4D5663\"}}, \"paper_bgcolor\": \"#F5F6F9\", \"plot_bgcolor\": \"#F5F6F9\", \"showlegend\": false, \"template\": {\"data\": {\"bar\": [{\"error_x\": {\"color\": \"#2a3f5f\"}, \"error_y\": {\"color\": \"#2a3f5f\"}, \"marker\": {\"line\": {\"color\": \"#E5ECF6\", \"width\": 0.5}}, \"type\": \"bar\"}], \"barpolar\": [{\"marker\": {\"line\": {\"color\": \"#E5ECF6\", \"width\": 0.5}}, \"type\": \"barpolar\"}], \"carpet\": [{\"aaxis\": {\"endlinecolor\": \"#2a3f5f\", \"gridcolor\": \"white\", \"linecolor\": \"white\", \"minorgridcolor\": \"white\", \"startlinecolor\": \"#2a3f5f\"}, \"baxis\": {\"endlinecolor\": \"#2a3f5f\", \"gridcolor\": \"white\", \"linecolor\": \"white\", \"minorgridcolor\": \"white\", \"startlinecolor\": \"#2a3f5f\"}, \"type\": \"carpet\"}], \"choropleth\": [{\"colorbar\": {\"outlinewidth\": 0, \"ticks\": \"\"}, \"type\": \"choropleth\"}], \"contour\": [{\"colorbar\": {\"outlinewidth\": 0, \"ticks\": \"\"}, \"colorscale\": [[0.0, \"#0d0887\"], [0.1111111111111111, \"#46039f\"], [0.2222222222222222, \"#7201a8\"], [0.3333333333333333, \"#9c179e\"], [0.4444444444444444, \"#bd3786\"], [0.5555555555555556, \"#d8576b\"], [0.6666666666666666, \"#ed7953\"], [0.7777777777777778, \"#fb9f3a\"], [0.8888888888888888, \"#fdca26\"], [1.0, \"#f0f921\"]], \"type\": \"contour\"}], \"contourcarpet\": [{\"colorbar\": {\"outlinewidth\": 0, \"ticks\": \"\"}, \"type\": \"contourcarpet\"}], \"heatmap\": [{\"colorbar\": {\"outlinewidth\": 0, \"ticks\": \"\"}, \"colorscale\": [[0.0, \"#0d0887\"], [0.1111111111111111, \"#46039f\"], [0.2222222222222222, \"#7201a8\"], [0.3333333333333333, \"#9c179e\"], [0.4444444444444444, \"#bd3786\"], [0.5555555555555556, \"#d8576b\"], [0.6666666666666666, \"#ed7953\"], [0.7777777777777778, \"#fb9f3a\"], [0.8888888888888888, \"#fdca26\"], [1.0, \"#f0f921\"]], \"type\": \"heatmap\"}], \"heatmapgl\": [{\"colorbar\": {\"outlinewidth\": 0, \"ticks\": \"\"}, \"colorscale\": [[0.0, \"#0d0887\"], [0.1111111111111111, \"#46039f\"], [0.2222222222222222, \"#7201a8\"], [0.3333333333333333, \"#9c179e\"], [0.4444444444444444, \"#bd3786\"], [0.5555555555555556, \"#d8576b\"], [0.6666666666666666, \"#ed7953\"], [0.7777777777777778, \"#fb9f3a\"], [0.8888888888888888, \"#fdca26\"], [1.0, \"#f0f921\"]], \"type\": \"heatmapgl\"}], \"histogram\": [{\"marker\": {\"colorbar\": {\"outlinewidth\": 0, \"ticks\": \"\"}}, \"type\": \"histogram\"}], \"histogram2d\": [{\"colorbar\": {\"outlinewidth\": 0, \"ticks\": \"\"}, \"colorscale\": [[0.0, \"#0d0887\"], [0.1111111111111111, \"#46039f\"], [0.2222222222222222, \"#7201a8\"], [0.3333333333333333, \"#9c179e\"], [0.4444444444444444, \"#bd3786\"], [0.5555555555555556, \"#d8576b\"], [0.6666666666666666, \"#ed7953\"], [0.7777777777777778, \"#fb9f3a\"], [0.8888888888888888, \"#fdca26\"], [1.0, \"#f0f921\"]], \"type\": \"histogram2d\"}], \"histogram2dcontour\": [{\"colorbar\": {\"outlinewidth\": 0, \"ticks\": \"\"}, \"colorscale\": [[0.0, \"#0d0887\"], [0.1111111111111111, \"#46039f\"], [0.2222222222222222, \"#7201a8\"], [0.3333333333333333, \"#9c179e\"], [0.4444444444444444, \"#bd3786\"], [0.5555555555555556, \"#d8576b\"], [0.6666666666666666, \"#ed7953\"], [0.7777777777777778, \"#fb9f3a\"], [0.8888888888888888, \"#fdca26\"], [1.0, \"#f0f921\"]], \"type\": \"histogram2dcontour\"}], \"mesh3d\": [{\"colorbar\": {\"outlinewidth\": 0, \"ticks\": \"\"}, \"type\": \"mesh3d\"}], \"parcoords\": [{\"line\": {\"colorbar\": {\"outlinewidth\": 0, \"ticks\": \"\"}}, \"type\": \"parcoords\"}], \"pie\": [{\"automargin\": true, \"type\": \"pie\"}], \"scatter\": [{\"marker\": {\"colorbar\": {\"outlinewidth\": 0, \"ticks\": \"\"}}, \"type\": \"scatter\"}], \"scatter3d\": [{\"line\": {\"colorbar\": {\"outlinewidth\": 0, \"ticks\": \"\"}}, \"marker\": {\"colorbar\": {\"outlinewidth\": 0, \"ticks\": \"\"}}, \"type\": \"scatter3d\"}], \"scattercarpet\": [{\"marker\": {\"colorbar\": {\"outlinewidth\": 0, \"ticks\": \"\"}}, \"type\": \"scattercarpet\"}], \"scattergeo\": [{\"marker\": {\"colorbar\": {\"outlinewidth\": 0, \"ticks\": \"\"}}, \"type\": \"scattergeo\"}], \"scattergl\": [{\"marker\": {\"colorbar\": {\"outlinewidth\": 0, \"ticks\": \"\"}}, \"type\": \"scattergl\"}], \"scattermapbox\": [{\"marker\": {\"colorbar\": {\"outlinewidth\": 0, \"ticks\": \"\"}}, \"type\": \"scattermapbox\"}], \"scatterpolar\": [{\"marker\": {\"colorbar\": {\"outlinewidth\": 0, \"ticks\": \"\"}}, \"type\": \"scatterpolar\"}], \"scatterpolargl\": [{\"marker\": {\"colorbar\": {\"outlinewidth\": 0, \"ticks\": \"\"}}, \"type\": \"scatterpolargl\"}], \"scatterternary\": [{\"marker\": {\"colorbar\": {\"outlinewidth\": 0, \"ticks\": \"\"}}, \"type\": \"scatterternary\"}], \"surface\": [{\"colorbar\": {\"outlinewidth\": 0, \"ticks\": \"\"}, \"colorscale\": [[0.0, \"#0d0887\"], [0.1111111111111111, \"#46039f\"], [0.2222222222222222, \"#7201a8\"], [0.3333333333333333, \"#9c179e\"], [0.4444444444444444, \"#bd3786\"], [0.5555555555555556, \"#d8576b\"], [0.6666666666666666, \"#ed7953\"], [0.7777777777777778, \"#fb9f3a\"], [0.8888888888888888, \"#fdca26\"], [1.0, \"#f0f921\"]], \"type\": \"surface\"}], \"table\": [{\"cells\": {\"fill\": {\"color\": \"#EBF0F8\"}, \"line\": {\"color\": \"white\"}}, \"header\": {\"fill\": {\"color\": \"#C8D4E3\"}, \"line\": {\"color\": \"white\"}}, \"type\": \"table\"}]}, \"layout\": {\"annotationdefaults\": {\"arrowcolor\": \"#2a3f5f\", \"arrowhead\": 0, \"arrowwidth\": 1}, \"coloraxis\": {\"colorbar\": {\"outlinewidth\": 0, \"ticks\": \"\"}}, \"colorscale\": {\"diverging\": [[0, \"#8e0152\"], [0.1, \"#c51b7d\"], [0.2, \"#de77ae\"], [0.3, \"#f1b6da\"], [0.4, \"#fde0ef\"], [0.5, \"#f7f7f7\"], [0.6, \"#e6f5d0\"], [0.7, \"#b8e186\"], [0.8, \"#7fbc41\"], [0.9, \"#4d9221\"], [1, \"#276419\"]], \"sequential\": [[0.0, \"#0d0887\"], [0.1111111111111111, \"#46039f\"], [0.2222222222222222, \"#7201a8\"], [0.3333333333333333, \"#9c179e\"], [0.4444444444444444, \"#bd3786\"], [0.5555555555555556, \"#d8576b\"], [0.6666666666666666, \"#ed7953\"], [0.7777777777777778, \"#fb9f3a\"], [0.8888888888888888, \"#fdca26\"], [1.0, \"#f0f921\"]], \"sequentialminus\": [[0.0, \"#0d0887\"], [0.1111111111111111, \"#46039f\"], [0.2222222222222222, \"#7201a8\"], [0.3333333333333333, \"#9c179e\"], [0.4444444444444444, \"#bd3786\"], [0.5555555555555556, \"#d8576b\"], [0.6666666666666666, \"#ed7953\"], [0.7777777777777778, \"#fb9f3a\"], [0.8888888888888888, \"#fdca26\"], [1.0, \"#f0f921\"]]}, \"colorway\": [\"#636efa\", \"#EF553B\", \"#00cc96\", \"#ab63fa\", \"#FFA15A\", \"#19d3f3\", \"#FF6692\", \"#B6E880\", \"#FF97FF\", \"#FECB52\"], \"font\": {\"color\": \"#2a3f5f\"}, \"geo\": {\"bgcolor\": \"white\", \"lakecolor\": \"white\", \"landcolor\": \"#E5ECF6\", \"showlakes\": true, \"showland\": true, \"subunitcolor\": \"white\"}, \"hoverlabel\": {\"align\": \"left\"}, \"hovermode\": \"closest\", \"mapbox\": {\"style\": \"light\"}, \"paper_bgcolor\": \"white\", \"plot_bgcolor\": \"#E5ECF6\", \"polar\": {\"angularaxis\": {\"gridcolor\": \"white\", \"linecolor\": \"white\", \"ticks\": \"\"}, \"bgcolor\": \"#E5ECF6\", \"radialaxis\": {\"gridcolor\": \"white\", \"linecolor\": \"white\", \"ticks\": \"\"}}, \"scene\": {\"xaxis\": {\"backgroundcolor\": \"#E5ECF6\", \"gridcolor\": \"white\", \"gridwidth\": 2, \"linecolor\": \"white\", \"showbackground\": true, \"ticks\": \"\", \"zerolinecolor\": \"white\"}, \"yaxis\": {\"backgroundcolor\": \"#E5ECF6\", \"gridcolor\": \"white\", \"gridwidth\": 2, \"linecolor\": \"white\", \"showbackground\": true, \"ticks\": \"\", \"zerolinecolor\": \"white\"}, \"zaxis\": {\"backgroundcolor\": \"#E5ECF6\", \"gridcolor\": \"white\", \"gridwidth\": 2, \"linecolor\": \"white\", \"showbackground\": true, \"ticks\": \"\", \"zerolinecolor\": \"white\"}}, \"shapedefaults\": {\"line\": {\"color\": \"#2a3f5f\"}}, \"ternary\": {\"aaxis\": {\"gridcolor\": \"white\", \"linecolor\": \"white\", \"ticks\": \"\"}, \"baxis\": {\"gridcolor\": \"white\", \"linecolor\": \"white\", \"ticks\": \"\"}, \"bgcolor\": \"#E5ECF6\", \"caxis\": {\"gridcolor\": \"white\", \"linecolor\": \"white\", \"ticks\": \"\"}}, \"title\": {\"x\": 0.05}, \"xaxis\": {\"automargin\": true, \"gridcolor\": \"white\", \"linecolor\": \"white\", \"ticks\": \"\", \"title\": {\"standoff\": 15}, \"zerolinecolor\": \"white\", \"zerolinewidth\": 2}, \"yaxis\": {\"automargin\": true, \"gridcolor\": \"white\", \"linecolor\": \"white\", \"ticks\": \"\", \"title\": {\"standoff\": 15}, \"zerolinecolor\": \"white\", \"zerolinewidth\": 2}}}, \"title\": {\"font\": {\"color\": \"#4D5663\"}}, \"xaxis\": {\"anchor\": \"y\", \"domain\": [0.0, 0.2125], \"gridcolor\": \"#E1E5ED\", \"showgrid\": false, \"tickfont\": {\"color\": \"#4D5663\"}, \"title\": {\"font\": {\"color\": \"#4D5663\"}, \"text\": \"\"}, \"zerolinecolor\": \"#E1E5ED\"}, \"xaxis10\": {\"anchor\": \"y10\", \"domain\": [0.2625, 0.475], \"gridcolor\": \"#E1E5ED\", \"showgrid\": false, \"tickfont\": {\"color\": \"#4D5663\"}, \"title\": {\"font\": {\"color\": \"#4D5663\"}, \"text\": \"\"}, \"zerolinecolor\": \"#E1E5ED\"}, \"xaxis11\": {\"anchor\": \"y11\", \"domain\": [0.525, 0.7375], \"gridcolor\": \"#E1E5ED\", \"showgrid\": false, \"tickfont\": {\"color\": \"#4D5663\"}, \"title\": {\"font\": {\"color\": \"#4D5663\"}, \"text\": \"\"}, \"zerolinecolor\": \"#E1E5ED\"}, \"xaxis12\": {\"anchor\": \"y12\", \"domain\": [0.7875, 1.0], \"gridcolor\": \"#E1E5ED\", \"showgrid\": false, \"tickfont\": {\"color\": \"#4D5663\"}, \"title\": {\"font\": {\"color\": \"#4D5663\"}, \"text\": \"\"}, \"zerolinecolor\": \"#E1E5ED\"}, \"xaxis13\": {\"anchor\": \"y13\", \"domain\": [0.0, 0.2125], \"gridcolor\": \"#E1E5ED\", \"showgrid\": false, \"tickfont\": {\"color\": \"#4D5663\"}, \"title\": {\"font\": {\"color\": \"#4D5663\"}, \"text\": \"\"}, \"zerolinecolor\": \"#E1E5ED\"}, \"xaxis14\": {\"anchor\": \"y14\", \"domain\": [0.2625, 0.475], \"gridcolor\": \"#E1E5ED\", \"showgrid\": false, \"tickfont\": {\"color\": \"#4D5663\"}, \"title\": {\"font\": {\"color\": \"#4D5663\"}, \"text\": \"\"}, \"zerolinecolor\": \"#E1E5ED\"}, \"xaxis15\": {\"anchor\": \"y15\", \"domain\": [0.525, 0.7375], \"gridcolor\": \"#E1E5ED\", \"showgrid\": false, \"tickfont\": {\"color\": \"#4D5663\"}, \"title\": {\"font\": {\"color\": \"#4D5663\"}, \"text\": \"\"}, \"zerolinecolor\": \"#E1E5ED\"}, \"xaxis16\": {\"anchor\": \"y16\", \"domain\": [0.7875, 1.0], \"gridcolor\": \"#E1E5ED\", \"showgrid\": false, \"tickfont\": {\"color\": \"#4D5663\"}, \"title\": {\"font\": {\"color\": \"#4D5663\"}, \"text\": \"\"}, \"zerolinecolor\": \"#E1E5ED\"}, \"xaxis2\": {\"anchor\": \"y2\", \"domain\": [0.2625, 0.475], \"gridcolor\": \"#E1E5ED\", \"showgrid\": false, \"tickfont\": {\"color\": \"#4D5663\"}, \"title\": {\"font\": {\"color\": \"#4D5663\"}, \"text\": \"\"}, \"zerolinecolor\": \"#E1E5ED\"}, \"xaxis3\": {\"anchor\": \"y3\", \"domain\": [0.525, 0.7375], \"gridcolor\": \"#E1E5ED\", \"showgrid\": false, \"tickfont\": {\"color\": \"#4D5663\"}, \"title\": {\"font\": {\"color\": \"#4D5663\"}, \"text\": \"\"}, \"zerolinecolor\": \"#E1E5ED\"}, \"xaxis4\": {\"anchor\": \"y4\", \"domain\": [0.7875, 1.0], \"gridcolor\": \"#E1E5ED\", \"showgrid\": false, \"tickfont\": {\"color\": \"#4D5663\"}, \"title\": {\"font\": {\"color\": \"#4D5663\"}, \"text\": \"\"}, \"zerolinecolor\": \"#E1E5ED\"}, \"xaxis5\": {\"anchor\": \"y5\", \"domain\": [0.0, 0.2125], \"gridcolor\": \"#E1E5ED\", \"showgrid\": false, \"tickfont\": {\"color\": \"#4D5663\"}, \"title\": {\"font\": {\"color\": \"#4D5663\"}, \"text\": \"\"}, \"zerolinecolor\": \"#E1E5ED\"}, \"xaxis6\": {\"anchor\": \"y6\", \"domain\": [0.2625, 0.475], \"gridcolor\": \"#E1E5ED\", \"showgrid\": false, \"tickfont\": {\"color\": \"#4D5663\"}, \"title\": {\"font\": {\"color\": \"#4D5663\"}, \"text\": \"\"}, \"zerolinecolor\": \"#E1E5ED\"}, \"xaxis7\": {\"anchor\": \"y7\", \"domain\": [0.525, 0.7375], \"gridcolor\": \"#E1E5ED\", \"showgrid\": false, \"tickfont\": {\"color\": \"#4D5663\"}, \"title\": {\"font\": {\"color\": \"#4D5663\"}, \"text\": \"\"}, \"zerolinecolor\": \"#E1E5ED\"}, \"xaxis8\": {\"anchor\": \"y8\", \"domain\": [0.7875, 1.0], \"gridcolor\": \"#E1E5ED\", \"showgrid\": false, \"tickfont\": {\"color\": \"#4D5663\"}, \"title\": {\"font\": {\"color\": \"#4D5663\"}, \"text\": \"\"}, \"zerolinecolor\": \"#E1E5ED\"}, \"xaxis9\": {\"anchor\": \"y9\", \"domain\": [0.0, 0.2125], \"gridcolor\": \"#E1E5ED\", \"showgrid\": false, \"tickfont\": {\"color\": \"#4D5663\"}, \"title\": {\"font\": {\"color\": \"#4D5663\"}, \"text\": \"\"}, \"zerolinecolor\": \"#E1E5ED\"}, \"yaxis\": {\"anchor\": \"x\", \"domain\": [0.8025, 1.0], \"gridcolor\": \"#E1E5ED\", \"showgrid\": false, \"tickfont\": {\"color\": \"#4D5663\"}, \"title\": {\"font\": {\"color\": \"#4D5663\"}, \"text\": \"\"}, \"zerolinecolor\": \"#E1E5ED\"}, \"yaxis10\": {\"anchor\": \"x10\", \"domain\": [0.2675, 0.465], \"gridcolor\": \"#E1E5ED\", \"showgrid\": false, \"tickfont\": {\"color\": \"#4D5663\"}, \"title\": {\"font\": {\"color\": \"#4D5663\"}, \"text\": \"\"}, \"zerolinecolor\": \"#E1E5ED\"}, \"yaxis11\": {\"anchor\": \"x11\", \"domain\": [0.2675, 0.465], \"gridcolor\": \"#E1E5ED\", \"showgrid\": false, \"tickfont\": {\"color\": \"#4D5663\"}, \"title\": {\"font\": {\"color\": \"#4D5663\"}, \"text\": \"\"}, \"zerolinecolor\": \"#E1E5ED\"}, \"yaxis12\": {\"anchor\": \"x12\", \"domain\": [0.2675, 0.465], \"gridcolor\": \"#E1E5ED\", \"showgrid\": false, \"tickfont\": {\"color\": \"#4D5663\"}, \"title\": {\"font\": {\"color\": \"#4D5663\"}, \"text\": \"\"}, \"zerolinecolor\": \"#E1E5ED\"}, \"yaxis13\": {\"anchor\": \"x13\", \"domain\": [0.0, 0.1975], \"gridcolor\": \"#E1E5ED\", \"showgrid\": false, \"tickfont\": {\"color\": \"#4D5663\"}, \"title\": {\"font\": {\"color\": \"#4D5663\"}, \"text\": \"\"}, \"zerolinecolor\": \"#E1E5ED\"}, \"yaxis14\": {\"anchor\": \"x14\", \"domain\": [0.0, 0.1975], \"gridcolor\": \"#E1E5ED\", \"showgrid\": false, \"tickfont\": {\"color\": \"#4D5663\"}, \"title\": {\"font\": {\"color\": \"#4D5663\"}, \"text\": \"\"}, \"zerolinecolor\": \"#E1E5ED\"}, \"yaxis15\": {\"anchor\": \"x15\", \"domain\": [0.0, 0.1975], \"gridcolor\": \"#E1E5ED\", \"showgrid\": false, \"tickfont\": {\"color\": \"#4D5663\"}, \"title\": {\"font\": {\"color\": \"#4D5663\"}, \"text\": \"\"}, \"zerolinecolor\": \"#E1E5ED\"}, \"yaxis16\": {\"anchor\": \"x16\", \"domain\": [0.0, 0.1975], \"gridcolor\": \"#E1E5ED\", \"showgrid\": false, \"tickfont\": {\"color\": \"#4D5663\"}, \"title\": {\"font\": {\"color\": \"#4D5663\"}, \"text\": \"\"}, \"zerolinecolor\": \"#E1E5ED\"}, \"yaxis2\": {\"anchor\": \"x2\", \"domain\": [0.8025, 1.0], \"gridcolor\": \"#E1E5ED\", \"showgrid\": false, \"tickfont\": {\"color\": \"#4D5663\"}, \"title\": {\"font\": {\"color\": \"#4D5663\"}, \"text\": \"\"}, \"zerolinecolor\": \"#E1E5ED\"}, \"yaxis3\": {\"anchor\": \"x3\", \"domain\": [0.8025, 1.0], \"gridcolor\": \"#E1E5ED\", \"showgrid\": false, \"tickfont\": {\"color\": \"#4D5663\"}, \"title\": {\"font\": {\"color\": \"#4D5663\"}, \"text\": \"\"}, \"zerolinecolor\": \"#E1E5ED\"}, \"yaxis4\": {\"anchor\": \"x4\", \"domain\": [0.8025, 1.0], \"gridcolor\": \"#E1E5ED\", \"showgrid\": false, \"tickfont\": {\"color\": \"#4D5663\"}, \"title\": {\"font\": {\"color\": \"#4D5663\"}, \"text\": \"\"}, \"zerolinecolor\": \"#E1E5ED\"}, \"yaxis5\": {\"anchor\": \"x5\", \"domain\": [0.535, 0.7325], \"gridcolor\": \"#E1E5ED\", \"showgrid\": false, \"tickfont\": {\"color\": \"#4D5663\"}, \"title\": {\"font\": {\"color\": \"#4D5663\"}, \"text\": \"\"}, \"zerolinecolor\": \"#E1E5ED\"}, \"yaxis6\": {\"anchor\": \"x6\", \"domain\": [0.535, 0.7325], \"gridcolor\": \"#E1E5ED\", \"showgrid\": false, \"tickfont\": {\"color\": \"#4D5663\"}, \"title\": {\"font\": {\"color\": \"#4D5663\"}, \"text\": \"\"}, \"zerolinecolor\": \"#E1E5ED\"}, \"yaxis7\": {\"anchor\": \"x7\", \"domain\": [0.535, 0.7325], \"gridcolor\": \"#E1E5ED\", \"showgrid\": false, \"tickfont\": {\"color\": \"#4D5663\"}, \"title\": {\"font\": {\"color\": \"#4D5663\"}, \"text\": \"\"}, \"zerolinecolor\": \"#E1E5ED\"}, \"yaxis8\": {\"anchor\": \"x8\", \"domain\": [0.535, 0.7325], \"gridcolor\": \"#E1E5ED\", \"showgrid\": false, \"tickfont\": {\"color\": \"#4D5663\"}, \"title\": {\"font\": {\"color\": \"#4D5663\"}, \"text\": \"\"}, \"zerolinecolor\": \"#E1E5ED\"}, \"yaxis9\": {\"anchor\": \"x9\", \"domain\": [0.2675, 0.465], \"gridcolor\": \"#E1E5ED\", \"showgrid\": false, \"tickfont\": {\"color\": \"#4D5663\"}, \"title\": {\"font\": {\"color\": \"#4D5663\"}, \"text\": \"\"}, \"zerolinecolor\": \"#E1E5ED\"}},\n",
       "                        {\"showLink\": true, \"linkText\": \"Export to plot.ly\", \"plotlyServerURL\": \"https://plot.ly\", \"responsive\": true}\n",
       "                    ).then(function(){\n",
       "                            \n",
       "var gd = document.getElementById('b449f026-cd19-4fd0-9fa6-a2178c0549fd');\n",
       "var x = new MutationObserver(function (mutations, observer) {{\n",
       "        var display = window.getComputedStyle(gd).display;\n",
       "        if (!display || display === 'none') {{\n",
       "            console.log([gd, 'removed!']);\n",
       "            Plotly.purge(gd);\n",
       "            observer.disconnect();\n",
       "        }}\n",
       "}});\n",
       "\n",
       "// Listen for the removal of the full notebook cells\n",
       "var notebookContainer = gd.closest('#notebook-container');\n",
       "if (notebookContainer) {{\n",
       "    x.observe(notebookContainer, {childList: true});\n",
       "}}\n",
       "\n",
       "// Listen for the clearing of the current output cell\n",
       "var outputEl = gd.closest('.output');\n",
       "if (outputEl) {{\n",
       "    x.observe(outputEl, {childList: true});\n",
       "}}\n",
       "\n",
       "                        })\n",
       "                };\n",
       "                });\n",
       "            </script>\n",
       "        </div>"
      ]
     },
     "metadata": {},
     "output_type": "display_data"
    }
   ],
   "source": [
    "df.scatter_matrix()"
   ]
  },
  {
   "cell_type": "code",
   "execution_count": 54,
   "metadata": {},
   "outputs": [],
   "source": [
    "# More information found here\n",
    "# https://github.com/santosjorge/cufflinks"
   ]
  },
  {
   "cell_type": "code",
   "execution_count": null,
   "metadata": {},
   "outputs": [],
   "source": []
  }
 ],
 "metadata": {
  "kernelspec": {
   "display_name": "Python 3",
   "language": "python",
   "name": "python3"
  },
  "language_info": {
   "codemirror_mode": {
    "name": "ipython",
    "version": 3
   },
   "file_extension": ".py",
   "mimetype": "text/x-python",
   "name": "python",
   "nbconvert_exporter": "python",
   "pygments_lexer": "ipython3",
   "version": "3.7.4"
  }
 },
 "nbformat": 4,
 "nbformat_minor": 2
}
