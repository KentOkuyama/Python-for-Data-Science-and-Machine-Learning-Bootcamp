{
 "cells": [
  {
   "cell_type": "markdown",
   "metadata": {},
   "source": [
    "<a href=\"https://www.pieriandata.com\"><img src=\"../Pierian_Data_Logo.PNG\"></a>\n",
    "<strong><center>Copyright by Pierian Data Inc.</center></strong> \n",
    "<strong><center>Created by Jose Marcial Portilla.</center></strong>"
   ]
  },
  {
   "cell_type": "markdown",
   "metadata": {},
   "source": [
    "# Tensorboard\n",
    "\n",
    "---\n",
    "---\n",
    "\n",
    "**NOTE: You must watch the corresponding video to understand this lecture. This notebook can't serve as a full guide. Please watch the video BEFORE posting questions to the QA forum.**\n",
    "\n",
    "---\n",
    "---\n",
    "\n",
    "Let's explore the built in data visualization capabilities that come with Tensorboard.\n",
    "\n",
    "Full official tutorial available here: https://www.tensorflow.org/tensorboard/get_started\n",
    "\n",
    "## Data"
   ]
  },
  {
   "cell_type": "code",
   "execution_count": 132,
   "metadata": {},
   "outputs": [],
   "source": [
    "import pandas as pd\n",
    "import numpy as np"
   ]
  },
  {
   "cell_type": "code",
   "execution_count": 133,
   "metadata": {},
   "outputs": [],
   "source": [
    "import codecs"
   ]
  },
  {
   "cell_type": "code",
   "execution_count": 134,
   "metadata": {},
   "outputs": [],
   "source": [
    "import codecs\n",
    "\n",
    "with codecs.open('../DATA/cancer_classification.csv', 'r', 'utf-8', 'ignore') as f:\n",
    "    df = pd.read_csv(f)"
   ]
  },
  {
   "cell_type": "markdown",
   "metadata": {},
   "source": [
    "### Train Test Split"
   ]
  },
  {
   "cell_type": "code",
   "execution_count": 135,
   "metadata": {},
   "outputs": [],
   "source": [
    "X = df.drop('benign_0__mal_1',axis=1).values\n",
    "y = df['benign_0__mal_1'].values"
   ]
  },
  {
   "cell_type": "code",
   "execution_count": 136,
   "metadata": {},
   "outputs": [],
   "source": [
    "from sklearn.model_selection import train_test_split"
   ]
  },
  {
   "cell_type": "code",
   "execution_count": 137,
   "metadata": {},
   "outputs": [],
   "source": [
    "X_train, X_test, y_train, y_test = train_test_split(X,y,test_size=0.25,random_state=101)"
   ]
  },
  {
   "cell_type": "markdown",
   "metadata": {},
   "source": [
    "\n",
    "### Scaling Data"
   ]
  },
  {
   "cell_type": "code",
   "execution_count": 138,
   "metadata": {},
   "outputs": [],
   "source": [
    "from sklearn.preprocessing import MinMaxScaler"
   ]
  },
  {
   "cell_type": "code",
   "execution_count": 139,
   "metadata": {},
   "outputs": [],
   "source": [
    "scaler = MinMaxScaler()"
   ]
  },
  {
   "cell_type": "code",
   "execution_count": 140,
   "metadata": {},
   "outputs": [
    {
     "data": {
      "text/plain": [
       "MinMaxScaler(copy=True, feature_range=(0, 1))"
      ]
     },
     "execution_count": 140,
     "metadata": {},
     "output_type": "execute_result"
    }
   ],
   "source": [
    "scaler.fit(X_train)"
   ]
  },
  {
   "cell_type": "code",
   "execution_count": 141,
   "metadata": {},
   "outputs": [],
   "source": [
    "X_train = scaler.transform(X_train)\n",
    "X_test = scaler.transform(X_test)"
   ]
  },
  {
   "cell_type": "markdown",
   "metadata": {},
   "source": [
    "## Creating the Model"
   ]
  },
  {
   "cell_type": "code",
   "execution_count": 142,
   "metadata": {},
   "outputs": [],
   "source": [
    "import tensorflow as tf\n",
    "from tensorflow.keras.models import Sequential\n",
    "from tensorflow.keras.layers import Dense, Activation,Dropout"
   ]
  },
  {
   "cell_type": "code",
   "execution_count": 143,
   "metadata": {},
   "outputs": [],
   "source": [
    "from tensorflow.keras.callbacks import EarlyStopping,TensorBoard"
   ]
  },
  {
   "cell_type": "code",
   "execution_count": 144,
   "metadata": {},
   "outputs": [],
   "source": [
    "early_stop = EarlyStopping(monitor='val_loss', mode='min', verbose=1, patience=25)"
   ]
  },
  {
   "cell_type": "code",
   "execution_count": 145,
   "metadata": {},
   "outputs": [
    {
     "data": {
      "text/plain": [
       "'C:\\\\Users\\\\okuyama\\\\Desktop\\\\Python for Data Science and Machine Learning Bootcamp\\\\Py-DS-ML-Bootcamp-master\\\\Refactored_Py_DS_ML_Bootcamp-master\\\\22-Deep Learning\\\\original\\\\TensorFlow_FILES\\\\ANNs'"
      ]
     },
     "execution_count": 145,
     "metadata": {},
     "output_type": "execute_result"
    }
   ],
   "source": [
    "pwd"
   ]
  },
  {
   "cell_type": "markdown",
   "metadata": {},
   "source": [
    "## Creating the Tensorboard Callback\n",
    "\n",
    "TensorBoard is a visualization tool provided with TensorFlow.\n",
    "\n",
    "This callback logs events for TensorBoard, including:\n",
    "* Metrics summary plots\n",
    "* Training graph visualization\n",
    "* Activation histograms\n",
    "* Sampled profiling\n",
    "\n",
    "If you have installed TensorFlow with pip, you should be able\n",
    "to launch TensorBoard from the command line:\n",
    "\n",
    "```sh\n",
    "tensorboard --logdir=path_to_your_logs\n",
    "```\n",
    "\n",
    "You can find more information about TensorBoard\n",
    "[here](https://www.tensorflow.org/tensorboard/).\n",
    "\n",
    "    Arguments:\n",
    "        log_dir: the path of the directory where to save the log files to be\n",
    "          parsed by TensorBoard.\n",
    "        histogram_freq: frequency (in epochs) at which to compute activation and\n",
    "          weight histograms for the layers of the model. If set to 0, histograms\n",
    "          won't be computed. Validation data (or split) must be specified for\n",
    "          histogram visualizations.\n",
    "        write_graph: whether to visualize the graph in TensorBoard. The log file\n",
    "          can become quite large when write_graph is set to True.\n",
    "        write_images: whether to write model weights to visualize as image in\n",
    "          TensorBoard.\n",
    "        update_freq: `'batch'` or `'epoch'` or integer. When using `'batch'`,\n",
    "          writes the losses and metrics to TensorBoard after each batch. The same\n",
    "          applies for `'epoch'`. If using an integer, let's say `1000`, the\n",
    "          callback will write the metrics and losses to TensorBoard every 1000\n",
    "          samples. Note that writing too frequently to TensorBoard can slow down\n",
    "          your training.\n",
    "        profile_batch: Profile the batch to sample compute characteristics. By\n",
    "          default, it will profile the second batch. Set profile_batch=0 to\n",
    "          disable profiling. Must run in TensorFlow eager mode.\n",
    "        embeddings_freq: frequency (in epochs) at which embedding layers will\n",
    "          be visualized. If set to 0, embeddings won't be visualized.\n",
    "       "
   ]
  },
  {
   "cell_type": "code",
   "execution_count": 146,
   "metadata": {},
   "outputs": [],
   "source": [
    "from datetime import datetime"
   ]
  },
  {
   "cell_type": "code",
   "execution_count": 165,
   "metadata": {},
   "outputs": [],
   "source": [
    "timestamp = datetime.now().strftime(\"%Y-%m-%d--%H%M\")"
   ]
  },
  {
   "cell_type": "code",
   "execution_count": 166,
   "metadata": {},
   "outputs": [],
   "source": [
    "# WINDOWS: Use \"logs\\\\fit\"\n",
    "# MACOS/LINUX: Use \"logs\\fit\"\n",
    "\n",
    "log_directory = 'logs\\\\fit_' + timestamp\n",
    "\n",
    "# OPTIONAL: ADD A TIMESTAMP FOR UNIQUE FOLDER\n",
    "# timestamp = datetime.now().strftime(\"%Y-%m-%d--%H%M\")\n",
    "# log_directory = log_directory + '\\\\' + timestamp\n",
    "\n",
    "\n",
    "board = TensorBoard(log_dir=log_directory,histogram_freq=1,\n",
    "    write_graph=True,\n",
    "    write_images=True,\n",
    "    update_freq='epoch',\n",
    "    profile_batch=2,\n",
    "    embeddings_freq=1)"
   ]
  },
  {
   "cell_type": "markdown",
   "metadata": {},
   "source": [
    "Now create the model layers:"
   ]
  },
  {
   "cell_type": "code",
   "execution_count": 167,
   "metadata": {},
   "outputs": [],
   "source": [
    "model = Sequential()\n",
    "model.add(Dense(units=30,activation='relu'))\n",
    "model.add(Dropout(0.5))\n",
    "model.add(Dense(units=15,activation='relu'))\n",
    "model.add(Dropout(0.5))\n",
    "model.add(Dense(units=1,activation='sigmoid'))\n",
    "model.compile(loss='binary_crossentropy', optimizer='adam')"
   ]
  },
  {
   "cell_type": "markdown",
   "metadata": {},
   "source": [
    "## Train the Model"
   ]
  },
  {
   "cell_type": "code",
   "execution_count": 170,
   "metadata": {},
   "outputs": [
    {
     "name": "stdout",
     "output_type": "stream",
     "text": [
      "Train on 426 samples, validate on 143 samples\n",
      "Epoch 1/600\n",
      "426/426 [==============================] - 1s 1ms/sample - loss: 0.7077 - val_loss: 0.6747\n",
      "Epoch 2/600\n",
      "426/426 [==============================] - 0s 73us/sample - loss: 0.6821 - val_loss: 0.6539\n",
      "Epoch 3/600\n",
      "426/426 [==============================] - 0s 52us/sample - loss: 0.6588 - val_loss: 0.6360\n",
      "Epoch 4/600\n",
      "426/426 [==============================] - 0s 73us/sample - loss: 0.6443 - val_loss: 0.6191\n",
      "Epoch 5/600\n",
      "426/426 [==============================] - 0s 73us/sample - loss: 0.6315 - val_loss: 0.6041\n",
      "Epoch 6/600\n",
      "426/426 [==============================] - 0s 89us/sample - loss: 0.6310 - val_loss: 0.5864\n",
      "Epoch 7/600\n",
      "426/426 [==============================] - 0s 73us/sample - loss: 0.6157 - val_loss: 0.5634\n",
      "Epoch 8/600\n",
      "426/426 [==============================] - 0s 73us/sample - loss: 0.5888 - val_loss: 0.5433\n",
      "Epoch 9/600\n",
      "426/426 [==============================] - 0s 52us/sample - loss: 0.5614 - val_loss: 0.5167\n",
      "Epoch 10/600\n",
      "426/426 [==============================] - 0s 73us/sample - loss: 0.5366 - val_loss: 0.4889\n",
      "Epoch 11/600\n",
      "426/426 [==============================] - 0s 73us/sample - loss: 0.5418 - val_loss: 0.4602\n",
      "Epoch 12/600\n",
      "426/426 [==============================] - 0s 89us/sample - loss: 0.5040 - val_loss: 0.4383\n",
      "Epoch 13/600\n",
      "426/426 [==============================] - 0s 73us/sample - loss: 0.4919 - val_loss: 0.4118\n",
      "Epoch 14/600\n",
      "426/426 [==============================] - 0s 73us/sample - loss: 0.4732 - val_loss: 0.3884\n",
      "Epoch 15/600\n",
      "426/426 [==============================] - 0s 73us/sample - loss: 0.4548 - val_loss: 0.3661\n",
      "Epoch 16/600\n",
      "426/426 [==============================] - 0s 52us/sample - loss: 0.4449 - val_loss: 0.3407\n",
      "Epoch 17/600\n",
      "426/426 [==============================] - 0s 110us/sample - loss: 0.4173 - val_loss: 0.3203\n",
      "Epoch 18/600\n",
      "426/426 [==============================] - 0s 73us/sample - loss: 0.4223 - val_loss: 0.3135\n",
      "Epoch 19/600\n",
      "426/426 [==============================] - 0s 52us/sample - loss: 0.3933 - val_loss: 0.2942\n",
      "Epoch 20/600\n",
      "426/426 [==============================] - 0s 110us/sample - loss: 0.3787 - val_loss: 0.2747\n",
      "Epoch 21/600\n",
      "426/426 [==============================] - 0s 73us/sample - loss: 0.3871 - val_loss: 0.2654\n",
      "Epoch 22/600\n",
      "426/426 [==============================] - 0s 52us/sample - loss: 0.3715 - val_loss: 0.2599\n",
      "Epoch 23/600\n",
      "426/426 [==============================] - 0s 73us/sample - loss: 0.3533 - val_loss: 0.2467\n",
      "Epoch 24/600\n",
      "426/426 [==============================] - 0s 73us/sample - loss: 0.3332 - val_loss: 0.2336\n",
      "Epoch 25/600\n",
      "426/426 [==============================] - 0s 52us/sample - loss: 0.3204 - val_loss: 0.2261\n",
      "Epoch 26/600\n",
      "426/426 [==============================] - 0s 73us/sample - loss: 0.3076 - val_loss: 0.2080\n",
      "Epoch 27/600\n",
      "426/426 [==============================] - 0s 73us/sample - loss: 0.3123 - val_loss: 0.1994\n",
      "Epoch 28/600\n",
      "426/426 [==============================] - 0s 89us/sample - loss: 0.2941 - val_loss: 0.1945\n",
      "Epoch 29/600\n",
      "426/426 [==============================] - 0s 73us/sample - loss: 0.3073 - val_loss: 0.1957\n",
      "Epoch 30/600\n",
      "426/426 [==============================] - 0s 73us/sample - loss: 0.2731 - val_loss: 0.1898\n",
      "Epoch 31/600\n",
      "426/426 [==============================] - 0s 52us/sample - loss: 0.2774 - val_loss: 0.1776\n",
      "Epoch 32/600\n",
      "426/426 [==============================] - 0s 37us/sample - loss: 0.2883 - val_loss: 0.1753\n",
      "Epoch 33/600\n",
      "426/426 [==============================] - 0s 73us/sample - loss: 0.2617 - val_loss: 0.1689\n",
      "Epoch 34/600\n",
      "426/426 [==============================] - 0s 52us/sample - loss: 0.2811 - val_loss: 0.1655\n",
      "Epoch 35/600\n",
      "426/426 [==============================] - 0s 73us/sample - loss: 0.2845 - val_loss: 0.1600\n",
      "Epoch 36/600\n",
      "426/426 [==============================] - 0s 73us/sample - loss: 0.2449 - val_loss: 0.1650\n",
      "Epoch 37/600\n",
      "426/426 [==============================] - 0s 52us/sample - loss: 0.2547 - val_loss: 0.1499\n",
      "Epoch 38/600\n",
      "426/426 [==============================] - 0s 73us/sample - loss: 0.2565 - val_loss: 0.1475\n",
      "Epoch 39/600\n",
      "426/426 [==============================] - 0s 73us/sample - loss: 0.2252 - val_loss: 0.1453\n",
      "Epoch 40/600\n",
      "426/426 [==============================] - 0s 89us/sample - loss: 0.2239 - val_loss: 0.1449\n",
      "Epoch 41/600\n",
      "426/426 [==============================] - 0s 73us/sample - loss: 0.2053 - val_loss: 0.1350\n",
      "Epoch 42/600\n",
      "426/426 [==============================] - 0s 73us/sample - loss: 0.2098 - val_loss: 0.1391\n",
      "Epoch 43/600\n",
      "426/426 [==============================] - 0s 89us/sample - loss: 0.2219 - val_loss: 0.1304\n",
      "Epoch 44/600\n",
      "426/426 [==============================] - 0s 73us/sample - loss: 0.2159 - val_loss: 0.1323\n",
      "Epoch 45/600\n",
      "426/426 [==============================] - 0s 73us/sample - loss: 0.2256 - val_loss: 0.1376\n",
      "Epoch 46/600\n",
      "426/426 [==============================] - 0s 73us/sample - loss: 0.2354 - val_loss: 0.1336\n",
      "Epoch 47/600\n",
      "426/426 [==============================] - 0s 73us/sample - loss: 0.2099 - val_loss: 0.1290\n",
      "Epoch 48/600\n",
      "426/426 [==============================] - 0s 73us/sample - loss: 0.1981 - val_loss: 0.1259\n",
      "Epoch 49/600\n",
      "426/426 [==============================] - 0s 73us/sample - loss: 0.2036 - val_loss: 0.1267\n",
      "Epoch 50/600\n",
      "426/426 [==============================] - 0s 73us/sample - loss: 0.1918 - val_loss: 0.1266\n",
      "Epoch 51/600\n",
      "426/426 [==============================] - 0s 73us/sample - loss: 0.1915 - val_loss: 0.1270\n",
      "Epoch 52/600\n",
      "426/426 [==============================] - 0s 89us/sample - loss: 0.1984 - val_loss: 0.1196\n",
      "Epoch 53/600\n",
      "426/426 [==============================] - 0s 73us/sample - loss: 0.1816 - val_loss: 0.1289\n",
      "Epoch 54/600\n",
      "426/426 [==============================] - 0s 73us/sample - loss: 0.1839 - val_loss: 0.1157\n",
      "Epoch 55/600\n",
      "426/426 [==============================] - 0s 88us/sample - loss: 0.1924 - val_loss: 0.1148\n",
      "Epoch 56/600\n",
      "426/426 [==============================] - 0s 73us/sample - loss: 0.1710 - val_loss: 0.1263\n",
      "Epoch 57/600\n",
      "426/426 [==============================] - 0s 73us/sample - loss: 0.1833 - val_loss: 0.1143\n",
      "Epoch 58/600\n",
      "426/426 [==============================] - 0s 89us/sample - loss: 0.1907 - val_loss: 0.1186\n",
      "Epoch 59/600\n",
      "426/426 [==============================] - 0s 37us/sample - loss: 0.1633 - val_loss: 0.1151\n",
      "Epoch 60/600\n",
      "426/426 [==============================] - 0s 37us/sample - loss: 0.1786 - val_loss: 0.1117\n",
      "Epoch 61/600\n",
      "426/426 [==============================] - 0s 73us/sample - loss: 0.1632 - val_loss: 0.1106\n",
      "Epoch 62/600\n",
      "426/426 [==============================] - 0s 52us/sample - loss: 0.1798 - val_loss: 0.1144\n",
      "Epoch 63/600\n",
      "426/426 [==============================] - 0s 73us/sample - loss: 0.1739 - val_loss: 0.1239\n",
      "Epoch 64/600\n",
      "426/426 [==============================] - 0s 73us/sample - loss: 0.1690 - val_loss: 0.1085\n",
      "Epoch 65/600\n",
      "426/426 [==============================] - 0s 89us/sample - loss: 0.1619 - val_loss: 0.1070\n",
      "Epoch 66/600\n",
      "426/426 [==============================] - 0s 73us/sample - loss: 0.1545 - val_loss: 0.1113\n",
      "Epoch 67/600\n",
      "426/426 [==============================] - 0s 73us/sample - loss: 0.1703 - val_loss: 0.1101\n",
      "Epoch 68/600\n",
      "426/426 [==============================] - 0s 89us/sample - loss: 0.1578 - val_loss: 0.1180\n",
      "Epoch 69/600\n",
      "426/426 [==============================] - 0s 73us/sample - loss: 0.1388 - val_loss: 0.1091\n",
      "Epoch 70/600\n",
      "426/426 [==============================] - 0s 73us/sample - loss: 0.1451 - val_loss: 0.1062\n",
      "Epoch 71/600\n",
      "426/426 [==============================] - 0s 52us/sample - loss: 0.1494 - val_loss: 0.1042\n",
      "Epoch 72/600\n",
      "426/426 [==============================] - 0s 73us/sample - loss: 0.1589 - val_loss: 0.1201\n",
      "Epoch 73/600\n",
      "426/426 [==============================] - 0s 73us/sample - loss: 0.1447 - val_loss: 0.1249\n",
      "Epoch 74/600\n",
      "426/426 [==============================] - 0s 89us/sample - loss: 0.1514 - val_loss: 0.1136\n",
      "Epoch 75/600\n",
      "426/426 [==============================] - 0s 147us/sample - loss: 0.1576 - val_loss: 0.1034\n",
      "Epoch 76/600\n",
      "426/426 [==============================] - 0s 89us/sample - loss: 0.1388 - val_loss: 0.1034\n",
      "Epoch 77/600\n",
      "426/426 [==============================] - 0s 73us/sample - loss: 0.1436 - val_loss: 0.1085\n",
      "Epoch 78/600\n"
     ]
    },
    {
     "name": "stdout",
     "output_type": "stream",
     "text": [
      "426/426 [==============================] - 0s 73us/sample - loss: 0.1364 - val_loss: 0.1056\n",
      "Epoch 79/600\n",
      "426/426 [==============================] - 0s 73us/sample - loss: 0.1332 - val_loss: 0.1022\n",
      "Epoch 80/600\n",
      "426/426 [==============================] - 0s 52us/sample - loss: 0.1305 - val_loss: 0.1023\n",
      "Epoch 81/600\n",
      "426/426 [==============================] - 0s 110us/sample - loss: 0.1217 - val_loss: 0.1144\n",
      "Epoch 82/600\n",
      "426/426 [==============================] - 0s 89us/sample - loss: 0.1263 - val_loss: 0.1085\n",
      "Epoch 83/600\n",
      "426/426 [==============================] - 0s 110us/sample - loss: 0.1403 - val_loss: 0.1073\n",
      "Epoch 84/600\n",
      "426/426 [==============================] - 0s 110us/sample - loss: 0.1236 - val_loss: 0.1040\n",
      "Epoch 85/600\n",
      "426/426 [==============================] - 0s 73us/sample - loss: 0.1410 - val_loss: 0.1078\n",
      "Epoch 86/600\n",
      "426/426 [==============================] - 0s 110us/sample - loss: 0.1184 - val_loss: 0.1020\n",
      "Epoch 87/600\n",
      "426/426 [==============================] - 0s 73us/sample - loss: 0.1169 - val_loss: 0.1115\n",
      "Epoch 88/600\n",
      "426/426 [==============================] - 0s 110us/sample - loss: 0.1276 - val_loss: 0.1146\n",
      "Epoch 89/600\n",
      "426/426 [==============================] - 0s 73us/sample - loss: 0.1139 - val_loss: 0.1043\n",
      "Epoch 90/600\n",
      "426/426 [==============================] - 0s 73us/sample - loss: 0.1140 - val_loss: 0.1012\n",
      "Epoch 91/600\n",
      "426/426 [==============================] - 0s 110us/sample - loss: 0.1210 - val_loss: 0.1106\n",
      "Epoch 92/600\n",
      "426/426 [==============================] - 0s 73us/sample - loss: 0.1347 - val_loss: 0.1184\n",
      "Epoch 93/600\n",
      "426/426 [==============================] - 0s 73us/sample - loss: 0.1195 - val_loss: 0.0994\n",
      "Epoch 94/600\n",
      "426/426 [==============================] - 0s 78us/sample - loss: 0.1428 - val_loss: 0.1030\n",
      "Epoch 95/600\n",
      "426/426 [==============================] - 0s 71us/sample - loss: 0.1128 - val_loss: 0.0994\n",
      "Epoch 96/600\n",
      "426/426 [==============================] - 0s 71us/sample - loss: 0.1141 - val_loss: 0.1024\n",
      "Epoch 97/600\n",
      "426/426 [==============================] - 0s 94us/sample - loss: 0.1219 - val_loss: 0.1015\n",
      "Epoch 98/600\n",
      "426/426 [==============================] - ETA: 0s - loss: 0.082 - 0s 70us/sample - loss: 0.1267 - val_loss: 0.1098\n",
      "Epoch 99/600\n",
      "426/426 [==============================] - 0s 93us/sample - loss: 0.1239 - val_loss: 0.1042\n",
      "Epoch 100/600\n",
      "426/426 [==============================] - 0s 70us/sample - loss: 0.1100 - val_loss: 0.1034\n",
      "Epoch 101/600\n",
      "426/426 [==============================] - 0s 95us/sample - loss: 0.1161 - val_loss: 0.1033\n",
      "Epoch 102/600\n",
      "426/426 [==============================] - 0s 94us/sample - loss: 0.1050 - val_loss: 0.0979\n",
      "Epoch 103/600\n",
      "426/426 [==============================] - 0s 76us/sample - loss: 0.1153 - val_loss: 0.1113\n",
      "Epoch 104/600\n",
      "426/426 [==============================] - 0s 89us/sample - loss: 0.1219 - val_loss: 0.1103\n",
      "Epoch 105/600\n",
      "426/426 [==============================] - 0s 94us/sample - loss: 0.1196 - val_loss: 0.1066\n",
      "Epoch 106/600\n",
      "426/426 [==============================] - 0s 71us/sample - loss: 0.1055 - val_loss: 0.1185\n",
      "Epoch 107/600\n",
      "426/426 [==============================] - 0s 94us/sample - loss: 0.1150 - val_loss: 0.0967\n",
      "Epoch 108/600\n",
      "426/426 [==============================] - 0s 93us/sample - loss: 0.1086 - val_loss: 0.0982\n",
      "Epoch 109/600\n",
      "426/426 [==============================] - 0s 117us/sample - loss: 0.1442 - val_loss: 0.0979\n",
      "Epoch 110/600\n",
      "426/426 [==============================] - 0s 71us/sample - loss: 0.1010 - val_loss: 0.1027\n",
      "Epoch 111/600\n",
      "426/426 [==============================] - 0s 94us/sample - loss: 0.1025 - val_loss: 0.1150\n",
      "Epoch 112/600\n",
      "426/426 [==============================] - 0s 70us/sample - loss: 0.1264 - val_loss: 0.1107\n",
      "Epoch 113/600\n",
      "426/426 [==============================] - 0s 94us/sample - loss: 0.1076 - val_loss: 0.1116\n",
      "Epoch 114/600\n",
      "426/426 [==============================] - 0s 71us/sample - loss: 0.1394 - val_loss: 0.1117\n",
      "Epoch 115/600\n",
      "426/426 [==============================] - 0s 70us/sample - loss: 0.1232 - val_loss: 0.1011\n",
      "Epoch 116/600\n",
      "426/426 [==============================] - 0s 94us/sample - loss: 0.1186 - val_loss: 0.1062\n",
      "Epoch 117/600\n",
      "426/426 [==============================] - 0s 70us/sample - loss: 0.1132 - val_loss: 0.1183\n",
      "Epoch 118/600\n",
      "426/426 [==============================] - 0s 71us/sample - loss: 0.0971 - val_loss: 0.1048\n",
      "Epoch 119/600\n",
      "426/426 [==============================] - 0s 71us/sample - loss: 0.1115 - val_loss: 0.0993\n",
      "Epoch 120/600\n",
      "426/426 [==============================] - 0s 94us/sample - loss: 0.1114 - val_loss: 0.1025\n",
      "Epoch 121/600\n",
      "426/426 [==============================] - 0s 94us/sample - loss: 0.1141 - val_loss: 0.1015\n",
      "Epoch 122/600\n",
      "426/426 [==============================] - 0s 71us/sample - loss: 0.1116 - val_loss: 0.1067\n",
      "Epoch 123/600\n",
      "426/426 [==============================] - 0s 93us/sample - loss: 0.1129 - val_loss: 0.1106\n",
      "Epoch 124/600\n",
      "426/426 [==============================] - 0s 70us/sample - loss: 0.1214 - val_loss: 0.1063\n",
      "Epoch 125/600\n",
      "426/426 [==============================] - 0s 94us/sample - loss: 0.1141 - val_loss: 0.1177\n",
      "Epoch 126/600\n",
      "426/426 [==============================] - 0s 71us/sample - loss: 0.1007 - val_loss: 0.1011\n",
      "Epoch 127/600\n",
      "426/426 [==============================] - 0s 70us/sample - loss: 0.0944 - val_loss: 0.1103\n",
      "Epoch 128/600\n",
      "426/426 [==============================] - 0s 70us/sample - loss: 0.1025 - val_loss: 0.1132\n",
      "Epoch 129/600\n",
      "426/426 [==============================] - 0s 71us/sample - loss: 0.1275 - val_loss: 0.1001\n",
      "Epoch 130/600\n",
      "426/426 [==============================] - 0s 94us/sample - loss: 0.0868 - val_loss: 0.0987\n",
      "Epoch 131/600\n",
      "426/426 [==============================] - 0s 94us/sample - loss: 0.0847 - val_loss: 0.1026\n",
      "Epoch 132/600\n",
      "426/426 [==============================] - 0s 70us/sample - loss: 0.1067 - val_loss: 0.1075\n",
      "Epoch 00132: early stopping\n"
     ]
    },
    {
     "data": {
      "text/plain": [
       "<tensorflow.python.keras.callbacks.History at 0x123003fb288>"
      ]
     },
     "execution_count": 170,
     "metadata": {},
     "output_type": "execute_result"
    }
   ],
   "source": [
    "model.fit(x=X_train, \n",
    "          y=y_train, \n",
    "          epochs=600,\n",
    "          validation_data=(X_test, y_test), verbose=1,\n",
    "          callbacks=[early_stop#,board\n",
    "                    ]\n",
    "          )"
   ]
  },
  {
   "cell_type": "markdown",
   "metadata": {},
   "source": [
    "# Running Tensorboard\n"
   ]
  },
  {
   "cell_type": "markdown",
   "metadata": {},
   "source": [
    "## Running through the Command Line\n",
    "\n",
    "**Watch video to see how to run Tensorboard through a command line call.**"
   ]
  },
  {
   "cell_type": "markdown",
   "metadata": {},
   "source": [
    "Tensorboard will run locally in your browser at [http://localhost:6006/](http://localhost:6006/)\n"
   ]
  },
  {
   "cell_type": "code",
   "execution_count": 171,
   "metadata": {},
   "outputs": [
    {
     "name": "stdout",
     "output_type": "stream",
     "text": [
      "logs\\fit_2020-05-04--0639\n"
     ]
    }
   ],
   "source": [
    "print(log_directory)"
   ]
  },
  {
   "cell_type": "code",
   "execution_count": 172,
   "metadata": {},
   "outputs": [
    {
     "data": {
      "text/plain": [
       "'C:\\\\Users\\\\okuyama\\\\Desktop\\\\Python for Data Science and Machine Learning Bootcamp\\\\Py-DS-ML-Bootcamp-master\\\\Refactored_Py_DS_ML_Bootcamp-master\\\\22-Deep Learning\\\\original\\\\TensorFlow_FILES\\\\ANNs'"
      ]
     },
     "execution_count": 172,
     "metadata": {},
     "output_type": "execute_result"
    }
   ],
   "source": [
    "pwd"
   ]
  },
  {
   "cell_type": "markdown",
   "metadata": {},
   "source": [
    "### Use cd at your command line to change directory to the file path reported back by pwd or your current .py file location.\n",
    "### Then run this code at your command line or terminal"
   ]
  },
  {
   "cell_type": "code",
   "execution_count": null,
   "metadata": {},
   "outputs": [],
   "source": [
    "tensorboard --logdir logs\\fit "
   ]
  }
 ],
 "metadata": {
  "kernelspec": {
   "display_name": "Python 3",
   "language": "python",
   "name": "python3"
  },
  "language_info": {
   "codemirror_mode": {
    "name": "ipython",
    "version": 3
   },
   "file_extension": ".py",
   "mimetype": "text/x-python",
   "name": "python",
   "nbconvert_exporter": "python",
   "pygments_lexer": "ipython3",
   "version": "3.7.4"
  }
 },
 "nbformat": 4,
 "nbformat_minor": 2
}
